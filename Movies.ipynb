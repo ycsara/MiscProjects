{
 "cells": [
  {
   "cell_type": "markdown",
   "id": "f85a80d2",
   "metadata": {},
   "source": [
    "# Movie Data Analysis <a id='intro'></a>"
   ]
  },
  {
   "cell_type": "markdown",
   "id": "a1262df4",
   "metadata": {},
   "source": [
    "In this project, I will work with data from the entertainment industry with records on movies and shows. The research will focus on the \"Golden Age\" of television, which began in 1999 with the release of *The Sopranos* and is still ongoing. The aim of this project is to investigate how the number of votes a title receives impacts its ratings. The assumption is that highly-rated shows (we will focus on TV shows, ignoring movies) released during the \"Golden Age\" of television also have the most votes.\n",
    "\n",
    "First, I'll evaluate the quality of the data and see whether its issues are significant. Then, during data preprocessing, I will account for the most critical problems before analyzing the movie data."
   ]
  },
  {
   "cell_type": "markdown",
   "id": "ac0593ac",
   "metadata": {},
   "source": [
    "## Initialization and Preparing Data"
   ]
  },
  {
   "cell_type": "code",
   "execution_count": 7,
   "id": "1727d3f8",
   "metadata": {},
   "outputs": [
    {
     "data": {
      "text/html": [
       "<div>\n",
       "<style scoped>\n",
       "    .dataframe tbody tr th:only-of-type {\n",
       "        vertical-align: middle;\n",
       "    }\n",
       "\n",
       "    .dataframe tbody tr th {\n",
       "        vertical-align: top;\n",
       "    }\n",
       "\n",
       "    .dataframe thead th {\n",
       "        text-align: right;\n",
       "    }\n",
       "</style>\n",
       "<table border=\"1\" class=\"dataframe\">\n",
       "  <thead>\n",
       "    <tr style=\"text-align: right;\">\n",
       "      <th></th>\n",
       "      <th>name</th>\n",
       "      <th>Character</th>\n",
       "      <th>r0le</th>\n",
       "      <th>TITLE</th>\n",
       "      <th>Type</th>\n",
       "      <th>release Year</th>\n",
       "      <th>genres</th>\n",
       "      <th>imdb sc0re</th>\n",
       "      <th>imdb v0tes</th>\n",
       "    </tr>\n",
       "  </thead>\n",
       "  <tbody>\n",
       "    <tr>\n",
       "      <th>0</th>\n",
       "      <td>Robert De Niro</td>\n",
       "      <td>Travis Bickle</td>\n",
       "      <td>ACTOR</td>\n",
       "      <td>Taxi Driver</td>\n",
       "      <td>MOVIE</td>\n",
       "      <td>1976</td>\n",
       "      <td>['drama', 'crime']</td>\n",
       "      <td>8.2</td>\n",
       "      <td>808582.0</td>\n",
       "    </tr>\n",
       "    <tr>\n",
       "      <th>1</th>\n",
       "      <td>Jodie Foster</td>\n",
       "      <td>Iris Steensma</td>\n",
       "      <td>ACTOR</td>\n",
       "      <td>Taxi Driver</td>\n",
       "      <td>MOVIE</td>\n",
       "      <td>1976</td>\n",
       "      <td>['drama', 'crime']</td>\n",
       "      <td>8.2</td>\n",
       "      <td>808582.0</td>\n",
       "    </tr>\n",
       "    <tr>\n",
       "      <th>2</th>\n",
       "      <td>Albert Brooks</td>\n",
       "      <td>Tom</td>\n",
       "      <td>ACTOR</td>\n",
       "      <td>Taxi Driver</td>\n",
       "      <td>MOVIE</td>\n",
       "      <td>1976</td>\n",
       "      <td>['drama', 'crime']</td>\n",
       "      <td>8.2</td>\n",
       "      <td>808582.0</td>\n",
       "    </tr>\n",
       "    <tr>\n",
       "      <th>3</th>\n",
       "      <td>Harvey Keitel</td>\n",
       "      <td>Matthew 'Sport' Higgins</td>\n",
       "      <td>ACTOR</td>\n",
       "      <td>Taxi Driver</td>\n",
       "      <td>MOVIE</td>\n",
       "      <td>1976</td>\n",
       "      <td>['drama', 'crime']</td>\n",
       "      <td>8.2</td>\n",
       "      <td>808582.0</td>\n",
       "    </tr>\n",
       "    <tr>\n",
       "      <th>4</th>\n",
       "      <td>Cybill Shepherd</td>\n",
       "      <td>Betsy</td>\n",
       "      <td>ACTOR</td>\n",
       "      <td>Taxi Driver</td>\n",
       "      <td>MOVIE</td>\n",
       "      <td>1976</td>\n",
       "      <td>['drama', 'crime']</td>\n",
       "      <td>8.2</td>\n",
       "      <td>808582.0</td>\n",
       "    </tr>\n",
       "  </tbody>\n",
       "</table>\n",
       "</div>"
      ],
      "text/plain": [
       "              name                Character   r0le        TITLE   Type  \\\n",
       "0   Robert De Niro            Travis Bickle  ACTOR  Taxi Driver  MOVIE   \n",
       "1     Jodie Foster            Iris Steensma  ACTOR  Taxi Driver  MOVIE   \n",
       "2    Albert Brooks                      Tom  ACTOR  Taxi Driver  MOVIE   \n",
       "3    Harvey Keitel  Matthew 'Sport' Higgins  ACTOR  Taxi Driver  MOVIE   \n",
       "4  Cybill Shepherd                    Betsy  ACTOR  Taxi Driver  MOVIE   \n",
       "\n",
       "   release Year              genres  imdb sc0re  imdb v0tes  \n",
       "0          1976  ['drama', 'crime']         8.2    808582.0  \n",
       "1          1976  ['drama', 'crime']         8.2    808582.0  \n",
       "2          1976  ['drama', 'crime']         8.2    808582.0  \n",
       "3          1976  ['drama', 'crime']         8.2    808582.0  \n",
       "4          1976  ['drama', 'crime']         8.2    808582.0  "
      ]
     },
     "execution_count": 7,
     "metadata": {},
     "output_type": "execute_result"
    }
   ],
   "source": [
    "import pandas as pd # load the data\n",
    "movie = pd.read_csv('/datasets/movies_and_shows.csv'); movie.head()"
   ]
  },
  {
   "cell_type": "markdown",
   "id": "e91f62a7",
   "metadata": {},
   "source": [
    "According to the documentation:\n",
    "- `'name'` — actor/director's name and last name\n",
    "- `'Character'` — character played (for actors)\n",
    "- `'r0le '` — the person's contribution to the title (it can be in the capacity of either actor or director)\n",
    "- `'TITLE '` — title of the movie/show\n",
    "- `'  Type'` — show or movie\n",
    "- `'release Year'` — year when movie/show was released\n",
    "- `'genres'` — list of genres under which the movie/show falls\n",
    "- `'imdb sc0re'` — score on IMDb\n",
    "- `'imdb v0tes'` — votes on IMDb"
   ]
  },
  {
   "cell_type": "markdown",
   "id": "084a6d20",
   "metadata": {},
   "source": [
    "At first glance, the dataset shows inconsistencies in the column names. Some names are in uppercase while others are in lowercase, several contain whitespace, and a few column names have digit '0' instead of letter 'o'. To improve readability and usability, I will rename the columns to more appropriate and consistent names."
   ]
  },
  {
   "cell_type": "code",
   "execution_count": 24,
   "id": "23a1dc11",
   "metadata": {},
   "outputs": [],
   "source": [
    "movie = movie.rename(columns = {'   name':'name', 'Character':'character', 'r0le':'role', \n",
    "                                'TITLE':'title', 'release Year':'release_year',\n",
    "                                'imdb sc0re':'imdb_score', 'imdb v0tes':'imdb_votes', '  Type':'type'})"
   ]
  },
  {
   "cell_type": "code",
   "execution_count": 25,
   "id": "21c427f2",
   "metadata": {},
   "outputs": [
    {
     "data": {
      "text/plain": [
       "name               0\n",
       "character          0\n",
       "role               0\n",
       "title              1\n",
       "type               0\n",
       "release_year       0\n",
       "genres             0\n",
       "imdb_score      4609\n",
       "imdb_votes      4726\n",
       "dtype: int64"
      ]
     },
     "execution_count": 25,
     "metadata": {},
     "output_type": "execute_result"
    }
   ],
   "source": [
    "movie.isna().sum() # find missing values"
   ]
  },
  {
   "cell_type": "markdown",
   "id": "c8272df3",
   "metadata": {},
   "source": [
    "As shown above, there are missing values in three columns. While the missing value in `'title'` isn't critical, missing values in `'imdb_score'` and `'imdb_votes'` affect around 6% of the data, which could impact our analysis. To ensure data integrity, it is best to drop all rows with missing values."
   ]
  },
  {
   "cell_type": "code",
   "execution_count": 26,
   "id": "55c0b0ce",
   "metadata": {},
   "outputs": [
    {
     "data": {
      "text/plain": [
       "6994"
      ]
     },
     "execution_count": 26,
     "metadata": {},
     "output_type": "execute_result"
    }
   ],
   "source": [
    "movie = movie.dropna() # drop values\n",
    "movie.duplicated().sum() # check for duplicates"
   ]
  },
  {
   "cell_type": "code",
   "execution_count": 27,
   "id": "bcf32fcb",
   "metadata": {},
   "outputs": [
    {
     "data": {
      "text/html": [
       "<div>\n",
       "<style scoped>\n",
       "    .dataframe tbody tr th:only-of-type {\n",
       "        vertical-align: middle;\n",
       "    }\n",
       "\n",
       "    .dataframe tbody tr th {\n",
       "        vertical-align: top;\n",
       "    }\n",
       "\n",
       "    .dataframe thead th {\n",
       "        text-align: right;\n",
       "    }\n",
       "</style>\n",
       "<table border=\"1\" class=\"dataframe\">\n",
       "  <thead>\n",
       "    <tr style=\"text-align: right;\">\n",
       "      <th></th>\n",
       "      <th>name</th>\n",
       "      <th>Character</th>\n",
       "      <th>r0le</th>\n",
       "      <th>TITLE</th>\n",
       "      <th>Type</th>\n",
       "      <th>release Year</th>\n",
       "      <th>genres</th>\n",
       "      <th>imdb sc0re</th>\n",
       "      <th>imdb v0tes</th>\n",
       "    </tr>\n",
       "  </thead>\n",
       "  <tbody>\n",
       "    <tr>\n",
       "      <th>85569</th>\n",
       "      <td>Jessica Cediel</td>\n",
       "      <td>Liliana Navarro</td>\n",
       "      <td>ACTOR</td>\n",
       "      <td>Lokillo</td>\n",
       "      <td>MOVIE</td>\n",
       "      <td>2021</td>\n",
       "      <td>['comedy']</td>\n",
       "      <td>3.8</td>\n",
       "      <td>68.0</td>\n",
       "    </tr>\n",
       "    <tr>\n",
       "      <th>85570</th>\n",
       "      <td>Javier Gardeaz?­bal</td>\n",
       "      <td>Agust??n \"Peluca\" Ort??z</td>\n",
       "      <td>ACTOR</td>\n",
       "      <td>Lokillo</td>\n",
       "      <td>MOVIE</td>\n",
       "      <td>2021</td>\n",
       "      <td>['comedy']</td>\n",
       "      <td>3.8</td>\n",
       "      <td>68.0</td>\n",
       "    </tr>\n",
       "    <tr>\n",
       "      <th>85571</th>\n",
       "      <td>Carla Giraldo</td>\n",
       "      <td>Valery Reinoso</td>\n",
       "      <td>ACTOR</td>\n",
       "      <td>Lokillo</td>\n",
       "      <td>MOVIE</td>\n",
       "      <td>2021</td>\n",
       "      <td>['comedy']</td>\n",
       "      <td>3.8</td>\n",
       "      <td>68.0</td>\n",
       "    </tr>\n",
       "    <tr>\n",
       "      <th>85572</th>\n",
       "      <td>Ana Mar??a S?­nchez</td>\n",
       "      <td>Lourdes</td>\n",
       "      <td>ACTOR</td>\n",
       "      <td>Lokillo</td>\n",
       "      <td>MOVIE</td>\n",
       "      <td>2021</td>\n",
       "      <td>['comedy']</td>\n",
       "      <td>3.8</td>\n",
       "      <td>68.0</td>\n",
       "    </tr>\n",
       "    <tr>\n",
       "      <th>85577</th>\n",
       "      <td>Isabel Gaona</td>\n",
       "      <td>Cacica</td>\n",
       "      <td>ACTOR</td>\n",
       "      <td>Lokillo</td>\n",
       "      <td>MOVIE</td>\n",
       "      <td>2021</td>\n",
       "      <td>['comedy']</td>\n",
       "      <td>3.8</td>\n",
       "      <td>68.0</td>\n",
       "    </tr>\n",
       "  </tbody>\n",
       "</table>\n",
       "</div>"
      ],
      "text/plain": [
       "                      name                 Character   r0le    TITLE   Type  \\\n",
       "85569       Jessica Cediel           Liliana Navarro  ACTOR  Lokillo  MOVIE   \n",
       "85570  Javier Gardeaz?­bal  Agust??n \"Peluca\" Ort??z  ACTOR  Lokillo  MOVIE   \n",
       "85571        Carla Giraldo            Valery Reinoso  ACTOR  Lokillo  MOVIE   \n",
       "85572  Ana Mar??a S?­nchez                   Lourdes  ACTOR  Lokillo  MOVIE   \n",
       "85577         Isabel Gaona                    Cacica  ACTOR  Lokillo  MOVIE   \n",
       "\n",
       "       release Year      genres  imdb sc0re  imdb v0tes  \n",
       "85569          2021  ['comedy']         3.8        68.0  \n",
       "85570          2021  ['comedy']         3.8        68.0  \n",
       "85571          2021  ['comedy']         3.8        68.0  \n",
       "85572          2021  ['comedy']         3.8        68.0  \n",
       "85577          2021  ['comedy']         3.8        68.0  "
      ]
     },
     "execution_count": 27,
     "metadata": {},
     "output_type": "execute_result"
    }
   ],
   "source": [
    "df[df.duplicated()].tail() "
   ]
  },
  {
   "cell_type": "code",
   "execution_count": 28,
   "id": "724d5bc8",
   "metadata": {},
   "outputs": [],
   "source": [
    "movie = movie.drop_duplicates().reset_index() # drop duplicates"
   ]
  },
  {
   "cell_type": "markdown",
   "id": "268fcdd2",
   "metadata": {},
   "source": [
    "After checking for duplicate rows, it is evident that removing them will not distort the data."
   ]
  },
  {
   "cell_type": "code",
   "execution_count": 29,
   "id": "3d7b0ac5",
   "metadata": {},
   "outputs": [
    {
     "data": {
      "text/plain": [
       "array(['MOVIE', 'the movie', 'tv show', 'shows', 'movies', 'tv shows',\n",
       "       'tv series', 'tv', 'SHOW'], dtype=object)"
      ]
     },
     "execution_count": 29,
     "metadata": {},
     "output_type": "execute_result"
    }
   ],
   "source": [
    "# viewing unique type names\n",
    "movie['type'].unique()"
   ]
  },
  {
   "cell_type": "code",
   "execution_count": 30,
   "id": "bff944f9",
   "metadata": {},
   "outputs": [],
   "source": [
    "# function for replacing implicit duplicates\n",
    "def replace_wrong_show(wrong_shows_list, correct_shows):\n",
    "    for i in wrong_shows_list:\n",
    "        movie['type'] = movie['type'].replace(i, correct_shows)\n",
    "    return movie"
   ]
  },
  {
   "cell_type": "code",
   "execution_count": 32,
   "id": "a2217e53",
   "metadata": {},
   "outputs": [],
   "source": [
    "# removing implicit duplicates\n",
    "wrong_shows_list = ['shows', 'tv show', 'tv shows', 'tv series', 'tv']\n",
    "wrong_movies_list = ['the movie', 'movies']\n",
    "movie = replace_wrong_show(wrong_shows_list, 'SHOW')\n",
    "movie = replace_wrong_show(wrong_movies_list, 'MOVIE')"
   ]
  },
  {
   "cell_type": "code",
   "execution_count": 33,
   "id": "25d49d73",
   "metadata": {},
   "outputs": [
    {
     "data": {
      "text/plain": [
       "array(['MOVIE', 'SHOW'], dtype=object)"
      ]
     },
     "execution_count": 33,
     "metadata": {},
     "output_type": "execute_result"
    }
   ],
   "source": [
    "# viewing unique genre names\n",
    "movie['type'].unique()"
   ]
  },
  {
   "cell_type": "markdown",
   "id": "867a8c31",
   "metadata": {},
   "source": [
    "There are implicit duplicates in the `type` field, where values such as `SHOW`, `MOVIE`, and their variations (e.g., tv show, the movie) were written inconsistently. To ensure consistency and accuracy, we standardized these values by replacing all variations with their correct forms: SHOW and MOVIE."
   ]
  },
  {
   "cell_type": "code",
   "execution_count": 34,
   "id": "7bf66d2a",
   "metadata": {},
   "outputs": [
    {
     "name": "stdout",
     "output_type": "stream",
     "text": [
      "<class 'pandas.core.frame.DataFrame'>\n",
      "RangeIndex: 73859 entries, 0 to 73858\n",
      "Data columns (total 10 columns):\n",
      " #   Column        Non-Null Count  Dtype  \n",
      "---  ------        --------------  -----  \n",
      " 0   index         73859 non-null  int64  \n",
      " 1   name          73859 non-null  object \n",
      " 2   character     73859 non-null  object \n",
      " 3   role          73859 non-null  object \n",
      " 4   title         73859 non-null  object \n",
      " 5   type          73859 non-null  object \n",
      " 6   release_year  73859 non-null  int64  \n",
      " 7   genres        73859 non-null  object \n",
      " 8   imdb_score    73859 non-null  float64\n",
      " 9   imdb_votes    73859 non-null  float64\n",
      "dtypes: float64(2), int64(2), object(6)\n",
      "memory usage: 5.6+ MB\n"
     ]
    }
   ],
   "source": [
    "movie.info() # general summary/information"
   ]
  },
  {
   "cell_type": "markdown",
   "id": "4355de7b",
   "metadata": {},
   "source": [
    "After fixing the issues with incorrect header styles, missing values, and duplicate rows and implicit duples, the last step is to check the general summary, which has appropriate data types for each variable. Therefore, the data is cleaned and prepared for analysis."
   ]
  },
  {
   "cell_type": "markdown",
   "id": "1aa0f1b1",
   "metadata": {},
   "source": [
    "## Data Analysis <a id='hypotheses'></a>"
   ]
  },
  {
   "cell_type": "markdown",
   "id": "f8fb6a0e",
   "metadata": {},
   "source": [
    "To begin the analysis, I'll calculate the average amount of votes for each score (this data is available in the `imdb_score` and `imdb_votes` columns), and then check how these averages relate to each other. If the averages for shows with the highest scores are bigger than those for shows with lower scores, the assumption of movies/shows released during the \"Golden Age\" of televion having the most votes will appear to be true."
   ]
  },
  {
   "cell_type": "markdown",
   "id": "0ea2cb51",
   "metadata": {},
   "source": [
    "I will do so by filtering the dataframe and only include shows released in 1999 or later, keeping only titles published in 1999 or later in our dataframe before filtering the table to only contain shows. Additionally, for simplicity, the scores that are to be grouped will be rounded. For instance, titles with scores like 7.8, 8.1, and 8.3 will all be placed in the same bucket with a score of 8."
   ]
  },
  {
   "cell_type": "code",
   "execution_count": 39,
   "id": "54bbd5c0",
   "metadata": {},
   "outputs": [
    {
     "data": {
      "text/html": [
       "<div>\n",
       "<style scoped>\n",
       "    .dataframe tbody tr th:only-of-type {\n",
       "        vertical-align: middle;\n",
       "    }\n",
       "\n",
       "    .dataframe tbody tr th {\n",
       "        vertical-align: top;\n",
       "    }\n",
       "\n",
       "    .dataframe thead th {\n",
       "        text-align: right;\n",
       "    }\n",
       "</style>\n",
       "<table border=\"1\" class=\"dataframe\">\n",
       "  <thead>\n",
       "    <tr style=\"text-align: right;\">\n",
       "      <th></th>\n",
       "      <th>index</th>\n",
       "      <th>name</th>\n",
       "      <th>character</th>\n",
       "      <th>role</th>\n",
       "      <th>title</th>\n",
       "      <th>type</th>\n",
       "      <th>release_year</th>\n",
       "      <th>genres</th>\n",
       "      <th>imdb_score</th>\n",
       "      <th>imdb_votes</th>\n",
       "    </tr>\n",
       "  </thead>\n",
       "  <tbody>\n",
       "    <tr>\n",
       "      <th>73831</th>\n",
       "      <td>85433</td>\n",
       "      <td>Maneerat Kam-Uan</td>\n",
       "      <td>Ae</td>\n",
       "      <td>ACTOR</td>\n",
       "      <td>Let's Eat</td>\n",
       "      <td>SHOW</td>\n",
       "      <td>2021</td>\n",
       "      <td>['drama', 'comedy']</td>\n",
       "      <td>8.0</td>\n",
       "      <td>5.0</td>\n",
       "    </tr>\n",
       "    <tr>\n",
       "      <th>73832</th>\n",
       "      <td>85434</td>\n",
       "      <td>Rudklao Amratisha</td>\n",
       "      <td>unknown</td>\n",
       "      <td>ACTOR</td>\n",
       "      <td>Let's Eat</td>\n",
       "      <td>SHOW</td>\n",
       "      <td>2021</td>\n",
       "      <td>['drama', 'comedy']</td>\n",
       "      <td>8.0</td>\n",
       "      <td>5.0</td>\n",
       "    </tr>\n",
       "    <tr>\n",
       "      <th>73833</th>\n",
       "      <td>85435</td>\n",
       "      <td>Jaturong Mokjok</td>\n",
       "      <td>unknown</td>\n",
       "      <td>ACTOR</td>\n",
       "      <td>Let's Eat</td>\n",
       "      <td>SHOW</td>\n",
       "      <td>2021</td>\n",
       "      <td>['drama', 'comedy']</td>\n",
       "      <td>8.0</td>\n",
       "      <td>5.0</td>\n",
       "    </tr>\n",
       "    <tr>\n",
       "      <th>73834</th>\n",
       "      <td>85436</td>\n",
       "      <td>Pisamai Wilaisak</td>\n",
       "      <td>unknown</td>\n",
       "      <td>ACTOR</td>\n",
       "      <td>Let's Eat</td>\n",
       "      <td>SHOW</td>\n",
       "      <td>2021</td>\n",
       "      <td>['drama', 'comedy']</td>\n",
       "      <td>8.0</td>\n",
       "      <td>5.0</td>\n",
       "    </tr>\n",
       "    <tr>\n",
       "      <th>73835</th>\n",
       "      <td>85437</td>\n",
       "      <td>Sarawut Wichiensarn</td>\n",
       "      <td>unknown</td>\n",
       "      <td>DIRECTOR</td>\n",
       "      <td>Let's Eat</td>\n",
       "      <td>SHOW</td>\n",
       "      <td>2021</td>\n",
       "      <td>['drama', 'comedy']</td>\n",
       "      <td>8.0</td>\n",
       "      <td>5.0</td>\n",
       "    </tr>\n",
       "  </tbody>\n",
       "</table>\n",
       "</div>"
      ],
      "text/plain": [
       "       index                 name character      role      title  type  \\\n",
       "73831  85433     Maneerat Kam-Uan        Ae     ACTOR  Let's Eat  SHOW   \n",
       "73832  85434    Rudklao Amratisha   unknown     ACTOR  Let's Eat  SHOW   \n",
       "73833  85435      Jaturong Mokjok   unknown     ACTOR  Let's Eat  SHOW   \n",
       "73834  85436     Pisamai Wilaisak   unknown     ACTOR  Let's Eat  SHOW   \n",
       "73835  85437  Sarawut Wichiensarn   unknown  DIRECTOR  Let's Eat  SHOW   \n",
       "\n",
       "       release_year               genres  imdb_score  imdb_votes  \n",
       "73831          2021  ['drama', 'comedy']         8.0         5.0  \n",
       "73832          2021  ['drama', 'comedy']         8.0         5.0  \n",
       "73833          2021  ['drama', 'comedy']         8.0         5.0  \n",
       "73834          2021  ['drama', 'comedy']         8.0         5.0  \n",
       "73835          2021  ['drama', 'comedy']         8.0         5.0  "
      ]
     },
     "execution_count": 39,
     "metadata": {},
     "output_type": "execute_result"
    }
   ],
   "source": [
    "# filter the movies\n",
    "release = movie[movie['release_year'] >= 1999]\n",
    "release = release[release['type'] == 'SHOW']\n",
    "# rounding column with scores\n",
    "release['imdb_score'] = release['imdb_score'].round()\n",
    "release.tail()"
   ]
  },
  {
   "cell_type": "code",
   "execution_count": 38,
   "id": "b8b55e95",
   "metadata": {},
   "outputs": [
    {
     "name": "stdout",
     "output_type": "stream",
     "text": [
      "imdb_score\n",
      "2.0       24\n",
      "3.0       27\n",
      "4.0      180\n",
      "5.0      592\n",
      "6.0     2494\n",
      "7.0     4706\n",
      "8.0     4842\n",
      "9.0      557\n",
      "10.0       8\n",
      "Name: imdb_votes, dtype: int64\n"
     ]
    }
   ],
   "source": [
    "# identify outliers based on number of votes\n",
    "score_counts = release.groupby('imdb_score')['imdb_votes'].count()\n",
    "print(score_counts)"
   ]
  },
  {
   "cell_type": "markdown",
   "id": "1ba6daae",
   "metadata": {},
   "source": [
    "Based on the aggregation performed, it is evident that scores 2 (24 voted shows), 3 (27 voted shows), and 10 (only 8 voted shows) are outliers. There isn't enough data for these scores for the average number of votes to be meaningful, so I will focus on the 4-9 range."
   ]
  },
  {
   "cell_type": "code",
   "execution_count": 42,
   "id": "d1867e0e",
   "metadata": {},
   "outputs": [
    {
     "data": {
      "text/html": [
       "<div>\n",
       "<style scoped>\n",
       "    .dataframe tbody tr th:only-of-type {\n",
       "        vertical-align: middle;\n",
       "    }\n",
       "\n",
       "    .dataframe tbody tr th {\n",
       "        vertical-align: top;\n",
       "    }\n",
       "\n",
       "    .dataframe thead th {\n",
       "        text-align: right;\n",
       "    }\n",
       "</style>\n",
       "<table border=\"1\" class=\"dataframe\">\n",
       "  <thead>\n",
       "    <tr style=\"text-align: right;\">\n",
       "      <th></th>\n",
       "      <th>imdb_score</th>\n",
       "      <th>imdb_votes</th>\n",
       "    </tr>\n",
       "  </thead>\n",
       "  <tbody>\n",
       "    <tr>\n",
       "      <th>0</th>\n",
       "      <td>4.0</td>\n",
       "      <td>5277.583333</td>\n",
       "    </tr>\n",
       "    <tr>\n",
       "      <th>1</th>\n",
       "      <td>5.0</td>\n",
       "      <td>3143.942568</td>\n",
       "    </tr>\n",
       "    <tr>\n",
       "      <th>2</th>\n",
       "      <td>6.0</td>\n",
       "      <td>3481.717322</td>\n",
       "    </tr>\n",
       "    <tr>\n",
       "      <th>3</th>\n",
       "      <td>7.0</td>\n",
       "      <td>8727.068211</td>\n",
       "    </tr>\n",
       "    <tr>\n",
       "      <th>4</th>\n",
       "      <td>8.0</td>\n",
       "      <td>30299.460967</td>\n",
       "    </tr>\n",
       "    <tr>\n",
       "      <th>5</th>\n",
       "      <td>9.0</td>\n",
       "      <td>126904.109515</td>\n",
       "    </tr>\n",
       "  </tbody>\n",
       "</table>\n",
       "</div>"
      ],
      "text/plain": [
       "   imdb_score     imdb_votes\n",
       "0         4.0    5277.583333\n",
       "1         5.0    3143.942568\n",
       "2         6.0    3481.717322\n",
       "3         7.0    8727.068211\n",
       "4         8.0   30299.460967\n",
       "5         9.0  126904.109515"
      ]
     },
     "execution_count": 42,
     "metadata": {},
     "output_type": "execute_result"
    }
   ],
   "source": [
    "# filtering dataframe\n",
    "filtered = release[(release['imdb_score'] >= 4) & (release['imdb_score'] <= 9)]\n",
    "# group scores and corresponding average number of votes\n",
    "mean = filtered.groupby('imdb_score')['imdb_votes'].mean().reset_index(); mean"
   ]
  },
  {
   "cell_type": "markdown",
   "id": "96a66d14",
   "metadata": {},
   "source": [
    "Now, I'll round the column with the averages, rename both columns, and print the dataframe in descending order."
   ]
  },
  {
   "cell_type": "code",
   "execution_count": 41,
   "id": "5999051b",
   "metadata": {},
   "outputs": [
    {
     "name": "stdout",
     "output_type": "stream",
     "text": [
      "   imdb_score    imdb_votes\n",
      "0         4.0   5277.583333\n",
      "1         5.0   3143.942568\n",
      "2         6.0   3481.717322\n",
      "3         7.0   8727.068211\n",
      "4         8.0  30299.460967\n"
     ]
    }
   ],
   "source": [
    "# round column with averages\n",
    "mean['imdb_votes'] = mean['imdb_votes'].round()\n",
    "mean = mean.rename(columns={'imdb_score': 'Score', 'imdb_votes': 'Votes'})\n",
    "# descending order\n",
    "mean_sorted = mean.sort_values(by='Votes', ascending=False)\n",
    "mean_sorted\n",
    "\n",
    "if 'imdb_votes' in filtered.columns:\n",
    "         mean = filtered.groupby('imdb_score')['imdb_votes'].mean().reset_index()\n",
    "         print(mean.head())"
   ]
  },
  {
   "cell_type": "markdown",
   "id": "af07386d",
   "metadata": {},
   "source": [
    "The assumption matches the analysis: the movies and shows with the top 3 scores have the most amounts of votes and were released during the \"Golden Age\" of television."
   ]
  },
  {
   "cell_type": "markdown",
   "id": "84e29a37",
   "metadata": {},
   "source": [
    "## Conclusion <a id='hypotheses'></a>"
   ]
  },
  {
   "cell_type": "markdown",
   "id": "984766a3",
   "metadata": {},
   "source": [
    "The research done confirms that highly-rated shows released during the \"Golden Age\" of television also have the most votes. While shows with score 4 have more votes than ones with scores 5 and 6, the top three (scores 7-9) have the largest number. The data studied represents around 94% of the original set, so we can be confident in our findings."
   ]
  }
 ],
 "metadata": {
  "ExecuteTimeLog": [
   {
    "duration": 305,
    "start_time": "2024-11-13T00:31:42.264Z"
   },
   {
    "duration": 177,
    "start_time": "2024-11-13T00:33:46.081Z"
   },
   {
    "duration": 645,
    "start_time": "2024-11-13T00:34:09.271Z"
   },
   {
    "duration": 2,
    "start_time": "2024-11-13T00:34:15.131Z"
   },
   {
    "duration": 110,
    "start_time": "2024-11-13T00:34:16.640Z"
   },
   {
    "duration": 173,
    "start_time": "2024-11-13T00:34:36.956Z"
   },
   {
    "duration": 113,
    "start_time": "2024-11-13T00:34:40.820Z"
   },
   {
    "duration": 10,
    "start_time": "2024-11-13T00:34:48.585Z"
   },
   {
    "duration": 18,
    "start_time": "2024-11-13T00:34:59.930Z"
   },
   {
    "duration": 14,
    "start_time": "2024-11-13T00:36:51.749Z"
   },
   {
    "duration": 14,
    "start_time": "2024-11-13T00:36:57.954Z"
   },
   {
    "duration": 12,
    "start_time": "2024-11-13T00:37:09.978Z"
   },
   {
    "duration": 4,
    "start_time": "2024-11-13T00:48:47.490Z"
   },
   {
    "duration": 20,
    "start_time": "2024-11-13T00:51:06.439Z"
   },
   {
    "duration": 21,
    "start_time": "2024-11-13T00:51:47.605Z"
   },
   {
    "duration": 7,
    "start_time": "2024-11-13T00:51:57.483Z"
   },
   {
    "duration": 8,
    "start_time": "2024-11-13T00:52:24.935Z"
   },
   {
    "duration": 8,
    "start_time": "2024-11-13T00:52:44.374Z"
   },
   {
    "duration": 6,
    "start_time": "2024-11-13T00:52:45.436Z"
   },
   {
    "duration": 164,
    "start_time": "2024-11-22T01:09:19.975Z"
   },
   {
    "duration": 11,
    "start_time": "2024-11-22T01:09:25.592Z"
   },
   {
    "duration": 347,
    "start_time": "2024-11-22T01:09:29.662Z"
   },
   {
    "duration": 178,
    "start_time": "2024-11-22T01:09:31.260Z"
   },
   {
    "duration": 16,
    "start_time": "2024-11-22T01:09:32.595Z"
   },
   {
    "duration": 19,
    "start_time": "2024-11-22T01:09:33.838Z"
   },
   {
    "duration": 4,
    "start_time": "2024-11-22T01:09:36.095Z"
   },
   {
    "duration": 6,
    "start_time": "2024-11-22T01:09:37.769Z"
   },
   {
    "duration": 4,
    "start_time": "2024-11-22T01:09:39.236Z"
   },
   {
    "duration": 26,
    "start_time": "2024-11-22T01:09:40.525Z"
   },
   {
    "duration": 29,
    "start_time": "2024-11-22T01:09:48.749Z"
   },
   {
    "duration": 20,
    "start_time": "2024-11-22T01:10:00.863Z"
   },
   {
    "duration": 39,
    "start_time": "2024-11-22T01:26:11.179Z"
   },
   {
    "duration": 27,
    "start_time": "2024-11-22T01:26:30.315Z"
   },
   {
    "duration": 30,
    "start_time": "2024-11-22T01:26:39.469Z"
   },
   {
    "duration": 26,
    "start_time": "2024-11-22T01:26:42.273Z"
   },
   {
    "duration": 42,
    "start_time": "2024-11-22T01:34:07.691Z"
   },
   {
    "duration": 40,
    "start_time": "2024-11-22T01:34:39.129Z"
   },
   {
    "duration": 43,
    "start_time": "2024-11-22T01:34:58.735Z"
   },
   {
    "duration": 54,
    "start_time": "2024-11-22T01:36:22.770Z"
   },
   {
    "duration": 41,
    "start_time": "2024-11-22T01:36:24.149Z"
   },
   {
    "duration": 7,
    "start_time": "2024-11-22T01:40:17.841Z"
   },
   {
    "duration": 50,
    "start_time": "2024-11-22T01:46:33.484Z"
   },
   {
    "duration": 3,
    "start_time": "2024-11-22T01:47:02.548Z"
   },
   {
    "duration": 21,
    "start_time": "2024-11-22T01:47:05.479Z"
   },
   {
    "duration": 23,
    "start_time": "2024-11-22T01:47:11.339Z"
   },
   {
    "duration": 3,
    "start_time": "2024-11-22T01:55:42.507Z"
   },
   {
    "duration": 26,
    "start_time": "2024-11-22T01:55:44.611Z"
   },
   {
    "duration": 7,
    "start_time": "2024-11-22T01:56:33.292Z"
   },
   {
    "duration": 16,
    "start_time": "2024-11-22T03:22:07.464Z"
   },
   {
    "duration": 4,
    "start_time": "2024-11-22T03:22:19.128Z"
   },
   {
    "duration": 8,
    "start_time": "2024-11-22T03:22:39.414Z"
   },
   {
    "duration": 4,
    "start_time": "2024-11-22T03:22:42.122Z"
   },
   {
    "duration": 3,
    "start_time": "2024-11-22T03:22:53.882Z"
   },
   {
    "duration": 4,
    "start_time": "2024-11-22T03:23:55.359Z"
   },
   {
    "duration": 6,
    "start_time": "2024-11-22T03:24:07.415Z"
   },
   {
    "duration": 20,
    "start_time": "2024-11-22T03:24:08.441Z"
   },
   {
    "duration": 8,
    "start_time": "2024-11-22T03:24:09.586Z"
   },
   {
    "duration": 2,
    "start_time": "2024-11-22T03:24:21.043Z"
   },
   {
    "duration": 117,
    "start_time": "2024-11-22T03:24:22.118Z"
   },
   {
    "duration": 9,
    "start_time": "2024-11-22T03:24:23.421Z"
   },
   {
    "duration": 17,
    "start_time": "2024-11-22T03:24:25.677Z"
   },
   {
    "duration": 6,
    "start_time": "2024-11-22T03:24:27.862Z"
   },
   {
    "duration": 10,
    "start_time": "2024-11-22T03:24:28.921Z"
   },
   {
    "duration": 4,
    "start_time": "2024-11-22T03:24:29.920Z"
   },
   {
    "duration": 20,
    "start_time": "2024-11-22T03:24:32.067Z"
   },
   {
    "duration": 26,
    "start_time": "2024-11-22T03:24:33.362Z"
   },
   {
    "duration": 19,
    "start_time": "2024-11-22T03:24:34.340Z"
   },
   {
    "duration": 61,
    "start_time": "2024-11-22T03:24:35.437Z"
   },
   {
    "duration": 59,
    "start_time": "2024-11-22T03:24:36.588Z"
   },
   {
    "duration": 44,
    "start_time": "2024-11-22T03:24:38.598Z"
   },
   {
    "duration": 56,
    "start_time": "2024-11-22T03:24:39.946Z"
   },
   {
    "duration": 9,
    "start_time": "2024-11-22T03:24:41.949Z"
   },
   {
    "duration": 3,
    "start_time": "2024-11-22T03:24:43.727Z"
   },
   {
    "duration": 21,
    "start_time": "2024-11-22T03:24:45.085Z"
   },
   {
    "duration": 7,
    "start_time": "2024-11-22T03:24:47.981Z"
   },
   {
    "duration": 4,
    "start_time": "2024-11-22T03:24:52.741Z"
   },
   {
    "duration": 16,
    "start_time": "2024-11-22T03:25:58.366Z"
   },
   {
    "duration": 16,
    "start_time": "2024-11-22T03:26:25.673Z"
   },
   {
    "duration": 428,
    "start_time": "2024-11-22T03:27:01.526Z"
   },
   {
    "duration": 67,
    "start_time": "2024-11-22T03:27:35.516Z"
   },
   {
    "duration": 9,
    "start_time": "2024-11-22T03:27:42.261Z"
   },
   {
    "duration": 23,
    "start_time": "2024-11-22T03:27:46.333Z"
   },
   {
    "duration": 61,
    "start_time": "2024-11-22T03:28:20.328Z"
   },
   {
    "duration": 44,
    "start_time": "2024-11-22T03:28:35.234Z"
   },
   {
    "duration": 21,
    "start_time": "2024-11-22T03:28:42.049Z"
   },
   {
    "duration": 10,
    "start_time": "2024-11-22T03:29:46.586Z"
   },
   {
    "duration": 20,
    "start_time": "2024-11-22T03:30:06.900Z"
   },
   {
    "duration": 9,
    "start_time": "2024-11-22T03:35:31.649Z"
   },
   {
    "duration": 212,
    "start_time": "2024-11-22T03:40:42.818Z"
   },
   {
    "duration": 5,
    "start_time": "2024-11-22T03:40:53.764Z"
   },
   {
    "duration": 231,
    "start_time": "2024-11-22T03:41:33.844Z"
   },
   {
    "duration": 41,
    "start_time": "2024-11-22T03:42:23.600Z"
   },
   {
    "duration": 44,
    "start_time": "2024-11-22T03:43:43.951Z"
   },
   {
    "duration": 44,
    "start_time": "2024-11-22T03:43:53.977Z"
   },
   {
    "duration": 43,
    "start_time": "2024-11-22T03:44:04.433Z"
   },
   {
    "duration": 58,
    "start_time": "2024-11-22T03:44:36.508Z"
   },
   {
    "duration": 40,
    "start_time": "2024-11-22T03:44:59.422Z"
   },
   {
    "duration": 41,
    "start_time": "2024-11-22T03:46:11.429Z"
   },
   {
    "duration": 43,
    "start_time": "2024-11-22T03:46:19.896Z"
   },
   {
    "duration": 5,
    "start_time": "2024-11-22T03:46:52.496Z"
   },
   {
    "duration": 7,
    "start_time": "2024-11-22T03:47:02.875Z"
   },
   {
    "duration": 11,
    "start_time": "2024-11-22T03:47:03.535Z"
   },
   {
    "duration": 15,
    "start_time": "2024-11-22T03:47:04.720Z"
   },
   {
    "duration": 4,
    "start_time": "2024-11-22T03:47:17.865Z"
   },
   {
    "duration": 5,
    "start_time": "2024-11-22T03:47:32.029Z"
   },
   {
    "duration": 11,
    "start_time": "2024-11-22T03:47:39.890Z"
   },
   {
    "duration": 12,
    "start_time": "2024-11-22T03:47:40.322Z"
   },
   {
    "duration": 5,
    "start_time": "2024-11-22T03:47:41.397Z"
   },
   {
    "duration": 4,
    "start_time": "2024-11-22T03:47:49.331Z"
   },
   {
    "duration": 4,
    "start_time": "2024-11-22T03:47:54.937Z"
   },
   {
    "duration": 5,
    "start_time": "2024-11-22T03:54:56.043Z"
   },
   {
    "duration": 17,
    "start_time": "2024-11-22T04:01:08.101Z"
   },
   {
    "duration": 19,
    "start_time": "2024-11-22T04:04:02.106Z"
   },
   {
    "duration": 10,
    "start_time": "2024-11-22T04:04:07.234Z"
   },
   {
    "duration": 17,
    "start_time": "2024-11-22T04:05:12.435Z"
   },
   {
    "duration": 4,
    "start_time": "2024-11-22T04:06:21.149Z"
   },
   {
    "duration": 21,
    "start_time": "2024-11-22T04:06:44.094Z"
   },
   {
    "duration": 20,
    "start_time": "2024-11-22T04:10:05.384Z"
   },
   {
    "duration": 24,
    "start_time": "2024-11-22T04:13:43.416Z"
   },
   {
    "duration": 21,
    "start_time": "2024-11-22T04:13:54.538Z"
   },
   {
    "duration": 20,
    "start_time": "2024-11-22T04:14:50.189Z"
   },
   {
    "duration": 284,
    "start_time": "2024-11-22T04:49:21.773Z"
   },
   {
    "duration": 156,
    "start_time": "2024-11-22T04:49:22.607Z"
   },
   {
    "duration": 13,
    "start_time": "2024-11-22T04:49:23.790Z"
   },
   {
    "duration": 19,
    "start_time": "2024-11-22T04:49:25.366Z"
   },
   {
    "duration": 3,
    "start_time": "2024-11-22T04:49:27.312Z"
   },
   {
    "duration": 6,
    "start_time": "2024-11-22T04:49:28.323Z"
   },
   {
    "duration": 3,
    "start_time": "2024-11-22T04:49:29.258Z"
   },
   {
    "duration": 20,
    "start_time": "2024-11-22T04:49:30.517Z"
   },
   {
    "duration": 25,
    "start_time": "2024-11-22T04:49:31.748Z"
   },
   {
    "duration": 18,
    "start_time": "2024-11-22T04:49:32.652Z"
   },
   {
    "duration": 41,
    "start_time": "2024-11-22T04:49:33.716Z"
   },
   {
    "duration": 40,
    "start_time": "2024-11-22T04:49:34.617Z"
   },
   {
    "duration": 44,
    "start_time": "2024-11-22T04:49:35.758Z"
   },
   {
    "duration": 40,
    "start_time": "2024-11-22T04:49:37.177Z"
   },
   {
    "duration": 6,
    "start_time": "2024-11-22T04:49:39.166Z"
   },
   {
    "duration": 3,
    "start_time": "2024-11-22T04:51:25.734Z"
   },
   {
    "duration": 20,
    "start_time": "2024-11-22T04:51:26.850Z"
   },
   {
    "duration": 7,
    "start_time": "2024-11-22T04:51:29.017Z"
   },
   {
    "duration": 9,
    "start_time": "2024-11-22T04:51:32.084Z"
   },
   {
    "duration": 9,
    "start_time": "2024-11-22T04:51:32.746Z"
   },
   {
    "duration": 11,
    "start_time": "2024-11-22T04:51:34.419Z"
   },
   {
    "duration": 21,
    "start_time": "2024-11-22T04:51:35.892Z"
   },
   {
    "duration": 22,
    "start_time": "2024-11-22T04:52:05.906Z"
   },
   {
    "duration": 582,
    "start_time": "2024-11-22T05:05:13.925Z"
   },
   {
    "duration": 10,
    "start_time": "2024-11-22T05:05:39.161Z"
   },
   {
    "duration": 21,
    "start_time": "2024-11-22T05:05:42.728Z"
   },
   {
    "duration": 41,
    "start_time": "2024-11-22T05:05:49.280Z"
   },
   {
    "duration": 8,
    "start_time": "2024-11-22T05:07:36.587Z"
   },
   {
    "duration": 38,
    "start_time": "2024-11-22T05:08:06.375Z"
   },
   {
    "duration": 12,
    "start_time": "2024-11-22T05:08:50.731Z"
   },
   {
    "duration": 12,
    "start_time": "2024-11-22T05:10:16.860Z"
   },
   {
    "duration": 7,
    "start_time": "2024-11-22T05:10:31.005Z"
   },
   {
    "duration": 5,
    "start_time": "2024-11-22T05:11:18.375Z"
   },
   {
    "duration": 22,
    "start_time": "2024-11-22T05:11:28.994Z"
   },
   {
    "duration": 5,
    "start_time": "2024-11-22T05:11:41.915Z"
   },
   {
    "duration": 7,
    "start_time": "2024-11-22T05:13:26.592Z"
   },
   {
    "duration": 9,
    "start_time": "2024-11-22T05:15:12.953Z"
   },
   {
    "duration": 4,
    "start_time": "2024-11-22T05:15:40.311Z"
   },
   {
    "duration": 363,
    "start_time": "2024-11-23T00:28:31.527Z"
   },
   {
    "duration": 146,
    "start_time": "2024-11-23T00:28:32.343Z"
   },
   {
    "duration": 14,
    "start_time": "2024-11-23T00:28:33.178Z"
   },
   {
    "duration": 27,
    "start_time": "2024-11-23T00:28:33.971Z"
   },
   {
    "duration": 4,
    "start_time": "2024-11-23T00:28:35.395Z"
   },
   {
    "duration": 6,
    "start_time": "2024-11-23T00:28:35.826Z"
   },
   {
    "duration": 4,
    "start_time": "2024-11-23T00:28:36.244Z"
   },
   {
    "duration": 26,
    "start_time": "2024-11-23T00:28:36.678Z"
   },
   {
    "duration": 27,
    "start_time": "2024-11-23T00:28:37.103Z"
   },
   {
    "duration": 27,
    "start_time": "2024-11-23T00:28:37.551Z"
   },
   {
    "duration": 44,
    "start_time": "2024-11-23T00:28:37.970Z"
   },
   {
    "duration": 41,
    "start_time": "2024-11-23T00:28:38.386Z"
   },
   {
    "duration": 44,
    "start_time": "2024-11-23T00:28:38.832Z"
   },
   {
    "duration": 40,
    "start_time": "2024-11-23T00:28:39.258Z"
   },
   {
    "duration": 7,
    "start_time": "2024-11-23T00:28:40.457Z"
   },
   {
    "duration": 3,
    "start_time": "2024-11-23T00:28:41.097Z"
   },
   {
    "duration": 31,
    "start_time": "2024-11-23T00:28:41.766Z"
   },
   {
    "duration": 9,
    "start_time": "2024-11-23T00:28:42.594Z"
   },
   {
    "duration": 10,
    "start_time": "2024-11-23T00:28:44.622Z"
   },
   {
    "duration": 9,
    "start_time": "2024-11-23T00:28:45.068Z"
   },
   {
    "duration": 11,
    "start_time": "2024-11-23T00:28:46.029Z"
   },
   {
    "duration": 35,
    "start_time": "2024-11-23T00:28:47.198Z"
   },
   {
    "duration": 8,
    "start_time": "2024-11-23T00:28:48.929Z"
   },
   {
    "duration": 6,
    "start_time": "2024-11-23T00:28:50.028Z"
   },
   {
    "duration": 3,
    "start_time": "2024-11-23T00:29:06.440Z"
   },
   {
    "duration": 4,
    "start_time": "2024-11-23T00:29:11.650Z"
   },
   {
    "duration": 307,
    "start_time": "2024-11-23T00:30:16.158Z"
   },
   {
    "duration": 22,
    "start_time": "2024-11-23T00:30:22.945Z"
   },
   {
    "duration": 2,
    "start_time": "2024-11-23T00:32:51.357Z"
   },
   {
    "duration": 3,
    "start_time": "2024-11-23T00:35:59.281Z"
   },
   {
    "duration": 7,
    "start_time": "2024-11-23T00:36:22.530Z"
   },
   {
    "duration": 400,
    "start_time": "2024-11-23T00:37:33.278Z"
   },
   {
    "duration": 43,
    "start_time": "2024-11-23T00:39:20.811Z"
   },
   {
    "duration": 9,
    "start_time": "2024-11-23T00:39:29.227Z"
   },
   {
    "duration": 6,
    "start_time": "2024-11-23T00:39:31.569Z"
   },
   {
    "duration": 40,
    "start_time": "2024-11-23T00:41:02.446Z"
   },
   {
    "duration": 40,
    "start_time": "2024-11-23T00:41:16.993Z"
   },
   {
    "duration": 41,
    "start_time": "2024-11-23T00:42:34.724Z"
   },
   {
    "duration": 14,
    "start_time": "2024-11-23T00:44:00.442Z"
   },
   {
    "duration": 9,
    "start_time": "2024-11-23T00:44:06.111Z"
   },
   {
    "duration": 107,
    "start_time": "2024-11-23T00:45:21.477Z"
   },
   {
    "duration": 38,
    "start_time": "2024-11-23T00:45:33.317Z"
   },
   {
    "duration": 21,
    "start_time": "2024-11-23T00:45:38.942Z"
   },
   {
    "duration": 42,
    "start_time": "2024-11-23T00:45:40.951Z"
   },
   {
    "duration": 40,
    "start_time": "2024-11-23T00:46:54.777Z"
   },
   {
    "duration": 38,
    "start_time": "2024-11-23T00:48:27.105Z"
   },
   {
    "duration": 23,
    "start_time": "2024-11-23T00:49:13.730Z"
   },
   {
    "duration": 20,
    "start_time": "2024-11-23T00:49:18.421Z"
   },
   {
    "duration": 22,
    "start_time": "2024-11-23T00:49:22.416Z"
   },
   {
    "duration": 9,
    "start_time": "2024-11-23T00:49:27.962Z"
   },
   {
    "duration": 10,
    "start_time": "2024-11-23T00:49:40.632Z"
   },
   {
    "duration": 6,
    "start_time": "2024-11-23T00:49:49.566Z"
   },
   {
    "duration": 10,
    "start_time": "2024-11-23T00:49:55.521Z"
   },
   {
    "duration": 41,
    "start_time": "2024-11-23T00:50:06.097Z"
   },
   {
    "duration": 9,
    "start_time": "2024-11-23T00:50:32.902Z"
   },
   {
    "duration": 8,
    "start_time": "2024-11-23T00:54:09.576Z"
   },
   {
    "duration": 379,
    "start_time": "2024-11-23T02:35:54.585Z"
   },
   {
    "duration": 138,
    "start_time": "2024-11-23T02:35:54.966Z"
   },
   {
    "duration": 14,
    "start_time": "2024-11-23T02:35:55.106Z"
   },
   {
    "duration": 18,
    "start_time": "2024-11-23T02:35:55.123Z"
   },
   {
    "duration": 4,
    "start_time": "2024-11-23T02:35:55.142Z"
   },
   {
    "duration": 5,
    "start_time": "2024-11-23T02:35:55.148Z"
   },
   {
    "duration": 4,
    "start_time": "2024-11-23T02:35:55.154Z"
   },
   {
    "duration": 19,
    "start_time": "2024-11-23T02:35:55.160Z"
   },
   {
    "duration": 58,
    "start_time": "2024-11-23T02:35:55.181Z"
   },
   {
    "duration": 18,
    "start_time": "2024-11-23T02:35:55.243Z"
   },
   {
    "duration": 41,
    "start_time": "2024-11-23T02:35:55.262Z"
   },
   {
    "duration": 53,
    "start_time": "2024-11-23T02:35:55.304Z"
   },
   {
    "duration": 41,
    "start_time": "2024-11-23T02:35:55.359Z"
   },
   {
    "duration": 58,
    "start_time": "2024-11-23T02:35:55.402Z"
   },
   {
    "duration": 6,
    "start_time": "2024-11-23T02:35:55.461Z"
   },
   {
    "duration": 2,
    "start_time": "2024-11-23T02:35:55.469Z"
   },
   {
    "duration": 19,
    "start_time": "2024-11-23T02:35:55.473Z"
   },
   {
    "duration": 5,
    "start_time": "2024-11-23T02:35:55.494Z"
   },
   {
    "duration": 30,
    "start_time": "2024-11-23T02:35:55.500Z"
   },
   {
    "duration": 8,
    "start_time": "2024-11-23T02:35:55.532Z"
   },
   {
    "duration": 10,
    "start_time": "2024-11-23T02:35:55.541Z"
   },
   {
    "duration": 21,
    "start_time": "2024-11-23T02:35:55.552Z"
   },
   {
    "duration": 9,
    "start_time": "2024-11-23T02:35:55.574Z"
   },
   {
    "duration": 40,
    "start_time": "2024-11-23T02:35:55.584Z"
   },
   {
    "duration": 155,
    "start_time": "2024-11-23T08:20:27.613Z"
   },
   {
    "duration": 286,
    "start_time": "2024-11-23T08:20:37.393Z"
   },
   {
    "duration": 143,
    "start_time": "2024-11-23T08:20:38.669Z"
   },
   {
    "duration": 15,
    "start_time": "2024-11-23T08:20:39.415Z"
   },
   {
    "duration": 17,
    "start_time": "2024-11-23T08:20:40.367Z"
   },
   {
    "duration": 4,
    "start_time": "2024-11-23T08:20:42.346Z"
   },
   {
    "duration": 9,
    "start_time": "2024-11-23T08:20:43.388Z"
   },
   {
    "duration": 5,
    "start_time": "2024-11-23T08:20:44.289Z"
   },
   {
    "duration": 22,
    "start_time": "2024-11-23T08:20:45.580Z"
   },
   {
    "duration": 27,
    "start_time": "2024-11-23T08:20:46.648Z"
   },
   {
    "duration": 26,
    "start_time": "2024-11-23T08:20:47.847Z"
   },
   {
    "duration": 60,
    "start_time": "2024-11-23T08:20:49.206Z"
   },
   {
    "duration": 42,
    "start_time": "2024-11-23T08:20:50.362Z"
   },
   {
    "duration": 70,
    "start_time": "2024-11-23T08:21:42.025Z"
   },
   {
    "duration": 42,
    "start_time": "2024-11-23T08:21:54.532Z"
   },
   {
    "duration": 43,
    "start_time": "2024-11-23T08:22:19.525Z"
   },
   {
    "duration": 38,
    "start_time": "2024-11-23T08:22:24.615Z"
   },
   {
    "duration": 6,
    "start_time": "2024-11-23T08:22:29.951Z"
   },
   {
    "duration": 2,
    "start_time": "2024-11-23T08:22:35.605Z"
   },
   {
    "duration": 21,
    "start_time": "2024-11-23T08:22:38.746Z"
   },
   {
    "duration": 8,
    "start_time": "2024-11-23T08:22:42.607Z"
   },
   {
    "duration": 7,
    "start_time": "2024-11-23T08:29:46.293Z"
   },
   {
    "duration": 8,
    "start_time": "2024-11-23T08:29:47.078Z"
   },
   {
    "duration": 10,
    "start_time": "2024-11-23T08:29:48.659Z"
   },
   {
    "duration": 22,
    "start_time": "2024-11-23T08:30:06.426Z"
   },
   {
    "duration": 8,
    "start_time": "2024-11-23T08:35:24.808Z"
   },
   {
    "duration": 8,
    "start_time": "2024-11-23T08:35:30.073Z"
   },
   {
    "duration": 306,
    "start_time": "2024-11-23T18:56:49.203Z"
   },
   {
    "duration": 146,
    "start_time": "2024-11-23T18:56:50.113Z"
   },
   {
    "duration": 12,
    "start_time": "2024-11-23T18:56:50.566Z"
   },
   {
    "duration": 19,
    "start_time": "2024-11-23T18:56:50.939Z"
   },
   {
    "duration": 4,
    "start_time": "2024-11-23T18:56:51.935Z"
   },
   {
    "duration": 5,
    "start_time": "2024-11-23T18:56:52.341Z"
   },
   {
    "duration": 3,
    "start_time": "2024-11-23T18:56:53.115Z"
   },
   {
    "duration": 19,
    "start_time": "2024-11-23T18:56:54.124Z"
   },
   {
    "duration": 26,
    "start_time": "2024-11-23T18:56:54.651Z"
   },
   {
    "duration": 19,
    "start_time": "2024-11-23T18:56:55.150Z"
   },
   {
    "duration": 40,
    "start_time": "2024-11-23T18:56:55.501Z"
   },
   {
    "duration": 45,
    "start_time": "2024-11-23T18:56:55.853Z"
   },
   {
    "duration": 46,
    "start_time": "2024-11-23T18:56:57.562Z"
   },
   {
    "duration": 37,
    "start_time": "2024-11-23T18:56:58.817Z"
   },
   {
    "duration": 6,
    "start_time": "2024-11-23T18:57:00.362Z"
   },
   {
    "duration": 3,
    "start_time": "2024-11-23T18:57:01.254Z"
   },
   {
    "duration": 22,
    "start_time": "2024-11-23T18:57:01.996Z"
   },
   {
    "duration": 5,
    "start_time": "2024-11-23T18:57:06.145Z"
   },
   {
    "duration": 8,
    "start_time": "2024-11-23T18:57:13.127Z"
   },
   {
    "duration": 11,
    "start_time": "2024-11-23T18:57:13.538Z"
   },
   {
    "duration": 10,
    "start_time": "2024-11-23T18:57:14.037Z"
   },
   {
    "duration": 22,
    "start_time": "2024-11-23T18:57:17.188Z"
   },
   {
    "duration": 5,
    "start_time": "2024-11-23T18:57:25.498Z"
   },
   {
    "duration": 8,
    "start_time": "2024-11-23T18:57:49.748Z"
   },
   {
    "duration": 11,
    "start_time": "2024-11-23T18:58:42.840Z"
   },
   {
    "duration": 8,
    "start_time": "2024-11-23T18:59:05.726Z"
   },
   {
    "duration": 7,
    "start_time": "2024-11-23T19:00:12.913Z"
   },
   {
    "duration": 472,
    "start_time": "2025-01-25T01:37:00.874Z"
   },
   {
    "duration": 224,
    "start_time": "2025-01-25T01:37:01.348Z"
   },
   {
    "duration": 19,
    "start_time": "2025-01-25T01:37:01.624Z"
   },
   {
    "duration": 79,
    "start_time": "2025-01-25T01:37:01.646Z"
   },
   {
    "duration": 4,
    "start_time": "2025-01-25T01:37:01.727Z"
   },
   {
    "duration": 6,
    "start_time": "2025-01-25T01:37:01.733Z"
   },
   {
    "duration": 3,
    "start_time": "2025-01-25T01:37:01.741Z"
   },
   {
    "duration": 82,
    "start_time": "2025-01-25T01:37:01.746Z"
   },
   {
    "duration": 35,
    "start_time": "2025-01-25T01:37:01.830Z"
   },
   {
    "duration": 77,
    "start_time": "2025-01-25T01:37:01.869Z"
   },
   {
    "duration": 101,
    "start_time": "2025-01-25T01:37:01.947Z"
   },
   {
    "duration": 93,
    "start_time": "2025-01-25T01:37:02.052Z"
   },
   {
    "duration": 99,
    "start_time": "2025-01-25T01:37:02.147Z"
   },
   {
    "duration": 90,
    "start_time": "2025-01-25T01:37:02.248Z"
   },
   {
    "duration": 7,
    "start_time": "2025-01-25T01:37:02.340Z"
   },
   {
    "duration": 3,
    "start_time": "2025-01-25T01:37:02.349Z"
   },
   {
    "duration": 82,
    "start_time": "2025-01-25T01:37:02.354Z"
   },
   {
    "duration": 5,
    "start_time": "2025-01-25T01:37:02.438Z"
   },
   {
    "duration": 7,
    "start_time": "2025-01-25T01:37:02.445Z"
   },
   {
    "duration": 70,
    "start_time": "2025-01-25T01:37:02.454Z"
   },
   {
    "duration": 15,
    "start_time": "2025-01-25T01:37:02.526Z"
   },
   {
    "duration": 6,
    "start_time": "2025-01-25T01:37:02.543Z"
   },
   {
    "duration": 13,
    "start_time": "2025-01-25T01:37:02.551Z"
   },
   {
    "duration": 9,
    "start_time": "2025-01-25T01:37:02.625Z"
   },
   {
    "duration": 302,
    "start_time": "2025-01-26T22:09:52.460Z"
   },
   {
    "duration": 135,
    "start_time": "2025-01-26T22:09:52.764Z"
   },
   {
    "duration": 14,
    "start_time": "2025-01-26T22:09:52.901Z"
   },
   {
    "duration": 22,
    "start_time": "2025-01-26T22:09:52.916Z"
   },
   {
    "duration": 3,
    "start_time": "2025-01-26T22:09:52.941Z"
   },
   {
    "duration": 5,
    "start_time": "2025-01-26T22:09:52.945Z"
   },
   {
    "duration": 4,
    "start_time": "2025-01-26T22:09:52.951Z"
   },
   {
    "duration": 18,
    "start_time": "2025-01-26T22:09:52.957Z"
   },
   {
    "duration": 53,
    "start_time": "2025-01-26T22:09:52.976Z"
   },
   {
    "duration": 17,
    "start_time": "2025-01-26T22:09:53.031Z"
   },
   {
    "duration": 38,
    "start_time": "2025-01-26T22:09:53.049Z"
   },
   {
    "duration": 65,
    "start_time": "2025-01-26T22:09:53.089Z"
   },
   {
    "duration": 45,
    "start_time": "2025-01-26T22:09:53.155Z"
   },
   {
    "duration": 49,
    "start_time": "2025-01-26T22:09:53.203Z"
   },
   {
    "duration": 5,
    "start_time": "2025-01-26T22:09:53.254Z"
   },
   {
    "duration": 3,
    "start_time": "2025-01-26T22:09:53.261Z"
   },
   {
    "duration": 21,
    "start_time": "2025-01-26T22:09:53.265Z"
   },
   {
    "duration": 5,
    "start_time": "2025-01-26T22:09:53.288Z"
   },
   {
    "duration": 31,
    "start_time": "2025-01-26T22:09:53.295Z"
   },
   {
    "duration": 8,
    "start_time": "2025-01-26T22:09:53.328Z"
   },
   {
    "duration": 9,
    "start_time": "2025-01-26T22:09:53.338Z"
   },
   {
    "duration": 5,
    "start_time": "2025-01-26T22:09:53.349Z"
   },
   {
    "duration": 8,
    "start_time": "2025-01-26T22:09:53.356Z"
   },
   {
    "duration": 8,
    "start_time": "2025-01-26T22:09:53.366Z"
   },
   {
    "duration": 303,
    "start_time": "2025-01-26T22:15:13.256Z"
   },
   {
    "duration": 119,
    "start_time": "2025-01-26T22:15:13.561Z"
   },
   {
    "duration": 14,
    "start_time": "2025-01-26T22:15:13.682Z"
   },
   {
    "duration": 30,
    "start_time": "2025-01-26T22:15:13.698Z"
   },
   {
    "duration": 4,
    "start_time": "2025-01-26T22:15:13.730Z"
   },
   {
    "duration": 5,
    "start_time": "2025-01-26T22:15:13.736Z"
   },
   {
    "duration": 4,
    "start_time": "2025-01-26T22:15:13.742Z"
   },
   {
    "duration": 19,
    "start_time": "2025-01-26T22:15:13.747Z"
   },
   {
    "duration": 25,
    "start_time": "2025-01-26T22:15:13.768Z"
   },
   {
    "duration": 46,
    "start_time": "2025-01-26T22:15:13.794Z"
   },
   {
    "duration": 44,
    "start_time": "2025-01-26T22:15:13.842Z"
   },
   {
    "duration": 61,
    "start_time": "2025-01-26T22:15:13.887Z"
   },
   {
    "duration": 45,
    "start_time": "2025-01-26T22:15:13.950Z"
   },
   {
    "duration": 49,
    "start_time": "2025-01-26T22:15:13.999Z"
   },
   {
    "duration": 5,
    "start_time": "2025-01-26T22:15:14.050Z"
   },
   {
    "duration": 4,
    "start_time": "2025-01-26T22:15:14.057Z"
   },
   {
    "duration": 21,
    "start_time": "2025-01-26T22:15:14.063Z"
   },
   {
    "duration": 6,
    "start_time": "2025-01-26T22:15:14.086Z"
   },
   {
    "duration": 32,
    "start_time": "2025-01-26T22:15:14.093Z"
   },
   {
    "duration": 8,
    "start_time": "2025-01-26T22:15:14.127Z"
   },
   {
    "duration": 10,
    "start_time": "2025-01-26T22:15:14.136Z"
   },
   {
    "duration": 4,
    "start_time": "2025-01-26T22:15:14.148Z"
   },
   {
    "duration": 10,
    "start_time": "2025-01-26T22:15:14.153Z"
   },
   {
    "duration": 7,
    "start_time": "2025-01-26T22:15:14.164Z"
   },
   {
    "duration": 115,
    "start_time": "2025-01-26T22:34:30.134Z"
   },
   {
    "duration": 119,
    "start_time": "2025-01-26T22:34:54.492Z"
   },
   {
    "duration": 16,
    "start_time": "2025-01-26T22:38:50.870Z"
   },
   {
    "duration": 4,
    "start_time": "2025-01-26T22:40:31.137Z"
   },
   {
    "duration": 6,
    "start_time": "2025-01-26T22:41:23.819Z"
   },
   {
    "duration": 3,
    "start_time": "2025-01-26T22:41:32.055Z"
   },
   {
    "duration": 19,
    "start_time": "2025-01-26T22:45:06.389Z"
   },
   {
    "duration": 23,
    "start_time": "2025-01-26T22:46:39.705Z"
   },
   {
    "duration": 18,
    "start_time": "2025-01-26T22:46:46.653Z"
   },
   {
    "duration": 36,
    "start_time": "2025-01-26T22:47:37.833Z"
   },
   {
    "duration": 53,
    "start_time": "2025-01-26T22:50:03.860Z"
   },
   {
    "duration": 51,
    "start_time": "2025-01-26T22:50:53.752Z"
   },
   {
    "duration": 79,
    "start_time": "2025-01-26T22:51:25.787Z"
   },
   {
    "duration": 61,
    "start_time": "2025-01-26T22:52:40.943Z"
   },
   {
    "duration": 82,
    "start_time": "2025-01-26T22:53:23.374Z"
   },
   {
    "duration": 437,
    "start_time": "2025-01-26T22:53:29.031Z"
   },
   {
    "duration": 18,
    "start_time": "2025-01-26T22:53:29.471Z"
   },
   {
    "duration": 4,
    "start_time": "2025-01-26T22:53:29.490Z"
   },
   {
    "duration": 7,
    "start_time": "2025-01-26T22:53:29.496Z"
   },
   {
    "duration": 3,
    "start_time": "2025-01-26T22:53:29.525Z"
   },
   {
    "duration": 18,
    "start_time": "2025-01-26T22:53:29.530Z"
   },
   {
    "duration": 39,
    "start_time": "2025-01-26T22:53:29.549Z"
   },
   {
    "duration": 60,
    "start_time": "2025-01-26T22:53:29.589Z"
   },
   {
    "duration": 43,
    "start_time": "2025-01-26T22:53:29.651Z"
   },
   {
    "duration": 94,
    "start_time": "2025-01-26T22:53:29.695Z"
   },
   {
    "duration": 6,
    "start_time": "2025-01-26T22:53:29.790Z"
   },
   {
    "duration": 3,
    "start_time": "2025-01-26T22:53:29.797Z"
   },
   {
    "duration": 38,
    "start_time": "2025-01-26T22:53:29.802Z"
   },
   {
    "duration": 6,
    "start_time": "2025-01-26T22:53:29.842Z"
   },
   {
    "duration": 7,
    "start_time": "2025-01-26T22:53:29.850Z"
   },
   {
    "duration": 8,
    "start_time": "2025-01-26T22:53:29.858Z"
   },
   {
    "duration": 10,
    "start_time": "2025-01-26T22:53:29.868Z"
   },
   {
    "duration": 5,
    "start_time": "2025-01-26T22:53:29.879Z"
   },
   {
    "duration": 42,
    "start_time": "2025-01-26T22:53:29.887Z"
   },
   {
    "duration": 7,
    "start_time": "2025-01-26T22:53:29.930Z"
   },
   {
    "duration": 82,
    "start_time": "2025-01-26T22:58:08.654Z"
   },
   {
    "duration": 3,
    "start_time": "2025-01-26T23:00:41.537Z"
   },
   {
    "duration": 21,
    "start_time": "2025-01-26T23:00:52.521Z"
   },
   {
    "duration": 18,
    "start_time": "2025-01-26T23:01:00.948Z"
   },
   {
    "duration": 18,
    "start_time": "2025-01-26T23:01:06.882Z"
   },
   {
    "duration": 19,
    "start_time": "2025-01-26T23:01:12.983Z"
   },
   {
    "duration": 6,
    "start_time": "2025-01-26T23:01:23.093Z"
   },
   {
    "duration": 3,
    "start_time": "2025-01-26T23:01:23.607Z"
   },
   {
    "duration": 20,
    "start_time": "2025-01-26T23:01:24.369Z"
   },
   {
    "duration": 6,
    "start_time": "2025-01-26T23:02:27.258Z"
   },
   {
    "duration": 433,
    "start_time": "2025-01-26T23:03:27.780Z"
   },
   {
    "duration": 22,
    "start_time": "2025-01-26T23:03:28.215Z"
   },
   {
    "duration": 5,
    "start_time": "2025-01-26T23:03:28.239Z"
   },
   {
    "duration": 8,
    "start_time": "2025-01-26T23:03:28.246Z"
   },
   {
    "duration": 4,
    "start_time": "2025-01-26T23:03:28.257Z"
   },
   {
    "duration": 20,
    "start_time": "2025-01-26T23:03:28.263Z"
   },
   {
    "duration": 72,
    "start_time": "2025-01-26T23:03:28.284Z"
   },
   {
    "duration": 40,
    "start_time": "2025-01-26T23:03:28.358Z"
   },
   {
    "duration": 56,
    "start_time": "2025-01-26T23:03:28.400Z"
   },
   {
    "duration": 93,
    "start_time": "2025-01-26T23:03:28.458Z"
   },
   {
    "duration": 6,
    "start_time": "2025-01-26T23:03:28.553Z"
   },
   {
    "duration": 3,
    "start_time": "2025-01-26T23:03:28.560Z"
   },
   {
    "duration": 19,
    "start_time": "2025-01-26T23:03:28.565Z"
   },
   {
    "duration": 6,
    "start_time": "2025-01-26T23:03:28.587Z"
   },
   {
    "duration": 8,
    "start_time": "2025-01-26T23:03:28.623Z"
   },
   {
    "duration": 8,
    "start_time": "2025-01-26T23:03:28.632Z"
   },
   {
    "duration": 10,
    "start_time": "2025-01-26T23:03:28.642Z"
   },
   {
    "duration": 5,
    "start_time": "2025-01-26T23:03:28.653Z"
   },
   {
    "duration": 9,
    "start_time": "2025-01-26T23:03:28.660Z"
   },
   {
    "duration": 7,
    "start_time": "2025-01-26T23:03:28.671Z"
   },
   {
    "duration": 416,
    "start_time": "2025-01-26T23:07:55.020Z"
   },
   {
    "duration": 17,
    "start_time": "2025-01-26T23:07:55.438Z"
   },
   {
    "duration": 4,
    "start_time": "2025-01-26T23:07:55.457Z"
   },
   {
    "duration": 7,
    "start_time": "2025-01-26T23:07:55.462Z"
   },
   {
    "duration": 4,
    "start_time": "2025-01-26T23:07:55.471Z"
   },
   {
    "duration": 18,
    "start_time": "2025-01-26T23:07:55.476Z"
   },
   {
    "duration": 38,
    "start_time": "2025-01-26T23:07:55.525Z"
   },
   {
    "duration": 41,
    "start_time": "2025-01-26T23:07:55.565Z"
   },
   {
    "duration": 55,
    "start_time": "2025-01-26T23:07:55.608Z"
   },
   {
    "duration": 95,
    "start_time": "2025-01-26T23:07:55.665Z"
   },
   {
    "duration": 8,
    "start_time": "2025-01-26T23:07:55.762Z"
   },
   {
    "duration": 3,
    "start_time": "2025-01-26T23:07:55.775Z"
   },
   {
    "duration": 23,
    "start_time": "2025-01-26T23:07:55.779Z"
   },
   {
    "duration": 23,
    "start_time": "2025-01-26T23:07:55.805Z"
   },
   {
    "duration": 8,
    "start_time": "2025-01-26T23:07:55.829Z"
   },
   {
    "duration": 7,
    "start_time": "2025-01-26T23:07:55.839Z"
   },
   {
    "duration": 10,
    "start_time": "2025-01-26T23:07:55.849Z"
   },
   {
    "duration": 5,
    "start_time": "2025-01-26T23:07:55.860Z"
   },
   {
    "duration": 10,
    "start_time": "2025-01-26T23:07:55.866Z"
   },
   {
    "duration": 7,
    "start_time": "2025-01-26T23:07:55.878Z"
   },
   {
    "duration": 428,
    "start_time": "2025-01-26T23:11:16.955Z"
   },
   {
    "duration": 17,
    "start_time": "2025-01-26T23:11:17.386Z"
   },
   {
    "duration": 4,
    "start_time": "2025-01-26T23:11:17.404Z"
   },
   {
    "duration": 18,
    "start_time": "2025-01-26T23:11:17.411Z"
   },
   {
    "duration": 4,
    "start_time": "2025-01-26T23:11:17.431Z"
   },
   {
    "duration": 18,
    "start_time": "2025-01-26T23:11:17.437Z"
   },
   {
    "duration": 39,
    "start_time": "2025-01-26T23:11:17.457Z"
   },
   {
    "duration": 71,
    "start_time": "2025-01-26T23:11:17.497Z"
   },
   {
    "duration": 43,
    "start_time": "2025-01-26T23:11:17.570Z"
   },
   {
    "duration": 78,
    "start_time": "2025-01-26T23:11:17.624Z"
   },
   {
    "duration": 5,
    "start_time": "2025-01-26T23:11:17.704Z"
   },
   {
    "duration": 16,
    "start_time": "2025-01-26T23:11:17.710Z"
   },
   {
    "duration": 22,
    "start_time": "2025-01-26T23:11:17.728Z"
   },
   {
    "duration": 6,
    "start_time": "2025-01-26T23:11:17.752Z"
   },
   {
    "duration": 7,
    "start_time": "2025-01-26T23:11:17.759Z"
   },
   {
    "duration": 8,
    "start_time": "2025-01-26T23:11:17.767Z"
   },
   {
    "duration": 10,
    "start_time": "2025-01-26T23:11:17.777Z"
   },
   {
    "duration": 37,
    "start_time": "2025-01-26T23:11:17.789Z"
   },
   {
    "duration": 12,
    "start_time": "2025-01-26T23:11:17.827Z"
   },
   {
    "duration": 8,
    "start_time": "2025-01-26T23:11:17.841Z"
   },
   {
    "duration": 4,
    "start_time": "2025-01-26T23:11:56.373Z"
   },
   {
    "duration": 19,
    "start_time": "2025-01-26T23:12:56.087Z"
   },
   {
    "duration": 5,
    "start_time": "2025-01-26T23:12:59.508Z"
   },
   {
    "duration": 10,
    "start_time": "2025-01-26T23:13:26.245Z"
   },
   {
    "duration": 19,
    "start_time": "2025-01-26T23:17:16.267Z"
   },
   {
    "duration": 6,
    "start_time": "2025-01-26T23:17:18.852Z"
   },
   {
    "duration": 158,
    "start_time": "2025-01-27T20:17:58.614Z"
   },
   {
    "duration": 566,
    "start_time": "2025-01-27T20:18:06.040Z"
   },
   {
    "duration": 21,
    "start_time": "2025-01-27T20:18:06.608Z"
   },
   {
    "duration": 3,
    "start_time": "2025-01-27T20:18:06.631Z"
   },
   {
    "duration": 7,
    "start_time": "2025-01-27T20:18:06.637Z"
   },
   {
    "duration": 6,
    "start_time": "2025-01-27T20:18:06.647Z"
   },
   {
    "duration": 20,
    "start_time": "2025-01-27T20:18:06.654Z"
   },
   {
    "duration": 59,
    "start_time": "2025-01-27T20:18:06.704Z"
   },
   {
    "duration": 51,
    "start_time": "2025-01-27T20:18:06.765Z"
   },
   {
    "duration": 43,
    "start_time": "2025-01-27T20:18:06.818Z"
   },
   {
    "duration": 92,
    "start_time": "2025-01-27T20:18:06.863Z"
   },
   {
    "duration": 6,
    "start_time": "2025-01-27T20:18:06.956Z"
   },
   {
    "duration": 6,
    "start_time": "2025-01-27T20:18:06.963Z"
   },
   {
    "duration": 17,
    "start_time": "2025-01-27T20:18:06.971Z"
   },
   {
    "duration": 7,
    "start_time": "2025-01-27T20:18:07.007Z"
   },
   {
    "duration": 21,
    "start_time": "2025-01-27T20:18:07.015Z"
   },
   {
    "duration": 4,
    "start_time": "2025-01-27T20:18:07.038Z"
   },
   {
    "duration": 11,
    "start_time": "2025-01-27T20:18:07.044Z"
   },
   {
    "duration": 8,
    "start_time": "2025-01-27T20:18:07.057Z"
   },
   {
    "duration": 418,
    "start_time": "2025-02-26T07:16:44.704Z"
   },
   {
    "duration": 121,
    "start_time": "2025-02-26T07:23:31.334Z"
   },
   {
    "duration": 25,
    "start_time": "2025-02-26T07:24:00.964Z"
   },
   {
    "duration": 22,
    "start_time": "2025-02-26T07:24:47.454Z"
   },
   {
    "duration": 8,
    "start_time": "2025-02-26T07:35:51.972Z"
   },
   {
    "duration": 19,
    "start_time": "2025-02-26T07:36:35.828Z"
   },
   {
    "duration": 120,
    "start_time": "2025-02-26T07:37:20.464Z"
   },
   {
    "duration": 8,
    "start_time": "2025-02-26T07:37:25.395Z"
   },
   {
    "duration": 19,
    "start_time": "2025-02-26T07:37:26.080Z"
   },
   {
    "duration": 8,
    "start_time": "2025-02-26T07:37:50.325Z"
   },
   {
    "duration": 69,
    "start_time": "2025-02-26T07:40:07.661Z"
   },
   {
    "duration": 46,
    "start_time": "2025-02-26T07:51:38.534Z"
   },
   {
    "duration": 7,
    "start_time": "2025-02-26T07:52:09.282Z"
   },
   {
    "duration": 3,
    "start_time": "2025-02-26T07:52:11.171Z"
   },
   {
    "duration": 564,
    "start_time": "2025-02-26T07:52:15.384Z"
   },
   {
    "duration": 2,
    "start_time": "2025-02-26T07:52:31.959Z"
   },
   {
    "duration": 25,
    "start_time": "2025-02-26T07:52:33.074Z"
   },
   {
    "duration": 61,
    "start_time": "2025-02-26T07:53:03.824Z"
   },
   {
    "duration": 46,
    "start_time": "2025-02-26T07:53:35.688Z"
   },
   {
    "duration": 3,
    "start_time": "2025-02-26T07:53:43.104Z"
   },
   {
    "duration": 42,
    "start_time": "2025-02-26T07:53:56.995Z"
   },
   {
    "duration": 3,
    "start_time": "2025-02-26T07:54:13.276Z"
   },
   {
    "duration": 43,
    "start_time": "2025-02-26T07:54:13.899Z"
   },
   {
    "duration": 7,
    "start_time": "2025-02-26T07:55:17.312Z"
   },
   {
    "duration": 22,
    "start_time": "2025-02-26T07:55:18.017Z"
   },
   {
    "duration": 59,
    "start_time": "2025-02-26T07:55:19.395Z"
   },
   {
    "duration": 48,
    "start_time": "2025-02-26T07:55:20.182Z"
   },
   {
    "duration": 45,
    "start_time": "2025-02-26T07:55:21.558Z"
   },
   {
    "duration": 7,
    "start_time": "2025-02-26T07:55:22.008Z"
   },
   {
    "duration": 3,
    "start_time": "2025-02-26T07:55:22.681Z"
   },
   {
    "duration": 31,
    "start_time": "2025-02-26T07:55:23.292Z"
   },
   {
    "duration": 15,
    "start_time": "2025-02-26T07:55:44.635Z"
   },
   {
    "duration": 8,
    "start_time": "2025-02-26T07:55:54.215Z"
   },
   {
    "duration": 21,
    "start_time": "2025-02-26T08:03:50.859Z"
   },
   {
    "duration": 13,
    "start_time": "2025-02-26T08:28:50.232Z"
   },
   {
    "duration": 40,
    "start_time": "2025-02-26T08:28:52.856Z"
   },
   {
    "duration": 20,
    "start_time": "2025-02-26T08:29:01.986Z"
   },
   {
    "duration": 4,
    "start_time": "2025-02-26T08:29:04.595Z"
   },
   {
    "duration": 20,
    "start_time": "2025-02-26T08:29:27.838Z"
   },
   {
    "duration": 11,
    "start_time": "2025-02-26T08:30:19.800Z"
   },
   {
    "duration": 8,
    "start_time": "2025-02-26T08:30:33.448Z"
   },
   {
    "duration": 10,
    "start_time": "2025-02-26T18:26:56.992Z"
   }
  ],
  "kernelspec": {
   "display_name": "Python 3 (ipykernel)",
   "language": "python",
   "name": "python3"
  },
  "language_info": {
   "codemirror_mode": {
    "name": "ipython",
    "version": 3
   },
   "file_extension": ".py",
   "mimetype": "text/x-python",
   "name": "python",
   "nbconvert_exporter": "python",
   "pygments_lexer": "ipython3",
   "version": "3.9.19"
  },
  "toc": {
   "base_numbering": 1,
   "nav_menu": {},
   "number_sections": true,
   "sideBar": true,
   "skip_h1_title": true,
   "title_cell": "Table of Contents",
   "title_sidebar": "Contents",
   "toc_cell": false,
   "toc_position": {},
   "toc_section_display": true,
   "toc_window_display": false
  }
 },
 "nbformat": 4,
 "nbformat_minor": 5
}
