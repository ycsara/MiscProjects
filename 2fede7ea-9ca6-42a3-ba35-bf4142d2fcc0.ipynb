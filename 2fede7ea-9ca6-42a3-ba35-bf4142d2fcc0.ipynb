{
 "cells": [
  {
   "cell_type": "markdown",
   "metadata": {},
   "source": [
    "# Game Sales Data Analysis"
   ]
  },
  {
   "cell_type": "markdown",
   "metadata": {},
   "source": [
    "In this analysis, I will explore factors that influence video games success to help the online store, Ice, optimize its advertising campaigns for the 2017 year. Using a dataset with dates spanning from 1985 to 2016, I will variables such as user reviews, genres, platforms (e.g., Xbox, PlayStation), sales data, and ESRB (Entertainment Software Rating Board) ratings. The ESRB ratings provide insights into the target audience by categorizing games based on content suitability, such as Teen or Mature.\n",
    "\n",
    "The primary objective is to identify patterns and trends that determine whether a game succeeds in the market. By analyzing these factors, I will pinpoint most successful platforms and strategically plan advertising campaigns to maximize revenue in the next year. This analysis will help make future data-driven decisions to ensure Ice remains competitive in the rapidly evolving video game industry."
   ]
  },
  {
   "cell_type": "markdown",
   "metadata": {},
   "source": [
    " "
   ]
  },
  {
   "cell_type": "markdown",
   "metadata": {},
   "source": [
    "## Initializating and Preparing Data"
   ]
  },
  {
   "cell_type": "code",
   "execution_count": 37,
   "metadata": {},
   "outputs": [],
   "source": [
    "# loading all the libraries\n",
    "import pandas as pd\n",
    "from matplotlib import pyplot as plt\n",
    "from IPython.display import display_html\n",
    "from scipy import stats as st\n",
    "import plotly.express as px\n",
    "import seaborn as sns\n",
    "import numpy as np"
   ]
  },
  {
   "cell_type": "code",
   "execution_count": 38,
   "metadata": {},
   "outputs": [
    {
     "data": {
      "text/html": [
       "<div>\n",
       "<style scoped>\n",
       "    .dataframe tbody tr th:only-of-type {\n",
       "        vertical-align: middle;\n",
       "    }\n",
       "\n",
       "    .dataframe tbody tr th {\n",
       "        vertical-align: top;\n",
       "    }\n",
       "\n",
       "    .dataframe thead th {\n",
       "        text-align: right;\n",
       "    }\n",
       "</style>\n",
       "<table border=\"1\" class=\"dataframe\">\n",
       "  <thead>\n",
       "    <tr style=\"text-align: right;\">\n",
       "      <th></th>\n",
       "      <th>Name</th>\n",
       "      <th>Platform</th>\n",
       "      <th>Year_of_Release</th>\n",
       "      <th>Genre</th>\n",
       "      <th>NA_sales</th>\n",
       "      <th>EU_sales</th>\n",
       "      <th>JP_sales</th>\n",
       "      <th>Other_sales</th>\n",
       "      <th>Critic_Score</th>\n",
       "      <th>User_Score</th>\n",
       "      <th>Rating</th>\n",
       "    </tr>\n",
       "  </thead>\n",
       "  <tbody>\n",
       "    <tr>\n",
       "      <th>0</th>\n",
       "      <td>Wii Sports</td>\n",
       "      <td>Wii</td>\n",
       "      <td>2006.0</td>\n",
       "      <td>Sports</td>\n",
       "      <td>41.36</td>\n",
       "      <td>28.96</td>\n",
       "      <td>3.77</td>\n",
       "      <td>8.45</td>\n",
       "      <td>76.0</td>\n",
       "      <td>8</td>\n",
       "      <td>E</td>\n",
       "    </tr>\n",
       "    <tr>\n",
       "      <th>1</th>\n",
       "      <td>Super Mario Bros.</td>\n",
       "      <td>NES</td>\n",
       "      <td>1985.0</td>\n",
       "      <td>Platform</td>\n",
       "      <td>29.08</td>\n",
       "      <td>3.58</td>\n",
       "      <td>6.81</td>\n",
       "      <td>0.77</td>\n",
       "      <td>NaN</td>\n",
       "      <td>NaN</td>\n",
       "      <td>NaN</td>\n",
       "    </tr>\n",
       "    <tr>\n",
       "      <th>2</th>\n",
       "      <td>Mario Kart Wii</td>\n",
       "      <td>Wii</td>\n",
       "      <td>2008.0</td>\n",
       "      <td>Racing</td>\n",
       "      <td>15.68</td>\n",
       "      <td>12.76</td>\n",
       "      <td>3.79</td>\n",
       "      <td>3.29</td>\n",
       "      <td>82.0</td>\n",
       "      <td>8.3</td>\n",
       "      <td>E</td>\n",
       "    </tr>\n",
       "    <tr>\n",
       "      <th>3</th>\n",
       "      <td>Wii Sports Resort</td>\n",
       "      <td>Wii</td>\n",
       "      <td>2009.0</td>\n",
       "      <td>Sports</td>\n",
       "      <td>15.61</td>\n",
       "      <td>10.93</td>\n",
       "      <td>3.28</td>\n",
       "      <td>2.95</td>\n",
       "      <td>80.0</td>\n",
       "      <td>8</td>\n",
       "      <td>E</td>\n",
       "    </tr>\n",
       "    <tr>\n",
       "      <th>4</th>\n",
       "      <td>Pokemon Red/Pokemon Blue</td>\n",
       "      <td>GB</td>\n",
       "      <td>1996.0</td>\n",
       "      <td>Role-Playing</td>\n",
       "      <td>11.27</td>\n",
       "      <td>8.89</td>\n",
       "      <td>10.22</td>\n",
       "      <td>1.00</td>\n",
       "      <td>NaN</td>\n",
       "      <td>NaN</td>\n",
       "      <td>NaN</td>\n",
       "    </tr>\n",
       "  </tbody>\n",
       "</table>\n",
       "</div>"
      ],
      "text/plain": [
       "                       Name Platform  Year_of_Release         Genre  NA_sales  \\\n",
       "0                Wii Sports      Wii           2006.0        Sports     41.36   \n",
       "1         Super Mario Bros.      NES           1985.0      Platform     29.08   \n",
       "2            Mario Kart Wii      Wii           2008.0        Racing     15.68   \n",
       "3         Wii Sports Resort      Wii           2009.0        Sports     15.61   \n",
       "4  Pokemon Red/Pokemon Blue       GB           1996.0  Role-Playing     11.27   \n",
       "\n",
       "   EU_sales  JP_sales  Other_sales  Critic_Score User_Score Rating  \n",
       "0     28.96      3.77         8.45          76.0          8      E  \n",
       "1      3.58      6.81         0.77           NaN        NaN    NaN  \n",
       "2     12.76      3.79         3.29          82.0        8.3      E  \n",
       "3     10.93      3.28         2.95          80.0          8      E  \n",
       "4      8.89     10.22         1.00           NaN        NaN    NaN  "
      ]
     },
     "execution_count": 38,
     "metadata": {},
     "output_type": "execute_result"
    }
   ],
   "source": [
    "games = pd.read_csv('/datasets/games.csv'); games.head()"
   ]
  },
  {
   "cell_type": "markdown",
   "metadata": {},
   "source": [
    "According to the documentation:\n",
    "- `'Name'` — Name of the video game\n",
    "- `'Platform'` — Platform of where the video game was released\n",
    "- `'Year_of_Release '` — The year the video game was released\n",
    "- `'Genre '` — The genre or category of the video game\n",
    "- `'NA_Sales'` — Total sales of the video game in North America (in millions of units)\n",
    "- `'EU_Sales'` — Total sales of the video game in Europe (in millions of units)\n",
    "- `'JP_Sales'` — Total sales of the video game in Japan (in millions of units)\n",
    "- `'Other_sales'` — Total sales of the video game in other regions (in millions of units)\n",
    "- `'Critic_Score '` — Average score given by professional critics (0-100)\n",
    "- `'User_Score '` — Average score given by users (typically on a scale of 0 to 10)\n",
    "- `'Rating'` — The official content rating of the video game\n",
    " \n",
    "Specifically, the ESRB Ratings:\n",
    "- `E` - Everyone  \n",
    "- `T` - Teen  \n",
    "- `M` - Mature  \n",
    "- `E10+` - Everyone 10+  \n",
    "- `EC` - Early Childhood  \n",
    "- `AO` - Adults Only  \n",
    "- `RP` - Rating Pending  "
   ]
  },
  {
   "cell_type": "code",
   "execution_count": 39,
   "metadata": {},
   "outputs": [
    {
     "data": {
      "text/plain": [
       "0"
      ]
     },
     "execution_count": 39,
     "metadata": {},
     "output_type": "execute_result"
    }
   ],
   "source": [
    "games.columns = games.columns.str.lower() # lowercasing column names\n",
    "games.duplicated().sum() # checking for duplicates"
   ]
  },
  {
   "cell_type": "code",
   "execution_count": 40,
   "metadata": {},
   "outputs": [
    {
     "data": {
      "text/plain": [
       "name                  2\n",
       "platform              0\n",
       "year_of_release     269\n",
       "genre                 2\n",
       "na_sales              0\n",
       "eu_sales              0\n",
       "jp_sales              0\n",
       "other_sales           0\n",
       "critic_score       8578\n",
       "user_score         6701\n",
       "rating             6766\n",
       "dtype: int64"
      ]
     },
     "execution_count": 40,
     "metadata": {},
     "output_type": "execute_result"
    }
   ],
   "source": [
    "games.isna().sum() # checking for missing values"
   ]
  },
  {
   "cell_type": "code",
   "execution_count": 63,
   "metadata": {},
   "outputs": [
    {
     "name": "stdout",
     "output_type": "stream",
     "text": [
      "<class 'pandas.core.frame.DataFrame'>\n",
      "Int64Index: 16444 entries, 0 to 16714\n",
      "Data columns (total 12 columns):\n",
      " #   Column           Non-Null Count  Dtype  \n",
      "---  ------           --------------  -----  \n",
      " 0   name             16444 non-null  object \n",
      " 1   platform         16444 non-null  object \n",
      " 2   year_of_release  16444 non-null  int64  \n",
      " 3   genre            16444 non-null  object \n",
      " 4   na_sales         16444 non-null  float64\n",
      " 5   eu_sales         16444 non-null  float64\n",
      " 6   jp_sales         16444 non-null  float64\n",
      " 7   other_sales      16444 non-null  float64\n",
      " 8   critic_score     7983 non-null   float64\n",
      " 9   user_score       7463 non-null   float64\n",
      " 10  rating           9768 non-null   object \n",
      " 11  total_sales      16444 non-null  float64\n",
      "dtypes: float64(7), int64(1), object(4)\n",
      "memory usage: 1.6+ MB\n"
     ]
    }
   ],
   "source": [
    "# drop unnecessary values\n",
    "games = games.dropna(subset=['year_of_release', 'name', 'genre'])\n",
    "# converting data (with missing values) to required types\n",
    "games['user_score'] = pd.to_numeric(games['user_score'].replace('tbd', np.nan), errors='coerce')\n",
    "games['critic_score'] = pd.to_numeric(games['critic_score'], errors='coerce')\n",
    "games['year_of_release'] = games['year_of_release'].astype(int)\n",
    "games['user_score'] = pd.to_numeric(games['user_score']).astype(float)\n",
    "# add a total sales column in the dataframe\n",
    "games['total_sales'] = games['na_sales'] + games['eu_sales'] + games['jp_sales'] + games['other_sales']\n",
    "games.info() # general summary/information"
   ]
  },
  {
   "cell_type": "markdown",
   "metadata": {},
   "source": [
    "In the preparation phase, I addressed several issues to make sure the dataset was clean and ready for analysis. First, I converted all variable names to lowercase for uniformity. Next, I checked for duplicate entries and confirmed there were none. Then, I identified missing values in several columns, including `name`, `year_of_release`, `genre`, `critic_score`, `user_score`, and `rating`. To handle these, I dropped rows with missing values in `name`, `year_of_release`, `genre`, and `rating`, as these fields are critical for analysis and cannot be reasonably replaced with an integer. For the `user_score` column, I removed missing values before replacing entries marked as 'tbd' with 0. Similarly, I addressed missing values in the `critic_score` column by filling them with 0. Prior to handling the missing values in `user_score`, I converted its data type from object to float to accommodate decimal values. Additionally, I standardized the data types by converting the `year_of_release` and `critic_score` columns to integers. Lastly, to enhance the dataset for analysis, I also added a `total_sales` column, which sums all sales data across North America, Europe, and Japan.\n",
    "\n",
    "With these steps completed, the dataset is now clean and ready for analysis."
   ]
  },
  {
   "cell_type": "markdown",
   "metadata": {},
   "source": [
    " "
   ]
  },
  {
   "cell_type": "markdown",
   "metadata": {},
   "source": [
    "## Analyzing the Data"
   ]
  },
  {
   "cell_type": "code",
   "execution_count": 45,
   "metadata": {},
   "outputs": [
    {
     "data": {
      "image/png": "[encoded data removed]",
      "text/plain": [
       "<Figure size 640x480 with 1 Axes>"
      ]
     },
     "metadata": {},
     "output_type": "display_data"
    }
   ],
   "source": [
    "year_counts = games['year_of_release'].value_counts().reset_index().rename(\n",
    "    columns={'index': 'year', 'year_of_release': 'count'})\n",
    "plt.bar(year_counts['year'], year_counts['count'], color='blue')\n",
    "plt.xlabel('Year of Release')\n",
    "plt.ylabel('Number of Games Released')\n",
    "plt.title('Number of Games Released by Year');"
   ]
  },
  {
   "cell_type": "code",
   "execution_count": 62,
   "metadata": {},
   "outputs": [
    {
     "data": {
      "image/png": "[encoded data removed]",
      "text/plain": [
       "<Figure size 1200x800 with 1 Axes>"
      ]
     },
     "metadata": {},
     "output_type": "display_data"
    }
   ],
   "source": [
    "plt.figure(figsize=(12, 8))\n",
    "plt.rcParams['axes.prop_cycle'] = plt.cycler(color=plt.cm.tab20.colors)\n",
    "\n",
    "for i in range(len(top_sales)):\n",
    "    platform = top_sales['platform'][i]\n",
    "    graph = games[games['platform'] == \n",
    "                  platform].groupby('year_of_release')['total_sales'].sum().reset_index()\n",
    "    plt.plot(graph['year_of_release'], graph['total_sales'], label=f\"{platform}\", alpha=0.8, linewidth=2)\n",
    "\n",
    "plt.xlabel('Year of Release')\n",
    "plt.ylabel('Total Sales (Millions)')\n",
    "plt.title('Total Sales by Platform Over Years')\n",
    "plt.legend(bbox_to_anchor=(1.025, 1.06), title='Platforms', frameon=False)\n",
    "plt.show()"
   ]
  },
  {
   "cell_type": "markdown",
   "metadata": {},
   "source": [
    "Look at how many games were released in different years. Is the data for every period significant? "
   ]
  },
  {
   "cell_type": "markdown",
   "metadata": {},
   "source": [
    "Find platforms that used to be popular but now have zero sales. \n",
    "How long does it generally take for new platforms to appear and old ones to fade?"
   ]
  },
  {
   "cell_type": "markdown",
   "metadata": {},
   "source": [
    "Which platforms are leading in sales? \n",
    "Which ones are growing or shrinking? Select several potentially profitable platforms."
   ]
  },
  {
   "cell_type": "code",
   "execution_count": 65,
   "metadata": {},
   "outputs": [
    {
     "data": {
      "text/plain": [
       "<matplotlib.legend.Legend at 0x7f569ae9e610>"
      ]
     },
     "execution_count": 65,
     "metadata": {},
     "output_type": "execute_result"
    },
    {
     "data": {
      "text/plain": [
       "<Figure size 1200x800 with 0 Axes>"
      ]
     },
     "metadata": {},
     "output_type": "display_data"
    },
    {
     "data": {
      "image/png": "[encoded data removed]",
      "text/plain": [
       "<Figure size 640x480 with 1 Axes>"
      ]
     },
     "metadata": {},
     "output_type": "display_data"
    },
    {
     "data": {
      "image/png": "[encoded data removed]",
      "text/plain": [
       "<Figure size 640x480 with 1 Axes>"
      ]
     },
     "metadata": {},
     "output_type": "display_data"
    },
    {
     "data": {
      "image/png": "[encoded data removed]",
      "text/plain": [
       "<Figure size 640x480 with 1 Axes>"
      ]
     },
     "metadata": {},
     "output_type": "display_data"
    },
    {
     "data": {
      "image/png": "[encoded data removed]",
      "text/plain": [
       "<Figure size 640x480 with 1 Axes>"
      ]
     },
     "metadata": {},
     "output_type": "display_data"
    },
    {
     "data": {
      "image/png": "[encoded data removed]",
      "text/plain": [
       "<Figure size 640x480 with 1 Axes>"
      ]
     },
     "metadata": {},
     "output_type": "display_data"
    }
   ],
   "source": [
    "plt.figure(figsize=(12, 8))\n",
    "top_5 = list(top_sales['platform'].head())\n",
    "\n",
    "for i in top_5:\n",
    "    platform = top_sales['platform'][i]\n",
    "    graph = games[games['platform'] == \n",
    "                  platform].groupby('year_of_release')['total_sales'].sum().reset_index()\n",
    "    graph.plot(kind='hist')\n",
    "plt.xlabel('Year of Release')\n",
    "plt.ylabel('Total Sales (Millions)')\n",
    "plt.title('Total Sales by Platform Over Years')\n",
    "plt.legend(bbox_to_anchor=(1.05, 1), title='Platforms', frameon=False)"
   ]
  },
  {
   "cell_type": "markdown",
   "metadata": {},
   "source": [
    "Look at how sales varied from platform to platform. \n",
    "Choose the platforms with the greatest total sales and build a distribution based on data for each year."
   ]
  },
  {
   "cell_type": "code",
   "execution_count": 79,
   "metadata": {},
   "outputs": [
    {
     "data": {
      "image/png": "[encoded data removed]",
      "text/plain": [
       "<Figure size 900x500 with 1 Axes>"
      ]
     },
     "metadata": {},
     "output_type": "display_data"
    }
   ],
   "source": [
    "# Build a box plot for the global sales of all games, broken down by platform. \n",
    "# Are the differences in sales significant? \n",
    "# What about average sales on various platforms? Describe your findings.\n",
    "plt.figure(figsize=(9, 5))\n",
    "games = games[games['year_of_release'] >= 2000]\n",
    "sns.boxplot(x='platform', y='total_sales', data=games[['platform', 'total_sales']], showfliers=False);"
   ]
  },
  {
   "cell_type": "markdown",
   "metadata": {},
   "source": [
    "Determine what period you should take data for. \n",
    "To do so, look at your answers to the previous questions. \n",
    "The data should allow you to build a model for 2017.\n",
    "Work only with the data that you've decided is relevant. Disregard the data for previous years."
   ]
  },
  {
   "cell_type": "code",
   "execution_count": null,
   "metadata": {},
   "outputs": [],
   "source": []
  },
  {
   "cell_type": "code",
   "execution_count": 12,
   "metadata": {},
   "outputs": [],
   "source": [
    "# Take a look at how user and professional reviews affect sales for one popular platform (you choose). \n",
    "# Build a scatter plot and calculate the correlation between reviews and sales. Draw conclusions.\n"
   ]
  },
  {
   "cell_type": "markdown",
   "metadata": {},
   "source": [
    "Keeping your conclusions in mind, compare the sales of the same games on other platforms."
   ]
  },
  {
   "cell_type": "code",
   "execution_count": 13,
   "metadata": {},
   "outputs": [],
   "source": [
    "# Take a look at the general distribution of games by genre. \n",
    "# What can we say about the most profitable genres? \n",
    "# Can you generalize about genres with high and low sales?"
   ]
  },
  {
   "cell_type": "markdown",
   "metadata": {},
   "source": [
    " "
   ]
  },
  {
   "cell_type": "markdown",
   "metadata": {},
   "source": [
    "## Creating User Profile for each Region"
   ]
  },
  {
   "cell_type": "markdown",
   "metadata": {},
   "source": []
  },
  {
   "cell_type": "code",
   "execution_count": 14,
   "metadata": {},
   "outputs": [],
   "source": [
    "def profile(x):\n",
    "    if x == 'rating':\n",
    "        na = games.groupby(x)['na_sales'].sum().reset_index().sort_values(\n",
    "            by='na_sales', ascending=False).reset_index(drop=True)\n",
    "        eu = games.groupby(x)['eu_sales'].sum().reset_index().sort_values(\n",
    "            by='eu_sales', ascending=False).reset_index(drop=True)\n",
    "        jp = games.groupby(x)['jp_sales'].sum().reset_index().sort_values(\n",
    "            by='jp_sales', ascending=False).reset_index(drop=True)\n",
    "    else:\n",
    "        na = games.groupby(x)['na_sales'].sum().reset_index().sort_values(\n",
    "            by='na_sales', ascending=False).reset_index(drop=True).head()\n",
    "        eu = games.groupby(x)['eu_sales'].sum().reset_index().sort_values(\n",
    "            by='eu_sales', ascending=False).reset_index(drop=True).head()\n",
    "        jp = games.groupby(x)['jp_sales'].sum().reset_index().sort_values(\n",
    "            by='jp_sales', ascending=False).reset_index(drop=True).head()\n",
    "        \n",
    "    na_cap = na.style.set_caption(\"North America\").format({'na_sales': '{:.2f}'})\n",
    "    eu_cap = eu.style.set_caption(\"Europe\").format({'eu_sales': '{:.2f}'})\n",
    "    jp_cap = jp.style.set_caption(\"Japan\").format({'jp_sales': '{:.2f}'})\n",
    "    \n",
    "    combine = (na_cap.render() + eu_cap.render() + jp_cap.render())\n",
    "    display_html(combine.replace(\n",
    "        'table', 'table style=\"display:inline-block; margin-right:20px;\"'), raw=True)"
   ]
  },
  {
   "cell_type": "markdown",
   "metadata": {},
   "source": [
    "### Top Five Platforms"
   ]
  },
  {
   "cell_type": "code",
   "execution_count": 15,
   "metadata": {},
   "outputs": [
    {
     "data": {
      "text/html": [
       "<style  type=\"text/css\" >\n",
       "</style><table style=\"display:inline-block; margin-right:20px;\" id=\"T_e7a82_\" ><caption>North America</caption><thead>    <tr>        <th class=\"blank level0\" ></th>        <th class=\"col_heading level0 col0\" >platform</th>        <th class=\"col_heading level0 col1\" >na_sales</th>    </tr></thead><tbody>\n",
       "                <tr>\n",
       "                        <th id=\"T_e7a82_level0_row0\" class=\"row_heading level0 row0\" >0</th>\n",
       "                        <td id=\"T_e7a82_row0_col0\" class=\"data row0 col0\" >X360</td>\n",
       "                        <td id=\"T_e7a82_row0_col1\" class=\"data row0 col1\" >595.74</td>\n",
       "            </tr>\n",
       "            <tr>\n",
       "                        <th id=\"T_e7a82_level0_row1\" class=\"row_heading level0 row1\" >1</th>\n",
       "                        <td id=\"T_e7a82_row1_col0\" class=\"data row1 col0\" >PS2</td>\n",
       "                        <td id=\"T_e7a82_row1_col1\" class=\"data row1 col1\" >572.92</td>\n",
       "            </tr>\n",
       "            <tr>\n",
       "                        <th id=\"T_e7a82_level0_row2\" class=\"row_heading level0 row2\" >2</th>\n",
       "                        <td id=\"T_e7a82_row2_col0\" class=\"data row2 col0\" >Wii</td>\n",
       "                        <td id=\"T_e7a82_row2_col1\" class=\"data row2 col1\" >486.87</td>\n",
       "            </tr>\n",
       "            <tr>\n",
       "                        <th id=\"T_e7a82_level0_row3\" class=\"row_heading level0 row3\" >3</th>\n",
       "                        <td id=\"T_e7a82_row3_col0\" class=\"data row3 col0\" >PS3</td>\n",
       "                        <td id=\"T_e7a82_row3_col1\" class=\"data row3 col1\" >390.13</td>\n",
       "            </tr>\n",
       "            <tr>\n",
       "                        <th id=\"T_e7a82_level0_row4\" class=\"row_heading level0 row4\" >4</th>\n",
       "                        <td id=\"T_e7a82_row4_col0\" class=\"data row4 col0\" >DS</td>\n",
       "                        <td id=\"T_e7a82_row4_col1\" class=\"data row4 col1\" >380.31</td>\n",
       "            </tr>\n",
       "    </tbody></table style=\"display:inline-block; margin-right:20px;\"><style  type=\"text/css\" >\n",
       "</style><table style=\"display:inline-block; margin-right:20px;\" id=\"T_8fd84_\" ><caption>Europe</caption><thead>    <tr>        <th class=\"blank level0\" ></th>        <th class=\"col_heading level0 col0\" >platform</th>        <th class=\"col_heading level0 col1\" >eu_sales</th>    </tr></thead><tbody>\n",
       "                <tr>\n",
       "                        <th id=\"T_8fd84_level0_row0\" class=\"row_heading level0 row0\" >0</th>\n",
       "                        <td id=\"T_8fd84_row0_col0\" class=\"data row0 col0\" >PS2</td>\n",
       "                        <td id=\"T_8fd84_row0_col1\" class=\"data row0 col1\" >332.63</td>\n",
       "            </tr>\n",
       "            <tr>\n",
       "                        <th id=\"T_8fd84_level0_row1\" class=\"row_heading level0 row1\" >1</th>\n",
       "                        <td id=\"T_8fd84_row1_col0\" class=\"data row1 col0\" >PS3</td>\n",
       "                        <td id=\"T_8fd84_row1_col1\" class=\"data row1 col1\" >327.21</td>\n",
       "            </tr>\n",
       "            <tr>\n",
       "                        <th id=\"T_8fd84_level0_row2\" class=\"row_heading level0 row2\" >2</th>\n",
       "                        <td id=\"T_8fd84_row2_col0\" class=\"data row2 col0\" >X360</td>\n",
       "                        <td id=\"T_8fd84_row2_col1\" class=\"data row2 col1\" >268.32</td>\n",
       "            </tr>\n",
       "            <tr>\n",
       "                        <th id=\"T_8fd84_level0_row3\" class=\"row_heading level0 row3\" >3</th>\n",
       "                        <td id=\"T_8fd84_row3_col0\" class=\"data row3 col0\" >Wii</td>\n",
       "                        <td id=\"T_8fd84_row3_col1\" class=\"data row3 col1\" >258.32</td>\n",
       "            </tr>\n",
       "            <tr>\n",
       "                        <th id=\"T_8fd84_level0_row4\" class=\"row_heading level0 row4\" >4</th>\n",
       "                        <td id=\"T_8fd84_row4_col0\" class=\"data row4 col0\" >DS</td>\n",
       "                        <td id=\"T_8fd84_row4_col1\" class=\"data row4 col1\" >188.41</td>\n",
       "            </tr>\n",
       "    </tbody></table style=\"display:inline-block; margin-right:20px;\"><style  type=\"text/css\" >\n",
       "</style><table style=\"display:inline-block; margin-right:20px;\" id=\"T_cfbe9_\" ><caption>Japan</caption><thead>    <tr>        <th class=\"blank level0\" ></th>        <th class=\"col_heading level0 col0\" >platform</th>        <th class=\"col_heading level0 col1\" >jp_sales</th>    </tr></thead><tbody>\n",
       "                <tr>\n",
       "                        <th id=\"T_cfbe9_level0_row0\" class=\"row_heading level0 row0\" >0</th>\n",
       "                        <td id=\"T_cfbe9_row0_col0\" class=\"data row0 col0\" >DS</td>\n",
       "                        <td id=\"T_cfbe9_row0_col1\" class=\"data row0 col1\" >175.00</td>\n",
       "            </tr>\n",
       "            <tr>\n",
       "                        <th id=\"T_cfbe9_level0_row1\" class=\"row_heading level0 row1\" >1</th>\n",
       "                        <td id=\"T_cfbe9_row1_col0\" class=\"data row1 col0\" >PS2</td>\n",
       "                        <td id=\"T_cfbe9_row1_col1\" class=\"data row1 col1\" >137.54</td>\n",
       "            </tr>\n",
       "            <tr>\n",
       "                        <th id=\"T_cfbe9_level0_row2\" class=\"row_heading level0 row2\" >2</th>\n",
       "                        <td id=\"T_cfbe9_row2_col0\" class=\"data row2 col0\" >3DS</td>\n",
       "                        <td id=\"T_cfbe9_row2_col1\" class=\"data row2 col1\" >100.62</td>\n",
       "            </tr>\n",
       "            <tr>\n",
       "                        <th id=\"T_cfbe9_level0_row3\" class=\"row_heading level0 row3\" >3</th>\n",
       "                        <td id=\"T_cfbe9_row3_col0\" class=\"data row3 col0\" >PS3</td>\n",
       "                        <td id=\"T_cfbe9_row3_col1\" class=\"data row3 col1\" >79.41</td>\n",
       "            </tr>\n",
       "            <tr>\n",
       "                        <th id=\"T_cfbe9_level0_row4\" class=\"row_heading level0 row4\" >4</th>\n",
       "                        <td id=\"T_cfbe9_row4_col0\" class=\"data row4 col0\" >PSP</td>\n",
       "                        <td id=\"T_cfbe9_row4_col1\" class=\"data row4 col1\" >75.88</td>\n",
       "            </tr>\n",
       "    </tbody></table style=\"display:inline-block; margin-right:20px;\">"
      ]
     },
     "metadata": {},
     "output_type": "display_data"
    }
   ],
   "source": [
    "profile('platform')"
   ]
  },
  {
   "cell_type": "markdown",
   "metadata": {},
   "source": []
  },
  {
   "cell_type": "markdown",
   "metadata": {},
   "source": [
    "### Top Five Genres"
   ]
  },
  {
   "cell_type": "code",
   "execution_count": 16,
   "metadata": {},
   "outputs": [
    {
     "data": {
      "text/html": [
       "<style  type=\"text/css\" >\n",
       "</style><table style=\"display:inline-block; margin-right:20px;\" id=\"T_551f3_\" ><caption>North America</caption><thead>    <tr>        <th class=\"blank level0\" ></th>        <th class=\"col_heading level0 col0\" >genre</th>        <th class=\"col_heading level0 col1\" >na_sales</th>    </tr></thead><tbody>\n",
       "                <tr>\n",
       "                        <th id=\"T_551f3_level0_row0\" class=\"row_heading level0 row0\" >0</th>\n",
       "                        <td id=\"T_551f3_row0_col0\" class=\"data row0 col0\" >Action</td>\n",
       "                        <td id=\"T_551f3_row0_col1\" class=\"data row0 col1\" >752.27</td>\n",
       "            </tr>\n",
       "            <tr>\n",
       "                        <th id=\"T_551f3_level0_row1\" class=\"row_heading level0 row1\" >1</th>\n",
       "                        <td id=\"T_551f3_row1_col0\" class=\"data row1 col0\" >Sports</td>\n",
       "                        <td id=\"T_551f3_row1_col1\" class=\"data row1 col1\" >589.39</td>\n",
       "            </tr>\n",
       "            <tr>\n",
       "                        <th id=\"T_551f3_level0_row2\" class=\"row_heading level0 row2\" >2</th>\n",
       "                        <td id=\"T_551f3_row2_col0\" class=\"data row2 col0\" >Shooter</td>\n",
       "                        <td id=\"T_551f3_row2_col1\" class=\"data row2 col1\" >495.23</td>\n",
       "            </tr>\n",
       "            <tr>\n",
       "                        <th id=\"T_551f3_level0_row3\" class=\"row_heading level0 row3\" >3</th>\n",
       "                        <td id=\"T_551f3_row3_col0\" class=\"data row3 col0\" >Misc</td>\n",
       "                        <td id=\"T_551f3_row3_col1\" class=\"data row3 col1\" >365.27</td>\n",
       "            </tr>\n",
       "            <tr>\n",
       "                        <th id=\"T_551f3_level0_row4\" class=\"row_heading level0 row4\" >4</th>\n",
       "                        <td id=\"T_551f3_row4_col0\" class=\"data row4 col0\" >Role-Playing</td>\n",
       "                        <td id=\"T_551f3_row4_col1\" class=\"data row4 col1\" >282.30</td>\n",
       "            </tr>\n",
       "    </tbody></table style=\"display:inline-block; margin-right:20px;\"><style  type=\"text/css\" >\n",
       "</style><table style=\"display:inline-block; margin-right:20px;\" id=\"T_d8539_\" ><caption>Europe</caption><thead>    <tr>        <th class=\"blank level0\" ></th>        <th class=\"col_heading level0 col0\" >genre</th>        <th class=\"col_heading level0 col1\" >eu_sales</th>    </tr></thead><tbody>\n",
       "                <tr>\n",
       "                        <th id=\"T_d8539_level0_row0\" class=\"row_heading level0 row0\" >0</th>\n",
       "                        <td id=\"T_d8539_row0_col0\" class=\"data row0 col0\" >Action</td>\n",
       "                        <td id=\"T_d8539_row0_col1\" class=\"data row0 col1\" >466.58</td>\n",
       "            </tr>\n",
       "            <tr>\n",
       "                        <th id=\"T_d8539_level0_row1\" class=\"row_heading level0 row1\" >1</th>\n",
       "                        <td id=\"T_d8539_row1_col0\" class=\"data row1 col0\" >Sports</td>\n",
       "                        <td id=\"T_d8539_row1_col1\" class=\"data row1 col1\" >339.58</td>\n",
       "            </tr>\n",
       "            <tr>\n",
       "                        <th id=\"T_d8539_level0_row2\" class=\"row_heading level0 row2\" >2</th>\n",
       "                        <td id=\"T_d8539_row2_col0\" class=\"data row2 col0\" >Shooter</td>\n",
       "                        <td id=\"T_d8539_row2_col1\" class=\"data row2 col1\" >294.02</td>\n",
       "            </tr>\n",
       "            <tr>\n",
       "                        <th id=\"T_d8539_level0_row3\" class=\"row_heading level0 row3\" >3</th>\n",
       "                        <td id=\"T_d8539_row3_col0\" class=\"data row3 col0\" >Misc</td>\n",
       "                        <td id=\"T_d8539_row3_col1\" class=\"data row3 col1\" >196.71</td>\n",
       "            </tr>\n",
       "            <tr>\n",
       "                        <th id=\"T_d8539_level0_row4\" class=\"row_heading level0 row4\" >4</th>\n",
       "                        <td id=\"T_d8539_row4_col0\" class=\"data row4 col0\" >Racing</td>\n",
       "                        <td id=\"T_d8539_row4_col1\" class=\"data row4 col1\" >192.02</td>\n",
       "            </tr>\n",
       "    </tbody></table style=\"display:inline-block; margin-right:20px;\"><style  type=\"text/css\" >\n",
       "</style><table style=\"display:inline-block; margin-right:20px;\" id=\"T_0bd96_\" ><caption>Japan</caption><thead>    <tr>        <th class=\"blank level0\" ></th>        <th class=\"col_heading level0 col0\" >genre</th>        <th class=\"col_heading level0 col1\" >jp_sales</th>    </tr></thead><tbody>\n",
       "                <tr>\n",
       "                        <th id=\"T_0bd96_level0_row0\" class=\"row_heading level0 row0\" >0</th>\n",
       "                        <td id=\"T_0bd96_row0_col0\" class=\"data row0 col0\" >Role-Playing</td>\n",
       "                        <td id=\"T_0bd96_row0_col1\" class=\"data row0 col1\" >241.71</td>\n",
       "            </tr>\n",
       "            <tr>\n",
       "                        <th id=\"T_0bd96_level0_row1\" class=\"row_heading level0 row1\" >1</th>\n",
       "                        <td id=\"T_0bd96_row1_col0\" class=\"data row1 col0\" >Action</td>\n",
       "                        <td id=\"T_0bd96_row1_col1\" class=\"data row1 col1\" >132.23</td>\n",
       "            </tr>\n",
       "            <tr>\n",
       "                        <th id=\"T_0bd96_level0_row2\" class=\"row_heading level0 row2\" >2</th>\n",
       "                        <td id=\"T_0bd96_row2_col0\" class=\"data row2 col0\" >Misc</td>\n",
       "                        <td id=\"T_0bd96_row2_col1\" class=\"data row2 col1\" >85.43</td>\n",
       "            </tr>\n",
       "            <tr>\n",
       "                        <th id=\"T_0bd96_level0_row3\" class=\"row_heading level0 row3\" >3</th>\n",
       "                        <td id=\"T_0bd96_row3_col0\" class=\"data row3 col0\" >Sports</td>\n",
       "                        <td id=\"T_0bd96_row3_col1\" class=\"data row3 col1\" >75.88</td>\n",
       "            </tr>\n",
       "            <tr>\n",
       "                        <th id=\"T_0bd96_level0_row4\" class=\"row_heading level0 row4\" >4</th>\n",
       "                        <td id=\"T_0bd96_row4_col0\" class=\"data row4 col0\" >Platform</td>\n",
       "                        <td id=\"T_0bd96_row4_col1\" class=\"data row4 col1\" >55.27</td>\n",
       "            </tr>\n",
       "    </tbody></table style=\"display:inline-block; margin-right:20px;\">"
      ]
     },
     "metadata": {},
     "output_type": "display_data"
    }
   ],
   "source": [
    "profile('genre')"
   ]
  },
  {
   "cell_type": "markdown",
   "metadata": {},
   "source": []
  },
  {
   "cell_type": "markdown",
   "metadata": {},
   "source": [
    "### ESRB Ratings"
   ]
  },
  {
   "cell_type": "code",
   "execution_count": 17,
   "metadata": {},
   "outputs": [
    {
     "data": {
      "text/html": [
       "<style  type=\"text/css\" >\n",
       "</style><table style=\"display:inline-block; margin-right:20px;\" id=\"T_4cf38_\" ><caption>North America</caption><thead>    <tr>        <th class=\"blank level0\" ></th>        <th class=\"col_heading level0 col0\" >rating</th>        <th class=\"col_heading level0 col1\" >na_sales</th>    </tr></thead><tbody>\n",
       "                <tr>\n",
       "                        <th id=\"T_4cf38_level0_row0\" class=\"row_heading level0 row0\" >0</th>\n",
       "                        <td id=\"T_4cf38_row0_col0\" class=\"data row0 col0\" >E</td>\n",
       "                        <td id=\"T_4cf38_row0_col1\" class=\"data row0 col1\" >1249.26</td>\n",
       "            </tr>\n",
       "            <tr>\n",
       "                        <th id=\"T_4cf38_level0_row1\" class=\"row_heading level0 row1\" >1</th>\n",
       "                        <td id=\"T_4cf38_row1_col0\" class=\"data row1 col0\" >M</td>\n",
       "                        <td id=\"T_4cf38_row1_col1\" class=\"data row1 col1\" >727.80</td>\n",
       "            </tr>\n",
       "            <tr>\n",
       "                        <th id=\"T_4cf38_level0_row2\" class=\"row_heading level0 row2\" >2</th>\n",
       "                        <td id=\"T_4cf38_row2_col0\" class=\"data row2 col0\" >T</td>\n",
       "                        <td id=\"T_4cf38_row2_col1\" class=\"data row2 col1\" >709.86</td>\n",
       "            </tr>\n",
       "            <tr>\n",
       "                        <th id=\"T_4cf38_level0_row3\" class=\"row_heading level0 row3\" >3</th>\n",
       "                        <td id=\"T_4cf38_row3_col0\" class=\"data row3 col0\" >E10+</td>\n",
       "                        <td id=\"T_4cf38_row3_col1\" class=\"data row3 col1\" >345.50</td>\n",
       "            </tr>\n",
       "            <tr>\n",
       "                        <th id=\"T_4cf38_level0_row4\" class=\"row_heading level0 row4\" >4</th>\n",
       "                        <td id=\"T_4cf38_row4_col0\" class=\"data row4 col0\" >EC</td>\n",
       "                        <td id=\"T_4cf38_row4_col1\" class=\"data row4 col1\" >1.53</td>\n",
       "            </tr>\n",
       "            <tr>\n",
       "                        <th id=\"T_4cf38_level0_row5\" class=\"row_heading level0 row5\" >5</th>\n",
       "                        <td id=\"T_4cf38_row5_col0\" class=\"data row5 col0\" >AO</td>\n",
       "                        <td id=\"T_4cf38_row5_col1\" class=\"data row5 col1\" >1.26</td>\n",
       "            </tr>\n",
       "            <tr>\n",
       "                        <th id=\"T_4cf38_level0_row6\" class=\"row_heading level0 row6\" >6</th>\n",
       "                        <td id=\"T_4cf38_row6_col0\" class=\"data row6 col0\" >RP</td>\n",
       "                        <td id=\"T_4cf38_row6_col1\" class=\"data row6 col1\" >0.00</td>\n",
       "            </tr>\n",
       "    </tbody></table style=\"display:inline-block; margin-right:20px;\"><style  type=\"text/css\" >\n",
       "</style><table style=\"display:inline-block; margin-right:20px;\" id=\"T_e3cfe_\" ><caption>Europe</caption><thead>    <tr>        <th class=\"blank level0\" ></th>        <th class=\"col_heading level0 col0\" >rating</th>        <th class=\"col_heading level0 col1\" >eu_sales</th>    </tr></thead><tbody>\n",
       "                <tr>\n",
       "                        <th id=\"T_e3cfe_level0_row0\" class=\"row_heading level0 row0\" >0</th>\n",
       "                        <td id=\"T_e3cfe_row0_col0\" class=\"data row0 col0\" >E</td>\n",
       "                        <td id=\"T_e3cfe_row0_col1\" class=\"data row0 col1\" >690.61</td>\n",
       "            </tr>\n",
       "            <tr>\n",
       "                        <th id=\"T_e3cfe_level0_row1\" class=\"row_heading level0 row1\" >1</th>\n",
       "                        <td id=\"T_e3cfe_row1_col0\" class=\"data row1 col0\" >M</td>\n",
       "                        <td id=\"T_e3cfe_row1_col1\" class=\"data row1 col1\" >472.40</td>\n",
       "            </tr>\n",
       "            <tr>\n",
       "                        <th id=\"T_e3cfe_level0_row2\" class=\"row_heading level0 row2\" >2</th>\n",
       "                        <td id=\"T_e3cfe_row2_col0\" class=\"data row2 col0\" >T</td>\n",
       "                        <td id=\"T_e3cfe_row2_col1\" class=\"data row2 col1\" >392.71</td>\n",
       "            </tr>\n",
       "            <tr>\n",
       "                        <th id=\"T_e3cfe_level0_row3\" class=\"row_heading level0 row3\" >3</th>\n",
       "                        <td id=\"T_e3cfe_row3_col0\" class=\"data row3 col0\" >E10+</td>\n",
       "                        <td id=\"T_e3cfe_row3_col1\" class=\"data row3 col1\" >183.33</td>\n",
       "            </tr>\n",
       "            <tr>\n",
       "                        <th id=\"T_e3cfe_level0_row4\" class=\"row_heading level0 row4\" >4</th>\n",
       "                        <td id=\"T_e3cfe_row4_col0\" class=\"data row4 col0\" >AO</td>\n",
       "                        <td id=\"T_e3cfe_row4_col1\" class=\"data row4 col1\" >0.61</td>\n",
       "            </tr>\n",
       "            <tr>\n",
       "                        <th id=\"T_e3cfe_level0_row5\" class=\"row_heading level0 row5\" >5</th>\n",
       "                        <td id=\"T_e3cfe_row5_col0\" class=\"data row5 col0\" >EC</td>\n",
       "                        <td id=\"T_e3cfe_row5_col1\" class=\"data row5 col1\" >0.11</td>\n",
       "            </tr>\n",
       "            <tr>\n",
       "                        <th id=\"T_e3cfe_level0_row6\" class=\"row_heading level0 row6\" >6</th>\n",
       "                        <td id=\"T_e3cfe_row6_col0\" class=\"data row6 col0\" >RP</td>\n",
       "                        <td id=\"T_e3cfe_row6_col1\" class=\"data row6 col1\" >0.03</td>\n",
       "            </tr>\n",
       "    </tbody></table style=\"display:inline-block; margin-right:20px;\"><style  type=\"text/css\" >\n",
       "</style><table style=\"display:inline-block; margin-right:20px;\" id=\"T_18156_\" ><caption>Japan</caption><thead>    <tr>        <th class=\"blank level0\" ></th>        <th class=\"col_heading level0 col0\" >rating</th>        <th class=\"col_heading level0 col1\" >jp_sales</th>    </tr></thead><tbody>\n",
       "                <tr>\n",
       "                        <th id=\"T_18156_level0_row0\" class=\"row_heading level0 row0\" >0</th>\n",
       "                        <td id=\"T_18156_row0_col0\" class=\"data row0 col0\" >E</td>\n",
       "                        <td id=\"T_18156_row0_col1\" class=\"data row0 col1\" >189.91</td>\n",
       "            </tr>\n",
       "            <tr>\n",
       "                        <th id=\"T_18156_level0_row1\" class=\"row_heading level0 row1\" >1</th>\n",
       "                        <td id=\"T_18156_row1_col0\" class=\"data row1 col0\" >T</td>\n",
       "                        <td id=\"T_18156_row1_col1\" class=\"data row1 col1\" >131.01</td>\n",
       "            </tr>\n",
       "            <tr>\n",
       "                        <th id=\"T_18156_level0_row2\" class=\"row_heading level0 row2\" >2</th>\n",
       "                        <td id=\"T_18156_row2_col0\" class=\"data row2 col0\" >M</td>\n",
       "                        <td id=\"T_18156_row2_col1\" class=\"data row2 col1\" >57.84</td>\n",
       "            </tr>\n",
       "            <tr>\n",
       "                        <th id=\"T_18156_level0_row3\" class=\"row_heading level0 row3\" >3</th>\n",
       "                        <td id=\"T_18156_row3_col0\" class=\"data row3 col0\" >E10+</td>\n",
       "                        <td id=\"T_18156_row3_col1\" class=\"data row3 col1\" >40.20</td>\n",
       "            </tr>\n",
       "            <tr>\n",
       "                        <th id=\"T_18156_level0_row4\" class=\"row_heading level0 row4\" >4</th>\n",
       "                        <td id=\"T_18156_row4_col0\" class=\"data row4 col0\" >AO</td>\n",
       "                        <td id=\"T_18156_row4_col1\" class=\"data row4 col1\" >0.00</td>\n",
       "            </tr>\n",
       "            <tr>\n",
       "                        <th id=\"T_18156_level0_row5\" class=\"row_heading level0 row5\" >5</th>\n",
       "                        <td id=\"T_18156_row5_col0\" class=\"data row5 col0\" >EC</td>\n",
       "                        <td id=\"T_18156_row5_col1\" class=\"data row5 col1\" >0.00</td>\n",
       "            </tr>\n",
       "            <tr>\n",
       "                        <th id=\"T_18156_level0_row6\" class=\"row_heading level0 row6\" >6</th>\n",
       "                        <td id=\"T_18156_row6_col0\" class=\"data row6 col0\" >RP</td>\n",
       "                        <td id=\"T_18156_row6_col1\" class=\"data row6 col1\" >0.00</td>\n",
       "            </tr>\n",
       "    </tbody></table style=\"display:inline-block; margin-right:20px;\">"
      ]
     },
     "metadata": {},
     "output_type": "display_data"
    }
   ],
   "source": [
    "profile('rating')"
   ]
  },
  {
   "cell_type": "markdown",
   "metadata": {},
   "source": [
    "`E` - Everyone  \n",
    "`T` - Teen  \n",
    "`M` - Mature  \n",
    "`E10+` - Everyone 10+  \n",
    "`EC` - Early Childhood  \n",
    "`AO` - Adults Only  \n",
    "`RP` - Rating Pending  \n",
    "  \n",
    " fsdf"
   ]
  },
  {
   "cell_type": "markdown",
   "metadata": {},
   "source": [
    " "
   ]
  },
  {
   "cell_type": "markdown",
   "metadata": {},
   "source": [
    "## Testing Hypotheses"
   ]
  },
  {
   "cell_type": "markdown",
   "metadata": {},
   "source": [
    "In this section, I will conduct a hypothesis test to evaluate whether there is a statistically significant difference between two key variables in the dataset. Specifically, I will compare the average user ratings between Xbox One and PC platforms, as well as Action and Sports genres. \n",
    "\n",
    "To test this, I will use a two-tailed test with a significance level (α) of 0.05. This approach will help determine whether the differences in average user ratings are statistically significant or due to random variation. The findings will provide valuable insights into whether one platform or genre consistently receives higher user ratings than the other."
   ]
  },
  {
   "cell_type": "markdown",
   "metadata": {},
   "source": [
    "### Average user ratings of the Xbox One and PC platforms are the same"
   ]
  },
  {
   "cell_type": "markdown",
   "metadata": {},
   "source": [
    "Null Hypothesis (H₀): There is no significant difference in the average user ratings of the Xbox One and PC platforms.\n",
    "\n",
    "Alternative Hypothesis (H₁): There is a significant difference in the average user ratings of the Xbox One and PC platforms."
   ]
  },
  {
   "cell_type": "code",
   "execution_count": 18,
   "metadata": {},
   "outputs": [
    {
     "name": "stdout",
     "output_type": "stream",
     "text": [
      "p-value:  nan\n",
      "We fail to reject the null hypothesis\n"
     ]
    }
   ],
   "source": [
    "xbox = games[games['platform'] == 'XOne']['user_score']\n",
    "pc = games[games['platform'] == 'PC']['user_score']\n",
    "results = st.ttest_ind(xbox, pc, equal_var=False)\n",
    "\n",
    "print('p-value: ', results.pvalue)\n",
    "\n",
    "if (results.pvalue < 0.05):\n",
    "    print('We reject the null hypothesis')\n",
    "else:\n",
    "    print(\"We fail to reject the null hypothesis\")"
   ]
  },
  {
   "cell_type": "markdown",
   "metadata": {},
   "source": [
    "As shown by the p-value, it is drastically less than 0.05, meaning that null hypothesis is rejected. Therefore, there is a significant difference between the average user ratings in the Xbox One and PC platforms."
   ]
  },
  {
   "cell_type": "markdown",
   "metadata": {},
   "source": [
    "### Average user ratings for the Action and Sports genres are different"
   ]
  },
  {
   "cell_type": "markdown",
   "metadata": {},
   "source": [
    "Null Hypothesis (H₀): There is no significant difference in the average user ratings of the Action and Sports genres.\n",
    "\n",
    "Alternative Hypothesis (H₁): There is a significant difference in the average user ratings of the Action and Sports genres."
   ]
  },
  {
   "cell_type": "code",
   "execution_count": 19,
   "metadata": {},
   "outputs": [
    {
     "name": "stdout",
     "output_type": "stream",
     "text": [
      "p-value:  nan\n",
      "We fail to reject the null hypothesis\n"
     ]
    }
   ],
   "source": [
    "action = games[games['genre'] == 'Action']['user_score']\n",
    "sports = games[games['genre'] == 'Sports']['user_score']\n",
    "results = st.ttest_ind(action, sports, equal_var=False)\n",
    "\n",
    "print('p-value: ', results.pvalue)\n",
    "\n",
    "if (results.pvalue < 0.05):\n",
    "    print('We reject the null hypothesis')\n",
    "else:\n",
    "    print(\"We fail to reject the null hypothesis\")"
   ]
  },
  {
   "cell_type": "markdown",
   "metadata": {},
   "source": [
    "As shown by the p-value, it is above 0.05, meaning that the null hypothesis cannot be rejected. Therefore, there is no significant difference between the average user ratings in the Action and Sports genre."
   ]
  },
  {
   "cell_type": "markdown",
   "metadata": {},
   "source": [
    " "
   ]
  },
  {
   "cell_type": "markdown",
   "metadata": {},
   "source": [
    "## Conclusion"
   ]
  },
  {
   "cell_type": "markdown",
   "metadata": {},
   "source": [
    "write conclusion"
   ]
  }
 ],
 "metadata": {
  "ExecuteTimeLog": [
   {
    "duration": 906,
    "start_time": "2025-02-26T20:28:34.255Z"
   },
   {
    "duration": 45,
    "start_time": "2025-02-26T20:29:00.895Z"
   },
   {
    "duration": 12,
    "start_time": "2025-02-26T20:41:37.646Z"
   },
   {
    "duration": 373,
    "start_time": "2025-02-26T20:41:47.452Z"
   },
   {
    "duration": 11,
    "start_time": "2025-02-26T20:41:51.498Z"
   },
   {
    "duration": 5,
    "start_time": "2025-02-26T20:42:08.253Z"
   },
   {
    "duration": 18,
    "start_time": "2025-02-26T20:46:07.524Z"
   },
   {
    "duration": 15,
    "start_time": "2025-02-26T20:46:36.876Z"
   },
   {
    "duration": 12,
    "start_time": "2025-02-26T20:47:16.481Z"
   },
   {
    "duration": 12,
    "start_time": "2025-02-26T20:48:50.881Z"
   },
   {
    "duration": 8,
    "start_time": "2025-02-26T20:48:56.948Z"
   },
   {
    "duration": 3,
    "start_time": "2025-02-26T21:00:16.830Z"
   },
   {
    "duration": 15,
    "start_time": "2025-02-26T21:00:44.758Z"
   },
   {
    "duration": 3,
    "start_time": "2025-02-26T21:00:48.668Z"
   },
   {
    "duration": 14,
    "start_time": "2025-02-26T21:01:02.748Z"
   },
   {
    "duration": 8,
    "start_time": "2025-02-26T21:01:10.868Z"
   },
   {
    "duration": 11,
    "start_time": "2025-02-26T21:02:40.369Z"
   },
   {
    "duration": 440,
    "start_time": "2025-02-26T21:03:12.050Z"
   },
   {
    "duration": 5,
    "start_time": "2025-02-26T21:03:26.130Z"
   },
   {
    "duration": 6,
    "start_time": "2025-02-26T21:03:33.713Z"
   },
   {
    "duration": 5,
    "start_time": "2025-02-26T21:03:38.766Z"
   },
   {
    "duration": 553,
    "start_time": "2025-02-26T21:07:49.460Z"
   },
   {
    "duration": 11,
    "start_time": "2025-02-26T21:10:13.266Z"
   },
   {
    "duration": 47,
    "start_time": "2025-02-26T21:10:18.266Z"
   },
   {
    "duration": 12,
    "start_time": "2025-02-26T21:10:33.545Z"
   },
   {
    "duration": 12,
    "start_time": "2025-02-26T21:29:24.845Z"
   },
   {
    "duration": 8,
    "start_time": "2025-02-26T21:29:25.372Z"
   },
   {
    "duration": 12,
    "start_time": "2025-02-26T21:29:25.986Z"
   },
   {
    "duration": 11,
    "start_time": "2025-02-26T21:29:27.938Z"
   },
   {
    "duration": 49,
    "start_time": "2025-02-26T21:29:28.902Z"
   },
   {
    "duration": 867,
    "start_time": "2025-02-26T21:29:38.798Z"
   },
   {
    "duration": 33,
    "start_time": "2025-02-26T21:29:39.668Z"
   },
   {
    "duration": 24,
    "start_time": "2025-02-26T21:29:39.703Z"
   },
   {
    "duration": 7,
    "start_time": "2025-02-26T21:29:39.728Z"
   },
   {
    "duration": 11,
    "start_time": "2025-02-26T21:29:39.737Z"
   },
   {
    "duration": 144,
    "start_time": "2025-02-26T21:29:39.750Z"
   },
   {
    "duration": 0,
    "start_time": "2025-02-26T21:29:39.896Z"
   },
   {
    "duration": 7,
    "start_time": "2025-02-26T21:30:09.349Z"
   },
   {
    "duration": 671,
    "start_time": "2025-02-26T21:30:11.927Z"
   },
   {
    "duration": 12,
    "start_time": "2025-02-26T21:30:29.543Z"
   },
   {
    "duration": 13,
    "start_time": "2025-02-26T21:31:34.211Z"
   },
   {
    "duration": 13,
    "start_time": "2025-02-26T21:31:50.563Z"
   },
   {
    "duration": 13,
    "start_time": "2025-02-26T21:32:06.933Z"
   },
   {
    "duration": 13,
    "start_time": "2025-02-26T21:33:12.928Z"
   },
   {
    "duration": 5,
    "start_time": "2025-02-26T21:49:49.441Z"
   },
   {
    "duration": 3,
    "start_time": "2025-02-26T21:50:23.625Z"
   },
   {
    "duration": 32,
    "start_time": "2025-02-26T21:50:23.966Z"
   },
   {
    "duration": 12,
    "start_time": "2025-02-26T21:50:25.692Z"
   },
   {
    "duration": 7,
    "start_time": "2025-02-26T21:50:26.333Z"
   },
   {
    "duration": 21,
    "start_time": "2025-02-26T21:50:29.281Z"
   },
   {
    "duration": 12,
    "start_time": "2025-02-26T21:50:39.344Z"
   },
   {
    "duration": 4,
    "start_time": "2025-02-27T03:01:38.784Z"
   },
   {
    "duration": 858,
    "start_time": "2025-02-27T03:01:45.829Z"
   },
   {
    "duration": 36,
    "start_time": "2025-02-27T03:01:46.690Z"
   },
   {
    "duration": 12,
    "start_time": "2025-02-27T03:01:46.728Z"
   },
   {
    "duration": 7,
    "start_time": "2025-02-27T03:01:46.742Z"
   },
   {
    "duration": 14,
    "start_time": "2025-02-27T03:01:46.751Z"
   },
   {
    "duration": 10,
    "start_time": "2025-02-27T03:01:46.767Z"
   },
   {
    "duration": 7,
    "start_time": "2025-02-27T03:01:46.778Z"
   },
   {
    "duration": 40,
    "start_time": "2025-02-27T03:01:46.786Z"
   },
   {
    "duration": 11,
    "start_time": "2025-02-27T03:04:10.361Z"
   },
   {
    "duration": 795,
    "start_time": "2025-02-27T03:04:19.723Z"
   },
   {
    "duration": 10,
    "start_time": "2025-02-27T03:04:20.588Z"
   },
   {
    "duration": 8,
    "start_time": "2025-02-27T03:04:54.401Z"
   },
   {
    "duration": 7,
    "start_time": "2025-02-27T03:05:06.998Z"
   },
   {
    "duration": 9,
    "start_time": "2025-02-27T03:05:15.834Z"
   },
   {
    "duration": 69,
    "start_time": "2025-02-27T03:05:52.715Z"
   },
   {
    "duration": 15,
    "start_time": "2025-02-27T03:06:18.785Z"
   },
   {
    "duration": 51,
    "start_time": "2025-02-27T03:06:30.845Z"
   },
   {
    "duration": 4,
    "start_time": "2025-02-27T03:07:34.559Z"
   },
   {
    "duration": 68,
    "start_time": "2025-02-27T03:07:43.834Z"
   },
   {
    "duration": 4,
    "start_time": "2025-02-27T03:07:57.937Z"
   },
   {
    "duration": 11,
    "start_time": "2025-02-27T03:08:00.753Z"
   },
   {
    "duration": 58,
    "start_time": "2025-02-27T03:08:26.228Z"
   },
   {
    "duration": 19,
    "start_time": "2025-02-27T03:09:43.873Z"
   },
   {
    "duration": 40,
    "start_time": "2025-02-27T03:10:33.495Z"
   },
   {
    "duration": 462,
    "start_time": "2025-02-27T03:10:50.917Z"
   },
   {
    "duration": 16,
    "start_time": "2025-02-27T03:11:25.727Z"
   },
   {
    "duration": 887,
    "start_time": "2025-02-28T19:17:15.778Z"
   },
   {
    "duration": 33,
    "start_time": "2025-02-28T19:17:16.667Z"
   },
   {
    "duration": 22,
    "start_time": "2025-02-28T19:17:16.702Z"
   },
   {
    "duration": 8,
    "start_time": "2025-02-28T19:17:16.727Z"
   },
   {
    "duration": 16,
    "start_time": "2025-02-28T19:17:16.738Z"
   },
   {
    "duration": 9,
    "start_time": "2025-02-28T19:17:16.756Z"
   },
   {
    "duration": 6,
    "start_time": "2025-02-28T19:17:16.767Z"
   },
   {
    "duration": 318,
    "start_time": "2025-02-28T19:17:16.775Z"
   },
   {
    "duration": 0,
    "start_time": "2025-02-28T19:17:17.095Z"
   },
   {
    "duration": 0,
    "start_time": "2025-02-28T19:17:17.098Z"
   },
   {
    "duration": 0,
    "start_time": "2025-02-28T19:17:17.099Z"
   },
   {
    "duration": 2712,
    "start_time": "2025-03-03T03:02:56.100Z"
   },
   {
    "duration": 46,
    "start_time": "2025-03-03T03:02:58.814Z"
   },
   {
    "duration": 12,
    "start_time": "2025-03-03T03:02:58.862Z"
   },
   {
    "duration": 8,
    "start_time": "2025-03-03T03:02:58.876Z"
   },
   {
    "duration": 29,
    "start_time": "2025-03-03T03:02:58.886Z"
   },
   {
    "duration": 10,
    "start_time": "2025-03-03T03:02:58.916Z"
   },
   {
    "duration": 7,
    "start_time": "2025-03-03T03:02:58.928Z"
   },
   {
    "duration": 271,
    "start_time": "2025-03-03T03:02:58.937Z"
   },
   {
    "duration": 0,
    "start_time": "2025-03-03T03:02:59.210Z"
   },
   {
    "duration": 0,
    "start_time": "2025-03-03T03:02:59.213Z"
   },
   {
    "duration": 0,
    "start_time": "2025-03-03T03:02:59.214Z"
   },
   {
    "duration": 9,
    "start_time": "2025-03-03T03:04:06.194Z"
   },
   {
    "duration": 17,
    "start_time": "2025-03-03T03:04:38.278Z"
   },
   {
    "duration": 9,
    "start_time": "2025-03-03T03:04:44.687Z"
   },
   {
    "duration": 7,
    "start_time": "2025-03-03T03:07:02.927Z"
   },
   {
    "duration": 17,
    "start_time": "2025-03-03T03:07:14.747Z"
   },
   {
    "duration": 18,
    "start_time": "2025-03-03T03:08:31.520Z"
   },
   {
    "duration": 9,
    "start_time": "2025-03-03T03:08:36.697Z"
   },
   {
    "duration": 8,
    "start_time": "2025-03-03T03:08:37.505Z"
   },
   {
    "duration": 6,
    "start_time": "2025-03-03T03:08:38.309Z"
   },
   {
    "duration": 8,
    "start_time": "2025-03-03T03:08:53.337Z"
   },
   {
    "duration": 15,
    "start_time": "2025-03-03T03:09:01.415Z"
   },
   {
    "duration": 8,
    "start_time": "2025-03-03T03:09:02.454Z"
   },
   {
    "duration": 15,
    "start_time": "2025-03-03T03:09:27.346Z"
   },
   {
    "duration": 15,
    "start_time": "2025-03-03T03:09:41.236Z"
   },
   {
    "duration": 13,
    "start_time": "2025-03-03T03:10:55.726Z"
   },
   {
    "duration": 17,
    "start_time": "2025-03-03T03:11:00.491Z"
   },
   {
    "duration": 9,
    "start_time": "2025-03-03T03:11:09.741Z"
   },
   {
    "duration": 17,
    "start_time": "2025-03-03T03:11:31.828Z"
   },
   {
    "duration": 8,
    "start_time": "2025-03-03T03:11:37.409Z"
   },
   {
    "duration": 7,
    "start_time": "2025-03-03T03:11:41.505Z"
   },
   {
    "duration": 7,
    "start_time": "2025-03-03T03:11:44.586Z"
   },
   {
    "duration": 7,
    "start_time": "2025-03-03T03:11:49.655Z"
   },
   {
    "duration": 16,
    "start_time": "2025-03-03T03:11:52.878Z"
   },
   {
    "duration": 17,
    "start_time": "2025-03-03T03:12:18.802Z"
   },
   {
    "duration": 14,
    "start_time": "2025-03-03T03:12:29.398Z"
   },
   {
    "duration": 23,
    "start_time": "2025-03-03T03:12:35.677Z"
   },
   {
    "duration": 23,
    "start_time": "2025-03-03T03:12:42.521Z"
   },
   {
    "duration": 15,
    "start_time": "2025-03-03T03:13:10.223Z"
   },
   {
    "duration": 7,
    "start_time": "2025-03-03T03:13:11.282Z"
   },
   {
    "duration": 4,
    "start_time": "2025-03-03T03:13:36.149Z"
   },
   {
    "duration": 3,
    "start_time": "2025-03-03T03:36:44.675Z"
   },
   {
    "duration": 17,
    "start_time": "2025-03-03T03:36:49.395Z"
   },
   {
    "duration": 2518,
    "start_time": "2025-03-16T19:04:35.636Z"
   },
   {
    "duration": 44,
    "start_time": "2025-03-16T19:04:38.156Z"
   },
   {
    "duration": 12,
    "start_time": "2025-03-16T19:04:38.202Z"
   },
   {
    "duration": 7,
    "start_time": "2025-03-16T19:04:38.216Z"
   },
   {
    "duration": 30,
    "start_time": "2025-03-16T19:04:38.225Z"
   },
   {
    "duration": 7,
    "start_time": "2025-03-16T19:04:38.256Z"
   },
   {
    "duration": 4,
    "start_time": "2025-03-16T19:04:38.265Z"
   },
   {
    "duration": 17,
    "start_time": "2025-03-16T19:04:38.271Z"
   },
   {
    "duration": 6,
    "start_time": "2025-03-16T19:05:03.933Z"
   },
   {
    "duration": 13,
    "start_time": "2025-03-16T19:05:14.140Z"
   },
   {
    "duration": 6,
    "start_time": "2025-03-16T19:05:53.764Z"
   },
   {
    "duration": 5,
    "start_time": "2025-03-16T19:07:12.059Z"
   },
   {
    "duration": 550,
    "start_time": "2025-03-16T19:07:30.119Z"
   },
   {
    "duration": 46,
    "start_time": "2025-03-16T19:08:25.375Z"
   },
   {
    "duration": 350,
    "start_time": "2025-03-16T19:08:46.107Z"
   },
   {
    "duration": 15,
    "start_time": "2025-03-16T19:16:16.355Z"
   },
   {
    "duration": 135,
    "start_time": "2025-03-16T19:17:11.339Z"
   },
   {
    "duration": 113,
    "start_time": "2025-03-16T19:17:21.243Z"
   },
   {
    "duration": 5,
    "start_time": "2025-03-16T19:18:08.026Z"
   },
   {
    "duration": 10,
    "start_time": "2025-03-16T19:21:34.063Z"
   },
   {
    "duration": 8,
    "start_time": "2025-03-16T19:22:37.367Z"
   },
   {
    "duration": 9,
    "start_time": "2025-03-16T19:23:02.202Z"
   },
   {
    "duration": 19,
    "start_time": "2025-03-16T19:49:18.869Z"
   },
   {
    "duration": 7,
    "start_time": "2025-03-16T19:50:09.122Z"
   },
   {
    "duration": 9,
    "start_time": "2025-03-16T19:50:17.661Z"
   },
   {
    "duration": 67,
    "start_time": "2025-03-16T19:51:32.085Z"
   },
   {
    "duration": 10,
    "start_time": "2025-03-16T19:52:46.782Z"
   },
   {
    "duration": 10,
    "start_time": "2025-03-16T19:52:54.015Z"
   },
   {
    "duration": 10,
    "start_time": "2025-03-16T19:53:07.757Z"
   },
   {
    "duration": 10,
    "start_time": "2025-03-16T19:53:18.126Z"
   },
   {
    "duration": 45,
    "start_time": "2025-03-16T21:08:53.054Z"
   },
   {
    "duration": 7,
    "start_time": "2025-03-16T21:10:52.630Z"
   },
   {
    "duration": 25,
    "start_time": "2025-03-16T21:11:04.032Z"
   },
   {
    "duration": 10,
    "start_time": "2025-03-16T21:17:17.763Z"
   },
   {
    "duration": 9,
    "start_time": "2025-03-16T21:18:03.985Z"
   },
   {
    "duration": 6,
    "start_time": "2025-03-16T21:18:57.224Z"
   },
   {
    "duration": 6,
    "start_time": "2025-03-16T21:19:22.425Z"
   },
   {
    "duration": 10,
    "start_time": "2025-03-16T21:19:37.952Z"
   },
   {
    "duration": 142,
    "start_time": "2025-03-16T21:28:34.190Z"
   },
   {
    "duration": 143,
    "start_time": "2025-03-16T21:29:03.070Z"
   },
   {
    "duration": 6,
    "start_time": "2025-03-16T21:29:45.997Z"
   },
   {
    "duration": 134,
    "start_time": "2025-03-16T21:30:17.416Z"
   },
   {
    "duration": 10,
    "start_time": "2025-03-16T21:30:32.508Z"
   },
   {
    "duration": 99,
    "start_time": "2025-03-16T21:32:37.740Z"
   },
   {
    "duration": 3,
    "start_time": "2025-03-16T21:33:00.501Z"
   },
   {
    "duration": 13,
    "start_time": "2025-03-16T21:33:29.983Z"
   },
   {
    "duration": 3,
    "start_time": "2025-03-16T21:34:14.867Z"
   },
   {
    "duration": 10,
    "start_time": "2025-03-16T21:34:33.008Z"
   },
   {
    "duration": 3,
    "start_time": "2025-03-16T21:34:45.135Z"
   },
   {
    "duration": 14,
    "start_time": "2025-03-16T21:35:10.162Z"
   },
   {
    "duration": 3,
    "start_time": "2025-03-16T21:35:15.883Z"
   },
   {
    "duration": 46,
    "start_time": "2025-03-16T21:35:38.022Z"
   },
   {
    "duration": 166,
    "start_time": "2025-03-16T21:37:44.217Z"
   },
   {
    "duration": 267,
    "start_time": "2025-03-16T21:38:01.854Z"
   },
   {
    "duration": 289,
    "start_time": "2025-03-16T21:39:27.356Z"
   },
   {
    "duration": 8,
    "start_time": "2025-03-16T21:40:01.160Z"
   },
   {
    "duration": 280,
    "start_time": "2025-03-16T21:40:30.447Z"
   },
   {
    "duration": 8,
    "start_time": "2025-03-16T21:44:49.514Z"
   },
   {
    "duration": 267,
    "start_time": "2025-03-16T21:44:53.711Z"
   },
   {
    "duration": 148,
    "start_time": "2025-03-16T21:51:52.436Z"
   },
   {
    "duration": 6,
    "start_time": "2025-03-16T21:52:14.602Z"
   },
   {
    "duration": 50,
    "start_time": "2025-03-16T21:52:32.498Z"
   },
   {
    "duration": 265,
    "start_time": "2025-03-16T21:52:56.979Z"
   },
   {
    "duration": 7,
    "start_time": "2025-03-16T21:52:58.602Z"
   },
   {
    "duration": 6,
    "start_time": "2025-03-16T21:53:09.739Z"
   },
   {
    "duration": 137,
    "start_time": "2025-03-16T21:55:22.798Z"
   },
   {
    "duration": 134,
    "start_time": "2025-03-16T21:55:32.698Z"
   },
   {
    "duration": 7,
    "start_time": "2025-03-16T22:03:42.601Z"
   },
   {
    "duration": 282,
    "start_time": "2025-03-16T22:07:41.032Z"
   },
   {
    "duration": 424,
    "start_time": "2025-03-16T22:13:00.159Z"
   },
   {
    "duration": 387,
    "start_time": "2025-03-16T22:14:09.591Z"
   },
   {
    "duration": 295,
    "start_time": "2025-03-16T22:14:34.252Z"
   },
   {
    "duration": 424,
    "start_time": "2025-03-16T22:14:47.690Z"
   },
   {
    "duration": 472,
    "start_time": "2025-03-16T22:16:24.493Z"
   },
   {
    "duration": 492,
    "start_time": "2025-03-16T22:16:52.825Z"
   },
   {
    "duration": 462,
    "start_time": "2025-03-16T22:17:03.115Z"
   },
   {
    "duration": 471,
    "start_time": "2025-03-16T22:19:58.101Z"
   },
   {
    "duration": 326,
    "start_time": "2025-03-16T22:20:09.693Z"
   },
   {
    "duration": 255,
    "start_time": "2025-03-16T22:20:37.846Z"
   },
   {
    "duration": 498,
    "start_time": "2025-03-16T22:21:01.898Z"
   },
   {
    "duration": 663,
    "start_time": "2025-03-16T22:22:28.432Z"
   },
   {
    "duration": 508,
    "start_time": "2025-03-16T22:23:53.734Z"
   },
   {
    "duration": 220,
    "start_time": "2025-03-16T22:30:18.566Z"
   },
   {
    "duration": 212,
    "start_time": "2025-03-16T22:30:24.053Z"
   },
   {
    "duration": 507,
    "start_time": "2025-03-16T22:30:40.296Z"
   },
   {
    "duration": 515,
    "start_time": "2025-03-16T22:35:08.482Z"
   },
   {
    "duration": 898,
    "start_time": "2025-03-16T23:08:32.228Z"
   },
   {
    "duration": 40,
    "start_time": "2025-03-16T23:08:33.130Z"
   },
   {
    "duration": 13,
    "start_time": "2025-03-16T23:08:33.173Z"
   },
   {
    "duration": 8,
    "start_time": "2025-03-16T23:08:33.187Z"
   },
   {
    "duration": 18,
    "start_time": "2025-03-16T23:08:33.198Z"
   },
   {
    "duration": 28,
    "start_time": "2025-03-16T23:08:33.218Z"
   },
   {
    "duration": 4,
    "start_time": "2025-03-16T23:08:33.247Z"
   },
   {
    "duration": 686,
    "start_time": "2025-03-16T23:08:33.253Z"
   },
   {
    "duration": 3,
    "start_time": "2025-03-16T23:08:33.941Z"
   },
   {
    "duration": 4,
    "start_time": "2025-03-16T23:08:33.945Z"
   },
   {
    "duration": 2,
    "start_time": "2025-03-16T23:08:33.951Z"
   },
   {
    "duration": 4,
    "start_time": "2025-03-16T23:08:33.955Z"
   },
   {
    "duration": 3,
    "start_time": "2025-03-16T23:08:33.961Z"
   },
   {
    "duration": 2,
    "start_time": "2025-03-16T23:08:33.966Z"
   },
   {
    "duration": 3,
    "start_time": "2025-03-16T23:08:33.970Z"
   },
   {
    "duration": 3,
    "start_time": "2025-03-16T23:08:33.975Z"
   },
   {
    "duration": 16,
    "start_time": "2025-03-16T23:11:34.627Z"
   },
   {
    "duration": 447,
    "start_time": "2025-03-16T23:12:30.843Z"
   },
   {
    "duration": 42,
    "start_time": "2025-03-16T23:12:51.341Z"
   },
   {
    "duration": 5,
    "start_time": "2025-03-16T23:13:11.957Z"
   },
   {
    "duration": 40,
    "start_time": "2025-03-16T23:13:19.203Z"
   },
   {
    "duration": 10,
    "start_time": "2025-03-16T23:13:35.258Z"
   },
   {
    "duration": 9,
    "start_time": "2025-03-16T23:14:13.044Z"
   },
   {
    "duration": 21,
    "start_time": "2025-03-16T23:15:35.723Z"
   },
   {
    "duration": 10,
    "start_time": "2025-03-16T23:15:43.517Z"
   },
   {
    "duration": 9,
    "start_time": "2025-03-16T23:15:58.000Z"
   },
   {
    "duration": 9,
    "start_time": "2025-03-16T23:16:02.793Z"
   },
   {
    "duration": 13,
    "start_time": "2025-03-16T23:16:17.294Z"
   },
   {
    "duration": 12,
    "start_time": "2025-03-16T23:16:29.652Z"
   },
   {
    "duration": 12,
    "start_time": "2025-03-16T23:16:36.657Z"
   },
   {
    "duration": 13,
    "start_time": "2025-03-16T23:17:49.641Z"
   },
   {
    "duration": 9,
    "start_time": "2025-03-16T23:18:30.714Z"
   },
   {
    "duration": 18,
    "start_time": "2025-03-16T23:21:13.179Z"
   },
   {
    "duration": 12,
    "start_time": "2025-03-16T23:21:26.325Z"
   },
   {
    "duration": 120,
    "start_time": "2025-03-16T23:24:33.123Z"
   },
   {
    "duration": 21,
    "start_time": "2025-03-16T23:24:51.437Z"
   },
   {
    "duration": 22,
    "start_time": "2025-03-16T23:30:12.051Z"
   },
   {
    "duration": 7,
    "start_time": "2025-03-16T23:30:31.435Z"
   },
   {
    "duration": 11,
    "start_time": "2025-03-16T23:31:02.218Z"
   },
   {
    "duration": 526,
    "start_time": "2025-03-16T23:31:24.194Z"
   },
   {
    "duration": 13,
    "start_time": "2025-03-16T23:31:29.851Z"
   },
   {
    "duration": 27,
    "start_time": "2025-03-17T00:31:25.032Z"
   },
   {
    "duration": 18,
    "start_time": "2025-03-17T00:31:49.576Z"
   },
   {
    "duration": 26,
    "start_time": "2025-03-17T00:33:47.977Z"
   },
   {
    "duration": 24,
    "start_time": "2025-03-17T00:35:19.165Z"
   },
   {
    "duration": 18,
    "start_time": "2025-03-17T00:35:36.941Z"
   },
   {
    "duration": 16,
    "start_time": "2025-03-17T00:35:41.653Z"
   },
   {
    "duration": 14,
    "start_time": "2025-03-17T00:35:47.042Z"
   },
   {
    "duration": 25,
    "start_time": "2025-03-17T00:35:47.654Z"
   },
   {
    "duration": 14,
    "start_time": "2025-03-17T00:37:16.425Z"
   },
   {
    "duration": 3,
    "start_time": "2025-03-17T03:04:46.837Z"
   },
   {
    "duration": 113,
    "start_time": "2025-03-17T06:19:54.278Z"
   },
   {
    "duration": 24,
    "start_time": "2025-03-17T06:21:34.815Z"
   },
   {
    "duration": 838,
    "start_time": "2025-03-17T06:21:41.322Z"
   },
   {
    "duration": 35,
    "start_time": "2025-03-17T06:21:42.162Z"
   },
   {
    "duration": 12,
    "start_time": "2025-03-17T06:21:42.199Z"
   },
   {
    "duration": 7,
    "start_time": "2025-03-17T06:21:42.213Z"
   },
   {
    "duration": 33,
    "start_time": "2025-03-17T06:21:42.223Z"
   },
   {
    "duration": 5,
    "start_time": "2025-03-17T06:21:42.258Z"
   },
   {
    "duration": 3,
    "start_time": "2025-03-17T06:21:42.265Z"
   },
   {
    "duration": 594,
    "start_time": "2025-03-17T06:21:42.269Z"
   },
   {
    "duration": 2,
    "start_time": "2025-03-17T06:21:42.865Z"
   },
   {
    "duration": 4,
    "start_time": "2025-03-17T06:21:42.869Z"
   },
   {
    "duration": 3,
    "start_time": "2025-03-17T06:21:42.874Z"
   },
   {
    "duration": 3,
    "start_time": "2025-03-17T06:21:42.879Z"
   },
   {
    "duration": 3,
    "start_time": "2025-03-17T06:21:42.883Z"
   },
   {
    "duration": 3,
    "start_time": "2025-03-17T06:21:42.888Z"
   },
   {
    "duration": 3,
    "start_time": "2025-03-17T06:21:42.892Z"
   },
   {
    "duration": 9,
    "start_time": "2025-03-17T06:21:42.897Z"
   },
   {
    "duration": 60,
    "start_time": "2025-03-17T06:21:42.907Z"
   },
   {
    "duration": 3,
    "start_time": "2025-03-17T06:21:42.969Z"
   },
   {
    "duration": 15,
    "start_time": "2025-03-17T06:22:01.869Z"
   },
   {
    "duration": 16,
    "start_time": "2025-03-17T06:26:30.402Z"
   },
   {
    "duration": 14,
    "start_time": "2025-03-17T06:26:49.634Z"
   },
   {
    "duration": 15,
    "start_time": "2025-03-17T06:27:17.578Z"
   },
   {
    "duration": 7,
    "start_time": "2025-03-17T06:27:41.738Z"
   },
   {
    "duration": 14,
    "start_time": "2025-03-17T06:28:07.865Z"
   },
   {
    "duration": 13,
    "start_time": "2025-03-17T06:28:25.281Z"
   },
   {
    "duration": 15,
    "start_time": "2025-03-17T06:28:39.076Z"
   },
   {
    "duration": 14,
    "start_time": "2025-03-17T06:30:25.624Z"
   },
   {
    "duration": 15,
    "start_time": "2025-03-17T06:32:35.890Z"
   },
   {
    "duration": 14,
    "start_time": "2025-03-17T06:32:58.550Z"
   },
   {
    "duration": 16,
    "start_time": "2025-03-17T06:33:24.707Z"
   },
   {
    "duration": 14,
    "start_time": "2025-03-17T06:39:46.531Z"
   },
   {
    "duration": 15,
    "start_time": "2025-03-17T06:40:05.471Z"
   },
   {
    "duration": 15,
    "start_time": "2025-03-17T06:40:32.553Z"
   },
   {
    "duration": 15,
    "start_time": "2025-03-17T06:40:38.498Z"
   },
   {
    "duration": 16,
    "start_time": "2025-03-17T06:41:03.213Z"
   },
   {
    "duration": 16,
    "start_time": "2025-03-17T06:41:08.418Z"
   },
   {
    "duration": 5,
    "start_time": "2025-03-17T06:41:13.807Z"
   },
   {
    "duration": 15,
    "start_time": "2025-03-17T06:41:48.139Z"
   },
   {
    "duration": 14,
    "start_time": "2025-03-17T06:42:04.321Z"
   },
   {
    "duration": 251,
    "start_time": "2025-03-17T06:42:10.838Z"
   },
   {
    "duration": 16,
    "start_time": "2025-03-17T06:42:18.107Z"
   },
   {
    "duration": 5,
    "start_time": "2025-03-17T06:43:07.824Z"
   },
   {
    "duration": 12,
    "start_time": "2025-03-17T06:43:08.643Z"
   },
   {
    "duration": 13,
    "start_time": "2025-03-17T06:43:09.659Z"
   },
   {
    "duration": 852,
    "start_time": "2025-03-17T06:45:42.305Z"
   },
   {
    "duration": 34,
    "start_time": "2025-03-17T06:45:43.160Z"
   },
   {
    "duration": 11,
    "start_time": "2025-03-17T06:45:43.196Z"
   },
   {
    "duration": 6,
    "start_time": "2025-03-17T06:45:43.209Z"
   },
   {
    "duration": 32,
    "start_time": "2025-03-17T06:45:43.219Z"
   },
   {
    "duration": 6,
    "start_time": "2025-03-17T06:45:43.252Z"
   },
   {
    "duration": 4,
    "start_time": "2025-03-17T06:45:43.260Z"
   },
   {
    "duration": 595,
    "start_time": "2025-03-17T06:45:43.265Z"
   },
   {
    "duration": 2,
    "start_time": "2025-03-17T06:45:43.862Z"
   },
   {
    "duration": 4,
    "start_time": "2025-03-17T06:45:43.866Z"
   },
   {
    "duration": 3,
    "start_time": "2025-03-17T06:45:43.872Z"
   },
   {
    "duration": 4,
    "start_time": "2025-03-17T06:45:43.876Z"
   },
   {
    "duration": 3,
    "start_time": "2025-03-17T06:45:43.881Z"
   },
   {
    "duration": 2,
    "start_time": "2025-03-17T06:45:43.887Z"
   },
   {
    "duration": 4,
    "start_time": "2025-03-17T06:45:43.890Z"
   },
   {
    "duration": 5,
    "start_time": "2025-03-17T06:45:43.895Z"
   },
   {
    "duration": 55,
    "start_time": "2025-03-17T06:45:43.901Z"
   },
   {
    "duration": 11,
    "start_time": "2025-03-17T06:45:43.958Z"
   },
   {
    "duration": 15,
    "start_time": "2025-03-17T06:45:43.971Z"
   },
   {
    "duration": 3,
    "start_time": "2025-03-17T06:45:43.987Z"
   },
   {
    "duration": 6,
    "start_time": "2025-03-17T06:46:48.747Z"
   },
   {
    "duration": 12,
    "start_time": "2025-03-17T06:46:51.649Z"
   },
   {
    "duration": 11,
    "start_time": "2025-03-17T06:46:53.758Z"
   },
   {
    "duration": 13,
    "start_time": "2025-03-17T06:47:07.919Z"
   },
   {
    "duration": 515,
    "start_time": "2025-03-17T06:58:05.480Z"
   },
   {
    "duration": 2664,
    "start_time": "2025-03-19T20:00:02.428Z"
   },
   {
    "duration": 48,
    "start_time": "2025-03-19T20:00:05.095Z"
   },
   {
    "duration": 11,
    "start_time": "2025-03-19T20:00:05.146Z"
   },
   {
    "duration": 8,
    "start_time": "2025-03-19T20:00:05.159Z"
   },
   {
    "duration": 15,
    "start_time": "2025-03-19T20:00:05.169Z"
   },
   {
    "duration": 6,
    "start_time": "2025-03-19T20:00:05.186Z"
   },
   {
    "duration": 20,
    "start_time": "2025-03-19T20:00:05.193Z"
   },
   {
    "duration": 574,
    "start_time": "2025-03-19T20:00:05.214Z"
   },
   {
    "duration": 2,
    "start_time": "2025-03-19T20:00:05.790Z"
   },
   {
    "duration": 3,
    "start_time": "2025-03-19T20:00:05.794Z"
   },
   {
    "duration": 5,
    "start_time": "2025-03-19T20:00:05.798Z"
   },
   {
    "duration": 4,
    "start_time": "2025-03-19T20:00:05.804Z"
   },
   {
    "duration": 5,
    "start_time": "2025-03-19T20:00:05.809Z"
   },
   {
    "duration": 3,
    "start_time": "2025-03-19T20:00:05.817Z"
   },
   {
    "duration": 55,
    "start_time": "2025-03-19T20:00:05.821Z"
   },
   {
    "duration": 50,
    "start_time": "2025-03-19T20:00:05.878Z"
   },
   {
    "duration": 13,
    "start_time": "2025-03-19T20:00:05.930Z"
   },
   {
    "duration": 15,
    "start_time": "2025-03-19T20:00:05.945Z"
   },
   {
    "duration": 245,
    "start_time": "2025-03-19T20:00:05.962Z"
   },
   {
    "duration": 0,
    "start_time": "2025-03-19T20:00:06.208Z"
   },
   {
    "duration": 5,
    "start_time": "2025-03-19T20:00:25.875Z"
   },
   {
    "duration": 6,
    "start_time": "2025-03-19T20:00:32.844Z"
   },
   {
    "duration": 5,
    "start_time": "2025-03-19T20:01:05.807Z"
   },
   {
    "duration": 6,
    "start_time": "2025-03-19T20:01:20.359Z"
   },
   {
    "duration": 364,
    "start_time": "2025-03-19T20:01:34.449Z"
   },
   {
    "duration": 364,
    "start_time": "2025-03-19T20:02:03.184Z"
   },
   {
    "duration": 5,
    "start_time": "2025-03-19T20:02:06.566Z"
   },
   {
    "duration": 10,
    "start_time": "2025-03-19T20:02:24.709Z"
   },
   {
    "duration": 99,
    "start_time": "2025-03-19T20:03:22.874Z"
   },
   {
    "duration": 6,
    "start_time": "2025-03-19T20:03:34.586Z"
   },
   {
    "duration": 7,
    "start_time": "2025-03-19T20:03:43.068Z"
   },
   {
    "duration": 6,
    "start_time": "2025-03-19T20:03:44.556Z"
   },
   {
    "duration": 855,
    "start_time": "2025-03-20T04:33:25.300Z"
   },
   {
    "duration": 35,
    "start_time": "2025-03-20T04:33:26.157Z"
   },
   {
    "duration": 20,
    "start_time": "2025-03-20T04:33:26.194Z"
   },
   {
    "duration": 8,
    "start_time": "2025-03-20T04:33:26.216Z"
   },
   {
    "duration": 16,
    "start_time": "2025-03-20T04:33:26.226Z"
   },
   {
    "duration": 5,
    "start_time": "2025-03-20T04:33:26.243Z"
   },
   {
    "duration": 3,
    "start_time": "2025-03-20T04:33:26.250Z"
   },
   {
    "duration": 581,
    "start_time": "2025-03-20T04:33:26.255Z"
   },
   {
    "duration": 2,
    "start_time": "2025-03-20T04:33:26.838Z"
   },
   {
    "duration": 2,
    "start_time": "2025-03-20T04:33:26.844Z"
   },
   {
    "duration": 4,
    "start_time": "2025-03-20T04:33:26.847Z"
   },
   {
    "duration": 3,
    "start_time": "2025-03-20T04:33:26.853Z"
   },
   {
    "duration": 3,
    "start_time": "2025-03-20T04:33:26.858Z"
   },
   {
    "duration": 3,
    "start_time": "2025-03-20T04:33:26.862Z"
   },
   {
    "duration": 5,
    "start_time": "2025-03-20T04:33:26.867Z"
   },
   {
    "duration": 50,
    "start_time": "2025-03-20T04:33:26.874Z"
   },
   {
    "duration": 11,
    "start_time": "2025-03-20T04:33:26.926Z"
   },
   {
    "duration": 12,
    "start_time": "2025-03-20T04:33:26.939Z"
   },
   {
    "duration": 6,
    "start_time": "2025-03-20T04:33:26.953Z"
   },
   {
    "duration": 6,
    "start_time": "2025-03-20T04:33:26.960Z"
   },
   {
    "duration": 6,
    "start_time": "2025-03-20T04:34:39.931Z"
   },
   {
    "duration": 4,
    "start_time": "2025-03-20T04:34:55.500Z"
   },
   {
    "duration": 8,
    "start_time": "2025-03-20T04:35:12.280Z"
   },
   {
    "duration": 5,
    "start_time": "2025-03-20T04:35:23.313Z"
   },
   {
    "duration": 6,
    "start_time": "2025-03-20T04:35:29.497Z"
   },
   {
    "duration": 6,
    "start_time": "2025-03-20T04:35:38.090Z"
   },
   {
    "duration": 7,
    "start_time": "2025-03-20T04:35:58.752Z"
   },
   {
    "duration": 7,
    "start_time": "2025-03-21T23:49:31.200Z"
   },
   {
    "duration": 7,
    "start_time": "2025-03-21T23:49:33.228Z"
   },
   {
    "duration": 873,
    "start_time": "2025-03-21T23:49:43.070Z"
   },
   {
    "duration": 35,
    "start_time": "2025-03-21T23:49:43.945Z"
   },
   {
    "duration": 13,
    "start_time": "2025-03-21T23:49:43.981Z"
   },
   {
    "duration": 19,
    "start_time": "2025-03-21T23:49:43.996Z"
   },
   {
    "duration": 15,
    "start_time": "2025-03-21T23:49:44.017Z"
   },
   {
    "duration": 5,
    "start_time": "2025-03-21T23:49:44.034Z"
   },
   {
    "duration": 5,
    "start_time": "2025-03-21T23:49:44.040Z"
   },
   {
    "duration": 586,
    "start_time": "2025-03-21T23:49:44.046Z"
   },
   {
    "duration": 2,
    "start_time": "2025-03-21T23:49:44.634Z"
   },
   {
    "duration": 1,
    "start_time": "2025-03-21T23:49:44.640Z"
   },
   {
    "duration": 4,
    "start_time": "2025-03-21T23:49:44.643Z"
   },
   {
    "duration": 3,
    "start_time": "2025-03-21T23:49:44.648Z"
   },
   {
    "duration": 3,
    "start_time": "2025-03-21T23:49:44.653Z"
   },
   {
    "duration": 4,
    "start_time": "2025-03-21T23:49:44.657Z"
   },
   {
    "duration": 6,
    "start_time": "2025-03-21T23:49:44.662Z"
   },
   {
    "duration": 64,
    "start_time": "2025-03-21T23:49:44.669Z"
   },
   {
    "duration": 11,
    "start_time": "2025-03-21T23:49:44.734Z"
   },
   {
    "duration": 13,
    "start_time": "2025-03-21T23:49:44.747Z"
   },
   {
    "duration": 7,
    "start_time": "2025-03-21T23:49:44.761Z"
   },
   {
    "duration": 7,
    "start_time": "2025-03-21T23:49:44.769Z"
   },
   {
    "duration": 2703,
    "start_time": "2025-03-22T02:17:00.937Z"
   },
   {
    "duration": 46,
    "start_time": "2025-03-22T02:17:03.642Z"
   },
   {
    "duration": 12,
    "start_time": "2025-03-22T02:17:03.689Z"
   },
   {
    "duration": 12,
    "start_time": "2025-03-22T02:17:03.703Z"
   },
   {
    "duration": 17,
    "start_time": "2025-03-22T02:17:03.716Z"
   },
   {
    "duration": 6,
    "start_time": "2025-03-22T02:17:03.735Z"
   },
   {
    "duration": 4,
    "start_time": "2025-03-22T02:17:03.743Z"
   },
   {
    "duration": 557,
    "start_time": "2025-03-22T02:17:03.749Z"
   },
   {
    "duration": 2,
    "start_time": "2025-03-22T02:17:04.308Z"
   },
   {
    "duration": 2,
    "start_time": "2025-03-22T02:17:04.314Z"
   },
   {
    "duration": 4,
    "start_time": "2025-03-22T02:17:04.317Z"
   },
   {
    "duration": 3,
    "start_time": "2025-03-22T02:17:04.323Z"
   },
   {
    "duration": 3,
    "start_time": "2025-03-22T02:17:04.327Z"
   },
   {
    "duration": 3,
    "start_time": "2025-03-22T02:17:04.332Z"
   },
   {
    "duration": 6,
    "start_time": "2025-03-22T02:17:04.336Z"
   },
   {
    "duration": 40,
    "start_time": "2025-03-22T02:17:04.344Z"
   },
   {
    "duration": 32,
    "start_time": "2025-03-22T02:17:04.386Z"
   },
   {
    "duration": 11,
    "start_time": "2025-03-22T02:17:04.420Z"
   },
   {
    "duration": 7,
    "start_time": "2025-03-22T02:17:04.433Z"
   },
   {
    "duration": 7,
    "start_time": "2025-03-22T02:17:04.441Z"
   },
   {
    "duration": 292,
    "start_time": "2025-03-22T02:18:39.567Z"
   },
   {
    "duration": 12,
    "start_time": "2025-03-22T02:18:48.619Z"
   },
   {
    "duration": 517,
    "start_time": "2025-03-22T07:05:49.209Z"
   },
   {
    "duration": 19,
    "start_time": "2025-03-22T07:07:09.255Z"
   },
   {
    "duration": 17,
    "start_time": "2025-03-22T07:07:34.653Z"
   },
   {
    "duration": 4,
    "start_time": "2025-03-22T07:08:08.844Z"
   },
   {
    "duration": 7,
    "start_time": "2025-03-22T07:09:48.482Z"
   },
   {
    "duration": 985,
    "start_time": "2025-03-22T18:58:36.346Z"
   },
   {
    "duration": 44,
    "start_time": "2025-03-22T18:58:37.334Z"
   },
   {
    "duration": 14,
    "start_time": "2025-03-22T18:58:37.380Z"
   },
   {
    "duration": 13,
    "start_time": "2025-03-22T18:58:37.397Z"
   },
   {
    "duration": 31,
    "start_time": "2025-03-22T18:58:37.412Z"
   },
   {
    "duration": 8,
    "start_time": "2025-03-22T18:58:37.445Z"
   },
   {
    "duration": 3,
    "start_time": "2025-03-22T18:58:37.456Z"
   },
   {
    "duration": 673,
    "start_time": "2025-03-22T18:58:37.461Z"
   },
   {
    "duration": 8,
    "start_time": "2025-03-22T18:58:38.137Z"
   },
   {
    "duration": 2,
    "start_time": "2025-03-22T18:58:38.148Z"
   },
   {
    "duration": 2,
    "start_time": "2025-03-22T18:58:38.152Z"
   },
   {
    "duration": 3,
    "start_time": "2025-03-22T18:58:38.156Z"
   },
   {
    "duration": 3,
    "start_time": "2025-03-22T18:58:38.160Z"
   },
   {
    "duration": 8,
    "start_time": "2025-03-22T18:58:38.164Z"
   },
   {
    "duration": 63,
    "start_time": "2025-03-22T18:58:38.173Z"
   },
   {
    "duration": 12,
    "start_time": "2025-03-22T18:58:38.238Z"
   },
   {
    "duration": 13,
    "start_time": "2025-03-22T18:58:38.251Z"
   },
   {
    "duration": 6,
    "start_time": "2025-03-22T18:58:38.265Z"
   },
   {
    "duration": 6,
    "start_time": "2025-03-22T18:58:38.273Z"
   },
   {
    "duration": 4,
    "start_time": "2025-03-22T20:58:33.649Z"
   },
   {
    "duration": 8,
    "start_time": "2025-03-23T06:09:12.410Z"
   },
   {
    "duration": 91,
    "start_time": "2025-03-23T06:09:33.718Z"
   },
   {
    "duration": 92,
    "start_time": "2025-03-23T06:10:28.663Z"
   },
   {
    "duration": 172,
    "start_time": "2025-03-23T06:10:44.087Z"
   },
   {
    "duration": 160,
    "start_time": "2025-03-23T06:10:56.265Z"
   },
   {
    "duration": 95,
    "start_time": "2025-03-23T06:11:17.690Z"
   },
   {
    "duration": 83,
    "start_time": "2025-03-23T06:11:44.178Z"
   },
   {
    "duration": 7,
    "start_time": "2025-03-23T06:12:57.496Z"
   },
   {
    "duration": 361,
    "start_time": "2025-03-23T06:13:22.038Z"
   },
   {
    "duration": 6,
    "start_time": "2025-03-23T06:13:36.057Z"
   },
   {
    "duration": 37,
    "start_time": "2025-03-23T06:17:33.485Z"
   },
   {
    "duration": 46,
    "start_time": "2025-03-23T06:17:48.020Z"
   },
   {
    "duration": 7,
    "start_time": "2025-03-23T06:18:22.650Z"
   },
   {
    "duration": 6,
    "start_time": "2025-03-23T06:18:35.607Z"
   },
   {
    "duration": 15,
    "start_time": "2025-03-23T06:18:42.066Z"
   },
   {
    "duration": 6,
    "start_time": "2025-03-23T06:19:10.036Z"
   },
   {
    "duration": 6,
    "start_time": "2025-03-23T06:19:20.805Z"
   },
   {
    "duration": 6,
    "start_time": "2025-03-23T06:19:34.571Z"
   },
   {
    "duration": 10,
    "start_time": "2025-03-23T06:19:46.317Z"
   },
   {
    "duration": 501,
    "start_time": "2025-03-23T06:19:56.966Z"
   },
   {
    "duration": 12,
    "start_time": "2025-03-23T06:20:02.872Z"
   },
   {
    "duration": 9,
    "start_time": "2025-03-23T06:20:13.116Z"
   },
   {
    "duration": 6,
    "start_time": "2025-03-23T06:20:25.453Z"
   },
   {
    "duration": 11,
    "start_time": "2025-03-23T06:32:54.200Z"
   },
   {
    "duration": 84,
    "start_time": "2025-03-23T06:33:10.561Z"
   },
   {
    "duration": 85,
    "start_time": "2025-03-23T06:33:27.782Z"
   },
   {
    "duration": 83,
    "start_time": "2025-03-23T06:33:35.735Z"
   },
   {
    "duration": 83,
    "start_time": "2025-03-23T06:33:46.574Z"
   },
   {
    "duration": 224,
    "start_time": "2025-03-23T06:39:33.581Z"
   },
   {
    "duration": 229,
    "start_time": "2025-03-23T06:40:35.182Z"
   },
   {
    "duration": 3,
    "start_time": "2025-03-23T06:40:52.303Z"
   },
   {
    "duration": 2,
    "start_time": "2025-03-23T06:40:52.700Z"
   },
   {
    "duration": 2,
    "start_time": "2025-03-23T06:40:53.151Z"
   },
   {
    "duration": 6,
    "start_time": "2025-03-23T06:40:54.998Z"
   },
   {
    "duration": 13,
    "start_time": "2025-03-23T06:40:56.377Z"
   },
   {
    "duration": 13,
    "start_time": "2025-03-23T06:40:58.649Z"
   },
   {
    "duration": 104,
    "start_time": "2025-03-23T08:41:24.279Z"
   },
   {
    "duration": 171,
    "start_time": "2025-03-23T08:41:27.254Z"
   },
   {
    "duration": 45,
    "start_time": "2025-03-23T08:41:32.590Z"
   },
   {
    "duration": 44,
    "start_time": "2025-03-23T08:41:41.642Z"
   },
   {
    "duration": 8,
    "start_time": "2025-03-23T08:42:22.777Z"
   },
   {
    "duration": 16,
    "start_time": "2025-03-23T08:45:00.401Z"
   },
   {
    "duration": 26,
    "start_time": "2025-03-23T08:45:38.192Z"
   },
   {
    "duration": 28,
    "start_time": "2025-03-23T08:46:57.431Z"
   },
   {
    "duration": 24,
    "start_time": "2025-03-23T08:47:37.858Z"
   },
   {
    "duration": 39,
    "start_time": "2025-03-23T08:48:20.064Z"
   },
   {
    "duration": 20,
    "start_time": "2025-03-23T08:49:55.673Z"
   },
   {
    "duration": 15,
    "start_time": "2025-03-23T08:51:33.755Z"
   },
   {
    "duration": 15,
    "start_time": "2025-03-23T08:52:50.913Z"
   },
   {
    "duration": 15,
    "start_time": "2025-03-23T08:53:01.803Z"
   },
   {
    "duration": 16,
    "start_time": "2025-03-23T08:53:44.440Z"
   },
   {
    "duration": 6,
    "start_time": "2025-03-23T08:56:20.646Z"
   },
   {
    "duration": 28,
    "start_time": "2025-03-23T08:56:43.307Z"
   },
   {
    "duration": 28,
    "start_time": "2025-03-23T08:56:55.297Z"
   },
   {
    "duration": 29,
    "start_time": "2025-03-23T08:57:34.493Z"
   },
   {
    "duration": 29,
    "start_time": "2025-03-23T08:58:01.214Z"
   },
   {
    "duration": 28,
    "start_time": "2025-03-23T08:58:28.120Z"
   },
   {
    "duration": 28,
    "start_time": "2025-03-23T09:00:05.061Z"
   },
   {
    "duration": 28,
    "start_time": "2025-03-23T09:00:50.927Z"
   },
   {
    "duration": 26,
    "start_time": "2025-03-23T09:01:54.105Z"
   },
   {
    "duration": 38,
    "start_time": "2025-03-23T09:03:31.638Z"
   },
   {
    "duration": 27,
    "start_time": "2025-03-23T09:03:45.293Z"
   },
   {
    "duration": 6,
    "start_time": "2025-03-23T09:04:49.824Z"
   },
   {
    "duration": 12,
    "start_time": "2025-03-23T09:04:51.963Z"
   },
   {
    "duration": 117,
    "start_time": "2025-03-23T09:05:04.709Z"
   },
   {
    "duration": 14,
    "start_time": "2025-03-23T09:05:10.864Z"
   },
   {
    "duration": 26,
    "start_time": "2025-03-23T09:05:12.113Z"
   },
   {
    "duration": 5,
    "start_time": "2025-03-23T09:05:19.659Z"
   },
   {
    "duration": 12,
    "start_time": "2025-03-23T09:05:20.670Z"
   },
   {
    "duration": 6,
    "start_time": "2025-03-23T09:05:41.056Z"
   },
   {
    "duration": 13,
    "start_time": "2025-03-23T09:05:41.958Z"
   },
   {
    "duration": 5,
    "start_time": "2025-03-23T09:05:55.931Z"
   },
   {
    "duration": 12,
    "start_time": "2025-03-23T09:05:58.816Z"
   },
   {
    "duration": 58,
    "start_time": "2025-03-23T09:06:00.982Z"
   },
   {
    "duration": 892,
    "start_time": "2025-03-23T09:06:26.881Z"
   },
   {
    "duration": 42,
    "start_time": "2025-03-23T09:06:27.775Z"
   },
   {
    "duration": 13,
    "start_time": "2025-03-23T09:06:27.819Z"
   },
   {
    "duration": 7,
    "start_time": "2025-03-23T09:06:27.834Z"
   },
   {
    "duration": 17,
    "start_time": "2025-03-23T09:06:27.843Z"
   },
   {
    "duration": 6,
    "start_time": "2025-03-23T09:06:27.861Z"
   },
   {
    "duration": 3,
    "start_time": "2025-03-23T09:06:27.868Z"
   },
   {
    "duration": 608,
    "start_time": "2025-03-23T09:06:27.873Z"
   },
   {
    "duration": 232,
    "start_time": "2025-03-23T09:06:28.483Z"
   },
   {
    "duration": 3,
    "start_time": "2025-03-23T09:06:28.718Z"
   },
   {
    "duration": 3,
    "start_time": "2025-03-23T09:06:28.722Z"
   },
   {
    "duration": 2,
    "start_time": "2025-03-23T09:06:28.727Z"
   },
   {
    "duration": 5,
    "start_time": "2025-03-23T09:06:28.732Z"
   },
   {
    "duration": 39,
    "start_time": "2025-03-23T09:06:28.738Z"
   },
   {
    "duration": 38,
    "start_time": "2025-03-23T09:06:28.780Z"
   },
   {
    "duration": 11,
    "start_time": "2025-03-23T09:06:28.820Z"
   },
   {
    "duration": 257,
    "start_time": "2025-03-23T09:06:28.833Z"
   },
   {
    "duration": 0,
    "start_time": "2025-03-23T09:06:29.092Z"
   },
   {
    "duration": 0,
    "start_time": "2025-03-23T09:06:29.094Z"
   },
   {
    "duration": 7,
    "start_time": "2025-03-23T09:06:46.866Z"
   },
   {
    "duration": 6,
    "start_time": "2025-03-23T09:06:48.812Z"
   },
   {
    "duration": 6,
    "start_time": "2025-03-23T09:06:52.991Z"
   },
   {
    "duration": 13,
    "start_time": "2025-03-23T09:06:54.262Z"
   },
   {
    "duration": 13,
    "start_time": "2025-03-23T09:06:57.601Z"
   },
   {
    "duration": 13,
    "start_time": "2025-03-23T09:06:59.213Z"
   },
   {
    "duration": 13,
    "start_time": "2025-03-23T09:07:03.587Z"
   },
   {
    "duration": 26,
    "start_time": "2025-03-23T09:07:09.928Z"
   },
   {
    "duration": 238,
    "start_time": "2025-03-23T09:07:18.857Z"
   },
   {
    "duration": 2,
    "start_time": "2025-03-23T09:07:19.903Z"
   },
   {
    "duration": 2,
    "start_time": "2025-03-23T09:07:20.225Z"
   },
   {
    "duration": 2,
    "start_time": "2025-03-23T09:07:20.597Z"
   },
   {
    "duration": 6,
    "start_time": "2025-03-23T09:07:22.243Z"
   },
   {
    "duration": 11,
    "start_time": "2025-03-23T09:07:23.891Z"
   },
   {
    "duration": 12,
    "start_time": "2025-03-23T09:07:25.837Z"
   },
   {
    "duration": 12,
    "start_time": "2025-03-23T09:07:27.695Z"
   },
   {
    "duration": 27,
    "start_time": "2025-03-23T09:07:35.486Z"
   },
   {
    "duration": 683,
    "start_time": "2025-03-23T09:10:25.501Z"
   },
   {
    "duration": 646,
    "start_time": "2025-03-23T19:30:23.440Z"
   },
   {
    "duration": 889,
    "start_time": "2025-03-23T19:30:31.164Z"
   },
   {
    "duration": 34,
    "start_time": "2025-03-23T19:30:32.055Z"
   },
   {
    "duration": 21,
    "start_time": "2025-03-23T19:30:32.091Z"
   },
   {
    "duration": 8,
    "start_time": "2025-03-23T19:30:32.115Z"
   },
   {
    "duration": 17,
    "start_time": "2025-03-23T19:30:32.125Z"
   },
   {
    "duration": 6,
    "start_time": "2025-03-23T19:30:32.144Z"
   },
   {
    "duration": 4,
    "start_time": "2025-03-23T19:30:32.152Z"
   },
   {
    "duration": 584,
    "start_time": "2025-03-23T19:30:32.157Z"
   },
   {
    "duration": 233,
    "start_time": "2025-03-23T19:30:32.744Z"
   },
   {
    "duration": 3,
    "start_time": "2025-03-23T19:30:32.980Z"
   },
   {
    "duration": 4,
    "start_time": "2025-03-23T19:30:32.984Z"
   },
   {
    "duration": 4,
    "start_time": "2025-03-23T19:30:32.989Z"
   },
   {
    "duration": 19,
    "start_time": "2025-03-23T19:30:32.994Z"
   },
   {
    "duration": 39,
    "start_time": "2025-03-23T19:30:33.015Z"
   },
   {
    "duration": 11,
    "start_time": "2025-03-23T19:30:33.055Z"
   },
   {
    "duration": 13,
    "start_time": "2025-03-23T19:30:33.068Z"
   },
   {
    "duration": 268,
    "start_time": "2025-03-23T19:30:33.082Z"
   },
   {
    "duration": 0,
    "start_time": "2025-03-23T19:30:33.352Z"
   },
   {
    "duration": 0,
    "start_time": "2025-03-23T19:30:33.353Z"
   },
   {
    "duration": 8,
    "start_time": "2025-03-23T19:55:04.626Z"
   },
   {
    "duration": 2,
    "start_time": "2025-03-23T19:55:12.645Z"
   },
   {
    "duration": 32,
    "start_time": "2025-03-23T19:55:13.237Z"
   },
   {
    "duration": 13,
    "start_time": "2025-03-23T19:55:17.698Z"
   },
   {
    "duration": 8,
    "start_time": "2025-03-23T19:55:18.373Z"
   },
   {
    "duration": 18,
    "start_time": "2025-03-23T19:55:19.101Z"
   },
   {
    "duration": 6,
    "start_time": "2025-03-23T19:57:19.636Z"
   },
   {
    "duration": 4,
    "start_time": "2025-03-23T19:57:32.022Z"
   },
   {
    "duration": 227,
    "start_time": "2025-03-23T19:57:47.005Z"
   },
   {
    "duration": 16,
    "start_time": "2025-03-23T19:58:05.110Z"
   },
   {
    "duration": 3,
    "start_time": "2025-03-23T19:58:10.906Z"
   },
   {
    "duration": 32,
    "start_time": "2025-03-23T19:58:11.388Z"
   },
   {
    "duration": 12,
    "start_time": "2025-03-23T19:58:12.780Z"
   },
   {
    "duration": 8,
    "start_time": "2025-03-23T19:58:13.388Z"
   },
   {
    "duration": 192,
    "start_time": "2025-03-23T19:58:14.178Z"
   },
   {
    "duration": 15,
    "start_time": "2025-03-23T19:59:02.907Z"
   },
   {
    "duration": 5,
    "start_time": "2025-03-23T19:59:10.985Z"
   },
   {
    "duration": 17,
    "start_time": "2025-03-23T19:59:16.630Z"
   },
   {
    "duration": 3,
    "start_time": "2025-03-23T19:59:22.014Z"
   },
   {
    "duration": 31,
    "start_time": "2025-03-23T19:59:22.758Z"
   },
   {
    "duration": 14,
    "start_time": "2025-03-23T19:59:24.045Z"
   },
   {
    "duration": 8,
    "start_time": "2025-03-23T19:59:24.648Z"
   },
   {
    "duration": 16,
    "start_time": "2025-03-23T19:59:25.279Z"
   },
   {
    "duration": 6,
    "start_time": "2025-03-23T19:59:30.617Z"
   },
   {
    "duration": 4,
    "start_time": "2025-03-23T19:59:31.138Z"
   },
   {
    "duration": 507,
    "start_time": "2025-03-23T19:59:35.812Z"
   },
   {
    "duration": 3,
    "start_time": "2025-03-23T20:01:51.519Z"
   },
   {
    "duration": 31,
    "start_time": "2025-03-23T20:01:51.958Z"
   },
   {
    "duration": 13,
    "start_time": "2025-03-23T20:01:54.840Z"
   },
   {
    "duration": 9,
    "start_time": "2025-03-23T20:01:55.544Z"
   },
   {
    "duration": 4,
    "start_time": "2025-03-23T20:02:28.212Z"
   },
   {
    "duration": 868,
    "start_time": "2025-03-23T20:03:13.193Z"
   },
   {
    "duration": 36,
    "start_time": "2025-03-23T20:03:14.064Z"
   },
   {
    "duration": 18,
    "start_time": "2025-03-23T20:03:14.101Z"
   },
   {
    "duration": 7,
    "start_time": "2025-03-23T20:03:14.121Z"
   },
   {
    "duration": 157,
    "start_time": "2025-03-23T20:03:14.130Z"
   },
   {
    "duration": 0,
    "start_time": "2025-03-23T20:03:14.289Z"
   },
   {
    "duration": 0,
    "start_time": "2025-03-23T20:03:14.291Z"
   },
   {
    "duration": 0,
    "start_time": "2025-03-23T20:03:14.292Z"
   },
   {
    "duration": 0,
    "start_time": "2025-03-23T20:03:14.293Z"
   },
   {
    "duration": 0,
    "start_time": "2025-03-23T20:03:14.294Z"
   },
   {
    "duration": 0,
    "start_time": "2025-03-23T20:03:14.309Z"
   },
   {
    "duration": 0,
    "start_time": "2025-03-23T20:03:14.310Z"
   },
   {
    "duration": 0,
    "start_time": "2025-03-23T20:03:14.312Z"
   },
   {
    "duration": 0,
    "start_time": "2025-03-23T20:03:14.313Z"
   },
   {
    "duration": 0,
    "start_time": "2025-03-23T20:03:14.315Z"
   },
   {
    "duration": 0,
    "start_time": "2025-03-23T20:03:14.317Z"
   },
   {
    "duration": 0,
    "start_time": "2025-03-23T20:03:14.318Z"
   },
   {
    "duration": 162,
    "start_time": "2025-03-23T20:03:24.413Z"
   },
   {
    "duration": 865,
    "start_time": "2025-03-23T20:03:32.370Z"
   },
   {
    "duration": 33,
    "start_time": "2025-03-23T20:03:33.237Z"
   },
   {
    "duration": 13,
    "start_time": "2025-03-23T20:03:33.272Z"
   },
   {
    "duration": 23,
    "start_time": "2025-03-23T20:03:33.287Z"
   },
   {
    "duration": 145,
    "start_time": "2025-03-23T20:03:33.311Z"
   },
   {
    "duration": 0,
    "start_time": "2025-03-23T20:03:33.458Z"
   },
   {
    "duration": 0,
    "start_time": "2025-03-23T20:03:33.459Z"
   },
   {
    "duration": 0,
    "start_time": "2025-03-23T20:03:33.461Z"
   },
   {
    "duration": 0,
    "start_time": "2025-03-23T20:03:33.462Z"
   },
   {
    "duration": 0,
    "start_time": "2025-03-23T20:03:33.463Z"
   },
   {
    "duration": 0,
    "start_time": "2025-03-23T20:03:33.464Z"
   },
   {
    "duration": 0,
    "start_time": "2025-03-23T20:03:33.465Z"
   },
   {
    "duration": 0,
    "start_time": "2025-03-23T20:03:33.466Z"
   },
   {
    "duration": 0,
    "start_time": "2025-03-23T20:03:33.467Z"
   },
   {
    "duration": 0,
    "start_time": "2025-03-23T20:03:33.468Z"
   },
   {
    "duration": 0,
    "start_time": "2025-03-23T20:03:33.469Z"
   },
   {
    "duration": 0,
    "start_time": "2025-03-23T20:03:33.470Z"
   },
   {
    "duration": 3,
    "start_time": "2025-03-23T20:03:45.510Z"
   },
   {
    "duration": 32,
    "start_time": "2025-03-23T20:03:45.910Z"
   },
   {
    "duration": 12,
    "start_time": "2025-03-23T20:03:46.918Z"
   },
   {
    "duration": 9,
    "start_time": "2025-03-23T20:03:47.486Z"
   },
   {
    "duration": 20,
    "start_time": "2025-03-23T20:03:48.205Z"
   },
   {
    "duration": 154,
    "start_time": "2025-03-23T20:04:41.577Z"
   },
   {
    "duration": 858,
    "start_time": "2025-03-23T20:04:52.299Z"
   },
   {
    "duration": 36,
    "start_time": "2025-03-23T20:04:53.160Z"
   },
   {
    "duration": 22,
    "start_time": "2025-03-23T20:04:53.197Z"
   },
   {
    "duration": 7,
    "start_time": "2025-03-23T20:04:53.222Z"
   },
   {
    "duration": 17,
    "start_time": "2025-03-23T20:04:53.231Z"
   },
   {
    "duration": 7,
    "start_time": "2025-03-23T20:04:53.250Z"
   },
   {
    "duration": 3,
    "start_time": "2025-03-23T20:04:53.260Z"
   },
   {
    "duration": 964,
    "start_time": "2025-03-23T20:04:53.265Z"
   },
   {
    "duration": 259,
    "start_time": "2025-03-23T20:04:54.231Z"
   },
   {
    "duration": 2,
    "start_time": "2025-03-23T20:04:54.493Z"
   },
   {
    "duration": 3,
    "start_time": "2025-03-23T20:04:54.497Z"
   },
   {
    "duration": 5,
    "start_time": "2025-03-23T20:04:54.509Z"
   },
   {
    "duration": 44,
    "start_time": "2025-03-23T20:04:54.516Z"
   },
   {
    "duration": 12,
    "start_time": "2025-03-23T20:04:54.562Z"
   },
   {
    "duration": 33,
    "start_time": "2025-03-23T20:04:54.576Z"
   },
   {
    "duration": 7,
    "start_time": "2025-03-23T20:04:54.611Z"
   },
   {
    "duration": 7,
    "start_time": "2025-03-23T20:04:54.619Z"
   },
   {
    "duration": 596,
    "start_time": "2025-03-23T20:05:31.115Z"
   },
   {
    "duration": 3,
    "start_time": "2025-03-23T20:05:39.838Z"
   },
   {
    "duration": 29,
    "start_time": "2025-03-23T20:05:40.318Z"
   },
   {
    "duration": 14,
    "start_time": "2025-03-23T20:05:41.396Z"
   },
   {
    "duration": 9,
    "start_time": "2025-03-23T20:05:42.021Z"
   },
   {
    "duration": 19,
    "start_time": "2025-03-23T20:05:42.570Z"
   },
   {
    "duration": 8,
    "start_time": "2025-03-23T20:05:43.213Z"
   },
   {
    "duration": 4,
    "start_time": "2025-03-23T20:05:43.751Z"
   },
   {
    "duration": 814,
    "start_time": "2025-03-23T20:05:46.751Z"
   },
   {
    "duration": 687,
    "start_time": "2025-03-23T20:06:33.668Z"
   },
   {
    "duration": 591,
    "start_time": "2025-03-23T20:08:55.160Z"
   },
   {
    "duration": 32,
    "start_time": "2025-03-23T20:09:45.557Z"
   },
   {
    "duration": 13,
    "start_time": "2025-03-23T20:09:46.586Z"
   },
   {
    "duration": 9,
    "start_time": "2025-03-23T20:09:47.128Z"
   },
   {
    "duration": 19,
    "start_time": "2025-03-23T20:09:48.144Z"
   },
   {
    "duration": 3,
    "start_time": "2025-03-23T20:09:51.012Z"
   },
   {
    "duration": 31,
    "start_time": "2025-03-23T20:09:51.466Z"
   },
   {
    "duration": 13,
    "start_time": "2025-03-23T20:09:52.951Z"
   },
   {
    "duration": 8,
    "start_time": "2025-03-23T20:09:54.642Z"
   },
   {
    "duration": 6,
    "start_time": "2025-03-23T20:10:07.963Z"
   },
   {
    "duration": 6,
    "start_time": "2025-03-23T20:10:30.067Z"
   },
   {
    "duration": 582,
    "start_time": "2025-03-23T20:11:15.848Z"
   },
   {
    "duration": 8,
    "start_time": "2025-03-23T20:11:20.170Z"
   },
   {
    "duration": 19,
    "start_time": "2025-03-24T08:22:01.264Z"
   },
   {
    "duration": 7,
    "start_time": "2025-03-24T08:22:02.021Z"
   },
   {
    "duration": 4,
    "start_time": "2025-03-24T08:22:02.631Z"
   },
   {
    "duration": 706,
    "start_time": "2025-03-24T08:22:04.741Z"
   },
   {
    "duration": 3,
    "start_time": "2025-03-24T08:23:18.387Z"
   },
   {
    "duration": 31,
    "start_time": "2025-03-24T08:23:18.805Z"
   },
   {
    "duration": 12,
    "start_time": "2025-03-24T08:23:20.245Z"
   },
   {
    "duration": 8,
    "start_time": "2025-03-24T08:23:20.816Z"
   },
   {
    "duration": 8,
    "start_time": "2025-03-24T08:23:21.498Z"
   },
   {
    "duration": 8,
    "start_time": "2025-03-24T08:24:00.397Z"
   },
   {
    "duration": 9,
    "start_time": "2025-03-24T08:25:05.737Z"
   },
   {
    "duration": 4,
    "start_time": "2025-03-24T08:27:24.261Z"
   },
   {
    "duration": 18,
    "start_time": "2025-03-24T08:27:33.547Z"
   },
   {
    "duration": 16,
    "start_time": "2025-03-24T08:28:04.829Z"
   },
   {
    "duration": 78,
    "start_time": "2025-03-24T08:28:36.713Z"
   },
   {
    "duration": 20,
    "start_time": "2025-03-24T08:28:48.908Z"
   },
   {
    "duration": 42,
    "start_time": "2025-03-24T08:29:08.518Z"
   },
   {
    "duration": 19,
    "start_time": "2025-03-24T08:29:14.253Z"
   },
   {
    "duration": 448,
    "start_time": "2025-03-24T08:29:49.719Z"
   },
   {
    "duration": 50,
    "start_time": "2025-03-24T08:30:05.427Z"
   },
   {
    "duration": 51,
    "start_time": "2025-03-24T08:30:41.403Z"
   },
   {
    "duration": 53,
    "start_time": "2025-03-24T08:30:59.834Z"
   },
   {
    "duration": 56,
    "start_time": "2025-03-24T08:33:08.225Z"
   },
   {
    "duration": 2,
    "start_time": "2025-03-24T08:35:27.339Z"
   },
   {
    "duration": 33,
    "start_time": "2025-03-24T08:35:27.813Z"
   },
   {
    "duration": 12,
    "start_time": "2025-03-24T08:35:29.179Z"
   },
   {
    "duration": 8,
    "start_time": "2025-03-24T08:35:30.681Z"
   },
   {
    "duration": 54,
    "start_time": "2025-03-24T08:35:31.526Z"
   },
   {
    "duration": 59,
    "start_time": "2025-03-24T08:36:58.365Z"
   },
   {
    "duration": 7,
    "start_time": "2025-03-24T08:42:19.565Z"
   },
   {
    "duration": 7,
    "start_time": "2025-03-24T08:42:25.909Z"
   },
   {
    "duration": 13,
    "start_time": "2025-03-24T08:42:48.138Z"
   },
   {
    "duration": 14,
    "start_time": "2025-03-24T08:42:53.682Z"
   },
   {
    "duration": 3,
    "start_time": "2025-03-24T08:43:02.331Z"
   },
   {
    "duration": 5,
    "start_time": "2025-03-24T08:43:58.010Z"
   },
   {
    "duration": 10,
    "start_time": "2025-03-24T08:47:00.127Z"
   },
   {
    "duration": 312,
    "start_time": "2025-03-24T08:53:14.650Z"
   },
   {
    "duration": 204,
    "start_time": "2025-03-24T08:58:04.914Z"
   },
   {
    "duration": 6,
    "start_time": "2025-03-24T08:58:11.703Z"
   },
   {
    "duration": 900,
    "start_time": "2025-03-24T19:00:16.054Z"
   },
   {
    "duration": 37,
    "start_time": "2025-03-24T19:00:16.956Z"
   },
   {
    "duration": 17,
    "start_time": "2025-03-24T19:00:16.995Z"
   },
   {
    "duration": 8,
    "start_time": "2025-03-24T19:00:17.014Z"
   },
   {
    "duration": 912,
    "start_time": "2025-03-24T19:00:17.023Z"
   },
   {
    "duration": 0,
    "start_time": "2025-03-24T19:00:17.937Z"
   },
   {
    "duration": 0,
    "start_time": "2025-03-24T19:00:17.938Z"
   },
   {
    "duration": 0,
    "start_time": "2025-03-24T19:00:17.938Z"
   },
   {
    "duration": 0,
    "start_time": "2025-03-24T19:00:17.939Z"
   },
   {
    "duration": 0,
    "start_time": "2025-03-24T19:00:17.940Z"
   },
   {
    "duration": 0,
    "start_time": "2025-03-24T19:00:17.943Z"
   },
   {
    "duration": 0,
    "start_time": "2025-03-24T19:00:17.944Z"
   },
   {
    "duration": 0,
    "start_time": "2025-03-24T19:00:17.945Z"
   },
   {
    "duration": 0,
    "start_time": "2025-03-24T19:00:17.946Z"
   },
   {
    "duration": 0,
    "start_time": "2025-03-24T19:00:17.947Z"
   },
   {
    "duration": 0,
    "start_time": "2025-03-24T19:00:17.948Z"
   },
   {
    "duration": 0,
    "start_time": "2025-03-24T19:00:17.950Z"
   },
   {
    "duration": 0,
    "start_time": "2025-03-24T19:00:17.951Z"
   },
   {
    "duration": 0,
    "start_time": "2025-03-24T19:00:17.952Z"
   },
   {
    "duration": 905,
    "start_time": "2025-03-24T19:07:56.773Z"
   },
   {
    "duration": 36,
    "start_time": "2025-03-24T19:07:57.680Z"
   },
   {
    "duration": 15,
    "start_time": "2025-03-24T19:07:57.719Z"
   },
   {
    "duration": 9,
    "start_time": "2025-03-24T19:07:57.737Z"
   },
   {
    "duration": 18,
    "start_time": "2025-03-24T19:07:57.747Z"
   },
   {
    "duration": 880,
    "start_time": "2025-03-24T19:07:57.768Z"
   },
   {
    "duration": 0,
    "start_time": "2025-03-24T19:07:58.650Z"
   },
   {
    "duration": 0,
    "start_time": "2025-03-24T19:07:58.652Z"
   },
   {
    "duration": 1,
    "start_time": "2025-03-24T19:07:58.652Z"
   },
   {
    "duration": 0,
    "start_time": "2025-03-24T19:07:58.654Z"
   },
   {
    "duration": 0,
    "start_time": "2025-03-24T19:07:58.654Z"
   },
   {
    "duration": 0,
    "start_time": "2025-03-24T19:07:58.656Z"
   },
   {
    "duration": 0,
    "start_time": "2025-03-24T19:07:58.657Z"
   },
   {
    "duration": 0,
    "start_time": "2025-03-24T19:07:58.658Z"
   },
   {
    "duration": 0,
    "start_time": "2025-03-24T19:07:58.659Z"
   },
   {
    "duration": 0,
    "start_time": "2025-03-24T19:07:58.660Z"
   },
   {
    "duration": 0,
    "start_time": "2025-03-24T19:07:58.661Z"
   },
   {
    "duration": 49,
    "start_time": "2025-03-24T19:09:03.707Z"
   },
   {
    "duration": 24,
    "start_time": "2025-03-24T19:09:32.845Z"
   },
   {
    "duration": 52,
    "start_time": "2025-03-24T19:09:37.213Z"
   },
   {
    "duration": 33,
    "start_time": "2025-03-24T19:09:53.939Z"
   },
   {
    "duration": 48,
    "start_time": "2025-03-24T19:09:58.410Z"
   },
   {
    "duration": 52,
    "start_time": "2025-03-24T19:10:37.714Z"
   },
   {
    "duration": 16,
    "start_time": "2025-03-24T19:11:38.400Z"
   },
   {
    "duration": 49,
    "start_time": "2025-03-24T19:11:41.461Z"
   },
   {
    "duration": 49,
    "start_time": "2025-03-24T19:11:53.674Z"
   },
   {
    "duration": 15,
    "start_time": "2025-03-24T19:12:26.801Z"
   },
   {
    "duration": 924,
    "start_time": "2025-03-24T19:13:19.435Z"
   },
   {
    "duration": 34,
    "start_time": "2025-03-24T19:13:20.362Z"
   },
   {
    "duration": 22,
    "start_time": "2025-03-24T19:13:20.398Z"
   },
   {
    "duration": 8,
    "start_time": "2025-03-24T19:13:20.422Z"
   },
   {
    "duration": 20,
    "start_time": "2025-03-24T19:13:20.431Z"
   },
   {
    "duration": 4,
    "start_time": "2025-03-24T19:13:20.453Z"
   },
   {
    "duration": 3,
    "start_time": "2025-03-24T19:13:20.459Z"
   },
   {
    "duration": 410,
    "start_time": "2025-03-24T19:13:20.464Z"
   },
   {
    "duration": 334,
    "start_time": "2025-03-24T19:13:20.875Z"
   },
   {
    "duration": 2,
    "start_time": "2025-03-24T19:13:21.212Z"
   },
   {
    "duration": 3,
    "start_time": "2025-03-24T19:13:21.215Z"
   },
   {
    "duration": 6,
    "start_time": "2025-03-24T19:13:21.220Z"
   },
   {
    "duration": 40,
    "start_time": "2025-03-24T19:13:21.227Z"
   },
   {
    "duration": 11,
    "start_time": "2025-03-24T19:13:21.269Z"
   },
   {
    "duration": 38,
    "start_time": "2025-03-24T19:13:21.282Z"
   },
   {
    "duration": 6,
    "start_time": "2025-03-24T19:13:21.322Z"
   },
   {
    "duration": 6,
    "start_time": "2025-03-24T19:13:21.330Z"
   },
   {
    "duration": 343,
    "start_time": "2025-03-24T19:13:50.913Z"
   },
   {
    "duration": 240,
    "start_time": "2025-03-24T19:16:54.303Z"
   },
   {
    "duration": 532,
    "start_time": "2025-03-24T19:18:39.150Z"
   },
   {
    "duration": 349,
    "start_time": "2025-03-24T19:18:58.593Z"
   },
   {
    "duration": 554,
    "start_time": "2025-03-24T19:19:09.440Z"
   },
   {
    "duration": 19,
    "start_time": "2025-03-24T19:22:12.542Z"
   },
   {
    "duration": 646,
    "start_time": "2025-03-24T19:22:19.245Z"
   },
   {
    "duration": 864,
    "start_time": "2025-03-24T19:22:41.396Z"
   },
   {
    "duration": 34,
    "start_time": "2025-03-24T19:22:42.263Z"
   },
   {
    "duration": 21,
    "start_time": "2025-03-24T19:22:42.299Z"
   },
   {
    "duration": 9,
    "start_time": "2025-03-24T19:22:42.322Z"
   },
   {
    "duration": 18,
    "start_time": "2025-03-24T19:22:42.333Z"
   },
   {
    "duration": 3,
    "start_time": "2025-03-24T19:22:42.353Z"
   },
   {
    "duration": 3,
    "start_time": "2025-03-24T19:22:42.358Z"
   },
   {
    "duration": 918,
    "start_time": "2025-03-24T19:22:42.363Z"
   },
   {
    "duration": 249,
    "start_time": "2025-03-24T19:22:43.283Z"
   },
   {
    "duration": 2,
    "start_time": "2025-03-24T19:22:43.535Z"
   },
   {
    "duration": 4,
    "start_time": "2025-03-24T19:22:43.539Z"
   },
   {
    "duration": 7,
    "start_time": "2025-03-24T19:22:43.545Z"
   },
   {
    "duration": 61,
    "start_time": "2025-03-24T19:22:43.553Z"
   },
   {
    "duration": 12,
    "start_time": "2025-03-24T19:22:43.616Z"
   },
   {
    "duration": 14,
    "start_time": "2025-03-24T19:22:43.629Z"
   },
   {
    "duration": 7,
    "start_time": "2025-03-24T19:22:43.645Z"
   },
   {
    "duration": 7,
    "start_time": "2025-03-24T19:22:43.654Z"
   },
   {
    "duration": 408,
    "start_time": "2025-03-24T19:25:51.040Z"
   },
   {
    "duration": 3,
    "start_time": "2025-03-24T19:27:13.370Z"
   },
   {
    "duration": 30,
    "start_time": "2025-03-24T19:27:13.785Z"
   },
   {
    "duration": 19,
    "start_time": "2025-03-24T19:27:14.821Z"
   },
   {
    "duration": 8,
    "start_time": "2025-03-24T19:27:15.376Z"
   },
   {
    "duration": 18,
    "start_time": "2025-03-24T19:27:16.461Z"
   },
   {
    "duration": 4,
    "start_time": "2025-03-24T19:27:16.970Z"
   },
   {
    "duration": 4,
    "start_time": "2025-03-24T19:27:17.454Z"
   },
   {
    "duration": 917,
    "start_time": "2025-03-24T19:27:19.180Z"
   },
   {
    "duration": 205,
    "start_time": "2025-03-24T19:27:21.608Z"
   },
   {
    "duration": 570,
    "start_time": "2025-03-24T19:27:35.080Z"
   },
   {
    "duration": 608,
    "start_time": "2025-03-24T19:27:49.147Z"
   },
   {
    "duration": 577,
    "start_time": "2025-03-24T19:27:57.444Z"
   },
   {
    "duration": 622,
    "start_time": "2025-03-24T19:28:04.168Z"
   },
   {
    "duration": 575,
    "start_time": "2025-03-24T19:28:11.246Z"
   },
   {
    "duration": 703,
    "start_time": "2025-03-24T19:28:19.982Z"
   },
   {
    "duration": 573,
    "start_time": "2025-03-24T19:28:31.564Z"
   },
   {
    "duration": 561,
    "start_time": "2025-03-24T19:28:40.648Z"
   },
   {
    "duration": 660,
    "start_time": "2025-03-24T19:28:47.252Z"
   },
   {
    "duration": 5,
    "start_time": "2025-03-24T19:29:05.485Z"
   },
   {
    "duration": 492,
    "start_time": "2025-03-24T19:30:27.478Z"
   },
   {
    "duration": 627,
    "start_time": "2025-03-24T19:39:25.554Z"
   },
   {
    "duration": 560,
    "start_time": "2025-03-24T19:41:08.144Z"
   },
   {
    "duration": 592,
    "start_time": "2025-03-24T19:41:33.068Z"
   },
   {
    "duration": 600,
    "start_time": "2025-03-24T19:42:00.570Z"
   },
   {
    "duration": 585,
    "start_time": "2025-03-24T19:42:11.254Z"
   },
   {
    "duration": 625,
    "start_time": "2025-03-24T19:42:38.836Z"
   },
   {
    "duration": 542,
    "start_time": "2025-03-24T19:43:01.467Z"
   },
   {
    "duration": 571,
    "start_time": "2025-03-24T19:43:36.988Z"
   },
   {
    "duration": 586,
    "start_time": "2025-03-24T19:43:46.792Z"
   },
   {
    "duration": 545,
    "start_time": "2025-03-24T19:43:58.364Z"
   },
   {
    "duration": 550,
    "start_time": "2025-03-24T19:44:06.094Z"
   },
   {
    "duration": 520,
    "start_time": "2025-03-24T19:44:15.925Z"
   },
   {
    "duration": 540,
    "start_time": "2025-03-24T19:44:24.121Z"
   },
   {
    "duration": 678,
    "start_time": "2025-03-24T19:44:31.759Z"
   },
   {
    "duration": 564,
    "start_time": "2025-03-24T19:44:42.768Z"
   },
   {
    "duration": 589,
    "start_time": "2025-03-24T19:44:55.877Z"
   },
   {
    "duration": 564,
    "start_time": "2025-03-24T19:45:06.848Z"
   },
   {
    "duration": 151,
    "start_time": "2025-03-24T19:46:28.568Z"
   },
   {
    "duration": 940,
    "start_time": "2025-03-25T02:01:17.425Z"
   },
   {
    "duration": 41,
    "start_time": "2025-03-25T02:01:18.368Z"
   },
   {
    "duration": 14,
    "start_time": "2025-03-25T02:01:18.410Z"
   },
   {
    "duration": 8,
    "start_time": "2025-03-25T02:01:18.425Z"
   },
   {
    "duration": 18,
    "start_time": "2025-03-25T02:01:18.436Z"
   },
   {
    "duration": 4,
    "start_time": "2025-03-25T02:01:18.455Z"
   },
   {
    "duration": 5,
    "start_time": "2025-03-25T02:01:18.461Z"
   },
   {
    "duration": 963,
    "start_time": "2025-03-25T02:01:18.467Z"
   },
   {
    "duration": 147,
    "start_time": "2025-03-25T02:01:19.432Z"
   },
   {
    "duration": 592,
    "start_time": "2025-03-25T02:01:19.582Z"
   },
   {
    "duration": 251,
    "start_time": "2025-03-25T02:01:20.176Z"
   },
   {
    "duration": 2,
    "start_time": "2025-03-25T02:01:20.429Z"
   },
   {
    "duration": 2,
    "start_time": "2025-03-25T02:01:20.434Z"
   },
   {
    "duration": 6,
    "start_time": "2025-03-25T02:01:20.439Z"
   },
   {
    "duration": 62,
    "start_time": "2025-03-25T02:01:20.448Z"
   },
   {
    "duration": 13,
    "start_time": "2025-03-25T02:01:20.512Z"
   },
   {
    "duration": 14,
    "start_time": "2025-03-25T02:01:20.526Z"
   },
   {
    "duration": 6,
    "start_time": "2025-03-25T02:01:20.542Z"
   },
   {
    "duration": 7,
    "start_time": "2025-03-25T02:01:20.550Z"
   },
   {
    "duration": 132,
    "start_time": "2025-03-25T02:02:27.800Z"
   },
   {
    "duration": 129,
    "start_time": "2025-03-25T02:02:36.627Z"
   },
   {
    "duration": 896,
    "start_time": "2025-03-25T02:02:53.187Z"
   },
   {
    "duration": 39,
    "start_time": "2025-03-25T02:02:54.085Z"
   },
   {
    "duration": 13,
    "start_time": "2025-03-25T02:02:54.126Z"
   },
   {
    "duration": 7,
    "start_time": "2025-03-25T02:02:54.141Z"
   },
   {
    "duration": 18,
    "start_time": "2025-03-25T02:02:54.151Z"
   },
   {
    "duration": 3,
    "start_time": "2025-03-25T02:02:54.171Z"
   },
   {
    "duration": 33,
    "start_time": "2025-03-25T02:02:54.176Z"
   },
   {
    "duration": 938,
    "start_time": "2025-03-25T02:02:54.211Z"
   },
   {
    "duration": 152,
    "start_time": "2025-03-25T02:02:55.151Z"
   },
   {
    "duration": 572,
    "start_time": "2025-03-25T02:02:55.304Z"
   },
   {
    "duration": 265,
    "start_time": "2025-03-25T02:02:55.878Z"
   },
   {
    "duration": 3,
    "start_time": "2025-03-25T02:02:56.145Z"
   },
   {
    "duration": 3,
    "start_time": "2025-03-25T02:02:56.149Z"
   },
   {
    "duration": 6,
    "start_time": "2025-03-25T02:02:56.155Z"
   },
   {
    "duration": 62,
    "start_time": "2025-03-25T02:02:56.164Z"
   },
   {
    "duration": 12,
    "start_time": "2025-03-25T02:02:56.229Z"
   },
   {
    "duration": 13,
    "start_time": "2025-03-25T02:02:56.243Z"
   },
   {
    "duration": 8,
    "start_time": "2025-03-25T02:02:56.257Z"
   },
   {
    "duration": 7,
    "start_time": "2025-03-25T02:02:56.267Z"
   },
   {
    "duration": 128,
    "start_time": "2025-03-25T02:03:02.642Z"
   },
   {
    "duration": 168,
    "start_time": "2025-03-25T02:03:07.493Z"
   },
   {
    "duration": 168,
    "start_time": "2025-03-25T02:03:19.490Z"
   },
   {
    "duration": 163,
    "start_time": "2025-03-25T02:03:27.123Z"
   },
   {
    "duration": 206,
    "start_time": "2025-03-25T02:03:33.042Z"
   },
   {
    "duration": 629,
    "start_time": "2025-03-25T02:03:41.773Z"
   },
   {
    "duration": 132,
    "start_time": "2025-03-25T02:03:42.408Z"
   },
   {
    "duration": 3,
    "start_time": "2025-03-25T02:03:47.843Z"
   },
   {
    "duration": 30,
    "start_time": "2025-03-25T02:03:48.437Z"
   },
   {
    "duration": 16,
    "start_time": "2025-03-25T02:03:49.618Z"
   },
   {
    "duration": 10,
    "start_time": "2025-03-25T02:03:50.178Z"
   },
   {
    "duration": 25,
    "start_time": "2025-03-25T02:03:50.616Z"
   },
   {
    "duration": 5,
    "start_time": "2025-03-25T02:03:51.158Z"
   },
   {
    "duration": 4,
    "start_time": "2025-03-25T02:03:52.007Z"
   },
   {
    "duration": 839,
    "start_time": "2025-03-25T02:03:54.347Z"
   },
   {
    "duration": 161,
    "start_time": "2025-03-25T02:03:56.941Z"
   },
   {
    "duration": 586,
    "start_time": "2025-03-25T02:03:58.584Z"
   },
   {
    "duration": 2,
    "start_time": "2025-03-25T02:04:08.985Z"
   },
   {
    "duration": 31,
    "start_time": "2025-03-25T02:04:09.392Z"
   },
   {
    "duration": 13,
    "start_time": "2025-03-25T02:04:10.252Z"
   },
   {
    "duration": 8,
    "start_time": "2025-03-25T02:04:10.621Z"
   },
   {
    "duration": 21,
    "start_time": "2025-03-25T02:04:11.053Z"
   },
   {
    "duration": 4,
    "start_time": "2025-03-25T02:04:11.469Z"
   },
   {
    "duration": 4,
    "start_time": "2025-03-25T02:04:11.949Z"
   },
   {
    "duration": 942,
    "start_time": "2025-03-25T02:04:14.007Z"
   },
   {
    "duration": 144,
    "start_time": "2025-03-25T02:04:15.457Z"
   },
   {
    "duration": 432,
    "start_time": "2025-03-25T02:04:33.557Z"
   },
   {
    "duration": 544,
    "start_time": "2025-03-25T02:04:39.941Z"
   },
   {
    "duration": 449,
    "start_time": "2025-03-25T02:04:48.146Z"
   },
   {
    "duration": 431,
    "start_time": "2025-03-25T02:05:52.736Z"
   },
   {
    "duration": 529,
    "start_time": "2025-03-25T02:05:58.769Z"
   },
   {
    "duration": 450,
    "start_time": "2025-03-25T02:06:04.976Z"
   },
   {
    "duration": 435,
    "start_time": "2025-03-25T02:39:12.589Z"
   },
   {
    "duration": 430,
    "start_time": "2025-03-25T02:39:20.660Z"
   },
   {
    "duration": 440,
    "start_time": "2025-03-25T02:39:25.868Z"
   },
   {
    "duration": 435,
    "start_time": "2025-03-25T02:39:33.012Z"
   },
   {
    "duration": 433,
    "start_time": "2025-03-25T02:39:40.008Z"
   },
   {
    "duration": 551,
    "start_time": "2025-03-25T02:40:19.704Z"
   },
   {
    "duration": 442,
    "start_time": "2025-03-25T02:40:32.686Z"
   },
   {
    "duration": 433,
    "start_time": "2025-03-25T02:40:45.996Z"
   },
   {
    "duration": 432,
    "start_time": "2025-03-25T02:40:54.849Z"
   },
   {
    "duration": 431,
    "start_time": "2025-03-25T02:41:00.130Z"
   },
   {
    "duration": 434,
    "start_time": "2025-03-25T02:41:08.455Z"
   },
   {
    "duration": 17,
    "start_time": "2025-03-25T02:51:03.896Z"
   },
   {
    "duration": 847,
    "start_time": "2025-03-25T02:52:53.303Z"
   },
   {
    "duration": 761,
    "start_time": "2025-03-25T02:54:02.479Z"
   },
   {
    "duration": 5,
    "start_time": "2025-03-25T02:55:04.629Z"
   },
   {
    "duration": 332,
    "start_time": "2025-03-25T02:55:23.387Z"
   },
   {
    "duration": 4,
    "start_time": "2025-03-25T02:55:56.850Z"
   },
   {
    "duration": 244,
    "start_time": "2025-03-25T02:57:02.922Z"
   },
   {
    "duration": 272,
    "start_time": "2025-03-25T02:57:21.081Z"
   },
   {
    "duration": 256,
    "start_time": "2025-03-25T02:57:27.978Z"
   },
   {
    "duration": 254,
    "start_time": "2025-03-25T02:57:32.480Z"
   },
   {
    "duration": 249,
    "start_time": "2025-03-25T02:57:42.586Z"
   },
   {
    "duration": 376,
    "start_time": "2025-03-25T02:57:47.303Z"
   },
   {
    "duration": 265,
    "start_time": "2025-03-25T02:57:51.289Z"
   },
   {
    "duration": 232,
    "start_time": "2025-03-25T02:57:55.142Z"
   },
   {
    "duration": 238,
    "start_time": "2025-03-25T02:58:00.326Z"
   },
   {
    "duration": 241,
    "start_time": "2025-03-25T02:58:10.581Z"
   },
   {
    "duration": 367,
    "start_time": "2025-03-25T02:58:15.548Z"
   }
  ],
  "kernelspec": {
   "display_name": "Python 3 (ipykernel)",
   "language": "python",
   "name": "python3"
  },
  "language_info": {
   "codemirror_mode": {
    "name": "ipython",
    "version": 3
   },
   "file_extension": ".py",
   "mimetype": "text/x-python",
   "name": "python",
   "nbconvert_exporter": "python",
   "pygments_lexer": "ipython3",
   "version": "3.9.19"
  },
  "toc": {
   "base_numbering": 1,
   "nav_menu": {},
   "number_sections": true,
   "sideBar": true,
   "skip_h1_title": true,
   "title_cell": "Table of Contents",
   "title_sidebar": "Contents",
   "toc_cell": false,
   "toc_position": {},
   "toc_section_display": true,
   "toc_window_display": false
  }
 },
 "nbformat": 4,
 "nbformat_minor": 2
}
