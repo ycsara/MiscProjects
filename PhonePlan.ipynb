{
 "cells": [
  {
   "cell_type": "markdown",
   "metadata": {},
   "source": [
    "# Phone Plan Data Analysis"
   ]
  },
  {
   "cell_type": "markdown",
   "metadata": {},
   "source": [
    "You work as an analyst for the telecom operator Megaline. The company offers its clients two prepaid plans, Surf and Ultimate. The commercial department wants to know which of the plans brings in more revenue in order to adjust the advertising budget.\n",
    "\n",
    "You are going to carry out a preliminary analysis of the plans based on a relatively small client selection. You'll have the data on 500 Megaline clients: who the clients are, where they're from, which plan they use, and the number of calls they made and text messages they sent in 2018. Your job is to analyze the clients' behavior and determine which prepaid plan brings in more revenue."
   ]
  },
  {
   "cell_type": "markdown",
   "metadata": {},
   "source": [
    " "
   ]
  },
  {
   "cell_type": "markdown",
   "metadata": {},
   "source": [
    "## Initialization and Loading Data"
   ]
  },
  {
   "cell_type": "code",
   "execution_count": 54,
   "metadata": {},
   "outputs": [],
   "source": [
    "# loading all the libraries\n",
    "import pandas as pd\n",
    "from matplotlib import pyplot as plt\n",
    "from scipy import stats as st\n",
    "import numpy as np"
   ]
  },
  {
   "cell_type": "code",
   "execution_count": 55,
   "metadata": {},
   "outputs": [],
   "source": [
    "users = pd.read_csv('/datasets/megaline_users.csv')\n",
    "calls = pd.read_csv('/datasets/megaline_calls.csv')\n",
    "messages = pd.read_csv('/datasets/megaline_messages.csv')\n",
    "internet = pd.read_csv('/datasets/megaline_internet.csv')\n",
    "plans = pd.read_csv('/datasets/megaline_plans.csv')"
   ]
  },
  {
   "cell_type": "markdown",
   "metadata": {},
   "source": [
    " "
   ]
  },
  {
   "cell_type": "markdown",
   "metadata": {},
   "source": [
    "## `plans` Dataframe"
   ]
  },
  {
   "cell_type": "code",
   "execution_count": 56,
   "metadata": {},
   "outputs": [
    {
     "data": {
      "text/html": [
       "<div>\n",
       "<style scoped>\n",
       "    .dataframe tbody tr th:only-of-type {\n",
       "        vertical-align: middle;\n",
       "    }\n",
       "\n",
       "    .dataframe tbody tr th {\n",
       "        vertical-align: top;\n",
       "    }\n",
       "\n",
       "    .dataframe thead th {\n",
       "        text-align: right;\n",
       "    }\n",
       "</style>\n",
       "<table border=\"1\" class=\"dataframe\">\n",
       "  <thead>\n",
       "    <tr style=\"text-align: right;\">\n",
       "      <th></th>\n",
       "      <th>messages_included</th>\n",
       "      <th>mb_per_month_included</th>\n",
       "      <th>minutes_included</th>\n",
       "      <th>usd_monthly_pay</th>\n",
       "      <th>usd_per_gb</th>\n",
       "      <th>usd_per_message</th>\n",
       "      <th>usd_per_minute</th>\n",
       "      <th>plan_name</th>\n",
       "    </tr>\n",
       "  </thead>\n",
       "  <tbody>\n",
       "    <tr>\n",
       "      <th>0</th>\n",
       "      <td>50</td>\n",
       "      <td>15360</td>\n",
       "      <td>500</td>\n",
       "      <td>20</td>\n",
       "      <td>10</td>\n",
       "      <td>0.03</td>\n",
       "      <td>0.03</td>\n",
       "      <td>surf</td>\n",
       "    </tr>\n",
       "    <tr>\n",
       "      <th>1</th>\n",
       "      <td>1000</td>\n",
       "      <td>30720</td>\n",
       "      <td>3000</td>\n",
       "      <td>70</td>\n",
       "      <td>7</td>\n",
       "      <td>0.01</td>\n",
       "      <td>0.01</td>\n",
       "      <td>ultimate</td>\n",
       "    </tr>\n",
       "  </tbody>\n",
       "</table>\n",
       "</div>"
      ],
      "text/plain": [
       "   messages_included  mb_per_month_included  minutes_included  \\\n",
       "0                 50                  15360               500   \n",
       "1               1000                  30720              3000   \n",
       "\n",
       "   usd_monthly_pay  usd_per_gb  usd_per_message  usd_per_minute plan_name  \n",
       "0               20          10             0.03            0.03      surf  \n",
       "1               70           7             0.01            0.01  ultimate  "
      ]
     },
     "execution_count": 56,
     "metadata": {},
     "output_type": "execute_result"
    }
   ],
   "source": [
    "plans # all data"
   ]
  },
  {
   "cell_type": "markdown",
   "metadata": {},
   "source": [
    "The `plans` dataframe shows data on the Surf and Ultimate plans.\n",
    "\n",
    "According to the documentation:\n",
    "- `'messages_included'` — monthly text allowance\n",
    "- `'mb_per_month_included'` — data volume allowance (in megabytes)\n",
    "- `'minutes_included '` — monthly minute allowance\n",
    "- `'usd_monthly_pay '` — monthly charge in US dollars\n",
    "- `'usd_per_gb'` — price per extra gigabyte of data after exceeding the package limits\n",
    "- `'usd_per_message'` — price per minute after exceeding the package limits\n",
    "- `'usd_per_minute'` — price per text after exceeding the package limits\n",
    "- `'plan_name'` — calling plan name"
   ]
  },
  {
   "cell_type": "code",
   "execution_count": 57,
   "metadata": {},
   "outputs": [
    {
     "name": "stdout",
     "output_type": "stream",
     "text": [
      "<class 'pandas.core.frame.DataFrame'>\n",
      "RangeIndex: 2 entries, 0 to 1\n",
      "Data columns (total 8 columns):\n",
      " #   Column                 Non-Null Count  Dtype  \n",
      "---  ------                 --------------  -----  \n",
      " 0   messages_included      2 non-null      int64  \n",
      " 1   mb_per_month_included  2 non-null      int64  \n",
      " 2   minutes_included       2 non-null      int64  \n",
      " 3   usd_monthly_pay        2 non-null      int64  \n",
      " 4   usd_per_gb             2 non-null      int64  \n",
      " 5   usd_per_message        2 non-null      float64\n",
      " 6   usd_per_minute         2 non-null      float64\n",
      " 7   plan_name              2 non-null      object \n",
      "dtypes: float64(2), int64(5), object(1)\n",
      "memory usage: 256.0+ bytes\n"
     ]
    }
   ],
   "source": [
    "plans.info() # general/summary information"
   ]
  },
  {
   "cell_type": "markdown",
   "metadata": {},
   "source": [
    "Since the plan data only includes two observations: Surf and Ultimate, it is easy to identify any issues. As shown above, the two rows are not duplicates of each other, there are no missing data, and the general summary includes appropriate data types for each variable. Therefore, the data is ready to use since there is no need to fix anything."
   ]
  },
  {
   "cell_type": "markdown",
   "metadata": {},
   "source": [
    " "
   ]
  },
  {
   "cell_type": "markdown",
   "metadata": {},
   "source": [
    "## `users` Dataframe"
   ]
  },
  {
   "cell_type": "code",
   "execution_count": 58,
   "metadata": {},
   "outputs": [
    {
     "data": {
      "text/html": [
       "<div>\n",
       "<style scoped>\n",
       "    .dataframe tbody tr th:only-of-type {\n",
       "        vertical-align: middle;\n",
       "    }\n",
       "\n",
       "    .dataframe tbody tr th {\n",
       "        vertical-align: top;\n",
       "    }\n",
       "\n",
       "    .dataframe thead th {\n",
       "        text-align: right;\n",
       "    }\n",
       "</style>\n",
       "<table border=\"1\" class=\"dataframe\">\n",
       "  <thead>\n",
       "    <tr style=\"text-align: right;\">\n",
       "      <th></th>\n",
       "      <th>user_id</th>\n",
       "      <th>first_name</th>\n",
       "      <th>last_name</th>\n",
       "      <th>age</th>\n",
       "      <th>city</th>\n",
       "      <th>reg_date</th>\n",
       "      <th>plan</th>\n",
       "      <th>churn_date</th>\n",
       "    </tr>\n",
       "  </thead>\n",
       "  <tbody>\n",
       "    <tr>\n",
       "      <th>0</th>\n",
       "      <td>1000</td>\n",
       "      <td>Anamaria</td>\n",
       "      <td>Bauer</td>\n",
       "      <td>45</td>\n",
       "      <td>Atlanta-Sandy Springs-Roswell, GA MSA</td>\n",
       "      <td>2018-12-24</td>\n",
       "      <td>ultimate</td>\n",
       "      <td>NaN</td>\n",
       "    </tr>\n",
       "    <tr>\n",
       "      <th>1</th>\n",
       "      <td>1001</td>\n",
       "      <td>Mickey</td>\n",
       "      <td>Wilkerson</td>\n",
       "      <td>28</td>\n",
       "      <td>Seattle-Tacoma-Bellevue, WA MSA</td>\n",
       "      <td>2018-08-13</td>\n",
       "      <td>surf</td>\n",
       "      <td>NaN</td>\n",
       "    </tr>\n",
       "    <tr>\n",
       "      <th>2</th>\n",
       "      <td>1002</td>\n",
       "      <td>Carlee</td>\n",
       "      <td>Hoffman</td>\n",
       "      <td>36</td>\n",
       "      <td>Las Vegas-Henderson-Paradise, NV MSA</td>\n",
       "      <td>2018-10-21</td>\n",
       "      <td>surf</td>\n",
       "      <td>NaN</td>\n",
       "    </tr>\n",
       "    <tr>\n",
       "      <th>3</th>\n",
       "      <td>1003</td>\n",
       "      <td>Reynaldo</td>\n",
       "      <td>Jenkins</td>\n",
       "      <td>52</td>\n",
       "      <td>Tulsa, OK MSA</td>\n",
       "      <td>2018-01-28</td>\n",
       "      <td>surf</td>\n",
       "      <td>NaN</td>\n",
       "    </tr>\n",
       "    <tr>\n",
       "      <th>4</th>\n",
       "      <td>1004</td>\n",
       "      <td>Leonila</td>\n",
       "      <td>Thompson</td>\n",
       "      <td>40</td>\n",
       "      <td>Seattle-Tacoma-Bellevue, WA MSA</td>\n",
       "      <td>2018-05-23</td>\n",
       "      <td>surf</td>\n",
       "      <td>NaN</td>\n",
       "    </tr>\n",
       "  </tbody>\n",
       "</table>\n",
       "</div>"
      ],
      "text/plain": [
       "   user_id first_name  last_name  age                                   city  \\\n",
       "0     1000   Anamaria      Bauer   45  Atlanta-Sandy Springs-Roswell, GA MSA   \n",
       "1     1001     Mickey  Wilkerson   28        Seattle-Tacoma-Bellevue, WA MSA   \n",
       "2     1002     Carlee    Hoffman   36   Las Vegas-Henderson-Paradise, NV MSA   \n",
       "3     1003   Reynaldo    Jenkins   52                          Tulsa, OK MSA   \n",
       "4     1004    Leonila   Thompson   40        Seattle-Tacoma-Bellevue, WA MSA   \n",
       "\n",
       "     reg_date      plan churn_date  \n",
       "0  2018-12-24  ultimate        NaN  \n",
       "1  2018-08-13      surf        NaN  \n",
       "2  2018-10-21      surf        NaN  \n",
       "3  2018-01-28      surf        NaN  \n",
       "4  2018-05-23      surf        NaN  "
      ]
     },
     "execution_count": 58,
     "metadata": {},
     "output_type": "execute_result"
    }
   ],
   "source": [
    "users.head() # sample of data"
   ]
  },
  {
   "cell_type": "markdown",
   "metadata": {},
   "source": [
    "The `users` dataframe shows data on the users.\n",
    "\n",
    "According to the documentation:\n",
    "- `'user_id'` — unique user identifier\n",
    "- `'first_name'` — user's name\n",
    "- `'last_name'` — user's last name\n",
    "- `'age'` — user's age (years)\n",
    "- `'city'` — user's city of residence\n",
    "- `'reg_date'` — subscription date (dd, mm, yy)\n",
    "- `'plan'` — calling plan name\n",
    "- `'churn_date'` — the date the user stopped using the service"
   ]
  },
  {
   "cell_type": "code",
   "execution_count": 59,
   "metadata": {},
   "outputs": [
    {
     "name": "stdout",
     "output_type": "stream",
     "text": [
      "<class 'pandas.core.frame.DataFrame'>\n",
      "RangeIndex: 500 entries, 0 to 499\n",
      "Data columns (total 8 columns):\n",
      " #   Column      Non-Null Count  Dtype \n",
      "---  ------      --------------  ----- \n",
      " 0   user_id     500 non-null    int64 \n",
      " 1   first_name  500 non-null    object\n",
      " 2   last_name   500 non-null    object\n",
      " 3   age         500 non-null    int64 \n",
      " 4   city        500 non-null    object\n",
      " 5   reg_date    500 non-null    object\n",
      " 6   plan        500 non-null    object\n",
      " 7   churn_date  34 non-null     object\n",
      "dtypes: int64(2), object(6)\n",
      "memory usage: 31.4+ KB\n"
     ]
    }
   ],
   "source": [
    "users.info()  # general/summary information"
   ]
  },
  {
   "cell_type": "code",
   "execution_count": 60,
   "metadata": {},
   "outputs": [],
   "source": [
    "# change `reg_date` and `churn_date` type to datetime\n",
    "users['reg_date'] = pd.to_datetime(users['reg_date'])\n",
    "users['churn_date'] = pd.to_datetime(users['churn_date'])"
   ]
  },
  {
   "cell_type": "code",
   "execution_count": 61,
   "metadata": {},
   "outputs": [
    {
     "data": {
      "text/plain": [
       "0"
      ]
     },
     "execution_count": 61,
     "metadata": {},
     "output_type": "execute_result"
    }
   ],
   "source": [
    "users.duplicated().sum() # checking for duplicates"
   ]
  },
  {
   "cell_type": "code",
   "execution_count": 62,
   "metadata": {},
   "outputs": [
    {
     "data": {
      "text/plain": [
       "user_id         0\n",
       "first_name      0\n",
       "last_name       0\n",
       "age             0\n",
       "city            0\n",
       "reg_date        0\n",
       "plan            0\n",
       "churn_date    466\n",
       "dtype: int64"
      ]
     },
     "execution_count": 62,
     "metadata": {},
     "output_type": "execute_result"
    }
   ],
   "source": [
    "users.isna().sum() # checking for missing values"
   ]
  },
  {
   "cell_type": "code",
   "execution_count": 63,
   "metadata": {},
   "outputs": [
    {
     "name": "stdout",
     "output_type": "stream",
     "text": [
      "<class 'pandas.core.frame.DataFrame'>\n",
      "RangeIndex: 500 entries, 0 to 499\n",
      "Data columns (total 8 columns):\n",
      " #   Column      Non-Null Count  Dtype         \n",
      "---  ------      --------------  -----         \n",
      " 0   user_id     500 non-null    int64         \n",
      " 1   first_name  500 non-null    object        \n",
      " 2   last_name   500 non-null    object        \n",
      " 3   age         500 non-null    int64         \n",
      " 4   city        500 non-null    object        \n",
      " 5   reg_date    500 non-null    datetime64[ns]\n",
      " 6   plan        500 non-null    object        \n",
      " 7   churn_date  34 non-null     datetime64[ns]\n",
      "dtypes: datetime64[ns](2), int64(2), object(4)\n",
      "memory usage: 31.4+ KB\n"
     ]
    }
   ],
   "source": [
    "users.info()"
   ]
  },
  {
   "cell_type": "markdown",
   "metadata": {},
   "source": [
    "As shown above, there are no duplicated rows and missing values. Although, there are missing values for the `churn_date` variable, it is acceptable to leave it as is, since that means the user is still using the phone plan.  For the general summary, the table includes appropriate data types, except for the date variables, which are shown to be objects. After fixing the issue, the data is now ready to use."
   ]
  },
  {
   "cell_type": "markdown",
   "metadata": {},
   "source": [
    " "
   ]
  },
  {
   "cell_type": "markdown",
   "metadata": {},
   "source": [
    "## `calls` Dataframe"
   ]
  },
  {
   "cell_type": "code",
   "execution_count": 64,
   "metadata": {},
   "outputs": [
    {
     "data": {
      "text/html": [
       "<div>\n",
       "<style scoped>\n",
       "    .dataframe tbody tr th:only-of-type {\n",
       "        vertical-align: middle;\n",
       "    }\n",
       "\n",
       "    .dataframe tbody tr th {\n",
       "        vertical-align: top;\n",
       "    }\n",
       "\n",
       "    .dataframe thead th {\n",
       "        text-align: right;\n",
       "    }\n",
       "</style>\n",
       "<table border=\"1\" class=\"dataframe\">\n",
       "  <thead>\n",
       "    <tr style=\"text-align: right;\">\n",
       "      <th></th>\n",
       "      <th>id</th>\n",
       "      <th>user_id</th>\n",
       "      <th>call_date</th>\n",
       "      <th>duration</th>\n",
       "    </tr>\n",
       "  </thead>\n",
       "  <tbody>\n",
       "    <tr>\n",
       "      <th>0</th>\n",
       "      <td>1000_93</td>\n",
       "      <td>1000</td>\n",
       "      <td>2018-12-27</td>\n",
       "      <td>8.52</td>\n",
       "    </tr>\n",
       "    <tr>\n",
       "      <th>1</th>\n",
       "      <td>1000_145</td>\n",
       "      <td>1000</td>\n",
       "      <td>2018-12-27</td>\n",
       "      <td>13.66</td>\n",
       "    </tr>\n",
       "    <tr>\n",
       "      <th>2</th>\n",
       "      <td>1000_247</td>\n",
       "      <td>1000</td>\n",
       "      <td>2018-12-27</td>\n",
       "      <td>14.48</td>\n",
       "    </tr>\n",
       "    <tr>\n",
       "      <th>3</th>\n",
       "      <td>1000_309</td>\n",
       "      <td>1000</td>\n",
       "      <td>2018-12-28</td>\n",
       "      <td>5.76</td>\n",
       "    </tr>\n",
       "    <tr>\n",
       "      <th>4</th>\n",
       "      <td>1000_380</td>\n",
       "      <td>1000</td>\n",
       "      <td>2018-12-30</td>\n",
       "      <td>4.22</td>\n",
       "    </tr>\n",
       "  </tbody>\n",
       "</table>\n",
       "</div>"
      ],
      "text/plain": [
       "         id  user_id   call_date  duration\n",
       "0   1000_93     1000  2018-12-27      8.52\n",
       "1  1000_145     1000  2018-12-27     13.66\n",
       "2  1000_247     1000  2018-12-27     14.48\n",
       "3  1000_309     1000  2018-12-28      5.76\n",
       "4  1000_380     1000  2018-12-30      4.22"
      ]
     },
     "execution_count": 64,
     "metadata": {},
     "output_type": "execute_result"
    }
   ],
   "source": [
    "calls.head() # sample of data"
   ]
  },
  {
   "cell_type": "markdown",
   "metadata": {},
   "source": [
    "The `calls` dataframe shows data on the calls.\n",
    "\n",
    "According to the documentation:\n",
    "- `'id'` — unique call identifier\n",
    "- `'user_id'` — the identifier of the user making the call\n",
    "- `'call_date '` — call date\n",
    "- `'duration '` — call duration (in minutes)"
   ]
  },
  {
   "cell_type": "code",
   "execution_count": 65,
   "metadata": {},
   "outputs": [
    {
     "name": "stdout",
     "output_type": "stream",
     "text": [
      "<class 'pandas.core.frame.DataFrame'>\n",
      "RangeIndex: 137735 entries, 0 to 137734\n",
      "Data columns (total 4 columns):\n",
      " #   Column     Non-Null Count   Dtype  \n",
      "---  ------     --------------   -----  \n",
      " 0   id         137735 non-null  object \n",
      " 1   user_id    137735 non-null  int64  \n",
      " 2   call_date  137735 non-null  object \n",
      " 3   duration   137735 non-null  float64\n",
      "dtypes: float64(1), int64(1), object(2)\n",
      "memory usage: 4.2+ MB\n"
     ]
    }
   ],
   "source": [
    "calls.info() # general/summary information"
   ]
  },
  {
   "cell_type": "code",
   "execution_count": 66,
   "metadata": {},
   "outputs": [
    {
     "data": {
      "text/plain": [
       "0"
      ]
     },
     "execution_count": 66,
     "metadata": {},
     "output_type": "execute_result"
    }
   ],
   "source": [
    "calls.duplicated().sum() # checking for duplicates"
   ]
  },
  {
   "cell_type": "code",
   "execution_count": 67,
   "metadata": {},
   "outputs": [
    {
     "data": {
      "text/plain": [
       "id           0\n",
       "user_id      0\n",
       "call_date    0\n",
       "duration     0\n",
       "dtype: int64"
      ]
     },
     "execution_count": 67,
     "metadata": {},
     "output_type": "execute_result"
    }
   ],
   "source": [
    "calls.isna().sum() # checking for missing values"
   ]
  },
  {
   "cell_type": "code",
   "execution_count": 68,
   "metadata": {},
   "outputs": [],
   "source": [
    "# change `call_date` type to datetime\n",
    "calls['call_date'] = pd.to_datetime(calls['call_date'])"
   ]
  },
  {
   "cell_type": "code",
   "execution_count": 69,
   "metadata": {},
   "outputs": [],
   "source": [
    "# round the duration\n",
    "calls['duration'] = np.ceil(calls['duration'])"
   ]
  },
  {
   "cell_type": "code",
   "execution_count": 70,
   "metadata": {},
   "outputs": [
    {
     "name": "stdout",
     "output_type": "stream",
     "text": [
      "<class 'pandas.core.frame.DataFrame'>\n",
      "RangeIndex: 137735 entries, 0 to 137734\n",
      "Data columns (total 4 columns):\n",
      " #   Column     Non-Null Count   Dtype         \n",
      "---  ------     --------------   -----         \n",
      " 0   id         137735 non-null  object        \n",
      " 1   user_id    137735 non-null  int64         \n",
      " 2   call_date  137735 non-null  datetime64[ns]\n",
      " 3   duration   137735 non-null  float64       \n",
      "dtypes: datetime64[ns](1), float64(1), int64(1), object(1)\n",
      "memory usage: 4.2+ MB\n"
     ]
    }
   ],
   "source": [
    "calls.info()"
   ]
  },
  {
   "cell_type": "markdown",
   "metadata": {},
   "source": [
    "As shown above, there are no duplicated rows and missing values. The general summary includes appropriate data types for each variable, except for the `call_date`, which is presented as an object type. After fixing the issue by changing it to datetime, the data is now ready to use."
   ]
  },
  {
   "cell_type": "markdown",
   "metadata": {},
   "source": [
    " "
   ]
  },
  {
   "cell_type": "markdown",
   "metadata": {},
   "source": [
    "## `messages` Dataframe"
   ]
  },
  {
   "cell_type": "code",
   "execution_count": 71,
   "metadata": {},
   "outputs": [
    {
     "data": {
      "text/html": [
       "<div>\n",
       "<style scoped>\n",
       "    .dataframe tbody tr th:only-of-type {\n",
       "        vertical-align: middle;\n",
       "    }\n",
       "\n",
       "    .dataframe tbody tr th {\n",
       "        vertical-align: top;\n",
       "    }\n",
       "\n",
       "    .dataframe thead th {\n",
       "        text-align: right;\n",
       "    }\n",
       "</style>\n",
       "<table border=\"1\" class=\"dataframe\">\n",
       "  <thead>\n",
       "    <tr style=\"text-align: right;\">\n",
       "      <th></th>\n",
       "      <th>id</th>\n",
       "      <th>user_id</th>\n",
       "      <th>message_date</th>\n",
       "    </tr>\n",
       "  </thead>\n",
       "  <tbody>\n",
       "    <tr>\n",
       "      <th>0</th>\n",
       "      <td>1000_125</td>\n",
       "      <td>1000</td>\n",
       "      <td>2018-12-27</td>\n",
       "    </tr>\n",
       "    <tr>\n",
       "      <th>1</th>\n",
       "      <td>1000_160</td>\n",
       "      <td>1000</td>\n",
       "      <td>2018-12-31</td>\n",
       "    </tr>\n",
       "    <tr>\n",
       "      <th>2</th>\n",
       "      <td>1000_223</td>\n",
       "      <td>1000</td>\n",
       "      <td>2018-12-31</td>\n",
       "    </tr>\n",
       "    <tr>\n",
       "      <th>3</th>\n",
       "      <td>1000_251</td>\n",
       "      <td>1000</td>\n",
       "      <td>2018-12-27</td>\n",
       "    </tr>\n",
       "    <tr>\n",
       "      <th>4</th>\n",
       "      <td>1000_255</td>\n",
       "      <td>1000</td>\n",
       "      <td>2018-12-26</td>\n",
       "    </tr>\n",
       "  </tbody>\n",
       "</table>\n",
       "</div>"
      ],
      "text/plain": [
       "         id  user_id message_date\n",
       "0  1000_125     1000   2018-12-27\n",
       "1  1000_160     1000   2018-12-31\n",
       "2  1000_223     1000   2018-12-31\n",
       "3  1000_251     1000   2018-12-27\n",
       "4  1000_255     1000   2018-12-26"
      ]
     },
     "execution_count": 71,
     "metadata": {},
     "output_type": "execute_result"
    }
   ],
   "source": [
    "messages.head() # sample of data"
   ]
  },
  {
   "cell_type": "markdown",
   "metadata": {},
   "source": [
    "The `messages` dataframe shows data on the texts. \n",
    "\n",
    "According to the documentation:\n",
    "- `'id'` — unique text message identifier\n",
    "- `'user_id'` — the identifier of the user sending the text\n",
    "- `'message_date'` — text message date"
   ]
  },
  {
   "cell_type": "code",
   "execution_count": 72,
   "metadata": {},
   "outputs": [
    {
     "name": "stdout",
     "output_type": "stream",
     "text": [
      "<class 'pandas.core.frame.DataFrame'>\n",
      "RangeIndex: 76051 entries, 0 to 76050\n",
      "Data columns (total 3 columns):\n",
      " #   Column        Non-Null Count  Dtype \n",
      "---  ------        --------------  ----- \n",
      " 0   id            76051 non-null  object\n",
      " 1   user_id       76051 non-null  int64 \n",
      " 2   message_date  76051 non-null  object\n",
      "dtypes: int64(1), object(2)\n",
      "memory usage: 1.7+ MB\n"
     ]
    }
   ],
   "source": [
    "messages.info()  # general/summary information"
   ]
  },
  {
   "cell_type": "code",
   "execution_count": 73,
   "metadata": {},
   "outputs": [],
   "source": [
    "# change `message_date` type to datetime\n",
    "messages['message_date'] = pd.to_datetime(messages['message_date'])"
   ]
  },
  {
   "cell_type": "code",
   "execution_count": 74,
   "metadata": {},
   "outputs": [
    {
     "data": {
      "text/plain": [
       "0"
      ]
     },
     "execution_count": 74,
     "metadata": {},
     "output_type": "execute_result"
    }
   ],
   "source": [
    "messages.duplicated().sum() # checking for duplicates"
   ]
  },
  {
   "cell_type": "code",
   "execution_count": 75,
   "metadata": {},
   "outputs": [
    {
     "data": {
      "text/plain": [
       "id              0\n",
       "user_id         0\n",
       "message_date    0\n",
       "dtype: int64"
      ]
     },
     "execution_count": 75,
     "metadata": {},
     "output_type": "execute_result"
    }
   ],
   "source": [
    "messages.isna().sum() # checking for missing values"
   ]
  },
  {
   "cell_type": "code",
   "execution_count": 76,
   "metadata": {},
   "outputs": [
    {
     "name": "stdout",
     "output_type": "stream",
     "text": [
      "<class 'pandas.core.frame.DataFrame'>\n",
      "RangeIndex: 76051 entries, 0 to 76050\n",
      "Data columns (total 3 columns):\n",
      " #   Column        Non-Null Count  Dtype         \n",
      "---  ------        --------------  -----         \n",
      " 0   id            76051 non-null  object        \n",
      " 1   user_id       76051 non-null  int64         \n",
      " 2   message_date  76051 non-null  datetime64[ns]\n",
      "dtypes: datetime64[ns](1), int64(1), object(1)\n",
      "memory usage: 1.7+ MB\n"
     ]
    }
   ],
   "source": [
    "messages.info()"
   ]
  },
  {
   "cell_type": "markdown",
   "metadata": {},
   "source": [
    "As shown above, there are no duplicated rows and missing values. The general summary includes appropriate data types for each variable, except for the `message_date`, which is presented as an object type. After fixing the issue by changing it to datetime, the data is now ready to use."
   ]
  },
  {
   "cell_type": "markdown",
   "metadata": {},
   "source": [
    " "
   ]
  },
  {
   "cell_type": "markdown",
   "metadata": {},
   "source": [
    "## `internet` Dataframe"
   ]
  },
  {
   "cell_type": "code",
   "execution_count": 77,
   "metadata": {},
   "outputs": [
    {
     "data": {
      "text/html": [
       "<div>\n",
       "<style scoped>\n",
       "    .dataframe tbody tr th:only-of-type {\n",
       "        vertical-align: middle;\n",
       "    }\n",
       "\n",
       "    .dataframe tbody tr th {\n",
       "        vertical-align: top;\n",
       "    }\n",
       "\n",
       "    .dataframe thead th {\n",
       "        text-align: right;\n",
       "    }\n",
       "</style>\n",
       "<table border=\"1\" class=\"dataframe\">\n",
       "  <thead>\n",
       "    <tr style=\"text-align: right;\">\n",
       "      <th></th>\n",
       "      <th>id</th>\n",
       "      <th>user_id</th>\n",
       "      <th>session_date</th>\n",
       "      <th>mb_used</th>\n",
       "    </tr>\n",
       "  </thead>\n",
       "  <tbody>\n",
       "    <tr>\n",
       "      <th>0</th>\n",
       "      <td>1000_13</td>\n",
       "      <td>1000</td>\n",
       "      <td>2018-12-29</td>\n",
       "      <td>89.86</td>\n",
       "    </tr>\n",
       "    <tr>\n",
       "      <th>1</th>\n",
       "      <td>1000_204</td>\n",
       "      <td>1000</td>\n",
       "      <td>2018-12-31</td>\n",
       "      <td>0.00</td>\n",
       "    </tr>\n",
       "    <tr>\n",
       "      <th>2</th>\n",
       "      <td>1000_379</td>\n",
       "      <td>1000</td>\n",
       "      <td>2018-12-28</td>\n",
       "      <td>660.40</td>\n",
       "    </tr>\n",
       "    <tr>\n",
       "      <th>3</th>\n",
       "      <td>1000_413</td>\n",
       "      <td>1000</td>\n",
       "      <td>2018-12-26</td>\n",
       "      <td>270.99</td>\n",
       "    </tr>\n",
       "    <tr>\n",
       "      <th>4</th>\n",
       "      <td>1000_442</td>\n",
       "      <td>1000</td>\n",
       "      <td>2018-12-27</td>\n",
       "      <td>880.22</td>\n",
       "    </tr>\n",
       "  </tbody>\n",
       "</table>\n",
       "</div>"
      ],
      "text/plain": [
       "         id  user_id session_date  mb_used\n",
       "0   1000_13     1000   2018-12-29    89.86\n",
       "1  1000_204     1000   2018-12-31     0.00\n",
       "2  1000_379     1000   2018-12-28   660.40\n",
       "3  1000_413     1000   2018-12-26   270.99\n",
       "4  1000_442     1000   2018-12-27   880.22"
      ]
     },
     "execution_count": 77,
     "metadata": {},
     "output_type": "execute_result"
    }
   ],
   "source": [
    "internet.head() # sample of data"
   ]
  },
  {
   "cell_type": "markdown",
   "metadata": {},
   "source": [
    "The `internet` dataframe shows data on web sessions.\n",
    "\n",
    "According to the documentation:\n",
    "- `'id'` — unique session identifier\n",
    "- `'user_id'` — user identifier\n",
    "- `'session_date '` — web session date\n",
    "- `'mb_used'` — the volume of data spent during the session (in megabytes)"
   ]
  },
  {
   "cell_type": "code",
   "execution_count": 78,
   "metadata": {},
   "outputs": [
    {
     "name": "stdout",
     "output_type": "stream",
     "text": [
      "<class 'pandas.core.frame.DataFrame'>\n",
      "RangeIndex: 104825 entries, 0 to 104824\n",
      "Data columns (total 4 columns):\n",
      " #   Column        Non-Null Count   Dtype  \n",
      "---  ------        --------------   -----  \n",
      " 0   id            104825 non-null  object \n",
      " 1   user_id       104825 non-null  int64  \n",
      " 2   session_date  104825 non-null  object \n",
      " 3   mb_used       104825 non-null  float64\n",
      "dtypes: float64(1), int64(1), object(2)\n",
      "memory usage: 3.2+ MB\n"
     ]
    }
   ],
   "source": [
    "internet.info() # general/summary information"
   ]
  },
  {
   "cell_type": "code",
   "execution_count": 79,
   "metadata": {},
   "outputs": [
    {
     "data": {
      "text/plain": [
       "0"
      ]
     },
     "execution_count": 79,
     "metadata": {},
     "output_type": "execute_result"
    }
   ],
   "source": [
    "internet.duplicated().sum() # checking for duplicates"
   ]
  },
  {
   "cell_type": "code",
   "execution_count": 80,
   "metadata": {},
   "outputs": [
    {
     "data": {
      "text/plain": [
       "id              0\n",
       "user_id         0\n",
       "session_date    0\n",
       "mb_used         0\n",
       "dtype: int64"
      ]
     },
     "execution_count": 80,
     "metadata": {},
     "output_type": "execute_result"
    }
   ],
   "source": [
    "internet.isna().sum() # checking for missing values"
   ]
  },
  {
   "cell_type": "code",
   "execution_count": 81,
   "metadata": {},
   "outputs": [],
   "source": [
    "# change `session_date` type to datetime\n",
    "internet['session_date'] = pd.to_datetime(internet['session_date'])"
   ]
  },
  {
   "cell_type": "code",
   "execution_count": 82,
   "metadata": {},
   "outputs": [
    {
     "name": "stdout",
     "output_type": "stream",
     "text": [
      "<class 'pandas.core.frame.DataFrame'>\n",
      "RangeIndex: 104825 entries, 0 to 104824\n",
      "Data columns (total 4 columns):\n",
      " #   Column        Non-Null Count   Dtype         \n",
      "---  ------        --------------   -----         \n",
      " 0   id            104825 non-null  object        \n",
      " 1   user_id       104825 non-null  int64         \n",
      " 2   session_date  104825 non-null  datetime64[ns]\n",
      " 3   mb_used       104825 non-null  float64       \n",
      "dtypes: datetime64[ns](1), float64(1), int64(1), object(1)\n",
      "memory usage: 3.2+ MB\n"
     ]
    }
   ],
   "source": [
    "internet.info()"
   ]
  },
  {
   "cell_type": "markdown",
   "metadata": {},
   "source": [
    "As shown above, there are no duplicated rows, no missing values, and the general summary includes appropriate data types for each variable, except for the `message_date`, which is presented as an object type. After fixing the issue by changing it to datetime, the data is now ready to use."
   ]
  },
  {
   "cell_type": "markdown",
   "metadata": {},
   "source": [
    "## Aggregate Data Per User\n",
    "\n",
    "Now that the data is clean, I will first aggregate data per user per period from each dataset in order to have just one record per user per period. Then, I will merge all dataframes to show what an unique user consumed in a given month, before adding the monthly revenue for each observation. The final dataframe shown below will help with the analysis."
   ]
  },
  {
   "cell_type": "code",
   "execution_count": 83,
   "metadata": {},
   "outputs": [],
   "source": [
    "# number of calls made by each user per month\n",
    "calls['month'] = calls['call_date'].dt.month\n",
    "calls_per_month = calls.groupby(['user_id', 'month'])['id'].count().reset_index()\n",
    "calls_per_month = calls_per_month.rename(columns={'id':'num_of_calls'})"
   ]
  },
  {
   "cell_type": "code",
   "execution_count": 84,
   "metadata": {},
   "outputs": [],
   "source": [
    "# amount of minutes spent by each user per month\n",
    "mins_per_user = calls.groupby(['user_id', 'month'])['duration'].sum().reset_index()"
   ]
  },
  {
   "cell_type": "code",
   "execution_count": 85,
   "metadata": {},
   "outputs": [],
   "source": [
    "# number of messages sent by each user per month\n",
    "messages['month'] = messages['message_date'].dt.month\n",
    "messages_per_month = messages.groupby(['user_id', 'month'])['id'].count().reset_index()\n",
    "messages_per_month = messages_per_month.rename(columns={'id':'num_of_messages'})"
   ]
  },
  {
   "cell_type": "code",
   "execution_count": 86,
   "metadata": {},
   "outputs": [],
   "source": [
    "# volume of internet traffic used by each user per month\n",
    "internet['month'] = internet['session_date'].dt.month\n",
    "gb_per_month = internet.groupby(['user_id', 'month'])['mb_used'].sum().reset_index()"
   ]
  },
  {
   "cell_type": "code",
   "execution_count": 87,
   "metadata": {},
   "outputs": [],
   "source": [
    "# merging data for calls, minutes, messages, internet based on user_id and month\n",
    "final = calls_per_month.merge(messages_per_month, on=['user_id', 'month'], how='outer')\n",
    "final = final.merge(gb_per_month, on=['user_id', 'month'], how='outer')\n",
    "final = final.merge(mins_per_user, on=['user_id', 'month'], how='outer')\n",
    "final = final.merge(users, on='user_id', how='inner')\n",
    "final = final.drop(columns=['first_name', 'last_name', 'churn_date', 'reg_date', 'age'])\n",
    "final.fillna({'duration': 0, 'num_of_messages': 0, 'mb_used': 0}, inplace=True)"
   ]
  },
  {
   "cell_type": "code",
   "execution_count": 88,
   "metadata": {},
   "outputs": [
    {
     "data": {
      "text/html": [
       "<div>\n",
       "<style scoped>\n",
       "    .dataframe tbody tr th:only-of-type {\n",
       "        vertical-align: middle;\n",
       "    }\n",
       "\n",
       "    .dataframe tbody tr th {\n",
       "        vertical-align: top;\n",
       "    }\n",
       "\n",
       "    .dataframe thead th {\n",
       "        text-align: right;\n",
       "    }\n",
       "</style>\n",
       "<table border=\"1\" class=\"dataframe\">\n",
       "  <thead>\n",
       "    <tr style=\"text-align: right;\">\n",
       "      <th></th>\n",
       "      <th>user_id</th>\n",
       "      <th>month</th>\n",
       "      <th>num_of_calls</th>\n",
       "      <th>num_of_messages</th>\n",
       "      <th>mb_used</th>\n",
       "      <th>duration</th>\n",
       "      <th>city</th>\n",
       "      <th>plan</th>\n",
       "      <th>monthly_rev</th>\n",
       "    </tr>\n",
       "  </thead>\n",
       "  <tbody>\n",
       "    <tr>\n",
       "      <th>0</th>\n",
       "      <td>1000</td>\n",
       "      <td>12</td>\n",
       "      <td>16.0</td>\n",
       "      <td>11.0</td>\n",
       "      <td>1901.47</td>\n",
       "      <td>124.0</td>\n",
       "      <td>Atlanta-Sandy Springs-Roswell, GA MSA</td>\n",
       "      <td>ultimate</td>\n",
       "      <td>70.00</td>\n",
       "    </tr>\n",
       "    <tr>\n",
       "      <th>1</th>\n",
       "      <td>1001</td>\n",
       "      <td>8</td>\n",
       "      <td>27.0</td>\n",
       "      <td>30.0</td>\n",
       "      <td>6919.15</td>\n",
       "      <td>182.0</td>\n",
       "      <td>Seattle-Tacoma-Bellevue, WA MSA</td>\n",
       "      <td>surf</td>\n",
       "      <td>20.00</td>\n",
       "    </tr>\n",
       "    <tr>\n",
       "      <th>2</th>\n",
       "      <td>1001</td>\n",
       "      <td>9</td>\n",
       "      <td>49.0</td>\n",
       "      <td>44.0</td>\n",
       "      <td>13314.82</td>\n",
       "      <td>315.0</td>\n",
       "      <td>Seattle-Tacoma-Bellevue, WA MSA</td>\n",
       "      <td>surf</td>\n",
       "      <td>20.00</td>\n",
       "    </tr>\n",
       "    <tr>\n",
       "      <th>3</th>\n",
       "      <td>1001</td>\n",
       "      <td>10</td>\n",
       "      <td>65.0</td>\n",
       "      <td>53.0</td>\n",
       "      <td>22330.49</td>\n",
       "      <td>393.0</td>\n",
       "      <td>Seattle-Tacoma-Bellevue, WA MSA</td>\n",
       "      <td>surf</td>\n",
       "      <td>90.09</td>\n",
       "    </tr>\n",
       "    <tr>\n",
       "      <th>4</th>\n",
       "      <td>1001</td>\n",
       "      <td>11</td>\n",
       "      <td>64.0</td>\n",
       "      <td>36.0</td>\n",
       "      <td>18504.30</td>\n",
       "      <td>426.0</td>\n",
       "      <td>Seattle-Tacoma-Bellevue, WA MSA</td>\n",
       "      <td>surf</td>\n",
       "      <td>60.00</td>\n",
       "    </tr>\n",
       "  </tbody>\n",
       "</table>\n",
       "</div>"
      ],
      "text/plain": [
       "   user_id  month  num_of_calls  num_of_messages   mb_used  duration  \\\n",
       "0     1000     12          16.0             11.0   1901.47     124.0   \n",
       "1     1001      8          27.0             30.0   6919.15     182.0   \n",
       "2     1001      9          49.0             44.0  13314.82     315.0   \n",
       "3     1001     10          65.0             53.0  22330.49     393.0   \n",
       "4     1001     11          64.0             36.0  18504.30     426.0   \n",
       "\n",
       "                                    city      plan  monthly_rev  \n",
       "0  Atlanta-Sandy Springs-Roswell, GA MSA  ultimate        70.00  \n",
       "1        Seattle-Tacoma-Bellevue, WA MSA      surf        20.00  \n",
       "2        Seattle-Tacoma-Bellevue, WA MSA      surf        20.00  \n",
       "3        Seattle-Tacoma-Bellevue, WA MSA      surf        90.09  \n",
       "4        Seattle-Tacoma-Bellevue, WA MSA      surf        60.00  "
      ]
     },
     "execution_count": 88,
     "metadata": {},
     "output_type": "execute_result"
    }
   ],
   "source": [
    "# add the monthly revenue for each user\n",
    "def monthly_rev(x):\n",
    "    messages = 0\n",
    "    gb = 0\n",
    "    calls = 0\n",
    "    if x['plan'] == 'surf':\n",
    "        if x['num_of_messages'] > 50:\n",
    "            messages += (x['num_of_messages'] - 50) * 0.03\n",
    "        if x['mb_used'] > 15360:\n",
    "            gb += np.ceil((x['mb_used'] - 15360) / 1024) * 10\n",
    "        if x['duration'] > 500:\n",
    "            calls += (x['duration'] - 500) * 0.03\n",
    "        return messages + gb + calls + 20\n",
    "    elif x['plan'] == 'ultimate':\n",
    "        if x['num_of_messages'] > 1000:\n",
    "            messages += (x['num_of_messages'] - 1000) * 0.01\n",
    "        if x['mb_used'] > 30720:\n",
    "            gb += np.ceil((x['mb_used'] - 30720) / 1024) * 7\n",
    "        if x['duration'] > 500:\n",
    "            calls += (x['duration'] - 3000) * 0.01\n",
    "        return messages + gb + calls + 70\n",
    "\n",
    "final['monthly_rev'] = final.apply(monthly_rev,axis=1)\n",
    "final.head()"
   ]
  },
  {
   "cell_type": "markdown",
   "metadata": {},
   "source": [
    " "
   ]
  },
  {
   "cell_type": "markdown",
   "metadata": {},
   "source": [
    "## Studying User Behaviour"
   ]
  },
  {
   "cell_type": "markdown",
   "metadata": {},
   "source": [
    "In this section, I will calculate key descriptive statistics using the aggregated data to provide a comprehensive overview of the profitability of each plan. The analysis will focus on the usage patterns related to calls, messages, internet and revenue, offering insights into which plan performs better in these specific areas."
   ]
  },
  {
   "cell_type": "markdown",
   "metadata": {},
   "source": [
    "### Calls"
   ]
  },
  {
   "cell_type": "code",
   "execution_count": 89,
   "metadata": {},
   "outputs": [
    {
     "data": {
      "text/plain": [
       "<AxesSubplot:title={'center':'Average Duration of Calls per Month for Surf and Ultimate Plans'}, xlabel='Month of the Year', ylabel='Average Duration of Calls by Minute'>"
      ]
     },
     "execution_count": 89,
     "metadata": {},
     "output_type": "execute_result"
    },
    {
     "data": {
      "image/png": "[encoded data removed]",
      "text/plain": [
       "<Figure size 640x480 with 1 Axes>"
      ]
     },
     "metadata": {},
     "output_type": "display_data"
    }
   ],
   "source": [
    "# comparing average duration of calls per each plan per each distinct month\n",
    "ult_duration = final[final['plan'] == 'ultimate'].groupby('month')['duration'].mean().reset_index()\n",
    "surf_duration = final[final['plan'] == 'surf'].groupby('month')['duration'].mean().reset_index()\n",
    "avg_duration = ult_duration.merge(surf_duration, on='month', how='left')\n",
    "avg_duration = avg_duration.rename(columns={'duration_x':'ultimate', 'duration_y':'surf'})\n",
    "avg_duration.plot(x='month', y=['ultimate', 'surf'], \n",
    "                  xlabel='Month of the Year', ylabel='Average Duration of Calls by Minute',\n",
    "                 kind='bar', title='Average Duration of Calls per Month for Surf and Ultimate Plans')"
   ]
  },
  {
   "cell_type": "markdown",
   "metadata": {},
   "source": [
    "In this bar graph, it is evident that the average duration of calls per month for the Surf and Ultimate plans are very similar. Except for the the large difference between the two plans in month 2, both show a general increase in calls every month."
   ]
  },
  {
   "cell_type": "code",
   "execution_count": 90,
   "metadata": {},
   "outputs": [
    {
     "data": {
      "text/plain": [
       "Text(0, 0.5, 'Frequency of Range')"
      ]
     },
     "execution_count": 90,
     "metadata": {},
     "output_type": "execute_result"
    },
    {
     "data": {
      "image/png": "[encoded data removed]",
      "text/plain": [
       "<Figure size 640x480 with 1 Axes>"
      ]
     },
     "metadata": {},
     "output_type": "display_data"
    }
   ],
   "source": [
    "# comparing the number of minutes users of each plan require each month\n",
    "mins = final.pivot_table(index='plan', columns='month', values='duration', aggfunc='mean').T\n",
    "mins.plot(kind='hist', alpha=0.5)\n",
    "plt.title('Number of Minutes User of each Plan Require each Month')\n",
    "plt.xlabel('Amount of Minutes per Month')\n",
    "plt.ylabel('Frequency of Range')"
   ]
  },
  {
   "cell_type": "markdown",
   "metadata": {},
   "source": [
    "This histogram displays the distribution of the average monthly call minutes for each plan, highlighting the frequency of usage. Notably, both plans exhibit a similar frequency throughout the graph, especially at the 400-minute mark per month, suggesting comparable usage patterns at this level."
   ]
  },
  {
   "cell_type": "code",
   "execution_count": 91,
   "metadata": {},
   "outputs": [
    {
     "name": "stdout",
     "output_type": "stream",
     "text": [
      "Surf average: 428.75\n",
      "Ultimate average: 430.45\n",
      "Surf variance: 54968.28\n",
      "Ultimate variance: 57844.46\n"
     ]
    }
   ],
   "source": [
    "# finding mean and the variance of the monthly call duration\n",
    "surf_avg = final[final['plan'] == 'surf']['duration'].mean()\n",
    "ult_avg = final[final['plan'] == 'ultimate']['duration'].mean()\n",
    "surf_var = final[final['plan'] == 'surf']['duration'].var()\n",
    "ult_var = final[final['plan'] == 'ultimate']['duration'].var()\n",
    "print(\"Surf average:\", f'{surf_avg:.2f}')\n",
    "print(\"Ultimate average:\", f'{ult_avg:.2f}')\n",
    "print(\"Surf variance:\", f'{surf_var:.2f}')\n",
    "print(\"Ultimate variance:\", f'{ult_var:.2f}')"
   ]
  },
  {
   "cell_type": "markdown",
   "metadata": {},
   "source": [
    "The calculations above illustrate the calculated mean and variance of the call duration for each plan on a monthly basis. While the values for each plan within their respective months appear similar, the overall mean and variance for both plans differ significantly. This large variation suggests a wide spread in the data, which may complicate the interpretation of results."
   ]
  },
  {
   "cell_type": "code",
   "execution_count": 92,
   "metadata": {},
   "outputs": [
    {
     "data": {
      "text/plain": [
       "<AxesSubplot:title={'center':'Boxplot of Messages Sent Between Two Plans'}>"
      ]
     },
     "execution_count": 92,
     "metadata": {},
     "output_type": "execute_result"
    },
    {
     "data": {
      "image/png": "[encoded data removed]",
      "text/plain": [
       "<Figure size 640x480 with 1 Axes>"
      ]
     },
     "metadata": {},
     "output_type": "display_data"
    }
   ],
   "source": [
    "# plotting boxplot to visualize the distribution of the monthly call duration\n",
    "mins.plot(kind='box', xlabel='Plans', title='Boxplot of Messages Sent Between Two Plans')"
   ]
  },
  {
   "cell_type": "markdown",
   "metadata": {},
   "source": [
    "As concluded by the previous bar graph, histogram, and pivot table, this box plot further solidifies that the users' calling behavior between the two plans are very similar. To be specific, both box plots have a negative skew, meaning that the median is closer to the higher end of the range of values and more outliers are on the lower range of values. "
   ]
  },
  {
   "cell_type": "markdown",
   "metadata": {},
   "source": [
    "### Messages"
   ]
  },
  {
   "cell_type": "code",
   "execution_count": 93,
   "metadata": {},
   "outputs": [
    {
     "data": {
      "text/plain": [
       "<AxesSubplot:title={'center':'Average Number of Messages per Month for Surf and Ultimate Plans'}, xlabel='Month of the Year', ylabel='Number of Messages'>"
      ]
     },
     "execution_count": 93,
     "metadata": {},
     "output_type": "execute_result"
    },
    {
     "data": {
      "image/png": "[encoded data removed]",
      "text/plain": [
       "<Figure size 640x480 with 1 Axes>"
      ]
     },
     "metadata": {},
     "output_type": "display_data"
    }
   ],
   "source": [
    "# comparing the number of messages users of each plan tend to send each month\n",
    "ult_messages = final[final['plan'] == 'ultimate'].groupby('month')['num_of_messages'].mean().reset_index()\n",
    "surf_messages = final[final['plan'] == 'surf'].groupby('month')['num_of_messages'].mean().reset_index()\n",
    "both_messages = ult_messages.merge(surf_messages, on='month', how='left') \n",
    "both_messages = both_messages.rename(columns={'num_of_messages_x':'ultimate', 'num_of_messages_y':'surf'})\n",
    "both_messages.plot(x='month', y=['ultimate', 'surf'], \n",
    "                   xlabel='Month of the Year', ylabel='Number of Messages',\n",
    "                   kind='bar', title='Average Number of Messages per Month for Surf and Ultimate Plans')"
   ]
  },
  {
   "cell_type": "markdown",
   "metadata": {},
   "source": [
    "In this bar graph, it is evident that the Ultimate plan has a larger average amount of messages sent per month than the Surf plan, and both show a general linear increase as time goes on."
   ]
  },
  {
   "cell_type": "code",
   "execution_count": 94,
   "metadata": {},
   "outputs": [
    {
     "data": {
      "text/plain": [
       "Text(0, 0.5, 'Frequency of Range')"
      ]
     },
     "execution_count": 94,
     "metadata": {},
     "output_type": "execute_result"
    },
    {
     "data": {
      "image/png": "[encoded data removed]",
      "text/plain": [
       "<Figure size 640x480 with 1 Axes>"
      ]
     },
     "metadata": {},
     "output_type": "display_data"
    }
   ],
   "source": [
    "# comparing the number of messages users of each plan require each month\n",
    "messages = final.pivot_table(index='plan', columns='month', values='num_of_messages', aggfunc='mean').T\n",
    "messages.plot(kind='hist', alpha=0.5)\n",
    "plt.title('Number of Messages Users of each Plan Text each Month')\n",
    "plt.xlabel('Amount of Messages per Month')\n",
    "plt.ylabel('Frequency of Range')"
   ]
  },
  {
   "cell_type": "markdown",
   "metadata": {},
   "source": [
    "This histogram displays the distribution of the average monthly messages sent for each plan, highlighting the frequency of usage. Notably, the Ultimate plan has a genearl higher frequency of messages than the Ultimate plan does, as shown by the spike at the 40-message mark. This is understandable because the Ultimate plan has a cheaper price per message and a larger amount of messages included before the user gets charged."
   ]
  },
  {
   "cell_type": "code",
   "execution_count": 95,
   "metadata": {},
   "outputs": [
    {
     "name": "stdout",
     "output_type": "stream",
     "text": [
      "Surf average: 31.16\n",
      "Ultimate average: 37.55\n",
      "Surf variance: 1126.72\n",
      "Ultimate variance: 1208.76\n"
     ]
    }
   ],
   "source": [
    "# finding mean and the variance of the monthly messages sent\n",
    "surf_avg = final[final['plan'] == 'surf']['num_of_messages'].mean()\n",
    "ult_avg = final[final['plan'] == 'ultimate']['num_of_messages'].mean()\n",
    "surf_var = final[final['plan'] == 'surf']['num_of_messages'].var()\n",
    "ult_var = final[final['plan'] == 'ultimate']['num_of_messages'].var()\n",
    "print(\"Surf average:\", f'{surf_avg:.2f}')\n",
    "print(\"Ultimate average:\", f'{ult_avg:.2f}')\n",
    "print(\"Surf variance:\", f'{surf_var:.2f}')\n",
    "print(\"Ultimate variance:\", f'{ult_var:.2f}')"
   ]
  },
  {
   "cell_type": "markdown",
   "metadata": {},
   "source": [
    "The calculations above illustrate the calculated mean and variance of the messages sent for each plan on a monthly basis. One can see that the Ultimate average is higher than the Surf average. In addition, the overall mean and variance for both plans differ significantly. This large variation suggests a wide spread in the data, which may complicate the interpretation of results."
   ]
  },
  {
   "cell_type": "code",
   "execution_count": 96,
   "metadata": {},
   "outputs": [
    {
     "data": {
      "text/plain": [
       "<AxesSubplot:title={'center':'Boxplot of Messages Sent Between Two Plans'}>"
      ]
     },
     "execution_count": 96,
     "metadata": {},
     "output_type": "execute_result"
    },
    {
     "data": {
      "image/png": "[encoded data removed]",
      "text/plain": [
       "<Figure size 640x480 with 1 Axes>"
      ]
     },
     "metadata": {},
     "output_type": "display_data"
    }
   ],
   "source": [
    "# plotting boxplot to visualize the distribution of the messages sent\n",
    "messages.plot(kind='box', xlabel='Plans', title='Boxplot of Messages Sent Between Two Plans')"
   ]
  },
  {
   "cell_type": "markdown",
   "metadata": {},
   "source": [
    "As concluded by the previous bar graph and histograph, this box plot further solidifies that the users' messaging behavior in the Ultimate plan is more frequent than the Surf plan. Here, the median and the range of values for the Ultimate plan is larger than the Surf plan."
   ]
  },
  {
   "cell_type": "markdown",
   "metadata": {},
   "source": [
    "### Internet"
   ]
  },
  {
   "cell_type": "code",
   "execution_count": 97,
   "metadata": {},
   "outputs": [
    {
     "data": {
      "text/plain": [
       "<AxesSubplot:title={'center':'Average Amount of Internet Traffic per Month for Surf and Ultimate Plans'}, xlabel='Month of the Year', ylabel='Amount of MB'>"
      ]
     },
     "execution_count": 97,
     "metadata": {},
     "output_type": "execute_result"
    },
    {
     "data": {
      "image/png": "[encoded data removed]",
      "text/plain": [
       "<Figure size 640x480 with 1 Axes>"
      ]
     },
     "metadata": {},
     "output_type": "display_data"
    }
   ],
   "source": [
    "# comparing the amount of internet traffic consumed by users per plan\n",
    "ult_mb = final[final['plan'] == 'ultimate'].groupby('month')['mb_used'].mean().reset_index()\n",
    "surf_mb = final[final['plan'] == 'surf'].groupby('month')['mb_used'].mean().reset_index()\n",
    "both_mb = ult_mb.merge(surf_mb, on='month', how='left') \n",
    "both_mb = both_mb.rename(columns={'mb_used_x':'ultimate', 'mb_used_y':'surf'})\n",
    "both_mb.plot(x='month', y=['ultimate', 'surf'], \n",
    "             xlabel='Month of the Year', ylabel='Amount of MB', kind='bar', \n",
    "             title='Average Amount of Internet Traffic per Month for Surf and Ultimate Plans')"
   ]
  },
  {
   "cell_type": "markdown",
   "metadata": {},
   "source": [
    "In this bar graph, it is evident that the Ultimate plan has a larger average amount of messages sent per month than the Surf plan. There is also a large spike for the Ultimate plan in months 2 and 3, but otherwise, both plans show a general increase as time goes on."
   ]
  },
  {
   "cell_type": "code",
   "execution_count": 98,
   "metadata": {},
   "outputs": [
    {
     "data": {
      "text/plain": [
       "Text(0, 0.5, 'Frequency of Range')"
      ]
     },
     "execution_count": 98,
     "metadata": {},
     "output_type": "execute_result"
    },
    {
     "data": {
      "image/png": "[encoded data removed]",
      "text/plain": [
       "<Figure size 640x480 with 1 Axes>"
      ]
     },
     "metadata": {},
     "output_type": "display_data"
    }
   ],
   "source": [
    "# comparing the amount of MB users of each plan require each month\n",
    "mb = final.pivot_table(index='plan', columns='month', values='mb_used', aggfunc='mean').T\n",
    "mb.plot(kind='hist', alpha=0.5)\n",
    "plt.title('Amount of MB Users of each Plan Use each Month')\n",
    "plt.xlabel('Amount of MB per Month')\n",
    "plt.ylabel('Frequency of Range')"
   ]
  },
  {
   "cell_type": "markdown",
   "metadata": {},
   "source": [
    "This histogram displays the distribution of the average monthly call minutes for each plan, highlighting the frequency of usage. Notably, both plans exhibit a similar frequency in the beginning of the graph. However, at 16000-180000 MB, the Ultimate plan has a greater significant frequency than the Surf plan. This is once again understandable because the Ultimate plan has a cheaper price per GB and a larger amount of MB included before the user gets charged. "
   ]
  },
  {
   "cell_type": "code",
   "execution_count": 99,
   "metadata": {},
   "outputs": [
    {
     "name": "stdout",
     "output_type": "stream",
     "text": [
      "Surf average: 16558.28\n",
      "Ultimate average: 17214.70\n",
      "Surf variance: 64216395.84\n",
      "Ultimate variance: 61652293.32\n"
     ]
    }
   ],
   "source": [
    "# finding mean and the variance of the MB usage\n",
    "surf_avg = final[final['plan'] == 'surf']['mb_used'].mean()\n",
    "ult_avg = final[final['plan'] == 'ultimate']['mb_used'].mean()\n",
    "surf_var = final[final['plan'] == 'surf']['mb_used'].var()\n",
    "ult_var = final[final['plan'] == 'ultimate']['mb_used'].var()\n",
    "print(\"Surf average:\", f'{surf_avg:.2f}')\n",
    "print(\"Ultimate average:\", f'{ult_avg:.2f}')\n",
    "print(\"Surf variance:\", f'{surf_var:.2f}')\n",
    "print(\"Ultimate variance:\", f'{ult_var:.2f}')"
   ]
  },
  {
   "cell_type": "markdown",
   "metadata": {},
   "source": [
    "The calculations above illustrate the calculated mean and variance of the messages sent for each plan on a monthly basis. One can see that the Ultimate average is higher than the Surf average by 1000. In addition, the overall mean and variance for both plans differ significantly. This large variation suggests a wide spread in the data, which may complicate the interpretation of results."
   ]
  },
  {
   "cell_type": "code",
   "execution_count": 100,
   "metadata": {},
   "outputs": [
    {
     "data": {
      "text/plain": [
       "<AxesSubplot:title={'center':'Boxplot of Messages Sent Between Two Plans'}>"
      ]
     },
     "execution_count": 100,
     "metadata": {},
     "output_type": "execute_result"
    },
    {
     "data": {
      "image/png": "[encoded data removed]",
      "text/plain": [
       "<Figure size 640x480 with 1 Axes>"
      ]
     },
     "metadata": {},
     "output_type": "display_data"
    }
   ],
   "source": [
    "# plotting boxplot to visualize the distribution of the MB used\n",
    "mb.plot(kind='box', xlabel='Plans', title='Boxplot of Messages Sent Between Two Plans')"
   ]
  },
  {
   "cell_type": "markdown",
   "metadata": {},
   "source": [
    "As concluded by the previous bar graph and histograph, this box plot further solidifies that the users use more MB in the Ultimate plan than they do in the Surf plan. While both box plots have a negative skew, the median and the outliers for the Ultimate plan is larger than the Surf plan. In addition, the minimum and maximum ranges of the Ultimate box plot is significantly less than the Surf's."
   ]
  },
  {
   "cell_type": "markdown",
   "metadata": {},
   "source": [
    "### Revenue"
   ]
  },
  {
   "cell_type": "code",
   "execution_count": 101,
   "metadata": {},
   "outputs": [
    {
     "data": {
      "text/plain": [
       "<AxesSubplot:title={'center':'Average Monthly Revenue for Surf and Ultimate Plans'}, xlabel='Month of the Year', ylabel='Amount of MB'>"
      ]
     },
     "execution_count": 101,
     "metadata": {},
     "output_type": "execute_result"
    },
    {
     "data": {
      "image/png": "[encoded data removed]",
      "text/plain": [
       "<Figure size 640x480 with 1 Axes>"
      ]
     },
     "metadata": {},
     "output_type": "display_data"
    }
   ],
   "source": [
    "# comparing the average amount of monthly revenue per plan\n",
    "ult_rev = final[final['plan'] == 'ultimate'].groupby('month')['monthly_rev'].mean().reset_index()\n",
    "surf_rev = final[final['plan'] == 'surf'].groupby('month')['monthly_rev'].mean().reset_index()\n",
    "both_rev = ult_rev.merge(surf_rev, on='month', how='left') \n",
    "both_rev = both_rev.rename(columns={'monthly_rev_x':'ultimate', 'monthly_rev_y':'surf'})\n",
    "both_rev.plot(x='month', y=['ultimate', 'surf'], \n",
    "             xlabel='Month of the Year', ylabel='Amount of MB',\n",
    "             kind='bar', title='Average Monthly Revenue for Surf and Ultimate Plans')"
   ]
  },
  {
   "cell_type": "markdown",
   "metadata": {},
   "source": [
    "In this bar graph, it is evident that the Ultimate plan has a consistent amount of revenue throughout the year, while Surf has a general increase over time. In addition, there is a significant difference between the Ultimate and Surf revenue in the first few months, which gets less towards the later months."
   ]
  },
  {
   "cell_type": "code",
   "execution_count": 102,
   "metadata": {},
   "outputs": [
    {
     "data": {
      "text/plain": [
       "Text(0, 0.5, 'Frequency of Range')"
      ]
     },
     "execution_count": 102,
     "metadata": {},
     "output_type": "execute_result"
    },
    {
     "data": {
      "image/png": "[encoded data removed]",
      "text/plain": [
       "<Figure size 640x480 with 1 Axes>"
      ]
     },
     "metadata": {},
     "output_type": "display_data"
    }
   ],
   "source": [
    "# comparing the monthly revenue of each plan\n",
    "rev = final.pivot_table(index='plan', columns='month', values='monthly_rev', aggfunc='mean').T\n",
    "rev.plot(kind='hist', alpha=0.5)\n",
    "plt.title('Monthly Revenue Users of Each Plan Makes')\n",
    "plt.xlabel('Revenue Amount')\n",
    "plt.ylabel('Frequency of Range')"
   ]
  },
  {
   "cell_type": "markdown",
   "metadata": {},
   "source": [
    "This histogram displays the distribution of the average monthly revenue users create for each plan, highlighting the frequency of usage. Notably, the Ultimate plan bar is only present in the 60-70 range with a high frequency of 6, while the Surf plan is significantly less in the revenue and frequency amount. This is once again understandable since Ultimate's monthly pay is 50 dollars more than Surf's."
   ]
  },
  {
   "cell_type": "code",
   "execution_count": 103,
   "metadata": {},
   "outputs": [
    {
     "name": "stdout",
     "output_type": "stream",
     "text": [
      "Surf average: 60.71\n",
      "Ultimate average: 64.20\n",
      "Surf variance: 3067.84\n",
      "Ultimate variance: 259.79\n"
     ]
    }
   ],
   "source": [
    "# finding mean and the variance of monthly user revenue\n",
    "surf_avg = final[final['plan'] == 'surf']['monthly_rev'].mean()\n",
    "ult_avg = final[final['plan'] == 'ultimate']['monthly_rev'].mean()\n",
    "surf_var = final[final['plan'] == 'surf']['monthly_rev'].var()\n",
    "ult_var = final[final['plan'] == 'ultimate']['monthly_rev'].var()\n",
    "print(\"Surf average:\", f'{surf_avg:.2f}')\n",
    "print(\"Ultimate average:\", f'{ult_avg:.2f}')\n",
    "print(\"Surf variance:\", f'{surf_var:.2f}')\n",
    "print(\"Ultimate variance:\", f'{ult_var:.2f}')"
   ]
  },
  {
   "cell_type": "markdown",
   "metadata": {},
   "source": [
    "The calculations above illustrate the calculated mean and variance of revenue for each plan on a monthly basis. One can see that the Ultimate average is higher than the Surf average. In addition, the overall mean and variance for both plans differ significantly. This large variation suggests a wide spread in the data, which may complicate the interpretation of results."
   ]
  },
  {
   "cell_type": "code",
   "execution_count": 104,
   "metadata": {},
   "outputs": [
    {
     "data": {
      "text/plain": [
       "<AxesSubplot:title={'center':'Boxplot of Monthly Revenue Between Two Plans'}>"
      ]
     },
     "execution_count": 104,
     "metadata": {},
     "output_type": "execute_result"
    },
    {
     "data": {
      "image/png": "[encoded data removed]",
      "text/plain": [
       "<Figure size 640x480 with 1 Axes>"
      ]
     },
     "metadata": {},
     "output_type": "display_data"
    }
   ],
   "source": [
    "# plotting boxplot to visualize the distribution of the revenue\n",
    "rev.plot(kind='box', xlabel='Plans', title='Boxplot of Monthly Revenue Between Two Plans')"
   ]
  },
  {
   "cell_type": "markdown",
   "metadata": {},
   "source": [
    "As concluded by the previous bar graph and histograph, this box plot further solidifies that the users produce more monthly revenue in the Ultimate plan than they do in the Surf plan. The median is larger and the range is a significantly less in the Ultimate plan than it is in the Surf plan."
   ]
  },
  {
   "cell_type": "markdown",
   "metadata": {},
   "source": [
    " "
   ]
  },
  {
   "cell_type": "markdown",
   "metadata": {},
   "source": [
    "## Test Statistical Hypotheses"
   ]
  },
  {
   "cell_type": "markdown",
   "metadata": {},
   "source": [
    "In this section, I will conduct a hypothesis test to evaluate whether there is a statistically significant difference between two key variables in the dataset. Specifically, I will compare the average revenue generated by users of the Ultimate and Surf calling plans.\n",
    "\n",
    "Null Hypothesis (H₀): There is no significant difference in the average revenue between the Ultimate and Surf plan users.\n",
    "\n",
    "Alternative Hypothesis (H₁): There is a significant difference in the average revenue between the two plans.\n",
    "\n",
    "To test this, I will use a two-tailed test with a significance level (alpha) of 0.05. This approach will allow me to determine whether the observed difference in average revenue is statistically significant or due to random variation. The results will provide insights into whether one plan generates significantly more revenue than the other."
   ]
  },
  {
   "cell_type": "code",
   "execution_count": 105,
   "metadata": {},
   "outputs": [
    {
     "name": "stdout",
     "output_type": "stream",
     "text": [
      "p-value:  0.021476633863765613\n",
      "We reject the null hypothesis\n"
     ]
    }
   ],
   "source": [
    "# test the hypotheses, two tailed test\n",
    "ultimate_rev=final[final['plan'] == 'ultimate']['monthly_rev']\n",
    "surf_rev = final[final['plan']=='surf']['monthly_rev']\n",
    "results = st.ttest_ind(ultimate_rev, surf_rev, equal_var=False)\n",
    "\n",
    "print('p-value: ', results.pvalue)\n",
    "\n",
    "if (results.pvalue < 0.05):\n",
    "    print('We reject the null hypothesis')\n",
    "else:\n",
    "    print(\"We can't reject the null hypothesis\")"
   ]
  },
  {
   "cell_type": "markdown",
   "metadata": {},
   "source": [
    "As shown by the p-value, it is considerably less than 0.05, meaning that null hypothesis is rejected. Therefore, there is a significant difference between the two plan revenues.\n",
    "\n",
    "Now, I will compare the average revenue in the NY-NJ area and other regions between the Ultimate and Surf plan users, using a two-tailed test with similar null and alternative hypotheses used in the last example and the same alpha of 0.05."
   ]
  },
  {
   "cell_type": "code",
   "execution_count": 106,
   "metadata": {},
   "outputs": [
    {
     "name": "stdout",
     "output_type": "stream",
     "text": [
      "p-value:  0.10748595044892847\n",
      "We can't reject the null hypothesis\n"
     ]
    }
   ],
   "source": [
    "# test the hypotheses, two tailed test\n",
    "nynj = final[final['city'] == 'New York-Newark-Jersey City, NY-NJ-PA MSA']['monthly_rev']\n",
    "other = final[final['city'] != 'New York-Newark-Jersey City, NY-NJ-PA MSA']['monthly_rev']\n",
    "results = st.ttest_ind(nynj, other, equal_var=False)\n",
    "\n",
    "print('p-value: ', results.pvalue)\n",
    "\n",
    "if (results.pvalue < 0.05):\n",
    "    print('We reject the null hypothesis')\n",
    "else:\n",
    "    print(\"We can't reject the null hypothesis\")"
   ]
  },
  {
   "cell_type": "markdown",
   "metadata": {},
   "source": [
    "As shown by the p-value, it is considerably less than 0.05, meaning that null hypothesis is rejected. Therefore, there is a significant difference between the two plan revenues in the NY-NJ and other regions."
   ]
  },
  {
   "cell_type": "markdown",
   "metadata": {},
   "source": [
    " "
   ]
  },
  {
   "cell_type": "markdown",
   "metadata": {},
   "source": [
    "## Conclusion\n",
    "\n",
    "The research done shows the user behavior between two different plans: Surf and Ultimate. After aggregating the datasets into one, I was able to find differences in monthly call duration, messages sent, MB used, and revenue. Looking at the data, I noticed that the Ultimate plan has more user behavior, which explains the higher revenue it earns than the Surf plan. Lastly, I did two two-tailed tests to determine a signifcant difference in the plans' revenue. This analysis will be useful for business leaders to know what makes a phone plan more profitable."
   ]
  }
 ],
 "metadata": {
  "ExecuteTimeLog": [
   {
    "duration": 828,
    "start_time": "2021-11-16T09:21:11.304Z"
   },
   {
    "duration": 893,
    "start_time": "2021-11-16T09:21:17.728Z"
   },
   {
    "duration": 1150,
    "start_time": "2021-11-16T09:21:29.568Z"
   },
   {
    "duration": 3,
    "start_time": "2021-11-16T09:24:14.495Z"
   },
   {
    "duration": 120,
    "start_time": "2021-11-16T09:24:46.630Z"
   },
   {
    "duration": 3,
    "start_time": "2021-11-16T09:28:27.882Z"
   },
   {
    "duration": 4,
    "start_time": "2021-11-16T09:29:54.281Z"
   },
   {
    "duration": 3,
    "start_time": "2021-11-16T09:30:45.936Z"
   },
   {
    "duration": 4,
    "start_time": "2021-11-16T09:31:06.300Z"
   },
   {
    "duration": 113,
    "start_time": "2021-11-16T09:31:37.208Z"
   },
   {
    "duration": 143,
    "start_time": "2021-11-16T09:31:48.656Z"
   },
   {
    "duration": 98,
    "start_time": "2021-11-16T09:31:55.678Z"
   },
   {
    "duration": 3,
    "start_time": "2021-11-16T09:32:08.535Z"
   },
   {
    "duration": 111,
    "start_time": "2021-11-16T09:32:10.120Z"
   },
   {
    "duration": 3,
    "start_time": "2021-11-16T09:32:15.732Z"
   },
   {
    "duration": 4,
    "start_time": "2021-11-16T09:32:29.423Z"
   },
   {
    "duration": 3,
    "start_time": "2021-11-16T10:03:03.074Z"
   },
   {
    "duration": 3,
    "start_time": "2021-11-16T10:10:01.288Z"
   },
   {
    "duration": 3,
    "start_time": "2021-11-16T10:10:46.923Z"
   },
   {
    "duration": 121,
    "start_time": "2021-11-16T10:37:46.494Z"
   },
   {
    "duration": 125,
    "start_time": "2021-11-16T10:38:20.632Z"
   },
   {
    "duration": 112,
    "start_time": "2021-11-16T10:46:53.001Z"
   },
   {
    "duration": 110,
    "start_time": "2021-11-16T10:48:25.775Z"
   },
   {
    "duration": 3,
    "start_time": "2021-11-16T10:50:18.720Z"
   },
   {
    "duration": 4,
    "start_time": "2021-11-16T10:50:37.649Z"
   },
   {
    "duration": 2,
    "start_time": "2021-11-16T10:50:51.884Z"
   },
   {
    "duration": 3,
    "start_time": "2021-11-16T10:51:56.237Z"
   },
   {
    "duration": 101,
    "start_time": "2021-11-16T10:53:13.791Z"
   },
   {
    "duration": 3,
    "start_time": "2021-11-16T10:55:59.186Z"
   },
   {
    "duration": 3,
    "start_time": "2021-11-16T10:56:10.751Z"
   },
   {
    "duration": 3,
    "start_time": "2021-11-16T10:56:49.038Z"
   },
   {
    "duration": 3,
    "start_time": "2021-11-16T10:56:49.174Z"
   },
   {
    "duration": 4,
    "start_time": "2021-11-16T10:56:49.414Z"
   },
   {
    "duration": 3,
    "start_time": "2021-11-16T10:56:49.680Z"
   },
   {
    "duration": 3,
    "start_time": "2021-11-16T10:56:50.370Z"
   },
   {
    "duration": 114,
    "start_time": "2021-11-16T10:59:34.518Z"
   },
   {
    "duration": 3,
    "start_time": "2021-11-16T11:01:41.201Z"
   },
   {
    "duration": 116,
    "start_time": "2021-11-16T11:01:48.754Z"
   },
   {
    "duration": 3,
    "start_time": "2021-11-16T11:02:16.685Z"
   },
   {
    "duration": 3,
    "start_time": "2021-11-16T11:02:19.479Z"
   },
   {
    "duration": 3,
    "start_time": "2021-11-16T11:02:47.067Z"
   },
   {
    "duration": 3,
    "start_time": "2021-11-16T11:02:49.353Z"
   },
   {
    "duration": 3,
    "start_time": "2021-11-16T11:03:07.835Z"
   },
   {
    "duration": 3,
    "start_time": "2021-11-16T11:03:07.953Z"
   },
   {
    "duration": 112,
    "start_time": "2021-11-16T11:07:52.072Z"
   },
   {
    "duration": 187,
    "start_time": "2021-11-16T11:09:23.468Z"
   },
   {
    "duration": 4,
    "start_time": "2021-11-16T11:10:01.455Z"
   },
   {
    "duration": 3,
    "start_time": "2021-11-16T11:10:05.069Z"
   },
   {
    "duration": 4,
    "start_time": "2021-11-16T11:10:13.376Z"
   },
   {
    "duration": 3,
    "start_time": "2021-11-16T11:10:14.434Z"
   },
   {
    "duration": 3,
    "start_time": "2021-11-16T11:10:22.853Z"
   },
   {
    "duration": 4,
    "start_time": "2021-11-16T11:27:29.279Z"
   },
   {
    "duration": 4,
    "start_time": "2021-11-16T11:29:08.919Z"
   },
   {
    "duration": 118,
    "start_time": "2021-11-16T11:29:46.703Z"
   },
   {
    "duration": 437,
    "start_time": "2021-11-16T11:36:02.181Z"
   },
   {
    "duration": 157,
    "start_time": "2021-11-16T11:36:14.388Z"
   },
   {
    "duration": 207,
    "start_time": "2021-11-16T11:47:15.898Z"
   },
   {
    "duration": 3,
    "start_time": "2021-11-16T11:53:52.092Z"
   },
   {
    "duration": 3,
    "start_time": "2021-11-16T11:53:52.236Z"
   },
   {
    "duration": 3,
    "start_time": "2021-11-16T11:59:12.005Z"
   },
   {
    "duration": 112,
    "start_time": "2021-11-16T12:00:33.446Z"
   },
   {
    "duration": 3,
    "start_time": "2021-11-16T12:02:14.453Z"
   },
   {
    "duration": 3,
    "start_time": "2021-11-16T12:02:39.512Z"
   },
   {
    "duration": 106,
    "start_time": "2021-11-16T12:03:03.460Z"
   },
   {
    "duration": 3,
    "start_time": "2021-11-17T20:37:21.139Z"
   },
   {
    "duration": 3,
    "start_time": "2021-11-17T20:37:22.229Z"
   },
   {
    "duration": 3,
    "start_time": "2021-11-17T20:38:38.806Z"
   },
   {
    "duration": 3,
    "start_time": "2021-11-17T20:38:41.958Z"
   },
   {
    "duration": 3,
    "start_time": "2021-11-17T20:43:46.551Z"
   },
   {
    "duration": 4,
    "start_time": "2021-11-17T20:58:21.835Z"
   },
   {
    "duration": 3,
    "start_time": "2021-11-17T20:59:21.872Z"
   },
   {
    "duration": 4,
    "start_time": "2021-11-17T20:59:45.352Z"
   },
   {
    "duration": 4,
    "start_time": "2021-11-17T20:59:49.646Z"
   },
   {
    "duration": 159,
    "start_time": "2021-11-17T21:02:26.949Z"
   },
   {
    "duration": 3,
    "start_time": "2021-11-17T21:03:53.461Z"
   },
   {
    "duration": 3,
    "start_time": "2021-11-17T21:03:53.694Z"
   },
   {
    "duration": 3,
    "start_time": "2021-11-17T21:05:28.145Z"
   },
   {
    "duration": 116,
    "start_time": "2021-11-17T21:05:57.787Z"
   },
   {
    "duration": 3,
    "start_time": "2021-11-17T21:06:37.993Z"
   },
   {
    "duration": 3,
    "start_time": "2021-11-17T21:06:38.261Z"
   },
   {
    "duration": 3,
    "start_time": "2021-11-17T21:11:54.358Z"
   },
   {
    "duration": 3,
    "start_time": "2021-11-17T21:12:43.846Z"
   },
   {
    "duration": 4,
    "start_time": "2021-11-17T21:13:08.773Z"
   },
   {
    "duration": 3,
    "start_time": "2021-11-17T21:14:44.441Z"
   },
   {
    "duration": 3,
    "start_time": "2021-11-17T21:15:42.059Z"
   },
   {
    "duration": 4,
    "start_time": "2021-11-17T21:15:51.995Z"
   },
   {
    "duration": 3,
    "start_time": "2021-11-17T21:15:53.923Z"
   },
   {
    "duration": 3,
    "start_time": "2021-11-17T21:15:55.282Z"
   },
   {
    "duration": 3,
    "start_time": "2021-11-17T21:16:28.492Z"
   },
   {
    "duration": 3,
    "start_time": "2021-11-17T21:16:32.603Z"
   },
   {
    "duration": 3,
    "start_time": "2021-11-17T21:17:06.941Z"
   },
   {
    "duration": 98,
    "start_time": "2021-11-17T21:18:05.733Z"
   },
   {
    "duration": 4,
    "start_time": "2021-11-17T21:21:35.255Z"
   },
   {
    "duration": 3,
    "start_time": "2021-11-17T21:21:37.804Z"
   },
   {
    "duration": 4,
    "start_time": "2021-11-17T21:23:06.071Z"
   },
   {
    "duration": 3,
    "start_time": "2021-11-17T21:23:24.799Z"
   },
   {
    "duration": 3,
    "start_time": "2021-11-17T21:23:32.591Z"
   },
   {
    "duration": 98,
    "start_time": "2021-11-17T21:28:31.559Z"
   },
   {
    "duration": 3,
    "start_time": "2021-11-17T21:28:45.448Z"
   },
   {
    "duration": 3,
    "start_time": "2021-11-17T21:29:17.303Z"
   },
   {
    "duration": 3,
    "start_time": "2021-11-17T21:29:29.617Z"
   },
   {
    "duration": 3,
    "start_time": "2021-11-17T21:29:32.681Z"
   },
   {
    "duration": 3,
    "start_time": "2021-11-17T21:36:11.474Z"
   },
   {
    "duration": 3,
    "start_time": "2021-11-17T21:36:14.791Z"
   },
   {
    "duration": 3,
    "start_time": "2021-11-17T21:36:53.943Z"
   },
   {
    "duration": 3,
    "start_time": "2021-11-17T21:36:56.165Z"
   },
   {
    "duration": 4,
    "start_time": "2021-11-17T21:37:16.590Z"
   },
   {
    "duration": 3,
    "start_time": "2021-11-17T21:37:22.702Z"
   },
   {
    "duration": 4,
    "start_time": "2021-11-17T21:38:03.479Z"
   },
   {
    "duration": 3,
    "start_time": "2021-11-17T21:38:08.601Z"
   },
   {
    "duration": 3,
    "start_time": "2021-11-17T21:38:12.928Z"
   },
   {
    "duration": 3,
    "start_time": "2021-11-17T21:38:48.896Z"
   },
   {
    "duration": 2,
    "start_time": "2021-11-17T21:38:49.171Z"
   },
   {
    "duration": 4,
    "start_time": "2021-11-17T21:39:57.889Z"
   },
   {
    "duration": 3,
    "start_time": "2021-11-17T21:39:58.057Z"
   },
   {
    "duration": 3,
    "start_time": "2021-11-17T21:41:20.108Z"
   },
   {
    "duration": 3,
    "start_time": "2021-11-17T21:41:20.629Z"
   },
   {
    "duration": 3,
    "start_time": "2021-11-17T21:42:49.136Z"
   },
   {
    "duration": 3,
    "start_time": "2021-11-17T21:43:15.137Z"
   },
   {
    "duration": 4,
    "start_time": "2021-11-17T21:43:16.766Z"
   },
   {
    "duration": 4,
    "start_time": "2021-11-17T21:43:31.711Z"
   },
   {
    "duration": 3,
    "start_time": "2021-11-17T21:43:36.312Z"
   },
   {
    "duration": 4,
    "start_time": "2021-11-17T21:45:08.825Z"
   },
   {
    "duration": 4,
    "start_time": "2021-11-17T21:45:10.119Z"
   },
   {
    "duration": 4,
    "start_time": "2021-11-17T21:45:13.748Z"
   },
   {
    "duration": 3,
    "start_time": "2021-11-17T21:45:22.219Z"
   },
   {
    "duration": 3,
    "start_time": "2021-11-17T21:45:33.412Z"
   },
   {
    "duration": 2,
    "start_time": "2021-11-17T21:46:01.885Z"
   },
   {
    "duration": 3,
    "start_time": "2021-11-17T21:46:03.628Z"
   },
   {
    "duration": 107,
    "start_time": "2021-11-17T21:47:32.512Z"
   },
   {
    "duration": 103,
    "start_time": "2021-11-17T21:50:36.243Z"
   },
   {
    "duration": 3,
    "start_time": "2021-11-18T06:28:31.440Z"
   },
   {
    "duration": 3,
    "start_time": "2021-11-18T06:29:00.168Z"
   },
   {
    "duration": 3,
    "start_time": "2021-11-18T06:31:27.008Z"
   },
   {
    "duration": 2,
    "start_time": "2021-11-18T06:35:34.288Z"
   },
   {
    "duration": 2,
    "start_time": "2021-11-18T06:38:04.527Z"
   },
   {
    "duration": 159,
    "start_time": "2025-02-03T01:07:36.613Z"
   },
   {
    "duration": 2138,
    "start_time": "2025-02-03T01:07:40.347Z"
   },
   {
    "duration": 18,
    "start_time": "2025-02-03T01:07:42.487Z"
   },
   {
    "duration": 611,
    "start_time": "2025-02-03T01:08:59.612Z"
   },
   {
    "duration": 3,
    "start_time": "2025-02-03T01:09:22.823Z"
   },
   {
    "duration": 212,
    "start_time": "2025-02-03T01:09:23.903Z"
   },
   {
    "duration": 72,
    "start_time": "2025-02-03T01:09:35.997Z"
   },
   {
    "duration": 38,
    "start_time": "2025-02-03T01:09:50.351Z"
   },
   {
    "duration": 56,
    "start_time": "2025-02-03T01:10:01.281Z"
   },
   {
    "duration": 59,
    "start_time": "2025-02-03T01:10:13.570Z"
   },
   {
    "duration": 12,
    "start_time": "2025-02-03T01:10:19.806Z"
   },
   {
    "duration": 150,
    "start_time": "2025-02-03T01:10:26.985Z"
   },
   {
    "duration": 13,
    "start_time": "2025-02-03T01:10:32.126Z"
   },
   {
    "duration": 11,
    "start_time": "2025-02-03T01:30:30.092Z"
   },
   {
    "duration": 8,
    "start_time": "2025-02-03T01:42:48.002Z"
   },
   {
    "duration": 6,
    "start_time": "2025-02-03T01:42:52.870Z"
   },
   {
    "duration": 6,
    "start_time": "2025-02-03T01:42:56.457Z"
   },
   {
    "duration": 8,
    "start_time": "2025-02-03T01:43:53.934Z"
   },
   {
    "duration": 6,
    "start_time": "2025-02-03T01:44:23.706Z"
   },
   {
    "duration": 6,
    "start_time": "2025-02-03T01:44:29.002Z"
   },
   {
    "duration": 31,
    "start_time": "2025-02-03T01:45:04.382Z"
   },
   {
    "duration": 16,
    "start_time": "2025-02-03T01:45:09.414Z"
   },
   {
    "duration": 32,
    "start_time": "2025-02-03T01:45:12.615Z"
   },
   {
    "duration": 11,
    "start_time": "2025-02-03T01:45:33.630Z"
   },
   {
    "duration": 9,
    "start_time": "2025-02-03T01:45:39.218Z"
   },
   {
    "duration": 13,
    "start_time": "2025-02-03T01:45:50.610Z"
   },
   {
    "duration": 12,
    "start_time": "2025-02-03T01:47:23.085Z"
   },
   {
    "duration": 13,
    "start_time": "2025-02-03T01:47:34.913Z"
   },
   {
    "duration": 12,
    "start_time": "2025-02-03T01:47:48.378Z"
   },
   {
    "duration": 4,
    "start_time": "2025-02-03T01:48:57.727Z"
   },
   {
    "duration": 4,
    "start_time": "2025-02-03T01:49:04.625Z"
   },
   {
    "duration": 6,
    "start_time": "2025-02-03T01:50:07.760Z"
   },
   {
    "duration": 36,
    "start_time": "2025-02-03T01:50:08.154Z"
   },
   {
    "duration": 17,
    "start_time": "2025-02-03T01:50:08.609Z"
   },
   {
    "duration": 34,
    "start_time": "2025-02-03T01:50:09.090Z"
   },
   {
    "duration": 11,
    "start_time": "2025-02-03T01:58:25.190Z"
   },
   {
    "duration": 7,
    "start_time": "2025-02-03T01:58:39.934Z"
   },
   {
    "duration": 21,
    "start_time": "2025-02-03T01:58:49.981Z"
   },
   {
    "duration": 2150,
    "start_time": "2025-02-10T20:36:15.264Z"
   },
   {
    "duration": 17,
    "start_time": "2025-02-10T20:36:17.416Z"
   },
   {
    "duration": 91,
    "start_time": "2025-02-10T20:36:18.359Z"
   },
   {
    "duration": 47,
    "start_time": "2025-02-10T20:36:18.886Z"
   },
   {
    "duration": 76,
    "start_time": "2025-02-10T20:36:19.377Z"
   },
   {
    "duration": 12,
    "start_time": "2025-02-10T20:36:19.893Z"
   },
   {
    "duration": 6,
    "start_time": "2025-02-10T20:36:21.490Z"
   },
   {
    "duration": 32,
    "start_time": "2025-02-10T20:36:21.918Z"
   },
   {
    "duration": 15,
    "start_time": "2025-02-10T20:36:22.266Z"
   },
   {
    "duration": 32,
    "start_time": "2025-02-10T20:36:22.617Z"
   },
   {
    "duration": 20,
    "start_time": "2025-02-10T20:36:23.929Z"
   },
   {
    "duration": 12,
    "start_time": "2025-02-10T20:38:15.595Z"
   },
   {
    "duration": 7,
    "start_time": "2025-02-10T20:38:27.828Z"
   },
   {
    "duration": 8,
    "start_time": "2025-02-10T20:39:24.528Z"
   },
   {
    "duration": 8,
    "start_time": "2025-02-10T20:39:51.148Z"
   },
   {
    "duration": 17,
    "start_time": "2025-02-10T20:39:57.254Z"
   },
   {
    "duration": 7,
    "start_time": "2025-02-10T20:40:29.707Z"
   },
   {
    "duration": 10,
    "start_time": "2025-02-10T20:41:15.378Z"
   },
   {
    "duration": 6,
    "start_time": "2025-02-10T20:41:21.322Z"
   },
   {
    "duration": 14,
    "start_time": "2025-02-10T20:43:50.213Z"
   },
   {
    "duration": 7,
    "start_time": "2025-02-10T20:43:56.984Z"
   },
   {
    "duration": 2,
    "start_time": "2025-02-10T20:51:17.214Z"
   },
   {
    "duration": 158,
    "start_time": "2025-02-10T20:51:17.587Z"
   },
   {
    "duration": 2,
    "start_time": "2025-02-10T20:56:15.150Z"
   },
   {
    "duration": 154,
    "start_time": "2025-02-10T20:56:15.394Z"
   },
   {
    "duration": 2,
    "start_time": "2025-02-10T21:06:17.581Z"
   },
   {
    "duration": 155,
    "start_time": "2025-02-10T21:06:17.974Z"
   },
   {
    "duration": 3,
    "start_time": "2025-02-10T21:06:27.694Z"
   },
   {
    "duration": 151,
    "start_time": "2025-02-10T21:06:27.950Z"
   },
   {
    "duration": 8,
    "start_time": "2025-02-10T21:06:40.646Z"
   },
   {
    "duration": 25,
    "start_time": "2025-02-10T21:07:12.956Z"
   },
   {
    "duration": 404,
    "start_time": "2025-02-10T21:08:32.710Z"
   },
   {
    "duration": 183,
    "start_time": "2025-02-10T21:08:33.116Z"
   },
   {
    "duration": 10,
    "start_time": "2025-02-10T21:08:33.301Z"
   },
   {
    "duration": 20,
    "start_time": "2025-02-10T21:08:33.313Z"
   },
   {
    "duration": 7,
    "start_time": "2025-02-10T21:08:33.343Z"
   },
   {
    "duration": 11,
    "start_time": "2025-02-10T21:08:33.352Z"
   },
   {
    "duration": 6,
    "start_time": "2025-02-10T21:08:33.364Z"
   },
   {
    "duration": 15,
    "start_time": "2025-02-10T21:08:33.372Z"
   },
   {
    "duration": 6,
    "start_time": "2025-02-10T21:08:33.388Z"
   },
   {
    "duration": 9,
    "start_time": "2025-02-10T21:08:33.397Z"
   },
   {
    "duration": 6,
    "start_time": "2025-02-10T21:08:33.442Z"
   },
   {
    "duration": 14,
    "start_time": "2025-02-10T21:08:33.450Z"
   },
   {
    "duration": 2,
    "start_time": "2025-02-10T21:08:33.466Z"
   },
   {
    "duration": 3,
    "start_time": "2025-02-10T21:08:33.470Z"
   },
   {
    "duration": 4,
    "start_time": "2025-02-10T21:08:33.474Z"
   },
   {
    "duration": 4,
    "start_time": "2025-02-10T21:08:33.479Z"
   },
   {
    "duration": 3,
    "start_time": "2025-02-10T21:08:33.484Z"
   },
   {
    "duration": 3,
    "start_time": "2025-02-10T21:08:33.489Z"
   },
   {
    "duration": 3,
    "start_time": "2025-02-10T21:08:33.493Z"
   },
   {
    "duration": 3,
    "start_time": "2025-02-10T21:08:33.498Z"
   },
   {
    "duration": 2,
    "start_time": "2025-02-10T21:08:33.542Z"
   },
   {
    "duration": 3,
    "start_time": "2025-02-10T21:08:33.546Z"
   },
   {
    "duration": 2,
    "start_time": "2025-02-10T21:08:33.551Z"
   },
   {
    "duration": 4,
    "start_time": "2025-02-10T21:08:33.554Z"
   },
   {
    "duration": 3,
    "start_time": "2025-02-10T21:08:33.559Z"
   },
   {
    "duration": 3,
    "start_time": "2025-02-10T21:08:33.564Z"
   },
   {
    "duration": 3,
    "start_time": "2025-02-10T21:08:33.568Z"
   },
   {
    "duration": 2,
    "start_time": "2025-02-10T21:08:33.574Z"
   },
   {
    "duration": 8,
    "start_time": "2025-02-10T21:10:20.268Z"
   },
   {
    "duration": 102,
    "start_time": "2025-02-10T21:13:43.813Z"
   },
   {
    "duration": 11,
    "start_time": "2025-02-10T21:13:48.056Z"
   },
   {
    "duration": 9,
    "start_time": "2025-02-10T21:13:58.112Z"
   },
   {
    "duration": 8,
    "start_time": "2025-02-10T21:18:36.706Z"
   },
   {
    "duration": 9,
    "start_time": "2025-02-10T21:18:43.462Z"
   },
   {
    "duration": 8,
    "start_time": "2025-02-10T21:22:10.733Z"
   },
   {
    "duration": 6,
    "start_time": "2025-02-10T21:23:17.027Z"
   },
   {
    "duration": 6,
    "start_time": "2025-02-10T21:23:54.810Z"
   },
   {
    "duration": 6,
    "start_time": "2025-02-10T21:25:53.369Z"
   },
   {
    "duration": 5,
    "start_time": "2025-02-10T21:26:05.429Z"
   },
   {
    "duration": 12,
    "start_time": "2025-02-10T21:26:49.293Z"
   },
   {
    "duration": 15,
    "start_time": "2025-02-10T21:31:58.537Z"
   },
   {
    "duration": 32,
    "start_time": "2025-02-10T21:32:16.635Z"
   },
   {
    "duration": 13,
    "start_time": "2025-02-10T21:32:32.829Z"
   },
   {
    "duration": 31,
    "start_time": "2025-02-10T21:33:38.417Z"
   },
   {
    "duration": 14,
    "start_time": "2025-02-10T21:33:38.847Z"
   },
   {
    "duration": 16,
    "start_time": "2025-02-10T21:34:09.742Z"
   },
   {
    "duration": 10,
    "start_time": "2025-02-10T21:34:10.172Z"
   },
   {
    "duration": 13,
    "start_time": "2025-02-10T21:34:38.950Z"
   },
   {
    "duration": 32,
    "start_time": "2025-02-10T21:35:00.914Z"
   },
   {
    "duration": 11,
    "start_time": "2025-02-10T21:35:01.515Z"
   },
   {
    "duration": 10,
    "start_time": "2025-02-10T21:38:21.416Z"
   },
   {
    "duration": 5,
    "start_time": "2025-02-10T21:38:37.066Z"
   },
   {
    "duration": 9,
    "start_time": "2025-02-10T21:38:53.270Z"
   },
   {
    "duration": 3,
    "start_time": "2025-02-10T21:39:09.347Z"
   },
   {
    "duration": 4,
    "start_time": "2025-02-10T21:39:13.261Z"
   },
   {
    "duration": 20,
    "start_time": "2025-02-10T21:39:29.279Z"
   },
   {
    "duration": 115,
    "start_time": "2025-02-10T21:40:57.749Z"
   },
   {
    "duration": 8,
    "start_time": "2025-02-10T21:41:01.982Z"
   },
   {
    "duration": 10,
    "start_time": "2025-02-10T21:43:06.095Z"
   },
   {
    "duration": 5,
    "start_time": "2025-02-10T21:43:26.588Z"
   },
   {
    "duration": 293,
    "start_time": "2025-02-10T21:43:49.130Z"
   },
   {
    "duration": 4,
    "start_time": "2025-02-10T21:44:28.356Z"
   },
   {
    "duration": 11,
    "start_time": "2025-02-10T21:45:02.779Z"
   },
   {
    "duration": 11,
    "start_time": "2025-02-10T21:48:07.920Z"
   },
   {
    "duration": 11,
    "start_time": "2025-02-10T21:48:14.212Z"
   },
   {
    "duration": 106,
    "start_time": "2025-02-10T21:51:40.379Z"
   },
   {
    "duration": 14,
    "start_time": "2025-02-10T21:51:46.435Z"
   },
   {
    "duration": 235,
    "start_time": "2025-02-10T21:52:08.744Z"
   },
   {
    "duration": 16,
    "start_time": "2025-02-10T21:52:38.305Z"
   },
   {
    "duration": 4,
    "start_time": "2025-02-10T21:53:03.105Z"
   },
   {
    "duration": 13,
    "start_time": "2025-02-10T21:53:13.134Z"
   },
   {
    "duration": 5,
    "start_time": "2025-02-10T21:53:51.357Z"
   },
   {
    "duration": 367,
    "start_time": "2025-02-10T21:55:10.267Z"
   },
   {
    "duration": 9,
    "start_time": "2025-02-10T21:55:27.736Z"
   },
   {
    "duration": 11,
    "start_time": "2025-02-10T21:55:34.423Z"
   },
   {
    "duration": 4,
    "start_time": "2025-02-10T21:55:45.034Z"
   },
   {
    "duration": 8,
    "start_time": "2025-02-10T21:55:55.249Z"
   },
   {
    "duration": 47,
    "start_time": "2025-02-10T21:56:53.135Z"
   },
   {
    "duration": 12,
    "start_time": "2025-02-10T21:56:57.206Z"
   },
   {
    "duration": 4,
    "start_time": "2025-02-10T21:57:07.471Z"
   },
   {
    "duration": 6,
    "start_time": "2025-02-10T21:57:30.024Z"
   },
   {
    "duration": 4,
    "start_time": "2025-02-10T21:58:01.436Z"
   },
   {
    "duration": 25,
    "start_time": "2025-02-10T21:58:14.784Z"
   },
   {
    "duration": 17,
    "start_time": "2025-02-10T21:59:10.881Z"
   },
   {
    "duration": 19,
    "start_time": "2025-02-10T22:00:43.150Z"
   },
   {
    "duration": 17,
    "start_time": "2025-02-10T22:02:47.883Z"
   },
   {
    "duration": 4,
    "start_time": "2025-02-10T22:02:49.557Z"
   },
   {
    "duration": 19,
    "start_time": "2025-02-10T22:05:22.226Z"
   },
   {
    "duration": 14,
    "start_time": "2025-02-10T22:06:32.698Z"
   },
   {
    "duration": 15,
    "start_time": "2025-02-10T22:08:05.995Z"
   },
   {
    "duration": 11,
    "start_time": "2025-02-10T22:09:01.777Z"
   },
   {
    "duration": 20,
    "start_time": "2025-02-10T22:09:52.031Z"
   },
   {
    "duration": 198,
    "start_time": "2025-02-10T22:11:52.168Z"
   },
   {
    "duration": 5,
    "start_time": "2025-02-10T22:12:02.013Z"
   },
   {
    "duration": 10,
    "start_time": "2025-02-10T22:15:06.935Z"
   },
   {
    "duration": 13,
    "start_time": "2025-02-10T22:16:56.528Z"
   },
   {
    "duration": 9,
    "start_time": "2025-02-10T22:17:31.651Z"
   },
   {
    "duration": 10,
    "start_time": "2025-02-10T22:17:45.733Z"
   },
   {
    "duration": 11,
    "start_time": "2025-02-10T22:17:55.327Z"
   },
   {
    "duration": 32,
    "start_time": "2025-02-10T22:19:19.418Z"
   },
   {
    "duration": 11,
    "start_time": "2025-02-10T22:19:45.537Z"
   },
   {
    "duration": 17,
    "start_time": "2025-02-10T22:20:09.358Z"
   },
   {
    "duration": 17,
    "start_time": "2025-02-10T22:20:30.380Z"
   },
   {
    "duration": 12,
    "start_time": "2025-02-10T22:20:33.434Z"
   },
   {
    "duration": 2,
    "start_time": "2025-02-10T22:21:25.657Z"
   },
   {
    "duration": 149,
    "start_time": "2025-02-10T22:23:56.963Z"
   },
   {
    "duration": 16,
    "start_time": "2025-02-10T22:24:01.621Z"
   },
   {
    "duration": 11,
    "start_time": "2025-02-10T22:24:17.110Z"
   },
   {
    "duration": 208,
    "start_time": "2025-02-10T22:25:44.511Z"
   },
   {
    "duration": 16,
    "start_time": "2025-02-10T22:25:59.642Z"
   },
   {
    "duration": 11,
    "start_time": "2025-02-10T22:26:08.910Z"
   },
   {
    "duration": 130,
    "start_time": "2025-02-10T22:37:01.159Z"
   },
   {
    "duration": 36,
    "start_time": "2025-02-10T22:37:15.827Z"
   },
   {
    "duration": 34,
    "start_time": "2025-02-10T22:37:29.819Z"
   },
   {
    "duration": 6,
    "start_time": "2025-02-10T22:39:21.802Z"
   },
   {
    "duration": 12,
    "start_time": "2025-02-10T22:39:26.452Z"
   },
   {
    "duration": 17,
    "start_time": "2025-02-10T22:39:44.391Z"
   },
   {
    "duration": 19,
    "start_time": "2025-02-10T22:40:03.887Z"
   },
   {
    "duration": 60,
    "start_time": "2025-02-10T22:40:23.612Z"
   },
   {
    "duration": 49,
    "start_time": "2025-02-10T22:41:05.402Z"
   },
   {
    "duration": 46,
    "start_time": "2025-02-10T22:41:08.130Z"
   },
   {
    "duration": 20,
    "start_time": "2025-02-10T22:41:16.102Z"
   },
   {
    "duration": 101,
    "start_time": "2025-02-10T22:41:48.433Z"
   },
   {
    "duration": 21,
    "start_time": "2025-02-10T22:43:49.295Z"
   },
   {
    "duration": 19,
    "start_time": "2025-02-10T22:44:47.304Z"
   },
   {
    "duration": 17,
    "start_time": "2025-02-10T22:45:08.159Z"
   },
   {
    "duration": 20,
    "start_time": "2025-02-10T22:45:38.010Z"
   },
   {
    "duration": 14,
    "start_time": "2025-02-10T22:46:26.070Z"
   },
   {
    "duration": 15,
    "start_time": "2025-02-10T22:46:38.198Z"
   },
   {
    "duration": 13,
    "start_time": "2025-02-10T22:46:41.405Z"
   },
   {
    "duration": 20,
    "start_time": "2025-02-10T22:46:45.329Z"
   },
   {
    "duration": 20,
    "start_time": "2025-02-10T22:46:52.462Z"
   },
   {
    "duration": 158,
    "start_time": "2025-02-11T04:53:44.521Z"
   },
   {
    "duration": 2227,
    "start_time": "2025-02-11T04:53:49.355Z"
   },
   {
    "duration": 229,
    "start_time": "2025-02-11T04:53:51.584Z"
   },
   {
    "duration": 14,
    "start_time": "2025-02-11T04:53:51.814Z"
   },
   {
    "duration": 11,
    "start_time": "2025-02-11T04:53:51.830Z"
   },
   {
    "duration": 8,
    "start_time": "2025-02-11T04:53:51.843Z"
   },
   {
    "duration": 7,
    "start_time": "2025-02-11T04:53:51.853Z"
   },
   {
    "duration": 6,
    "start_time": "2025-02-11T04:53:51.862Z"
   },
   {
    "duration": 5,
    "start_time": "2025-02-11T04:53:51.870Z"
   },
   {
    "duration": 31,
    "start_time": "2025-02-11T04:53:51.877Z"
   },
   {
    "duration": 7,
    "start_time": "2025-02-11T04:53:51.912Z"
   },
   {
    "duration": 6,
    "start_time": "2025-02-11T04:53:51.921Z"
   },
   {
    "duration": 15,
    "start_time": "2025-02-11T04:53:51.930Z"
   },
   {
    "duration": 61,
    "start_time": "2025-02-11T04:53:51.946Z"
   },
   {
    "duration": 13,
    "start_time": "2025-02-11T04:53:52.009Z"
   },
   {
    "duration": 16,
    "start_time": "2025-02-11T04:53:52.023Z"
   },
   {
    "duration": 12,
    "start_time": "2025-02-11T04:53:52.041Z"
   },
   {
    "duration": 6,
    "start_time": "2025-02-11T04:53:52.055Z"
   },
   {
    "duration": 12,
    "start_time": "2025-02-11T04:53:52.062Z"
   },
   {
    "duration": 37,
    "start_time": "2025-02-11T04:53:52.076Z"
   },
   {
    "duration": 14,
    "start_time": "2025-02-11T04:53:52.114Z"
   },
   {
    "duration": 8,
    "start_time": "2025-02-11T04:53:52.129Z"
   },
   {
    "duration": 10,
    "start_time": "2025-02-11T04:53:52.138Z"
   },
   {
    "duration": 6,
    "start_time": "2025-02-11T04:53:52.150Z"
   },
   {
    "duration": 13,
    "start_time": "2025-02-11T04:53:52.157Z"
   },
   {
    "duration": 45,
    "start_time": "2025-02-11T04:53:52.171Z"
   },
   {
    "duration": 36,
    "start_time": "2025-02-11T04:53:52.218Z"
   },
   {
    "duration": 8,
    "start_time": "2025-02-11T04:53:52.256Z"
   },
   {
    "duration": 37,
    "start_time": "2025-02-11T04:53:52.268Z"
   },
   {
    "duration": 7,
    "start_time": "2025-02-11T04:53:52.307Z"
   },
   {
    "duration": 21,
    "start_time": "2025-02-11T04:53:52.316Z"
   },
   {
    "duration": 11,
    "start_time": "2025-02-11T04:53:52.339Z"
   },
   {
    "duration": 13,
    "start_time": "2025-02-11T04:53:52.351Z"
   },
   {
    "duration": 42,
    "start_time": "2025-02-11T04:53:52.366Z"
   },
   {
    "duration": 27,
    "start_time": "2025-02-11T04:53:52.410Z"
   },
   {
    "duration": 13,
    "start_time": "2025-02-11T04:53:52.439Z"
   },
   {
    "duration": 2,
    "start_time": "2025-02-11T04:53:52.454Z"
   },
   {
    "duration": 3,
    "start_time": "2025-02-11T04:53:52.458Z"
   },
   {
    "duration": 3,
    "start_time": "2025-02-11T04:53:52.462Z"
   },
   {
    "duration": 2,
    "start_time": "2025-02-11T04:53:52.467Z"
   },
   {
    "duration": 2,
    "start_time": "2025-02-11T04:53:52.471Z"
   },
   {
    "duration": 4,
    "start_time": "2025-02-11T04:53:52.506Z"
   },
   {
    "duration": 2,
    "start_time": "2025-02-11T04:53:52.512Z"
   },
   {
    "duration": 3,
    "start_time": "2025-02-11T04:53:52.515Z"
   },
   {
    "duration": 3,
    "start_time": "2025-02-11T04:53:52.519Z"
   },
   {
    "duration": 5,
    "start_time": "2025-02-11T04:54:05.182Z"
   },
   {
    "duration": 67,
    "start_time": "2025-02-11T04:54:09.697Z"
   },
   {
    "duration": 12,
    "start_time": "2025-02-11T04:54:17.301Z"
   },
   {
    "duration": 18,
    "start_time": "2025-02-11T04:54:23.541Z"
   },
   {
    "duration": 79,
    "start_time": "2025-02-11T04:55:52.620Z"
   },
   {
    "duration": 84,
    "start_time": "2025-02-11T04:56:44.667Z"
   },
   {
    "duration": 19,
    "start_time": "2025-02-11T04:59:27.009Z"
   },
   {
    "duration": 701,
    "start_time": "2025-02-11T05:00:12.460Z"
   },
   {
    "duration": 51,
    "start_time": "2025-02-11T05:00:53.047Z"
   },
   {
    "duration": 4,
    "start_time": "2025-02-11T05:02:42.820Z"
   },
   {
    "duration": 17,
    "start_time": "2025-02-11T05:03:05.323Z"
   },
   {
    "duration": 21,
    "start_time": "2025-02-11T05:03:37.127Z"
   },
   {
    "duration": 22,
    "start_time": "2025-02-11T05:03:52.777Z"
   },
   {
    "duration": 17,
    "start_time": "2025-02-11T05:04:11.129Z"
   },
   {
    "duration": 12,
    "start_time": "2025-02-11T05:04:19.095Z"
   },
   {
    "duration": 12,
    "start_time": "2025-02-11T05:04:22.887Z"
   },
   {
    "duration": 92,
    "start_time": "2025-02-11T05:04:23.962Z"
   },
   {
    "duration": 91,
    "start_time": "2025-02-11T05:05:58.389Z"
   },
   {
    "duration": 2,
    "start_time": "2025-02-11T05:06:03.839Z"
   },
   {
    "duration": 13,
    "start_time": "2025-02-11T05:11:07.505Z"
   },
   {
    "duration": 17,
    "start_time": "2025-02-11T05:12:01.258Z"
   },
   {
    "duration": 17,
    "start_time": "2025-02-11T05:12:08.616Z"
   },
   {
    "duration": 25,
    "start_time": "2025-02-11T05:12:16.148Z"
   },
   {
    "duration": 3,
    "start_time": "2025-02-11T05:13:00.463Z"
   },
   {
    "duration": 400,
    "start_time": "2025-02-12T16:43:57.100Z"
   },
   {
    "duration": 183,
    "start_time": "2025-02-12T16:43:57.502Z"
   },
   {
    "duration": 11,
    "start_time": "2025-02-12T16:43:57.686Z"
   },
   {
    "duration": 9,
    "start_time": "2025-02-12T16:43:57.705Z"
   },
   {
    "duration": 9,
    "start_time": "2025-02-12T16:43:57.718Z"
   },
   {
    "duration": 8,
    "start_time": "2025-02-12T16:43:57.728Z"
   },
   {
    "duration": 5,
    "start_time": "2025-02-12T16:43:57.738Z"
   },
   {
    "duration": 7,
    "start_time": "2025-02-12T16:43:57.745Z"
   },
   {
    "duration": 7,
    "start_time": "2025-02-12T16:43:57.755Z"
   },
   {
    "duration": 43,
    "start_time": "2025-02-12T16:43:57.764Z"
   },
   {
    "duration": 7,
    "start_time": "2025-02-12T16:43:57.808Z"
   },
   {
    "duration": 15,
    "start_time": "2025-02-12T16:43:57.817Z"
   },
   {
    "duration": 32,
    "start_time": "2025-02-12T16:43:57.834Z"
   },
   {
    "duration": 36,
    "start_time": "2025-02-12T16:43:57.871Z"
   },
   {
    "duration": 15,
    "start_time": "2025-02-12T16:43:57.909Z"
   },
   {
    "duration": 12,
    "start_time": "2025-02-12T16:43:57.926Z"
   },
   {
    "duration": 6,
    "start_time": "2025-02-12T16:43:57.939Z"
   },
   {
    "duration": 11,
    "start_time": "2025-02-12T16:43:57.946Z"
   },
   {
    "duration": 9,
    "start_time": "2025-02-12T16:43:57.958Z"
   },
   {
    "duration": 40,
    "start_time": "2025-02-12T16:43:57.968Z"
   },
   {
    "duration": 8,
    "start_time": "2025-02-12T16:43:58.010Z"
   },
   {
    "duration": 9,
    "start_time": "2025-02-12T16:43:58.020Z"
   },
   {
    "duration": 6,
    "start_time": "2025-02-12T16:43:58.031Z"
   },
   {
    "duration": 12,
    "start_time": "2025-02-12T16:43:58.039Z"
   },
   {
    "duration": 11,
    "start_time": "2025-02-12T16:43:58.053Z"
   },
   {
    "duration": 63,
    "start_time": "2025-02-12T16:43:58.066Z"
   },
   {
    "duration": 8,
    "start_time": "2025-02-12T16:43:58.130Z"
   },
   {
    "duration": 11,
    "start_time": "2025-02-12T16:43:58.140Z"
   },
   {
    "duration": 7,
    "start_time": "2025-02-12T16:43:58.152Z"
   },
   {
    "duration": 49,
    "start_time": "2025-02-12T16:43:58.160Z"
   },
   {
    "duration": 12,
    "start_time": "2025-02-12T16:43:58.211Z"
   },
   {
    "duration": 13,
    "start_time": "2025-02-12T16:43:58.224Z"
   },
   {
    "duration": 13,
    "start_time": "2025-02-12T16:43:58.238Z"
   },
   {
    "duration": 102,
    "start_time": "2025-02-12T16:43:58.252Z"
   },
   {
    "duration": 2,
    "start_time": "2025-02-12T16:43:58.356Z"
   },
   {
    "duration": 3,
    "start_time": "2025-02-12T16:43:58.359Z"
   },
   {
    "duration": 2,
    "start_time": "2025-02-12T16:43:58.363Z"
   },
   {
    "duration": 2,
    "start_time": "2025-02-12T16:43:58.367Z"
   },
   {
    "duration": 3,
    "start_time": "2025-02-12T16:43:58.370Z"
   },
   {
    "duration": 3,
    "start_time": "2025-02-12T16:43:58.374Z"
   },
   {
    "duration": 2,
    "start_time": "2025-02-12T16:43:58.406Z"
   },
   {
    "duration": 2,
    "start_time": "2025-02-12T16:43:58.410Z"
   },
   {
    "duration": 3,
    "start_time": "2025-02-12T16:43:58.413Z"
   },
   {
    "duration": 3,
    "start_time": "2025-02-12T16:43:58.417Z"
   },
   {
    "duration": 90,
    "start_time": "2025-02-12T16:44:06.703Z"
   },
   {
    "duration": 95,
    "start_time": "2025-02-12T16:44:23.890Z"
   },
   {
    "duration": 80,
    "start_time": "2025-02-12T16:48:56.612Z"
   },
   {
    "duration": 95,
    "start_time": "2025-02-12T16:55:30.498Z"
   },
   {
    "duration": 89,
    "start_time": "2025-02-12T16:55:38.763Z"
   },
   {
    "duration": 13,
    "start_time": "2025-02-12T16:57:39.711Z"
   },
   {
    "duration": 102,
    "start_time": "2025-02-12T16:58:49.175Z"
   },
   {
    "duration": 17,
    "start_time": "2025-02-12T16:59:12.942Z"
   },
   {
    "duration": 13,
    "start_time": "2025-02-12T16:59:13.417Z"
   },
   {
    "duration": 14,
    "start_time": "2025-02-12T16:59:14.123Z"
   },
   {
    "duration": 11,
    "start_time": "2025-02-12T16:59:14.855Z"
   },
   {
    "duration": 89,
    "start_time": "2025-02-12T16:59:16.043Z"
   },
   {
    "duration": 17,
    "start_time": "2025-02-12T16:59:16.858Z"
   },
   {
    "duration": 17,
    "start_time": "2025-02-12T16:59:34.319Z"
   },
   {
    "duration": 24,
    "start_time": "2025-02-12T17:00:38.575Z"
   },
   {
    "duration": 17,
    "start_time": "2025-02-12T17:00:39.062Z"
   },
   {
    "duration": 12,
    "start_time": "2025-02-12T17:00:39.854Z"
   },
   {
    "duration": 20,
    "start_time": "2025-02-12T17:00:40.723Z"
   },
   {
    "duration": 16,
    "start_time": "2025-02-12T17:00:53.219Z"
   },
   {
    "duration": 18,
    "start_time": "2025-02-12T17:01:00.297Z"
   },
   {
    "duration": 12,
    "start_time": "2025-02-12T17:01:10.094Z"
   },
   {
    "duration": 18,
    "start_time": "2025-02-12T17:01:14.134Z"
   },
   {
    "duration": 91,
    "start_time": "2025-02-12T17:01:17.322Z"
   },
   {
    "duration": 30,
    "start_time": "2025-02-12T17:01:28.804Z"
   },
   {
    "duration": 18,
    "start_time": "2025-02-12T17:01:51.023Z"
   },
   {
    "duration": 21,
    "start_time": "2025-02-12T17:01:59.106Z"
   },
   {
    "duration": 14,
    "start_time": "2025-02-12T17:08:36.258Z"
   },
   {
    "duration": 17,
    "start_time": "2025-02-12T17:08:40.295Z"
   },
   {
    "duration": 16,
    "start_time": "2025-02-12T17:09:23.675Z"
   },
   {
    "duration": 404,
    "start_time": "2025-02-12T17:10:55.085Z"
   },
   {
    "duration": 30,
    "start_time": "2025-02-12T17:11:36.833Z"
   },
   {
    "duration": 15,
    "start_time": "2025-02-12T17:11:43.290Z"
   },
   {
    "duration": 14,
    "start_time": "2025-02-12T17:12:08.915Z"
   },
   {
    "duration": 20,
    "start_time": "2025-02-12T17:12:38.275Z"
   },
   {
    "duration": 7,
    "start_time": "2025-02-12T17:12:41.333Z"
   },
   {
    "duration": 12,
    "start_time": "2025-02-12T17:12:48.202Z"
   },
   {
    "duration": 11,
    "start_time": "2025-02-12T17:12:52.031Z"
   },
   {
    "duration": 14,
    "start_time": "2025-02-12T17:13:45.590Z"
   },
   {
    "duration": 11,
    "start_time": "2025-02-12T17:19:04.021Z"
   },
   {
    "duration": 12,
    "start_time": "2025-02-12T17:20:05.051Z"
   },
   {
    "duration": 11,
    "start_time": "2025-02-12T17:20:12.544Z"
   },
   {
    "duration": 13,
    "start_time": "2025-02-12T17:27:45.827Z"
   },
   {
    "duration": 8,
    "start_time": "2025-02-12T17:27:48.965Z"
   },
   {
    "duration": 199,
    "start_time": "2025-02-12T17:44:14.896Z"
   },
   {
    "duration": 6,
    "start_time": "2025-02-12T17:44:20.631Z"
   },
   {
    "duration": 6,
    "start_time": "2025-02-12T17:44:26.093Z"
   },
   {
    "duration": 12,
    "start_time": "2025-02-12T17:44:35.100Z"
   },
   {
    "duration": 43,
    "start_time": "2025-02-12T17:44:39.687Z"
   },
   {
    "duration": 3,
    "start_time": "2025-02-12T17:44:54.524Z"
   },
   {
    "duration": 17,
    "start_time": "2025-02-12T17:46:15.587Z"
   },
   {
    "duration": 4,
    "start_time": "2025-02-12T17:46:21.628Z"
   },
   {
    "duration": 5,
    "start_time": "2025-02-12T17:49:34.627Z"
   },
   {
    "duration": 5,
    "start_time": "2025-02-12T17:53:27.350Z"
   },
   {
    "duration": 140,
    "start_time": "2025-02-12T17:56:11.157Z"
   },
   {
    "duration": 117,
    "start_time": "2025-02-12T17:56:29.725Z"
   },
   {
    "duration": 56,
    "start_time": "2025-02-12T17:58:14.667Z"
   },
   {
    "duration": 46,
    "start_time": "2025-02-12T17:58:55.602Z"
   },
   {
    "duration": 5,
    "start_time": "2025-02-12T17:59:14.004Z"
   },
   {
    "duration": 46,
    "start_time": "2025-02-12T17:59:19.202Z"
   },
   {
    "duration": 47,
    "start_time": "2025-02-12T18:00:40.200Z"
   },
   {
    "duration": 173,
    "start_time": "2025-02-12T18:02:18.155Z"
   },
   {
    "duration": 13,
    "start_time": "2025-02-12T18:08:51.800Z"
   },
   {
    "duration": 15,
    "start_time": "2025-02-12T18:13:28.400Z"
   },
   {
    "duration": 11,
    "start_time": "2025-02-12T18:13:32.883Z"
   },
   {
    "duration": 13,
    "start_time": "2025-02-12T18:13:33.304Z"
   },
   {
    "duration": 15,
    "start_time": "2025-02-12T18:15:02.475Z"
   },
   {
    "duration": 17,
    "start_time": "2025-02-12T18:16:16.236Z"
   },
   {
    "duration": 33,
    "start_time": "2025-02-12T18:16:24.637Z"
   },
   {
    "duration": 27,
    "start_time": "2025-02-12T18:16:47.960Z"
   },
   {
    "duration": 34,
    "start_time": "2025-02-12T18:16:54.920Z"
   },
   {
    "duration": 10,
    "start_time": "2025-02-12T18:17:08.159Z"
   },
   {
    "duration": 17,
    "start_time": "2025-02-12T18:17:08.589Z"
   },
   {
    "duration": 11,
    "start_time": "2025-02-12T18:17:19.678Z"
   },
   {
    "duration": 16,
    "start_time": "2025-02-12T18:17:20.077Z"
   },
   {
    "duration": 6,
    "start_time": "2025-02-12T18:19:20.117Z"
   },
   {
    "duration": 4,
    "start_time": "2025-02-12T18:19:33.795Z"
   },
   {
    "duration": 5,
    "start_time": "2025-02-12T18:19:47.648Z"
   },
   {
    "duration": 14,
    "start_time": "2025-02-12T18:19:56.406Z"
   },
   {
    "duration": 5,
    "start_time": "2025-02-12T18:21:50.551Z"
   },
   {
    "duration": 34,
    "start_time": "2025-02-12T18:22:28.523Z"
   },
   {
    "duration": 449,
    "start_time": "2025-02-12T19:43:36.021Z"
   },
   {
    "duration": 207,
    "start_time": "2025-02-12T19:43:36.475Z"
   },
   {
    "duration": 10,
    "start_time": "2025-02-12T19:43:36.684Z"
   },
   {
    "duration": 10,
    "start_time": "2025-02-12T19:43:36.697Z"
   },
   {
    "duration": 8,
    "start_time": "2025-02-12T19:43:36.709Z"
   },
   {
    "duration": 7,
    "start_time": "2025-02-12T19:43:36.719Z"
   },
   {
    "duration": 5,
    "start_time": "2025-02-12T19:43:36.728Z"
   },
   {
    "duration": 7,
    "start_time": "2025-02-12T19:43:36.734Z"
   },
   {
    "duration": 5,
    "start_time": "2025-02-12T19:43:36.742Z"
   },
   {
    "duration": 8,
    "start_time": "2025-02-12T19:43:36.751Z"
   },
   {
    "duration": 47,
    "start_time": "2025-02-12T19:43:36.760Z"
   },
   {
    "duration": 16,
    "start_time": "2025-02-12T19:43:36.809Z"
   },
   {
    "duration": 33,
    "start_time": "2025-02-12T19:43:36.827Z"
   },
   {
    "duration": 13,
    "start_time": "2025-02-12T19:43:36.862Z"
   },
   {
    "duration": 36,
    "start_time": "2025-02-12T19:43:36.876Z"
   },
   {
    "duration": 12,
    "start_time": "2025-02-12T19:43:36.914Z"
   },
   {
    "duration": 6,
    "start_time": "2025-02-12T19:43:36.928Z"
   },
   {
    "duration": 11,
    "start_time": "2025-02-12T19:43:36.936Z"
   },
   {
    "duration": 9,
    "start_time": "2025-02-12T19:43:36.948Z"
   },
   {
    "duration": 48,
    "start_time": "2025-02-12T19:43:36.958Z"
   },
   {
    "duration": 8,
    "start_time": "2025-02-12T19:43:37.007Z"
   },
   {
    "duration": 11,
    "start_time": "2025-02-12T19:43:37.016Z"
   },
   {
    "duration": 6,
    "start_time": "2025-02-12T19:43:37.029Z"
   },
   {
    "duration": 14,
    "start_time": "2025-02-12T19:43:37.037Z"
   },
   {
    "duration": 13,
    "start_time": "2025-02-12T19:43:37.052Z"
   },
   {
    "duration": 64,
    "start_time": "2025-02-12T19:43:37.066Z"
   },
   {
    "duration": 8,
    "start_time": "2025-02-12T19:43:37.132Z"
   },
   {
    "duration": 10,
    "start_time": "2025-02-12T19:43:37.144Z"
   },
   {
    "duration": 8,
    "start_time": "2025-02-12T19:43:37.156Z"
   },
   {
    "duration": 42,
    "start_time": "2025-02-12T19:43:37.165Z"
   },
   {
    "duration": 11,
    "start_time": "2025-02-12T19:43:37.208Z"
   },
   {
    "duration": 12,
    "start_time": "2025-02-12T19:43:37.221Z"
   },
   {
    "duration": 12,
    "start_time": "2025-02-12T19:43:37.235Z"
   },
   {
    "duration": 10,
    "start_time": "2025-02-12T19:43:37.249Z"
   },
   {
    "duration": 15,
    "start_time": "2025-02-12T19:43:37.261Z"
   },
   {
    "duration": 3,
    "start_time": "2025-02-12T19:43:37.305Z"
   },
   {
    "duration": 33,
    "start_time": "2025-02-12T19:43:37.311Z"
   },
   {
    "duration": 7,
    "start_time": "2025-02-12T19:43:37.345Z"
   },
   {
    "duration": 63,
    "start_time": "2025-02-12T19:43:37.353Z"
   },
   {
    "duration": 2,
    "start_time": "2025-02-12T19:43:37.418Z"
   },
   {
    "duration": 3,
    "start_time": "2025-02-12T19:43:37.422Z"
   },
   {
    "duration": 3,
    "start_time": "2025-02-12T19:43:37.427Z"
   },
   {
    "duration": 2,
    "start_time": "2025-02-12T19:43:37.432Z"
   },
   {
    "duration": 3,
    "start_time": "2025-02-12T19:43:37.435Z"
   },
   {
    "duration": 2,
    "start_time": "2025-02-12T19:43:37.441Z"
   },
   {
    "duration": 2,
    "start_time": "2025-02-12T19:43:37.444Z"
   },
   {
    "duration": 2,
    "start_time": "2025-02-12T19:43:37.448Z"
   },
   {
    "duration": 38,
    "start_time": "2025-02-12T19:43:51.505Z"
   },
   {
    "duration": 35,
    "start_time": "2025-02-12T19:44:46.368Z"
   },
   {
    "duration": 34,
    "start_time": "2025-02-12T19:45:06.162Z"
   },
   {
    "duration": 33,
    "start_time": "2025-02-12T19:45:15.697Z"
   },
   {
    "duration": 110,
    "start_time": "2025-02-12T19:45:48.879Z"
   },
   {
    "duration": 24,
    "start_time": "2025-02-12T19:46:16.528Z"
   },
   {
    "duration": 33,
    "start_time": "2025-02-12T19:46:38.085Z"
   },
   {
    "duration": 19,
    "start_time": "2025-02-12T19:47:48.651Z"
   },
   {
    "duration": 33,
    "start_time": "2025-02-12T19:47:54.730Z"
   },
   {
    "duration": 26,
    "start_time": "2025-02-12T19:48:31.950Z"
   },
   {
    "duration": 683,
    "start_time": "2025-02-12T19:49:01.223Z"
   },
   {
    "duration": 80,
    "start_time": "2025-02-12T19:49:10.308Z"
   },
   {
    "duration": 19,
    "start_time": "2025-02-12T19:51:03.295Z"
   },
   {
    "duration": 27,
    "start_time": "2025-02-12T19:51:09.873Z"
   },
   {
    "duration": 32,
    "start_time": "2025-02-12T19:52:07.604Z"
   },
   {
    "duration": 53,
    "start_time": "2025-02-12T19:52:17.242Z"
   },
   {
    "duration": 52,
    "start_time": "2025-02-12T19:53:06.642Z"
   },
   {
    "duration": 25,
    "start_time": "2025-02-12T19:54:00.319Z"
   },
   {
    "duration": 37,
    "start_time": "2025-02-12T19:54:10.623Z"
   },
   {
    "duration": 153,
    "start_time": "2025-02-12T19:54:12.153Z"
   },
   {
    "duration": 50,
    "start_time": "2025-02-12T19:54:30.735Z"
   },
   {
    "duration": 24,
    "start_time": "2025-02-12T19:54:55.498Z"
   },
   {
    "duration": 13,
    "start_time": "2025-02-12T19:54:56.106Z"
   },
   {
    "duration": 14,
    "start_time": "2025-02-12T19:54:56.851Z"
   },
   {
    "duration": 13,
    "start_time": "2025-02-12T19:54:57.252Z"
   },
   {
    "duration": 18,
    "start_time": "2025-02-12T19:55:05.605Z"
   },
   {
    "duration": 51,
    "start_time": "2025-02-12T19:55:07.066Z"
   },
   {
    "duration": 2,
    "start_time": "2025-02-12T19:57:27.315Z"
   },
   {
    "duration": 161,
    "start_time": "2025-02-12T19:57:52.869Z"
   },
   {
    "duration": 240,
    "start_time": "2025-02-12T20:02:30.066Z"
   },
   {
    "duration": 244,
    "start_time": "2025-02-12T20:02:30.363Z"
   },
   {
    "duration": 29,
    "start_time": "2025-02-12T20:02:30.711Z"
   },
   {
    "duration": 27,
    "start_time": "2025-02-12T20:02:37.616Z"
   },
   {
    "duration": 460,
    "start_time": "2025-02-12T20:02:43.332Z"
   },
   {
    "duration": 201,
    "start_time": "2025-02-12T20:02:43.794Z"
   },
   {
    "duration": 11,
    "start_time": "2025-02-12T20:02:43.996Z"
   },
   {
    "duration": 11,
    "start_time": "2025-02-12T20:02:44.009Z"
   },
   {
    "duration": 8,
    "start_time": "2025-02-12T20:02:44.023Z"
   },
   {
    "duration": 10,
    "start_time": "2025-02-12T20:02:44.033Z"
   },
   {
    "duration": 5,
    "start_time": "2025-02-12T20:02:44.045Z"
   },
   {
    "duration": 8,
    "start_time": "2025-02-12T20:02:44.052Z"
   },
   {
    "duration": 44,
    "start_time": "2025-02-12T20:02:44.061Z"
   },
   {
    "duration": 11,
    "start_time": "2025-02-12T20:02:44.107Z"
   },
   {
    "duration": 7,
    "start_time": "2025-02-12T20:02:44.120Z"
   },
   {
    "duration": 17,
    "start_time": "2025-02-12T20:02:44.129Z"
   },
   {
    "duration": 60,
    "start_time": "2025-02-12T20:02:44.149Z"
   },
   {
    "duration": 14,
    "start_time": "2025-02-12T20:02:44.212Z"
   },
   {
    "duration": 17,
    "start_time": "2025-02-12T20:02:44.228Z"
   },
   {
    "duration": 13,
    "start_time": "2025-02-12T20:02:44.246Z"
   },
   {
    "duration": 6,
    "start_time": "2025-02-12T20:02:44.261Z"
   },
   {
    "duration": 43,
    "start_time": "2025-02-12T20:02:44.268Z"
   },
   {
    "duration": 10,
    "start_time": "2025-02-12T20:02:44.313Z"
   },
   {
    "duration": 14,
    "start_time": "2025-02-12T20:02:44.325Z"
   },
   {
    "duration": 8,
    "start_time": "2025-02-12T20:02:44.340Z"
   },
   {
    "duration": 11,
    "start_time": "2025-02-12T20:02:44.350Z"
   },
   {
    "duration": 7,
    "start_time": "2025-02-12T20:02:44.363Z"
   },
   {
    "duration": 15,
    "start_time": "2025-02-12T20:02:44.406Z"
   },
   {
    "duration": 13,
    "start_time": "2025-02-12T20:02:44.423Z"
   },
   {
    "duration": 39,
    "start_time": "2025-02-12T20:02:44.438Z"
   },
   {
    "duration": 34,
    "start_time": "2025-02-12T20:02:44.479Z"
   },
   {
    "duration": 12,
    "start_time": "2025-02-12T20:02:44.514Z"
   },
   {
    "duration": 21,
    "start_time": "2025-02-12T20:02:44.527Z"
   },
   {
    "duration": 11,
    "start_time": "2025-02-12T20:02:44.550Z"
   },
   {
    "duration": 13,
    "start_time": "2025-02-12T20:02:44.563Z"
   },
   {
    "duration": 38,
    "start_time": "2025-02-12T20:02:44.577Z"
   },
   {
    "duration": 19,
    "start_time": "2025-02-12T20:02:44.617Z"
   },
   {
    "duration": 50,
    "start_time": "2025-02-12T20:02:44.638Z"
   },
   {
    "duration": 2,
    "start_time": "2025-02-12T20:02:44.706Z"
   },
   {
    "duration": 5,
    "start_time": "2025-02-12T20:02:44.710Z"
   },
   {
    "duration": 3,
    "start_time": "2025-02-12T20:02:44.717Z"
   },
   {
    "duration": 3,
    "start_time": "2025-02-12T20:02:44.722Z"
   },
   {
    "duration": 2,
    "start_time": "2025-02-12T20:02:44.728Z"
   },
   {
    "duration": 4,
    "start_time": "2025-02-12T20:02:44.732Z"
   },
   {
    "duration": 2,
    "start_time": "2025-02-12T20:02:44.741Z"
   },
   {
    "duration": 3,
    "start_time": "2025-02-12T20:02:44.744Z"
   },
   {
    "duration": 23,
    "start_time": "2025-02-12T20:02:48.854Z"
   },
   {
    "duration": 14,
    "start_time": "2025-02-12T20:02:49.338Z"
   },
   {
    "duration": 14,
    "start_time": "2025-02-12T20:02:49.806Z"
   },
   {
    "duration": 14,
    "start_time": "2025-02-12T20:02:50.262Z"
   },
   {
    "duration": 19,
    "start_time": "2025-02-12T20:02:50.889Z"
   },
   {
    "duration": 55,
    "start_time": "2025-02-12T20:02:51.595Z"
   },
   {
    "duration": 8,
    "start_time": "2025-02-12T20:07:05.259Z"
   },
   {
    "duration": 213,
    "start_time": "2025-02-12T20:07:34.612Z"
   },
   {
    "duration": 18,
    "start_time": "2025-02-12T20:07:44.566Z"
   },
   {
    "duration": 10,
    "start_time": "2025-02-12T20:07:50.764Z"
   },
   {
    "duration": 7,
    "start_time": "2025-02-12T20:10:04.724Z"
   },
   {
    "duration": 25,
    "start_time": "2025-02-12T20:10:45.846Z"
   },
   {
    "duration": 16,
    "start_time": "2025-02-12T20:11:00.816Z"
   },
   {
    "duration": 15,
    "start_time": "2025-02-12T20:11:10.449Z"
   },
   {
    "duration": 16,
    "start_time": "2025-02-12T20:11:21.970Z"
   },
   {
    "duration": 15,
    "start_time": "2025-02-12T20:11:27.535Z"
   },
   {
    "duration": 18,
    "start_time": "2025-02-12T20:13:04.734Z"
   },
   {
    "duration": 54,
    "start_time": "2025-02-12T20:13:05.424Z"
   },
   {
    "duration": 14,
    "start_time": "2025-02-12T20:13:31.138Z"
   },
   {
    "duration": 201,
    "start_time": "2025-02-12T20:17:14.353Z"
   },
   {
    "duration": 167,
    "start_time": "2025-02-12T20:18:50.722Z"
   },
   {
    "duration": 164,
    "start_time": "2025-02-12T20:19:21.247Z"
   },
   {
    "duration": 17,
    "start_time": "2025-02-12T20:25:33.527Z"
   },
   {
    "duration": 15,
    "start_time": "2025-02-12T20:27:12.402Z"
   },
   {
    "duration": 360,
    "start_time": "2025-02-12T20:28:31.400Z"
   },
   {
    "duration": 17,
    "start_time": "2025-02-12T20:29:16.934Z"
   },
   {
    "duration": 189,
    "start_time": "2025-02-12T20:29:42.349Z"
   },
   {
    "duration": 16,
    "start_time": "2025-02-12T20:31:28.320Z"
   },
   {
    "duration": 17,
    "start_time": "2025-02-12T20:34:53.693Z"
   },
   {
    "duration": 15,
    "start_time": "2025-02-12T20:38:03.968Z"
   },
   {
    "duration": 11,
    "start_time": "2025-02-12T20:38:33.058Z"
   },
   {
    "duration": 170,
    "start_time": "2025-02-12T20:39:31.932Z"
   },
   {
    "duration": 160,
    "start_time": "2025-02-12T20:39:37.024Z"
   },
   {
    "duration": 170,
    "start_time": "2025-02-12T20:40:09.742Z"
   },
   {
    "duration": 208,
    "start_time": "2025-02-12T20:40:59.852Z"
   },
   {
    "duration": 81,
    "start_time": "2025-02-12T20:43:05.361Z"
   },
   {
    "duration": 19,
    "start_time": "2025-02-12T20:43:26.964Z"
   },
   {
    "duration": 6,
    "start_time": "2025-02-12T20:47:43.153Z"
   },
   {
    "duration": 21,
    "start_time": "2025-02-12T20:48:02.337Z"
   },
   {
    "duration": 198,
    "start_time": "2025-02-12T20:50:37.522Z"
   },
   {
    "duration": 181,
    "start_time": "2025-02-12T20:53:01.202Z"
   },
   {
    "duration": 5,
    "start_time": "2025-02-12T20:53:15.327Z"
   },
   {
    "duration": 4,
    "start_time": "2025-02-12T20:54:05.959Z"
   },
   {
    "duration": 11,
    "start_time": "2025-02-12T20:54:13.910Z"
   },
   {
    "duration": 14,
    "start_time": "2025-02-12T20:54:39.987Z"
   },
   {
    "duration": 53,
    "start_time": "2025-02-12T20:54:58.544Z"
   },
   {
    "duration": 21,
    "start_time": "2025-02-12T20:55:17.743Z"
   },
   {
    "duration": 12,
    "start_time": "2025-02-12T20:55:47.974Z"
   },
   {
    "duration": 18,
    "start_time": "2025-02-12T20:55:58.087Z"
   },
   {
    "duration": 22,
    "start_time": "2025-02-12T20:57:38.166Z"
   },
   {
    "duration": 7,
    "start_time": "2025-02-12T20:57:45.529Z"
   },
   {
    "duration": 6,
    "start_time": "2025-02-12T20:58:20.381Z"
   },
   {
    "duration": 22,
    "start_time": "2025-02-12T20:58:37.621Z"
   },
   {
    "duration": 21,
    "start_time": "2025-02-12T20:59:18.236Z"
   },
   {
    "duration": 6,
    "start_time": "2025-02-12T20:59:33.376Z"
   },
   {
    "duration": 7,
    "start_time": "2025-02-12T20:59:52.594Z"
   },
   {
    "duration": 11,
    "start_time": "2025-02-12T21:00:10.411Z"
   },
   {
    "duration": 15,
    "start_time": "2025-02-12T21:00:37.386Z"
   },
   {
    "duration": 8,
    "start_time": "2025-02-12T21:00:52.940Z"
   },
   {
    "duration": 13,
    "start_time": "2025-02-12T21:01:03.845Z"
   },
   {
    "duration": 182,
    "start_time": "2025-02-12T21:01:44.157Z"
   },
   {
    "duration": 180,
    "start_time": "2025-02-12T21:02:19.691Z"
   },
   {
    "duration": 176,
    "start_time": "2025-02-12T21:02:44.941Z"
   },
   {
    "duration": 787,
    "start_time": "2025-02-12T21:02:53.212Z"
   },
   {
    "duration": 180,
    "start_time": "2025-02-12T21:02:59.586Z"
   },
   {
    "duration": 40,
    "start_time": "2025-02-12T21:03:37.490Z"
   },
   {
    "duration": 229,
    "start_time": "2025-02-12T21:03:53.589Z"
   },
   {
    "duration": 63,
    "start_time": "2025-02-12T21:04:09.765Z"
   },
   {
    "duration": 190,
    "start_time": "2025-02-12T21:05:06.332Z"
   },
   {
    "duration": 177,
    "start_time": "2025-02-12T21:05:47.797Z"
   },
   {
    "duration": 176,
    "start_time": "2025-02-12T21:07:00.533Z"
   },
   {
    "duration": 199,
    "start_time": "2025-02-12T21:08:12.474Z"
   },
   {
    "duration": 181,
    "start_time": "2025-02-12T21:08:21.796Z"
   },
   {
    "duration": 20,
    "start_time": "2025-02-12T21:09:01.626Z"
   },
   {
    "duration": 25,
    "start_time": "2025-02-12T21:09:06.779Z"
   },
   {
    "duration": 20,
    "start_time": "2025-02-12T21:09:24.421Z"
   },
   {
    "duration": 6,
    "start_time": "2025-02-12T21:09:36.499Z"
   },
   {
    "duration": 15,
    "start_time": "2025-02-12T21:10:02.777Z"
   },
   {
    "duration": 26,
    "start_time": "2025-02-12T21:10:15.491Z"
   },
   {
    "duration": 8,
    "start_time": "2025-02-12T21:10:20.098Z"
   },
   {
    "duration": 23,
    "start_time": "2025-02-12T21:11:35.952Z"
   },
   {
    "duration": 198,
    "start_time": "2025-02-12T21:16:02.261Z"
   },
   {
    "duration": 25,
    "start_time": "2025-02-12T21:16:18.387Z"
   },
   {
    "duration": 34,
    "start_time": "2025-02-12T21:16:45.382Z"
   },
   {
    "duration": 15,
    "start_time": "2025-02-12T21:17:34.083Z"
   },
   {
    "duration": 14,
    "start_time": "2025-02-12T21:17:46.232Z"
   },
   {
    "duration": 23,
    "start_time": "2025-02-12T21:17:50.789Z"
   },
   {
    "duration": 199,
    "start_time": "2025-02-12T21:20:22.160Z"
   },
   {
    "duration": 210,
    "start_time": "2025-02-12T21:22:21.764Z"
   },
   {
    "duration": 195,
    "start_time": "2025-02-12T21:23:33.919Z"
   },
   {
    "duration": 231,
    "start_time": "2025-02-12T21:23:55.162Z"
   },
   {
    "duration": 69,
    "start_time": "2025-02-12T21:24:03.870Z"
   },
   {
    "duration": 72,
    "start_time": "2025-02-12T21:24:44.834Z"
   },
   {
    "duration": 25,
    "start_time": "2025-02-12T21:25:07.292Z"
   },
   {
    "duration": 25,
    "start_time": "2025-02-12T21:25:44.062Z"
   },
   {
    "duration": 21,
    "start_time": "2025-02-12T21:26:21.484Z"
   },
   {
    "duration": 67,
    "start_time": "2025-02-12T21:26:36.192Z"
   },
   {
    "duration": 63,
    "start_time": "2025-02-12T21:26:41.248Z"
   },
   {
    "duration": 70,
    "start_time": "2025-02-12T21:27:10.884Z"
   },
   {
    "duration": 164,
    "start_time": "2025-02-12T21:27:38.488Z"
   },
   {
    "duration": 157,
    "start_time": "2025-02-12T21:29:05.769Z"
   },
   {
    "duration": 442,
    "start_time": "2025-02-13T02:53:34.515Z"
   },
   {
    "duration": 189,
    "start_time": "2025-02-13T02:53:34.960Z"
   },
   {
    "duration": 12,
    "start_time": "2025-02-13T02:53:35.151Z"
   },
   {
    "duration": 9,
    "start_time": "2025-02-13T02:53:35.165Z"
   },
   {
    "duration": 14,
    "start_time": "2025-02-13T02:53:35.177Z"
   },
   {
    "duration": 10,
    "start_time": "2025-02-13T02:53:35.205Z"
   },
   {
    "duration": 4,
    "start_time": "2025-02-13T02:53:35.217Z"
   },
   {
    "duration": 6,
    "start_time": "2025-02-13T02:53:35.223Z"
   },
   {
    "duration": 6,
    "start_time": "2025-02-13T02:53:35.231Z"
   },
   {
    "duration": 11,
    "start_time": "2025-02-13T02:53:35.240Z"
   },
   {
    "duration": 8,
    "start_time": "2025-02-13T02:53:35.255Z"
   },
   {
    "duration": 50,
    "start_time": "2025-02-13T02:53:35.266Z"
   },
   {
    "duration": 59,
    "start_time": "2025-02-13T02:53:35.318Z"
   },
   {
    "duration": 28,
    "start_time": "2025-02-13T02:53:35.381Z"
   },
   {
    "duration": 20,
    "start_time": "2025-02-13T02:53:35.410Z"
   },
   {
    "duration": 15,
    "start_time": "2025-02-13T02:53:35.431Z"
   },
   {
    "duration": 7,
    "start_time": "2025-02-13T02:53:35.449Z"
   },
   {
    "duration": 14,
    "start_time": "2025-02-13T02:53:35.458Z"
   },
   {
    "duration": 39,
    "start_time": "2025-02-13T02:53:35.473Z"
   },
   {
    "duration": 14,
    "start_time": "2025-02-13T02:53:35.513Z"
   },
   {
    "duration": 7,
    "start_time": "2025-02-13T02:53:35.528Z"
   },
   {
    "duration": 10,
    "start_time": "2025-02-13T02:53:35.537Z"
   },
   {
    "duration": 7,
    "start_time": "2025-02-13T02:53:35.549Z"
   },
   {
    "duration": 50,
    "start_time": "2025-02-13T02:53:35.557Z"
   },
   {
    "duration": 14,
    "start_time": "2025-02-13T02:53:35.609Z"
   },
   {
    "duration": 36,
    "start_time": "2025-02-13T02:53:35.624Z"
   },
   {
    "duration": 10,
    "start_time": "2025-02-13T02:53:35.663Z"
   },
   {
    "duration": 34,
    "start_time": "2025-02-13T02:53:35.675Z"
   },
   {
    "duration": 21,
    "start_time": "2025-02-13T02:53:35.711Z"
   },
   {
    "duration": 13,
    "start_time": "2025-02-13T02:53:35.734Z"
   },
   {
    "duration": 15,
    "start_time": "2025-02-13T02:53:35.748Z"
   },
   {
    "duration": 16,
    "start_time": "2025-02-13T02:53:35.765Z"
   },
   {
    "duration": 23,
    "start_time": "2025-02-13T02:53:35.806Z"
   },
   {
    "duration": 76,
    "start_time": "2025-02-13T02:53:35.830Z"
   },
   {
    "duration": 206,
    "start_time": "2025-02-13T02:53:35.908Z"
   },
   {
    "duration": 168,
    "start_time": "2025-02-13T02:53:36.116Z"
   },
   {
    "duration": 25,
    "start_time": "2025-02-13T02:53:36.286Z"
   },
   {
    "duration": 3,
    "start_time": "2025-02-13T02:53:36.312Z"
   },
   {
    "duration": 192,
    "start_time": "2025-02-13T02:53:36.316Z"
   },
   {
    "duration": 22,
    "start_time": "2025-02-13T02:53:36.510Z"
   },
   {
    "duration": 189,
    "start_time": "2025-02-13T02:53:36.537Z"
   },
   {
    "duration": 2,
    "start_time": "2025-02-13T02:53:36.729Z"
   },
   {
    "duration": 3,
    "start_time": "2025-02-13T02:53:36.733Z"
   },
   {
    "duration": 3,
    "start_time": "2025-02-13T03:11:37.263Z"
   },
   {
    "duration": 8,
    "start_time": "2025-02-13T03:12:43.629Z"
   },
   {
    "duration": 225,
    "start_time": "2025-02-13T03:18:55.889Z"
   },
   {
    "duration": 67,
    "start_time": "2025-02-13T03:21:02.546Z"
   },
   {
    "duration": 8,
    "start_time": "2025-02-13T03:21:13.858Z"
   },
   {
    "duration": 354,
    "start_time": "2025-02-13T03:21:48.441Z"
   },
   {
    "duration": 13,
    "start_time": "2025-02-13T03:21:52.204Z"
   },
   {
    "duration": 15,
    "start_time": "2025-02-13T03:21:58.631Z"
   },
   {
    "duration": 17,
    "start_time": "2025-02-13T03:22:53.608Z"
   },
   {
    "duration": 21,
    "start_time": "2025-02-13T03:22:57.199Z"
   },
   {
    "duration": 23,
    "start_time": "2025-02-13T03:23:18.373Z"
   },
   {
    "duration": 24,
    "start_time": "2025-02-13T03:23:31.657Z"
   },
   {
    "duration": 26,
    "start_time": "2025-02-13T03:24:01.815Z"
   },
   {
    "duration": 35,
    "start_time": "2025-02-13T03:24:12.053Z"
   },
   {
    "duration": 35,
    "start_time": "2025-02-13T03:24:18.203Z"
   },
   {
    "duration": 30,
    "start_time": "2025-02-13T03:24:24.128Z"
   },
   {
    "duration": 22,
    "start_time": "2025-02-13T03:25:10.106Z"
   },
   {
    "duration": 24,
    "start_time": "2025-02-13T03:25:24.916Z"
   },
   {
    "duration": 24,
    "start_time": "2025-02-13T03:26:14.637Z"
   },
   {
    "duration": 24,
    "start_time": "2025-02-13T03:28:34.781Z"
   },
   {
    "duration": 25,
    "start_time": "2025-02-13T03:28:58.001Z"
   },
   {
    "duration": 25,
    "start_time": "2025-02-13T03:30:11.407Z"
   },
   {
    "duration": 23,
    "start_time": "2025-02-13T03:30:25.875Z"
   },
   {
    "duration": 23,
    "start_time": "2025-02-13T03:30:40.210Z"
   },
   {
    "duration": 243,
    "start_time": "2025-02-13T03:31:20.815Z"
   },
   {
    "duration": 177,
    "start_time": "2025-02-13T03:31:47.303Z"
   },
   {
    "duration": 17,
    "start_time": "2025-02-13T03:32:03.633Z"
   },
   {
    "duration": 25,
    "start_time": "2025-02-13T03:32:12.627Z"
   },
   {
    "duration": 23,
    "start_time": "2025-02-13T03:32:27.499Z"
   },
   {
    "duration": 26,
    "start_time": "2025-02-13T03:32:48.985Z"
   },
   {
    "duration": 11,
    "start_time": "2025-02-13T04:00:35.581Z"
   },
   {
    "duration": 7,
    "start_time": "2025-02-13T04:03:57.496Z"
   },
   {
    "duration": 10,
    "start_time": "2025-02-13T04:04:06.083Z"
   },
   {
    "duration": 13,
    "start_time": "2025-02-13T04:04:31.135Z"
   },
   {
    "duration": 13,
    "start_time": "2025-02-13T04:04:35.285Z"
   },
   {
    "duration": 6,
    "start_time": "2025-02-13T04:04:41.907Z"
   },
   {
    "duration": 86,
    "start_time": "2025-02-13T04:09:15.044Z"
   },
   {
    "duration": 4,
    "start_time": "2025-02-13T04:10:39.180Z"
   },
   {
    "duration": 4,
    "start_time": "2025-02-13T04:10:47.634Z"
   },
   {
    "duration": 85,
    "start_time": "2025-02-13T04:10:59.284Z"
   },
   {
    "duration": 3,
    "start_time": "2025-02-13T04:11:02.336Z"
   },
   {
    "duration": 94,
    "start_time": "2025-02-13T04:12:28.438Z"
   },
   {
    "duration": 128,
    "start_time": "2025-02-13T04:19:18.879Z"
   },
   {
    "duration": 139,
    "start_time": "2025-02-13T04:20:37.585Z"
   },
   {
    "duration": 140,
    "start_time": "2025-02-13T04:28:34.483Z"
   },
   {
    "duration": 130,
    "start_time": "2025-02-13T04:29:55.289Z"
   },
   {
    "duration": 150,
    "start_time": "2025-02-13T04:30:18.076Z"
   },
   {
    "duration": 165,
    "start_time": "2025-02-13T04:36:40.497Z"
   },
   {
    "duration": 169,
    "start_time": "2025-02-13T04:38:15.192Z"
   },
   {
    "duration": 6,
    "start_time": "2025-02-13T04:38:39.343Z"
   },
   {
    "duration": 17,
    "start_time": "2025-02-13T04:39:26.746Z"
   },
   {
    "duration": 12,
    "start_time": "2025-02-13T04:41:54.142Z"
   },
   {
    "duration": 7,
    "start_time": "2025-02-13T04:43:20.593Z"
   },
   {
    "duration": 20,
    "start_time": "2025-02-13T04:45:12.495Z"
   },
   {
    "duration": 14,
    "start_time": "2025-02-13T04:46:09.294Z"
   },
   {
    "duration": 15,
    "start_time": "2025-02-13T04:47:03.550Z"
   },
   {
    "duration": 18,
    "start_time": "2025-02-13T04:47:15.342Z"
   },
   {
    "duration": 166,
    "start_time": "2025-02-13T04:47:57.900Z"
   },
   {
    "duration": 12,
    "start_time": "2025-02-13T04:59:57.786Z"
   },
   {
    "duration": 4,
    "start_time": "2025-02-13T05:00:13.032Z"
   },
   {
    "duration": 6,
    "start_time": "2025-02-13T05:00:27.104Z"
   },
   {
    "duration": 363,
    "start_time": "2025-02-13T05:58:43.845Z"
   },
   {
    "duration": 169,
    "start_time": "2025-02-13T05:59:14.562Z"
   },
   {
    "duration": 25,
    "start_time": "2025-02-13T06:01:53.919Z"
   },
   {
    "duration": 19,
    "start_time": "2025-02-13T06:02:02.126Z"
   },
   {
    "duration": 153,
    "start_time": "2025-02-13T06:02:50.897Z"
   },
   {
    "duration": 157,
    "start_time": "2025-02-13T06:02:56.102Z"
   },
   {
    "duration": 139,
    "start_time": "2025-02-13T07:32:42.987Z"
   },
   {
    "duration": 128,
    "start_time": "2025-02-13T07:33:06.230Z"
   },
   {
    "duration": 16,
    "start_time": "2025-02-13T07:35:12.773Z"
   },
   {
    "duration": 175,
    "start_time": "2025-02-13T07:36:02.675Z"
   },
   {
    "duration": 171,
    "start_time": "2025-02-13T07:36:24.398Z"
   },
   {
    "duration": 168,
    "start_time": "2025-02-13T08:09:59.232Z"
   },
   {
    "duration": 168,
    "start_time": "2025-02-13T08:10:21.016Z"
   },
   {
    "duration": 168,
    "start_time": "2025-02-13T08:11:44.192Z"
   },
   {
    "duration": 6,
    "start_time": "2025-02-13T08:11:54.580Z"
   },
   {
    "duration": 6,
    "start_time": "2025-02-13T08:12:33.702Z"
   },
   {
    "duration": 6,
    "start_time": "2025-02-13T08:12:37.949Z"
   },
   {
    "duration": 6,
    "start_time": "2025-02-13T08:12:49.427Z"
   },
   {
    "duration": 4,
    "start_time": "2025-02-13T08:13:07.292Z"
   },
   {
    "duration": 5,
    "start_time": "2025-02-13T08:13:17.280Z"
   },
   {
    "duration": 6,
    "start_time": "2025-02-13T08:14:52.210Z"
   },
   {
    "duration": 6,
    "start_time": "2025-02-13T08:15:08.686Z"
   },
   {
    "duration": 6,
    "start_time": "2025-02-13T08:16:41.466Z"
   },
   {
    "duration": 6,
    "start_time": "2025-02-13T08:16:53.791Z"
   },
   {
    "duration": 419,
    "start_time": "2025-02-14T00:38:31.150Z"
   },
   {
    "duration": 193,
    "start_time": "2025-02-14T00:38:31.572Z"
   },
   {
    "duration": 9,
    "start_time": "2025-02-14T00:38:31.767Z"
   },
   {
    "duration": 9,
    "start_time": "2025-02-14T00:38:31.777Z"
   },
   {
    "duration": 19,
    "start_time": "2025-02-14T00:38:31.789Z"
   },
   {
    "duration": 9,
    "start_time": "2025-02-14T00:38:31.810Z"
   },
   {
    "duration": 6,
    "start_time": "2025-02-14T00:38:31.822Z"
   },
   {
    "duration": 7,
    "start_time": "2025-02-14T00:38:31.830Z"
   },
   {
    "duration": 7,
    "start_time": "2025-02-14T00:38:31.838Z"
   },
   {
    "duration": 9,
    "start_time": "2025-02-14T00:38:31.847Z"
   },
   {
    "duration": 7,
    "start_time": "2025-02-14T00:38:31.858Z"
   },
   {
    "duration": 51,
    "start_time": "2025-02-14T00:38:31.867Z"
   },
   {
    "duration": 31,
    "start_time": "2025-02-14T00:38:31.920Z"
   },
   {
    "duration": 12,
    "start_time": "2025-02-14T00:38:31.955Z"
   },
   {
    "duration": 36,
    "start_time": "2025-02-14T00:38:31.969Z"
   },
   {
    "duration": 13,
    "start_time": "2025-02-14T00:38:32.007Z"
   },
   {
    "duration": 6,
    "start_time": "2025-02-14T00:38:32.021Z"
   },
   {
    "duration": 11,
    "start_time": "2025-02-14T00:38:32.029Z"
   },
   {
    "duration": 10,
    "start_time": "2025-02-14T00:38:32.041Z"
   },
   {
    "duration": 14,
    "start_time": "2025-02-14T00:38:32.052Z"
   },
   {
    "duration": 8,
    "start_time": "2025-02-14T00:38:32.067Z"
   },
   {
    "duration": 38,
    "start_time": "2025-02-14T00:38:32.076Z"
   },
   {
    "duration": 7,
    "start_time": "2025-02-14T00:38:32.115Z"
   },
   {
    "duration": 13,
    "start_time": "2025-02-14T00:38:32.124Z"
   },
   {
    "duration": 11,
    "start_time": "2025-02-14T00:38:32.139Z"
   },
   {
    "duration": 61,
    "start_time": "2025-02-14T00:38:32.152Z"
   },
   {
    "duration": 11,
    "start_time": "2025-02-14T00:38:32.216Z"
   },
   {
    "duration": 12,
    "start_time": "2025-02-14T00:38:32.229Z"
   },
   {
    "duration": 21,
    "start_time": "2025-02-14T00:38:32.242Z"
   },
   {
    "duration": 11,
    "start_time": "2025-02-14T00:38:32.264Z"
   },
   {
    "duration": 33,
    "start_time": "2025-02-14T00:38:32.276Z"
   },
   {
    "duration": 13,
    "start_time": "2025-02-14T00:38:32.312Z"
   },
   {
    "duration": 17,
    "start_time": "2025-02-14T00:38:32.327Z"
   },
   {
    "duration": 72,
    "start_time": "2025-02-14T00:38:32.346Z"
   },
   {
    "duration": 198,
    "start_time": "2025-02-14T00:38:32.420Z"
   },
   {
    "duration": 173,
    "start_time": "2025-02-14T00:38:32.620Z"
   },
   {
    "duration": 31,
    "start_time": "2025-02-14T00:38:32.795Z"
   },
   {
    "duration": 146,
    "start_time": "2025-02-14T00:38:32.827Z"
   },
   {
    "duration": 199,
    "start_time": "2025-02-14T00:38:32.976Z"
   },
   {
    "duration": 0,
    "start_time": "2025-02-14T00:38:33.177Z"
   },
   {
    "duration": 0,
    "start_time": "2025-02-14T00:38:33.179Z"
   },
   {
    "duration": 0,
    "start_time": "2025-02-14T00:38:33.180Z"
   },
   {
    "duration": 0,
    "start_time": "2025-02-14T00:38:33.181Z"
   },
   {
    "duration": 0,
    "start_time": "2025-02-14T00:38:33.181Z"
   },
   {
    "duration": 0,
    "start_time": "2025-02-14T00:38:33.183Z"
   },
   {
    "duration": 0,
    "start_time": "2025-02-14T00:38:33.185Z"
   },
   {
    "duration": 0,
    "start_time": "2025-02-14T00:38:33.186Z"
   },
   {
    "duration": 0,
    "start_time": "2025-02-14T00:38:33.186Z"
   },
   {
    "duration": 133,
    "start_time": "2025-02-14T00:38:50.388Z"
   },
   {
    "duration": 172,
    "start_time": "2025-02-14T00:38:56.455Z"
   },
   {
    "duration": 6,
    "start_time": "2025-02-14T00:38:57.580Z"
   },
   {
    "duration": 201,
    "start_time": "2025-02-14T00:38:58.142Z"
   },
   {
    "duration": 173,
    "start_time": "2025-02-14T00:39:00.268Z"
   },
   {
    "duration": 8,
    "start_time": "2025-02-14T00:39:00.834Z"
   },
   {
    "duration": 188,
    "start_time": "2025-02-14T00:39:02.944Z"
   },
   {
    "duration": 7,
    "start_time": "2025-02-14T00:39:03.456Z"
   },
   {
    "duration": 2124,
    "start_time": "2025-02-14T06:26:33.085Z"
   },
   {
    "duration": 224,
    "start_time": "2025-02-14T06:26:35.212Z"
   },
   {
    "duration": 13,
    "start_time": "2025-02-14T06:26:35.438Z"
   },
   {
    "duration": 8,
    "start_time": "2025-02-14T06:26:35.455Z"
   },
   {
    "duration": 8,
    "start_time": "2025-02-14T06:26:35.465Z"
   },
   {
    "duration": 9,
    "start_time": "2025-02-14T06:26:35.474Z"
   },
   {
    "duration": 6,
    "start_time": "2025-02-14T06:26:35.484Z"
   },
   {
    "duration": 6,
    "start_time": "2025-02-14T06:26:35.491Z"
   },
   {
    "duration": 33,
    "start_time": "2025-02-14T06:26:35.499Z"
   },
   {
    "duration": 8,
    "start_time": "2025-02-14T06:26:35.536Z"
   },
   {
    "duration": 7,
    "start_time": "2025-02-14T06:26:35.545Z"
   },
   {
    "duration": 14,
    "start_time": "2025-02-14T06:26:35.554Z"
   },
   {
    "duration": 32,
    "start_time": "2025-02-14T06:26:35.569Z"
   },
   {
    "duration": 39,
    "start_time": "2025-02-14T06:26:35.603Z"
   },
   {
    "duration": 16,
    "start_time": "2025-02-14T06:26:35.644Z"
   },
   {
    "duration": 12,
    "start_time": "2025-02-14T06:26:35.662Z"
   },
   {
    "duration": 6,
    "start_time": "2025-02-14T06:26:35.676Z"
   },
   {
    "duration": 11,
    "start_time": "2025-02-14T06:26:35.684Z"
   },
   {
    "duration": 38,
    "start_time": "2025-02-14T06:26:35.697Z"
   },
   {
    "duration": 14,
    "start_time": "2025-02-14T06:26:35.737Z"
   },
   {
    "duration": 8,
    "start_time": "2025-02-14T06:26:35.753Z"
   },
   {
    "duration": 10,
    "start_time": "2025-02-14T06:26:35.763Z"
   },
   {
    "duration": 7,
    "start_time": "2025-02-14T06:26:35.775Z"
   },
   {
    "duration": 48,
    "start_time": "2025-02-14T06:26:35.784Z"
   },
   {
    "duration": 11,
    "start_time": "2025-02-14T06:26:35.834Z"
   },
   {
    "duration": 31,
    "start_time": "2025-02-14T06:26:35.847Z"
   },
   {
    "duration": 9,
    "start_time": "2025-02-14T06:26:35.880Z"
   },
   {
    "duration": 39,
    "start_time": "2025-02-14T06:26:35.894Z"
   },
   {
    "duration": 21,
    "start_time": "2025-02-14T06:26:35.935Z"
   },
   {
    "duration": 10,
    "start_time": "2025-02-14T06:26:35.958Z"
   },
   {
    "duration": 14,
    "start_time": "2025-02-14T06:26:35.970Z"
   },
   {
    "duration": 13,
    "start_time": "2025-02-14T06:26:35.985Z"
   },
   {
    "duration": 43,
    "start_time": "2025-02-14T06:26:35.999Z"
   },
   {
    "duration": 52,
    "start_time": "2025-02-14T06:26:36.044Z"
   },
   {
    "duration": 198,
    "start_time": "2025-02-14T06:26:36.097Z"
   },
   {
    "duration": 195,
    "start_time": "2025-02-14T06:26:36.297Z"
   },
   {
    "duration": 23,
    "start_time": "2025-02-14T06:26:36.494Z"
   },
   {
    "duration": 140,
    "start_time": "2025-02-14T06:26:36.519Z"
   },
   {
    "duration": 182,
    "start_time": "2025-02-14T06:26:36.661Z"
   },
   {
    "duration": 6,
    "start_time": "2025-02-14T06:26:36.845Z"
   },
   {
    "duration": 175,
    "start_time": "2025-02-14T06:26:36.853Z"
   },
   {
    "duration": 180,
    "start_time": "2025-02-14T06:26:37.032Z"
   },
   {
    "duration": 6,
    "start_time": "2025-02-14T06:26:37.213Z"
   },
   {
    "duration": 178,
    "start_time": "2025-02-14T06:26:37.220Z"
   },
   {
    "duration": 6,
    "start_time": "2025-02-14T06:26:37.400Z"
   },
   {
    "duration": 3,
    "start_time": "2025-02-14T06:26:37.407Z"
   },
   {
    "duration": 20,
    "start_time": "2025-02-14T06:26:37.411Z"
   },
   {
    "duration": 456,
    "start_time": "2025-02-15T22:18:13.430Z"
   },
   {
    "duration": 220,
    "start_time": "2025-02-15T22:18:13.889Z"
   },
   {
    "duration": 10,
    "start_time": "2025-02-15T22:18:14.111Z"
   },
   {
    "duration": 14,
    "start_time": "2025-02-15T22:18:14.123Z"
   },
   {
    "duration": 9,
    "start_time": "2025-02-15T22:18:14.141Z"
   },
   {
    "duration": 9,
    "start_time": "2025-02-15T22:18:14.152Z"
   },
   {
    "duration": 6,
    "start_time": "2025-02-15T22:18:14.163Z"
   },
   {
    "duration": 7,
    "start_time": "2025-02-15T22:18:14.170Z"
   },
   {
    "duration": 6,
    "start_time": "2025-02-15T22:18:14.179Z"
   },
   {
    "duration": 48,
    "start_time": "2025-02-15T22:18:14.187Z"
   },
   {
    "duration": 7,
    "start_time": "2025-02-15T22:18:14.237Z"
   },
   {
    "duration": 16,
    "start_time": "2025-02-15T22:18:14.246Z"
   },
   {
    "duration": 36,
    "start_time": "2025-02-15T22:18:14.264Z"
   },
   {
    "duration": 41,
    "start_time": "2025-02-15T22:18:14.305Z"
   },
   {
    "duration": 21,
    "start_time": "2025-02-15T22:18:14.348Z"
   },
   {
    "duration": 14,
    "start_time": "2025-02-15T22:18:14.371Z"
   },
   {
    "duration": 6,
    "start_time": "2025-02-15T22:18:14.387Z"
   },
   {
    "duration": 42,
    "start_time": "2025-02-15T22:18:14.396Z"
   },
   {
    "duration": 10,
    "start_time": "2025-02-15T22:18:14.440Z"
   },
   {
    "duration": 14,
    "start_time": "2025-02-15T22:18:14.452Z"
   },
   {
    "duration": 7,
    "start_time": "2025-02-15T22:18:14.468Z"
   },
   {
    "duration": 10,
    "start_time": "2025-02-15T22:18:14.477Z"
   },
   {
    "duration": 42,
    "start_time": "2025-02-15T22:18:14.489Z"
   },
   {
    "duration": 17,
    "start_time": "2025-02-15T22:18:14.533Z"
   },
   {
    "duration": 12,
    "start_time": "2025-02-15T22:18:14.552Z"
   },
   {
    "duration": 37,
    "start_time": "2025-02-15T22:18:14.565Z"
   },
   {
    "duration": 30,
    "start_time": "2025-02-15T22:18:14.604Z"
   },
   {
    "duration": 11,
    "start_time": "2025-02-15T22:18:14.636Z"
   },
   {
    "duration": 22,
    "start_time": "2025-02-15T22:18:14.649Z"
   },
   {
    "duration": 12,
    "start_time": "2025-02-15T22:18:14.673Z"
   },
   {
    "duration": 47,
    "start_time": "2025-02-15T22:18:14.687Z"
   },
   {
    "duration": 14,
    "start_time": "2025-02-15T22:18:14.736Z"
   },
   {
    "duration": 18,
    "start_time": "2025-02-15T22:18:14.751Z"
   },
   {
    "duration": 67,
    "start_time": "2025-02-15T22:18:14.772Z"
   },
   {
    "duration": 197,
    "start_time": "2025-02-15T22:18:14.841Z"
   },
   {
    "duration": 171,
    "start_time": "2025-02-15T22:18:15.040Z"
   },
   {
    "duration": 33,
    "start_time": "2025-02-15T22:18:15.212Z"
   },
   {
    "duration": 137,
    "start_time": "2025-02-15T22:18:15.247Z"
   },
   {
    "duration": 190,
    "start_time": "2025-02-15T22:18:15.387Z"
   },
   {
    "duration": 6,
    "start_time": "2025-02-15T22:18:15.579Z"
   },
   {
    "duration": 180,
    "start_time": "2025-02-15T22:18:15.589Z"
   },
   {
    "duration": 189,
    "start_time": "2025-02-15T22:18:15.770Z"
   },
   {
    "duration": 6,
    "start_time": "2025-02-15T22:18:15.961Z"
   },
   {
    "duration": 194,
    "start_time": "2025-02-15T22:18:15.969Z"
   },
   {
    "duration": 6,
    "start_time": "2025-02-15T22:18:16.165Z"
   },
   {
    "duration": 3,
    "start_time": "2025-02-15T22:18:16.174Z"
   },
   {
    "duration": 2,
    "start_time": "2025-02-15T22:18:16.179Z"
   },
   {
    "duration": 411,
    "start_time": "2025-02-15T22:18:24.226Z"
   },
   {
    "duration": 8,
    "start_time": "2025-02-15T22:19:56.483Z"
   },
   {
    "duration": 9,
    "start_time": "2025-02-15T22:20:11.092Z"
   },
   {
    "duration": 10,
    "start_time": "2025-02-15T22:20:22.778Z"
   },
   {
    "duration": 9,
    "start_time": "2025-02-15T22:20:39.400Z"
   },
   {
    "duration": 9,
    "start_time": "2025-02-15T22:20:50.866Z"
   },
   {
    "duration": 490,
    "start_time": "2025-02-15T22:21:07.135Z"
   },
   {
    "duration": 45,
    "start_time": "2025-02-15T22:21:15.270Z"
   },
   {
    "duration": 7,
    "start_time": "2025-02-15T22:21:25.369Z"
   },
   {
    "duration": 8,
    "start_time": "2025-02-15T22:21:31.705Z"
   },
   {
    "duration": 6,
    "start_time": "2025-02-15T22:21:35.530Z"
   },
   {
    "duration": 42,
    "start_time": "2025-02-15T22:22:09.732Z"
   },
   {
    "duration": 16,
    "start_time": "2025-02-15T22:23:02.758Z"
   },
   {
    "duration": 14,
    "start_time": "2025-02-15T22:23:36.282Z"
   },
   {
    "duration": 17,
    "start_time": "2025-02-15T22:28:23.537Z"
   },
   {
    "duration": 17,
    "start_time": "2025-02-15T22:28:52.600Z"
   },
   {
    "duration": 6,
    "start_time": "2025-02-15T22:29:34.599Z"
   },
   {
    "duration": 10,
    "start_time": "2025-02-15T22:29:42.846Z"
   },
   {
    "duration": 6,
    "start_time": "2025-02-15T22:29:48.896Z"
   },
   {
    "duration": 11,
    "start_time": "2025-02-15T22:30:04.878Z"
   },
   {
    "duration": 5,
    "start_time": "2025-02-15T22:30:32.046Z"
   },
   {
    "duration": 11,
    "start_time": "2025-02-15T22:30:37.022Z"
   },
   {
    "duration": 7,
    "start_time": "2025-02-15T22:30:49.821Z"
   },
   {
    "duration": 16,
    "start_time": "2025-02-15T22:31:27.110Z"
   },
   {
    "duration": 16,
    "start_time": "2025-02-15T22:31:47.207Z"
   },
   {
    "duration": 15,
    "start_time": "2025-02-15T22:32:07.562Z"
   },
   {
    "duration": 16,
    "start_time": "2025-02-15T22:32:28.274Z"
   },
   {
    "duration": 20,
    "start_time": "2025-02-15T22:34:12.825Z"
   },
   {
    "duration": 15,
    "start_time": "2025-02-15T22:34:22.702Z"
   },
   {
    "duration": 162,
    "start_time": "2025-02-15T22:36:21.194Z"
   },
   {
    "duration": 26,
    "start_time": "2025-02-15T22:36:31.040Z"
   },
   {
    "duration": 196,
    "start_time": "2025-02-15T22:37:17.735Z"
   },
   {
    "duration": 4,
    "start_time": "2025-02-15T22:53:51.489Z"
   },
   {
    "duration": 5,
    "start_time": "2025-02-15T22:54:00.272Z"
   },
   {
    "duration": 7,
    "start_time": "2025-02-15T22:54:04.658Z"
   },
   {
    "duration": 6,
    "start_time": "2025-02-15T22:54:22.670Z"
   },
   {
    "duration": 9,
    "start_time": "2025-02-15T22:54:31.611Z"
   },
   {
    "duration": 5,
    "start_time": "2025-02-15T22:55:44.433Z"
   },
   {
    "duration": 4,
    "start_time": "2025-02-15T22:56:01.351Z"
   },
   {
    "duration": 7,
    "start_time": "2025-02-15T22:56:58.432Z"
   },
   {
    "duration": 7,
    "start_time": "2025-02-16T00:18:43.513Z"
   },
   {
    "duration": 6,
    "start_time": "2025-02-16T00:18:44.570Z"
   },
   {
    "duration": 815,
    "start_time": "2025-02-16T00:29:48.360Z"
   },
   {
    "duration": 167,
    "start_time": "2025-02-16T00:29:49.179Z"
   },
   {
    "duration": 11,
    "start_time": "2025-02-16T00:29:49.348Z"
   },
   {
    "duration": 9,
    "start_time": "2025-02-16T00:29:49.361Z"
   },
   {
    "duration": 9,
    "start_time": "2025-02-16T00:29:49.372Z"
   },
   {
    "duration": 9,
    "start_time": "2025-02-16T00:29:49.382Z"
   },
   {
    "duration": 5,
    "start_time": "2025-02-16T00:29:49.393Z"
   },
   {
    "duration": 35,
    "start_time": "2025-02-16T00:29:49.401Z"
   },
   {
    "duration": 5,
    "start_time": "2025-02-16T00:29:49.438Z"
   },
   {
    "duration": 8,
    "start_time": "2025-02-16T00:29:49.447Z"
   },
   {
    "duration": 8,
    "start_time": "2025-02-16T00:29:49.457Z"
   },
   {
    "duration": 16,
    "start_time": "2025-02-16T00:29:49.467Z"
   },
   {
    "duration": 66,
    "start_time": "2025-02-16T00:29:49.485Z"
   },
   {
    "duration": 14,
    "start_time": "2025-02-16T00:29:49.553Z"
   },
   {
    "duration": 16,
    "start_time": "2025-02-16T00:29:49.568Z"
   },
   {
    "duration": 13,
    "start_time": "2025-02-16T00:29:49.586Z"
   },
   {
    "duration": 36,
    "start_time": "2025-02-16T00:29:49.601Z"
   },
   {
    "duration": 12,
    "start_time": "2025-02-16T00:29:49.638Z"
   },
   {
    "duration": 10,
    "start_time": "2025-02-16T00:29:49.652Z"
   },
   {
    "duration": 15,
    "start_time": "2025-02-16T00:29:49.663Z"
   },
   {
    "duration": 8,
    "start_time": "2025-02-16T00:29:49.680Z"
   },
   {
    "duration": 10,
    "start_time": "2025-02-16T00:29:49.690Z"
   },
   {
    "duration": 8,
    "start_time": "2025-02-16T00:29:49.732Z"
   },
   {
    "duration": 15,
    "start_time": "2025-02-16T00:29:49.742Z"
   },
   {
    "duration": 22,
    "start_time": "2025-02-16T00:29:49.759Z"
   },
   {
    "duration": 61,
    "start_time": "2025-02-16T00:29:49.783Z"
   },
   {
    "duration": 9,
    "start_time": "2025-02-16T00:29:49.846Z"
   },
   {
    "duration": 12,
    "start_time": "2025-02-16T00:29:49.860Z"
   },
   {
    "duration": 22,
    "start_time": "2025-02-16T00:29:49.874Z"
   },
   {
    "duration": 43,
    "start_time": "2025-02-16T00:29:49.897Z"
   },
   {
    "duration": 13,
    "start_time": "2025-02-16T00:29:49.942Z"
   },
   {
    "duration": 12,
    "start_time": "2025-02-16T00:29:49.956Z"
   },
   {
    "duration": 20,
    "start_time": "2025-02-16T00:29:49.969Z"
   },
   {
    "duration": 73,
    "start_time": "2025-02-16T00:29:49.991Z"
   },
   {
    "duration": 197,
    "start_time": "2025-02-16T00:29:50.065Z"
   },
   {
    "duration": 176,
    "start_time": "2025-02-16T00:29:50.264Z"
   },
   {
    "duration": 24,
    "start_time": "2025-02-16T00:29:50.442Z"
   },
   {
    "duration": 144,
    "start_time": "2025-02-16T00:29:50.468Z"
   },
   {
    "duration": 237,
    "start_time": "2025-02-16T00:29:50.614Z"
   },
   {
    "duration": 6,
    "start_time": "2025-02-16T00:29:50.853Z"
   },
   {
    "duration": 181,
    "start_time": "2025-02-16T00:29:50.860Z"
   },
   {
    "duration": 202,
    "start_time": "2025-02-16T00:29:51.043Z"
   },
   {
    "duration": 7,
    "start_time": "2025-02-16T00:29:51.247Z"
   },
   {
    "duration": 202,
    "start_time": "2025-02-16T00:29:51.255Z"
   },
   {
    "duration": 6,
    "start_time": "2025-02-16T00:29:51.459Z"
   },
   {
    "duration": 6,
    "start_time": "2025-02-16T00:29:51.468Z"
   },
   {
    "duration": 6,
    "start_time": "2025-02-16T00:29:51.476Z"
   },
   {
    "duration": 24,
    "start_time": "2025-02-16T01:03:56.312Z"
   },
   {
    "duration": 48,
    "start_time": "2025-02-16T01:03:56.948Z"
   },
   {
    "duration": 24,
    "start_time": "2025-02-16T01:10:49.811Z"
   },
   {
    "duration": 172,
    "start_time": "2025-02-16T01:15:18.931Z"
   },
   {
    "duration": 5,
    "start_time": "2025-02-16T01:22:42.908Z"
   },
   {
    "duration": 7,
    "start_time": "2025-02-16T01:23:05.553Z"
   },
   {
    "duration": 6,
    "start_time": "2025-02-16T01:23:11.732Z"
   },
   {
    "duration": 8,
    "start_time": "2025-02-16T01:23:40.364Z"
   },
   {
    "duration": 16,
    "start_time": "2025-02-16T01:23:48.127Z"
   },
   {
    "duration": 10,
    "start_time": "2025-02-16T01:24:36.433Z"
   },
   {
    "duration": 5,
    "start_time": "2025-02-16T01:25:19.751Z"
   },
   {
    "duration": 9,
    "start_time": "2025-02-16T01:25:40.179Z"
   },
   {
    "duration": 8,
    "start_time": "2025-02-16T01:26:03.198Z"
   },
   {
    "duration": 779,
    "start_time": "2025-02-16T19:43:18.989Z"
   },
   {
    "duration": 204,
    "start_time": "2025-02-16T19:43:19.777Z"
   },
   {
    "duration": 11,
    "start_time": "2025-02-16T19:43:19.983Z"
   },
   {
    "duration": 9,
    "start_time": "2025-02-16T19:43:19.997Z"
   },
   {
    "duration": 9,
    "start_time": "2025-02-16T19:43:20.008Z"
   },
   {
    "duration": 10,
    "start_time": "2025-02-16T19:43:20.032Z"
   },
   {
    "duration": 5,
    "start_time": "2025-02-16T19:43:20.043Z"
   },
   {
    "duration": 8,
    "start_time": "2025-02-16T19:43:20.050Z"
   },
   {
    "duration": 5,
    "start_time": "2025-02-16T19:43:20.059Z"
   },
   {
    "duration": 8,
    "start_time": "2025-02-16T19:43:20.068Z"
   },
   {
    "duration": 9,
    "start_time": "2025-02-16T19:43:20.077Z"
   },
   {
    "duration": 66,
    "start_time": "2025-02-16T19:43:20.088Z"
   },
   {
    "duration": 48,
    "start_time": "2025-02-16T19:43:20.156Z"
   },
   {
    "duration": 26,
    "start_time": "2025-02-16T19:43:20.206Z"
   },
   {
    "duration": 24,
    "start_time": "2025-02-16T19:43:20.234Z"
   },
   {
    "duration": 14,
    "start_time": "2025-02-16T19:43:20.262Z"
   },
   {
    "duration": 7,
    "start_time": "2025-02-16T19:43:20.278Z"
   },
   {
    "duration": 17,
    "start_time": "2025-02-16T19:43:20.287Z"
   },
   {
    "duration": 10,
    "start_time": "2025-02-16T19:43:20.332Z"
   },
   {
    "duration": 15,
    "start_time": "2025-02-16T19:43:20.346Z"
   },
   {
    "duration": 8,
    "start_time": "2025-02-16T19:43:20.363Z"
   },
   {
    "duration": 13,
    "start_time": "2025-02-16T19:43:20.373Z"
   },
   {
    "duration": 8,
    "start_time": "2025-02-16T19:43:20.388Z"
   },
   {
    "duration": 50,
    "start_time": "2025-02-16T19:43:20.398Z"
   },
   {
    "duration": 12,
    "start_time": "2025-02-16T19:43:20.450Z"
   },
   {
    "duration": 40,
    "start_time": "2025-02-16T19:43:20.464Z"
   },
   {
    "duration": 31,
    "start_time": "2025-02-16T19:43:20.507Z"
   },
   {
    "duration": 14,
    "start_time": "2025-02-16T19:43:20.543Z"
   },
   {
    "duration": 24,
    "start_time": "2025-02-16T19:43:20.560Z"
   },
   {
    "duration": 14,
    "start_time": "2025-02-16T19:43:20.586Z"
   },
   {
    "duration": 42,
    "start_time": "2025-02-16T19:43:20.604Z"
   },
   {
    "duration": 19,
    "start_time": "2025-02-16T19:43:20.652Z"
   },
   {
    "duration": 21,
    "start_time": "2025-02-16T19:43:20.673Z"
   },
   {
    "duration": 85,
    "start_time": "2025-02-16T19:43:20.695Z"
   },
   {
    "duration": 214,
    "start_time": "2025-02-16T19:43:20.781Z"
   },
   {
    "duration": 206,
    "start_time": "2025-02-16T19:43:20.997Z"
   },
   {
    "duration": 10,
    "start_time": "2025-02-16T19:43:21.205Z"
   },
   {
    "duration": 175,
    "start_time": "2025-02-16T19:43:21.216Z"
   },
   {
    "duration": 243,
    "start_time": "2025-02-16T19:43:21.393Z"
   },
   {
    "duration": 6,
    "start_time": "2025-02-16T19:43:21.638Z"
   },
   {
    "duration": 195,
    "start_time": "2025-02-16T19:43:21.646Z"
   },
   {
    "duration": 206,
    "start_time": "2025-02-16T19:43:21.844Z"
   },
   {
    "duration": 6,
    "start_time": "2025-02-16T19:43:22.052Z"
   },
   {
    "duration": 195,
    "start_time": "2025-02-16T19:43:22.060Z"
   },
   {
    "duration": 7,
    "start_time": "2025-02-16T19:43:22.257Z"
   },
   {
    "duration": 7,
    "start_time": "2025-02-16T19:43:22.266Z"
   },
   {
    "duration": 7,
    "start_time": "2025-02-16T19:43:22.275Z"
   },
   {
    "duration": 182,
    "start_time": "2025-02-16T19:46:40.505Z"
   },
   {
    "duration": 199,
    "start_time": "2025-02-16T19:46:56.587Z"
   },
   {
    "duration": 9,
    "start_time": "2025-02-16T19:47:15.901Z"
   },
   {
    "duration": 132,
    "start_time": "2025-02-16T19:47:58.585Z"
   },
   {
    "duration": 217,
    "start_time": "2025-02-16T19:48:59.430Z"
   },
   {
    "duration": 10,
    "start_time": "2025-02-16T19:49:01.861Z"
   },
   {
    "duration": 129,
    "start_time": "2025-02-16T19:49:46.328Z"
   },
   {
    "duration": 149,
    "start_time": "2025-02-16T19:50:06.659Z"
   },
   {
    "duration": 161,
    "start_time": "2025-02-16T19:51:15.410Z"
   },
   {
    "duration": 9,
    "start_time": "2025-02-16T19:51:24.569Z"
   },
   {
    "duration": 298,
    "start_time": "2025-02-16T19:51:50.219Z"
   },
   {
    "duration": 278,
    "start_time": "2025-02-16T20:16:51.486Z"
   },
   {
    "duration": 239,
    "start_time": "2025-02-16T20:17:13.489Z"
   },
   {
    "duration": 273,
    "start_time": "2025-02-16T20:17:44.421Z"
   },
   {
    "duration": 318,
    "start_time": "2025-02-16T20:18:11.793Z"
   },
   {
    "duration": 643,
    "start_time": "2025-02-16T20:19:36.448Z"
   },
   {
    "duration": 274,
    "start_time": "2025-02-16T20:20:13.138Z"
   },
   {
    "duration": 10,
    "start_time": "2025-02-16T20:24:39.264Z"
   },
   {
    "duration": 11,
    "start_time": "2025-02-16T20:27:18.789Z"
   },
   {
    "duration": 320,
    "start_time": "2025-02-16T20:31:30.712Z"
   },
   {
    "duration": 19,
    "start_time": "2025-02-16T20:32:53.336Z"
   },
   {
    "duration": 165,
    "start_time": "2025-02-16T20:33:03.429Z"
   },
   {
    "duration": 5,
    "start_time": "2025-02-16T20:33:21.456Z"
   },
   {
    "duration": 112,
    "start_time": "2025-02-16T20:33:40.973Z"
   },
   {
    "duration": 138,
    "start_time": "2025-02-16T20:34:45.217Z"
   },
   {
    "duration": 131,
    "start_time": "2025-02-16T20:35:17.297Z"
   },
   {
    "duration": 136,
    "start_time": "2025-02-16T20:35:38.892Z"
   },
   {
    "duration": 149,
    "start_time": "2025-02-16T20:35:49.006Z"
   },
   {
    "duration": 208,
    "start_time": "2025-02-16T20:36:57.500Z"
   },
   {
    "duration": 184,
    "start_time": "2025-02-16T20:37:04.822Z"
   },
   {
    "duration": 154,
    "start_time": "2025-02-16T20:37:26.323Z"
   },
   {
    "duration": 139,
    "start_time": "2025-02-16T20:37:51.001Z"
   },
   {
    "duration": 109,
    "start_time": "2025-02-16T20:38:17.906Z"
   },
   {
    "duration": 104,
    "start_time": "2025-02-16T20:39:07.692Z"
   },
   {
    "duration": 107,
    "start_time": "2025-02-16T20:40:08.831Z"
   },
   {
    "duration": 165,
    "start_time": "2025-02-16T20:41:13.625Z"
   },
   {
    "duration": 9,
    "start_time": "2025-02-16T20:41:15.991Z"
   },
   {
    "duration": 276,
    "start_time": "2025-02-16T20:41:17.940Z"
   },
   {
    "duration": 120,
    "start_time": "2025-02-16T20:41:28.452Z"
   },
   {
    "duration": 9,
    "start_time": "2025-02-16T21:01:09.804Z"
   },
   {
    "duration": 213,
    "start_time": "2025-02-16T21:01:23.959Z"
   },
   {
    "duration": 147,
    "start_time": "2025-02-16T21:01:52.698Z"
   },
   {
    "duration": 236,
    "start_time": "2025-02-16T21:06:06.459Z"
   },
   {
    "duration": 12,
    "start_time": "2025-02-16T22:02:39.575Z"
   },
   {
    "duration": 217,
    "start_time": "2025-02-16T22:04:44.765Z"
   },
   {
    "duration": 124,
    "start_time": "2025-02-16T22:05:06.598Z"
   },
   {
    "duration": 129,
    "start_time": "2025-02-16T22:06:51.656Z"
   },
   {
    "duration": 2423,
    "start_time": "2025-02-16T22:58:45.498Z"
   },
   {
    "duration": 226,
    "start_time": "2025-02-16T22:58:47.923Z"
   },
   {
    "duration": 10,
    "start_time": "2025-02-16T22:58:48.150Z"
   },
   {
    "duration": 9,
    "start_time": "2025-02-16T22:58:48.162Z"
   },
   {
    "duration": 8,
    "start_time": "2025-02-16T22:58:48.174Z"
   },
   {
    "duration": 8,
    "start_time": "2025-02-16T22:58:48.183Z"
   },
   {
    "duration": 5,
    "start_time": "2025-02-16T22:58:48.193Z"
   },
   {
    "duration": 6,
    "start_time": "2025-02-16T22:58:48.199Z"
   },
   {
    "duration": 39,
    "start_time": "2025-02-16T22:58:48.206Z"
   },
   {
    "duration": 9,
    "start_time": "2025-02-16T22:58:48.247Z"
   },
   {
    "duration": 7,
    "start_time": "2025-02-16T22:58:48.257Z"
   },
   {
    "duration": 14,
    "start_time": "2025-02-16T22:58:48.266Z"
   },
   {
    "duration": 30,
    "start_time": "2025-02-16T22:58:48.282Z"
   },
   {
    "duration": 12,
    "start_time": "2025-02-16T22:58:48.344Z"
   },
   {
    "duration": 15,
    "start_time": "2025-02-16T22:58:48.358Z"
   },
   {
    "duration": 11,
    "start_time": "2025-02-16T22:58:48.374Z"
   },
   {
    "duration": 6,
    "start_time": "2025-02-16T22:58:48.387Z"
   },
   {
    "duration": 12,
    "start_time": "2025-02-16T22:58:48.394Z"
   },
   {
    "duration": 38,
    "start_time": "2025-02-16T22:58:48.407Z"
   },
   {
    "duration": 12,
    "start_time": "2025-02-16T22:58:48.447Z"
   },
   {
    "duration": 7,
    "start_time": "2025-02-16T22:58:48.461Z"
   },
   {
    "duration": 10,
    "start_time": "2025-02-16T22:58:48.469Z"
   },
   {
    "duration": 7,
    "start_time": "2025-02-16T22:58:48.481Z"
   },
   {
    "duration": 13,
    "start_time": "2025-02-16T22:58:48.490Z"
   },
   {
    "duration": 43,
    "start_time": "2025-02-16T22:58:48.505Z"
   },
   {
    "duration": 32,
    "start_time": "2025-02-16T22:58:48.550Z"
   },
   {
    "duration": 8,
    "start_time": "2025-02-16T22:58:48.583Z"
   },
   {
    "duration": 10,
    "start_time": "2025-02-16T22:58:48.593Z"
   },
   {
    "duration": 50,
    "start_time": "2025-02-16T22:58:48.604Z"
   },
   {
    "duration": 12,
    "start_time": "2025-02-16T22:58:48.655Z"
   },
   {
    "duration": 12,
    "start_time": "2025-02-16T22:58:48.669Z"
   },
   {
    "duration": 11,
    "start_time": "2025-02-16T22:58:48.683Z"
   },
   {
    "duration": 18,
    "start_time": "2025-02-16T22:58:48.695Z"
   },
   {
    "duration": 69,
    "start_time": "2025-02-16T22:58:48.715Z"
   },
   {
    "duration": 202,
    "start_time": "2025-02-16T22:58:48.785Z"
   },
   {
    "duration": 174,
    "start_time": "2025-02-16T22:58:48.989Z"
   },
   {
    "duration": 7,
    "start_time": "2025-02-16T22:58:49.165Z"
   },
   {
    "duration": 109,
    "start_time": "2025-02-16T22:58:49.174Z"
   },
   {
    "duration": 166,
    "start_time": "2025-02-16T22:58:49.284Z"
   },
   {
    "duration": 163,
    "start_time": "2025-02-16T22:58:49.452Z"
   },
   {
    "duration": 7,
    "start_time": "2025-02-16T22:58:49.620Z"
   },
   {
    "duration": 165,
    "start_time": "2025-02-16T22:58:49.629Z"
   },
   {
    "duration": 193,
    "start_time": "2025-02-16T22:58:49.796Z"
   },
   {
    "duration": 165,
    "start_time": "2025-02-16T22:58:49.991Z"
   },
   {
    "duration": 9,
    "start_time": "2025-02-16T22:58:50.158Z"
   },
   {
    "duration": 110,
    "start_time": "2025-02-16T22:58:50.168Z"
   },
   {
    "duration": 179,
    "start_time": "2025-02-16T22:58:50.280Z"
   },
   {
    "duration": 174,
    "start_time": "2025-02-16T22:58:50.461Z"
   },
   {
    "duration": 18,
    "start_time": "2025-02-16T22:58:50.636Z"
   },
   {
    "duration": 94,
    "start_time": "2025-02-16T22:58:50.656Z"
   },
   {
    "duration": 7,
    "start_time": "2025-02-16T22:58:50.752Z"
   },
   {
    "duration": 5,
    "start_time": "2025-02-16T22:58:50.761Z"
   },
   {
    "duration": 11,
    "start_time": "2025-02-16T23:01:54.339Z"
   },
   {
    "duration": 15,
    "start_time": "2025-02-16T23:03:47.022Z"
   },
   {
    "duration": 14,
    "start_time": "2025-02-16T23:04:09.808Z"
   },
   {
    "duration": 16,
    "start_time": "2025-02-16T23:04:38.342Z"
   },
   {
    "duration": 495,
    "start_time": "2025-02-16T23:53:19.613Z"
   },
   {
    "duration": 3,
    "start_time": "2025-02-16T23:53:36.191Z"
   },
   {
    "duration": 26,
    "start_time": "2025-02-16T23:53:39.238Z"
   },
   {
    "duration": 3,
    "start_time": "2025-02-17T00:02:58.345Z"
   },
   {
    "duration": 13,
    "start_time": "2025-02-17T00:03:56.230Z"
   },
   {
    "duration": 3,
    "start_time": "2025-02-17T00:04:01.433Z"
   },
   {
    "duration": 19,
    "start_time": "2025-02-17T00:06:18.109Z"
   },
   {
    "duration": 49,
    "start_time": "2025-02-17T00:06:21.671Z"
   },
   {
    "duration": 29,
    "start_time": "2025-02-17T00:13:22.145Z"
   },
   {
    "duration": 32,
    "start_time": "2025-02-17T00:13:25.574Z"
   },
   {
    "duration": 33,
    "start_time": "2025-02-17T00:14:32.418Z"
   },
   {
    "duration": 27,
    "start_time": "2025-02-17T00:15:00.073Z"
   },
   {
    "duration": 17,
    "start_time": "2025-02-17T00:15:06.984Z"
   },
   {
    "duration": 22,
    "start_time": "2025-02-17T00:16:14.007Z"
   },
   {
    "duration": 3,
    "start_time": "2025-02-17T00:18:32.538Z"
   },
   {
    "duration": 12,
    "start_time": "2025-02-17T00:18:37.778Z"
   },
   {
    "duration": 816,
    "start_time": "2025-02-17T00:18:47.852Z"
   },
   {
    "duration": 184,
    "start_time": "2025-02-17T00:18:48.671Z"
   },
   {
    "duration": 13,
    "start_time": "2025-02-17T00:18:48.857Z"
   },
   {
    "duration": 11,
    "start_time": "2025-02-17T00:18:48.873Z"
   },
   {
    "duration": 7,
    "start_time": "2025-02-17T00:18:48.887Z"
   },
   {
    "duration": 8,
    "start_time": "2025-02-17T00:18:48.896Z"
   },
   {
    "duration": 6,
    "start_time": "2025-02-17T00:18:48.906Z"
   },
   {
    "duration": 8,
    "start_time": "2025-02-17T00:18:48.931Z"
   },
   {
    "duration": 7,
    "start_time": "2025-02-17T00:18:48.941Z"
   },
   {
    "duration": 9,
    "start_time": "2025-02-17T00:18:48.952Z"
   },
   {
    "duration": 7,
    "start_time": "2025-02-17T00:18:48.963Z"
   },
   {
    "duration": 18,
    "start_time": "2025-02-17T00:18:48.971Z"
   },
   {
    "duration": 61,
    "start_time": "2025-02-17T00:18:48.991Z"
   },
   {
    "duration": 13,
    "start_time": "2025-02-17T00:18:49.054Z"
   },
   {
    "duration": 16,
    "start_time": "2025-02-17T00:18:49.069Z"
   },
   {
    "duration": 3,
    "start_time": "2025-02-17T00:18:49.087Z"
   },
   {
    "duration": 41,
    "start_time": "2025-02-17T00:18:49.091Z"
   },
   {
    "duration": 6,
    "start_time": "2025-02-17T00:18:49.134Z"
   },
   {
    "duration": 11,
    "start_time": "2025-02-17T00:18:49.142Z"
   },
   {
    "duration": 9,
    "start_time": "2025-02-17T00:18:49.155Z"
   },
   {
    "duration": 13,
    "start_time": "2025-02-17T00:18:49.166Z"
   },
   {
    "duration": 8,
    "start_time": "2025-02-17T00:18:49.181Z"
   },
   {
    "duration": 38,
    "start_time": "2025-02-17T00:18:49.196Z"
   },
   {
    "duration": 7,
    "start_time": "2025-02-17T00:18:49.236Z"
   },
   {
    "duration": 14,
    "start_time": "2025-02-17T00:18:49.244Z"
   },
   {
    "duration": 38,
    "start_time": "2025-02-17T00:18:49.260Z"
   },
   {
    "duration": 42,
    "start_time": "2025-02-17T00:18:49.300Z"
   },
   {
    "duration": 12,
    "start_time": "2025-02-17T00:18:49.347Z"
   },
   {
    "duration": 3,
    "start_time": "2025-02-17T00:18:49.362Z"
   },
   {
    "duration": 14,
    "start_time": "2025-02-17T00:18:49.367Z"
   },
   {
    "duration": 29,
    "start_time": "2025-02-17T00:18:49.383Z"
   },
   {
    "duration": 13,
    "start_time": "2025-02-17T00:18:49.431Z"
   },
   {
    "duration": 14,
    "start_time": "2025-02-17T00:18:49.445Z"
   },
   {
    "duration": 13,
    "start_time": "2025-02-17T00:18:49.461Z"
   },
   {
    "duration": 25,
    "start_time": "2025-02-17T00:18:49.478Z"
   },
   {
    "duration": 98,
    "start_time": "2025-02-17T00:18:49.506Z"
   },
   {
    "duration": 218,
    "start_time": "2025-02-17T00:18:49.606Z"
   },
   {
    "duration": 180,
    "start_time": "2025-02-17T00:18:49.826Z"
   },
   {
    "duration": 11,
    "start_time": "2025-02-17T00:18:50.010Z"
   },
   {
    "duration": 107,
    "start_time": "2025-02-17T00:18:50.024Z"
   },
   {
    "duration": 252,
    "start_time": "2025-02-17T00:18:50.133Z"
   },
   {
    "duration": 224,
    "start_time": "2025-02-17T00:18:50.387Z"
   },
   {
    "duration": 10,
    "start_time": "2025-02-17T00:18:50.613Z"
   },
   {
    "duration": 132,
    "start_time": "2025-02-17T00:18:50.631Z"
   },
   {
    "duration": 201,
    "start_time": "2025-02-17T00:18:50.767Z"
   },
   {
    "duration": 167,
    "start_time": "2025-02-17T00:18:50.970Z"
   },
   {
    "duration": 9,
    "start_time": "2025-02-17T00:18:51.138Z"
   },
   {
    "duration": 116,
    "start_time": "2025-02-17T00:18:51.149Z"
   },
   {
    "duration": 182,
    "start_time": "2025-02-17T00:18:51.268Z"
   },
   {
    "duration": 226,
    "start_time": "2025-02-17T00:18:51.452Z"
   },
   {
    "duration": 14,
    "start_time": "2025-02-17T00:18:51.679Z"
   },
   {
    "duration": 122,
    "start_time": "2025-02-17T00:18:51.695Z"
   },
   {
    "duration": 15,
    "start_time": "2025-02-17T00:18:51.819Z"
   },
   {
    "duration": 7,
    "start_time": "2025-02-17T00:18:51.835Z"
   },
   {
    "duration": 16,
    "start_time": "2025-02-17T00:22:57.168Z"
   },
   {
    "duration": 20,
    "start_time": "2025-02-17T00:23:02.578Z"
   },
   {
    "duration": 15,
    "start_time": "2025-02-17T00:23:36.779Z"
   },
   {
    "duration": 20,
    "start_time": "2025-02-17T00:23:41.520Z"
   },
   {
    "duration": 15,
    "start_time": "2025-02-17T00:23:45.651Z"
   },
   {
    "duration": 20,
    "start_time": "2025-02-17T00:23:54.504Z"
   },
   {
    "duration": 918,
    "start_time": "2025-02-17T00:23:57.383Z"
   },
   {
    "duration": 8,
    "start_time": "2025-02-17T00:24:22.032Z"
   },
   {
    "duration": 15,
    "start_time": "2025-02-17T00:24:43.156Z"
   },
   {
    "duration": 24,
    "start_time": "2025-02-17T00:24:43.661Z"
   },
   {
    "duration": 21,
    "start_time": "2025-02-17T00:24:49.410Z"
   },
   {
    "duration": 111,
    "start_time": "2025-02-17T00:25:35.151Z"
   },
   {
    "duration": 9,
    "start_time": "2025-02-17T00:26:30.640Z"
   },
   {
    "duration": 23,
    "start_time": "2025-02-17T00:27:54.072Z"
   },
   {
    "duration": 51,
    "start_time": "2025-02-17T00:27:54.713Z"
   },
   {
    "duration": 806,
    "start_time": "2025-02-17T00:30:44.416Z"
   },
   {
    "duration": 23,
    "start_time": "2025-02-17T00:31:01.083Z"
   },
   {
    "duration": 623,
    "start_time": "2025-02-17T00:31:06.311Z"
   },
   {
    "duration": 21,
    "start_time": "2025-02-17T00:37:46.262Z"
   },
   {
    "duration": 647,
    "start_time": "2025-02-17T00:37:47.421Z"
   },
   {
    "duration": 640,
    "start_time": "2025-02-17T00:38:00.419Z"
   },
   {
    "duration": 707,
    "start_time": "2025-02-17T00:38:17.015Z"
   },
   {
    "duration": 21,
    "start_time": "2025-02-17T00:39:43.513Z"
   },
   {
    "duration": 491,
    "start_time": "2025-02-17T00:39:45.585Z"
   },
   {
    "duration": 18,
    "start_time": "2025-02-17T01:13:59.214Z"
   },
   {
    "duration": 600,
    "start_time": "2025-02-17T01:14:00.309Z"
   },
   {
    "duration": 17,
    "start_time": "2025-02-17T01:14:49.975Z"
   },
   {
    "duration": 486,
    "start_time": "2025-02-17T01:14:50.935Z"
   },
   {
    "duration": 471,
    "start_time": "2025-02-17T01:15:12.884Z"
   },
   {
    "duration": 475,
    "start_time": "2025-02-17T01:15:22.413Z"
   },
   {
    "duration": 26,
    "start_time": "2025-02-17T01:16:08.991Z"
   },
   {
    "duration": 790,
    "start_time": "2025-02-17T01:17:44.819Z"
   },
   {
    "duration": 249,
    "start_time": "2025-02-17T01:17:45.613Z"
   },
   {
    "duration": 11,
    "start_time": "2025-02-17T01:17:45.867Z"
   },
   {
    "duration": 11,
    "start_time": "2025-02-17T01:17:45.880Z"
   },
   {
    "duration": 12,
    "start_time": "2025-02-17T01:17:45.894Z"
   },
   {
    "duration": 26,
    "start_time": "2025-02-17T01:17:45.908Z"
   },
   {
    "duration": 6,
    "start_time": "2025-02-17T01:17:45.936Z"
   },
   {
    "duration": 7,
    "start_time": "2025-02-17T01:17:45.944Z"
   },
   {
    "duration": 6,
    "start_time": "2025-02-17T01:17:45.953Z"
   },
   {
    "duration": 9,
    "start_time": "2025-02-17T01:17:45.961Z"
   },
   {
    "duration": 12,
    "start_time": "2025-02-17T01:17:45.972Z"
   },
   {
    "duration": 49,
    "start_time": "2025-02-17T01:17:45.986Z"
   },
   {
    "duration": 48,
    "start_time": "2025-02-17T01:17:46.036Z"
   },
   {
    "duration": 19,
    "start_time": "2025-02-17T01:17:46.088Z"
   },
   {
    "duration": 40,
    "start_time": "2025-02-17T01:17:46.109Z"
   },
   {
    "duration": 6,
    "start_time": "2025-02-17T01:17:46.152Z"
   },
   {
    "duration": 25,
    "start_time": "2025-02-17T01:17:46.160Z"
   },
   {
    "duration": 11,
    "start_time": "2025-02-17T01:17:46.187Z"
   },
   {
    "duration": 16,
    "start_time": "2025-02-17T01:17:46.200Z"
   },
   {
    "duration": 14,
    "start_time": "2025-02-17T01:17:46.232Z"
   },
   {
    "duration": 19,
    "start_time": "2025-02-17T01:17:46.248Z"
   },
   {
    "duration": 9,
    "start_time": "2025-02-17T01:17:46.269Z"
   },
   {
    "duration": 14,
    "start_time": "2025-02-17T01:17:46.280Z"
   },
   {
    "duration": 8,
    "start_time": "2025-02-17T01:17:46.296Z"
   },
   {
    "duration": 18,
    "start_time": "2025-02-17T01:17:46.331Z"
   },
   {
    "duration": 56,
    "start_time": "2025-02-17T01:17:46.351Z"
   },
   {
    "duration": 29,
    "start_time": "2025-02-17T01:17:46.410Z"
   },
   {
    "duration": 19,
    "start_time": "2025-02-17T01:17:46.443Z"
   },
   {
    "duration": 14,
    "start_time": "2025-02-17T01:17:46.463Z"
   },
   {
    "duration": 29,
    "start_time": "2025-02-17T01:17:46.479Z"
   },
   {
    "duration": 33,
    "start_time": "2025-02-17T01:17:46.510Z"
   },
   {
    "duration": 20,
    "start_time": "2025-02-17T01:17:46.548Z"
   },
   {
    "duration": 19,
    "start_time": "2025-02-17T01:17:46.574Z"
   },
   {
    "duration": 37,
    "start_time": "2025-02-17T01:17:46.600Z"
   },
   {
    "duration": 743,
    "start_time": "2025-02-17T01:17:46.639Z"
   },
   {
    "duration": 0,
    "start_time": "2025-02-17T01:17:47.384Z"
   },
   {
    "duration": 1,
    "start_time": "2025-02-17T01:17:47.385Z"
   },
   {
    "duration": 0,
    "start_time": "2025-02-17T01:17:47.387Z"
   },
   {
    "duration": 0,
    "start_time": "2025-02-17T01:17:47.388Z"
   },
   {
    "duration": 0,
    "start_time": "2025-02-17T01:17:47.390Z"
   },
   {
    "duration": 0,
    "start_time": "2025-02-17T01:17:47.391Z"
   },
   {
    "duration": 0,
    "start_time": "2025-02-17T01:17:47.392Z"
   },
   {
    "duration": 0,
    "start_time": "2025-02-17T01:17:47.393Z"
   },
   {
    "duration": 0,
    "start_time": "2025-02-17T01:17:47.395Z"
   },
   {
    "duration": 0,
    "start_time": "2025-02-17T01:17:47.396Z"
   },
   {
    "duration": 0,
    "start_time": "2025-02-17T01:17:47.397Z"
   },
   {
    "duration": 0,
    "start_time": "2025-02-17T01:17:47.398Z"
   },
   {
    "duration": 0,
    "start_time": "2025-02-17T01:17:47.399Z"
   },
   {
    "duration": 0,
    "start_time": "2025-02-17T01:17:47.400Z"
   },
   {
    "duration": 0,
    "start_time": "2025-02-17T01:17:47.401Z"
   },
   {
    "duration": 0,
    "start_time": "2025-02-17T01:17:47.402Z"
   },
   {
    "duration": 0,
    "start_time": "2025-02-17T01:17:47.403Z"
   },
   {
    "duration": 0,
    "start_time": "2025-02-17T01:17:47.405Z"
   },
   {
    "duration": 62,
    "start_time": "2025-02-17T01:18:34.871Z"
   },
   {
    "duration": 4,
    "start_time": "2025-02-17T01:22:16.188Z"
   },
   {
    "duration": 34,
    "start_time": "2025-02-17T01:22:35.612Z"
   },
   {
    "duration": 892,
    "start_time": "2025-02-17T01:24:30.414Z"
   },
   {
    "duration": 244,
    "start_time": "2025-02-17T01:24:31.310Z"
   },
   {
    "duration": 11,
    "start_time": "2025-02-17T01:24:31.563Z"
   },
   {
    "duration": 10,
    "start_time": "2025-02-17T01:24:31.577Z"
   },
   {
    "duration": 10,
    "start_time": "2025-02-17T01:24:31.590Z"
   },
   {
    "duration": 8,
    "start_time": "2025-02-17T01:24:31.602Z"
   },
   {
    "duration": 5,
    "start_time": "2025-02-17T01:24:31.611Z"
   },
   {
    "duration": 6,
    "start_time": "2025-02-17T01:24:31.618Z"
   },
   {
    "duration": 42,
    "start_time": "2025-02-17T01:24:31.625Z"
   },
   {
    "duration": 10,
    "start_time": "2025-02-17T01:24:31.669Z"
   },
   {
    "duration": 9,
    "start_time": "2025-02-17T01:24:31.681Z"
   },
   {
    "duration": 16,
    "start_time": "2025-02-17T01:24:31.691Z"
   },
   {
    "duration": 54,
    "start_time": "2025-02-17T01:24:31.709Z"
   },
   {
    "duration": 17,
    "start_time": "2025-02-17T01:24:31.767Z"
   },
   {
    "duration": 23,
    "start_time": "2025-02-17T01:24:31.785Z"
   },
   {
    "duration": 3,
    "start_time": "2025-02-17T01:24:31.810Z"
   },
   {
    "duration": 40,
    "start_time": "2025-02-17T01:24:31.814Z"
   },
   {
    "duration": 10,
    "start_time": "2025-02-17T01:24:31.869Z"
   },
   {
    "duration": 13,
    "start_time": "2025-02-17T01:24:31.881Z"
   },
   {
    "duration": 13,
    "start_time": "2025-02-17T01:24:31.896Z"
   },
   {
    "duration": 16,
    "start_time": "2025-02-17T01:24:31.911Z"
   },
   {
    "duration": 34,
    "start_time": "2025-02-17T01:24:31.929Z"
   },
   {
    "duration": 17,
    "start_time": "2025-02-17T01:24:31.975Z"
   },
   {
    "duration": 8,
    "start_time": "2025-02-17T01:24:31.994Z"
   },
   {
    "duration": 14,
    "start_time": "2025-02-17T01:24:32.004Z"
   },
   {
    "duration": 64,
    "start_time": "2025-02-17T01:24:32.019Z"
   },
   {
    "duration": 14,
    "start_time": "2025-02-17T01:24:32.087Z"
   },
   {
    "duration": 18,
    "start_time": "2025-02-17T01:24:32.103Z"
   },
   {
    "duration": 13,
    "start_time": "2025-02-17T01:24:32.122Z"
   },
   {
    "duration": 29,
    "start_time": "2025-02-17T01:24:32.137Z"
   },
   {
    "duration": 16,
    "start_time": "2025-02-17T01:24:32.167Z"
   },
   {
    "duration": 18,
    "start_time": "2025-02-17T01:24:32.185Z"
   },
   {
    "duration": 41,
    "start_time": "2025-02-17T01:24:32.205Z"
   },
   {
    "duration": 48,
    "start_time": "2025-02-17T01:24:32.248Z"
   },
   {
    "duration": 63,
    "start_time": "2025-02-17T01:24:39.866Z"
   },
   {
    "duration": 48,
    "start_time": "2025-02-17T01:30:49.492Z"
   },
   {
    "duration": 824,
    "start_time": "2025-02-17T01:31:16.246Z"
   },
   {
    "duration": 175,
    "start_time": "2025-02-17T01:31:17.075Z"
   },
   {
    "duration": 11,
    "start_time": "2025-02-17T01:31:17.252Z"
   },
   {
    "duration": 11,
    "start_time": "2025-02-17T01:31:17.265Z"
   },
   {
    "duration": 9,
    "start_time": "2025-02-17T01:31:17.278Z"
   },
   {
    "duration": 8,
    "start_time": "2025-02-17T01:31:17.289Z"
   },
   {
    "duration": 32,
    "start_time": "2025-02-17T01:31:17.299Z"
   },
   {
    "duration": 7,
    "start_time": "2025-02-17T01:31:17.333Z"
   },
   {
    "duration": 8,
    "start_time": "2025-02-17T01:31:17.342Z"
   },
   {
    "duration": 10,
    "start_time": "2025-02-17T01:31:17.352Z"
   },
   {
    "duration": 7,
    "start_time": "2025-02-17T01:31:17.364Z"
   },
   {
    "duration": 20,
    "start_time": "2025-02-17T01:31:17.373Z"
   },
   {
    "duration": 67,
    "start_time": "2025-02-17T01:31:17.394Z"
   },
   {
    "duration": 14,
    "start_time": "2025-02-17T01:31:17.464Z"
   },
   {
    "duration": 17,
    "start_time": "2025-02-17T01:31:17.479Z"
   },
   {
    "duration": 4,
    "start_time": "2025-02-17T01:31:17.498Z"
   },
   {
    "duration": 45,
    "start_time": "2025-02-17T01:31:17.503Z"
   },
   {
    "duration": 7,
    "start_time": "2025-02-17T01:31:17.550Z"
   },
   {
    "duration": 16,
    "start_time": "2025-02-17T01:31:17.559Z"
   },
   {
    "duration": 12,
    "start_time": "2025-02-17T01:31:17.577Z"
   },
   {
    "duration": 40,
    "start_time": "2025-02-17T01:31:17.593Z"
   },
   {
    "duration": 9,
    "start_time": "2025-02-17T01:31:17.635Z"
   },
   {
    "duration": 13,
    "start_time": "2025-02-17T01:31:17.646Z"
   },
   {
    "duration": 17,
    "start_time": "2025-02-17T01:31:17.661Z"
   },
   {
    "duration": 19,
    "start_time": "2025-02-17T01:31:17.681Z"
   },
   {
    "duration": 69,
    "start_time": "2025-02-17T01:31:17.702Z"
   },
   {
    "duration": 13,
    "start_time": "2025-02-17T01:31:17.773Z"
   },
   {
    "duration": 12,
    "start_time": "2025-02-17T01:31:17.788Z"
   },
   {
    "duration": 40,
    "start_time": "2025-02-17T01:31:17.802Z"
   },
   {
    "duration": 26,
    "start_time": "2025-02-17T01:31:17.844Z"
   },
   {
    "duration": 14,
    "start_time": "2025-02-17T01:31:17.872Z"
   },
   {
    "duration": 16,
    "start_time": "2025-02-17T01:31:17.889Z"
   },
   {
    "duration": 33,
    "start_time": "2025-02-17T01:31:17.909Z"
   },
   {
    "duration": 30,
    "start_time": "2025-02-17T01:31:17.945Z"
   },
   {
    "duration": 82,
    "start_time": "2025-02-17T01:31:17.977Z"
   },
   {
    "duration": 246,
    "start_time": "2025-02-17T01:31:18.061Z"
   },
   {
    "duration": 179,
    "start_time": "2025-02-17T01:31:18.309Z"
   },
   {
    "duration": 10,
    "start_time": "2025-02-17T01:31:18.490Z"
   },
   {
    "duration": 135,
    "start_time": "2025-02-17T01:31:18.501Z"
   },
   {
    "duration": 269,
    "start_time": "2025-02-17T01:31:18.638Z"
   },
   {
    "duration": 198,
    "start_time": "2025-02-17T01:31:18.911Z"
   },
   {
    "duration": 7,
    "start_time": "2025-02-17T01:31:19.111Z"
   },
   {
    "duration": 125,
    "start_time": "2025-02-17T01:31:19.120Z"
   },
   {
    "duration": 198,
    "start_time": "2025-02-17T01:31:19.247Z"
   },
   {
    "duration": 190,
    "start_time": "2025-02-17T01:31:19.447Z"
   },
   {
    "duration": 9,
    "start_time": "2025-02-17T01:31:19.640Z"
   },
   {
    "duration": 166,
    "start_time": "2025-02-17T01:31:19.651Z"
   },
   {
    "duration": 180,
    "start_time": "2025-02-17T01:31:19.820Z"
   },
   {
    "duration": 193,
    "start_time": "2025-02-17T01:31:20.003Z"
   },
   {
    "duration": 9,
    "start_time": "2025-02-17T01:31:20.199Z"
   },
   {
    "duration": 111,
    "start_time": "2025-02-17T01:31:20.209Z"
   },
   {
    "duration": 14,
    "start_time": "2025-02-17T01:31:20.322Z"
   },
   {
    "duration": 8,
    "start_time": "2025-02-17T01:31:20.339Z"
   },
   {
    "duration": 32,
    "start_time": "2025-02-17T01:34:18.356Z"
   },
   {
    "duration": 22,
    "start_time": "2025-02-17T01:34:28.463Z"
   },
   {
    "duration": 49,
    "start_time": "2025-02-17T01:34:30.561Z"
   },
   {
    "duration": 17,
    "start_time": "2025-02-17T01:35:38.413Z"
   },
   {
    "duration": 605,
    "start_time": "2025-02-17T01:35:38.988Z"
   },
   {
    "duration": 508,
    "start_time": "2025-02-17T01:35:40.529Z"
   },
   {
    "duration": 22,
    "start_time": "2025-02-17T01:37:54.711Z"
   },
   {
    "duration": 14,
    "start_time": "2025-02-17T01:37:55.323Z"
   },
   {
    "duration": 69,
    "start_time": "2025-02-17T01:37:56.113Z"
   },
   {
    "duration": 14,
    "start_time": "2025-02-17T01:37:56.514Z"
   },
   {
    "duration": 41,
    "start_time": "2025-02-17T01:38:04.213Z"
   },
   {
    "duration": 18,
    "start_time": "2025-02-17T01:38:17.387Z"
   },
   {
    "duration": 16,
    "start_time": "2025-02-17T01:38:28.312Z"
   },
   {
    "duration": 726,
    "start_time": "2025-02-17T07:49:26.674Z"
   },
   {
    "duration": 154,
    "start_time": "2025-02-17T07:49:27.406Z"
   },
   {
    "duration": 10,
    "start_time": "2025-02-17T07:49:27.561Z"
   },
   {
    "duration": 8,
    "start_time": "2025-02-17T07:49:27.573Z"
   },
   {
    "duration": 7,
    "start_time": "2025-02-17T07:49:27.583Z"
   },
   {
    "duration": 9,
    "start_time": "2025-02-17T07:49:27.604Z"
   },
   {
    "duration": 6,
    "start_time": "2025-02-17T07:49:27.614Z"
   },
   {
    "duration": 5,
    "start_time": "2025-02-17T07:49:27.621Z"
   },
   {
    "duration": 4,
    "start_time": "2025-02-17T07:49:27.628Z"
   },
   {
    "duration": 8,
    "start_time": "2025-02-17T07:49:27.634Z"
   },
   {
    "duration": 7,
    "start_time": "2025-02-17T07:49:27.644Z"
   },
   {
    "duration": 14,
    "start_time": "2025-02-17T07:49:27.652Z"
   },
   {
    "duration": 32,
    "start_time": "2025-02-17T07:49:27.705Z"
   },
   {
    "duration": 12,
    "start_time": "2025-02-17T07:49:27.741Z"
   },
   {
    "duration": 15,
    "start_time": "2025-02-17T07:49:27.755Z"
   },
   {
    "duration": 4,
    "start_time": "2025-02-17T07:49:27.771Z"
   },
   {
    "duration": 39,
    "start_time": "2025-02-17T07:49:27.776Z"
   },
   {
    "duration": 6,
    "start_time": "2025-02-17T07:49:27.816Z"
   },
   {
    "duration": 11,
    "start_time": "2025-02-17T07:49:27.823Z"
   },
   {
    "duration": 10,
    "start_time": "2025-02-17T07:49:27.836Z"
   },
   {
    "duration": 11,
    "start_time": "2025-02-17T07:49:27.847Z"
   },
   {
    "duration": 7,
    "start_time": "2025-02-17T07:49:27.860Z"
   },
   {
    "duration": 42,
    "start_time": "2025-02-17T07:49:27.869Z"
   },
   {
    "duration": 7,
    "start_time": "2025-02-17T07:49:27.912Z"
   },
   {
    "duration": 13,
    "start_time": "2025-02-17T07:49:27.920Z"
   },
   {
    "duration": 31,
    "start_time": "2025-02-17T07:49:27.935Z"
   },
   {
    "duration": 38,
    "start_time": "2025-02-17T07:49:27.968Z"
   },
   {
    "duration": 12,
    "start_time": "2025-02-17T07:49:28.008Z"
   },
   {
    "duration": 11,
    "start_time": "2025-02-17T07:49:28.022Z"
   },
   {
    "duration": 21,
    "start_time": "2025-02-17T07:49:28.034Z"
   },
   {
    "duration": 10,
    "start_time": "2025-02-17T07:49:28.057Z"
   },
   {
    "duration": 36,
    "start_time": "2025-02-17T07:49:28.069Z"
   },
   {
    "duration": 13,
    "start_time": "2025-02-17T07:49:28.107Z"
   },
   {
    "duration": 17,
    "start_time": "2025-02-17T07:49:28.122Z"
   },
   {
    "duration": 45,
    "start_time": "2025-02-17T07:49:28.140Z"
   },
   {
    "duration": 203,
    "start_time": "2025-02-17T07:49:28.187Z"
   },
   {
    "duration": 165,
    "start_time": "2025-02-17T07:49:28.392Z"
   },
   {
    "duration": 8,
    "start_time": "2025-02-17T07:49:28.560Z"
   },
   {
    "duration": 102,
    "start_time": "2025-02-17T07:49:28.570Z"
   },
   {
    "duration": 218,
    "start_time": "2025-02-17T07:49:28.674Z"
   },
   {
    "duration": 168,
    "start_time": "2025-02-17T07:49:28.897Z"
   },
   {
    "duration": 8,
    "start_time": "2025-02-17T07:49:29.067Z"
   },
   {
    "duration": 108,
    "start_time": "2025-02-17T07:49:29.076Z"
   },
   {
    "duration": 189,
    "start_time": "2025-02-17T07:49:29.185Z"
   },
   {
    "duration": 164,
    "start_time": "2025-02-17T07:49:29.377Z"
   },
   {
    "duration": 9,
    "start_time": "2025-02-17T07:49:29.544Z"
   },
   {
    "duration": 115,
    "start_time": "2025-02-17T07:49:29.555Z"
   },
   {
    "duration": 180,
    "start_time": "2025-02-17T07:49:29.672Z"
   },
   {
    "duration": 159,
    "start_time": "2025-02-17T07:49:29.854Z"
   },
   {
    "duration": 9,
    "start_time": "2025-02-17T07:49:30.014Z"
   },
   {
    "duration": 107,
    "start_time": "2025-02-17T07:49:30.024Z"
   },
   {
    "duration": 6,
    "start_time": "2025-02-17T07:49:30.134Z"
   },
   {
    "duration": 7,
    "start_time": "2025-02-17T07:49:30.142Z"
   },
   {
    "duration": 18,
    "start_time": "2025-02-17T07:50:23.001Z"
   },
   {
    "duration": 11,
    "start_time": "2025-02-17T07:50:32.262Z"
   },
   {
    "duration": 786,
    "start_time": "2025-02-17T07:51:56.945Z"
   },
   {
    "duration": 154,
    "start_time": "2025-02-17T07:51:57.734Z"
   },
   {
    "duration": 10,
    "start_time": "2025-02-17T07:51:57.890Z"
   },
   {
    "duration": 9,
    "start_time": "2025-02-17T07:51:57.901Z"
   },
   {
    "duration": 7,
    "start_time": "2025-02-17T07:51:57.912Z"
   },
   {
    "duration": 7,
    "start_time": "2025-02-17T07:51:57.921Z"
   },
   {
    "duration": 5,
    "start_time": "2025-02-17T07:51:57.929Z"
   },
   {
    "duration": 6,
    "start_time": "2025-02-17T07:51:57.935Z"
   },
   {
    "duration": 5,
    "start_time": "2025-02-17T07:51:57.943Z"
   },
   {
    "duration": 7,
    "start_time": "2025-02-17T07:51:57.952Z"
   },
   {
    "duration": 47,
    "start_time": "2025-02-17T07:51:57.961Z"
   },
   {
    "duration": 15,
    "start_time": "2025-02-17T07:51:58.009Z"
   },
   {
    "duration": 32,
    "start_time": "2025-02-17T07:51:58.025Z"
   },
   {
    "duration": 13,
    "start_time": "2025-02-17T07:51:58.058Z"
   },
   {
    "duration": 36,
    "start_time": "2025-02-17T07:51:58.072Z"
   },
   {
    "duration": 3,
    "start_time": "2025-02-17T07:51:58.110Z"
   },
   {
    "duration": 12,
    "start_time": "2025-02-17T07:51:58.115Z"
   },
   {
    "duration": 6,
    "start_time": "2025-02-17T07:51:58.129Z"
   },
   {
    "duration": 11,
    "start_time": "2025-02-17T07:51:58.136Z"
   },
   {
    "duration": 9,
    "start_time": "2025-02-17T07:51:58.148Z"
   },
   {
    "duration": 12,
    "start_time": "2025-02-17T07:51:58.158Z"
   },
   {
    "duration": 40,
    "start_time": "2025-02-17T07:51:58.171Z"
   },
   {
    "duration": 10,
    "start_time": "2025-02-17T07:51:58.213Z"
   },
   {
    "duration": 6,
    "start_time": "2025-02-17T07:51:58.224Z"
   },
   {
    "duration": 13,
    "start_time": "2025-02-17T07:51:58.232Z"
   },
   {
    "duration": 62,
    "start_time": "2025-02-17T07:51:58.246Z"
   },
   {
    "duration": 11,
    "start_time": "2025-02-17T07:51:58.310Z"
   },
   {
    "duration": 11,
    "start_time": "2025-02-17T07:51:58.326Z"
   },
   {
    "duration": 11,
    "start_time": "2025-02-17T07:51:58.339Z"
   },
   {
    "duration": 21,
    "start_time": "2025-02-17T07:51:58.351Z"
   },
   {
    "duration": 36,
    "start_time": "2025-02-17T07:51:58.374Z"
   },
   {
    "duration": 13,
    "start_time": "2025-02-17T07:51:58.412Z"
   },
   {
    "duration": 12,
    "start_time": "2025-02-17T07:51:58.426Z"
   },
   {
    "duration": 271,
    "start_time": "2025-02-17T07:51:58.439Z"
   },
   {
    "duration": 0,
    "start_time": "2025-02-17T07:51:58.712Z"
   },
   {
    "duration": 0,
    "start_time": "2025-02-17T07:51:58.714Z"
   },
   {
    "duration": 0,
    "start_time": "2025-02-17T07:51:58.715Z"
   },
   {
    "duration": 0,
    "start_time": "2025-02-17T07:51:58.716Z"
   },
   {
    "duration": 0,
    "start_time": "2025-02-17T07:51:58.718Z"
   },
   {
    "duration": 0,
    "start_time": "2025-02-17T07:51:58.720Z"
   },
   {
    "duration": 0,
    "start_time": "2025-02-17T07:51:58.721Z"
   },
   {
    "duration": 0,
    "start_time": "2025-02-17T07:51:58.722Z"
   },
   {
    "duration": 0,
    "start_time": "2025-02-17T07:51:58.723Z"
   },
   {
    "duration": 0,
    "start_time": "2025-02-17T07:51:58.724Z"
   },
   {
    "duration": 0,
    "start_time": "2025-02-17T07:51:58.725Z"
   },
   {
    "duration": 0,
    "start_time": "2025-02-17T07:51:58.726Z"
   },
   {
    "duration": 0,
    "start_time": "2025-02-17T07:51:58.727Z"
   },
   {
    "duration": 0,
    "start_time": "2025-02-17T07:51:58.728Z"
   },
   {
    "duration": 0,
    "start_time": "2025-02-17T07:51:58.729Z"
   },
   {
    "duration": 0,
    "start_time": "2025-02-17T07:51:58.730Z"
   },
   {
    "duration": 0,
    "start_time": "2025-02-17T07:51:58.731Z"
   },
   {
    "duration": 0,
    "start_time": "2025-02-17T07:51:58.732Z"
   },
   {
    "duration": 0,
    "start_time": "2025-02-17T07:51:58.733Z"
   },
   {
    "duration": 749,
    "start_time": "2025-02-17T07:52:24.364Z"
   },
   {
    "duration": 154,
    "start_time": "2025-02-17T07:52:25.115Z"
   },
   {
    "duration": 9,
    "start_time": "2025-02-17T07:52:25.271Z"
   },
   {
    "duration": 9,
    "start_time": "2025-02-17T07:52:25.281Z"
   },
   {
    "duration": 19,
    "start_time": "2025-02-17T07:52:25.292Z"
   },
   {
    "duration": 8,
    "start_time": "2025-02-17T07:52:25.312Z"
   },
   {
    "duration": 4,
    "start_time": "2025-02-17T07:52:25.322Z"
   },
   {
    "duration": 6,
    "start_time": "2025-02-17T07:52:25.328Z"
   },
   {
    "duration": 4,
    "start_time": "2025-02-17T07:52:25.337Z"
   },
   {
    "duration": 7,
    "start_time": "2025-02-17T07:52:25.343Z"
   },
   {
    "duration": 6,
    "start_time": "2025-02-17T07:52:25.352Z"
   },
   {
    "duration": 51,
    "start_time": "2025-02-17T07:52:25.360Z"
   },
   {
    "duration": 39,
    "start_time": "2025-02-17T07:52:25.412Z"
   },
   {
    "duration": 14,
    "start_time": "2025-02-17T07:52:25.456Z"
   },
   {
    "duration": 18,
    "start_time": "2025-02-17T07:52:25.472Z"
   },
   {
    "duration": 3,
    "start_time": "2025-02-17T07:52:25.505Z"
   },
   {
    "duration": 13,
    "start_time": "2025-02-17T07:52:25.510Z"
   },
   {
    "duration": 6,
    "start_time": "2025-02-17T07:52:25.524Z"
   },
   {
    "duration": 11,
    "start_time": "2025-02-17T07:52:25.532Z"
   },
   {
    "duration": 9,
    "start_time": "2025-02-17T07:52:25.545Z"
   },
   {
    "duration": 13,
    "start_time": "2025-02-17T07:52:25.555Z"
   },
   {
    "duration": 7,
    "start_time": "2025-02-17T07:52:25.605Z"
   },
   {
    "duration": 12,
    "start_time": "2025-02-17T07:52:25.613Z"
   },
   {
    "duration": 7,
    "start_time": "2025-02-17T07:52:25.626Z"
   },
   {
    "duration": 13,
    "start_time": "2025-02-17T07:52:25.635Z"
   },
   {
    "duration": 57,
    "start_time": "2025-02-17T07:52:25.649Z"
   },
   {
    "duration": 10,
    "start_time": "2025-02-17T07:52:25.708Z"
   },
   {
    "duration": 12,
    "start_time": "2025-02-17T07:52:25.720Z"
   },
   {
    "duration": 11,
    "start_time": "2025-02-17T07:52:25.734Z"
   },
   {
    "duration": 21,
    "start_time": "2025-02-17T07:52:25.746Z"
   },
   {
    "duration": 45,
    "start_time": "2025-02-17T07:52:25.768Z"
   },
   {
    "duration": 13,
    "start_time": "2025-02-17T07:52:25.815Z"
   },
   {
    "duration": 12,
    "start_time": "2025-02-17T07:52:25.829Z"
   },
   {
    "duration": 246,
    "start_time": "2025-02-17T07:52:25.842Z"
   },
   {
    "duration": 0,
    "start_time": "2025-02-17T07:52:26.090Z"
   },
   {
    "duration": 0,
    "start_time": "2025-02-17T07:52:26.092Z"
   },
   {
    "duration": 0,
    "start_time": "2025-02-17T07:52:26.094Z"
   },
   {
    "duration": 0,
    "start_time": "2025-02-17T07:52:26.095Z"
   },
   {
    "duration": 0,
    "start_time": "2025-02-17T07:52:26.096Z"
   },
   {
    "duration": 0,
    "start_time": "2025-02-17T07:52:26.105Z"
   },
   {
    "duration": 1,
    "start_time": "2025-02-17T07:52:26.105Z"
   },
   {
    "duration": 0,
    "start_time": "2025-02-17T07:52:26.107Z"
   },
   {
    "duration": 1,
    "start_time": "2025-02-17T07:52:26.107Z"
   },
   {
    "duration": 0,
    "start_time": "2025-02-17T07:52:26.108Z"
   },
   {
    "duration": 0,
    "start_time": "2025-02-17T07:52:26.109Z"
   },
   {
    "duration": 0,
    "start_time": "2025-02-17T07:52:26.111Z"
   },
   {
    "duration": 0,
    "start_time": "2025-02-17T07:52:26.112Z"
   },
   {
    "duration": 0,
    "start_time": "2025-02-17T07:52:26.114Z"
   },
   {
    "duration": 0,
    "start_time": "2025-02-17T07:52:26.116Z"
   },
   {
    "duration": 0,
    "start_time": "2025-02-17T07:52:26.118Z"
   },
   {
    "duration": 0,
    "start_time": "2025-02-17T07:52:26.119Z"
   },
   {
    "duration": 0,
    "start_time": "2025-02-17T07:52:26.121Z"
   },
   {
    "duration": 0,
    "start_time": "2025-02-17T07:52:26.122Z"
   },
   {
    "duration": 782,
    "start_time": "2025-02-17T07:52:52.253Z"
   },
   {
    "duration": 155,
    "start_time": "2025-02-17T07:52:53.038Z"
   },
   {
    "duration": 13,
    "start_time": "2025-02-17T07:52:53.195Z"
   },
   {
    "duration": 10,
    "start_time": "2025-02-17T07:52:53.211Z"
   },
   {
    "duration": 8,
    "start_time": "2025-02-17T07:52:53.224Z"
   },
   {
    "duration": 10,
    "start_time": "2025-02-17T07:52:53.234Z"
   },
   {
    "duration": 6,
    "start_time": "2025-02-17T07:52:53.245Z"
   },
   {
    "duration": 6,
    "start_time": "2025-02-17T07:52:53.253Z"
   },
   {
    "duration": 5,
    "start_time": "2025-02-17T07:52:53.261Z"
   },
   {
    "duration": 41,
    "start_time": "2025-02-17T07:52:53.268Z"
   },
   {
    "duration": 7,
    "start_time": "2025-02-17T07:52:53.310Z"
   },
   {
    "duration": 15,
    "start_time": "2025-02-17T07:52:53.318Z"
   },
   {
    "duration": 34,
    "start_time": "2025-02-17T07:52:53.335Z"
   },
   {
    "duration": 36,
    "start_time": "2025-02-17T07:52:53.373Z"
   },
   {
    "duration": 16,
    "start_time": "2025-02-17T07:52:53.411Z"
   },
   {
    "duration": 3,
    "start_time": "2025-02-17T07:52:53.429Z"
   },
   {
    "duration": 12,
    "start_time": "2025-02-17T07:52:53.434Z"
   },
   {
    "duration": 6,
    "start_time": "2025-02-17T07:52:53.448Z"
   },
   {
    "duration": 12,
    "start_time": "2025-02-17T07:52:53.457Z"
   },
   {
    "duration": 10,
    "start_time": "2025-02-17T07:52:53.505Z"
   },
   {
    "duration": 11,
    "start_time": "2025-02-17T07:52:53.517Z"
   },
   {
    "duration": 7,
    "start_time": "2025-02-17T07:52:53.530Z"
   },
   {
    "duration": 9,
    "start_time": "2025-02-17T07:52:53.539Z"
   },
   {
    "duration": 7,
    "start_time": "2025-02-17T07:52:53.549Z"
   },
   {
    "duration": 13,
    "start_time": "2025-02-17T07:52:53.557Z"
   },
   {
    "duration": 67,
    "start_time": "2025-02-17T07:52:53.571Z"
   },
   {
    "duration": 10,
    "start_time": "2025-02-17T07:52:53.640Z"
   },
   {
    "duration": 11,
    "start_time": "2025-02-17T07:52:53.652Z"
   },
   {
    "duration": 10,
    "start_time": "2025-02-17T07:52:53.665Z"
   },
   {
    "duration": 46,
    "start_time": "2025-02-17T07:52:53.676Z"
   },
   {
    "duration": 12,
    "start_time": "2025-02-17T07:52:53.723Z"
   },
   {
    "duration": 13,
    "start_time": "2025-02-17T07:52:53.737Z"
   },
   {
    "duration": 13,
    "start_time": "2025-02-17T07:52:53.751Z"
   },
   {
    "duration": 246,
    "start_time": "2025-02-17T07:52:53.765Z"
   },
   {
    "duration": 0,
    "start_time": "2025-02-17T07:52:54.013Z"
   },
   {
    "duration": 0,
    "start_time": "2025-02-17T07:52:54.014Z"
   },
   {
    "duration": 0,
    "start_time": "2025-02-17T07:52:54.015Z"
   },
   {
    "duration": 0,
    "start_time": "2025-02-17T07:52:54.016Z"
   },
   {
    "duration": 0,
    "start_time": "2025-02-17T07:52:54.017Z"
   },
   {
    "duration": 0,
    "start_time": "2025-02-17T07:52:54.018Z"
   },
   {
    "duration": 0,
    "start_time": "2025-02-17T07:52:54.019Z"
   },
   {
    "duration": 0,
    "start_time": "2025-02-17T07:52:54.020Z"
   },
   {
    "duration": 0,
    "start_time": "2025-02-17T07:52:54.021Z"
   },
   {
    "duration": 0,
    "start_time": "2025-02-17T07:52:54.021Z"
   },
   {
    "duration": 0,
    "start_time": "2025-02-17T07:52:54.023Z"
   },
   {
    "duration": 0,
    "start_time": "2025-02-17T07:52:54.025Z"
   },
   {
    "duration": 0,
    "start_time": "2025-02-17T07:52:54.027Z"
   },
   {
    "duration": 0,
    "start_time": "2025-02-17T07:52:54.028Z"
   },
   {
    "duration": 0,
    "start_time": "2025-02-17T07:52:54.030Z"
   },
   {
    "duration": 0,
    "start_time": "2025-02-17T07:52:54.031Z"
   },
   {
    "duration": 0,
    "start_time": "2025-02-17T07:52:54.033Z"
   },
   {
    "duration": 0,
    "start_time": "2025-02-17T07:52:54.034Z"
   },
   {
    "duration": 0,
    "start_time": "2025-02-17T07:52:54.035Z"
   },
   {
    "duration": 2,
    "start_time": "2025-02-17T07:53:08.542Z"
   },
   {
    "duration": 814,
    "start_time": "2025-02-17T07:53:22.223Z"
   },
   {
    "duration": 167,
    "start_time": "2025-02-17T07:53:23.040Z"
   },
   {
    "duration": 11,
    "start_time": "2025-02-17T07:53:23.208Z"
   },
   {
    "duration": 9,
    "start_time": "2025-02-17T07:53:23.221Z"
   },
   {
    "duration": 7,
    "start_time": "2025-02-17T07:53:23.233Z"
   },
   {
    "duration": 8,
    "start_time": "2025-02-17T07:53:23.242Z"
   },
   {
    "duration": 5,
    "start_time": "2025-02-17T07:53:23.252Z"
   },
   {
    "duration": 7,
    "start_time": "2025-02-17T07:53:23.258Z"
   },
   {
    "duration": 5,
    "start_time": "2025-02-17T07:53:23.267Z"
   },
   {
    "duration": 8,
    "start_time": "2025-02-17T07:53:23.307Z"
   },
   {
    "duration": 7,
    "start_time": "2025-02-17T07:53:23.317Z"
   },
   {
    "duration": 15,
    "start_time": "2025-02-17T07:53:23.325Z"
   },
   {
    "duration": 34,
    "start_time": "2025-02-17T07:53:23.341Z"
   },
   {
    "duration": 39,
    "start_time": "2025-02-17T07:53:23.377Z"
   },
   {
    "duration": 16,
    "start_time": "2025-02-17T07:53:23.418Z"
   },
   {
    "duration": 3,
    "start_time": "2025-02-17T07:53:23.435Z"
   },
   {
    "duration": 12,
    "start_time": "2025-02-17T07:53:23.440Z"
   },
   {
    "duration": 6,
    "start_time": "2025-02-17T07:53:23.454Z"
   },
   {
    "duration": 12,
    "start_time": "2025-02-17T07:53:23.461Z"
   },
   {
    "duration": 9,
    "start_time": "2025-02-17T07:53:23.504Z"
   },
   {
    "duration": 12,
    "start_time": "2025-02-17T07:53:23.515Z"
   },
   {
    "duration": 7,
    "start_time": "2025-02-17T07:53:23.529Z"
   },
   {
    "duration": 10,
    "start_time": "2025-02-17T07:53:23.538Z"
   },
   {
    "duration": 6,
    "start_time": "2025-02-17T07:53:23.550Z"
   },
   {
    "duration": 14,
    "start_time": "2025-02-17T07:53:23.557Z"
   },
   {
    "duration": 35,
    "start_time": "2025-02-17T07:53:23.606Z"
   },
   {
    "duration": 10,
    "start_time": "2025-02-17T07:53:23.643Z"
   },
   {
    "duration": 11,
    "start_time": "2025-02-17T07:53:23.657Z"
   },
   {
    "duration": 11,
    "start_time": "2025-02-17T07:53:23.669Z"
   },
   {
    "duration": 41,
    "start_time": "2025-02-17T07:53:23.681Z"
   },
   {
    "duration": 11,
    "start_time": "2025-02-17T07:53:23.723Z"
   },
   {
    "duration": 13,
    "start_time": "2025-02-17T07:53:23.736Z"
   },
   {
    "duration": 12,
    "start_time": "2025-02-17T07:53:23.750Z"
   },
   {
    "duration": 41,
    "start_time": "2025-02-17T07:53:23.764Z"
   },
   {
    "duration": 45,
    "start_time": "2025-02-17T07:53:23.806Z"
   },
   {
    "duration": 186,
    "start_time": "2025-02-17T07:53:23.854Z"
   },
   {
    "duration": 178,
    "start_time": "2025-02-17T07:53:24.042Z"
   },
   {
    "duration": 8,
    "start_time": "2025-02-17T07:53:24.221Z"
   },
   {
    "duration": 111,
    "start_time": "2025-02-17T07:53:24.231Z"
   },
   {
    "duration": 220,
    "start_time": "2025-02-17T07:53:24.344Z"
   },
   {
    "duration": 174,
    "start_time": "2025-02-17T07:53:24.566Z"
   },
   {
    "duration": 8,
    "start_time": "2025-02-17T07:53:24.742Z"
   },
   {
    "duration": 114,
    "start_time": "2025-02-17T07:53:24.752Z"
   },
   {
    "duration": 184,
    "start_time": "2025-02-17T07:53:24.867Z"
   },
   {
    "duration": 168,
    "start_time": "2025-02-17T07:53:25.053Z"
   },
   {
    "duration": 8,
    "start_time": "2025-02-17T07:53:25.223Z"
   },
   {
    "duration": 109,
    "start_time": "2025-02-17T07:53:25.233Z"
   },
   {
    "duration": 179,
    "start_time": "2025-02-17T07:53:25.343Z"
   },
   {
    "duration": 163,
    "start_time": "2025-02-17T07:53:25.524Z"
   },
   {
    "duration": 17,
    "start_time": "2025-02-17T07:53:25.688Z"
   },
   {
    "duration": 99,
    "start_time": "2025-02-17T07:53:25.707Z"
   },
   {
    "duration": 7,
    "start_time": "2025-02-17T07:53:25.808Z"
   },
   {
    "duration": 6,
    "start_time": "2025-02-17T07:53:25.816Z"
   },
   {
    "duration": 4,
    "start_time": "2025-02-17T07:53:35.707Z"
   },
   {
    "duration": 798,
    "start_time": "2025-02-17T07:53:51.943Z"
   },
   {
    "duration": 157,
    "start_time": "2025-02-17T07:53:52.744Z"
   },
   {
    "duration": 15,
    "start_time": "2025-02-17T07:53:52.903Z"
   },
   {
    "duration": 11,
    "start_time": "2025-02-17T07:53:52.921Z"
   },
   {
    "duration": 8,
    "start_time": "2025-02-17T07:53:52.935Z"
   },
   {
    "duration": 8,
    "start_time": "2025-02-17T07:53:52.945Z"
   },
   {
    "duration": 5,
    "start_time": "2025-02-17T07:53:52.954Z"
   },
   {
    "duration": 6,
    "start_time": "2025-02-17T07:53:52.961Z"
   },
   {
    "duration": 6,
    "start_time": "2025-02-17T07:53:52.968Z"
   },
   {
    "duration": 10,
    "start_time": "2025-02-17T07:53:53.007Z"
   },
   {
    "duration": 7,
    "start_time": "2025-02-17T07:53:53.019Z"
   },
   {
    "duration": 15,
    "start_time": "2025-02-17T07:53:53.028Z"
   },
   {
    "duration": 30,
    "start_time": "2025-02-17T07:53:53.044Z"
   },
   {
    "duration": 40,
    "start_time": "2025-02-17T07:53:53.078Z"
   },
   {
    "duration": 15,
    "start_time": "2025-02-17T07:53:53.119Z"
   },
   {
    "duration": 3,
    "start_time": "2025-02-17T07:53:53.135Z"
   },
   {
    "duration": 12,
    "start_time": "2025-02-17T07:53:53.140Z"
   },
   {
    "duration": 5,
    "start_time": "2025-02-17T07:53:53.154Z"
   },
   {
    "duration": 13,
    "start_time": "2025-02-17T07:53:53.161Z"
   },
   {
    "duration": 39,
    "start_time": "2025-02-17T07:53:53.175Z"
   },
   {
    "duration": 13,
    "start_time": "2025-02-17T07:53:53.215Z"
   },
   {
    "duration": 7,
    "start_time": "2025-02-17T07:53:53.230Z"
   },
   {
    "duration": 10,
    "start_time": "2025-02-17T07:53:53.239Z"
   },
   {
    "duration": 6,
    "start_time": "2025-02-17T07:53:53.250Z"
   },
   {
    "duration": 13,
    "start_time": "2025-02-17T07:53:53.258Z"
   },
   {
    "duration": 34,
    "start_time": "2025-02-17T07:53:53.305Z"
   },
   {
    "duration": 11,
    "start_time": "2025-02-17T07:53:53.340Z"
   },
   {
    "duration": 12,
    "start_time": "2025-02-17T07:53:53.352Z"
   },
   {
    "duration": 12,
    "start_time": "2025-02-17T07:53:53.365Z"
   },
   {
    "duration": 46,
    "start_time": "2025-02-17T07:53:53.379Z"
   },
   {
    "duration": 11,
    "start_time": "2025-02-17T07:53:53.427Z"
   },
   {
    "duration": 14,
    "start_time": "2025-02-17T07:53:53.440Z"
   },
   {
    "duration": 12,
    "start_time": "2025-02-17T07:53:53.455Z"
   },
   {
    "duration": 41,
    "start_time": "2025-02-17T07:53:53.469Z"
   },
   {
    "duration": 44,
    "start_time": "2025-02-17T07:53:53.512Z"
   },
   {
    "duration": 186,
    "start_time": "2025-02-17T07:53:53.558Z"
   },
   {
    "duration": 162,
    "start_time": "2025-02-17T07:53:53.746Z"
   },
   {
    "duration": 7,
    "start_time": "2025-02-17T07:53:53.910Z"
   },
   {
    "duration": 110,
    "start_time": "2025-02-17T07:53:53.919Z"
   },
   {
    "duration": 218,
    "start_time": "2025-02-17T07:53:54.030Z"
   },
   {
    "duration": 164,
    "start_time": "2025-02-17T07:53:54.253Z"
   },
   {
    "duration": 7,
    "start_time": "2025-02-17T07:53:54.419Z"
   },
   {
    "duration": 110,
    "start_time": "2025-02-17T07:53:54.428Z"
   },
   {
    "duration": 182,
    "start_time": "2025-02-17T07:53:54.539Z"
   },
   {
    "duration": 158,
    "start_time": "2025-02-17T07:53:54.722Z"
   },
   {
    "duration": 7,
    "start_time": "2025-02-17T07:53:54.882Z"
   },
   {
    "duration": 106,
    "start_time": "2025-02-17T07:53:54.891Z"
   },
   {
    "duration": 174,
    "start_time": "2025-02-17T07:53:55.005Z"
   },
   {
    "duration": 155,
    "start_time": "2025-02-17T07:53:55.181Z"
   },
   {
    "duration": 8,
    "start_time": "2025-02-17T07:53:55.337Z"
   },
   {
    "duration": 104,
    "start_time": "2025-02-17T07:53:55.346Z"
   },
   {
    "duration": 6,
    "start_time": "2025-02-17T07:53:55.451Z"
   },
   {
    "duration": 6,
    "start_time": "2025-02-17T07:53:55.459Z"
   },
   {
    "duration": 2409,
    "start_time": "2025-02-26T06:13:13.683Z"
   },
   {
    "duration": 229,
    "start_time": "2025-02-26T06:13:16.095Z"
   },
   {
    "duration": 10,
    "start_time": "2025-02-26T06:13:16.325Z"
   },
   {
    "duration": 8,
    "start_time": "2025-02-26T06:13:16.337Z"
   },
   {
    "duration": 8,
    "start_time": "2025-02-26T06:13:16.347Z"
   },
   {
    "duration": 8,
    "start_time": "2025-02-26T06:13:16.356Z"
   },
   {
    "duration": 6,
    "start_time": "2025-02-26T06:13:16.365Z"
   },
   {
    "duration": 6,
    "start_time": "2025-02-26T06:13:16.372Z"
   },
   {
    "duration": 5,
    "start_time": "2025-02-26T06:13:16.380Z"
   },
   {
    "duration": 43,
    "start_time": "2025-02-26T06:13:16.386Z"
   },
   {
    "duration": 6,
    "start_time": "2025-02-26T06:13:16.431Z"
   },
   {
    "duration": 14,
    "start_time": "2025-02-26T06:13:16.439Z"
   },
   {
    "duration": 31,
    "start_time": "2025-02-26T06:13:16.455Z"
   },
   {
    "duration": 37,
    "start_time": "2025-02-26T06:13:16.489Z"
   },
   {
    "duration": 16,
    "start_time": "2025-02-26T06:13:16.528Z"
   },
   {
    "duration": 3,
    "start_time": "2025-02-26T06:13:16.545Z"
   },
   {
    "duration": 11,
    "start_time": "2025-02-26T06:13:16.550Z"
   },
   {
    "duration": 6,
    "start_time": "2025-02-26T06:13:16.563Z"
   },
   {
    "duration": 12,
    "start_time": "2025-02-26T06:13:16.570Z"
   },
   {
    "duration": 42,
    "start_time": "2025-02-26T06:13:16.583Z"
   },
   {
    "duration": 13,
    "start_time": "2025-02-26T06:13:16.627Z"
   },
   {
    "duration": 7,
    "start_time": "2025-02-26T06:13:16.641Z"
   },
   {
    "duration": 9,
    "start_time": "2025-02-26T06:13:16.650Z"
   },
   {
    "duration": 7,
    "start_time": "2025-02-26T06:13:16.661Z"
   },
   {
    "duration": 12,
    "start_time": "2025-02-26T06:13:16.670Z"
   },
   {
    "duration": 68,
    "start_time": "2025-02-26T06:13:16.684Z"
   },
   {
    "duration": 11,
    "start_time": "2025-02-26T06:13:16.753Z"
   },
   {
    "duration": 11,
    "start_time": "2025-02-26T06:13:16.766Z"
   },
   {
    "duration": 11,
    "start_time": "2025-02-26T06:13:16.779Z"
   },
   {
    "duration": 50,
    "start_time": "2025-02-26T06:13:16.791Z"
   },
   {
    "duration": 11,
    "start_time": "2025-02-26T06:13:16.842Z"
   },
   {
    "duration": 12,
    "start_time": "2025-02-26T06:13:16.855Z"
   },
   {
    "duration": 11,
    "start_time": "2025-02-26T06:13:16.868Z"
   },
   {
    "duration": 17,
    "start_time": "2025-02-26T06:13:16.881Z"
   },
   {
    "duration": 65,
    "start_time": "2025-02-26T06:13:16.900Z"
   },
   {
    "duration": 186,
    "start_time": "2025-02-26T06:13:16.967Z"
   },
   {
    "duration": 169,
    "start_time": "2025-02-26T06:13:17.155Z"
   },
   {
    "duration": 8,
    "start_time": "2025-02-26T06:13:17.325Z"
   },
   {
    "duration": 105,
    "start_time": "2025-02-26T06:13:17.335Z"
   },
   {
    "duration": 175,
    "start_time": "2025-02-26T06:13:17.442Z"
   },
   {
    "duration": 167,
    "start_time": "2025-02-26T06:13:17.623Z"
   },
   {
    "duration": 7,
    "start_time": "2025-02-26T06:13:17.792Z"
   },
   {
    "duration": 160,
    "start_time": "2025-02-26T06:13:17.801Z"
   },
   {
    "duration": 188,
    "start_time": "2025-02-26T06:13:17.962Z"
   },
   {
    "duration": 164,
    "start_time": "2025-02-26T06:13:18.152Z"
   },
   {
    "duration": 12,
    "start_time": "2025-02-26T06:13:18.318Z"
   },
   {
    "duration": 102,
    "start_time": "2025-02-26T06:13:18.331Z"
   },
   {
    "duration": 175,
    "start_time": "2025-02-26T06:13:18.434Z"
   },
   {
    "duration": 157,
    "start_time": "2025-02-26T06:13:18.611Z"
   },
   {
    "duration": 8,
    "start_time": "2025-02-26T06:13:18.769Z"
   },
   {
    "duration": 100,
    "start_time": "2025-02-26T06:13:18.778Z"
   },
   {
    "duration": 6,
    "start_time": "2025-02-26T06:13:18.879Z"
   },
   {
    "duration": 6,
    "start_time": "2025-02-26T06:13:18.886Z"
   },
   {
    "duration": 3,
    "start_time": "2025-02-26T06:13:30.464Z"
   },
   {
    "duration": 177,
    "start_time": "2025-02-26T06:13:30.662Z"
   },
   {
    "duration": 9,
    "start_time": "2025-02-26T06:13:31.586Z"
   },
   {
    "duration": 11,
    "start_time": "2025-02-26T06:13:31.953Z"
   },
   {
    "duration": 8,
    "start_time": "2025-02-26T06:13:32.600Z"
   },
   {
    "duration": 9,
    "start_time": "2025-02-26T06:13:33.066Z"
   },
   {
    "duration": 6,
    "start_time": "2025-02-26T06:13:33.234Z"
   },
   {
    "duration": 7,
    "start_time": "2025-02-26T06:13:33.397Z"
   },
   {
    "duration": 6,
    "start_time": "2025-02-26T06:13:33.788Z"
   },
   {
    "duration": 9,
    "start_time": "2025-02-26T06:13:33.885Z"
   },
   {
    "duration": 7,
    "start_time": "2025-02-26T06:13:34.601Z"
   },
   {
    "duration": 16,
    "start_time": "2025-02-26T06:13:34.994Z"
   },
   {
    "duration": 30,
    "start_time": "2025-02-26T06:13:35.177Z"
   },
   {
    "duration": 13,
    "start_time": "2025-02-26T06:13:35.342Z"
   },
   {
    "duration": 14,
    "start_time": "2025-02-26T06:13:35.517Z"
   },
   {
    "duration": 4,
    "start_time": "2025-02-26T06:13:35.695Z"
   },
   {
    "duration": 12,
    "start_time": "2025-02-26T06:13:35.879Z"
   },
   {
    "duration": 7,
    "start_time": "2025-02-26T06:13:36.626Z"
   },
   {
    "duration": 12,
    "start_time": "2025-02-26T06:13:37.030Z"
   },
   {
    "duration": 11,
    "start_time": "2025-02-26T06:13:37.213Z"
   },
   {
    "duration": 13,
    "start_time": "2025-02-26T06:13:37.407Z"
   },
   {
    "duration": 9,
    "start_time": "2025-02-26T06:13:37.592Z"
   },
   {
    "duration": 12,
    "start_time": "2025-02-26T06:13:37.767Z"
   },
   {
    "duration": 7,
    "start_time": "2025-02-26T06:13:38.525Z"
   },
   {
    "duration": 14,
    "start_time": "2025-02-26T06:13:38.936Z"
   },
   {
    "duration": 33,
    "start_time": "2025-02-26T06:13:39.127Z"
   },
   {
    "duration": 11,
    "start_time": "2025-02-26T06:13:39.321Z"
   },
   {
    "duration": 12,
    "start_time": "2025-02-26T06:13:39.495Z"
   },
   {
    "duration": 11,
    "start_time": "2025-02-26T06:13:39.702Z"
   },
   {
    "duration": 21,
    "start_time": "2025-02-26T06:13:40.322Z"
   },
   {
    "duration": 11,
    "start_time": "2025-02-26T06:13:40.518Z"
   },
   {
    "duration": 14,
    "start_time": "2025-02-26T06:13:40.726Z"
   },
   {
    "duration": 14,
    "start_time": "2025-02-26T06:13:40.947Z"
   },
   {
    "duration": 17,
    "start_time": "2025-02-26T06:13:41.140Z"
   },
   {
    "duration": 45,
    "start_time": "2025-02-26T06:13:41.316Z"
   },
   {
    "duration": 158,
    "start_time": "2025-02-26T06:13:42.279Z"
   },
   {
    "duration": 152,
    "start_time": "2025-02-26T06:13:42.638Z"
   },
   {
    "duration": 8,
    "start_time": "2025-02-26T06:13:43.016Z"
   },
   {
    "duration": 93,
    "start_time": "2025-02-26T06:13:43.402Z"
   },
   {
    "duration": 166,
    "start_time": "2025-02-26T06:13:43.954Z"
   },
   {
    "duration": 224,
    "start_time": "2025-02-26T06:13:44.731Z"
   },
   {
    "duration": 8,
    "start_time": "2025-02-26T06:13:45.489Z"
   },
   {
    "duration": 95,
    "start_time": "2025-02-26T06:13:46.472Z"
   },
   {
    "duration": 180,
    "start_time": "2025-02-26T06:13:47.458Z"
   },
   {
    "duration": 150,
    "start_time": "2025-02-26T06:13:48.355Z"
   },
   {
    "duration": 8,
    "start_time": "2025-02-26T06:13:48.925Z"
   },
   {
    "duration": 94,
    "start_time": "2025-02-26T06:13:49.434Z"
   },
   {
    "duration": 163,
    "start_time": "2025-02-26T06:13:50.097Z"
   },
   {
    "duration": 148,
    "start_time": "2025-02-26T06:13:50.572Z"
   },
   {
    "duration": 8,
    "start_time": "2025-02-26T06:13:51.032Z"
   },
   {
    "duration": 88,
    "start_time": "2025-02-26T06:13:51.570Z"
   },
   {
    "duration": 7,
    "start_time": "2025-02-26T06:13:53.168Z"
   },
   {
    "duration": 6,
    "start_time": "2025-02-26T06:13:53.896Z"
   }
  ],
  "kernelspec": {
   "display_name": "Python 3 (ipykernel)",
   "language": "python",
   "name": "python3"
  },
  "language_info": {
   "codemirror_mode": {
    "name": "ipython",
    "version": 3
   },
   "file_extension": ".py",
   "mimetype": "text/x-python",
   "name": "python",
   "nbconvert_exporter": "python",
   "pygments_lexer": "ipython3",
   "version": "3.9.19"
  },
  "toc": {
   "base_numbering": 1,
   "nav_menu": {},
   "number_sections": true,
   "sideBar": true,
   "skip_h1_title": false,
   "title_cell": "Table of Contents",
   "title_sidebar": "Contents",
   "toc_cell": false,
   "toc_position": {
    "height": "calc(100% - 180px)",
    "left": "10px",
    "top": "150px",
    "width": "238.188px"
   },
   "toc_section_display": true,
   "toc_window_display": false
  }
 },
 "nbformat": 4,
 "nbformat_minor": 2
}
