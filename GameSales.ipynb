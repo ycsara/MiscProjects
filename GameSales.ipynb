{
 "cells": [
  {
   "cell_type": "markdown",
   "metadata": {},
   "source": [
    "# Game Sales Data Analysis"
   ]
  },
  {
   "cell_type": "markdown",
   "metadata": {},
   "source": [
    "In this analysis, I will explore factors that influence video games success to help the online store, Ice, optimize its advertising campaigns for the 2017 year. Using a dataset with dates spanning from 1985 to 2016, I will use variables such as user reviews, genres, platforms (e.g., Xbox, PlayStation), sales data, and ESRB (Entertainment Software Rating Board) ratings. The ESRB ratings provide insights into the target audience by categorizing games based on content suitability, such as Teen or Mature.\n",
    "\n",
    "The primary objective is to identify patterns and trends that determine whether a game succeeds in the market. By analyzing these factors, I will pinpoint most successful platforms and strategically plan advertising campaigns to maximize revenue in the next year. This analysis will help make future data-driven decisions to ensure Ice remains competitive in the rapidly evolving video game industry."
   ]
  },
  {
   "cell_type": "markdown",
   "metadata": {},
   "source": [
    " "
   ]
  },
  {
   "cell_type": "markdown",
   "metadata": {},
   "source": [
    "## Initializating and Preparing Data"
   ]
  },
  {
   "cell_type": "code",
   "execution_count": 1,
   "metadata": {},
   "outputs": [],
   "source": [
    "# loading all the libraries\n",
    "import pandas as pd\n",
    "from matplotlib import pyplot as plt\n",
    "from IPython.display import display_html\n",
    "from scipy import stats as st\n",
    "import plotly.express as px\n",
    "import seaborn as sns\n",
    "import numpy as np"
   ]
  },
  {
   "cell_type": "code",
   "execution_count": 2,
   "metadata": {},
   "outputs": [
    {
     "data": {
      "text/html": [
       "<div>\n",
       "<style scoped>\n",
       "    .dataframe tbody tr th:only-of-type {\n",
       "        vertical-align: middle;\n",
       "    }\n",
       "\n",
       "    .dataframe tbody tr th {\n",
       "        vertical-align: top;\n",
       "    }\n",
       "\n",
       "    .dataframe thead th {\n",
       "        text-align: right;\n",
       "    }\n",
       "</style>\n",
       "<table border=\"1\" class=\"dataframe\">\n",
       "  <thead>\n",
       "    <tr style=\"text-align: right;\">\n",
       "      <th></th>\n",
       "      <th>Name</th>\n",
       "      <th>Platform</th>\n",
       "      <th>Year_of_Release</th>\n",
       "      <th>Genre</th>\n",
       "      <th>NA_sales</th>\n",
       "      <th>EU_sales</th>\n",
       "      <th>JP_sales</th>\n",
       "      <th>Other_sales</th>\n",
       "      <th>Critic_Score</th>\n",
       "      <th>User_Score</th>\n",
       "      <th>Rating</th>\n",
       "    </tr>\n",
       "  </thead>\n",
       "  <tbody>\n",
       "    <tr>\n",
       "      <th>0</th>\n",
       "      <td>Wii Sports</td>\n",
       "      <td>Wii</td>\n",
       "      <td>2006.0</td>\n",
       "      <td>Sports</td>\n",
       "      <td>41.36</td>\n",
       "      <td>28.96</td>\n",
       "      <td>3.77</td>\n",
       "      <td>8.45</td>\n",
       "      <td>76.0</td>\n",
       "      <td>8</td>\n",
       "      <td>E</td>\n",
       "    </tr>\n",
       "    <tr>\n",
       "      <th>1</th>\n",
       "      <td>Super Mario Bros.</td>\n",
       "      <td>NES</td>\n",
       "      <td>1985.0</td>\n",
       "      <td>Platform</td>\n",
       "      <td>29.08</td>\n",
       "      <td>3.58</td>\n",
       "      <td>6.81</td>\n",
       "      <td>0.77</td>\n",
       "      <td>NaN</td>\n",
       "      <td>NaN</td>\n",
       "      <td>NaN</td>\n",
       "    </tr>\n",
       "    <tr>\n",
       "      <th>2</th>\n",
       "      <td>Mario Kart Wii</td>\n",
       "      <td>Wii</td>\n",
       "      <td>2008.0</td>\n",
       "      <td>Racing</td>\n",
       "      <td>15.68</td>\n",
       "      <td>12.76</td>\n",
       "      <td>3.79</td>\n",
       "      <td>3.29</td>\n",
       "      <td>82.0</td>\n",
       "      <td>8.3</td>\n",
       "      <td>E</td>\n",
       "    </tr>\n",
       "    <tr>\n",
       "      <th>3</th>\n",
       "      <td>Wii Sports Resort</td>\n",
       "      <td>Wii</td>\n",
       "      <td>2009.0</td>\n",
       "      <td>Sports</td>\n",
       "      <td>15.61</td>\n",
       "      <td>10.93</td>\n",
       "      <td>3.28</td>\n",
       "      <td>2.95</td>\n",
       "      <td>80.0</td>\n",
       "      <td>8</td>\n",
       "      <td>E</td>\n",
       "    </tr>\n",
       "    <tr>\n",
       "      <th>4</th>\n",
       "      <td>Pokemon Red/Pokemon Blue</td>\n",
       "      <td>GB</td>\n",
       "      <td>1996.0</td>\n",
       "      <td>Role-Playing</td>\n",
       "      <td>11.27</td>\n",
       "      <td>8.89</td>\n",
       "      <td>10.22</td>\n",
       "      <td>1.00</td>\n",
       "      <td>NaN</td>\n",
       "      <td>NaN</td>\n",
       "      <td>NaN</td>\n",
       "    </tr>\n",
       "  </tbody>\n",
       "</table>\n",
       "</div>"
      ],
      "text/plain": [
       "                       Name Platform  Year_of_Release         Genre  NA_sales  \\\n",
       "0                Wii Sports      Wii           2006.0        Sports     41.36   \n",
       "1         Super Mario Bros.      NES           1985.0      Platform     29.08   \n",
       "2            Mario Kart Wii      Wii           2008.0        Racing     15.68   \n",
       "3         Wii Sports Resort      Wii           2009.0        Sports     15.61   \n",
       "4  Pokemon Red/Pokemon Blue       GB           1996.0  Role-Playing     11.27   \n",
       "\n",
       "   EU_sales  JP_sales  Other_sales  Critic_Score User_Score Rating  \n",
       "0     28.96      3.77         8.45          76.0          8      E  \n",
       "1      3.58      6.81         0.77           NaN        NaN    NaN  \n",
       "2     12.76      3.79         3.29          82.0        8.3      E  \n",
       "3     10.93      3.28         2.95          80.0          8      E  \n",
       "4      8.89     10.22         1.00           NaN        NaN    NaN  "
      ]
     },
     "execution_count": 2,
     "metadata": {},
     "output_type": "execute_result"
    }
   ],
   "source": [
    "games = pd.read_csv('/datasets/games.csv'); games.head()"
   ]
  },
  {
   "cell_type": "markdown",
   "metadata": {},
   "source": [
    "According to the documentation:\n",
    "- `'Name'` — Name of the video game\n",
    "- `'Platform'` — Platform of where the video game was released\n",
    "- `'Year_of_Release '` — The year the video game was released\n",
    "- `'Genre '` — The genre or category of the video game\n",
    "- `'NA_Sales'` — Total sales of the video game in North America (in millions of units)\n",
    "- `'EU_Sales'` — Total sales of the video game in Europe (in millions of units)\n",
    "- `'JP_Sales'` — Total sales of the video game in Japan (in millions of units)\n",
    "- `'Other_sales'` — Total sales of the video game in other regions (in millions of units)\n",
    "- `'Critic_Score '` — Average score given by professional critics (0-100)\n",
    "- `'User_Score '` — Average score given by users (typically on a scale of 0 to 10)\n",
    "- `'Rating'` — The official content rating of the video game"
   ]
  },
  {
   "cell_type": "code",
   "execution_count": 3,
   "metadata": {},
   "outputs": [
    {
     "data": {
      "text/plain": [
       "2"
      ]
     },
     "execution_count": 3,
     "metadata": {},
     "output_type": "execute_result"
    }
   ],
   "source": [
    "games.columns = games.columns.str.lower() # lowercasing column names\n",
    "games.duplicated(subset=['name', 'platform', 'year_of_release']).sum() # checking for duplicates"
   ]
  },
  {
   "cell_type": "code",
   "execution_count": 4,
   "metadata": {},
   "outputs": [
    {
     "data": {
      "text/plain": [
       "name                  1\n",
       "platform              0\n",
       "year_of_release     269\n",
       "genre                 1\n",
       "na_sales              0\n",
       "eu_sales              0\n",
       "jp_sales              0\n",
       "other_sales           0\n",
       "critic_score       8577\n",
       "user_score         6700\n",
       "rating             6765\n",
       "dtype: int64"
      ]
     },
     "execution_count": 4,
     "metadata": {},
     "output_type": "execute_result"
    }
   ],
   "source": [
    "games = games.drop_duplicates(subset=['name', 'platform', 'year_of_release'])\n",
    "games.isna().sum() # checking for missing values"
   ]
  },
  {
   "cell_type": "code",
   "execution_count": 5,
   "metadata": {},
   "outputs": [
    {
     "name": "stdout",
     "output_type": "stream",
     "text": [
      "<class 'pandas.core.frame.DataFrame'>\n",
      "Int64Index: 16443 entries, 0 to 16714\n",
      "Data columns (total 12 columns):\n",
      " #   Column           Non-Null Count  Dtype  \n",
      "---  ------           --------------  -----  \n",
      " 0   name             16443 non-null  object \n",
      " 1   platform         16443 non-null  object \n",
      " 2   year_of_release  16443 non-null  int64  \n",
      " 3   genre            16443 non-null  object \n",
      " 4   na_sales         16443 non-null  float64\n",
      " 5   eu_sales         16443 non-null  float64\n",
      " 6   jp_sales         16443 non-null  float64\n",
      " 7   other_sales      16443 non-null  float64\n",
      " 8   critic_score     7982 non-null   float64\n",
      " 9   user_score       7462 non-null   float64\n",
      " 10  rating           9767 non-null   object \n",
      " 11  total_sales      16443 non-null  float64\n",
      "dtypes: float64(7), int64(1), object(4)\n",
      "memory usage: 1.6+ MB\n"
     ]
    }
   ],
   "source": [
    "# drop unnecessary values\n",
    "games = games.dropna(subset=['year_of_release', 'name', 'genre'])\n",
    "# converting data (with missing values) to required types\n",
    "games['user_score'] = pd.to_numeric(games['user_score'].replace('tbd', np.nan), errors='coerce')\n",
    "games['critic_score'] = pd.to_numeric(games['critic_score'], errors='coerce')\n",
    "games['year_of_release'] = games['year_of_release'].astype(int)\n",
    "games['user_score'] = pd.to_numeric(games['user_score']).astype(float)\n",
    "# add a total sales column in the dataframe\n",
    "games['total_sales'] = games['na_sales'] + games['eu_sales'] + games['jp_sales'] + games['other_sales']\n",
    "games.info() # general summary/information"
   ]
  },
  {
   "cell_type": "markdown",
   "metadata": {},
   "source": [
    "In the preparation phase, I addressed several issues to ensure the dataset was clean. First, I standardized all column names by converting them to lowercase for uniformity. Next, I identified and removed duplicate entries—specifically two rows that shared identical values for the game name, platform, and release year. Then, I addressed missing values across multiple variables, including `name`, `year_of_release`, `genre`, `critic_score`, `user_score`, and `rating`. Since missing values in `name`, `year_of_release`, and `genre` were minimal, I dropped these rows to maintain data integrity. For the `user_score` column, I treated entries marked as 'tbd' (to be determined) as missing values, as they could not be reliably imputed.\n",
    "\n",
    "Additionally, I made the necessary data type conversions: changing `user_score` and `critic_score` from strings to floats to accommodate decimal values, and converting `year_of_release` to integers for proper numerical representation. Lastly, I created a new column, `total_sales`, which aggregates regional sales figures from North America, Europe, and Japan into a single metric.\n",
    "\n",
    "These preprocessing steps have resulted in a clean, structured dataset that is now ready for in-depth analysis."
   ]
  },
  {
   "cell_type": "markdown",
   "metadata": {},
   "source": [
    " "
   ]
  },
  {
   "cell_type": "markdown",
   "metadata": {},
   "source": [
    "## Analyzing the Data"
   ]
  },
  {
   "cell_type": "code",
   "execution_count": 6,
   "metadata": {},
   "outputs": [
    {
     "data": {
      "image/png": "[encoded data removed]",
      "text/plain": [
       "<Figure size 640x480 with 1 Axes>"
      ]
     },
     "metadata": {},
     "output_type": "display_data"
    }
   ],
   "source": [
    "year_counts = games['year_of_release'].value_counts().reset_index().rename(\n",
    "    columns={'index': 'year', 'year_of_release': 'count'})\n",
    "plt.bar(year_counts['year'], year_counts['count'], color='blue')\n",
    "plt.xlabel('Year of Release')\n",
    "plt.ylabel('Number of Games Released')\n",
    "plt.title('Number of Games Released by Year');"
   ]
  },
  {
   "cell_type": "markdown",
   "metadata": {},
   "source": [
    "This bar chart shows clear trends in video game releases over time, illustrating the evolution of the industry. During the early years of gaming (1980–1990), the number of releases was low (under 200 games), as video games were still a niche market with limited technology and audience reach. However, the industry experienced great growth in years 2005–2010, with a sharp increase in releases as gaming became popular, technology advanced, and new platforms emerged. After 2010, the number of releases declined significantly, likely because of market saturation, rising development costs, and a shift toward fewer but higher-quality games."
   ]
  },
  {
   "cell_type": "code",
   "execution_count": 7,
   "metadata": {},
   "outputs": [
    {
     "data": {
      "image/png": "[encoded data removed]",
      "text/plain": [
       "<Figure size 1200x800 with 1 Axes>"
      ]
     },
     "metadata": {},
     "output_type": "display_data"
    }
   ],
   "source": [
    "plt.figure(figsize=(12, 8))\n",
    "top_sales = games.groupby('platform')['total_sales'].sum().sort_values(ascending=False).reset_index()\n",
    "plt.rcParams['axes.prop_cycle'] = plt.cycler(color=plt.cm.tab20.colors)\n",
    "\n",
    "for i in range(len(top_sales)):\n",
    "    platform = top_sales['platform'][i]\n",
    "    graph = games[games['platform'] == \n",
    "                  platform].groupby('year_of_release')['total_sales'].sum().reset_index()\n",
    "    plt.plot(graph['year_of_release'], graph['total_sales'], label=f\"{platform}\", alpha=0.8, linewidth=2)\n",
    "\n",
    "plt.xlabel('Year of Release')\n",
    "plt.ylabel('Total Sales (millions)')\n",
    "plt.title('Total Sales by Platform Over Years')\n",
    "plt.legend(bbox_to_anchor=(1.025, 1.06), title='Platforms', frameon=False)\n",
    "plt.show()"
   ]
  },
  {
   "cell_type": "markdown",
   "metadata": {},
   "source": [
    "To start with the 2017 forecasting process, the line graph shows insight in platform lifecycles, historical trends, and market shifts. Platforms like the PS2, PSP, and DS were popular but now show zero sales, demonstrating how most gaming platforms have a 5 to 10-year lifespan. For instance, the original PlayStation (1995–2003) thrived during its peak but has since been replaced by newer platforms.\n",
    "\n",
    "In addition, the total sales by platform is illustrated over time, aligning with the earlier bar chart and confirming that pre-2000s platforms had a low amount of sales and that many post-2010 platforms saw declining releases.\n",
    "\n",
    "Given this trend, the data for earlier years (1980s–1990s) is not relevant for forecasting 2017 sales, as the industry's dynamics and consumer behavior have evolved substantially. Also, the sharp decline post-2010 must be accounted for, since this suggests changing business strategies in the gaming industry. To improve accuracy, the analysis should prioritize recent data and the average life of platforms, as it better reflects current industry conditions and consumer demand leading into 2017. Therefore, I will now only work with data only after the year 2012."
   ]
  },
  {
   "cell_type": "code",
   "execution_count": 9,
   "metadata": {},
   "outputs": [
    {
     "data": {
      "text/html": [
       "<div>\n",
       "<style scoped>\n",
       "    .dataframe tbody tr th:only-of-type {\n",
       "        vertical-align: middle;\n",
       "    }\n",
       "\n",
       "    .dataframe tbody tr th {\n",
       "        vertical-align: top;\n",
       "    }\n",
       "\n",
       "    .dataframe thead th {\n",
       "        text-align: right;\n",
       "    }\n",
       "</style>\n",
       "<table border=\"1\" class=\"dataframe\">\n",
       "  <thead>\n",
       "    <tr style=\"text-align: right;\">\n",
       "      <th>platform</th>\n",
       "      <th>3DS</th>\n",
       "      <th>DS</th>\n",
       "      <th>PC</th>\n",
       "      <th>PS3</th>\n",
       "      <th>PS4</th>\n",
       "      <th>PSP</th>\n",
       "      <th>PSV</th>\n",
       "      <th>Wii</th>\n",
       "      <th>WiiU</th>\n",
       "      <th>X360</th>\n",
       "      <th>XOne</th>\n",
       "    </tr>\n",
       "    <tr>\n",
       "      <th>year_of_release</th>\n",
       "      <th></th>\n",
       "      <th></th>\n",
       "      <th></th>\n",
       "      <th></th>\n",
       "      <th></th>\n",
       "      <th></th>\n",
       "      <th></th>\n",
       "      <th></th>\n",
       "      <th></th>\n",
       "      <th></th>\n",
       "      <th></th>\n",
       "    </tr>\n",
       "  </thead>\n",
       "  <tbody>\n",
       "    <tr>\n",
       "      <th>2012</th>\n",
       "      <td>51.36</td>\n",
       "      <td>11.01</td>\n",
       "      <td>23.22</td>\n",
       "      <td>107.35</td>\n",
       "      <td>NaN</td>\n",
       "      <td>7.69</td>\n",
       "      <td>16.19</td>\n",
       "      <td>21.71</td>\n",
       "      <td>17.56</td>\n",
       "      <td>99.74</td>\n",
       "      <td>NaN</td>\n",
       "    </tr>\n",
       "    <tr>\n",
       "      <th>2013</th>\n",
       "      <td>56.57</td>\n",
       "      <td>1.54</td>\n",
       "      <td>12.38</td>\n",
       "      <td>113.25</td>\n",
       "      <td>25.99</td>\n",
       "      <td>3.14</td>\n",
       "      <td>10.59</td>\n",
       "      <td>8.59</td>\n",
       "      <td>21.65</td>\n",
       "      <td>88.58</td>\n",
       "      <td>18.96</td>\n",
       "    </tr>\n",
       "    <tr>\n",
       "      <th>2014</th>\n",
       "      <td>43.76</td>\n",
       "      <td>NaN</td>\n",
       "      <td>13.28</td>\n",
       "      <td>47.76</td>\n",
       "      <td>100.00</td>\n",
       "      <td>0.24</td>\n",
       "      <td>11.90</td>\n",
       "      <td>3.75</td>\n",
       "      <td>22.03</td>\n",
       "      <td>34.74</td>\n",
       "      <td>54.07</td>\n",
       "    </tr>\n",
       "    <tr>\n",
       "      <th>2015</th>\n",
       "      <td>27.78</td>\n",
       "      <td>NaN</td>\n",
       "      <td>8.52</td>\n",
       "      <td>16.82</td>\n",
       "      <td>118.90</td>\n",
       "      <td>0.12</td>\n",
       "      <td>6.25</td>\n",
       "      <td>1.14</td>\n",
       "      <td>16.35</td>\n",
       "      <td>11.96</td>\n",
       "      <td>60.14</td>\n",
       "    </tr>\n",
       "    <tr>\n",
       "      <th>2016</th>\n",
       "      <td>15.14</td>\n",
       "      <td>NaN</td>\n",
       "      <td>5.25</td>\n",
       "      <td>3.60</td>\n",
       "      <td>69.25</td>\n",
       "      <td>NaN</td>\n",
       "      <td>4.25</td>\n",
       "      <td>0.18</td>\n",
       "      <td>4.60</td>\n",
       "      <td>1.52</td>\n",
       "      <td>26.15</td>\n",
       "    </tr>\n",
       "  </tbody>\n",
       "</table>\n",
       "</div>"
      ],
      "text/plain": [
       "platform           3DS     DS     PC     PS3     PS4   PSP    PSV    Wii  \\\n",
       "year_of_release                                                            \n",
       "2012             51.36  11.01  23.22  107.35     NaN  7.69  16.19  21.71   \n",
       "2013             56.57   1.54  12.38  113.25   25.99  3.14  10.59   8.59   \n",
       "2014             43.76    NaN  13.28   47.76  100.00  0.24  11.90   3.75   \n",
       "2015             27.78    NaN   8.52   16.82  118.90  0.12   6.25   1.14   \n",
       "2016             15.14    NaN   5.25    3.60   69.25   NaN   4.25   0.18   \n",
       "\n",
       "platform          WiiU   X360   XOne  \n",
       "year_of_release                       \n",
       "2012             17.56  99.74    NaN  \n",
       "2013             21.65  88.58  18.96  \n",
       "2014             22.03  34.74  54.07  \n",
       "2015             16.35  11.96  60.14  \n",
       "2016              4.60   1.52  26.15  "
      ]
     },
     "execution_count": 9,
     "metadata": {},
     "output_type": "execute_result"
    }
   ],
   "source": [
    "games.query('year_of_release>2011').pivot_table(index='year_of_release', columns='platform', \n",
    "                                               values='total_sales', aggfunc='sum')   "
   ]
  },
  {
   "cell_type": "markdown",
   "metadata": {},
   "source": [
    "The pivot table shows the total sales trends across gaming platforms from 2012-2016. All platforms show declining sales, with previously popular ones like the DS and PSP dropping to zero sales, confirming our earlier observations about platform 5-10 year replacement cycle. However, three platforms come out as the most promising due to their sustained performance: the 3DS, PS4, and Xbox One. While these systems have a gradual decline, their 2016 sales (3DS: 15.14M, PS4: 69.25M, Xbox One: 26.15M) remained significantly above their competitors."
   ]
  },
  {
   "cell_type": "code",
   "execution_count": 10,
   "metadata": {},
   "outputs": [
    {
     "data": {
      "image/png": "[encoded data removed]",
      "text/plain": [
       "<Figure size 700x400 with 1 Axes>"
      ]
     },
     "metadata": {},
     "output_type": "display_data"
    }
   ],
   "source": [
    "plt.figure(figsize=(7, 4))\n",
    "games = games[games['year_of_release'] >= 2012]\n",
    "sns.boxplot(x='platform', y='total_sales', data=games[['platform', 'total_sales']])\n",
    "plt.title(\"Global Sales of all Games\")\n",
    "plt.xlabel(\"Platform\")\n",
    "plt.ylabel(\"Total Sales (Millions)\")\n",
    "plt.tight_layout()\n",
    "plt.ylim(0,3)\n",
    "plt.show()"
   ]
  },
  {
   "cell_type": "markdown",
   "metadata": {},
   "source": [
    "Now that the data is adjusted, this box plot of total sales across platforms displays important information about the gaming industry from 2012-2016. Focusing on the 11 active platforms, we observe that while some individual games like PS3 achieved high sales, the median and average sales across all platforms consistently were far below the 5 million unit mark. This shows there are no statistically significant differences in average sales performance between platforms during these years. This holds true even the three most promising platforms (3DS, PS4, and Xbox One), whose median sales are close with other platforms despite their superior total sales. This suggests that while these platforms had more breakout hits, total sales performance was consistent regardless of platform. The contradiction between total sales and median figures implies that platform success was driven mostly by a handful of exceptional titles rather than consistent platform superiority."
   ]
  },
  {
   "cell_type": "code",
   "execution_count": null,
   "metadata": {},
   "outputs": [
    {
     "name": "stdout",
     "output_type": "stream",
     "text": [
      "3DS Correlations: User Score = 0.20, Critic Score = 0.32\n",
      "PS4 Correlations: User Score = -0.03, Critic Score = 0.41\n",
      "XOne Correlations: User Score = -0.07, Critic Score = 0.42\n"
     ]
    },
    {
     "data": {
      "image/png": "[encoded data removed]",
      "text/plain": [
       "<Figure size 1800x1200 with 6 Axes>"
      ]
     },
     "metadata": {},
     "output_type": "display_data"
    }
   ],
   "source": [
    "promising = {'3DS': 'blue', 'PS4': 'green', 'XOne': 'red'}\n",
    "fig, axes = plt.subplots(nrows=3, ncols=2, figsize=(18, 12))\n",
    "\n",
    "for i, (platform, color) in enumerate(promising.items()):\n",
    "    data = games[games['platform'] == platform]\n",
    "    \n",
    "    sns.scatterplot(data=data, x='user_score', y='total_sales', \n",
    "                    ax=axes[i, 0], color=color, alpha=0.6)\n",
    "    axes[i, 0].set_title(f'{platform}: User Score vs. Sales')\n",
    "    axes[i, 0].set_xlabel('User Score (0-10)')\n",
    "    axes[i, 0].set_ylabel('Total Sales (millions)')\n",
    "\n",
    "    sns.scatterplot(data=data, x='critic_score', y='total_sales', \n",
    "                    ax=axes[i, 1], color=color, alpha=0.6)\n",
    "    axes[i, 1].set_title(f'{platform}: Critic Score vs. Sales')\n",
    "    axes[i, 1].set_xlabel('Critic Score (0-100)')\n",
    "    axes[i, 1].set_ylabel('Total Sales (millions)')\n",
    "    \n",
    "    user_corr = data['user_score'].corr(data['total_sales'])\n",
    "    critic_corr = data['critic_score'].corr(data['total_sales'])\n",
    "    print(f\"{platform} Correlations: User Score = {user_corr:.2f}, Critic Score = {critic_corr:.2f}\")\n",
    "\n",
    "plt.tight_layout()\n",
    "plt.show()"
   ]
  },
  {
   "cell_type": "markdown",
   "metadata": {},
   "source": [
    "The correlation analysis reveals distinct patterns in how reviews influence sales for our three focus platforms:\n",
    "\n",
    "For the 3DS, there is a moderate positive correlations for both user scores (r=0.20) and critic scores (r=0.32). This balanced relationship suggests Nintendo's audience values both professional and community feedback when making purchases, though critic opinions appear slightly more influential. The clustering of most data points at lower sales levels shows that while reviews are important, other factors likely drive the majority of 3DS game performance.\n",
    "\n",
    "The PS4 has a more different picture, with critic scores showing a positive correlation (r=0.41) while user scores have essentially no relationship (r=-0.03). This contrast implies that PlayStation buyers during this period placed significantly more trust in professional reviews than user ratings when evaluating games. The lack of positive user score correlation may show differences in how PlayStation audiences engage with review systems.\n",
    "\n",
    "Lastly, the Xbox One shows the strongest critic correlation (r=0.42) among all platforms while displaying a slight negative relationship with user scores (r=-0.07). This contrast suggests that the Xbox audience not only prioritized critic opinions over user reviews, but that higher user scores sometimes even correlated with lower sales. Several potential explanations can include review bombing of popular titles or a disconnect between hardcore Xbox players and general user rating trends.\n",
    "\n",
    "For marketers, these insights highlight the importance of platform-specific review strategies, with particular emphasis on getting strong critic evaluations for PlayStation and Xbox titles, while maintaining a broader review management approach for Nintendo platforms."
   ]
  },
  {
   "cell_type": "code",
   "execution_count": 19,
   "metadata": {},
   "outputs": [
    {
     "data": {
      "image/png": "[encoded data removed]",
      "text/plain": [
       "<Figure size 700x400 with 1 Axes>"
      ]
     },
     "metadata": {},
     "output_type": "display_data"
    }
   ],
   "source": [
    "plt.figure(figsize=(7, 4))\n",
    "sns.boxplot(x='genre', y='total_sales', data=games[['genre', 'total_sales']])\n",
    "plt.title(\"Global Sales of all Genres\")\n",
    "plt.xlabel(\"Genre\")\n",
    "plt.ylabel(\"Total Sales (Millions)\")\n",
    "plt.xticks(rotation=45)\n",
    "plt.ylim(0,3)\n",
    "plt.tight_layout() \n",
    "plt.show()"
   ]
  },
  {
   "cell_type": "markdown",
   "metadata": {},
   "source": [
    "This graph displays sales distribution across game genres. As shown in the data, nearly all 12 genres exhibit similar sales patterns with relatively low median sales figures, suggesting that most titles across categories sell modestly regardless of genre. However, there are quite a number of high-value outliers in each genre, illustrating that exceptional commercial success is possible in any category.\n",
    "\n",
    "The shooter genre stands out as clearly the most consistently profitable, with both higher median sales and more frequent high-performing outliers compared to other genres. This suggests shooters have particularly strong market appeal and reliable commercial performance. Action and sports genres also show strong performance, though not to the same degree as shooters. At the other end of the spectrum, niche genres like puzzle, strategy, and simulation games show the most constrained sales distributions with few outliers, with a surprising show of role-playing as another genre with lots of hits.\n",
    "\n",
    "These patterns suggest that while genre selection does influence sales potential, any kind of game can become popular. The presence of outliers across all genres imply that factors such as production quality and marketing are dependent on the games' success."
   ]
  },
  {
   "cell_type": "markdown",
   "metadata": {},
   "source": [
    " "
   ]
  },
  {
   "cell_type": "markdown",
   "metadata": {},
   "source": [
    "## Creating User Profile for each Region"
   ]
  },
  {
   "cell_type": "markdown",
   "metadata": {},
   "source": [
    "To better understand global gaming trends, I will now analyze user preferences across three key regions: North America, Europe, and Japan. For each market, I will display the top 5 platforms, genres, and ESRB ratings to identify distinct patterns in consumer behavior."
   ]
  },
  {
   "cell_type": "code",
   "execution_count": 12,
   "metadata": {},
   "outputs": [],
   "source": [
    "def profile(x):\n",
    "    na = games.groupby(x)['na_sales'].sum().reset_index().sort_values(\n",
    "        by='na_sales', ascending=False).reset_index(drop=True).head()\n",
    "    eu = games.groupby(x)['eu_sales'].sum().reset_index().sort_values(\n",
    "        by='eu_sales', ascending=False).reset_index(drop=True).head()\n",
    "    jp = games.groupby(x)['jp_sales'].sum().reset_index().sort_values(\n",
    "        by='jp_sales', ascending=False).reset_index(drop=True).head()\n",
    "        \n",
    "    na_cap = na.style.set_caption(\"North America\").format({'na_sales': '{:.2f}'})\n",
    "    eu_cap = eu.style.set_caption(\"Europe\").format({'eu_sales': '{:.2f}'})\n",
    "    jp_cap = jp.style.set_caption(\"Japan\").format({'jp_sales': '{:.2f}'})\n",
    "    \n",
    "    combine = (na_cap.render() + eu_cap.render() + jp_cap.render())\n",
    "    display_html(combine.replace(\n",
    "        'table', 'table style=\"display:inline-block; margin-right:20px;\"'), raw=True)"
   ]
  },
  {
   "cell_type": "markdown",
   "metadata": {},
   "source": [
    "### Top Five Platforms"
   ]
  },
  {
   "cell_type": "code",
   "execution_count": 13,
   "metadata": {},
   "outputs": [
    {
     "data": {
      "text/html": [
       "<style  type=\"text/css\" >\n",
       "</style><table style=\"display:inline-block; margin-right:20px;\" id=\"T_1736a_\" ><caption>North America</caption><thead>    <tr>        <th class=\"blank level0\" ></th>        <th class=\"col_heading level0 col0\" >platform</th>        <th class=\"col_heading level0 col1\" >na_sales</th>    </tr></thead><tbody>\n",
       "                <tr>\n",
       "                        <th id=\"T_1736a_level0_row0\" class=\"row_heading level0 row0\" >0</th>\n",
       "                        <td id=\"T_1736a_row0_col0\" class=\"data row0 col0\" >X360</td>\n",
       "                        <td id=\"T_1736a_row0_col1\" class=\"data row0 col1\" >140.05</td>\n",
       "            </tr>\n",
       "            <tr>\n",
       "                        <th id=\"T_1736a_level0_row1\" class=\"row_heading level0 row1\" >1</th>\n",
       "                        <td id=\"T_1736a_row1_col0\" class=\"data row1 col0\" >PS4</td>\n",
       "                        <td id=\"T_1736a_row1_col1\" class=\"data row1 col1\" >108.74</td>\n",
       "            </tr>\n",
       "            <tr>\n",
       "                        <th id=\"T_1736a_level0_row2\" class=\"row_heading level0 row2\" >2</th>\n",
       "                        <td id=\"T_1736a_row2_col0\" class=\"data row2 col0\" >PS3</td>\n",
       "                        <td id=\"T_1736a_row2_col1\" class=\"data row2 col1\" >103.38</td>\n",
       "            </tr>\n",
       "            <tr>\n",
       "                        <th id=\"T_1736a_level0_row3\" class=\"row_heading level0 row3\" >3</th>\n",
       "                        <td id=\"T_1736a_row3_col0\" class=\"data row3 col0\" >XOne</td>\n",
       "                        <td id=\"T_1736a_row3_col1\" class=\"data row3 col1\" >93.12</td>\n",
       "            </tr>\n",
       "            <tr>\n",
       "                        <th id=\"T_1736a_level0_row4\" class=\"row_heading level0 row4\" >4</th>\n",
       "                        <td id=\"T_1736a_row4_col0\" class=\"data row4 col0\" >3DS</td>\n",
       "                        <td id=\"T_1736a_row4_col1\" class=\"data row4 col1\" >55.31</td>\n",
       "            </tr>\n",
       "    </tbody></table style=\"display:inline-block; margin-right:20px;\"><style  type=\"text/css\" >\n",
       "</style><table style=\"display:inline-block; margin-right:20px;\" id=\"T_df029_\" ><caption>Europe</caption><thead>    <tr>        <th class=\"blank level0\" ></th>        <th class=\"col_heading level0 col0\" >platform</th>        <th class=\"col_heading level0 col1\" >eu_sales</th>    </tr></thead><tbody>\n",
       "                <tr>\n",
       "                        <th id=\"T_df029_level0_row0\" class=\"row_heading level0 row0\" >0</th>\n",
       "                        <td id=\"T_df029_row0_col0\" class=\"data row0 col0\" >PS4</td>\n",
       "                        <td id=\"T_df029_row0_col1\" class=\"data row0 col1\" >141.09</td>\n",
       "            </tr>\n",
       "            <tr>\n",
       "                        <th id=\"T_df029_level0_row1\" class=\"row_heading level0 row1\" >1</th>\n",
       "                        <td id=\"T_df029_row1_col0\" class=\"data row1 col0\" >PS3</td>\n",
       "                        <td id=\"T_df029_row1_col1\" class=\"data row1 col1\" >106.85</td>\n",
       "            </tr>\n",
       "            <tr>\n",
       "                        <th id=\"T_df029_level0_row2\" class=\"row_heading level0 row2\" >2</th>\n",
       "                        <td id=\"T_df029_row2_col0\" class=\"data row2 col0\" >X360</td>\n",
       "                        <td id=\"T_df029_row2_col1\" class=\"data row2 col1\" >74.52</td>\n",
       "            </tr>\n",
       "            <tr>\n",
       "                        <th id=\"T_df029_level0_row3\" class=\"row_heading level0 row3\" >3</th>\n",
       "                        <td id=\"T_df029_row3_col0\" class=\"data row3 col0\" >XOne</td>\n",
       "                        <td id=\"T_df029_row3_col1\" class=\"data row3 col1\" >51.59</td>\n",
       "            </tr>\n",
       "            <tr>\n",
       "                        <th id=\"T_df029_level0_row4\" class=\"row_heading level0 row4\" >4</th>\n",
       "                        <td id=\"T_df029_row4_col0\" class=\"data row4 col0\" >3DS</td>\n",
       "                        <td id=\"T_df029_row4_col1\" class=\"data row4 col1\" >42.64</td>\n",
       "            </tr>\n",
       "    </tbody></table style=\"display:inline-block; margin-right:20px;\"><style  type=\"text/css\" >\n",
       "</style><table style=\"display:inline-block; margin-right:20px;\" id=\"T_8a068_\" ><caption>Japan</caption><thead>    <tr>        <th class=\"blank level0\" ></th>        <th class=\"col_heading level0 col0\" >platform</th>        <th class=\"col_heading level0 col1\" >jp_sales</th>    </tr></thead><tbody>\n",
       "                <tr>\n",
       "                        <th id=\"T_8a068_level0_row0\" class=\"row_heading level0 row0\" >0</th>\n",
       "                        <td id=\"T_8a068_row0_col0\" class=\"data row0 col0\" >3DS</td>\n",
       "                        <td id=\"T_8a068_row0_col1\" class=\"data row0 col1\" >87.79</td>\n",
       "            </tr>\n",
       "            <tr>\n",
       "                        <th id=\"T_8a068_level0_row1\" class=\"row_heading level0 row1\" >1</th>\n",
       "                        <td id=\"T_8a068_row1_col0\" class=\"data row1 col0\" >PS3</td>\n",
       "                        <td id=\"T_8a068_row1_col1\" class=\"data row1 col1\" >35.29</td>\n",
       "            </tr>\n",
       "            <tr>\n",
       "                        <th id=\"T_8a068_level0_row2\" class=\"row_heading level0 row2\" >2</th>\n",
       "                        <td id=\"T_8a068_row2_col0\" class=\"data row2 col0\" >PSV</td>\n",
       "                        <td id=\"T_8a068_row2_col1\" class=\"data row2 col1\" >21.04</td>\n",
       "            </tr>\n",
       "            <tr>\n",
       "                        <th id=\"T_8a068_level0_row3\" class=\"row_heading level0 row3\" >3</th>\n",
       "                        <td id=\"T_8a068_row3_col0\" class=\"data row3 col0\" >PS4</td>\n",
       "                        <td id=\"T_8a068_row3_col1\" class=\"data row3 col1\" >15.96</td>\n",
       "            </tr>\n",
       "            <tr>\n",
       "                        <th id=\"T_8a068_level0_row4\" class=\"row_heading level0 row4\" >4</th>\n",
       "                        <td id=\"T_8a068_row4_col0\" class=\"data row4 col0\" >WiiU</td>\n",
       "                        <td id=\"T_8a068_row4_col1\" class=\"data row4 col1\" >13.01</td>\n",
       "            </tr>\n",
       "    </tbody></table style=\"display:inline-block; margin-right:20px;\">"
      ]
     },
     "metadata": {},
     "output_type": "display_data"
    }
   ],
   "source": [
    "profile('platform')"
   ]
  },
  {
   "cell_type": "markdown",
   "metadata": {},
   "source": [
    "These tables reveal distinct platform preferences across North America, Europe, and Japan. The PS4, PS3, and 3DS consistently rank among the top platforms in all three regions, demonstrating their global appeal. However, North America leads in total sales volume, likely due to its larger market size, with their top platform X360 at 140M sales. Japan shows unique preferences, with the 3DS ranking highest, suggesting the country's preference for Nintendo's systems. These insights suggest that while PlayStation and Nintendo systems have broad international success, platform strategies must be tailored regionally. "
   ]
  },
  {
   "cell_type": "markdown",
   "metadata": {},
   "source": [
    "### Top Five Genres"
   ]
  },
  {
   "cell_type": "code",
   "execution_count": 14,
   "metadata": {},
   "outputs": [
    {
     "data": {
      "text/html": [
       "<style  type=\"text/css\" >\n",
       "</style><table style=\"display:inline-block; margin-right:20px;\" id=\"T_066fc_\" ><caption>North America</caption><thead>    <tr>        <th class=\"blank level0\" ></th>        <th class=\"col_heading level0 col0\" >genre</th>        <th class=\"col_heading level0 col1\" >na_sales</th>    </tr></thead><tbody>\n",
       "                <tr>\n",
       "                        <th id=\"T_066fc_level0_row0\" class=\"row_heading level0 row0\" >0</th>\n",
       "                        <td id=\"T_066fc_row0_col0\" class=\"data row0 col0\" >Action</td>\n",
       "                        <td id=\"T_066fc_row0_col1\" class=\"data row0 col1\" >177.84</td>\n",
       "            </tr>\n",
       "            <tr>\n",
       "                        <th id=\"T_066fc_level0_row1\" class=\"row_heading level0 row1\" >1</th>\n",
       "                        <td id=\"T_066fc_row1_col0\" class=\"data row1 col0\" >Shooter</td>\n",
       "                        <td id=\"T_066fc_row1_col1\" class=\"data row1 col1\" >144.77</td>\n",
       "            </tr>\n",
       "            <tr>\n",
       "                        <th id=\"T_066fc_level0_row2\" class=\"row_heading level0 row2\" >2</th>\n",
       "                        <td id=\"T_066fc_row2_col0\" class=\"data row2 col0\" >Sports</td>\n",
       "                        <td id=\"T_066fc_row2_col1\" class=\"data row2 col1\" >81.53</td>\n",
       "            </tr>\n",
       "            <tr>\n",
       "                        <th id=\"T_066fc_level0_row3\" class=\"row_heading level0 row3\" >3</th>\n",
       "                        <td id=\"T_066fc_row3_col0\" class=\"data row3 col0\" >Role-Playing</td>\n",
       "                        <td id=\"T_066fc_row3_col1\" class=\"data row3 col1\" >64.00</td>\n",
       "            </tr>\n",
       "            <tr>\n",
       "                        <th id=\"T_066fc_level0_row4\" class=\"row_heading level0 row4\" >4</th>\n",
       "                        <td id=\"T_066fc_row4_col0\" class=\"data row4 col0\" >Misc</td>\n",
       "                        <td id=\"T_066fc_row4_col1\" class=\"data row4 col1\" >38.19</td>\n",
       "            </tr>\n",
       "    </tbody></table style=\"display:inline-block; margin-right:20px;\"><style  type=\"text/css\" >\n",
       "</style><table style=\"display:inline-block; margin-right:20px;\" id=\"T_4815a_\" ><caption>Europe</caption><thead>    <tr>        <th class=\"blank level0\" ></th>        <th class=\"col_heading level0 col0\" >genre</th>        <th class=\"col_heading level0 col1\" >eu_sales</th>    </tr></thead><tbody>\n",
       "                <tr>\n",
       "                        <th id=\"T_4815a_level0_row0\" class=\"row_heading level0 row0\" >0</th>\n",
       "                        <td id=\"T_4815a_row0_col0\" class=\"data row0 col0\" >Action</td>\n",
       "                        <td id=\"T_4815a_row0_col1\" class=\"data row0 col1\" >159.34</td>\n",
       "            </tr>\n",
       "            <tr>\n",
       "                        <th id=\"T_4815a_level0_row1\" class=\"row_heading level0 row1\" >1</th>\n",
       "                        <td id=\"T_4815a_row1_col0\" class=\"data row1 col0\" >Shooter</td>\n",
       "                        <td id=\"T_4815a_row1_col1\" class=\"data row1 col1\" >113.47</td>\n",
       "            </tr>\n",
       "            <tr>\n",
       "                        <th id=\"T_4815a_level0_row2\" class=\"row_heading level0 row2\" >2</th>\n",
       "                        <td id=\"T_4815a_row2_col0\" class=\"data row2 col0\" >Sports</td>\n",
       "                        <td id=\"T_4815a_row2_col1\" class=\"data row2 col1\" >69.08</td>\n",
       "            </tr>\n",
       "            <tr>\n",
       "                        <th id=\"T_4815a_level0_row3\" class=\"row_heading level0 row3\" >3</th>\n",
       "                        <td id=\"T_4815a_row3_col0\" class=\"data row3 col0\" >Role-Playing</td>\n",
       "                        <td id=\"T_4815a_row3_col1\" class=\"data row3 col1\" >48.53</td>\n",
       "            </tr>\n",
       "            <tr>\n",
       "                        <th id=\"T_4815a_level0_row4\" class=\"row_heading level0 row4\" >4</th>\n",
       "                        <td id=\"T_4815a_row4_col0\" class=\"data row4 col0\" >Racing</td>\n",
       "                        <td id=\"T_4815a_row4_col1\" class=\"data row4 col1\" >27.29</td>\n",
       "            </tr>\n",
       "    </tbody></table style=\"display:inline-block; margin-right:20px;\"><style  type=\"text/css\" >\n",
       "</style><table style=\"display:inline-block; margin-right:20px;\" id=\"T_28029_\" ><caption>Japan</caption><thead>    <tr>        <th class=\"blank level0\" ></th>        <th class=\"col_heading level0 col0\" >genre</th>        <th class=\"col_heading level0 col1\" >jp_sales</th>    </tr></thead><tbody>\n",
       "                <tr>\n",
       "                        <th id=\"T_28029_level0_row0\" class=\"row_heading level0 row0\" >0</th>\n",
       "                        <td id=\"T_28029_row0_col0\" class=\"data row0 col0\" >Role-Playing</td>\n",
       "                        <td id=\"T_28029_row0_col1\" class=\"data row0 col1\" >65.44</td>\n",
       "            </tr>\n",
       "            <tr>\n",
       "                        <th id=\"T_28029_level0_row1\" class=\"row_heading level0 row1\" >1</th>\n",
       "                        <td id=\"T_28029_row1_col0\" class=\"data row1 col0\" >Action</td>\n",
       "                        <td id=\"T_28029_row1_col1\" class=\"data row1 col1\" >52.80</td>\n",
       "            </tr>\n",
       "            <tr>\n",
       "                        <th id=\"T_28029_level0_row2\" class=\"row_heading level0 row2\" >2</th>\n",
       "                        <td id=\"T_28029_row2_col0\" class=\"data row2 col0\" >Misc</td>\n",
       "                        <td id=\"T_28029_row2_col1\" class=\"data row2 col1\" >12.86</td>\n",
       "            </tr>\n",
       "            <tr>\n",
       "                        <th id=\"T_28029_level0_row3\" class=\"row_heading level0 row3\" >3</th>\n",
       "                        <td id=\"T_28029_row3_col0\" class=\"data row3 col0\" >Simulation</td>\n",
       "                        <td id=\"T_28029_row3_col1\" class=\"data row3 col1\" >10.41</td>\n",
       "            </tr>\n",
       "            <tr>\n",
       "                        <th id=\"T_28029_level0_row4\" class=\"row_heading level0 row4\" >4</th>\n",
       "                        <td id=\"T_28029_row4_col0\" class=\"data row4 col0\" >Fighting</td>\n",
       "                        <td id=\"T_28029_row4_col1\" class=\"data row4 col1\" >9.44</td>\n",
       "            </tr>\n",
       "    </tbody></table style=\"display:inline-block; margin-right:20px;\">"
      ]
     },
     "metadata": {},
     "output_type": "display_data"
    }
   ],
   "source": [
    "profile('genre')"
   ]
  },
  {
   "cell_type": "markdown",
   "metadata": {},
   "source": [
    "These tables show differences in genre popularity across the three regions. Action games dominate Western markets, claiming the top spot in both North America (177.84M sales) and Europe (159.34M sales), followed by the shooter grenre. Japan, however, has a distinct profile, with role-playing games (RPGs) leading at 65.44M sales, almost double the action genre's performance there (52.80M). Intrestingly, sports rank third in both North America and Europe but are not in Japan's top five, with niche categories like simulation and fighting games. This divergence highlights Japan's unique gaming culture, which favors narrative-driven and stylized experiences over realistic sports simulations. These insights reveal that while action games have universal appeal, regional strategies must adapt to cultural preferences."
   ]
  },
  {
   "cell_type": "markdown",
   "metadata": {},
   "source": [
    "### Top ESRB Ratings"
   ]
  },
  {
   "cell_type": "code",
   "execution_count": 15,
   "metadata": {},
   "outputs": [
    {
     "data": {
      "text/html": [
       "<style  type=\"text/css\" >\n",
       "</style><table style=\"display:inline-block; margin-right:20px;\" id=\"T_5237b_\" ><caption>North America</caption><thead>    <tr>        <th class=\"blank level0\" ></th>        <th class=\"col_heading level0 col0\" >rating</th>        <th class=\"col_heading level0 col1\" >na_sales</th>    </tr></thead><tbody>\n",
       "                <tr>\n",
       "                        <th id=\"T_5237b_level0_row0\" class=\"row_heading level0 row0\" >0</th>\n",
       "                        <td id=\"T_5237b_row0_col0\" class=\"data row0 col0\" >M</td>\n",
       "                        <td id=\"T_5237b_row0_col1\" class=\"data row0 col1\" >231.57</td>\n",
       "            </tr>\n",
       "            <tr>\n",
       "                        <th id=\"T_5237b_level0_row1\" class=\"row_heading level0 row1\" >1</th>\n",
       "                        <td id=\"T_5237b_row1_col0\" class=\"data row1 col0\" >E</td>\n",
       "                        <td id=\"T_5237b_row1_col1\" class=\"data row1 col1\" >114.37</td>\n",
       "            </tr>\n",
       "            <tr>\n",
       "                        <th id=\"T_5237b_level0_row2\" class=\"row_heading level0 row2\" >2</th>\n",
       "                        <td id=\"T_5237b_row2_col0\" class=\"data row2 col0\" >E10+</td>\n",
       "                        <td id=\"T_5237b_row2_col1\" class=\"data row2 col1\" >75.70</td>\n",
       "            </tr>\n",
       "            <tr>\n",
       "                        <th id=\"T_5237b_level0_row3\" class=\"row_heading level0 row3\" >3</th>\n",
       "                        <td id=\"T_5237b_row3_col0\" class=\"data row3 col0\" >T</td>\n",
       "                        <td id=\"T_5237b_row3_col1\" class=\"data row3 col1\" >66.02</td>\n",
       "            </tr>\n",
       "    </tbody></table style=\"display:inline-block; margin-right:20px;\"><style  type=\"text/css\" >\n",
       "</style><table style=\"display:inline-block; margin-right:20px;\" id=\"T_220f8_\" ><caption>Europe</caption><thead>    <tr>        <th class=\"blank level0\" ></th>        <th class=\"col_heading level0 col0\" >rating</th>        <th class=\"col_heading level0 col1\" >eu_sales</th>    </tr></thead><tbody>\n",
       "                <tr>\n",
       "                        <th id=\"T_220f8_level0_row0\" class=\"row_heading level0 row0\" >0</th>\n",
       "                        <td id=\"T_220f8_row0_col0\" class=\"data row0 col0\" >M</td>\n",
       "                        <td id=\"T_220f8_row0_col1\" class=\"data row0 col1\" >193.96</td>\n",
       "            </tr>\n",
       "            <tr>\n",
       "                        <th id=\"T_220f8_level0_row1\" class=\"row_heading level0 row1\" >1</th>\n",
       "                        <td id=\"T_220f8_row1_col0\" class=\"data row1 col0\" >E</td>\n",
       "                        <td id=\"T_220f8_row1_col1\" class=\"data row1 col1\" >113.02</td>\n",
       "            </tr>\n",
       "            <tr>\n",
       "                        <th id=\"T_220f8_level0_row2\" class=\"row_heading level0 row2\" >2</th>\n",
       "                        <td id=\"T_220f8_row2_col0\" class=\"data row2 col0\" >E10+</td>\n",
       "                        <td id=\"T_220f8_row2_col1\" class=\"data row2 col1\" >55.37</td>\n",
       "            </tr>\n",
       "            <tr>\n",
       "                        <th id=\"T_220f8_level0_row3\" class=\"row_heading level0 row3\" >3</th>\n",
       "                        <td id=\"T_220f8_row3_col0\" class=\"data row3 col0\" >T</td>\n",
       "                        <td id=\"T_220f8_row3_col1\" class=\"data row3 col1\" >52.96</td>\n",
       "            </tr>\n",
       "    </tbody></table style=\"display:inline-block; margin-right:20px;\"><style  type=\"text/css\" >\n",
       "</style><table style=\"display:inline-block; margin-right:20px;\" id=\"T_aecd3_\" ><caption>Japan</caption><thead>    <tr>        <th class=\"blank level0\" ></th>        <th class=\"col_heading level0 col0\" >rating</th>        <th class=\"col_heading level0 col1\" >jp_sales</th>    </tr></thead><tbody>\n",
       "                <tr>\n",
       "                        <th id=\"T_aecd3_level0_row0\" class=\"row_heading level0 row0\" >0</th>\n",
       "                        <td id=\"T_aecd3_row0_col0\" class=\"data row0 col0\" >E</td>\n",
       "                        <td id=\"T_aecd3_row0_col1\" class=\"data row0 col1\" >28.33</td>\n",
       "            </tr>\n",
       "            <tr>\n",
       "                        <th id=\"T_aecd3_level0_row1\" class=\"row_heading level0 row1\" >1</th>\n",
       "                        <td id=\"T_aecd3_row1_col0\" class=\"data row1 col0\" >T</td>\n",
       "                        <td id=\"T_aecd3_row1_col1\" class=\"data row1 col1\" >26.02</td>\n",
       "            </tr>\n",
       "            <tr>\n",
       "                        <th id=\"T_aecd3_level0_row2\" class=\"row_heading level0 row2\" >2</th>\n",
       "                        <td id=\"T_aecd3_row2_col0\" class=\"data row2 col0\" >M</td>\n",
       "                        <td id=\"T_aecd3_row2_col1\" class=\"data row2 col1\" >21.20</td>\n",
       "            </tr>\n",
       "            <tr>\n",
       "                        <th id=\"T_aecd3_level0_row3\" class=\"row_heading level0 row3\" >3</th>\n",
       "                        <td id=\"T_aecd3_row3_col0\" class=\"data row3 col0\" >E10+</td>\n",
       "                        <td id=\"T_aecd3_row3_col1\" class=\"data row3 col1\" >8.19</td>\n",
       "            </tr>\n",
       "    </tbody></table style=\"display:inline-block; margin-right:20px;\">"
      ]
     },
     "metadata": {},
     "output_type": "display_data"
    }
   ],
   "source": [
    "profile('rating')"
   ]
  },
  {
   "cell_type": "markdown",
   "metadata": {},
   "source": [
    "These tables show ESRB rating preferences across regions. In Western markets, mature-rated (M) games dominate sales, with North America generating 231.57 million and Europe 193.96 million in M-rated game sales - around double their respective E-rated game revenues. This strong preference for adult-oriented content is very different from Japan's market, where E-rated games have 28.33 million in sales, while M-rated games are third on the rank. These patterns highlight the importance of tailoring age-appropriate content strategies to each market's cultural norms for future release of games."
   ]
  },
  {
   "cell_type": "markdown",
   "metadata": {},
   "source": [
    " "
   ]
  },
  {
   "cell_type": "markdown",
   "metadata": {},
   "source": [
    "## Testing Hypotheses"
   ]
  },
  {
   "cell_type": "markdown",
   "metadata": {},
   "source": [
    "Here, I will conduct a hypothesis test to evaluate whether there is a statistically significant difference between two key variables in the dataset. Specifically, I will compare the average user ratings between Xbox One and PC platforms, as well as Action and Sports genres. \n",
    "\n",
    "To test this, I will use a two-tailed test with a significance level (α) of 0.05. This approach will help determine whether the differences in average user ratings are statistically significant or due to random variation. The findings will provide valuable insights into whether one platform or genre consistently receives higher user ratings than the other."
   ]
  },
  {
   "cell_type": "markdown",
   "metadata": {},
   "source": [
    "### Average user ratings of the Xbox One and PC platforms are the same"
   ]
  },
  {
   "cell_type": "markdown",
   "metadata": {},
   "source": [
    "Null Hypothesis (H₀): There is no significant difference in the average user ratings of the Xbox One and PC platforms.\n",
    "\n",
    "Alternative Hypothesis (H₁): There is a significant difference in the average user ratings of the Xbox One and PC platforms."
   ]
  },
  {
   "cell_type": "code",
   "execution_count": 16,
   "metadata": {},
   "outputs": [
    {
     "name": "stdout",
     "output_type": "stream",
     "text": [
      "We fail to reject the null hypothesis since the p-value is 0.5489537965134912\n"
     ]
    }
   ],
   "source": [
    "games = games.dropna(subset=['user_score']) \n",
    "xbox = games[games['platform'] == 'XOne']['user_score']\n",
    "pc = games[games['platform'] == 'PC']['user_score']\n",
    "results = st.ttest_ind(xbox, pc, equal_var=False)\n",
    "\n",
    "if (results.pvalue < 0.05):\n",
    "    print(f'We reject the null hypothesis since the p-value is {results.pvalue}')\n",
    "else:\n",
    "    print(f\"We fail to reject the null hypothesis since the p-value is {results.pvalue}\")"
   ]
  },
  {
   "cell_type": "markdown",
   "metadata": {},
   "source": [
    "As shown by the p-value, it is drastically over 0.05, meaning that null hypothesis cannot be rejected. Therefore, there is no significant difference between the average user ratings in the Xbox One and PC platforms."
   ]
  },
  {
   "cell_type": "markdown",
   "metadata": {},
   "source": [
    "### Average user ratings for the Action and Sports genres are different"
   ]
  },
  {
   "cell_type": "markdown",
   "metadata": {},
   "source": [
    "Null Hypothesis (H₀): There is no significant difference in the average user ratings of the Action and Sports genres.\n",
    "\n",
    "Alternative Hypothesis (H₁): There is a significant difference in the average user ratings of the Action and Sports genres."
   ]
  },
  {
   "cell_type": "code",
   "execution_count": 17,
   "metadata": {},
   "outputs": [
    {
     "name": "stdout",
     "output_type": "stream",
     "text": [
      "We reject the null hypothesis since the p-value is 5.989458066467418e-20\n"
     ]
    }
   ],
   "source": [
    "action = games[games['genre'] == 'Action']['user_score']\n",
    "sports = games[games['genre'] == 'Sports']['user_score']\n",
    "results = st.ttest_ind(action, sports, equal_var=False)\n",
    "\n",
    "if (results.pvalue < 0.05):\n",
    "    print(f'We reject the null hypothesis since the p-value is {results.pvalue}')\n",
    "else:\n",
    "    print(f\"We fail to reject the null hypothesis since the p-value is {results.pvalue}\")"
   ]
  },
  {
   "cell_type": "markdown",
   "metadata": {},
   "source": [
    "As shown by the p-value, it is below 0.05, meaning that the null hypothesis is rejected. Therefore, there is a significant difference between the average user ratings in the Action and Sports genre."
   ]
  },
  {
   "cell_type": "markdown",
   "metadata": {},
   "source": [
    " "
   ]
  },
  {
   "cell_type": "markdown",
   "metadata": {},
   "source": [
    "## Conclusion"
   ]
  },
  {
   "cell_type": "markdown",
   "metadata": {},
   "source": [
    "Based on the analysis of gaming trends from 1980-2016, we forecast that 2017 sales will be dominated by current-generation platforms like the PS4 and Xbox One in Western markets and the Nintendo Switch in Japan, following the industry's 5-10 year platform lifecycle, with shooters and action games lead in North America and Europe while RPGs are most popular in Japan. The presence of outliers for popular games were across all genres, suggesting that quality execution and marketing can drive hits even in less popular categories. In addition, regional differences in ESRB rating preferences - with Western markets favoring M-rated content and Japan preferring E-rated games - highlight the need for cultural adaptation."
   ]
  }
 ],
 "metadata": {
  "ExecuteTimeLog": [
   {
    "duration": 906,
    "start_time": "2025-02-26T20:28:34.255Z"
   },
   {
    "duration": 45,
    "start_time": "2025-02-26T20:29:00.895Z"
   },
   {
    "duration": 12,
    "start_time": "2025-02-26T20:41:37.646Z"
   },
   {
    "duration": 373,
    "start_time": "2025-02-26T20:41:47.452Z"
   },
   {
    "duration": 11,
    "start_time": "2025-02-26T20:41:51.498Z"
   },
   {
    "duration": 5,
    "start_time": "2025-02-26T20:42:08.253Z"
   },
   {
    "duration": 18,
    "start_time": "2025-02-26T20:46:07.524Z"
   },
   {
    "duration": 15,
    "start_time": "2025-02-26T20:46:36.876Z"
   },
   {
    "duration": 12,
    "start_time": "2025-02-26T20:47:16.481Z"
   },
   {
    "duration": 12,
    "start_time": "2025-02-26T20:48:50.881Z"
   },
   {
    "duration": 8,
    "start_time": "2025-02-26T20:48:56.948Z"
   },
   {
    "duration": 3,
    "start_time": "2025-02-26T21:00:16.830Z"
   },
   {
    "duration": 15,
    "start_time": "2025-02-26T21:00:44.758Z"
   },
   {
    "duration": 3,
    "start_time": "2025-02-26T21:00:48.668Z"
   },
   {
    "duration": 14,
    "start_time": "2025-02-26T21:01:02.748Z"
   },
   {
    "duration": 8,
    "start_time": "2025-02-26T21:01:10.868Z"
   },
   {
    "duration": 11,
    "start_time": "2025-02-26T21:02:40.369Z"
   },
   {
    "duration": 440,
    "start_time": "2025-02-26T21:03:12.050Z"
   },
   {
    "duration": 5,
    "start_time": "2025-02-26T21:03:26.130Z"
   },
   {
    "duration": 6,
    "start_time": "2025-02-26T21:03:33.713Z"
   },
   {
    "duration": 5,
    "start_time": "2025-02-26T21:03:38.766Z"
   },
   {
    "duration": 553,
    "start_time": "2025-02-26T21:07:49.460Z"
   },
   {
    "duration": 11,
    "start_time": "2025-02-26T21:10:13.266Z"
   },
   {
    "duration": 47,
    "start_time": "2025-02-26T21:10:18.266Z"
   },
   {
    "duration": 12,
    "start_time": "2025-02-26T21:10:33.545Z"
   },
   {
    "duration": 12,
    "start_time": "2025-02-26T21:29:24.845Z"
   },
   {
    "duration": 8,
    "start_time": "2025-02-26T21:29:25.372Z"
   },
   {
    "duration": 12,
    "start_time": "2025-02-26T21:29:25.986Z"
   },
   {
    "duration": 11,
    "start_time": "2025-02-26T21:29:27.938Z"
   },
   {
    "duration": 49,
    "start_time": "2025-02-26T21:29:28.902Z"
   },
   {
    "duration": 867,
    "start_time": "2025-02-26T21:29:38.798Z"
   },
   {
    "duration": 33,
    "start_time": "2025-02-26T21:29:39.668Z"
   },
   {
    "duration": 24,
    "start_time": "2025-02-26T21:29:39.703Z"
   },
   {
    "duration": 7,
    "start_time": "2025-02-26T21:29:39.728Z"
   },
   {
    "duration": 11,
    "start_time": "2025-02-26T21:29:39.737Z"
   },
   {
    "duration": 144,
    "start_time": "2025-02-26T21:29:39.750Z"
   },
   {
    "duration": 0,
    "start_time": "2025-02-26T21:29:39.896Z"
   },
   {
    "duration": 7,
    "start_time": "2025-02-26T21:30:09.349Z"
   },
   {
    "duration": 671,
    "start_time": "2025-02-26T21:30:11.927Z"
   },
   {
    "duration": 12,
    "start_time": "2025-02-26T21:30:29.543Z"
   },
   {
    "duration": 13,
    "start_time": "2025-02-26T21:31:34.211Z"
   },
   {
    "duration": 13,
    "start_time": "2025-02-26T21:31:50.563Z"
   },
   {
    "duration": 13,
    "start_time": "2025-02-26T21:32:06.933Z"
   },
   {
    "duration": 13,
    "start_time": "2025-02-26T21:33:12.928Z"
   },
   {
    "duration": 5,
    "start_time": "2025-02-26T21:49:49.441Z"
   },
   {
    "duration": 3,
    "start_time": "2025-02-26T21:50:23.625Z"
   },
   {
    "duration": 32,
    "start_time": "2025-02-26T21:50:23.966Z"
   },
   {
    "duration": 12,
    "start_time": "2025-02-26T21:50:25.692Z"
   },
   {
    "duration": 7,
    "start_time": "2025-02-26T21:50:26.333Z"
   },
   {
    "duration": 21,
    "start_time": "2025-02-26T21:50:29.281Z"
   },
   {
    "duration": 12,
    "start_time": "2025-02-26T21:50:39.344Z"
   },
   {
    "duration": 4,
    "start_time": "2025-02-27T03:01:38.784Z"
   },
   {
    "duration": 858,
    "start_time": "2025-02-27T03:01:45.829Z"
   },
   {
    "duration": 36,
    "start_time": "2025-02-27T03:01:46.690Z"
   },
   {
    "duration": 12,
    "start_time": "2025-02-27T03:01:46.728Z"
   },
   {
    "duration": 7,
    "start_time": "2025-02-27T03:01:46.742Z"
   },
   {
    "duration": 14,
    "start_time": "2025-02-27T03:01:46.751Z"
   },
   {
    "duration": 10,
    "start_time": "2025-02-27T03:01:46.767Z"
   },
   {
    "duration": 7,
    "start_time": "2025-02-27T03:01:46.778Z"
   },
   {
    "duration": 40,
    "start_time": "2025-02-27T03:01:46.786Z"
   },
   {
    "duration": 11,
    "start_time": "2025-02-27T03:04:10.361Z"
   },
   {
    "duration": 795,
    "start_time": "2025-02-27T03:04:19.723Z"
   },
   {
    "duration": 10,
    "start_time": "2025-02-27T03:04:20.588Z"
   },
   {
    "duration": 8,
    "start_time": "2025-02-27T03:04:54.401Z"
   },
   {
    "duration": 7,
    "start_time": "2025-02-27T03:05:06.998Z"
   },
   {
    "duration": 9,
    "start_time": "2025-02-27T03:05:15.834Z"
   },
   {
    "duration": 69,
    "start_time": "2025-02-27T03:05:52.715Z"
   },
   {
    "duration": 15,
    "start_time": "2025-02-27T03:06:18.785Z"
   },
   {
    "duration": 51,
    "start_time": "2025-02-27T03:06:30.845Z"
   },
   {
    "duration": 4,
    "start_time": "2025-02-27T03:07:34.559Z"
   },
   {
    "duration": 68,
    "start_time": "2025-02-27T03:07:43.834Z"
   },
   {
    "duration": 4,
    "start_time": "2025-02-27T03:07:57.937Z"
   },
   {
    "duration": 11,
    "start_time": "2025-02-27T03:08:00.753Z"
   },
   {
    "duration": 58,
    "start_time": "2025-02-27T03:08:26.228Z"
   },
   {
    "duration": 19,
    "start_time": "2025-02-27T03:09:43.873Z"
   },
   {
    "duration": 40,
    "start_time": "2025-02-27T03:10:33.495Z"
   },
   {
    "duration": 462,
    "start_time": "2025-02-27T03:10:50.917Z"
   },
   {
    "duration": 16,
    "start_time": "2025-02-27T03:11:25.727Z"
   },
   {
    "duration": 887,
    "start_time": "2025-02-28T19:17:15.778Z"
   },
   {
    "duration": 33,
    "start_time": "2025-02-28T19:17:16.667Z"
   },
   {
    "duration": 22,
    "start_time": "2025-02-28T19:17:16.702Z"
   },
   {
    "duration": 8,
    "start_time": "2025-02-28T19:17:16.727Z"
   },
   {
    "duration": 16,
    "start_time": "2025-02-28T19:17:16.738Z"
   },
   {
    "duration": 9,
    "start_time": "2025-02-28T19:17:16.756Z"
   },
   {
    "duration": 6,
    "start_time": "2025-02-28T19:17:16.767Z"
   },
   {
    "duration": 318,
    "start_time": "2025-02-28T19:17:16.775Z"
   },
   {
    "duration": 0,
    "start_time": "2025-02-28T19:17:17.095Z"
   },
   {
    "duration": 0,
    "start_time": "2025-02-28T19:17:17.098Z"
   },
   {
    "duration": 0,
    "start_time": "2025-02-28T19:17:17.099Z"
   },
   {
    "duration": 2712,
    "start_time": "2025-03-03T03:02:56.100Z"
   },
   {
    "duration": 46,
    "start_time": "2025-03-03T03:02:58.814Z"
   },
   {
    "duration": 12,
    "start_time": "2025-03-03T03:02:58.862Z"
   },
   {
    "duration": 8,
    "start_time": "2025-03-03T03:02:58.876Z"
   },
   {
    "duration": 29,
    "start_time": "2025-03-03T03:02:58.886Z"
   },
   {
    "duration": 10,
    "start_time": "2025-03-03T03:02:58.916Z"
   },
   {
    "duration": 7,
    "start_time": "2025-03-03T03:02:58.928Z"
   },
   {
    "duration": 271,
    "start_time": "2025-03-03T03:02:58.937Z"
   },
   {
    "duration": 0,
    "start_time": "2025-03-03T03:02:59.210Z"
   },
   {
    "duration": 0,
    "start_time": "2025-03-03T03:02:59.213Z"
   },
   {
    "duration": 0,
    "start_time": "2025-03-03T03:02:59.214Z"
   },
   {
    "duration": 9,
    "start_time": "2025-03-03T03:04:06.194Z"
   },
   {
    "duration": 17,
    "start_time": "2025-03-03T03:04:38.278Z"
   },
   {
    "duration": 9,
    "start_time": "2025-03-03T03:04:44.687Z"
   },
   {
    "duration": 7,
    "start_time": "2025-03-03T03:07:02.927Z"
   },
   {
    "duration": 17,
    "start_time": "2025-03-03T03:07:14.747Z"
   },
   {
    "duration": 18,
    "start_time": "2025-03-03T03:08:31.520Z"
   },
   {
    "duration": 9,
    "start_time": "2025-03-03T03:08:36.697Z"
   },
   {
    "duration": 8,
    "start_time": "2025-03-03T03:08:37.505Z"
   },
   {
    "duration": 6,
    "start_time": "2025-03-03T03:08:38.309Z"
   },
   {
    "duration": 8,
    "start_time": "2025-03-03T03:08:53.337Z"
   },
   {
    "duration": 15,
    "start_time": "2025-03-03T03:09:01.415Z"
   },
   {
    "duration": 8,
    "start_time": "2025-03-03T03:09:02.454Z"
   },
   {
    "duration": 15,
    "start_time": "2025-03-03T03:09:27.346Z"
   },
   {
    "duration": 15,
    "start_time": "2025-03-03T03:09:41.236Z"
   },
   {
    "duration": 13,
    "start_time": "2025-03-03T03:10:55.726Z"
   },
   {
    "duration": 17,
    "start_time": "2025-03-03T03:11:00.491Z"
   },
   {
    "duration": 9,
    "start_time": "2025-03-03T03:11:09.741Z"
   },
   {
    "duration": 17,
    "start_time": "2025-03-03T03:11:31.828Z"
   },
   {
    "duration": 8,
    "start_time": "2025-03-03T03:11:37.409Z"
   },
   {
    "duration": 7,
    "start_time": "2025-03-03T03:11:41.505Z"
   },
   {
    "duration": 7,
    "start_time": "2025-03-03T03:11:44.586Z"
   },
   {
    "duration": 7,
    "start_time": "2025-03-03T03:11:49.655Z"
   },
   {
    "duration": 16,
    "start_time": "2025-03-03T03:11:52.878Z"
   },
   {
    "duration": 17,
    "start_time": "2025-03-03T03:12:18.802Z"
   },
   {
    "duration": 14,
    "start_time": "2025-03-03T03:12:29.398Z"
   },
   {
    "duration": 23,
    "start_time": "2025-03-03T03:12:35.677Z"
   },
   {
    "duration": 23,
    "start_time": "2025-03-03T03:12:42.521Z"
   },
   {
    "duration": 15,
    "start_time": "2025-03-03T03:13:10.223Z"
   },
   {
    "duration": 7,
    "start_time": "2025-03-03T03:13:11.282Z"
   },
   {
    "duration": 4,
    "start_time": "2025-03-03T03:13:36.149Z"
   },
   {
    "duration": 3,
    "start_time": "2025-03-03T03:36:44.675Z"
   },
   {
    "duration": 17,
    "start_time": "2025-03-03T03:36:49.395Z"
   },
   {
    "duration": 2518,
    "start_time": "2025-03-16T19:04:35.636Z"
   },
   {
    "duration": 44,
    "start_time": "2025-03-16T19:04:38.156Z"
   },
   {
    "duration": 12,
    "start_time": "2025-03-16T19:04:38.202Z"
   },
   {
    "duration": 7,
    "start_time": "2025-03-16T19:04:38.216Z"
   },
   {
    "duration": 30,
    "start_time": "2025-03-16T19:04:38.225Z"
   },
   {
    "duration": 7,
    "start_time": "2025-03-16T19:04:38.256Z"
   },
   {
    "duration": 4,
    "start_time": "2025-03-16T19:04:38.265Z"
   },
   {
    "duration": 17,
    "start_time": "2025-03-16T19:04:38.271Z"
   },
   {
    "duration": 6,
    "start_time": "2025-03-16T19:05:03.933Z"
   },
   {
    "duration": 13,
    "start_time": "2025-03-16T19:05:14.140Z"
   },
   {
    "duration": 6,
    "start_time": "2025-03-16T19:05:53.764Z"
   },
   {
    "duration": 5,
    "start_time": "2025-03-16T19:07:12.059Z"
   },
   {
    "duration": 550,
    "start_time": "2025-03-16T19:07:30.119Z"
   },
   {
    "duration": 46,
    "start_time": "2025-03-16T19:08:25.375Z"
   },
   {
    "duration": 350,
    "start_time": "2025-03-16T19:08:46.107Z"
   },
   {
    "duration": 15,
    "start_time": "2025-03-16T19:16:16.355Z"
   },
   {
    "duration": 135,
    "start_time": "2025-03-16T19:17:11.339Z"
   },
   {
    "duration": 113,
    "start_time": "2025-03-16T19:17:21.243Z"
   },
   {
    "duration": 5,
    "start_time": "2025-03-16T19:18:08.026Z"
   },
   {
    "duration": 10,
    "start_time": "2025-03-16T19:21:34.063Z"
   },
   {
    "duration": 8,
    "start_time": "2025-03-16T19:22:37.367Z"
   },
   {
    "duration": 9,
    "start_time": "2025-03-16T19:23:02.202Z"
   },
   {
    "duration": 19,
    "start_time": "2025-03-16T19:49:18.869Z"
   },
   {
    "duration": 7,
    "start_time": "2025-03-16T19:50:09.122Z"
   },
   {
    "duration": 9,
    "start_time": "2025-03-16T19:50:17.661Z"
   },
   {
    "duration": 67,
    "start_time": "2025-03-16T19:51:32.085Z"
   },
   {
    "duration": 10,
    "start_time": "2025-03-16T19:52:46.782Z"
   },
   {
    "duration": 10,
    "start_time": "2025-03-16T19:52:54.015Z"
   },
   {
    "duration": 10,
    "start_time": "2025-03-16T19:53:07.757Z"
   },
   {
    "duration": 10,
    "start_time": "2025-03-16T19:53:18.126Z"
   },
   {
    "duration": 45,
    "start_time": "2025-03-16T21:08:53.054Z"
   },
   {
    "duration": 7,
    "start_time": "2025-03-16T21:10:52.630Z"
   },
   {
    "duration": 25,
    "start_time": "2025-03-16T21:11:04.032Z"
   },
   {
    "duration": 10,
    "start_time": "2025-03-16T21:17:17.763Z"
   },
   {
    "duration": 9,
    "start_time": "2025-03-16T21:18:03.985Z"
   },
   {
    "duration": 6,
    "start_time": "2025-03-16T21:18:57.224Z"
   },
   {
    "duration": 6,
    "start_time": "2025-03-16T21:19:22.425Z"
   },
   {
    "duration": 10,
    "start_time": "2025-03-16T21:19:37.952Z"
   },
   {
    "duration": 142,
    "start_time": "2025-03-16T21:28:34.190Z"
   },
   {
    "duration": 143,
    "start_time": "2025-03-16T21:29:03.070Z"
   },
   {
    "duration": 6,
    "start_time": "2025-03-16T21:29:45.997Z"
   },
   {
    "duration": 134,
    "start_time": "2025-03-16T21:30:17.416Z"
   },
   {
    "duration": 10,
    "start_time": "2025-03-16T21:30:32.508Z"
   },
   {
    "duration": 99,
    "start_time": "2025-03-16T21:32:37.740Z"
   },
   {
    "duration": 3,
    "start_time": "2025-03-16T21:33:00.501Z"
   },
   {
    "duration": 13,
    "start_time": "2025-03-16T21:33:29.983Z"
   },
   {
    "duration": 3,
    "start_time": "2025-03-16T21:34:14.867Z"
   },
   {
    "duration": 10,
    "start_time": "2025-03-16T21:34:33.008Z"
   },
   {
    "duration": 3,
    "start_time": "2025-03-16T21:34:45.135Z"
   },
   {
    "duration": 14,
    "start_time": "2025-03-16T21:35:10.162Z"
   },
   {
    "duration": 3,
    "start_time": "2025-03-16T21:35:15.883Z"
   },
   {
    "duration": 46,
    "start_time": "2025-03-16T21:35:38.022Z"
   },
   {
    "duration": 166,
    "start_time": "2025-03-16T21:37:44.217Z"
   },
   {
    "duration": 267,
    "start_time": "2025-03-16T21:38:01.854Z"
   },
   {
    "duration": 289,
    "start_time": "2025-03-16T21:39:27.356Z"
   },
   {
    "duration": 8,
    "start_time": "2025-03-16T21:40:01.160Z"
   },
   {
    "duration": 280,
    "start_time": "2025-03-16T21:40:30.447Z"
   },
   {
    "duration": 8,
    "start_time": "2025-03-16T21:44:49.514Z"
   },
   {
    "duration": 267,
    "start_time": "2025-03-16T21:44:53.711Z"
   },
   {
    "duration": 148,
    "start_time": "2025-03-16T21:51:52.436Z"
   },
   {
    "duration": 6,
    "start_time": "2025-03-16T21:52:14.602Z"
   },
   {
    "duration": 50,
    "start_time": "2025-03-16T21:52:32.498Z"
   },
   {
    "duration": 265,
    "start_time": "2025-03-16T21:52:56.979Z"
   },
   {
    "duration": 7,
    "start_time": "2025-03-16T21:52:58.602Z"
   },
   {
    "duration": 6,
    "start_time": "2025-03-16T21:53:09.739Z"
   },
   {
    "duration": 137,
    "start_time": "2025-03-16T21:55:22.798Z"
   },
   {
    "duration": 134,
    "start_time": "2025-03-16T21:55:32.698Z"
   },
   {
    "duration": 7,
    "start_time": "2025-03-16T22:03:42.601Z"
   },
   {
    "duration": 282,
    "start_time": "2025-03-16T22:07:41.032Z"
   },
   {
    "duration": 424,
    "start_time": "2025-03-16T22:13:00.159Z"
   },
   {
    "duration": 387,
    "start_time": "2025-03-16T22:14:09.591Z"
   },
   {
    "duration": 295,
    "start_time": "2025-03-16T22:14:34.252Z"
   },
   {
    "duration": 424,
    "start_time": "2025-03-16T22:14:47.690Z"
   },
   {
    "duration": 472,
    "start_time": "2025-03-16T22:16:24.493Z"
   },
   {
    "duration": 492,
    "start_time": "2025-03-16T22:16:52.825Z"
   },
   {
    "duration": 462,
    "start_time": "2025-03-16T22:17:03.115Z"
   },
   {
    "duration": 471,
    "start_time": "2025-03-16T22:19:58.101Z"
   },
   {
    "duration": 326,
    "start_time": "2025-03-16T22:20:09.693Z"
   },
   {
    "duration": 255,
    "start_time": "2025-03-16T22:20:37.846Z"
   },
   {
    "duration": 498,
    "start_time": "2025-03-16T22:21:01.898Z"
   },
   {
    "duration": 663,
    "start_time": "2025-03-16T22:22:28.432Z"
   },
   {
    "duration": 508,
    "start_time": "2025-03-16T22:23:53.734Z"
   },
   {
    "duration": 220,
    "start_time": "2025-03-16T22:30:18.566Z"
   },
   {
    "duration": 212,
    "start_time": "2025-03-16T22:30:24.053Z"
   },
   {
    "duration": 507,
    "start_time": "2025-03-16T22:30:40.296Z"
   },
   {
    "duration": 515,
    "start_time": "2025-03-16T22:35:08.482Z"
   },
   {
    "duration": 898,
    "start_time": "2025-03-16T23:08:32.228Z"
   },
   {
    "duration": 40,
    "start_time": "2025-03-16T23:08:33.130Z"
   },
   {
    "duration": 13,
    "start_time": "2025-03-16T23:08:33.173Z"
   },
   {
    "duration": 8,
    "start_time": "2025-03-16T23:08:33.187Z"
   },
   {
    "duration": 18,
    "start_time": "2025-03-16T23:08:33.198Z"
   },
   {
    "duration": 28,
    "start_time": "2025-03-16T23:08:33.218Z"
   },
   {
    "duration": 4,
    "start_time": "2025-03-16T23:08:33.247Z"
   },
   {
    "duration": 686,
    "start_time": "2025-03-16T23:08:33.253Z"
   },
   {
    "duration": 3,
    "start_time": "2025-03-16T23:08:33.941Z"
   },
   {
    "duration": 4,
    "start_time": "2025-03-16T23:08:33.945Z"
   },
   {
    "duration": 2,
    "start_time": "2025-03-16T23:08:33.951Z"
   },
   {
    "duration": 4,
    "start_time": "2025-03-16T23:08:33.955Z"
   },
   {
    "duration": 3,
    "start_time": "2025-03-16T23:08:33.961Z"
   },
   {
    "duration": 2,
    "start_time": "2025-03-16T23:08:33.966Z"
   },
   {
    "duration": 3,
    "start_time": "2025-03-16T23:08:33.970Z"
   },
   {
    "duration": 3,
    "start_time": "2025-03-16T23:08:33.975Z"
   },
   {
    "duration": 16,
    "start_time": "2025-03-16T23:11:34.627Z"
   },
   {
    "duration": 447,
    "start_time": "2025-03-16T23:12:30.843Z"
   },
   {
    "duration": 42,
    "start_time": "2025-03-16T23:12:51.341Z"
   },
   {
    "duration": 5,
    "start_time": "2025-03-16T23:13:11.957Z"
   },
   {
    "duration": 40,
    "start_time": "2025-03-16T23:13:19.203Z"
   },
   {
    "duration": 10,
    "start_time": "2025-03-16T23:13:35.258Z"
   },
   {
    "duration": 9,
    "start_time": "2025-03-16T23:14:13.044Z"
   },
   {
    "duration": 21,
    "start_time": "2025-03-16T23:15:35.723Z"
   },
   {
    "duration": 10,
    "start_time": "2025-03-16T23:15:43.517Z"
   },
   {
    "duration": 9,
    "start_time": "2025-03-16T23:15:58.000Z"
   },
   {
    "duration": 9,
    "start_time": "2025-03-16T23:16:02.793Z"
   },
   {
    "duration": 13,
    "start_time": "2025-03-16T23:16:17.294Z"
   },
   {
    "duration": 12,
    "start_time": "2025-03-16T23:16:29.652Z"
   },
   {
    "duration": 12,
    "start_time": "2025-03-16T23:16:36.657Z"
   },
   {
    "duration": 13,
    "start_time": "2025-03-16T23:17:49.641Z"
   },
   {
    "duration": 9,
    "start_time": "2025-03-16T23:18:30.714Z"
   },
   {
    "duration": 18,
    "start_time": "2025-03-16T23:21:13.179Z"
   },
   {
    "duration": 12,
    "start_time": "2025-03-16T23:21:26.325Z"
   },
   {
    "duration": 120,
    "start_time": "2025-03-16T23:24:33.123Z"
   },
   {
    "duration": 21,
    "start_time": "2025-03-16T23:24:51.437Z"
   },
   {
    "duration": 22,
    "start_time": "2025-03-16T23:30:12.051Z"
   },
   {
    "duration": 7,
    "start_time": "2025-03-16T23:30:31.435Z"
   },
   {
    "duration": 11,
    "start_time": "2025-03-16T23:31:02.218Z"
   },
   {
    "duration": 526,
    "start_time": "2025-03-16T23:31:24.194Z"
   },
   {
    "duration": 13,
    "start_time": "2025-03-16T23:31:29.851Z"
   },
   {
    "duration": 27,
    "start_time": "2025-03-17T00:31:25.032Z"
   },
   {
    "duration": 18,
    "start_time": "2025-03-17T00:31:49.576Z"
   },
   {
    "duration": 26,
    "start_time": "2025-03-17T00:33:47.977Z"
   },
   {
    "duration": 24,
    "start_time": "2025-03-17T00:35:19.165Z"
   },
   {
    "duration": 18,
    "start_time": "2025-03-17T00:35:36.941Z"
   },
   {
    "duration": 16,
    "start_time": "2025-03-17T00:35:41.653Z"
   },
   {
    "duration": 14,
    "start_time": "2025-03-17T00:35:47.042Z"
   },
   {
    "duration": 25,
    "start_time": "2025-03-17T00:35:47.654Z"
   },
   {
    "duration": 14,
    "start_time": "2025-03-17T00:37:16.425Z"
   },
   {
    "duration": 3,
    "start_time": "2025-03-17T03:04:46.837Z"
   },
   {
    "duration": 113,
    "start_time": "2025-03-17T06:19:54.278Z"
   },
   {
    "duration": 24,
    "start_time": "2025-03-17T06:21:34.815Z"
   },
   {
    "duration": 838,
    "start_time": "2025-03-17T06:21:41.322Z"
   },
   {
    "duration": 35,
    "start_time": "2025-03-17T06:21:42.162Z"
   },
   {
    "duration": 12,
    "start_time": "2025-03-17T06:21:42.199Z"
   },
   {
    "duration": 7,
    "start_time": "2025-03-17T06:21:42.213Z"
   },
   {
    "duration": 33,
    "start_time": "2025-03-17T06:21:42.223Z"
   },
   {
    "duration": 5,
    "start_time": "2025-03-17T06:21:42.258Z"
   },
   {
    "duration": 3,
    "start_time": "2025-03-17T06:21:42.265Z"
   },
   {
    "duration": 594,
    "start_time": "2025-03-17T06:21:42.269Z"
   },
   {
    "duration": 2,
    "start_time": "2025-03-17T06:21:42.865Z"
   },
   {
    "duration": 4,
    "start_time": "2025-03-17T06:21:42.869Z"
   },
   {
    "duration": 3,
    "start_time": "2025-03-17T06:21:42.874Z"
   },
   {
    "duration": 3,
    "start_time": "2025-03-17T06:21:42.879Z"
   },
   {
    "duration": 3,
    "start_time": "2025-03-17T06:21:42.883Z"
   },
   {
    "duration": 3,
    "start_time": "2025-03-17T06:21:42.888Z"
   },
   {
    "duration": 3,
    "start_time": "2025-03-17T06:21:42.892Z"
   },
   {
    "duration": 9,
    "start_time": "2025-03-17T06:21:42.897Z"
   },
   {
    "duration": 60,
    "start_time": "2025-03-17T06:21:42.907Z"
   },
   {
    "duration": 3,
    "start_time": "2025-03-17T06:21:42.969Z"
   },
   {
    "duration": 15,
    "start_time": "2025-03-17T06:22:01.869Z"
   },
   {
    "duration": 16,
    "start_time": "2025-03-17T06:26:30.402Z"
   },
   {
    "duration": 14,
    "start_time": "2025-03-17T06:26:49.634Z"
   },
   {
    "duration": 15,
    "start_time": "2025-03-17T06:27:17.578Z"
   },
   {
    "duration": 7,
    "start_time": "2025-03-17T06:27:41.738Z"
   },
   {
    "duration": 14,
    "start_time": "2025-03-17T06:28:07.865Z"
   },
   {
    "duration": 13,
    "start_time": "2025-03-17T06:28:25.281Z"
   },
   {
    "duration": 15,
    "start_time": "2025-03-17T06:28:39.076Z"
   },
   {
    "duration": 14,
    "start_time": "2025-03-17T06:30:25.624Z"
   },
   {
    "duration": 15,
    "start_time": "2025-03-17T06:32:35.890Z"
   },
   {
    "duration": 14,
    "start_time": "2025-03-17T06:32:58.550Z"
   },
   {
    "duration": 16,
    "start_time": "2025-03-17T06:33:24.707Z"
   },
   {
    "duration": 14,
    "start_time": "2025-03-17T06:39:46.531Z"
   },
   {
    "duration": 15,
    "start_time": "2025-03-17T06:40:05.471Z"
   },
   {
    "duration": 15,
    "start_time": "2025-03-17T06:40:32.553Z"
   },
   {
    "duration": 15,
    "start_time": "2025-03-17T06:40:38.498Z"
   },
   {
    "duration": 16,
    "start_time": "2025-03-17T06:41:03.213Z"
   },
   {
    "duration": 16,
    "start_time": "2025-03-17T06:41:08.418Z"
   },
   {
    "duration": 5,
    "start_time": "2025-03-17T06:41:13.807Z"
   },
   {
    "duration": 15,
    "start_time": "2025-03-17T06:41:48.139Z"
   },
   {
    "duration": 14,
    "start_time": "2025-03-17T06:42:04.321Z"
   },
   {
    "duration": 251,
    "start_time": "2025-03-17T06:42:10.838Z"
   },
   {
    "duration": 16,
    "start_time": "2025-03-17T06:42:18.107Z"
   },
   {
    "duration": 5,
    "start_time": "2025-03-17T06:43:07.824Z"
   },
   {
    "duration": 12,
    "start_time": "2025-03-17T06:43:08.643Z"
   },
   {
    "duration": 13,
    "start_time": "2025-03-17T06:43:09.659Z"
   },
   {
    "duration": 852,
    "start_time": "2025-03-17T06:45:42.305Z"
   },
   {
    "duration": 34,
    "start_time": "2025-03-17T06:45:43.160Z"
   },
   {
    "duration": 11,
    "start_time": "2025-03-17T06:45:43.196Z"
   },
   {
    "duration": 6,
    "start_time": "2025-03-17T06:45:43.209Z"
   },
   {
    "duration": 32,
    "start_time": "2025-03-17T06:45:43.219Z"
   },
   {
    "duration": 6,
    "start_time": "2025-03-17T06:45:43.252Z"
   },
   {
    "duration": 4,
    "start_time": "2025-03-17T06:45:43.260Z"
   },
   {
    "duration": 595,
    "start_time": "2025-03-17T06:45:43.265Z"
   },
   {
    "duration": 2,
    "start_time": "2025-03-17T06:45:43.862Z"
   },
   {
    "duration": 4,
    "start_time": "2025-03-17T06:45:43.866Z"
   },
   {
    "duration": 3,
    "start_time": "2025-03-17T06:45:43.872Z"
   },
   {
    "duration": 4,
    "start_time": "2025-03-17T06:45:43.876Z"
   },
   {
    "duration": 3,
    "start_time": "2025-03-17T06:45:43.881Z"
   },
   {
    "duration": 2,
    "start_time": "2025-03-17T06:45:43.887Z"
   },
   {
    "duration": 4,
    "start_time": "2025-03-17T06:45:43.890Z"
   },
   {
    "duration": 5,
    "start_time": "2025-03-17T06:45:43.895Z"
   },
   {
    "duration": 55,
    "start_time": "2025-03-17T06:45:43.901Z"
   },
   {
    "duration": 11,
    "start_time": "2025-03-17T06:45:43.958Z"
   },
   {
    "duration": 15,
    "start_time": "2025-03-17T06:45:43.971Z"
   },
   {
    "duration": 3,
    "start_time": "2025-03-17T06:45:43.987Z"
   },
   {
    "duration": 6,
    "start_time": "2025-03-17T06:46:48.747Z"
   },
   {
    "duration": 12,
    "start_time": "2025-03-17T06:46:51.649Z"
   },
   {
    "duration": 11,
    "start_time": "2025-03-17T06:46:53.758Z"
   },
   {
    "duration": 13,
    "start_time": "2025-03-17T06:47:07.919Z"
   },
   {
    "duration": 515,
    "start_time": "2025-03-17T06:58:05.480Z"
   },
   {
    "duration": 2664,
    "start_time": "2025-03-19T20:00:02.428Z"
   },
   {
    "duration": 48,
    "start_time": "2025-03-19T20:00:05.095Z"
   },
   {
    "duration": 11,
    "start_time": "2025-03-19T20:00:05.146Z"
   },
   {
    "duration": 8,
    "start_time": "2025-03-19T20:00:05.159Z"
   },
   {
    "duration": 15,
    "start_time": "2025-03-19T20:00:05.169Z"
   },
   {
    "duration": 6,
    "start_time": "2025-03-19T20:00:05.186Z"
   },
   {
    "duration": 20,
    "start_time": "2025-03-19T20:00:05.193Z"
   },
   {
    "duration": 574,
    "start_time": "2025-03-19T20:00:05.214Z"
   },
   {
    "duration": 2,
    "start_time": "2025-03-19T20:00:05.790Z"
   },
   {
    "duration": 3,
    "start_time": "2025-03-19T20:00:05.794Z"
   },
   {
    "duration": 5,
    "start_time": "2025-03-19T20:00:05.798Z"
   },
   {
    "duration": 4,
    "start_time": "2025-03-19T20:00:05.804Z"
   },
   {
    "duration": 5,
    "start_time": "2025-03-19T20:00:05.809Z"
   },
   {
    "duration": 3,
    "start_time": "2025-03-19T20:00:05.817Z"
   },
   {
    "duration": 55,
    "start_time": "2025-03-19T20:00:05.821Z"
   },
   {
    "duration": 50,
    "start_time": "2025-03-19T20:00:05.878Z"
   },
   {
    "duration": 13,
    "start_time": "2025-03-19T20:00:05.930Z"
   },
   {
    "duration": 15,
    "start_time": "2025-03-19T20:00:05.945Z"
   },
   {
    "duration": 245,
    "start_time": "2025-03-19T20:00:05.962Z"
   },
   {
    "duration": 0,
    "start_time": "2025-03-19T20:00:06.208Z"
   },
   {
    "duration": 5,
    "start_time": "2025-03-19T20:00:25.875Z"
   },
   {
    "duration": 6,
    "start_time": "2025-03-19T20:00:32.844Z"
   },
   {
    "duration": 5,
    "start_time": "2025-03-19T20:01:05.807Z"
   },
   {
    "duration": 6,
    "start_time": "2025-03-19T20:01:20.359Z"
   },
   {
    "duration": 364,
    "start_time": "2025-03-19T20:01:34.449Z"
   },
   {
    "duration": 364,
    "start_time": "2025-03-19T20:02:03.184Z"
   },
   {
    "duration": 5,
    "start_time": "2025-03-19T20:02:06.566Z"
   },
   {
    "duration": 10,
    "start_time": "2025-03-19T20:02:24.709Z"
   },
   {
    "duration": 99,
    "start_time": "2025-03-19T20:03:22.874Z"
   },
   {
    "duration": 6,
    "start_time": "2025-03-19T20:03:34.586Z"
   },
   {
    "duration": 7,
    "start_time": "2025-03-19T20:03:43.068Z"
   },
   {
    "duration": 6,
    "start_time": "2025-03-19T20:03:44.556Z"
   },
   {
    "duration": 855,
    "start_time": "2025-03-20T04:33:25.300Z"
   },
   {
    "duration": 35,
    "start_time": "2025-03-20T04:33:26.157Z"
   },
   {
    "duration": 20,
    "start_time": "2025-03-20T04:33:26.194Z"
   },
   {
    "duration": 8,
    "start_time": "2025-03-20T04:33:26.216Z"
   },
   {
    "duration": 16,
    "start_time": "2025-03-20T04:33:26.226Z"
   },
   {
    "duration": 5,
    "start_time": "2025-03-20T04:33:26.243Z"
   },
   {
    "duration": 3,
    "start_time": "2025-03-20T04:33:26.250Z"
   },
   {
    "duration": 581,
    "start_time": "2025-03-20T04:33:26.255Z"
   },
   {
    "duration": 2,
    "start_time": "2025-03-20T04:33:26.838Z"
   },
   {
    "duration": 2,
    "start_time": "2025-03-20T04:33:26.844Z"
   },
   {
    "duration": 4,
    "start_time": "2025-03-20T04:33:26.847Z"
   },
   {
    "duration": 3,
    "start_time": "2025-03-20T04:33:26.853Z"
   },
   {
    "duration": 3,
    "start_time": "2025-03-20T04:33:26.858Z"
   },
   {
    "duration": 3,
    "start_time": "2025-03-20T04:33:26.862Z"
   },
   {
    "duration": 5,
    "start_time": "2025-03-20T04:33:26.867Z"
   },
   {
    "duration": 50,
    "start_time": "2025-03-20T04:33:26.874Z"
   },
   {
    "duration": 11,
    "start_time": "2025-03-20T04:33:26.926Z"
   },
   {
    "duration": 12,
    "start_time": "2025-03-20T04:33:26.939Z"
   },
   {
    "duration": 6,
    "start_time": "2025-03-20T04:33:26.953Z"
   },
   {
    "duration": 6,
    "start_time": "2025-03-20T04:33:26.960Z"
   },
   {
    "duration": 6,
    "start_time": "2025-03-20T04:34:39.931Z"
   },
   {
    "duration": 4,
    "start_time": "2025-03-20T04:34:55.500Z"
   },
   {
    "duration": 8,
    "start_time": "2025-03-20T04:35:12.280Z"
   },
   {
    "duration": 5,
    "start_time": "2025-03-20T04:35:23.313Z"
   },
   {
    "duration": 6,
    "start_time": "2025-03-20T04:35:29.497Z"
   },
   {
    "duration": 6,
    "start_time": "2025-03-20T04:35:38.090Z"
   },
   {
    "duration": 7,
    "start_time": "2025-03-20T04:35:58.752Z"
   },
   {
    "duration": 7,
    "start_time": "2025-03-21T23:49:31.200Z"
   },
   {
    "duration": 7,
    "start_time": "2025-03-21T23:49:33.228Z"
   },
   {
    "duration": 873,
    "start_time": "2025-03-21T23:49:43.070Z"
   },
   {
    "duration": 35,
    "start_time": "2025-03-21T23:49:43.945Z"
   },
   {
    "duration": 13,
    "start_time": "2025-03-21T23:49:43.981Z"
   },
   {
    "duration": 19,
    "start_time": "2025-03-21T23:49:43.996Z"
   },
   {
    "duration": 15,
    "start_time": "2025-03-21T23:49:44.017Z"
   },
   {
    "duration": 5,
    "start_time": "2025-03-21T23:49:44.034Z"
   },
   {
    "duration": 5,
    "start_time": "2025-03-21T23:49:44.040Z"
   },
   {
    "duration": 586,
    "start_time": "2025-03-21T23:49:44.046Z"
   },
   {
    "duration": 2,
    "start_time": "2025-03-21T23:49:44.634Z"
   },
   {
    "duration": 1,
    "start_time": "2025-03-21T23:49:44.640Z"
   },
   {
    "duration": 4,
    "start_time": "2025-03-21T23:49:44.643Z"
   },
   {
    "duration": 3,
    "start_time": "2025-03-21T23:49:44.648Z"
   },
   {
    "duration": 3,
    "start_time": "2025-03-21T23:49:44.653Z"
   },
   {
    "duration": 4,
    "start_time": "2025-03-21T23:49:44.657Z"
   },
   {
    "duration": 6,
    "start_time": "2025-03-21T23:49:44.662Z"
   },
   {
    "duration": 64,
    "start_time": "2025-03-21T23:49:44.669Z"
   },
   {
    "duration": 11,
    "start_time": "2025-03-21T23:49:44.734Z"
   },
   {
    "duration": 13,
    "start_time": "2025-03-21T23:49:44.747Z"
   },
   {
    "duration": 7,
    "start_time": "2025-03-21T23:49:44.761Z"
   },
   {
    "duration": 7,
    "start_time": "2025-03-21T23:49:44.769Z"
   },
   {
    "duration": 2703,
    "start_time": "2025-03-22T02:17:00.937Z"
   },
   {
    "duration": 46,
    "start_time": "2025-03-22T02:17:03.642Z"
   },
   {
    "duration": 12,
    "start_time": "2025-03-22T02:17:03.689Z"
   },
   {
    "duration": 12,
    "start_time": "2025-03-22T02:17:03.703Z"
   },
   {
    "duration": 17,
    "start_time": "2025-03-22T02:17:03.716Z"
   },
   {
    "duration": 6,
    "start_time": "2025-03-22T02:17:03.735Z"
   },
   {
    "duration": 4,
    "start_time": "2025-03-22T02:17:03.743Z"
   },
   {
    "duration": 557,
    "start_time": "2025-03-22T02:17:03.749Z"
   },
   {
    "duration": 2,
    "start_time": "2025-03-22T02:17:04.308Z"
   },
   {
    "duration": 2,
    "start_time": "2025-03-22T02:17:04.314Z"
   },
   {
    "duration": 4,
    "start_time": "2025-03-22T02:17:04.317Z"
   },
   {
    "duration": 3,
    "start_time": "2025-03-22T02:17:04.323Z"
   },
   {
    "duration": 3,
    "start_time": "2025-03-22T02:17:04.327Z"
   },
   {
    "duration": 3,
    "start_time": "2025-03-22T02:17:04.332Z"
   },
   {
    "duration": 6,
    "start_time": "2025-03-22T02:17:04.336Z"
   },
   {
    "duration": 40,
    "start_time": "2025-03-22T02:17:04.344Z"
   },
   {
    "duration": 32,
    "start_time": "2025-03-22T02:17:04.386Z"
   },
   {
    "duration": 11,
    "start_time": "2025-03-22T02:17:04.420Z"
   },
   {
    "duration": 7,
    "start_time": "2025-03-22T02:17:04.433Z"
   },
   {
    "duration": 7,
    "start_time": "2025-03-22T02:17:04.441Z"
   },
   {
    "duration": 292,
    "start_time": "2025-03-22T02:18:39.567Z"
   },
   {
    "duration": 12,
    "start_time": "2025-03-22T02:18:48.619Z"
   },
   {
    "duration": 517,
    "start_time": "2025-03-22T07:05:49.209Z"
   },
   {
    "duration": 19,
    "start_time": "2025-03-22T07:07:09.255Z"
   },
   {
    "duration": 17,
    "start_time": "2025-03-22T07:07:34.653Z"
   },
   {
    "duration": 4,
    "start_time": "2025-03-22T07:08:08.844Z"
   },
   {
    "duration": 7,
    "start_time": "2025-03-22T07:09:48.482Z"
   },
   {
    "duration": 985,
    "start_time": "2025-03-22T18:58:36.346Z"
   },
   {
    "duration": 44,
    "start_time": "2025-03-22T18:58:37.334Z"
   },
   {
    "duration": 14,
    "start_time": "2025-03-22T18:58:37.380Z"
   },
   {
    "duration": 13,
    "start_time": "2025-03-22T18:58:37.397Z"
   },
   {
    "duration": 31,
    "start_time": "2025-03-22T18:58:37.412Z"
   },
   {
    "duration": 8,
    "start_time": "2025-03-22T18:58:37.445Z"
   },
   {
    "duration": 3,
    "start_time": "2025-03-22T18:58:37.456Z"
   },
   {
    "duration": 673,
    "start_time": "2025-03-22T18:58:37.461Z"
   },
   {
    "duration": 8,
    "start_time": "2025-03-22T18:58:38.137Z"
   },
   {
    "duration": 2,
    "start_time": "2025-03-22T18:58:38.148Z"
   },
   {
    "duration": 2,
    "start_time": "2025-03-22T18:58:38.152Z"
   },
   {
    "duration": 3,
    "start_time": "2025-03-22T18:58:38.156Z"
   },
   {
    "duration": 3,
    "start_time": "2025-03-22T18:58:38.160Z"
   },
   {
    "duration": 8,
    "start_time": "2025-03-22T18:58:38.164Z"
   },
   {
    "duration": 63,
    "start_time": "2025-03-22T18:58:38.173Z"
   },
   {
    "duration": 12,
    "start_time": "2025-03-22T18:58:38.238Z"
   },
   {
    "duration": 13,
    "start_time": "2025-03-22T18:58:38.251Z"
   },
   {
    "duration": 6,
    "start_time": "2025-03-22T18:58:38.265Z"
   },
   {
    "duration": 6,
    "start_time": "2025-03-22T18:58:38.273Z"
   },
   {
    "duration": 4,
    "start_time": "2025-03-22T20:58:33.649Z"
   },
   {
    "duration": 8,
    "start_time": "2025-03-23T06:09:12.410Z"
   },
   {
    "duration": 91,
    "start_time": "2025-03-23T06:09:33.718Z"
   },
   {
    "duration": 92,
    "start_time": "2025-03-23T06:10:28.663Z"
   },
   {
    "duration": 172,
    "start_time": "2025-03-23T06:10:44.087Z"
   },
   {
    "duration": 160,
    "start_time": "2025-03-23T06:10:56.265Z"
   },
   {
    "duration": 95,
    "start_time": "2025-03-23T06:11:17.690Z"
   },
   {
    "duration": 83,
    "start_time": "2025-03-23T06:11:44.178Z"
   },
   {
    "duration": 7,
    "start_time": "2025-03-23T06:12:57.496Z"
   },
   {
    "duration": 361,
    "start_time": "2025-03-23T06:13:22.038Z"
   },
   {
    "duration": 6,
    "start_time": "2025-03-23T06:13:36.057Z"
   },
   {
    "duration": 37,
    "start_time": "2025-03-23T06:17:33.485Z"
   },
   {
    "duration": 46,
    "start_time": "2025-03-23T06:17:48.020Z"
   },
   {
    "duration": 7,
    "start_time": "2025-03-23T06:18:22.650Z"
   },
   {
    "duration": 6,
    "start_time": "2025-03-23T06:18:35.607Z"
   },
   {
    "duration": 15,
    "start_time": "2025-03-23T06:18:42.066Z"
   },
   {
    "duration": 6,
    "start_time": "2025-03-23T06:19:10.036Z"
   },
   {
    "duration": 6,
    "start_time": "2025-03-23T06:19:20.805Z"
   },
   {
    "duration": 6,
    "start_time": "2025-03-23T06:19:34.571Z"
   },
   {
    "duration": 10,
    "start_time": "2025-03-23T06:19:46.317Z"
   },
   {
    "duration": 501,
    "start_time": "2025-03-23T06:19:56.966Z"
   },
   {
    "duration": 12,
    "start_time": "2025-03-23T06:20:02.872Z"
   },
   {
    "duration": 9,
    "start_time": "2025-03-23T06:20:13.116Z"
   },
   {
    "duration": 6,
    "start_time": "2025-03-23T06:20:25.453Z"
   },
   {
    "duration": 11,
    "start_time": "2025-03-23T06:32:54.200Z"
   },
   {
    "duration": 84,
    "start_time": "2025-03-23T06:33:10.561Z"
   },
   {
    "duration": 85,
    "start_time": "2025-03-23T06:33:27.782Z"
   },
   {
    "duration": 83,
    "start_time": "2025-03-23T06:33:35.735Z"
   },
   {
    "duration": 83,
    "start_time": "2025-03-23T06:33:46.574Z"
   },
   {
    "duration": 224,
    "start_time": "2025-03-23T06:39:33.581Z"
   },
   {
    "duration": 229,
    "start_time": "2025-03-23T06:40:35.182Z"
   },
   {
    "duration": 3,
    "start_time": "2025-03-23T06:40:52.303Z"
   },
   {
    "duration": 2,
    "start_time": "2025-03-23T06:40:52.700Z"
   },
   {
    "duration": 2,
    "start_time": "2025-03-23T06:40:53.151Z"
   },
   {
    "duration": 6,
    "start_time": "2025-03-23T06:40:54.998Z"
   },
   {
    "duration": 13,
    "start_time": "2025-03-23T06:40:56.377Z"
   },
   {
    "duration": 13,
    "start_time": "2025-03-23T06:40:58.649Z"
   },
   {
    "duration": 104,
    "start_time": "2025-03-23T08:41:24.279Z"
   },
   {
    "duration": 171,
    "start_time": "2025-03-23T08:41:27.254Z"
   },
   {
    "duration": 45,
    "start_time": "2025-03-23T08:41:32.590Z"
   },
   {
    "duration": 44,
    "start_time": "2025-03-23T08:41:41.642Z"
   },
   {
    "duration": 8,
    "start_time": "2025-03-23T08:42:22.777Z"
   },
   {
    "duration": 16,
    "start_time": "2025-03-23T08:45:00.401Z"
   },
   {
    "duration": 26,
    "start_time": "2025-03-23T08:45:38.192Z"
   },
   {
    "duration": 28,
    "start_time": "2025-03-23T08:46:57.431Z"
   },
   {
    "duration": 24,
    "start_time": "2025-03-23T08:47:37.858Z"
   },
   {
    "duration": 39,
    "start_time": "2025-03-23T08:48:20.064Z"
   },
   {
    "duration": 20,
    "start_time": "2025-03-23T08:49:55.673Z"
   },
   {
    "duration": 15,
    "start_time": "2025-03-23T08:51:33.755Z"
   },
   {
    "duration": 15,
    "start_time": "2025-03-23T08:52:50.913Z"
   },
   {
    "duration": 15,
    "start_time": "2025-03-23T08:53:01.803Z"
   },
   {
    "duration": 16,
    "start_time": "2025-03-23T08:53:44.440Z"
   },
   {
    "duration": 6,
    "start_time": "2025-03-23T08:56:20.646Z"
   },
   {
    "duration": 28,
    "start_time": "2025-03-23T08:56:43.307Z"
   },
   {
    "duration": 28,
    "start_time": "2025-03-23T08:56:55.297Z"
   },
   {
    "duration": 29,
    "start_time": "2025-03-23T08:57:34.493Z"
   },
   {
    "duration": 29,
    "start_time": "2025-03-23T08:58:01.214Z"
   },
   {
    "duration": 28,
    "start_time": "2025-03-23T08:58:28.120Z"
   },
   {
    "duration": 28,
    "start_time": "2025-03-23T09:00:05.061Z"
   },
   {
    "duration": 28,
    "start_time": "2025-03-23T09:00:50.927Z"
   },
   {
    "duration": 26,
    "start_time": "2025-03-23T09:01:54.105Z"
   },
   {
    "duration": 38,
    "start_time": "2025-03-23T09:03:31.638Z"
   },
   {
    "duration": 27,
    "start_time": "2025-03-23T09:03:45.293Z"
   },
   {
    "duration": 6,
    "start_time": "2025-03-23T09:04:49.824Z"
   },
   {
    "duration": 12,
    "start_time": "2025-03-23T09:04:51.963Z"
   },
   {
    "duration": 117,
    "start_time": "2025-03-23T09:05:04.709Z"
   },
   {
    "duration": 14,
    "start_time": "2025-03-23T09:05:10.864Z"
   },
   {
    "duration": 26,
    "start_time": "2025-03-23T09:05:12.113Z"
   },
   {
    "duration": 5,
    "start_time": "2025-03-23T09:05:19.659Z"
   },
   {
    "duration": 12,
    "start_time": "2025-03-23T09:05:20.670Z"
   },
   {
    "duration": 6,
    "start_time": "2025-03-23T09:05:41.056Z"
   },
   {
    "duration": 13,
    "start_time": "2025-03-23T09:05:41.958Z"
   },
   {
    "duration": 5,
    "start_time": "2025-03-23T09:05:55.931Z"
   },
   {
    "duration": 12,
    "start_time": "2025-03-23T09:05:58.816Z"
   },
   {
    "duration": 58,
    "start_time": "2025-03-23T09:06:00.982Z"
   },
   {
    "duration": 892,
    "start_time": "2025-03-23T09:06:26.881Z"
   },
   {
    "duration": 42,
    "start_time": "2025-03-23T09:06:27.775Z"
   },
   {
    "duration": 13,
    "start_time": "2025-03-23T09:06:27.819Z"
   },
   {
    "duration": 7,
    "start_time": "2025-03-23T09:06:27.834Z"
   },
   {
    "duration": 17,
    "start_time": "2025-03-23T09:06:27.843Z"
   },
   {
    "duration": 6,
    "start_time": "2025-03-23T09:06:27.861Z"
   },
   {
    "duration": 3,
    "start_time": "2025-03-23T09:06:27.868Z"
   },
   {
    "duration": 608,
    "start_time": "2025-03-23T09:06:27.873Z"
   },
   {
    "duration": 232,
    "start_time": "2025-03-23T09:06:28.483Z"
   },
   {
    "duration": 3,
    "start_time": "2025-03-23T09:06:28.718Z"
   },
   {
    "duration": 3,
    "start_time": "2025-03-23T09:06:28.722Z"
   },
   {
    "duration": 2,
    "start_time": "2025-03-23T09:06:28.727Z"
   },
   {
    "duration": 5,
    "start_time": "2025-03-23T09:06:28.732Z"
   },
   {
    "duration": 39,
    "start_time": "2025-03-23T09:06:28.738Z"
   },
   {
    "duration": 38,
    "start_time": "2025-03-23T09:06:28.780Z"
   },
   {
    "duration": 11,
    "start_time": "2025-03-23T09:06:28.820Z"
   },
   {
    "duration": 257,
    "start_time": "2025-03-23T09:06:28.833Z"
   },
   {
    "duration": 0,
    "start_time": "2025-03-23T09:06:29.092Z"
   },
   {
    "duration": 0,
    "start_time": "2025-03-23T09:06:29.094Z"
   },
   {
    "duration": 7,
    "start_time": "2025-03-23T09:06:46.866Z"
   },
   {
    "duration": 6,
    "start_time": "2025-03-23T09:06:48.812Z"
   },
   {
    "duration": 6,
    "start_time": "2025-03-23T09:06:52.991Z"
   },
   {
    "duration": 13,
    "start_time": "2025-03-23T09:06:54.262Z"
   },
   {
    "duration": 13,
    "start_time": "2025-03-23T09:06:57.601Z"
   },
   {
    "duration": 13,
    "start_time": "2025-03-23T09:06:59.213Z"
   },
   {
    "duration": 13,
    "start_time": "2025-03-23T09:07:03.587Z"
   },
   {
    "duration": 26,
    "start_time": "2025-03-23T09:07:09.928Z"
   },
   {
    "duration": 238,
    "start_time": "2025-03-23T09:07:18.857Z"
   },
   {
    "duration": 2,
    "start_time": "2025-03-23T09:07:19.903Z"
   },
   {
    "duration": 2,
    "start_time": "2025-03-23T09:07:20.225Z"
   },
   {
    "duration": 2,
    "start_time": "2025-03-23T09:07:20.597Z"
   },
   {
    "duration": 6,
    "start_time": "2025-03-23T09:07:22.243Z"
   },
   {
    "duration": 11,
    "start_time": "2025-03-23T09:07:23.891Z"
   },
   {
    "duration": 12,
    "start_time": "2025-03-23T09:07:25.837Z"
   },
   {
    "duration": 12,
    "start_time": "2025-03-23T09:07:27.695Z"
   },
   {
    "duration": 27,
    "start_time": "2025-03-23T09:07:35.486Z"
   },
   {
    "duration": 683,
    "start_time": "2025-03-23T09:10:25.501Z"
   },
   {
    "duration": 646,
    "start_time": "2025-03-23T19:30:23.440Z"
   },
   {
    "duration": 889,
    "start_time": "2025-03-23T19:30:31.164Z"
   },
   {
    "duration": 34,
    "start_time": "2025-03-23T19:30:32.055Z"
   },
   {
    "duration": 21,
    "start_time": "2025-03-23T19:30:32.091Z"
   },
   {
    "duration": 8,
    "start_time": "2025-03-23T19:30:32.115Z"
   },
   {
    "duration": 17,
    "start_time": "2025-03-23T19:30:32.125Z"
   },
   {
    "duration": 6,
    "start_time": "2025-03-23T19:30:32.144Z"
   },
   {
    "duration": 4,
    "start_time": "2025-03-23T19:30:32.152Z"
   },
   {
    "duration": 584,
    "start_time": "2025-03-23T19:30:32.157Z"
   },
   {
    "duration": 233,
    "start_time": "2025-03-23T19:30:32.744Z"
   },
   {
    "duration": 3,
    "start_time": "2025-03-23T19:30:32.980Z"
   },
   {
    "duration": 4,
    "start_time": "2025-03-23T19:30:32.984Z"
   },
   {
    "duration": 4,
    "start_time": "2025-03-23T19:30:32.989Z"
   },
   {
    "duration": 19,
    "start_time": "2025-03-23T19:30:32.994Z"
   },
   {
    "duration": 39,
    "start_time": "2025-03-23T19:30:33.015Z"
   },
   {
    "duration": 11,
    "start_time": "2025-03-23T19:30:33.055Z"
   },
   {
    "duration": 13,
    "start_time": "2025-03-23T19:30:33.068Z"
   },
   {
    "duration": 268,
    "start_time": "2025-03-23T19:30:33.082Z"
   },
   {
    "duration": 0,
    "start_time": "2025-03-23T19:30:33.352Z"
   },
   {
    "duration": 0,
    "start_time": "2025-03-23T19:30:33.353Z"
   },
   {
    "duration": 8,
    "start_time": "2025-03-23T19:55:04.626Z"
   },
   {
    "duration": 2,
    "start_time": "2025-03-23T19:55:12.645Z"
   },
   {
    "duration": 32,
    "start_time": "2025-03-23T19:55:13.237Z"
   },
   {
    "duration": 13,
    "start_time": "2025-03-23T19:55:17.698Z"
   },
   {
    "duration": 8,
    "start_time": "2025-03-23T19:55:18.373Z"
   },
   {
    "duration": 18,
    "start_time": "2025-03-23T19:55:19.101Z"
   },
   {
    "duration": 6,
    "start_time": "2025-03-23T19:57:19.636Z"
   },
   {
    "duration": 4,
    "start_time": "2025-03-23T19:57:32.022Z"
   },
   {
    "duration": 227,
    "start_time": "2025-03-23T19:57:47.005Z"
   },
   {
    "duration": 16,
    "start_time": "2025-03-23T19:58:05.110Z"
   },
   {
    "duration": 3,
    "start_time": "2025-03-23T19:58:10.906Z"
   },
   {
    "duration": 32,
    "start_time": "2025-03-23T19:58:11.388Z"
   },
   {
    "duration": 12,
    "start_time": "2025-03-23T19:58:12.780Z"
   },
   {
    "duration": 8,
    "start_time": "2025-03-23T19:58:13.388Z"
   },
   {
    "duration": 192,
    "start_time": "2025-03-23T19:58:14.178Z"
   },
   {
    "duration": 15,
    "start_time": "2025-03-23T19:59:02.907Z"
   },
   {
    "duration": 5,
    "start_time": "2025-03-23T19:59:10.985Z"
   },
   {
    "duration": 17,
    "start_time": "2025-03-23T19:59:16.630Z"
   },
   {
    "duration": 3,
    "start_time": "2025-03-23T19:59:22.014Z"
   },
   {
    "duration": 31,
    "start_time": "2025-03-23T19:59:22.758Z"
   },
   {
    "duration": 14,
    "start_time": "2025-03-23T19:59:24.045Z"
   },
   {
    "duration": 8,
    "start_time": "2025-03-23T19:59:24.648Z"
   },
   {
    "duration": 16,
    "start_time": "2025-03-23T19:59:25.279Z"
   },
   {
    "duration": 6,
    "start_time": "2025-03-23T19:59:30.617Z"
   },
   {
    "duration": 4,
    "start_time": "2025-03-23T19:59:31.138Z"
   },
   {
    "duration": 507,
    "start_time": "2025-03-23T19:59:35.812Z"
   },
   {
    "duration": 3,
    "start_time": "2025-03-23T20:01:51.519Z"
   },
   {
    "duration": 31,
    "start_time": "2025-03-23T20:01:51.958Z"
   },
   {
    "duration": 13,
    "start_time": "2025-03-23T20:01:54.840Z"
   },
   {
    "duration": 9,
    "start_time": "2025-03-23T20:01:55.544Z"
   },
   {
    "duration": 4,
    "start_time": "2025-03-23T20:02:28.212Z"
   },
   {
    "duration": 868,
    "start_time": "2025-03-23T20:03:13.193Z"
   },
   {
    "duration": 36,
    "start_time": "2025-03-23T20:03:14.064Z"
   },
   {
    "duration": 18,
    "start_time": "2025-03-23T20:03:14.101Z"
   },
   {
    "duration": 7,
    "start_time": "2025-03-23T20:03:14.121Z"
   },
   {
    "duration": 157,
    "start_time": "2025-03-23T20:03:14.130Z"
   },
   {
    "duration": 0,
    "start_time": "2025-03-23T20:03:14.289Z"
   },
   {
    "duration": 0,
    "start_time": "2025-03-23T20:03:14.291Z"
   },
   {
    "duration": 0,
    "start_time": "2025-03-23T20:03:14.292Z"
   },
   {
    "duration": 0,
    "start_time": "2025-03-23T20:03:14.293Z"
   },
   {
    "duration": 0,
    "start_time": "2025-03-23T20:03:14.294Z"
   },
   {
    "duration": 0,
    "start_time": "2025-03-23T20:03:14.309Z"
   },
   {
    "duration": 0,
    "start_time": "2025-03-23T20:03:14.310Z"
   },
   {
    "duration": 0,
    "start_time": "2025-03-23T20:03:14.312Z"
   },
   {
    "duration": 0,
    "start_time": "2025-03-23T20:03:14.313Z"
   },
   {
    "duration": 0,
    "start_time": "2025-03-23T20:03:14.315Z"
   },
   {
    "duration": 0,
    "start_time": "2025-03-23T20:03:14.317Z"
   },
   {
    "duration": 0,
    "start_time": "2025-03-23T20:03:14.318Z"
   },
   {
    "duration": 162,
    "start_time": "2025-03-23T20:03:24.413Z"
   },
   {
    "duration": 865,
    "start_time": "2025-03-23T20:03:32.370Z"
   },
   {
    "duration": 33,
    "start_time": "2025-03-23T20:03:33.237Z"
   },
   {
    "duration": 13,
    "start_time": "2025-03-23T20:03:33.272Z"
   },
   {
    "duration": 23,
    "start_time": "2025-03-23T20:03:33.287Z"
   },
   {
    "duration": 145,
    "start_time": "2025-03-23T20:03:33.311Z"
   },
   {
    "duration": 0,
    "start_time": "2025-03-23T20:03:33.458Z"
   },
   {
    "duration": 0,
    "start_time": "2025-03-23T20:03:33.459Z"
   },
   {
    "duration": 0,
    "start_time": "2025-03-23T20:03:33.461Z"
   },
   {
    "duration": 0,
    "start_time": "2025-03-23T20:03:33.462Z"
   },
   {
    "duration": 0,
    "start_time": "2025-03-23T20:03:33.463Z"
   },
   {
    "duration": 0,
    "start_time": "2025-03-23T20:03:33.464Z"
   },
   {
    "duration": 0,
    "start_time": "2025-03-23T20:03:33.465Z"
   },
   {
    "duration": 0,
    "start_time": "2025-03-23T20:03:33.466Z"
   },
   {
    "duration": 0,
    "start_time": "2025-03-23T20:03:33.467Z"
   },
   {
    "duration": 0,
    "start_time": "2025-03-23T20:03:33.468Z"
   },
   {
    "duration": 0,
    "start_time": "2025-03-23T20:03:33.469Z"
   },
   {
    "duration": 0,
    "start_time": "2025-03-23T20:03:33.470Z"
   },
   {
    "duration": 3,
    "start_time": "2025-03-23T20:03:45.510Z"
   },
   {
    "duration": 32,
    "start_time": "2025-03-23T20:03:45.910Z"
   },
   {
    "duration": 12,
    "start_time": "2025-03-23T20:03:46.918Z"
   },
   {
    "duration": 9,
    "start_time": "2025-03-23T20:03:47.486Z"
   },
   {
    "duration": 20,
    "start_time": "2025-03-23T20:03:48.205Z"
   },
   {
    "duration": 154,
    "start_time": "2025-03-23T20:04:41.577Z"
   },
   {
    "duration": 858,
    "start_time": "2025-03-23T20:04:52.299Z"
   },
   {
    "duration": 36,
    "start_time": "2025-03-23T20:04:53.160Z"
   },
   {
    "duration": 22,
    "start_time": "2025-03-23T20:04:53.197Z"
   },
   {
    "duration": 7,
    "start_time": "2025-03-23T20:04:53.222Z"
   },
   {
    "duration": 17,
    "start_time": "2025-03-23T20:04:53.231Z"
   },
   {
    "duration": 7,
    "start_time": "2025-03-23T20:04:53.250Z"
   },
   {
    "duration": 3,
    "start_time": "2025-03-23T20:04:53.260Z"
   },
   {
    "duration": 964,
    "start_time": "2025-03-23T20:04:53.265Z"
   },
   {
    "duration": 259,
    "start_time": "2025-03-23T20:04:54.231Z"
   },
   {
    "duration": 2,
    "start_time": "2025-03-23T20:04:54.493Z"
   },
   {
    "duration": 3,
    "start_time": "2025-03-23T20:04:54.497Z"
   },
   {
    "duration": 5,
    "start_time": "2025-03-23T20:04:54.509Z"
   },
   {
    "duration": 44,
    "start_time": "2025-03-23T20:04:54.516Z"
   },
   {
    "duration": 12,
    "start_time": "2025-03-23T20:04:54.562Z"
   },
   {
    "duration": 33,
    "start_time": "2025-03-23T20:04:54.576Z"
   },
   {
    "duration": 7,
    "start_time": "2025-03-23T20:04:54.611Z"
   },
   {
    "duration": 7,
    "start_time": "2025-03-23T20:04:54.619Z"
   },
   {
    "duration": 596,
    "start_time": "2025-03-23T20:05:31.115Z"
   },
   {
    "duration": 3,
    "start_time": "2025-03-23T20:05:39.838Z"
   },
   {
    "duration": 29,
    "start_time": "2025-03-23T20:05:40.318Z"
   },
   {
    "duration": 14,
    "start_time": "2025-03-23T20:05:41.396Z"
   },
   {
    "duration": 9,
    "start_time": "2025-03-23T20:05:42.021Z"
   },
   {
    "duration": 19,
    "start_time": "2025-03-23T20:05:42.570Z"
   },
   {
    "duration": 8,
    "start_time": "2025-03-23T20:05:43.213Z"
   },
   {
    "duration": 4,
    "start_time": "2025-03-23T20:05:43.751Z"
   },
   {
    "duration": 814,
    "start_time": "2025-03-23T20:05:46.751Z"
   },
   {
    "duration": 687,
    "start_time": "2025-03-23T20:06:33.668Z"
   },
   {
    "duration": 591,
    "start_time": "2025-03-23T20:08:55.160Z"
   },
   {
    "duration": 32,
    "start_time": "2025-03-23T20:09:45.557Z"
   },
   {
    "duration": 13,
    "start_time": "2025-03-23T20:09:46.586Z"
   },
   {
    "duration": 9,
    "start_time": "2025-03-23T20:09:47.128Z"
   },
   {
    "duration": 19,
    "start_time": "2025-03-23T20:09:48.144Z"
   },
   {
    "duration": 3,
    "start_time": "2025-03-23T20:09:51.012Z"
   },
   {
    "duration": 31,
    "start_time": "2025-03-23T20:09:51.466Z"
   },
   {
    "duration": 13,
    "start_time": "2025-03-23T20:09:52.951Z"
   },
   {
    "duration": 8,
    "start_time": "2025-03-23T20:09:54.642Z"
   },
   {
    "duration": 6,
    "start_time": "2025-03-23T20:10:07.963Z"
   },
   {
    "duration": 6,
    "start_time": "2025-03-23T20:10:30.067Z"
   },
   {
    "duration": 582,
    "start_time": "2025-03-23T20:11:15.848Z"
   },
   {
    "duration": 8,
    "start_time": "2025-03-23T20:11:20.170Z"
   },
   {
    "duration": 19,
    "start_time": "2025-03-24T08:22:01.264Z"
   },
   {
    "duration": 7,
    "start_time": "2025-03-24T08:22:02.021Z"
   },
   {
    "duration": 4,
    "start_time": "2025-03-24T08:22:02.631Z"
   },
   {
    "duration": 706,
    "start_time": "2025-03-24T08:22:04.741Z"
   },
   {
    "duration": 3,
    "start_time": "2025-03-24T08:23:18.387Z"
   },
   {
    "duration": 31,
    "start_time": "2025-03-24T08:23:18.805Z"
   },
   {
    "duration": 12,
    "start_time": "2025-03-24T08:23:20.245Z"
   },
   {
    "duration": 8,
    "start_time": "2025-03-24T08:23:20.816Z"
   },
   {
    "duration": 8,
    "start_time": "2025-03-24T08:23:21.498Z"
   },
   {
    "duration": 8,
    "start_time": "2025-03-24T08:24:00.397Z"
   },
   {
    "duration": 9,
    "start_time": "2025-03-24T08:25:05.737Z"
   },
   {
    "duration": 4,
    "start_time": "2025-03-24T08:27:24.261Z"
   },
   {
    "duration": 18,
    "start_time": "2025-03-24T08:27:33.547Z"
   },
   {
    "duration": 16,
    "start_time": "2025-03-24T08:28:04.829Z"
   },
   {
    "duration": 78,
    "start_time": "2025-03-24T08:28:36.713Z"
   },
   {
    "duration": 20,
    "start_time": "2025-03-24T08:28:48.908Z"
   },
   {
    "duration": 42,
    "start_time": "2025-03-24T08:29:08.518Z"
   },
   {
    "duration": 19,
    "start_time": "2025-03-24T08:29:14.253Z"
   },
   {
    "duration": 448,
    "start_time": "2025-03-24T08:29:49.719Z"
   },
   {
    "duration": 50,
    "start_time": "2025-03-24T08:30:05.427Z"
   },
   {
    "duration": 51,
    "start_time": "2025-03-24T08:30:41.403Z"
   },
   {
    "duration": 53,
    "start_time": "2025-03-24T08:30:59.834Z"
   },
   {
    "duration": 56,
    "start_time": "2025-03-24T08:33:08.225Z"
   },
   {
    "duration": 2,
    "start_time": "2025-03-24T08:35:27.339Z"
   },
   {
    "duration": 33,
    "start_time": "2025-03-24T08:35:27.813Z"
   },
   {
    "duration": 12,
    "start_time": "2025-03-24T08:35:29.179Z"
   },
   {
    "duration": 8,
    "start_time": "2025-03-24T08:35:30.681Z"
   },
   {
    "duration": 54,
    "start_time": "2025-03-24T08:35:31.526Z"
   },
   {
    "duration": 59,
    "start_time": "2025-03-24T08:36:58.365Z"
   },
   {
    "duration": 7,
    "start_time": "2025-03-24T08:42:19.565Z"
   },
   {
    "duration": 7,
    "start_time": "2025-03-24T08:42:25.909Z"
   },
   {
    "duration": 13,
    "start_time": "2025-03-24T08:42:48.138Z"
   },
   {
    "duration": 14,
    "start_time": "2025-03-24T08:42:53.682Z"
   },
   {
    "duration": 3,
    "start_time": "2025-03-24T08:43:02.331Z"
   },
   {
    "duration": 5,
    "start_time": "2025-03-24T08:43:58.010Z"
   },
   {
    "duration": 10,
    "start_time": "2025-03-24T08:47:00.127Z"
   },
   {
    "duration": 312,
    "start_time": "2025-03-24T08:53:14.650Z"
   },
   {
    "duration": 204,
    "start_time": "2025-03-24T08:58:04.914Z"
   },
   {
    "duration": 6,
    "start_time": "2025-03-24T08:58:11.703Z"
   },
   {
    "duration": 900,
    "start_time": "2025-03-24T19:00:16.054Z"
   },
   {
    "duration": 37,
    "start_time": "2025-03-24T19:00:16.956Z"
   },
   {
    "duration": 17,
    "start_time": "2025-03-24T19:00:16.995Z"
   },
   {
    "duration": 8,
    "start_time": "2025-03-24T19:00:17.014Z"
   },
   {
    "duration": 912,
    "start_time": "2025-03-24T19:00:17.023Z"
   },
   {
    "duration": 0,
    "start_time": "2025-03-24T19:00:17.937Z"
   },
   {
    "duration": 0,
    "start_time": "2025-03-24T19:00:17.938Z"
   },
   {
    "duration": 0,
    "start_time": "2025-03-24T19:00:17.938Z"
   },
   {
    "duration": 0,
    "start_time": "2025-03-24T19:00:17.939Z"
   },
   {
    "duration": 0,
    "start_time": "2025-03-24T19:00:17.940Z"
   },
   {
    "duration": 0,
    "start_time": "2025-03-24T19:00:17.943Z"
   },
   {
    "duration": 0,
    "start_time": "2025-03-24T19:00:17.944Z"
   },
   {
    "duration": 0,
    "start_time": "2025-03-24T19:00:17.945Z"
   },
   {
    "duration": 0,
    "start_time": "2025-03-24T19:00:17.946Z"
   },
   {
    "duration": 0,
    "start_time": "2025-03-24T19:00:17.947Z"
   },
   {
    "duration": 0,
    "start_time": "2025-03-24T19:00:17.948Z"
   },
   {
    "duration": 0,
    "start_time": "2025-03-24T19:00:17.950Z"
   },
   {
    "duration": 0,
    "start_time": "2025-03-24T19:00:17.951Z"
   },
   {
    "duration": 0,
    "start_time": "2025-03-24T19:00:17.952Z"
   },
   {
    "duration": 905,
    "start_time": "2025-03-24T19:07:56.773Z"
   },
   {
    "duration": 36,
    "start_time": "2025-03-24T19:07:57.680Z"
   },
   {
    "duration": 15,
    "start_time": "2025-03-24T19:07:57.719Z"
   },
   {
    "duration": 9,
    "start_time": "2025-03-24T19:07:57.737Z"
   },
   {
    "duration": 18,
    "start_time": "2025-03-24T19:07:57.747Z"
   },
   {
    "duration": 880,
    "start_time": "2025-03-24T19:07:57.768Z"
   },
   {
    "duration": 0,
    "start_time": "2025-03-24T19:07:58.650Z"
   },
   {
    "duration": 0,
    "start_time": "2025-03-24T19:07:58.652Z"
   },
   {
    "duration": 1,
    "start_time": "2025-03-24T19:07:58.652Z"
   },
   {
    "duration": 0,
    "start_time": "2025-03-24T19:07:58.654Z"
   },
   {
    "duration": 0,
    "start_time": "2025-03-24T19:07:58.654Z"
   },
   {
    "duration": 0,
    "start_time": "2025-03-24T19:07:58.656Z"
   },
   {
    "duration": 0,
    "start_time": "2025-03-24T19:07:58.657Z"
   },
   {
    "duration": 0,
    "start_time": "2025-03-24T19:07:58.658Z"
   },
   {
    "duration": 0,
    "start_time": "2025-03-24T19:07:58.659Z"
   },
   {
    "duration": 0,
    "start_time": "2025-03-24T19:07:58.660Z"
   },
   {
    "duration": 0,
    "start_time": "2025-03-24T19:07:58.661Z"
   },
   {
    "duration": 49,
    "start_time": "2025-03-24T19:09:03.707Z"
   },
   {
    "duration": 24,
    "start_time": "2025-03-24T19:09:32.845Z"
   },
   {
    "duration": 52,
    "start_time": "2025-03-24T19:09:37.213Z"
   },
   {
    "duration": 33,
    "start_time": "2025-03-24T19:09:53.939Z"
   },
   {
    "duration": 48,
    "start_time": "2025-03-24T19:09:58.410Z"
   },
   {
    "duration": 52,
    "start_time": "2025-03-24T19:10:37.714Z"
   },
   {
    "duration": 16,
    "start_time": "2025-03-24T19:11:38.400Z"
   },
   {
    "duration": 49,
    "start_time": "2025-03-24T19:11:41.461Z"
   },
   {
    "duration": 49,
    "start_time": "2025-03-24T19:11:53.674Z"
   },
   {
    "duration": 15,
    "start_time": "2025-03-24T19:12:26.801Z"
   },
   {
    "duration": 924,
    "start_time": "2025-03-24T19:13:19.435Z"
   },
   {
    "duration": 34,
    "start_time": "2025-03-24T19:13:20.362Z"
   },
   {
    "duration": 22,
    "start_time": "2025-03-24T19:13:20.398Z"
   },
   {
    "duration": 8,
    "start_time": "2025-03-24T19:13:20.422Z"
   },
   {
    "duration": 20,
    "start_time": "2025-03-24T19:13:20.431Z"
   },
   {
    "duration": 4,
    "start_time": "2025-03-24T19:13:20.453Z"
   },
   {
    "duration": 3,
    "start_time": "2025-03-24T19:13:20.459Z"
   },
   {
    "duration": 410,
    "start_time": "2025-03-24T19:13:20.464Z"
   },
   {
    "duration": 334,
    "start_time": "2025-03-24T19:13:20.875Z"
   },
   {
    "duration": 2,
    "start_time": "2025-03-24T19:13:21.212Z"
   },
   {
    "duration": 3,
    "start_time": "2025-03-24T19:13:21.215Z"
   },
   {
    "duration": 6,
    "start_time": "2025-03-24T19:13:21.220Z"
   },
   {
    "duration": 40,
    "start_time": "2025-03-24T19:13:21.227Z"
   },
   {
    "duration": 11,
    "start_time": "2025-03-24T19:13:21.269Z"
   },
   {
    "duration": 38,
    "start_time": "2025-03-24T19:13:21.282Z"
   },
   {
    "duration": 6,
    "start_time": "2025-03-24T19:13:21.322Z"
   },
   {
    "duration": 6,
    "start_time": "2025-03-24T19:13:21.330Z"
   },
   {
    "duration": 343,
    "start_time": "2025-03-24T19:13:50.913Z"
   },
   {
    "duration": 240,
    "start_time": "2025-03-24T19:16:54.303Z"
   },
   {
    "duration": 532,
    "start_time": "2025-03-24T19:18:39.150Z"
   },
   {
    "duration": 349,
    "start_time": "2025-03-24T19:18:58.593Z"
   },
   {
    "duration": 554,
    "start_time": "2025-03-24T19:19:09.440Z"
   },
   {
    "duration": 19,
    "start_time": "2025-03-24T19:22:12.542Z"
   },
   {
    "duration": 646,
    "start_time": "2025-03-24T19:22:19.245Z"
   },
   {
    "duration": 864,
    "start_time": "2025-03-24T19:22:41.396Z"
   },
   {
    "duration": 34,
    "start_time": "2025-03-24T19:22:42.263Z"
   },
   {
    "duration": 21,
    "start_time": "2025-03-24T19:22:42.299Z"
   },
   {
    "duration": 9,
    "start_time": "2025-03-24T19:22:42.322Z"
   },
   {
    "duration": 18,
    "start_time": "2025-03-24T19:22:42.333Z"
   },
   {
    "duration": 3,
    "start_time": "2025-03-24T19:22:42.353Z"
   },
   {
    "duration": 3,
    "start_time": "2025-03-24T19:22:42.358Z"
   },
   {
    "duration": 918,
    "start_time": "2025-03-24T19:22:42.363Z"
   },
   {
    "duration": 249,
    "start_time": "2025-03-24T19:22:43.283Z"
   },
   {
    "duration": 2,
    "start_time": "2025-03-24T19:22:43.535Z"
   },
   {
    "duration": 4,
    "start_time": "2025-03-24T19:22:43.539Z"
   },
   {
    "duration": 7,
    "start_time": "2025-03-24T19:22:43.545Z"
   },
   {
    "duration": 61,
    "start_time": "2025-03-24T19:22:43.553Z"
   },
   {
    "duration": 12,
    "start_time": "2025-03-24T19:22:43.616Z"
   },
   {
    "duration": 14,
    "start_time": "2025-03-24T19:22:43.629Z"
   },
   {
    "duration": 7,
    "start_time": "2025-03-24T19:22:43.645Z"
   },
   {
    "duration": 7,
    "start_time": "2025-03-24T19:22:43.654Z"
   },
   {
    "duration": 408,
    "start_time": "2025-03-24T19:25:51.040Z"
   },
   {
    "duration": 3,
    "start_time": "2025-03-24T19:27:13.370Z"
   },
   {
    "duration": 30,
    "start_time": "2025-03-24T19:27:13.785Z"
   },
   {
    "duration": 19,
    "start_time": "2025-03-24T19:27:14.821Z"
   },
   {
    "duration": 8,
    "start_time": "2025-03-24T19:27:15.376Z"
   },
   {
    "duration": 18,
    "start_time": "2025-03-24T19:27:16.461Z"
   },
   {
    "duration": 4,
    "start_time": "2025-03-24T19:27:16.970Z"
   },
   {
    "duration": 4,
    "start_time": "2025-03-24T19:27:17.454Z"
   },
   {
    "duration": 917,
    "start_time": "2025-03-24T19:27:19.180Z"
   },
   {
    "duration": 205,
    "start_time": "2025-03-24T19:27:21.608Z"
   },
   {
    "duration": 570,
    "start_time": "2025-03-24T19:27:35.080Z"
   },
   {
    "duration": 608,
    "start_time": "2025-03-24T19:27:49.147Z"
   },
   {
    "duration": 577,
    "start_time": "2025-03-24T19:27:57.444Z"
   },
   {
    "duration": 622,
    "start_time": "2025-03-24T19:28:04.168Z"
   },
   {
    "duration": 575,
    "start_time": "2025-03-24T19:28:11.246Z"
   },
   {
    "duration": 703,
    "start_time": "2025-03-24T19:28:19.982Z"
   },
   {
    "duration": 573,
    "start_time": "2025-03-24T19:28:31.564Z"
   },
   {
    "duration": 561,
    "start_time": "2025-03-24T19:28:40.648Z"
   },
   {
    "duration": 660,
    "start_time": "2025-03-24T19:28:47.252Z"
   },
   {
    "duration": 5,
    "start_time": "2025-03-24T19:29:05.485Z"
   },
   {
    "duration": 492,
    "start_time": "2025-03-24T19:30:27.478Z"
   },
   {
    "duration": 627,
    "start_time": "2025-03-24T19:39:25.554Z"
   },
   {
    "duration": 560,
    "start_time": "2025-03-24T19:41:08.144Z"
   },
   {
    "duration": 592,
    "start_time": "2025-03-24T19:41:33.068Z"
   },
   {
    "duration": 600,
    "start_time": "2025-03-24T19:42:00.570Z"
   },
   {
    "duration": 585,
    "start_time": "2025-03-24T19:42:11.254Z"
   },
   {
    "duration": 625,
    "start_time": "2025-03-24T19:42:38.836Z"
   },
   {
    "duration": 542,
    "start_time": "2025-03-24T19:43:01.467Z"
   },
   {
    "duration": 571,
    "start_time": "2025-03-24T19:43:36.988Z"
   },
   {
    "duration": 586,
    "start_time": "2025-03-24T19:43:46.792Z"
   },
   {
    "duration": 545,
    "start_time": "2025-03-24T19:43:58.364Z"
   },
   {
    "duration": 550,
    "start_time": "2025-03-24T19:44:06.094Z"
   },
   {
    "duration": 520,
    "start_time": "2025-03-24T19:44:15.925Z"
   },
   {
    "duration": 540,
    "start_time": "2025-03-24T19:44:24.121Z"
   },
   {
    "duration": 678,
    "start_time": "2025-03-24T19:44:31.759Z"
   },
   {
    "duration": 564,
    "start_time": "2025-03-24T19:44:42.768Z"
   },
   {
    "duration": 589,
    "start_time": "2025-03-24T19:44:55.877Z"
   },
   {
    "duration": 564,
    "start_time": "2025-03-24T19:45:06.848Z"
   },
   {
    "duration": 151,
    "start_time": "2025-03-24T19:46:28.568Z"
   },
   {
    "duration": 940,
    "start_time": "2025-03-25T02:01:17.425Z"
   },
   {
    "duration": 41,
    "start_time": "2025-03-25T02:01:18.368Z"
   },
   {
    "duration": 14,
    "start_time": "2025-03-25T02:01:18.410Z"
   },
   {
    "duration": 8,
    "start_time": "2025-03-25T02:01:18.425Z"
   },
   {
    "duration": 18,
    "start_time": "2025-03-25T02:01:18.436Z"
   },
   {
    "duration": 4,
    "start_time": "2025-03-25T02:01:18.455Z"
   },
   {
    "duration": 5,
    "start_time": "2025-03-25T02:01:18.461Z"
   },
   {
    "duration": 963,
    "start_time": "2025-03-25T02:01:18.467Z"
   },
   {
    "duration": 147,
    "start_time": "2025-03-25T02:01:19.432Z"
   },
   {
    "duration": 592,
    "start_time": "2025-03-25T02:01:19.582Z"
   },
   {
    "duration": 251,
    "start_time": "2025-03-25T02:01:20.176Z"
   },
   {
    "duration": 2,
    "start_time": "2025-03-25T02:01:20.429Z"
   },
   {
    "duration": 2,
    "start_time": "2025-03-25T02:01:20.434Z"
   },
   {
    "duration": 6,
    "start_time": "2025-03-25T02:01:20.439Z"
   },
   {
    "duration": 62,
    "start_time": "2025-03-25T02:01:20.448Z"
   },
   {
    "duration": 13,
    "start_time": "2025-03-25T02:01:20.512Z"
   },
   {
    "duration": 14,
    "start_time": "2025-03-25T02:01:20.526Z"
   },
   {
    "duration": 6,
    "start_time": "2025-03-25T02:01:20.542Z"
   },
   {
    "duration": 7,
    "start_time": "2025-03-25T02:01:20.550Z"
   },
   {
    "duration": 132,
    "start_time": "2025-03-25T02:02:27.800Z"
   },
   {
    "duration": 129,
    "start_time": "2025-03-25T02:02:36.627Z"
   },
   {
    "duration": 896,
    "start_time": "2025-03-25T02:02:53.187Z"
   },
   {
    "duration": 39,
    "start_time": "2025-03-25T02:02:54.085Z"
   },
   {
    "duration": 13,
    "start_time": "2025-03-25T02:02:54.126Z"
   },
   {
    "duration": 7,
    "start_time": "2025-03-25T02:02:54.141Z"
   },
   {
    "duration": 18,
    "start_time": "2025-03-25T02:02:54.151Z"
   },
   {
    "duration": 3,
    "start_time": "2025-03-25T02:02:54.171Z"
   },
   {
    "duration": 33,
    "start_time": "2025-03-25T02:02:54.176Z"
   },
   {
    "duration": 938,
    "start_time": "2025-03-25T02:02:54.211Z"
   },
   {
    "duration": 152,
    "start_time": "2025-03-25T02:02:55.151Z"
   },
   {
    "duration": 572,
    "start_time": "2025-03-25T02:02:55.304Z"
   },
   {
    "duration": 265,
    "start_time": "2025-03-25T02:02:55.878Z"
   },
   {
    "duration": 3,
    "start_time": "2025-03-25T02:02:56.145Z"
   },
   {
    "duration": 3,
    "start_time": "2025-03-25T02:02:56.149Z"
   },
   {
    "duration": 6,
    "start_time": "2025-03-25T02:02:56.155Z"
   },
   {
    "duration": 62,
    "start_time": "2025-03-25T02:02:56.164Z"
   },
   {
    "duration": 12,
    "start_time": "2025-03-25T02:02:56.229Z"
   },
   {
    "duration": 13,
    "start_time": "2025-03-25T02:02:56.243Z"
   },
   {
    "duration": 8,
    "start_time": "2025-03-25T02:02:56.257Z"
   },
   {
    "duration": 7,
    "start_time": "2025-03-25T02:02:56.267Z"
   },
   {
    "duration": 128,
    "start_time": "2025-03-25T02:03:02.642Z"
   },
   {
    "duration": 168,
    "start_time": "2025-03-25T02:03:07.493Z"
   },
   {
    "duration": 168,
    "start_time": "2025-03-25T02:03:19.490Z"
   },
   {
    "duration": 163,
    "start_time": "2025-03-25T02:03:27.123Z"
   },
   {
    "duration": 206,
    "start_time": "2025-03-25T02:03:33.042Z"
   },
   {
    "duration": 629,
    "start_time": "2025-03-25T02:03:41.773Z"
   },
   {
    "duration": 132,
    "start_time": "2025-03-25T02:03:42.408Z"
   },
   {
    "duration": 3,
    "start_time": "2025-03-25T02:03:47.843Z"
   },
   {
    "duration": 30,
    "start_time": "2025-03-25T02:03:48.437Z"
   },
   {
    "duration": 16,
    "start_time": "2025-03-25T02:03:49.618Z"
   },
   {
    "duration": 10,
    "start_time": "2025-03-25T02:03:50.178Z"
   },
   {
    "duration": 25,
    "start_time": "2025-03-25T02:03:50.616Z"
   },
   {
    "duration": 5,
    "start_time": "2025-03-25T02:03:51.158Z"
   },
   {
    "duration": 4,
    "start_time": "2025-03-25T02:03:52.007Z"
   },
   {
    "duration": 839,
    "start_time": "2025-03-25T02:03:54.347Z"
   },
   {
    "duration": 161,
    "start_time": "2025-03-25T02:03:56.941Z"
   },
   {
    "duration": 586,
    "start_time": "2025-03-25T02:03:58.584Z"
   },
   {
    "duration": 2,
    "start_time": "2025-03-25T02:04:08.985Z"
   },
   {
    "duration": 31,
    "start_time": "2025-03-25T02:04:09.392Z"
   },
   {
    "duration": 13,
    "start_time": "2025-03-25T02:04:10.252Z"
   },
   {
    "duration": 8,
    "start_time": "2025-03-25T02:04:10.621Z"
   },
   {
    "duration": 21,
    "start_time": "2025-03-25T02:04:11.053Z"
   },
   {
    "duration": 4,
    "start_time": "2025-03-25T02:04:11.469Z"
   },
   {
    "duration": 4,
    "start_time": "2025-03-25T02:04:11.949Z"
   },
   {
    "duration": 942,
    "start_time": "2025-03-25T02:04:14.007Z"
   },
   {
    "duration": 144,
    "start_time": "2025-03-25T02:04:15.457Z"
   },
   {
    "duration": 432,
    "start_time": "2025-03-25T02:04:33.557Z"
   },
   {
    "duration": 544,
    "start_time": "2025-03-25T02:04:39.941Z"
   },
   {
    "duration": 449,
    "start_time": "2025-03-25T02:04:48.146Z"
   },
   {
    "duration": 431,
    "start_time": "2025-03-25T02:05:52.736Z"
   },
   {
    "duration": 529,
    "start_time": "2025-03-25T02:05:58.769Z"
   },
   {
    "duration": 450,
    "start_time": "2025-03-25T02:06:04.976Z"
   },
   {
    "duration": 435,
    "start_time": "2025-03-25T02:39:12.589Z"
   },
   {
    "duration": 430,
    "start_time": "2025-03-25T02:39:20.660Z"
   },
   {
    "duration": 440,
    "start_time": "2025-03-25T02:39:25.868Z"
   },
   {
    "duration": 435,
    "start_time": "2025-03-25T02:39:33.012Z"
   },
   {
    "duration": 433,
    "start_time": "2025-03-25T02:39:40.008Z"
   },
   {
    "duration": 551,
    "start_time": "2025-03-25T02:40:19.704Z"
   },
   {
    "duration": 442,
    "start_time": "2025-03-25T02:40:32.686Z"
   },
   {
    "duration": 433,
    "start_time": "2025-03-25T02:40:45.996Z"
   },
   {
    "duration": 432,
    "start_time": "2025-03-25T02:40:54.849Z"
   },
   {
    "duration": 431,
    "start_time": "2025-03-25T02:41:00.130Z"
   },
   {
    "duration": 434,
    "start_time": "2025-03-25T02:41:08.455Z"
   },
   {
    "duration": 17,
    "start_time": "2025-03-25T02:51:03.896Z"
   },
   {
    "duration": 847,
    "start_time": "2025-03-25T02:52:53.303Z"
   },
   {
    "duration": 761,
    "start_time": "2025-03-25T02:54:02.479Z"
   },
   {
    "duration": 5,
    "start_time": "2025-03-25T02:55:04.629Z"
   },
   {
    "duration": 332,
    "start_time": "2025-03-25T02:55:23.387Z"
   },
   {
    "duration": 4,
    "start_time": "2025-03-25T02:55:56.850Z"
   },
   {
    "duration": 244,
    "start_time": "2025-03-25T02:57:02.922Z"
   },
   {
    "duration": 272,
    "start_time": "2025-03-25T02:57:21.081Z"
   },
   {
    "duration": 256,
    "start_time": "2025-03-25T02:57:27.978Z"
   },
   {
    "duration": 254,
    "start_time": "2025-03-25T02:57:32.480Z"
   },
   {
    "duration": 249,
    "start_time": "2025-03-25T02:57:42.586Z"
   },
   {
    "duration": 376,
    "start_time": "2025-03-25T02:57:47.303Z"
   },
   {
    "duration": 265,
    "start_time": "2025-03-25T02:57:51.289Z"
   },
   {
    "duration": 232,
    "start_time": "2025-03-25T02:57:55.142Z"
   },
   {
    "duration": 238,
    "start_time": "2025-03-25T02:58:00.326Z"
   },
   {
    "duration": 241,
    "start_time": "2025-03-25T02:58:10.581Z"
   },
   {
    "duration": 367,
    "start_time": "2025-03-25T02:58:15.548Z"
   },
   {
    "duration": 4,
    "start_time": "2025-03-25T04:35:41.792Z"
   },
   {
    "duration": 5,
    "start_time": "2025-03-25T04:35:59.281Z"
   },
   {
    "duration": 10,
    "start_time": "2025-03-25T04:36:11.401Z"
   },
   {
    "duration": 539,
    "start_time": "2025-03-25T04:36:22.237Z"
   },
   {
    "duration": 8,
    "start_time": "2025-03-25T04:36:28.454Z"
   },
   {
    "duration": 58,
    "start_time": "2025-03-25T04:39:01.632Z"
   },
   {
    "duration": 80,
    "start_time": "2025-03-25T04:39:50.879Z"
   },
   {
    "duration": 17,
    "start_time": "2025-03-25T04:40:06.772Z"
   },
   {
    "duration": 2712,
    "start_time": "2025-04-12T22:42:19.194Z"
   },
   {
    "duration": 47,
    "start_time": "2025-04-12T22:42:21.908Z"
   },
   {
    "duration": 12,
    "start_time": "2025-04-12T22:42:21.957Z"
   },
   {
    "duration": 10,
    "start_time": "2025-04-12T22:58:52.118Z"
   },
   {
    "duration": 10,
    "start_time": "2025-04-12T22:59:05.470Z"
   },
   {
    "duration": 9,
    "start_time": "2025-04-12T22:59:15.034Z"
   },
   {
    "duration": 129,
    "start_time": "2025-04-12T23:04:53.169Z"
   },
   {
    "duration": 12,
    "start_time": "2025-04-12T23:05:19.524Z"
   },
   {
    "duration": 8,
    "start_time": "2025-04-12T23:05:35.260Z"
   },
   {
    "duration": 12,
    "start_time": "2025-04-12T23:05:43.589Z"
   },
   {
    "duration": 8,
    "start_time": "2025-04-12T23:05:44.649Z"
   },
   {
    "duration": 3,
    "start_time": "2025-04-12T23:05:50.495Z"
   },
   {
    "duration": 33,
    "start_time": "2025-04-12T23:05:51.135Z"
   },
   {
    "duration": 9,
    "start_time": "2025-04-12T23:05:53.138Z"
   },
   {
    "duration": 12,
    "start_time": "2025-04-12T23:05:54.824Z"
   },
   {
    "duration": 7,
    "start_time": "2025-04-12T23:05:56.538Z"
   },
   {
    "duration": 12,
    "start_time": "2025-04-12T23:06:26.279Z"
   },
   {
    "duration": 10,
    "start_time": "2025-04-12T23:06:26.978Z"
   },
   {
    "duration": 26,
    "start_time": "2025-04-12T23:06:35.072Z"
   },
   {
    "duration": 151,
    "start_time": "2025-04-12T23:08:27.952Z"
   },
   {
    "duration": 2731,
    "start_time": "2025-04-28T06:24:31.866Z"
   },
   {
    "duration": 46,
    "start_time": "2025-04-28T06:24:34.599Z"
   },
   {
    "duration": 9,
    "start_time": "2025-04-28T06:24:36.650Z"
   },
   {
    "duration": 12,
    "start_time": "2025-04-28T06:24:37.927Z"
   },
   {
    "duration": 23,
    "start_time": "2025-04-28T06:24:40.108Z"
   },
   {
    "duration": 154,
    "start_time": "2025-04-28T06:24:57.878Z"
   },
   {
    "duration": 6,
    "start_time": "2025-04-28T06:26:18.756Z"
   },
   {
    "duration": 47,
    "start_time": "2025-04-28T06:26:22.456Z"
   },
   {
    "duration": 14,
    "start_time": "2025-04-28T06:26:24.354Z"
   },
   {
    "duration": 14,
    "start_time": "2025-04-28T06:26:27.017Z"
   },
   {
    "duration": 5,
    "start_time": "2025-04-28T06:27:46.571Z"
   },
   {
    "duration": 19,
    "start_time": "2025-04-28T06:27:48.467Z"
   },
   {
    "duration": 18,
    "start_time": "2025-04-28T06:27:50.236Z"
   },
   {
    "duration": 13,
    "start_time": "2025-04-28T06:27:53.170Z"
   },
   {
    "duration": 6,
    "start_time": "2025-04-28T06:28:09.330Z"
   },
   {
    "duration": 15,
    "start_time": "2025-04-28T06:28:11.888Z"
   },
   {
    "duration": 13,
    "start_time": "2025-04-28T06:28:13.832Z"
   },
   {
    "duration": 13,
    "start_time": "2025-04-28T06:28:15.493Z"
   },
   {
    "duration": 248,
    "start_time": "2025-04-28T06:33:55.302Z"
   },
   {
    "duration": 221,
    "start_time": "2025-04-28T06:34:53.788Z"
   },
   {
    "duration": 108,
    "start_time": "2025-04-28T06:35:03.380Z"
   },
   {
    "duration": 20,
    "start_time": "2025-04-28T06:35:05.510Z"
   },
   {
    "duration": 3,
    "start_time": "2025-04-28T06:35:12.666Z"
   },
   {
    "duration": 33,
    "start_time": "2025-04-28T06:35:13.133Z"
   },
   {
    "duration": 9,
    "start_time": "2025-04-28T06:35:14.054Z"
   },
   {
    "duration": 12,
    "start_time": "2025-04-28T06:35:15.010Z"
   },
   {
    "duration": 20,
    "start_time": "2025-04-28T06:35:15.490Z"
   },
   {
    "duration": 150,
    "start_time": "2025-04-28T06:35:18.695Z"
   },
   {
    "duration": 19,
    "start_time": "2025-04-28T06:35:21.086Z"
   },
   {
    "duration": 5,
    "start_time": "2025-04-28T06:36:26.442Z"
   },
   {
    "duration": 7,
    "start_time": "2025-04-28T06:36:41.073Z"
   },
   {
    "duration": 20,
    "start_time": "2025-04-28T06:37:19.558Z"
   },
   {
    "duration": 18,
    "start_time": "2025-04-28T06:37:33.081Z"
   },
   {
    "duration": 7,
    "start_time": "2025-04-28T06:37:47.089Z"
   },
   {
    "duration": 10,
    "start_time": "2025-04-28T06:38:04.181Z"
   },
   {
    "duration": 12,
    "start_time": "2025-04-28T06:39:58.136Z"
   },
   {
    "duration": 11,
    "start_time": "2025-04-28T06:40:09.950Z"
   },
   {
    "duration": 23,
    "start_time": "2025-04-28T06:40:45.785Z"
   },
   {
    "duration": 12,
    "start_time": "2025-04-28T06:41:12.698Z"
   },
   {
    "duration": 19,
    "start_time": "2025-04-28T06:41:16.592Z"
   },
   {
    "duration": 5,
    "start_time": "2025-04-28T06:41:24.056Z"
   },
   {
    "duration": 547,
    "start_time": "2025-04-28T06:41:25.036Z"
   },
   {
    "duration": 456,
    "start_time": "2025-04-28T06:41:42.725Z"
   },
   {
    "duration": 153,
    "start_time": "2025-04-28T06:42:14.050Z"
   },
   {
    "duration": 450,
    "start_time": "2025-04-28T06:42:28.724Z"
   },
   {
    "duration": 32,
    "start_time": "2025-04-28T06:42:31.354Z"
   },
   {
    "duration": 2536,
    "start_time": "2025-05-03T07:16:42.436Z"
   },
   {
    "duration": 46,
    "start_time": "2025-05-03T07:16:44.975Z"
   },
   {
    "duration": 9,
    "start_time": "2025-05-03T07:16:45.023Z"
   },
   {
    "duration": 11,
    "start_time": "2025-05-03T07:16:45.034Z"
   },
   {
    "duration": 26,
    "start_time": "2025-05-03T07:16:45.047Z"
   },
   {
    "duration": 169,
    "start_time": "2025-05-03T07:16:45.075Z"
   },
   {
    "duration": 452,
    "start_time": "2025-05-03T07:16:45.245Z"
   },
   {
    "duration": 395,
    "start_time": "2025-05-03T07:16:45.699Z"
   },
   {
    "duration": 0,
    "start_time": "2025-05-03T07:16:46.096Z"
   },
   {
    "duration": 0,
    "start_time": "2025-05-03T07:16:46.097Z"
   },
   {
    "duration": 0,
    "start_time": "2025-05-03T07:16:46.099Z"
   },
   {
    "duration": 0,
    "start_time": "2025-05-03T07:16:46.100Z"
   },
   {
    "duration": 0,
    "start_time": "2025-05-03T07:16:46.101Z"
   },
   {
    "duration": 0,
    "start_time": "2025-05-03T07:16:46.102Z"
   },
   {
    "duration": 0,
    "start_time": "2025-05-03T07:16:46.103Z"
   },
   {
    "duration": 0,
    "start_time": "2025-05-03T07:16:46.104Z"
   },
   {
    "duration": 0,
    "start_time": "2025-05-03T07:16:46.105Z"
   },
   {
    "duration": 182,
    "start_time": "2025-05-03T07:17:12.509Z"
   },
   {
    "duration": 6,
    "start_time": "2025-05-03T07:42:51.262Z"
   },
   {
    "duration": 179,
    "start_time": "2025-05-03T07:46:03.176Z"
   },
   {
    "duration": 247,
    "start_time": "2025-05-03T07:46:39.542Z"
   },
   {
    "duration": 184,
    "start_time": "2025-05-03T07:46:54.508Z"
   },
   {
    "duration": 163,
    "start_time": "2025-05-03T07:55:09.754Z"
   },
   {
    "duration": 161,
    "start_time": "2025-05-03T07:55:19.795Z"
   },
   {
    "duration": 163,
    "start_time": "2025-05-03T07:55:51.719Z"
   },
   {
    "duration": 5,
    "start_time": "2025-05-03T07:56:52.360Z"
   },
   {
    "duration": 44,
    "start_time": "2025-05-03T07:56:53.842Z"
   },
   {
    "duration": 12,
    "start_time": "2025-05-03T07:56:58.198Z"
   },
   {
    "duration": 12,
    "start_time": "2025-05-03T07:56:59.944Z"
   },
   {
    "duration": 6,
    "start_time": "2025-05-03T07:58:29.960Z"
   },
   {
    "duration": 166,
    "start_time": "2025-05-03T08:05:36.166Z"
   },
   {
    "duration": 161,
    "start_time": "2025-05-03T08:05:46.202Z"
   },
   {
    "duration": 241,
    "start_time": "2025-05-03T08:05:51.103Z"
   },
   {
    "duration": 153,
    "start_time": "2025-05-03T08:05:55.824Z"
   },
   {
    "duration": 161,
    "start_time": "2025-05-03T08:06:01.713Z"
   },
   {
    "duration": 189,
    "start_time": "2025-05-03T08:07:35.521Z"
   },
   {
    "duration": 228,
    "start_time": "2025-05-03T08:07:46.062Z"
   },
   {
    "duration": 237,
    "start_time": "2025-05-03T08:09:00.533Z"
   },
   {
    "duration": 228,
    "start_time": "2025-05-03T08:09:08.257Z"
   },
   {
    "duration": 891,
    "start_time": "2025-05-03T08:09:27.751Z"
   },
   {
    "duration": 36,
    "start_time": "2025-05-03T08:09:28.644Z"
   },
   {
    "duration": 9,
    "start_time": "2025-05-03T08:09:28.687Z"
   },
   {
    "duration": 12,
    "start_time": "2025-05-03T08:09:28.699Z"
   },
   {
    "duration": 22,
    "start_time": "2025-05-03T08:09:28.713Z"
   },
   {
    "duration": 185,
    "start_time": "2025-05-03T08:09:28.737Z"
   },
   {
    "duration": 535,
    "start_time": "2025-05-03T08:09:28.924Z"
   },
   {
    "duration": 248,
    "start_time": "2025-05-03T08:09:29.461Z"
   },
   {
    "duration": 183,
    "start_time": "2025-05-03T08:09:29.711Z"
   },
   {
    "duration": 2,
    "start_time": "2025-05-03T08:09:29.897Z"
   },
   {
    "duration": 3,
    "start_time": "2025-05-03T08:09:29.900Z"
   },
   {
    "duration": 4,
    "start_time": "2025-05-03T08:09:29.905Z"
   },
   {
    "duration": 37,
    "start_time": "2025-05-03T08:09:29.911Z"
   },
   {
    "duration": 11,
    "start_time": "2025-05-03T08:09:29.949Z"
   },
   {
    "duration": 12,
    "start_time": "2025-05-03T08:09:29.986Z"
   },
   {
    "duration": 619,
    "start_time": "2025-05-03T08:09:29.999Z"
   },
   {
    "duration": 0,
    "start_time": "2025-05-03T08:09:30.620Z"
   },
   {
    "duration": 2939,
    "start_time": "2025-05-10T08:38:51.938Z"
   },
   {
    "duration": 45,
    "start_time": "2025-05-10T08:38:54.880Z"
   },
   {
    "duration": 9,
    "start_time": "2025-05-10T08:38:54.927Z"
   },
   {
    "duration": 14,
    "start_time": "2025-05-10T08:38:54.939Z"
   },
   {
    "duration": 23,
    "start_time": "2025-05-10T08:38:54.955Z"
   },
   {
    "duration": 175,
    "start_time": "2025-05-10T08:38:54.980Z"
   },
   {
    "duration": 504,
    "start_time": "2025-05-10T08:38:55.157Z"
   },
   {
    "duration": 281,
    "start_time": "2025-05-10T08:38:55.664Z"
   },
   {
    "duration": 3,
    "start_time": "2025-05-10T08:38:55.947Z"
   },
   {
    "duration": 3,
    "start_time": "2025-05-10T08:38:55.953Z"
   },
   {
    "duration": 5,
    "start_time": "2025-05-10T08:38:55.958Z"
   },
   {
    "duration": 44,
    "start_time": "2025-05-10T08:38:55.965Z"
   },
   {
    "duration": 25,
    "start_time": "2025-05-10T08:38:56.011Z"
   },
   {
    "duration": 18,
    "start_time": "2025-05-10T08:38:56.038Z"
   },
   {
    "duration": 694,
    "start_time": "2025-05-10T08:38:56.060Z"
   },
   {
    "duration": 0,
    "start_time": "2025-05-10T08:38:56.758Z"
   },
   {
    "duration": 64,
    "start_time": "2025-05-10T08:44:01.929Z"
   },
   {
    "duration": 59,
    "start_time": "2025-05-10T08:44:09.799Z"
   },
   {
    "duration": 64,
    "start_time": "2025-05-10T08:44:12.408Z"
   },
   {
    "duration": 52,
    "start_time": "2025-05-10T08:45:47.160Z"
   },
   {
    "duration": 43,
    "start_time": "2025-05-10T08:45:59.182Z"
   },
   {
    "duration": 891,
    "start_time": "2025-05-10T08:46:04.595Z"
   },
   {
    "duration": 35,
    "start_time": "2025-05-10T08:46:05.489Z"
   },
   {
    "duration": 20,
    "start_time": "2025-05-10T08:46:05.532Z"
   },
   {
    "duration": 11,
    "start_time": "2025-05-10T08:46:05.560Z"
   },
   {
    "duration": 21,
    "start_time": "2025-05-10T08:46:05.572Z"
   },
   {
    "duration": 175,
    "start_time": "2025-05-10T08:46:05.594Z"
   },
   {
    "duration": 570,
    "start_time": "2025-05-10T08:46:05.771Z"
   },
   {
    "duration": 206,
    "start_time": "2025-05-10T08:46:06.344Z"
   },
   {
    "duration": 2,
    "start_time": "2025-05-10T08:46:06.552Z"
   },
   {
    "duration": 3,
    "start_time": "2025-05-10T08:46:06.557Z"
   },
   {
    "duration": 6,
    "start_time": "2025-05-10T08:46:06.562Z"
   },
   {
    "duration": 41,
    "start_time": "2025-05-10T08:46:06.570Z"
   },
   {
    "duration": 32,
    "start_time": "2025-05-10T08:46:06.612Z"
   },
   {
    "duration": 13,
    "start_time": "2025-05-10T08:46:06.645Z"
   },
   {
    "duration": 609,
    "start_time": "2025-05-10T08:46:06.660Z"
   },
   {
    "duration": 0,
    "start_time": "2025-05-10T08:46:07.271Z"
   },
   {
    "duration": 46,
    "start_time": "2025-05-10T08:46:23.172Z"
   },
   {
    "duration": 15,
    "start_time": "2025-05-10T08:48:11.175Z"
   },
   {
    "duration": 63,
    "start_time": "2025-05-10T08:48:23.306Z"
   },
   {
    "duration": 5,
    "start_time": "2025-05-10T08:48:39.599Z"
   },
   {
    "duration": 63,
    "start_time": "2025-05-10T08:49:06.428Z"
   },
   {
    "duration": 5,
    "start_time": "2025-05-10T08:49:09.441Z"
   },
   {
    "duration": 50,
    "start_time": "2025-05-10T08:49:21.825Z"
   },
   {
    "duration": 5,
    "start_time": "2025-05-10T08:49:26.388Z"
   },
   {
    "duration": 30,
    "start_time": "2025-05-10T08:49:38.978Z"
   },
   {
    "duration": 17,
    "start_time": "2025-05-10T08:49:44.981Z"
   },
   {
    "duration": 334,
    "start_time": "2025-05-10T08:50:09.420Z"
   },
   {
    "duration": 16,
    "start_time": "2025-05-10T08:50:17.972Z"
   },
   {
    "duration": 2,
    "start_time": "2025-05-10T08:50:26.694Z"
   },
   {
    "duration": 29,
    "start_time": "2025-05-10T08:50:27.175Z"
   },
   {
    "duration": 9,
    "start_time": "2025-05-10T08:50:28.302Z"
   },
   {
    "duration": 14,
    "start_time": "2025-05-10T08:50:29.415Z"
   },
   {
    "duration": 20,
    "start_time": "2025-05-10T08:50:29.988Z"
   },
   {
    "duration": 30,
    "start_time": "2025-05-10T08:50:36.039Z"
   },
   {
    "duration": 16,
    "start_time": "2025-05-10T08:50:41.219Z"
   },
   {
    "duration": 195,
    "start_time": "2025-05-10T08:50:54.946Z"
   },
   {
    "duration": 189,
    "start_time": "2025-05-10T08:51:35.540Z"
   },
   {
    "duration": 201,
    "start_time": "2025-05-10T08:52:12.748Z"
   },
   {
    "duration": 197,
    "start_time": "2025-05-10T08:52:18.286Z"
   },
   {
    "duration": 197,
    "start_time": "2025-05-10T08:52:24.510Z"
   },
   {
    "duration": 196,
    "start_time": "2025-05-10T08:52:37.296Z"
   },
   {
    "duration": 296,
    "start_time": "2025-05-10T08:52:42.459Z"
   },
   {
    "duration": 258,
    "start_time": "2025-05-10T08:53:04.441Z"
   },
   {
    "duration": 204,
    "start_time": "2025-05-10T08:53:09.508Z"
   },
   {
    "duration": 209,
    "start_time": "2025-05-10T08:53:14.933Z"
   },
   {
    "duration": 231,
    "start_time": "2025-05-10T08:53:20.006Z"
   },
   {
    "duration": 203,
    "start_time": "2025-05-10T08:53:24.188Z"
   },
   {
    "duration": 203,
    "start_time": "2025-05-10T08:53:29.232Z"
   },
   {
    "duration": 195,
    "start_time": "2025-05-10T08:53:34.023Z"
   },
   {
    "duration": 45,
    "start_time": "2025-05-10T08:54:12.672Z"
   },
   {
    "duration": 4,
    "start_time": "2025-05-10T08:55:14.814Z"
   },
   {
    "duration": 331,
    "start_time": "2025-05-10T08:55:17.836Z"
   },
   {
    "duration": 47,
    "start_time": "2025-05-10T08:55:24.294Z"
   },
   {
    "duration": 203,
    "start_time": "2025-05-10T08:56:10.045Z"
   },
   {
    "duration": 912,
    "start_time": "2025-05-10T08:56:16.418Z"
   },
   {
    "duration": 41,
    "start_time": "2025-05-10T08:56:17.332Z"
   },
   {
    "duration": 8,
    "start_time": "2025-05-10T08:56:17.916Z"
   },
   {
    "duration": 12,
    "start_time": "2025-05-10T08:56:18.918Z"
   },
   {
    "duration": 24,
    "start_time": "2025-05-10T08:56:19.458Z"
   },
   {
    "duration": 163,
    "start_time": "2025-05-10T08:56:21.948Z"
   },
   {
    "duration": 507,
    "start_time": "2025-05-10T08:56:23.521Z"
   },
   {
    "duration": 256,
    "start_time": "2025-05-10T08:56:26.122Z"
   },
   {
    "duration": 8,
    "start_time": "2025-05-10T08:56:33.157Z"
   },
   {
    "duration": 68,
    "start_time": "2025-05-10T08:56:36.324Z"
   },
   {
    "duration": 11,
    "start_time": "2025-05-10T08:56:39.300Z"
   },
   {
    "duration": 14,
    "start_time": "2025-05-10T08:56:42.442Z"
   },
   {
    "duration": 472,
    "start_time": "2025-05-10T08:57:10.596Z"
   },
   {
    "duration": 53,
    "start_time": "2025-05-10T08:58:16.944Z"
   },
   {
    "duration": 50,
    "start_time": "2025-05-10T08:58:20.394Z"
   },
   {
    "duration": 46,
    "start_time": "2025-05-10T08:59:01.882Z"
   },
   {
    "duration": 3,
    "start_time": "2025-05-10T08:59:09.510Z"
   },
   {
    "duration": 31,
    "start_time": "2025-05-10T08:59:09.899Z"
   },
   {
    "duration": 12,
    "start_time": "2025-05-10T08:59:10.636Z"
   },
   {
    "duration": 15,
    "start_time": "2025-05-10T08:59:11.448Z"
   },
   {
    "duration": 20,
    "start_time": "2025-05-10T08:59:11.688Z"
   },
   {
    "duration": 153,
    "start_time": "2025-05-10T08:59:12.972Z"
   },
   {
    "duration": 467,
    "start_time": "2025-05-10T08:59:13.684Z"
   },
   {
    "duration": 340,
    "start_time": "2025-05-10T08:59:15.614Z"
   },
   {
    "duration": 201,
    "start_time": "2025-05-10T08:59:24.392Z"
   },
   {
    "duration": 208,
    "start_time": "2025-05-10T08:59:31.513Z"
   },
   {
    "duration": 190,
    "start_time": "2025-05-10T08:59:38.211Z"
   },
   {
    "duration": 255,
    "start_time": "2025-05-10T09:00:10.846Z"
   },
   {
    "duration": 196,
    "start_time": "2025-05-10T09:00:21.662Z"
   },
   {
    "duration": 617,
    "start_time": "2025-05-10T09:01:33.088Z"
   },
   {
    "duration": 331,
    "start_time": "2025-05-10T09:01:58.242Z"
   },
   {
    "duration": 387,
    "start_time": "2025-05-10T09:02:33.912Z"
   },
   {
    "duration": 196,
    "start_time": "2025-05-10T09:02:42.570Z"
   },
   {
    "duration": 222,
    "start_time": "2025-05-10T09:02:49.678Z"
   },
   {
    "duration": 184,
    "start_time": "2025-05-10T09:02:53.670Z"
   },
   {
    "duration": 291,
    "start_time": "2025-05-10T09:03:09.070Z"
   },
   {
    "duration": 189,
    "start_time": "2025-05-10T09:03:15.487Z"
   },
   {
    "duration": 209,
    "start_time": "2025-05-10T09:03:21.648Z"
   },
   {
    "duration": 195,
    "start_time": "2025-05-10T09:03:27.044Z"
   },
   {
    "duration": 203,
    "start_time": "2025-05-10T09:03:32.172Z"
   },
   {
    "duration": 213,
    "start_time": "2025-05-10T09:03:36.680Z"
   },
   {
    "duration": 190,
    "start_time": "2025-05-10T09:03:46.538Z"
   },
   {
    "duration": 292,
    "start_time": "2025-05-10T09:03:52.753Z"
   },
   {
    "duration": 211,
    "start_time": "2025-05-10T09:05:20.048Z"
   },
   {
    "duration": 187,
    "start_time": "2025-05-10T09:05:32.836Z"
   },
   {
    "duration": 24,
    "start_time": "2025-05-10T09:06:34.642Z"
   },
   {
    "duration": 12,
    "start_time": "2025-05-10T09:08:14.064Z"
   },
   {
    "duration": 9,
    "start_time": "2025-05-10T09:08:18.732Z"
   },
   {
    "duration": 3,
    "start_time": "2025-05-10T09:12:23.396Z"
   },
   {
    "duration": 30,
    "start_time": "2025-05-10T09:12:23.794Z"
   },
   {
    "duration": 10,
    "start_time": "2025-05-10T09:12:24.198Z"
   },
   {
    "duration": 16,
    "start_time": "2025-05-10T09:12:24.634Z"
   },
   {
    "duration": 19,
    "start_time": "2025-05-10T09:12:24.834Z"
   },
   {
    "duration": 160,
    "start_time": "2025-05-10T09:12:26.470Z"
   },
   {
    "duration": 481,
    "start_time": "2025-05-10T09:12:27.450Z"
   },
   {
    "duration": 191,
    "start_time": "2025-05-10T09:12:29.090Z"
   },
   {
    "duration": 8,
    "start_time": "2025-05-10T09:25:54.667Z"
   },
   {
    "duration": 6,
    "start_time": "2025-05-10T09:26:12.549Z"
   },
   {
    "duration": 5,
    "start_time": "2025-05-10T09:27:42.935Z"
   },
   {
    "duration": 9,
    "start_time": "2025-05-10T09:30:43.440Z"
   },
   {
    "duration": 6,
    "start_time": "2025-05-10T09:31:21.535Z"
   },
   {
    "duration": 21,
    "start_time": "2025-05-10T09:33:06.359Z"
   },
   {
    "duration": 12,
    "start_time": "2025-05-10T09:33:40.741Z"
   },
   {
    "duration": 8,
    "start_time": "2025-05-10T09:33:47.895Z"
   },
   {
    "duration": 1244,
    "start_time": "2025-05-10T09:35:46.351Z"
   },
   {
    "duration": 821,
    "start_time": "2025-05-10T09:37:01.580Z"
   },
   {
    "duration": 870,
    "start_time": "2025-05-10T09:39:35.052Z"
   },
   {
    "duration": 5,
    "start_time": "2025-05-10T09:40:58.679Z"
   },
   {
    "duration": 6,
    "start_time": "2025-05-10T09:41:09.476Z"
   },
   {
    "duration": 559,
    "start_time": "2025-05-10T09:41:51.788Z"
   },
   {
    "duration": 7,
    "start_time": "2025-05-10T09:42:04.471Z"
   },
   {
    "duration": 17,
    "start_time": "2025-05-10T09:42:12.202Z"
   },
   {
    "duration": 9,
    "start_time": "2025-05-10T09:42:21.141Z"
   },
   {
    "duration": 6,
    "start_time": "2025-05-10T09:43:46.833Z"
   },
   {
    "duration": 9,
    "start_time": "2025-05-10T09:44:03.537Z"
   },
   {
    "duration": 803,
    "start_time": "2025-05-10T09:44:29.095Z"
   },
   {
    "duration": 814,
    "start_time": "2025-05-10T09:44:37.002Z"
   },
   {
    "duration": 781,
    "start_time": "2025-05-10T09:44:45.344Z"
   },
   {
    "duration": 805,
    "start_time": "2025-05-10T09:45:15.000Z"
   },
   {
    "duration": 581,
    "start_time": "2025-05-10T09:45:29.868Z"
   },
   {
    "duration": 946,
    "start_time": "2025-05-10T09:45:35.090Z"
   },
   {
    "duration": 6,
    "start_time": "2025-05-10T09:46:52.720Z"
   },
   {
    "duration": 5,
    "start_time": "2025-05-10T09:47:14.406Z"
   },
   {
    "duration": 7,
    "start_time": "2025-05-10T09:47:28.192Z"
   },
   {
    "duration": 6,
    "start_time": "2025-05-10T09:48:08.530Z"
   },
   {
    "duration": 7,
    "start_time": "2025-05-10T09:48:13.877Z"
   },
   {
    "duration": 393,
    "start_time": "2025-05-10T09:48:37.824Z"
   },
   {
    "duration": 405,
    "start_time": "2025-05-10T09:49:35.673Z"
   },
   {
    "duration": 404,
    "start_time": "2025-05-10T09:49:56.888Z"
   },
   {
    "duration": 170,
    "start_time": "2025-05-10T09:52:27.104Z"
   },
   {
    "duration": 176,
    "start_time": "2025-05-10T09:52:37.308Z"
   },
   {
    "duration": 257,
    "start_time": "2025-05-10T09:53:05.950Z"
   },
   {
    "duration": 649,
    "start_time": "2025-05-10T09:53:50.867Z"
   },
   {
    "duration": 963,
    "start_time": "2025-05-10T09:54:14.132Z"
   },
   {
    "duration": 752,
    "start_time": "2025-05-10T09:54:41.352Z"
   },
   {
    "duration": 400,
    "start_time": "2025-05-10T09:56:41.618Z"
   },
   {
    "duration": 411,
    "start_time": "2025-05-10T09:56:55.530Z"
   },
   {
    "duration": 785,
    "start_time": "2025-05-10T09:58:18.713Z"
   },
   {
    "duration": 778,
    "start_time": "2025-05-10T09:58:25.653Z"
   },
   {
    "duration": 785,
    "start_time": "2025-05-10T10:15:29.024Z"
   },
   {
    "duration": 926,
    "start_time": "2025-05-10T10:24:46.373Z"
   },
   {
    "duration": 776,
    "start_time": "2025-05-10T10:25:02.967Z"
   },
   {
    "duration": 779,
    "start_time": "2025-05-10T10:25:42.444Z"
   },
   {
    "duration": 773,
    "start_time": "2025-05-10T10:26:36.649Z"
   },
   {
    "duration": 899,
    "start_time": "2025-05-10T10:27:12.025Z"
   },
   {
    "duration": 820,
    "start_time": "2025-05-10T10:29:45.298Z"
   },
   {
    "duration": 939,
    "start_time": "2025-05-10T10:30:13.154Z"
   },
   {
    "duration": 791,
    "start_time": "2025-05-10T10:32:06.519Z"
   },
   {
    "duration": 180,
    "start_time": "2025-05-10T10:34:21.686Z"
   },
   {
    "duration": 302,
    "start_time": "2025-05-10T10:34:31.397Z"
   },
   {
    "duration": 296,
    "start_time": "2025-05-10T10:34:44.443Z"
   },
   {
    "duration": 192,
    "start_time": "2025-05-10T10:35:43.487Z"
   },
   {
    "duration": 188,
    "start_time": "2025-05-10T10:36:03.837Z"
   },
   {
    "duration": 311,
    "start_time": "2025-05-10T10:36:37.078Z"
   },
   {
    "duration": 431,
    "start_time": "2025-05-10T10:36:46.172Z"
   },
   {
    "duration": 285,
    "start_time": "2025-05-10T10:37:21.013Z"
   },
   {
    "duration": 302,
    "start_time": "2025-05-10T10:37:26.293Z"
   },
   {
    "duration": 278,
    "start_time": "2025-05-10T10:39:05.827Z"
   },
   {
    "duration": 5,
    "start_time": "2025-05-10T10:42:24.525Z"
   },
   {
    "duration": 13,
    "start_time": "2025-05-10T10:42:27.075Z"
   },
   {
    "duration": 5,
    "start_time": "2025-05-10T10:42:34.693Z"
   },
   {
    "duration": 11,
    "start_time": "2025-05-10T10:42:37.980Z"
   },
   {
    "duration": 8,
    "start_time": "2025-05-10T11:18:02.029Z"
   },
   {
    "duration": 8,
    "start_time": "2025-05-10T11:18:10.455Z"
   },
   {
    "duration": 6,
    "start_time": "2025-05-10T11:18:20.355Z"
   },
   {
    "duration": 6,
    "start_time": "2025-05-10T11:18:35.958Z"
   },
   {
    "duration": 8,
    "start_time": "2025-05-10T11:18:45.636Z"
   },
   {
    "duration": 2608,
    "start_time": "2025-05-10T18:31:10.172Z"
   },
   {
    "duration": 48,
    "start_time": "2025-05-10T18:31:12.782Z"
   },
   {
    "duration": 9,
    "start_time": "2025-05-10T18:31:13.140Z"
   },
   {
    "duration": 13,
    "start_time": "2025-05-10T18:31:14.883Z"
   },
   {
    "duration": 21,
    "start_time": "2025-05-10T18:31:15.414Z"
   },
   {
    "duration": 149,
    "start_time": "2025-05-10T18:31:17.673Z"
   },
   {
    "duration": 449,
    "start_time": "2025-05-10T18:31:19.206Z"
   },
   {
    "duration": 336,
    "start_time": "2025-05-10T18:31:22.424Z"
   },
   {
    "duration": 798,
    "start_time": "2025-05-10T18:31:24.582Z"
   },
   {
    "duration": 2740,
    "start_time": "2025-05-11T05:08:44.991Z"
   },
   {
    "duration": 55,
    "start_time": "2025-05-11T05:08:47.733Z"
   },
   {
    "duration": 8,
    "start_time": "2025-05-11T05:08:47.790Z"
   },
   {
    "duration": 10,
    "start_time": "2025-05-11T05:08:47.799Z"
   },
   {
    "duration": 20,
    "start_time": "2025-05-11T05:08:47.812Z"
   },
   {
    "duration": 154,
    "start_time": "2025-05-11T05:08:47.834Z"
   },
   {
    "duration": 527,
    "start_time": "2025-05-11T05:08:47.989Z"
   },
   {
    "duration": 227,
    "start_time": "2025-05-11T05:08:53.606Z"
   },
   {
    "duration": 188,
    "start_time": "2025-05-11T08:48:07.283Z"
   },
   {
    "duration": 2513,
    "start_time": "2025-05-11T08:48:13.465Z"
   },
   {
    "duration": 51,
    "start_time": "2025-05-11T08:48:15.980Z"
   },
   {
    "duration": 10,
    "start_time": "2025-05-11T08:48:16.032Z"
   },
   {
    "duration": 10,
    "start_time": "2025-05-11T08:48:16.044Z"
   },
   {
    "duration": 20,
    "start_time": "2025-05-11T08:48:16.056Z"
   },
   {
    "duration": 160,
    "start_time": "2025-05-11T08:48:16.078Z"
   },
   {
    "duration": 451,
    "start_time": "2025-05-11T08:48:16.240Z"
   },
   {
    "duration": 282,
    "start_time": "2025-05-11T08:48:16.692Z"
   },
   {
    "duration": 282,
    "start_time": "2025-05-11T08:48:16.976Z"
   },
   {
    "duration": 826,
    "start_time": "2025-05-11T08:48:17.260Z"
   },
   {
    "duration": 321,
    "start_time": "2025-05-11T08:48:18.088Z"
   },
   {
    "duration": 5,
    "start_time": "2025-05-11T08:48:18.411Z"
   },
   {
    "duration": 39,
    "start_time": "2025-05-11T08:48:18.417Z"
   },
   {
    "duration": 11,
    "start_time": "2025-05-11T08:48:18.458Z"
   },
   {
    "duration": 11,
    "start_time": "2025-05-11T08:48:18.487Z"
   },
   {
    "duration": 7,
    "start_time": "2025-05-11T08:48:18.499Z"
   },
   {
    "duration": 7,
    "start_time": "2025-05-11T08:48:18.508Z"
   },
   {
    "duration": 312,
    "start_time": "2025-05-11T08:49:26.420Z"
   },
   {
    "duration": 379,
    "start_time": "2025-05-11T08:49:59.471Z"
   },
   {
    "duration": 164,
    "start_time": "2025-05-12T07:16:40.946Z"
   },
   {
    "duration": 2538,
    "start_time": "2025-05-12T07:17:06.345Z"
   },
   {
    "duration": 45,
    "start_time": "2025-05-12T07:17:08.886Z"
   },
   {
    "duration": 9,
    "start_time": "2025-05-12T07:17:09.580Z"
   },
   {
    "duration": 13,
    "start_time": "2025-05-12T07:17:10.402Z"
   },
   {
    "duration": 22,
    "start_time": "2025-05-12T07:17:11.190Z"
   },
   {
    "duration": 147,
    "start_time": "2025-05-12T07:17:13.307Z"
   },
   {
    "duration": 498,
    "start_time": "2025-05-12T07:17:14.482Z"
   },
   {
    "duration": 207,
    "start_time": "2025-05-12T07:17:16.240Z"
   },
   {
    "duration": 202,
    "start_time": "2025-05-12T07:17:23.296Z"
   },
   {
    "duration": 8,
    "start_time": "2025-05-12T07:22:46.516Z"
   },
   {
    "duration": 200,
    "start_time": "2025-05-12T07:22:54.187Z"
   },
   {
    "duration": 279,
    "start_time": "2025-05-12T07:22:56.524Z"
   },
   {
    "duration": 7,
    "start_time": "2025-05-12T07:22:58.009Z"
   },
   {
    "duration": 104,
    "start_time": "2025-05-12T07:23:28.686Z"
   },
   {
    "duration": 271,
    "start_time": "2025-05-12T07:23:30.048Z"
   },
   {
    "duration": 3,
    "start_time": "2025-05-12T07:23:36.255Z"
   },
   {
    "duration": 30,
    "start_time": "2025-05-12T07:23:36.695Z"
   },
   {
    "duration": 9,
    "start_time": "2025-05-12T07:23:37.457Z"
   },
   {
    "duration": 13,
    "start_time": "2025-05-12T07:23:38.282Z"
   },
   {
    "duration": 19,
    "start_time": "2025-05-12T07:23:39.068Z"
   },
   {
    "duration": 147,
    "start_time": "2025-05-12T07:23:41.330Z"
   },
   {
    "duration": 502,
    "start_time": "2025-05-12T07:23:42.859Z"
   },
   {
    "duration": 198,
    "start_time": "2025-05-12T07:23:44.668Z"
   },
   {
    "duration": 279,
    "start_time": "2025-05-12T07:23:58.111Z"
   }
  ],
  "kernelspec": {
   "display_name": "Python 3 (ipykernel)",
   "language": "python",
   "name": "python3"
  },
  "language_info": {
   "codemirror_mode": {
    "name": "ipython",
    "version": 3
   },
   "file_extension": ".py",
   "mimetype": "text/x-python",
   "name": "python",
   "nbconvert_exporter": "python",
   "pygments_lexer": "ipython3",
   "version": "3.9.22"
  },
  "toc": {
   "base_numbering": 1,
   "nav_menu": {},
   "number_sections": true,
   "sideBar": true,
   "skip_h1_title": true,
   "title_cell": "Table of Contents",
   "title_sidebar": "Contents",
   "toc_cell": false,
   "toc_position": {},
   "toc_section_display": true,
   "toc_window_display": false
  }
 },
 "nbformat": 4,
 "nbformat_minor": 4
}
