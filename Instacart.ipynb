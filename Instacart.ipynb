{
 "cells": [
  {
   "cell_type": "markdown",
   "id": "8f5b60fc",
   "metadata": {},
   "source": [
    "# Instacart Data Analysis"
   ]
  },
  {
   "cell_type": "markdown",
   "id": "866cb58b",
   "metadata": {},
   "source": [
    "## Introduction"
   ]
  },
  {
   "cell_type": "markdown",
   "id": "8fe75edd",
   "metadata": {},
   "source": [
    "In this project, I will analyze data from Instacart, an online grocery delivery platform where customers can place an order for home delivery. This dataset, originally released by Instacart in 2017 for a Kaggle competition, provides a rich source of information about customer purchasing behaviors. \n",
    "\n",
    "The primary objective is to clean and prepare the data, before delivering a comprehensive report that gives valuable insights into the shopping patterns and habits of Instacart’s customers."
   ]
  },
  {
   "cell_type": "markdown",
   "id": "fbb9f997",
   "metadata": {},
   "source": [
    "## `orders` data frame"
   ]
  },
  {
   "cell_type": "code",
   "execution_count": 50,
   "id": "fbf1adab",
   "metadata": {},
   "outputs": [],
   "source": [
    "import pandas as pd\n",
    "from matplotlib import pyplot as plt"
   ]
  },
  {
   "cell_type": "code",
   "execution_count": 51,
   "id": "ad36396d",
   "metadata": {},
   "outputs": [
    {
     "data": {
      "text/html": [
       "<div>\n",
       "<style scoped>\n",
       "    .dataframe tbody tr th:only-of-type {\n",
       "        vertical-align: middle;\n",
       "    }\n",
       "\n",
       "    .dataframe tbody tr th {\n",
       "        vertical-align: top;\n",
       "    }\n",
       "\n",
       "    .dataframe thead th {\n",
       "        text-align: right;\n",
       "    }\n",
       "</style>\n",
       "<table border=\"1\" class=\"dataframe\">\n",
       "  <thead>\n",
       "    <tr style=\"text-align: right;\">\n",
       "      <th></th>\n",
       "      <th>order_id</th>\n",
       "      <th>user_id</th>\n",
       "      <th>order_number</th>\n",
       "      <th>order_dow</th>\n",
       "      <th>order_hour_of_day</th>\n",
       "      <th>days_since_prior_order</th>\n",
       "    </tr>\n",
       "  </thead>\n",
       "  <tbody>\n",
       "    <tr>\n",
       "      <th>0</th>\n",
       "      <td>1515936</td>\n",
       "      <td>183418</td>\n",
       "      <td>11</td>\n",
       "      <td>6</td>\n",
       "      <td>13</td>\n",
       "      <td>30.0</td>\n",
       "    </tr>\n",
       "    <tr>\n",
       "      <th>1</th>\n",
       "      <td>1690866</td>\n",
       "      <td>163593</td>\n",
       "      <td>5</td>\n",
       "      <td>5</td>\n",
       "      <td>12</td>\n",
       "      <td>9.0</td>\n",
       "    </tr>\n",
       "    <tr>\n",
       "      <th>2</th>\n",
       "      <td>1454967</td>\n",
       "      <td>39980</td>\n",
       "      <td>4</td>\n",
       "      <td>5</td>\n",
       "      <td>19</td>\n",
       "      <td>2.0</td>\n",
       "    </tr>\n",
       "    <tr>\n",
       "      <th>3</th>\n",
       "      <td>1768857</td>\n",
       "      <td>82516</td>\n",
       "      <td>56</td>\n",
       "      <td>0</td>\n",
       "      <td>20</td>\n",
       "      <td>10.0</td>\n",
       "    </tr>\n",
       "    <tr>\n",
       "      <th>4</th>\n",
       "      <td>3007858</td>\n",
       "      <td>196724</td>\n",
       "      <td>2</td>\n",
       "      <td>4</td>\n",
       "      <td>12</td>\n",
       "      <td>17.0</td>\n",
       "    </tr>\n",
       "  </tbody>\n",
       "</table>\n",
       "</div>"
      ],
      "text/plain": [
       "   order_id  user_id  order_number  order_dow  order_hour_of_day  \\\n",
       "0   1515936   183418            11          6                 13   \n",
       "1   1690866   163593             5          5                 12   \n",
       "2   1454967    39980             4          5                 19   \n",
       "3   1768857    82516            56          0                 20   \n",
       "4   3007858   196724             2          4                 12   \n",
       "\n",
       "   days_since_prior_order  \n",
       "0                    30.0  \n",
       "1                     9.0  \n",
       "2                     2.0  \n",
       "3                    10.0  \n",
       "4                    17.0  "
      ]
     },
     "execution_count": 51,
     "metadata": {},
     "output_type": "execute_result"
    }
   ],
   "source": [
    "orders = pd.read_csv('/datasets/instacart_orders.csv', sep=';'); orders.head()"
   ]
  },
  {
   "cell_type": "markdown",
   "id": "4cb3f24a",
   "metadata": {},
   "source": [
    "The table contains six columns, where each row corresponds to one order on the Instacart app.\n",
    "\n",
    "According to the documentation:\n",
    "- `'order_id'` — ID number that uniquely identifies each order\n",
    "- `'user_id'` — ID number that uniquely identifies each customer account\n",
    "- `'order_number '` — the number of times this customer has placed an order\n",
    "- `'order_dow '` — day of the week that the order placed (which day is 0 is uncertain)\n",
    "- `'order_hour_of_day'` — hour of the day that the order was placed\n",
    "- `'days_since_prior_order'` — number of days since this customer placed their previous order"
   ]
  },
  {
   "cell_type": "code",
   "execution_count": 3,
   "id": "b99297a5-405a-463d-8535-9adc3da4ad74",
   "metadata": {},
   "outputs": [
    {
     "data": {
      "text/plain": [
       "15"
      ]
     },
     "execution_count": 3,
     "metadata": {},
     "output_type": "execute_result"
    }
   ],
   "source": [
    "# Check for duplicated orders\n",
    "orders.duplicated().sum()"
   ]
  },
  {
   "cell_type": "code",
   "execution_count": 4,
   "id": "0d44de5d",
   "metadata": {},
   "outputs": [
    {
     "data": {
      "text/html": [
       "<div>\n",
       "<style scoped>\n",
       "    .dataframe tbody tr th:only-of-type {\n",
       "        vertical-align: middle;\n",
       "    }\n",
       "\n",
       "    .dataframe tbody tr th {\n",
       "        vertical-align: top;\n",
       "    }\n",
       "\n",
       "    .dataframe thead th {\n",
       "        text-align: right;\n",
       "    }\n",
       "</style>\n",
       "<table border=\"1\" class=\"dataframe\">\n",
       "  <thead>\n",
       "    <tr style=\"text-align: right;\">\n",
       "      <th></th>\n",
       "      <th>order_id</th>\n",
       "      <th>user_id</th>\n",
       "      <th>order_number</th>\n",
       "      <th>order_dow</th>\n",
       "      <th>order_hour_of_day</th>\n",
       "      <th>days_since_prior_order</th>\n",
       "    </tr>\n",
       "  </thead>\n",
       "  <tbody>\n",
       "    <tr>\n",
       "      <th>4838</th>\n",
       "      <td>2766110</td>\n",
       "      <td>162084</td>\n",
       "      <td>41</td>\n",
       "      <td>3</td>\n",
       "      <td>2</td>\n",
       "      <td>16.0</td>\n",
       "    </tr>\n",
       "    <tr>\n",
       "      <th>5156</th>\n",
       "      <td>2190225</td>\n",
       "      <td>138285</td>\n",
       "      <td>18</td>\n",
       "      <td>3</td>\n",
       "      <td>2</td>\n",
       "      <td>11.0</td>\n",
       "    </tr>\n",
       "    <tr>\n",
       "      <th>15506</th>\n",
       "      <td>553049</td>\n",
       "      <td>58599</td>\n",
       "      <td>13</td>\n",
       "      <td>3</td>\n",
       "      <td>2</td>\n",
       "      <td>7.0</td>\n",
       "    </tr>\n",
       "    <tr>\n",
       "      <th>18420</th>\n",
       "      <td>382357</td>\n",
       "      <td>120200</td>\n",
       "      <td>19</td>\n",
       "      <td>3</td>\n",
       "      <td>2</td>\n",
       "      <td>11.0</td>\n",
       "    </tr>\n",
       "    <tr>\n",
       "      <th>24691</th>\n",
       "      <td>690242</td>\n",
       "      <td>77357</td>\n",
       "      <td>2</td>\n",
       "      <td>3</td>\n",
       "      <td>2</td>\n",
       "      <td>9.0</td>\n",
       "    </tr>\n",
       "  </tbody>\n",
       "</table>\n",
       "</div>"
      ],
      "text/plain": [
       "       order_id  user_id  order_number  order_dow  order_hour_of_day  \\\n",
       "4838    2766110   162084            41          3                  2   \n",
       "5156    2190225   138285            18          3                  2   \n",
       "15506    553049    58599            13          3                  2   \n",
       "18420    382357   120200            19          3                  2   \n",
       "24691    690242    77357             2          3                  2   \n",
       "\n",
       "       days_since_prior_order  \n",
       "4838                     16.0  \n",
       "5156                     11.0  \n",
       "15506                     7.0  \n",
       "18420                    11.0  \n",
       "24691                     9.0  "
      ]
     },
     "execution_count": 4,
     "metadata": {},
     "output_type": "execute_result"
    }
   ],
   "source": [
    "# Check for all orders placed Wednesday at 2:00 AM\n",
    "wed = orders[(orders['order_dow'] == 3) & (orders['order_hour_of_day'] == 2)]; wed.head()"
   ]
  },
  {
   "cell_type": "code",
   "execution_count": 5,
   "id": "480563c7",
   "metadata": {},
   "outputs": [],
   "source": [
    "# Remove duplicate orders\n",
    "orders = orders.drop_duplicates()"
   ]
  },
  {
   "cell_type": "code",
   "execution_count": 6,
   "id": "0b2396a2",
   "metadata": {},
   "outputs": [
    {
     "data": {
      "text/plain": [
       "0"
      ]
     },
     "execution_count": 6,
     "metadata": {},
     "output_type": "execute_result"
    }
   ],
   "source": [
    "# Double check for duplicate rows\n",
    "orders.duplicated().sum()"
   ]
  },
  {
   "cell_type": "code",
   "execution_count": 7,
   "id": "f6113ef1",
   "metadata": {},
   "outputs": [
    {
     "data": {
      "text/plain": [
       "0"
      ]
     },
     "execution_count": 7,
     "metadata": {},
     "output_type": "execute_result"
    }
   ],
   "source": [
    "# Double check for duplicate order IDs only\n",
    "orders['order_id'].duplicated().sum()"
   ]
  },
  {
   "cell_type": "code",
   "execution_count": 8,
   "id": "16dbbc75",
   "metadata": {},
   "outputs": [
    {
     "data": {
      "text/plain": [
       "order_id                      0\n",
       "user_id                       0\n",
       "order_number                  0\n",
       "order_dow                     0\n",
       "order_hour_of_day             0\n",
       "days_since_prior_order    28817\n",
       "dtype: int64"
      ]
     },
     "execution_count": 8,
     "metadata": {},
     "output_type": "execute_result"
    }
   ],
   "source": [
    "orders.isna().sum()"
   ]
  },
  {
   "cell_type": "code",
   "execution_count": 9,
   "id": "166e5a86",
   "metadata": {},
   "outputs": [
    {
     "data": {
      "text/plain": [
       "0"
      ]
     },
     "execution_count": 9,
     "metadata": {},
     "output_type": "execute_result"
    }
   ],
   "source": [
    "# Are there any missing values where it's not a customer's first order?\n",
    "orders[orders['days_since_prior_order'] > 0]['days_since_prior_order'].isna().sum()"
   ]
  },
  {
   "cell_type": "markdown",
   "id": "60f30db1",
   "metadata": {},
   "source": [
    "## `departments` data frame"
   ]
  },
  {
   "cell_type": "code",
   "execution_count": 10,
   "id": "59e2090f",
   "metadata": {},
   "outputs": [
    {
     "data": {
      "text/html": [
       "<div>\n",
       "<style scoped>\n",
       "    .dataframe tbody tr th:only-of-type {\n",
       "        vertical-align: middle;\n",
       "    }\n",
       "\n",
       "    .dataframe tbody tr th {\n",
       "        vertical-align: top;\n",
       "    }\n",
       "\n",
       "    .dataframe thead th {\n",
       "        text-align: right;\n",
       "    }\n",
       "</style>\n",
       "<table border=\"1\" class=\"dataframe\">\n",
       "  <thead>\n",
       "    <tr style=\"text-align: right;\">\n",
       "      <th></th>\n",
       "      <th>department_id</th>\n",
       "      <th>department</th>\n",
       "    </tr>\n",
       "  </thead>\n",
       "  <tbody>\n",
       "    <tr>\n",
       "      <th>0</th>\n",
       "      <td>1</td>\n",
       "      <td>frozen</td>\n",
       "    </tr>\n",
       "    <tr>\n",
       "      <th>1</th>\n",
       "      <td>2</td>\n",
       "      <td>other</td>\n",
       "    </tr>\n",
       "    <tr>\n",
       "      <th>2</th>\n",
       "      <td>3</td>\n",
       "      <td>bakery</td>\n",
       "    </tr>\n",
       "    <tr>\n",
       "      <th>3</th>\n",
       "      <td>4</td>\n",
       "      <td>produce</td>\n",
       "    </tr>\n",
       "    <tr>\n",
       "      <th>4</th>\n",
       "      <td>5</td>\n",
       "      <td>alcohol</td>\n",
       "    </tr>\n",
       "  </tbody>\n",
       "</table>\n",
       "</div>"
      ],
      "text/plain": [
       "   department_id department\n",
       "0              1     frozen\n",
       "1              2      other\n",
       "2              3     bakery\n",
       "3              4    produce\n",
       "4              5    alcohol"
      ]
     },
     "execution_count": 10,
     "metadata": {},
     "output_type": "execute_result"
    }
   ],
   "source": [
    "departments = pd.read_csv('/datasets/departments.csv', sep=';'); departments.head()"
   ]
  },
  {
   "cell_type": "markdown",
   "id": "35dbf27a",
   "metadata": {},
   "source": [
    "This table shows the the ID to its correlated department.\n",
    "\n",
    "According to the documentation:\n",
    "- `'department_id'` — ID number that uniquely identifies each grocery department category\n",
    "- `'department'` — name of the department"
   ]
  },
  {
   "cell_type": "code",
   "execution_count": 11,
   "id": "fb410ad4-0fbf-4b80-bb09-23fdea79afe3",
   "metadata": {},
   "outputs": [
    {
     "data": {
      "text/plain": [
       "0"
      ]
     },
     "execution_count": 11,
     "metadata": {},
     "output_type": "execute_result"
    }
   ],
   "source": [
    "# Check for duplicates in department ID\n",
    "departments['department_id'].duplicated().sum()"
   ]
  },
  {
   "cell_type": "markdown",
   "id": "889349c1",
   "metadata": {},
   "source": [
    "## `aisles` data frame"
   ]
  },
  {
   "cell_type": "code",
   "execution_count": 12,
   "id": "d8370c05",
   "metadata": {},
   "outputs": [
    {
     "data": {
      "text/html": [
       "<div>\n",
       "<style scoped>\n",
       "    .dataframe tbody tr th:only-of-type {\n",
       "        vertical-align: middle;\n",
       "    }\n",
       "\n",
       "    .dataframe tbody tr th {\n",
       "        vertical-align: top;\n",
       "    }\n",
       "\n",
       "    .dataframe thead th {\n",
       "        text-align: right;\n",
       "    }\n",
       "</style>\n",
       "<table border=\"1\" class=\"dataframe\">\n",
       "  <thead>\n",
       "    <tr style=\"text-align: right;\">\n",
       "      <th></th>\n",
       "      <th>aisle_id</th>\n",
       "      <th>aisle</th>\n",
       "    </tr>\n",
       "  </thead>\n",
       "  <tbody>\n",
       "    <tr>\n",
       "      <th>0</th>\n",
       "      <td>1</td>\n",
       "      <td>prepared soups salads</td>\n",
       "    </tr>\n",
       "    <tr>\n",
       "      <th>1</th>\n",
       "      <td>2</td>\n",
       "      <td>specialty cheeses</td>\n",
       "    </tr>\n",
       "    <tr>\n",
       "      <th>2</th>\n",
       "      <td>3</td>\n",
       "      <td>energy granola bars</td>\n",
       "    </tr>\n",
       "    <tr>\n",
       "      <th>3</th>\n",
       "      <td>4</td>\n",
       "      <td>instant foods</td>\n",
       "    </tr>\n",
       "    <tr>\n",
       "      <th>4</th>\n",
       "      <td>5</td>\n",
       "      <td>marinades meat preparation</td>\n",
       "    </tr>\n",
       "  </tbody>\n",
       "</table>\n",
       "</div>"
      ],
      "text/plain": [
       "   aisle_id                       aisle\n",
       "0         1       prepared soups salads\n",
       "1         2           specialty cheeses\n",
       "2         3         energy granola bars\n",
       "3         4               instant foods\n",
       "4         5  marinades meat preparation"
      ]
     },
     "execution_count": 12,
     "metadata": {},
     "output_type": "execute_result"
    }
   ],
   "source": [
    "aisles = pd.read_csv('/datasets/aisles.csv', sep=';'); aisles.head()"
   ]
  },
  {
   "cell_type": "markdown",
   "id": "778dcd8a",
   "metadata": {},
   "source": [
    "This table shows the ID to its correlated aisle.\n",
    "\n",
    "According to the documentation:\n",
    "- `'aisle_id'` — ID number that uniquely identifies each grocery aisle category\n",
    "- `'aisle'` — name of the aisle"
   ]
  },
  {
   "cell_type": "code",
   "execution_count": 13,
   "id": "9da89fb9-4679-40f5-ad0d-c34df753a3f8",
   "metadata": {},
   "outputs": [
    {
     "data": {
      "text/plain": [
       "0"
      ]
     },
     "execution_count": 13,
     "metadata": {},
     "output_type": "execute_result"
    }
   ],
   "source": [
    "# Check for duplicates in aisle ID\n",
    "aisles['aisle_id'].duplicated().sum()"
   ]
  },
  {
   "cell_type": "markdown",
   "id": "45e6bc46",
   "metadata": {},
   "source": [
    "## `products` data frame"
   ]
  },
  {
   "cell_type": "code",
   "execution_count": 14,
   "id": "ad6a1efa",
   "metadata": {},
   "outputs": [
    {
     "data": {
      "text/html": [
       "<div>\n",
       "<style scoped>\n",
       "    .dataframe tbody tr th:only-of-type {\n",
       "        vertical-align: middle;\n",
       "    }\n",
       "\n",
       "    .dataframe tbody tr th {\n",
       "        vertical-align: top;\n",
       "    }\n",
       "\n",
       "    .dataframe thead th {\n",
       "        text-align: right;\n",
       "    }\n",
       "</style>\n",
       "<table border=\"1\" class=\"dataframe\">\n",
       "  <thead>\n",
       "    <tr style=\"text-align: right;\">\n",
       "      <th></th>\n",
       "      <th>product_id</th>\n",
       "      <th>product_name</th>\n",
       "      <th>aisle_id</th>\n",
       "      <th>department_id</th>\n",
       "    </tr>\n",
       "  </thead>\n",
       "  <tbody>\n",
       "    <tr>\n",
       "      <th>0</th>\n",
       "      <td>1</td>\n",
       "      <td>Chocolate Sandwich Cookies</td>\n",
       "      <td>61</td>\n",
       "      <td>19</td>\n",
       "    </tr>\n",
       "    <tr>\n",
       "      <th>1</th>\n",
       "      <td>2</td>\n",
       "      <td>All-Seasons Salt</td>\n",
       "      <td>104</td>\n",
       "      <td>13</td>\n",
       "    </tr>\n",
       "    <tr>\n",
       "      <th>2</th>\n",
       "      <td>3</td>\n",
       "      <td>Robust Golden Unsweetened Oolong Tea</td>\n",
       "      <td>94</td>\n",
       "      <td>7</td>\n",
       "    </tr>\n",
       "    <tr>\n",
       "      <th>3</th>\n",
       "      <td>4</td>\n",
       "      <td>Smart Ones Classic Favorites Mini Rigatoni Wit...</td>\n",
       "      <td>38</td>\n",
       "      <td>1</td>\n",
       "    </tr>\n",
       "    <tr>\n",
       "      <th>4</th>\n",
       "      <td>5</td>\n",
       "      <td>Green Chile Anytime Sauce</td>\n",
       "      <td>5</td>\n",
       "      <td>13</td>\n",
       "    </tr>\n",
       "  </tbody>\n",
       "</table>\n",
       "</div>"
      ],
      "text/plain": [
       "   product_id                                       product_name  aisle_id  \\\n",
       "0           1                         Chocolate Sandwich Cookies        61   \n",
       "1           2                                   All-Seasons Salt       104   \n",
       "2           3               Robust Golden Unsweetened Oolong Tea        94   \n",
       "3           4  Smart Ones Classic Favorites Mini Rigatoni Wit...        38   \n",
       "4           5                          Green Chile Anytime Sauce         5   \n",
       "\n",
       "   department_id  \n",
       "0             19  \n",
       "1             13  \n",
       "2              7  \n",
       "3              1  \n",
       "4             13  "
      ]
     },
     "execution_count": 14,
     "metadata": {},
     "output_type": "execute_result"
    }
   ],
   "source": [
    "products = pd.read_csv('/datasets/products.csv', sep=';'); products.head()"
   ]
  },
  {
   "cell_type": "markdown",
   "id": "23b33447",
   "metadata": {},
   "source": [
    "The table contains four columns, where each row corresponds to a unique product that customers can buy\n",
    "\n",
    "According to the documentation:\n",
    "- `'product_id'` — ID number that uniquely identifies each product\n",
    "- `'product_name'` — name of the product\n",
    "- `'aisle_id '` — ID number that uniquely identifies each grocery aisle category\n",
    "- `'department_id '` — ID number that uniquely identifies each grocery department category"
   ]
  },
  {
   "cell_type": "code",
   "execution_count": 15,
   "id": "5f526b5b-8175-46fa-a0fd-441767d50e64",
   "metadata": {},
   "outputs": [
    {
     "data": {
      "text/plain": [
       "0"
      ]
     },
     "execution_count": 15,
     "metadata": {},
     "output_type": "execute_result"
    }
   ],
   "source": [
    "# Check for fully duplicate rows\n",
    "products.duplicated().sum()"
   ]
  },
  {
   "cell_type": "code",
   "execution_count": 16,
   "id": "88daa4f4",
   "metadata": {},
   "outputs": [
    {
     "data": {
      "text/plain": [
       "0"
      ]
     },
     "execution_count": 16,
     "metadata": {},
     "output_type": "execute_result"
    }
   ],
   "source": [
    "# Check for just duplicate product IDs\n",
    "products.duplicated(subset='product_id').sum()"
   ]
  },
  {
   "cell_type": "code",
   "execution_count": 17,
   "id": "c773f0bf",
   "metadata": {},
   "outputs": [
    {
     "data": {
      "text/plain": [
       "1361"
      ]
     },
     "execution_count": 17,
     "metadata": {},
     "output_type": "execute_result"
    }
   ],
   "source": [
    "# Check for just duplicate product names (convert names to lowercase to compare better)\n",
    "products['product_name'] = products['product_name'].str.lower()\n",
    "products.duplicated(subset='product_name').sum()"
   ]
  },
  {
   "cell_type": "markdown",
   "id": "3ef368a4",
   "metadata": {},
   "source": [
    "We can see that there are multiple rows with the same product name but they are not missing"
   ]
  },
  {
   "cell_type": "code",
   "execution_count": 18,
   "id": "01efd02e",
   "metadata": {},
   "outputs": [
    {
     "data": {
      "text/html": [
       "<div>\n",
       "<style scoped>\n",
       "    .dataframe tbody tr th:only-of-type {\n",
       "        vertical-align: middle;\n",
       "    }\n",
       "\n",
       "    .dataframe tbody tr th {\n",
       "        vertical-align: top;\n",
       "    }\n",
       "\n",
       "    .dataframe thead th {\n",
       "        text-align: right;\n",
       "    }\n",
       "</style>\n",
       "<table border=\"1\" class=\"dataframe\">\n",
       "  <thead>\n",
       "    <tr style=\"text-align: right;\">\n",
       "      <th></th>\n",
       "      <th>product_id</th>\n",
       "      <th>product_name</th>\n",
       "      <th>aisle_id</th>\n",
       "      <th>department_id</th>\n",
       "    </tr>\n",
       "  </thead>\n",
       "  <tbody>\n",
       "    <tr>\n",
       "      <th>2058</th>\n",
       "      <td>2059</td>\n",
       "      <td>biotin 1000 mcg</td>\n",
       "      <td>47</td>\n",
       "      <td>11</td>\n",
       "    </tr>\n",
       "    <tr>\n",
       "      <th>5455</th>\n",
       "      <td>5456</td>\n",
       "      <td>green tea with ginseng and honey</td>\n",
       "      <td>96</td>\n",
       "      <td>20</td>\n",
       "    </tr>\n",
       "    <tr>\n",
       "      <th>5558</th>\n",
       "      <td>5559</td>\n",
       "      <td>cream of mushroom soup</td>\n",
       "      <td>69</td>\n",
       "      <td>15</td>\n",
       "    </tr>\n",
       "    <tr>\n",
       "      <th>7558</th>\n",
       "      <td>7559</td>\n",
       "      <td>cinnamon rolls with icing</td>\n",
       "      <td>105</td>\n",
       "      <td>13</td>\n",
       "    </tr>\n",
       "    <tr>\n",
       "      <th>9037</th>\n",
       "      <td>9038</td>\n",
       "      <td>american cheese slices</td>\n",
       "      <td>21</td>\n",
       "      <td>16</td>\n",
       "    </tr>\n",
       "  </tbody>\n",
       "</table>\n",
       "</div>"
      ],
      "text/plain": [
       "      product_id                      product_name  aisle_id  department_id\n",
       "2058        2059                   biotin 1000 mcg        47             11\n",
       "5455        5456  green tea with ginseng and honey        96             20\n",
       "5558        5559            cream of mushroom soup        69             15\n",
       "7558        7559         cinnamon rolls with icing       105             13\n",
       "9037        9038            american cheese slices        21             16"
      ]
     },
     "execution_count": 18,
     "metadata": {},
     "output_type": "execute_result"
    }
   ],
   "source": [
    "# Check for duplicate product names that aren't missing\n",
    "duplicate_names = products[(products['product_name'].duplicated())&(products['product_name'].notna())]\n",
    "duplicate_names.head()"
   ]
  },
  {
   "cell_type": "code",
   "execution_count": 19,
   "id": "fe4a8b0f",
   "metadata": {},
   "outputs": [
    {
     "data": {
      "text/plain": [
       "product_id          0\n",
       "product_name     1258\n",
       "aisle_id            0\n",
       "department_id       0\n",
       "dtype: int64"
      ]
     },
     "execution_count": 19,
     "metadata": {},
     "output_type": "execute_result"
    }
   ],
   "source": [
    "products.isna().sum()"
   ]
  },
  {
   "cell_type": "code",
   "execution_count": 20,
   "id": "e96167bc",
   "metadata": {},
   "outputs": [
    {
     "data": {
      "text/plain": [
       "array([100])"
      ]
     },
     "execution_count": 20,
     "metadata": {},
     "output_type": "execute_result"
    }
   ],
   "source": [
    "# Are all of the missing product names associated with aisle ID 100?\n",
    "products[products['product_name'].isna()]['aisle_id'].unique()"
   ]
  },
  {
   "cell_type": "markdown",
   "id": "4f1e77ae",
   "metadata": {},
   "source": [
    "We found the missing product names using .isna() and selected the corresponding aisle_ids for that and then selected the unique instances for it. So, it's absolutely correct."
   ]
  },
  {
   "cell_type": "code",
   "execution_count": 21,
   "id": "b174c19a",
   "metadata": {},
   "outputs": [
    {
     "data": {
      "text/plain": [
       "112"
      ]
     },
     "execution_count": 21,
     "metadata": {},
     "output_type": "execute_result"
    }
   ],
   "source": [
    "products['aisle_id'][100]"
   ]
  },
  {
   "cell_type": "code",
   "execution_count": 22,
   "id": "8fd0a541",
   "metadata": {},
   "outputs": [
    {
     "data": {
      "text/plain": [
       "array([21])"
      ]
     },
     "execution_count": 22,
     "metadata": {},
     "output_type": "execute_result"
    }
   ],
   "source": [
    "# Are all of the missing product names associated with department ID 21?\n",
    "products[products['product_name'].isna()]['department_id'].unique()"
   ]
  },
  {
   "cell_type": "code",
   "execution_count": 23,
   "id": "5b5da2a6",
   "metadata": {},
   "outputs": [
    {
     "data": {
      "text/plain": [
       "13"
      ]
     },
     "execution_count": 23,
     "metadata": {},
     "output_type": "execute_result"
    }
   ],
   "source": [
    "products['department_id'][121]"
   ]
  },
  {
   "cell_type": "code",
   "execution_count": 24,
   "id": "325c3464",
   "metadata": {},
   "outputs": [
    {
     "data": {
      "text/html": [
       "<div>\n",
       "<style scoped>\n",
       "    .dataframe tbody tr th:only-of-type {\n",
       "        vertical-align: middle;\n",
       "    }\n",
       "\n",
       "    .dataframe tbody tr th {\n",
       "        vertical-align: top;\n",
       "    }\n",
       "\n",
       "    .dataframe thead th {\n",
       "        text-align: right;\n",
       "    }\n",
       "</style>\n",
       "<table border=\"1\" class=\"dataframe\">\n",
       "  <thead>\n",
       "    <tr style=\"text-align: right;\">\n",
       "      <th></th>\n",
       "      <th>department_id</th>\n",
       "      <th>department</th>\n",
       "    </tr>\n",
       "  </thead>\n",
       "  <tbody>\n",
       "    <tr>\n",
       "      <th>20</th>\n",
       "      <td>21</td>\n",
       "      <td>missing</td>\n",
       "    </tr>\n",
       "  </tbody>\n",
       "</table>\n",
       "</div>"
      ],
      "text/plain": [
       "    department_id department\n",
       "20             21    missing"
      ]
     },
     "execution_count": 24,
     "metadata": {},
     "output_type": "execute_result"
    }
   ],
   "source": [
    "# What is this ailse and department?\n",
    "departments[departments['department_id']==21]"
   ]
  },
  {
   "cell_type": "code",
   "execution_count": 25,
   "id": "7451e587",
   "metadata": {},
   "outputs": [
    {
     "data": {
      "text/html": [
       "<div>\n",
       "<style scoped>\n",
       "    .dataframe tbody tr th:only-of-type {\n",
       "        vertical-align: middle;\n",
       "    }\n",
       "\n",
       "    .dataframe tbody tr th {\n",
       "        vertical-align: top;\n",
       "    }\n",
       "\n",
       "    .dataframe thead th {\n",
       "        text-align: right;\n",
       "    }\n",
       "</style>\n",
       "<table border=\"1\" class=\"dataframe\">\n",
       "  <thead>\n",
       "    <tr style=\"text-align: right;\">\n",
       "      <th></th>\n",
       "      <th>aisle_id</th>\n",
       "      <th>aisle</th>\n",
       "    </tr>\n",
       "  </thead>\n",
       "  <tbody>\n",
       "    <tr>\n",
       "      <th>99</th>\n",
       "      <td>100</td>\n",
       "      <td>missing</td>\n",
       "    </tr>\n",
       "  </tbody>\n",
       "</table>\n",
       "</div>"
      ],
      "text/plain": [
       "    aisle_id    aisle\n",
       "99       100  missing"
      ]
     },
     "execution_count": 25,
     "metadata": {},
     "output_type": "execute_result"
    }
   ],
   "source": [
    "aisles[aisles['aisle_id']==100]"
   ]
  },
  {
   "cell_type": "code",
   "execution_count": 26,
   "id": "6b295120",
   "metadata": {},
   "outputs": [],
   "source": [
    "# Fill missing product names with 'Unknown'\n",
    "products['product_name'] = products['product_name'].fillna('Unknown')"
   ]
  },
  {
   "cell_type": "markdown",
   "id": "274cd06a",
   "metadata": {},
   "source": [
    "## `order_products` data frame"
   ]
  },
  {
   "cell_type": "code",
   "execution_count": 27,
   "id": "5130e05e",
   "metadata": {},
   "outputs": [
    {
     "data": {
      "text/html": [
       "<div>\n",
       "<style scoped>\n",
       "    .dataframe tbody tr th:only-of-type {\n",
       "        vertical-align: middle;\n",
       "    }\n",
       "\n",
       "    .dataframe tbody tr th {\n",
       "        vertical-align: top;\n",
       "    }\n",
       "\n",
       "    .dataframe thead th {\n",
       "        text-align: right;\n",
       "    }\n",
       "</style>\n",
       "<table border=\"1\" class=\"dataframe\">\n",
       "  <thead>\n",
       "    <tr style=\"text-align: right;\">\n",
       "      <th></th>\n",
       "      <th>order_id</th>\n",
       "      <th>product_id</th>\n",
       "      <th>add_to_cart_order</th>\n",
       "      <th>reordered</th>\n",
       "    </tr>\n",
       "  </thead>\n",
       "  <tbody>\n",
       "    <tr>\n",
       "      <th>0</th>\n",
       "      <td>2141543</td>\n",
       "      <td>11440</td>\n",
       "      <td>17.0</td>\n",
       "      <td>0</td>\n",
       "    </tr>\n",
       "    <tr>\n",
       "      <th>1</th>\n",
       "      <td>567889</td>\n",
       "      <td>1560</td>\n",
       "      <td>1.0</td>\n",
       "      <td>1</td>\n",
       "    </tr>\n",
       "    <tr>\n",
       "      <th>2</th>\n",
       "      <td>2261212</td>\n",
       "      <td>26683</td>\n",
       "      <td>1.0</td>\n",
       "      <td>1</td>\n",
       "    </tr>\n",
       "    <tr>\n",
       "      <th>3</th>\n",
       "      <td>491251</td>\n",
       "      <td>8670</td>\n",
       "      <td>35.0</td>\n",
       "      <td>1</td>\n",
       "    </tr>\n",
       "    <tr>\n",
       "      <th>4</th>\n",
       "      <td>2571142</td>\n",
       "      <td>1940</td>\n",
       "      <td>5.0</td>\n",
       "      <td>1</td>\n",
       "    </tr>\n",
       "  </tbody>\n",
       "</table>\n",
       "</div>"
      ],
      "text/plain": [
       "   order_id  product_id  add_to_cart_order  reordered\n",
       "0   2141543       11440               17.0          0\n",
       "1    567889        1560                1.0          1\n",
       "2   2261212       26683                1.0          1\n",
       "3    491251        8670               35.0          1\n",
       "4   2571142        1940                5.0          1"
      ]
     },
     "execution_count": 27,
     "metadata": {},
     "output_type": "execute_result"
    }
   ],
   "source": [
    "op = pd.read_csv('/datasets/order_products.csv', sep=';'); op.head()"
   ]
  },
  {
   "cell_type": "markdown",
   "id": "fabbe42d",
   "metadata": {},
   "source": [
    "This table has four columns, where each row corresponds to one item placed in an order \n",
    "\n",
    "According to the documentation:\n",
    "- `'order_id'` — ID number that uniquely identifies each order\n",
    "- `'product_id'` — ID number that uniquely identifies each product\n",
    "- `'add_to_cart_order '` — the sequential order in which each item was placed in the cart\n",
    "- `'reordered '` — 0 if the customer has never ordered this product before, 1 if they have"
   ]
  },
  {
   "cell_type": "code",
   "execution_count": 28,
   "id": "52326689-84a8-4b8f-a881-7c68780f62c9",
   "metadata": {},
   "outputs": [
    {
     "data": {
      "text/plain": [
       "0"
      ]
     },
     "execution_count": 28,
     "metadata": {},
     "output_type": "execute_result"
    }
   ],
   "source": [
    "# Check for fully duplicate rows\n",
    "op.duplicated().sum()"
   ]
  },
  {
   "cell_type": "code",
   "execution_count": 29,
   "id": "7b861391",
   "metadata": {},
   "outputs": [
    {
     "data": {
      "text/plain": [
       "0"
      ]
     },
     "execution_count": 29,
     "metadata": {},
     "output_type": "execute_result"
    }
   ],
   "source": [
    "# Double check for any other tricky duplicates\n",
    "op.duplicated(subset=['order_id', 'product_id']).sum()"
   ]
  },
  {
   "cell_type": "markdown",
   "id": "69dc9ca4",
   "metadata": {},
   "source": [
    "Next I will find and remove missing values in this dataframe"
   ]
  },
  {
   "cell_type": "code",
   "execution_count": 30,
   "id": "9a78e5ee",
   "metadata": {},
   "outputs": [
    {
     "data": {
      "text/plain": [
       "order_id               0\n",
       "product_id             0\n",
       "add_to_cart_order    836\n",
       "reordered              0\n",
       "dtype: int64"
      ]
     },
     "execution_count": 30,
     "metadata": {},
     "output_type": "execute_result"
    }
   ],
   "source": [
    "# What are the min and max values in this column?\n",
    "op.isna().sum()"
   ]
  },
  {
   "cell_type": "markdown",
   "id": "dc5c3d24",
   "metadata": {},
   "source": [
    "We can see that there are missing values in the \"days_since_prior_order\" column."
   ]
  },
  {
   "cell_type": "code",
   "execution_count": 31,
   "id": "943ff9e6",
   "metadata": {},
   "outputs": [
    {
     "data": {
      "text/plain": [
       "count    4.544171e+06\n",
       "mean     8.351669e+00\n",
       "std      7.080368e+00\n",
       "min      1.000000e+00\n",
       "25%      3.000000e+00\n",
       "50%      6.000000e+00\n",
       "75%      1.100000e+01\n",
       "max      6.400000e+01\n",
       "Name: add_to_cart_order, dtype: float64"
      ]
     },
     "execution_count": 31,
     "metadata": {},
     "output_type": "execute_result"
    }
   ],
   "source": [
    "op['add_to_cart_order'].describe()"
   ]
  },
  {
   "cell_type": "markdown",
   "id": "26cfa018",
   "metadata": {},
   "source": [
    "If we check the `add_to_cart_order` field, we can see that the missing minimum value is 1 and the maximum value is 6.4."
   ]
  },
  {
   "cell_type": "code",
   "execution_count": 54,
   "id": "ac199b40",
   "metadata": {},
   "outputs": [
    {
     "data": {
      "text/plain": [
       "nan"
      ]
     },
     "execution_count": 54,
     "metadata": {},
     "output_type": "execute_result"
    }
   ],
   "source": [
    "order_id_missing_add_list = sorted(list(op[op['add_to_cart_order'].isna()]['order_id'].unique()))\n",
    "\n",
    "op[op['order_id'].isin(order_id_missing_add_list)].groupby('order_id').size().min()"
   ]
  },
  {
   "cell_type": "markdown",
   "id": "b9232617",
   "metadata": {},
   "source": [
    "Because there are also missing data in the \"order_id\" column, I will fill in the cells with 999."
   ]
  },
  {
   "cell_type": "code",
   "execution_count": 55,
   "id": "7a987d08",
   "metadata": {},
   "outputs": [
    {
     "data": {
      "text/html": [
       "<div>\n",
       "<style scoped>\n",
       "    .dataframe tbody tr th:only-of-type {\n",
       "        vertical-align: middle;\n",
       "    }\n",
       "\n",
       "    .dataframe tbody tr th {\n",
       "        vertical-align: top;\n",
       "    }\n",
       "\n",
       "    .dataframe thead th {\n",
       "        text-align: right;\n",
       "    }\n",
       "</style>\n",
       "<table border=\"1\" class=\"dataframe\">\n",
       "  <thead>\n",
       "    <tr style=\"text-align: right;\">\n",
       "      <th></th>\n",
       "      <th>order_id</th>\n",
       "      <th>product_id</th>\n",
       "      <th>add_to_cart_order</th>\n",
       "      <th>reordered</th>\n",
       "    </tr>\n",
       "  </thead>\n",
       "  <tbody>\n",
       "    <tr>\n",
       "      <th>0</th>\n",
       "      <td>2141543</td>\n",
       "      <td>11440</td>\n",
       "      <td>17</td>\n",
       "      <td>0</td>\n",
       "    </tr>\n",
       "    <tr>\n",
       "      <th>1</th>\n",
       "      <td>567889</td>\n",
       "      <td>1560</td>\n",
       "      <td>1</td>\n",
       "      <td>1</td>\n",
       "    </tr>\n",
       "    <tr>\n",
       "      <th>2</th>\n",
       "      <td>2261212</td>\n",
       "      <td>26683</td>\n",
       "      <td>1</td>\n",
       "      <td>1</td>\n",
       "    </tr>\n",
       "    <tr>\n",
       "      <th>3</th>\n",
       "      <td>491251</td>\n",
       "      <td>8670</td>\n",
       "      <td>35</td>\n",
       "      <td>1</td>\n",
       "    </tr>\n",
       "    <tr>\n",
       "      <th>4</th>\n",
       "      <td>2571142</td>\n",
       "      <td>1940</td>\n",
       "      <td>5</td>\n",
       "      <td>1</td>\n",
       "    </tr>\n",
       "  </tbody>\n",
       "</table>\n",
       "</div>"
      ],
      "text/plain": [
       "   order_id  product_id  add_to_cart_order  reordered\n",
       "0   2141543       11440                 17          0\n",
       "1    567889        1560                  1          1\n",
       "2   2261212       26683                  1          1\n",
       "3    491251        8670                 35          1\n",
       "4   2571142        1940                  5          1"
      ]
     },
     "execution_count": 55,
     "metadata": {},
     "output_type": "execute_result"
    }
   ],
   "source": [
    "# Replace missing values with 999 and convert column to integer type\n",
    "op['add_to_cart_order'] = op['add_to_cart_order'].fillna(999).astype(int); op.head()"
   ]
  },
  {
   "cell_type": "markdown",
   "id": "a9453b73",
   "metadata": {},
   "source": [
    "Now the data is ready to be used for analysis."
   ]
  },
  {
   "cell_type": "markdown",
   "id": "turkish-kidney",
   "metadata": {},
   "source": [
    "# [A] Easy (must complete all to pass)"
   ]
  },
  {
   "cell_type": "markdown",
   "id": "short-capability",
   "metadata": {},
   "source": [
    "### [A1] Verify that the `'order_hour_of_day'` and `'order_dow'` values in the `orders` tables are sensible (i.e. `'order_hour_of_day'` ranges from 0 to 23 and `'order_dow'` ranges from 0 to 6)"
   ]
  },
  {
   "cell_type": "markdown",
   "id": "b61ba008",
   "metadata": {},
   "source": [
    "In this section, I will analyze the time and day people shop for groceries. To start, I will check to make sure the values in the day of the week and hour of day are within range of its corresponding fields."
   ]
  },
  {
   "cell_type": "code",
   "execution_count": 56,
   "id": "growing-fruit",
   "metadata": {},
   "outputs": [
    {
     "data": {
      "text/html": [
       "<div>\n",
       "<style scoped>\n",
       "    .dataframe tbody tr th:only-of-type {\n",
       "        vertical-align: middle;\n",
       "    }\n",
       "\n",
       "    .dataframe tbody tr th {\n",
       "        vertical-align: top;\n",
       "    }\n",
       "\n",
       "    .dataframe thead th {\n",
       "        text-align: right;\n",
       "    }\n",
       "</style>\n",
       "<table border=\"1\" class=\"dataframe\">\n",
       "  <thead>\n",
       "    <tr style=\"text-align: right;\">\n",
       "      <th></th>\n",
       "      <th>order_id</th>\n",
       "      <th>user_id</th>\n",
       "      <th>order_number</th>\n",
       "      <th>order_dow</th>\n",
       "      <th>order_hour_of_day</th>\n",
       "      <th>days_since_prior_order</th>\n",
       "    </tr>\n",
       "  </thead>\n",
       "  <tbody>\n",
       "    <tr>\n",
       "      <th>0</th>\n",
       "      <td>1515936</td>\n",
       "      <td>183418</td>\n",
       "      <td>11</td>\n",
       "      <td>6</td>\n",
       "      <td>13</td>\n",
       "      <td>30.0</td>\n",
       "    </tr>\n",
       "    <tr>\n",
       "      <th>1</th>\n",
       "      <td>1690866</td>\n",
       "      <td>163593</td>\n",
       "      <td>5</td>\n",
       "      <td>5</td>\n",
       "      <td>12</td>\n",
       "      <td>9.0</td>\n",
       "    </tr>\n",
       "    <tr>\n",
       "      <th>2</th>\n",
       "      <td>1454967</td>\n",
       "      <td>39980</td>\n",
       "      <td>4</td>\n",
       "      <td>5</td>\n",
       "      <td>19</td>\n",
       "      <td>2.0</td>\n",
       "    </tr>\n",
       "    <tr>\n",
       "      <th>3</th>\n",
       "      <td>1768857</td>\n",
       "      <td>82516</td>\n",
       "      <td>56</td>\n",
       "      <td>0</td>\n",
       "      <td>20</td>\n",
       "      <td>10.0</td>\n",
       "    </tr>\n",
       "    <tr>\n",
       "      <th>4</th>\n",
       "      <td>3007858</td>\n",
       "      <td>196724</td>\n",
       "      <td>2</td>\n",
       "      <td>4</td>\n",
       "      <td>12</td>\n",
       "      <td>17.0</td>\n",
       "    </tr>\n",
       "  </tbody>\n",
       "</table>\n",
       "</div>"
      ],
      "text/plain": [
       "   order_id  user_id  order_number  order_dow  order_hour_of_day  \\\n",
       "0   1515936   183418            11          6                 13   \n",
       "1   1690866   163593             5          5                 12   \n",
       "2   1454967    39980             4          5                 19   \n",
       "3   1768857    82516            56          0                 20   \n",
       "4   3007858   196724             2          4                 12   \n",
       "\n",
       "   days_since_prior_order  \n",
       "0                    30.0  \n",
       "1                     9.0  \n",
       "2                     2.0  \n",
       "3                    10.0  \n",
       "4                    17.0  "
      ]
     },
     "execution_count": 56,
     "metadata": {},
     "output_type": "execute_result"
    }
   ],
   "source": [
    "orders[(orders['order_hour_of_day'] >= 0) & (orders['order_hour_of_day'] <= 23)].head()"
   ]
  },
  {
   "cell_type": "code",
   "execution_count": 57,
   "id": "accessory-malaysia",
   "metadata": {},
   "outputs": [
    {
     "data": {
      "text/html": [
       "<div>\n",
       "<style scoped>\n",
       "    .dataframe tbody tr th:only-of-type {\n",
       "        vertical-align: middle;\n",
       "    }\n",
       "\n",
       "    .dataframe tbody tr th {\n",
       "        vertical-align: top;\n",
       "    }\n",
       "\n",
       "    .dataframe thead th {\n",
       "        text-align: right;\n",
       "    }\n",
       "</style>\n",
       "<table border=\"1\" class=\"dataframe\">\n",
       "  <thead>\n",
       "    <tr style=\"text-align: right;\">\n",
       "      <th></th>\n",
       "      <th>order_id</th>\n",
       "      <th>user_id</th>\n",
       "      <th>order_number</th>\n",
       "      <th>order_dow</th>\n",
       "      <th>order_hour_of_day</th>\n",
       "      <th>days_since_prior_order</th>\n",
       "    </tr>\n",
       "  </thead>\n",
       "  <tbody>\n",
       "    <tr>\n",
       "      <th>0</th>\n",
       "      <td>1515936</td>\n",
       "      <td>183418</td>\n",
       "      <td>11</td>\n",
       "      <td>6</td>\n",
       "      <td>13</td>\n",
       "      <td>30.0</td>\n",
       "    </tr>\n",
       "    <tr>\n",
       "      <th>1</th>\n",
       "      <td>1690866</td>\n",
       "      <td>163593</td>\n",
       "      <td>5</td>\n",
       "      <td>5</td>\n",
       "      <td>12</td>\n",
       "      <td>9.0</td>\n",
       "    </tr>\n",
       "    <tr>\n",
       "      <th>2</th>\n",
       "      <td>1454967</td>\n",
       "      <td>39980</td>\n",
       "      <td>4</td>\n",
       "      <td>5</td>\n",
       "      <td>19</td>\n",
       "      <td>2.0</td>\n",
       "    </tr>\n",
       "    <tr>\n",
       "      <th>3</th>\n",
       "      <td>1768857</td>\n",
       "      <td>82516</td>\n",
       "      <td>56</td>\n",
       "      <td>0</td>\n",
       "      <td>20</td>\n",
       "      <td>10.0</td>\n",
       "    </tr>\n",
       "    <tr>\n",
       "      <th>4</th>\n",
       "      <td>3007858</td>\n",
       "      <td>196724</td>\n",
       "      <td>2</td>\n",
       "      <td>4</td>\n",
       "      <td>12</td>\n",
       "      <td>17.0</td>\n",
       "    </tr>\n",
       "  </tbody>\n",
       "</table>\n",
       "</div>"
      ],
      "text/plain": [
       "   order_id  user_id  order_number  order_dow  order_hour_of_day  \\\n",
       "0   1515936   183418            11          6                 13   \n",
       "1   1690866   163593             5          5                 12   \n",
       "2   1454967    39980             4          5                 19   \n",
       "3   1768857    82516            56          0                 20   \n",
       "4   3007858   196724             2          4                 12   \n",
       "\n",
       "   days_since_prior_order  \n",
       "0                    30.0  \n",
       "1                     9.0  \n",
       "2                     2.0  \n",
       "3                    10.0  \n",
       "4                    17.0  "
      ]
     },
     "execution_count": 57,
     "metadata": {},
     "output_type": "execute_result"
    }
   ],
   "source": [
    "orders[(orders['order_dow'] >= 0) & (orders['order_dow'] <= 6)].head()"
   ]
  },
  {
   "cell_type": "markdown",
   "id": "a6743a70",
   "metadata": {},
   "source": [
    "### [A2] What time of day do people shop for groceries?"
   ]
  },
  {
   "cell_type": "code",
   "execution_count": 58,
   "id": "a36cca27",
   "metadata": {
    "scrolled": false
   },
   "outputs": [
    {
     "data": {
      "text/plain": [
       "Text(0, 0.5, 'Amount of Customers')"
      ]
     },
     "execution_count": 58,
     "metadata": {},
     "output_type": "execute_result"
    },
    {
     "data": {
      "image/png": "[encoded data removed]",
      "text/plain": [
       "<Figure size 640x480 with 1 Axes>"
      ]
     },
     "metadata": {},
     "output_type": "display_data"
    }
   ],
   "source": [
    "orders['order_hour_of_day'].plot(kind='hist', bins=24)\n",
    "plt.title('Time of Day People Shop for Groceries')\n",
    "plt.xlabel('Hour of Day')\n",
    "plt.ylabel('Amount of Customers')"
   ]
  },
  {
   "cell_type": "markdown",
   "id": "72e8c04e",
   "metadata": {},
   "source": [
    "Now that we know the data is verified, we can now create a chart that shows the frequency of people shopping for groceries throughout the day."
   ]
  },
  {
   "cell_type": "markdown",
   "id": "documented-command",
   "metadata": {},
   "source": [
    "### [A3] What day of the week do people shop for groceries?"
   ]
  },
  {
   "cell_type": "code",
   "execution_count": 59,
   "id": "chief-digit",
   "metadata": {},
   "outputs": [
    {
     "data": {
      "text/plain": [
       "Text(0, 0.5, 'Amount of Customers')"
      ]
     },
     "execution_count": 59,
     "metadata": {},
     "output_type": "execute_result"
    },
    {
     "data": {
      "image/png": "[encoded data removed]",
      "text/plain": [
       "<Figure size 640x480 with 1 Axes>"
      ]
     },
     "metadata": {},
     "output_type": "display_data"
    }
   ],
   "source": [
    "orders['order_dow'].plot(kind='hist', bins=7)\n",
    "plt.title('Day of Week People Shop for Groceries')\n",
    "plt.xlabel('Day of the Week')\n",
    "plt.ylabel('Amount of Customers')"
   ]
  },
  {
   "cell_type": "markdown",
   "id": "ef99c301",
   "metadata": {},
   "source": [
    "Here is another graph showing the frequency during the days of the week. As displayed, most people shop for groceries during the beginning of week. "
   ]
  },
  {
   "cell_type": "markdown",
   "id": "cutting-concert",
   "metadata": {},
   "source": [
    "### [A4] How long do people wait until placing another order?"
   ]
  },
  {
   "cell_type": "code",
   "execution_count": 60,
   "id": "c231f523",
   "metadata": {},
   "outputs": [
    {
     "data": {
      "text/plain": [
       "Text(0, 0.5, 'Amount of Customers')"
      ]
     },
     "execution_count": 60,
     "metadata": {},
     "output_type": "execute_result"
    },
    {
     "data": {
      "image/png": "[encoded data removed]",
      "text/plain": [
       "<Figure size 640x480 with 1 Axes>"
      ]
     },
     "metadata": {},
     "output_type": "display_data"
    }
   ],
   "source": [
    "orders['days_since_prior_order'].plot(kind='hist')\n",
    "plt.title('Amount of Days People Wait Until Placing Another Order')\n",
    "plt.xlabel('Amount of Days')\n",
    "plt.ylabel('Amount of Customers')"
   ]
  },
  {
   "cell_type": "markdown",
   "id": "discrete-vertex",
   "metadata": {},
   "source": [
    "We can also create another chart showing the amount of days people wait until placing another order. In the graph, we can understand that most customers place another order between days 5 to 10, with another spike at day 30. There also seems a decrease in the frequency from days 10 to 25."
   ]
  },
  {
   "cell_type": "markdown",
   "id": "tight-staff",
   "metadata": {},
   "source": [
    "# [B] Medium (must complete all to pass)"
   ]
  },
  {
   "cell_type": "markdown",
   "id": "packed-classic",
   "metadata": {},
   "source": [
    "### [B1] Is there a difference in `'order_hour_of_day'` distributions on Wednesdays and Saturdays? Plot the histograms for both days and describe the differences that you see."
   ]
  },
  {
   "cell_type": "code",
   "execution_count": 41,
   "id": "d89b8403",
   "metadata": {},
   "outputs": [
    {
     "data": {
      "text/plain": [
       "Text(0.5, 0, 'Hour of Day')"
      ]
     },
     "execution_count": 41,
     "metadata": {},
     "output_type": "execute_result"
    },
    {
     "data": {
      "image/png": "[encoded data removed]",
      "text/plain": [
       "<Figure size 640x480 with 1 Axes>"
      ]
     },
     "metadata": {},
     "output_type": "display_data"
    }
   ],
   "source": [
    "wed = orders[orders['order_dow'] == 3]\n",
    "wed['order_hour_of_day'].plot(kind='hist', bins=24)\n",
    "plt.title('Grocery Orders on Wednesday')\n",
    "plt.xlabel('Hour of Day')"
   ]
  },
  {
   "cell_type": "markdown",
   "id": "3784a40f",
   "metadata": {},
   "source": []
  },
  {
   "cell_type": "code",
   "execution_count": 42,
   "id": "94e54e8a",
   "metadata": {},
   "outputs": [
    {
     "data": {
      "text/plain": [
       "Text(0.5, 0, 'Hour of Day')"
      ]
     },
     "execution_count": 42,
     "metadata": {},
     "output_type": "execute_result"
    },
    {
     "data": {
      "image/png": "[encoded data removed]",
      "text/plain": [
       "<Figure size 640x480 with 1 Axes>"
      ]
     },
     "metadata": {},
     "output_type": "display_data"
    }
   ],
   "source": [
    "sat = orders[orders['order_dow'] == 6]\n",
    "sat['order_hour_of_day'].plot(kind='hist', bins=24)\n",
    "plt.title('Grocery Orders on Saturdays')\n",
    "plt.xlabel('Hour of Day')"
   ]
  },
  {
   "cell_type": "markdown",
   "id": "5df8940e",
   "metadata": {},
   "source": [
    "Here, we can see that the charts are very similar, as they both have increased orders during the middle of the day. The only difference is the Wednesday grocery order graph has a slight dip in frequency between 10 and 15 hours. "
   ]
  },
  {
   "cell_type": "markdown",
   "id": "e3891143",
   "metadata": {},
   "source": [
    "### [B2] What's the distribution for the number of orders per customer?"
   ]
  },
  {
   "cell_type": "code",
   "execution_count": 43,
   "id": "d8c26c23",
   "metadata": {},
   "outputs": [
    {
     "data": {
      "text/plain": [
       "Text(0.5, 0, 'Number of Orders')"
      ]
     },
     "execution_count": 43,
     "metadata": {},
     "output_type": "execute_result"
    },
    {
     "data": {
      "image/png": "[encoded data removed]",
      "text/plain": [
       "<Figure size 640x480 with 1 Axes>"
      ]
     },
     "metadata": {},
     "output_type": "display_data"
    }
   ],
   "source": [
    "order_counts = orders.groupby('user_id')['order_id'].count().sort_values()\n",
    "order_counts.plot(kind='hist')\n",
    "plt.title('Distribution of Number of Orders Per Customer')\n",
    "plt.xlabel('Number of Orders')"
   ]
  },
  {
   "cell_type": "markdown",
   "id": "7be99cad",
   "metadata": {},
   "source": [
    "In this graph, we can see that the majority of cusomters have less than five orders."
   ]
  },
  {
   "cell_type": "markdown",
   "id": "54a0319c",
   "metadata": {},
   "source": [
    "### [B3] What are the top 20 popular products (display their id and name)?"
   ]
  },
  {
   "cell_type": "code",
   "execution_count": 44,
   "id": "universal-facial",
   "metadata": {},
   "outputs": [
    {
     "data": {
      "text/html": [
       "<div>\n",
       "<style scoped>\n",
       "    .dataframe tbody tr th:only-of-type {\n",
       "        vertical-align: middle;\n",
       "    }\n",
       "\n",
       "    .dataframe tbody tr th {\n",
       "        vertical-align: top;\n",
       "    }\n",
       "\n",
       "    .dataframe thead th {\n",
       "        text-align: right;\n",
       "    }\n",
       "</style>\n",
       "<table border=\"1\" class=\"dataframe\">\n",
       "  <thead>\n",
       "    <tr style=\"text-align: right;\">\n",
       "      <th></th>\n",
       "      <th>product_id</th>\n",
       "      <th>count</th>\n",
       "      <th>product_name</th>\n",
       "      <th>aisle_id</th>\n",
       "      <th>department_id</th>\n",
       "    </tr>\n",
       "  </thead>\n",
       "  <tbody>\n",
       "    <tr>\n",
       "      <th>0</th>\n",
       "      <td>24852</td>\n",
       "      <td>66050</td>\n",
       "      <td>banana</td>\n",
       "      <td>24</td>\n",
       "      <td>4</td>\n",
       "    </tr>\n",
       "    <tr>\n",
       "      <th>1</th>\n",
       "      <td>13176</td>\n",
       "      <td>53297</td>\n",
       "      <td>bag of organic bananas</td>\n",
       "      <td>24</td>\n",
       "      <td>4</td>\n",
       "    </tr>\n",
       "    <tr>\n",
       "      <th>2</th>\n",
       "      <td>21137</td>\n",
       "      <td>37039</td>\n",
       "      <td>organic strawberries</td>\n",
       "      <td>24</td>\n",
       "      <td>4</td>\n",
       "    </tr>\n",
       "    <tr>\n",
       "      <th>3</th>\n",
       "      <td>21903</td>\n",
       "      <td>33971</td>\n",
       "      <td>organic baby spinach</td>\n",
       "      <td>123</td>\n",
       "      <td>4</td>\n",
       "    </tr>\n",
       "    <tr>\n",
       "      <th>4</th>\n",
       "      <td>47209</td>\n",
       "      <td>29773</td>\n",
       "      <td>organic hass avocado</td>\n",
       "      <td>24</td>\n",
       "      <td>4</td>\n",
       "    </tr>\n",
       "    <tr>\n",
       "      <th>5</th>\n",
       "      <td>47766</td>\n",
       "      <td>24689</td>\n",
       "      <td>organic avocado</td>\n",
       "      <td>24</td>\n",
       "      <td>4</td>\n",
       "    </tr>\n",
       "    <tr>\n",
       "      <th>6</th>\n",
       "      <td>47626</td>\n",
       "      <td>21495</td>\n",
       "      <td>large lemon</td>\n",
       "      <td>24</td>\n",
       "      <td>4</td>\n",
       "    </tr>\n",
       "    <tr>\n",
       "      <th>7</th>\n",
       "      <td>16797</td>\n",
       "      <td>20018</td>\n",
       "      <td>strawberries</td>\n",
       "      <td>24</td>\n",
       "      <td>4</td>\n",
       "    </tr>\n",
       "    <tr>\n",
       "      <th>8</th>\n",
       "      <td>26209</td>\n",
       "      <td>19690</td>\n",
       "      <td>limes</td>\n",
       "      <td>24</td>\n",
       "      <td>4</td>\n",
       "    </tr>\n",
       "    <tr>\n",
       "      <th>9</th>\n",
       "      <td>27845</td>\n",
       "      <td>19600</td>\n",
       "      <td>organic whole milk</td>\n",
       "      <td>84</td>\n",
       "      <td>16</td>\n",
       "    </tr>\n",
       "    <tr>\n",
       "      <th>10</th>\n",
       "      <td>27966</td>\n",
       "      <td>19197</td>\n",
       "      <td>organic raspberries</td>\n",
       "      <td>123</td>\n",
       "      <td>4</td>\n",
       "    </tr>\n",
       "    <tr>\n",
       "      <th>11</th>\n",
       "      <td>22935</td>\n",
       "      <td>15898</td>\n",
       "      <td>organic yellow onion</td>\n",
       "      <td>83</td>\n",
       "      <td>4</td>\n",
       "    </tr>\n",
       "    <tr>\n",
       "      <th>12</th>\n",
       "      <td>24964</td>\n",
       "      <td>15292</td>\n",
       "      <td>organic garlic</td>\n",
       "      <td>83</td>\n",
       "      <td>4</td>\n",
       "    </tr>\n",
       "    <tr>\n",
       "      <th>13</th>\n",
       "      <td>45007</td>\n",
       "      <td>14584</td>\n",
       "      <td>organic zucchini</td>\n",
       "      <td>83</td>\n",
       "      <td>4</td>\n",
       "    </tr>\n",
       "    <tr>\n",
       "      <th>14</th>\n",
       "      <td>39275</td>\n",
       "      <td>13879</td>\n",
       "      <td>organic blueberries</td>\n",
       "      <td>123</td>\n",
       "      <td>4</td>\n",
       "    </tr>\n",
       "    <tr>\n",
       "      <th>15</th>\n",
       "      <td>49683</td>\n",
       "      <td>13675</td>\n",
       "      <td>cucumber kirby</td>\n",
       "      <td>83</td>\n",
       "      <td>4</td>\n",
       "    </tr>\n",
       "    <tr>\n",
       "      <th>16</th>\n",
       "      <td>28204</td>\n",
       "      <td>12544</td>\n",
       "      <td>organic fuji apple</td>\n",
       "      <td>24</td>\n",
       "      <td>4</td>\n",
       "    </tr>\n",
       "    <tr>\n",
       "      <th>17</th>\n",
       "      <td>5876</td>\n",
       "      <td>12232</td>\n",
       "      <td>organic lemon</td>\n",
       "      <td>24</td>\n",
       "      <td>4</td>\n",
       "    </tr>\n",
       "    <tr>\n",
       "      <th>18</th>\n",
       "      <td>8277</td>\n",
       "      <td>11993</td>\n",
       "      <td>apple honeycrisp organic</td>\n",
       "      <td>24</td>\n",
       "      <td>4</td>\n",
       "    </tr>\n",
       "    <tr>\n",
       "      <th>19</th>\n",
       "      <td>40706</td>\n",
       "      <td>11781</td>\n",
       "      <td>organic grape tomatoes</td>\n",
       "      <td>123</td>\n",
       "      <td>4</td>\n",
       "    </tr>\n",
       "  </tbody>\n",
       "</table>\n",
       "</div>"
      ],
      "text/plain": [
       "    product_id  count              product_name  aisle_id  department_id\n",
       "0        24852  66050                    banana        24              4\n",
       "1        13176  53297    bag of organic bananas        24              4\n",
       "2        21137  37039      organic strawberries        24              4\n",
       "3        21903  33971      organic baby spinach       123              4\n",
       "4        47209  29773      organic hass avocado        24              4\n",
       "5        47766  24689           organic avocado        24              4\n",
       "6        47626  21495               large lemon        24              4\n",
       "7        16797  20018              strawberries        24              4\n",
       "8        26209  19690                     limes        24              4\n",
       "9        27845  19600        organic whole milk        84             16\n",
       "10       27966  19197       organic raspberries       123              4\n",
       "11       22935  15898      organic yellow onion        83              4\n",
       "12       24964  15292            organic garlic        83              4\n",
       "13       45007  14584          organic zucchini        83              4\n",
       "14       39275  13879       organic blueberries       123              4\n",
       "15       49683  13675            cucumber kirby        83              4\n",
       "16       28204  12544        organic fuji apple        24              4\n",
       "17        5876  12232             organic lemon        24              4\n",
       "18        8277  11993  apple honeycrisp organic        24              4\n",
       "19       40706  11781    organic grape tomatoes       123              4"
      ]
     },
     "execution_count": 44,
     "metadata": {},
     "output_type": "execute_result"
    }
   ],
   "source": [
    "top = op['product_id'].value_counts()\n",
    "top_df = pd.DataFrame(top).reset_index()\n",
    "top_df_names = top_df.merge(products, on=\"product_id\")\n",
    "top_df.columns = ['product_id', 'count']\n",
    "top_df_names = top_df.merge(products, on=\"product_id\")\n",
    "top_df_names.head(20)"
   ]
  },
  {
   "cell_type": "markdown",
   "id": "7df00f47",
   "metadata": {},
   "source": [
    "Here is a chart of the top 20 most popular products, with bananas being the most popular. We can also see that most of the products on the list are from department 4 and aisle 24, or the fresh produce section."
   ]
  },
  {
   "cell_type": "markdown",
   "id": "gross-theme",
   "metadata": {},
   "source": [
    "# [C] Hard (must complete at least two to pass)"
   ]
  },
  {
   "cell_type": "markdown",
   "id": "romantic-deposit",
   "metadata": {},
   "source": [
    "### [C1] How many items do people typically buy in one order? What does the distribution look like?"
   ]
  },
  {
   "cell_type": "code",
   "execution_count": 45,
   "id": "completed-frank",
   "metadata": {},
   "outputs": [
    {
     "data": {
      "text/plain": [
       "Text(0, 0.5, 'Number of Items')"
      ]
     },
     "execution_count": 45,
     "metadata": {},
     "output_type": "execute_result"
    },
    {
     "data": {
      "image/png": "[encoded data removed]",
      "text/plain": [
       "<Figure size 640x480 with 1 Axes>"
      ]
     },
     "metadata": {},
     "output_type": "display_data"
    }
   ],
   "source": [
    "items = op.groupby('order_id')['product_id'].count().value_counts().sort_index()\n",
    "items.plot(kind='hist')\n",
    "plt.title('Distribution of Number of Items Per Order')\n",
    "plt.xlabel('Order ID')\n",
    "plt.ylabel('Number of Items')"
   ]
  },
  {
   "cell_type": "markdown",
   "id": "designed-mortality",
   "metadata": {},
   "source": [
    "We can see that the order IDs with the lower number have the highest amount of items in the order. On the other hand, the rest of the orders have less than ten items."
   ]
  },
  {
   "cell_type": "markdown",
   "id": "5e6b5537",
   "metadata": {},
   "source": [
    "### [C2] What are the top 20 items that are reordered most frequently (display their names and product IDs)?"
   ]
  },
  {
   "cell_type": "code",
   "execution_count": 46,
   "id": "b1574f78",
   "metadata": {},
   "outputs": [
    {
     "data": {
      "text/html": [
       "<div>\n",
       "<style scoped>\n",
       "    .dataframe tbody tr th:only-of-type {\n",
       "        vertical-align: middle;\n",
       "    }\n",
       "\n",
       "    .dataframe tbody tr th {\n",
       "        vertical-align: top;\n",
       "    }\n",
       "\n",
       "    .dataframe thead th {\n",
       "        text-align: right;\n",
       "    }\n",
       "</style>\n",
       "<table border=\"1\" class=\"dataframe\">\n",
       "  <thead>\n",
       "    <tr style=\"text-align: right;\">\n",
       "      <th></th>\n",
       "      <th>product_id</th>\n",
       "      <th>product_name</th>\n",
       "    </tr>\n",
       "  </thead>\n",
       "  <tbody>\n",
       "    <tr>\n",
       "      <th>5875</th>\n",
       "      <td>5876</td>\n",
       "      <td>organic lemon</td>\n",
       "    </tr>\n",
       "    <tr>\n",
       "      <th>8276</th>\n",
       "      <td>8277</td>\n",
       "      <td>apple honeycrisp organic</td>\n",
       "    </tr>\n",
       "    <tr>\n",
       "      <th>13175</th>\n",
       "      <td>13176</td>\n",
       "      <td>bag of organic bananas</td>\n",
       "    </tr>\n",
       "    <tr>\n",
       "      <th>16796</th>\n",
       "      <td>16797</td>\n",
       "      <td>strawberries</td>\n",
       "    </tr>\n",
       "    <tr>\n",
       "      <th>21136</th>\n",
       "      <td>21137</td>\n",
       "      <td>organic strawberries</td>\n",
       "    </tr>\n",
       "    <tr>\n",
       "      <th>21902</th>\n",
       "      <td>21903</td>\n",
       "      <td>organic baby spinach</td>\n",
       "    </tr>\n",
       "    <tr>\n",
       "      <th>22934</th>\n",
       "      <td>22935</td>\n",
       "      <td>organic yellow onion</td>\n",
       "    </tr>\n",
       "    <tr>\n",
       "      <th>24851</th>\n",
       "      <td>24852</td>\n",
       "      <td>banana</td>\n",
       "    </tr>\n",
       "    <tr>\n",
       "      <th>24963</th>\n",
       "      <td>24964</td>\n",
       "      <td>organic garlic</td>\n",
       "    </tr>\n",
       "    <tr>\n",
       "      <th>26208</th>\n",
       "      <td>26209</td>\n",
       "      <td>limes</td>\n",
       "    </tr>\n",
       "    <tr>\n",
       "      <th>27844</th>\n",
       "      <td>27845</td>\n",
       "      <td>organic whole milk</td>\n",
       "    </tr>\n",
       "    <tr>\n",
       "      <th>27965</th>\n",
       "      <td>27966</td>\n",
       "      <td>organic raspberries</td>\n",
       "    </tr>\n",
       "    <tr>\n",
       "      <th>28203</th>\n",
       "      <td>28204</td>\n",
       "      <td>organic fuji apple</td>\n",
       "    </tr>\n",
       "    <tr>\n",
       "      <th>39274</th>\n",
       "      <td>39275</td>\n",
       "      <td>organic blueberries</td>\n",
       "    </tr>\n",
       "    <tr>\n",
       "      <th>45006</th>\n",
       "      <td>45007</td>\n",
       "      <td>organic zucchini</td>\n",
       "    </tr>\n",
       "    <tr>\n",
       "      <th>47208</th>\n",
       "      <td>47209</td>\n",
       "      <td>organic hass avocado</td>\n",
       "    </tr>\n",
       "    <tr>\n",
       "      <th>47625</th>\n",
       "      <td>47626</td>\n",
       "      <td>large lemon</td>\n",
       "    </tr>\n",
       "    <tr>\n",
       "      <th>47765</th>\n",
       "      <td>47766</td>\n",
       "      <td>organic avocado</td>\n",
       "    </tr>\n",
       "    <tr>\n",
       "      <th>49234</th>\n",
       "      <td>49235</td>\n",
       "      <td>organic half &amp; half</td>\n",
       "    </tr>\n",
       "    <tr>\n",
       "      <th>49682</th>\n",
       "      <td>49683</td>\n",
       "      <td>cucumber kirby</td>\n",
       "    </tr>\n",
       "  </tbody>\n",
       "</table>\n",
       "</div>"
      ],
      "text/plain": [
       "       product_id              product_name\n",
       "5875         5876             organic lemon\n",
       "8276         8277  apple honeycrisp organic\n",
       "13175       13176    bag of organic bananas\n",
       "16796       16797              strawberries\n",
       "21136       21137      organic strawberries\n",
       "21902       21903      organic baby spinach\n",
       "22934       22935      organic yellow onion\n",
       "24851       24852                    banana\n",
       "24963       24964            organic garlic\n",
       "26208       26209                     limes\n",
       "27844       27845        organic whole milk\n",
       "27965       27966       organic raspberries\n",
       "28203       28204        organic fuji apple\n",
       "39274       39275       organic blueberries\n",
       "45006       45007          organic zucchini\n",
       "47208       47209      organic hass avocado\n",
       "47625       47626               large lemon\n",
       "47765       47766           organic avocado\n",
       "49234       49235       organic half & half\n",
       "49682       49683            cucumber kirby"
      ]
     },
     "execution_count": 46,
     "metadata": {},
     "output_type": "execute_result"
    }
   ],
   "source": [
    "reordered_products = op[op['reordered'] == 1]\n",
    "reorder_counts = reordered_products['product_id'].value_counts()\n",
    "top_prod_ids = reorder_counts.head(20).index\n",
    "top_reordered_products = products[products['product_id'].isin(top_prod_ids)]\n",
    "top_reordered_products[['product_id', 'product_name']]"
   ]
  },
  {
   "cell_type": "markdown",
   "id": "3c5b8076",
   "metadata": {},
   "source": [
    "Here is a table showing the top 20 items that were reordered most frequently."
   ]
  },
  {
   "cell_type": "markdown",
   "id": "9d312b14",
   "metadata": {},
   "source": [
    "### [C3] For each product, what proportion of its orders are reorders?"
   ]
  },
  {
   "cell_type": "code",
   "execution_count": 47,
   "id": "103e7fe1",
   "metadata": {},
   "outputs": [
    {
     "data": {
      "text/html": [
       "<div>\n",
       "<style scoped>\n",
       "    .dataframe tbody tr th:only-of-type {\n",
       "        vertical-align: middle;\n",
       "    }\n",
       "\n",
       "    .dataframe tbody tr th {\n",
       "        vertical-align: top;\n",
       "    }\n",
       "\n",
       "    .dataframe thead th {\n",
       "        text-align: right;\n",
       "    }\n",
       "</style>\n",
       "<table border=\"1\" class=\"dataframe\">\n",
       "  <thead>\n",
       "    <tr style=\"text-align: right;\">\n",
       "      <th></th>\n",
       "      <th>product_id</th>\n",
       "      <th>reorder_proportion</th>\n",
       "      <th>product_name</th>\n",
       "    </tr>\n",
       "  </thead>\n",
       "  <tbody>\n",
       "    <tr>\n",
       "      <th>0</th>\n",
       "      <td>1</td>\n",
       "      <td>0.564286</td>\n",
       "      <td>chocolate sandwich cookies</td>\n",
       "    </tr>\n",
       "    <tr>\n",
       "      <th>1</th>\n",
       "      <td>2</td>\n",
       "      <td>0.000000</td>\n",
       "      <td>all-seasons salt</td>\n",
       "    </tr>\n",
       "    <tr>\n",
       "      <th>2</th>\n",
       "      <td>3</td>\n",
       "      <td>0.738095</td>\n",
       "      <td>robust golden unsweetened oolong tea</td>\n",
       "    </tr>\n",
       "    <tr>\n",
       "      <th>3</th>\n",
       "      <td>4</td>\n",
       "      <td>0.510204</td>\n",
       "      <td>smart ones classic favorites mini rigatoni wit...</td>\n",
       "    </tr>\n",
       "    <tr>\n",
       "      <th>4</th>\n",
       "      <td>7</td>\n",
       "      <td>0.500000</td>\n",
       "      <td>pure coconut water with orange</td>\n",
       "    </tr>\n",
       "    <tr>\n",
       "      <th>5</th>\n",
       "      <td>8</td>\n",
       "      <td>0.315789</td>\n",
       "      <td>cut russet potatoes steam n' mash</td>\n",
       "    </tr>\n",
       "    <tr>\n",
       "      <th>6</th>\n",
       "      <td>9</td>\n",
       "      <td>0.761905</td>\n",
       "      <td>light strawberry blueberry yogurt</td>\n",
       "    </tr>\n",
       "    <tr>\n",
       "      <th>7</th>\n",
       "      <td>10</td>\n",
       "      <td>0.448071</td>\n",
       "      <td>sparkling orange juice &amp; prickly pear beverage</td>\n",
       "    </tr>\n",
       "    <tr>\n",
       "      <th>8</th>\n",
       "      <td>11</td>\n",
       "      <td>0.625000</td>\n",
       "      <td>peach mango juice</td>\n",
       "    </tr>\n",
       "    <tr>\n",
       "      <th>9</th>\n",
       "      <td>12</td>\n",
       "      <td>0.390244</td>\n",
       "      <td>chocolate fudge layer cake</td>\n",
       "    </tr>\n",
       "  </tbody>\n",
       "</table>\n",
       "</div>"
      ],
      "text/plain": [
       "   product_id  reorder_proportion  \\\n",
       "0           1            0.564286   \n",
       "1           2            0.000000   \n",
       "2           3            0.738095   \n",
       "3           4            0.510204   \n",
       "4           7            0.500000   \n",
       "5           8            0.315789   \n",
       "6           9            0.761905   \n",
       "7          10            0.448071   \n",
       "8          11            0.625000   \n",
       "9          12            0.390244   \n",
       "\n",
       "                                        product_name  \n",
       "0                         chocolate sandwich cookies  \n",
       "1                                   all-seasons salt  \n",
       "2               robust golden unsweetened oolong tea  \n",
       "3  smart ones classic favorites mini rigatoni wit...  \n",
       "4                     pure coconut water with orange  \n",
       "5                  cut russet potatoes steam n' mash  \n",
       "6                  light strawberry blueberry yogurt  \n",
       "7     sparkling orange juice & prickly pear beverage  \n",
       "8                                  peach mango juice  \n",
       "9                         chocolate fudge layer cake  "
      ]
     },
     "execution_count": 47,
     "metadata": {},
     "output_type": "execute_result"
    }
   ],
   "source": [
    "reorder_props = op.groupby('product_id')['reordered'].mean().reset_index()\n",
    "reorder_props = reorder_props.merge(products[['product_id','product_name']],on='product_id' )\n",
    "reorder_props.columns = ['product_id','reorder_proportion','product_name']\n",
    "reorder_props.head(10)"
   ]
  },
  {
   "cell_type": "markdown",
   "id": "c8d07547",
   "metadata": {},
   "source": [
    "Here is part of a table showing the proportion of its orders being reorders"
   ]
  },
  {
   "cell_type": "markdown",
   "id": "subject-boxing",
   "metadata": {},
   "source": [
    "### [C4] For each customer, what proportion of their products ordered are reorders?"
   ]
  },
  {
   "cell_type": "code",
   "execution_count": 48,
   "id": "medical-couple",
   "metadata": {
    "scrolled": true
   },
   "outputs": [
    {
     "data": {
      "text/html": [
       "<div>\n",
       "<style scoped>\n",
       "    .dataframe tbody tr th:only-of-type {\n",
       "        vertical-align: middle;\n",
       "    }\n",
       "\n",
       "    .dataframe tbody tr th {\n",
       "        vertical-align: top;\n",
       "    }\n",
       "\n",
       "    .dataframe thead th {\n",
       "        text-align: right;\n",
       "    }\n",
       "</style>\n",
       "<table border=\"1\" class=\"dataframe\">\n",
       "  <thead>\n",
       "    <tr style=\"text-align: right;\">\n",
       "      <th></th>\n",
       "      <th>user_id</th>\n",
       "      <th>reorder_proportion</th>\n",
       "    </tr>\n",
       "  </thead>\n",
       "  <tbody>\n",
       "    <tr>\n",
       "      <th>0</th>\n",
       "      <td>2</td>\n",
       "      <td>0.038462</td>\n",
       "    </tr>\n",
       "    <tr>\n",
       "      <th>1</th>\n",
       "      <td>4</td>\n",
       "      <td>0.000000</td>\n",
       "    </tr>\n",
       "    <tr>\n",
       "      <th>2</th>\n",
       "      <td>5</td>\n",
       "      <td>0.666667</td>\n",
       "    </tr>\n",
       "    <tr>\n",
       "      <th>3</th>\n",
       "      <td>6</td>\n",
       "      <td>0.000000</td>\n",
       "    </tr>\n",
       "    <tr>\n",
       "      <th>4</th>\n",
       "      <td>7</td>\n",
       "      <td>0.944444</td>\n",
       "    </tr>\n",
       "    <tr>\n",
       "      <th>5</th>\n",
       "      <td>11</td>\n",
       "      <td>0.200000</td>\n",
       "    </tr>\n",
       "    <tr>\n",
       "      <th>6</th>\n",
       "      <td>12</td>\n",
       "      <td>0.250000</td>\n",
       "    </tr>\n",
       "    <tr>\n",
       "      <th>7</th>\n",
       "      <td>13</td>\n",
       "      <td>0.481481</td>\n",
       "    </tr>\n",
       "    <tr>\n",
       "      <th>8</th>\n",
       "      <td>14</td>\n",
       "      <td>0.451587</td>\n",
       "    </tr>\n",
       "    <tr>\n",
       "      <th>9</th>\n",
       "      <td>15</td>\n",
       "      <td>0.633333</td>\n",
       "    </tr>\n",
       "  </tbody>\n",
       "</table>\n",
       "</div>"
      ],
      "text/plain": [
       "   user_id  reorder_proportion\n",
       "0        2            0.038462\n",
       "1        4            0.000000\n",
       "2        5            0.666667\n",
       "3        6            0.000000\n",
       "4        7            0.944444\n",
       "5       11            0.200000\n",
       "6       12            0.250000\n",
       "7       13            0.481481\n",
       "8       14            0.451587\n",
       "9       15            0.633333"
      ]
     },
     "execution_count": 48,
     "metadata": {},
     "output_type": "execute_result"
    }
   ],
   "source": [
    "customer_reorder_props = op.groupby('order_id')['reordered'].mean().reset_index()\n",
    "customer_reorder_props = customer_reorder_props.merge(orders[['order_id','user_id']],on='order_id' )\n",
    "customer_reorder_avg = customer_reorder_props.groupby('user_id')['reordered'].mean().reset_index()\n",
    "customer_reorder_avg.columns = ['user_id','reorder_proportion']\n",
    "customer_reorder_avg.head(10)"
   ]
  },
  {
   "cell_type": "markdown",
   "id": "881bc72b",
   "metadata": {},
   "source": [
    "This table shows the proportion of products ordered that are reorders."
   ]
  },
  {
   "cell_type": "markdown",
   "id": "92d35137",
   "metadata": {},
   "source": [
    "### [C5] What are the top 20 items that people put in their carts first? "
   ]
  },
  {
   "cell_type": "code",
   "execution_count": 49,
   "id": "0ae57274",
   "metadata": {
    "scrolled": false
   },
   "outputs": [
    {
     "data": {
      "text/html": [
       "<div>\n",
       "<style scoped>\n",
       "    .dataframe tbody tr th:only-of-type {\n",
       "        vertical-align: middle;\n",
       "    }\n",
       "\n",
       "    .dataframe tbody tr th {\n",
       "        vertical-align: top;\n",
       "    }\n",
       "\n",
       "    .dataframe thead th {\n",
       "        text-align: right;\n",
       "    }\n",
       "</style>\n",
       "<table border=\"1\" class=\"dataframe\">\n",
       "  <thead>\n",
       "    <tr style=\"text-align: right;\">\n",
       "      <th></th>\n",
       "      <th>product_id</th>\n",
       "      <th>counts</th>\n",
       "      <th>product_name</th>\n",
       "      <th>aisle_id</th>\n",
       "      <th>department_id</th>\n",
       "    </tr>\n",
       "  </thead>\n",
       "  <tbody>\n",
       "    <tr>\n",
       "      <th>0</th>\n",
       "      <td>24852</td>\n",
       "      <td>15562</td>\n",
       "      <td>banana</td>\n",
       "      <td>24</td>\n",
       "      <td>4</td>\n",
       "    </tr>\n",
       "    <tr>\n",
       "      <th>1</th>\n",
       "      <td>13176</td>\n",
       "      <td>11026</td>\n",
       "      <td>bag of organic bananas</td>\n",
       "      <td>24</td>\n",
       "      <td>4</td>\n",
       "    </tr>\n",
       "    <tr>\n",
       "      <th>2</th>\n",
       "      <td>27845</td>\n",
       "      <td>4363</td>\n",
       "      <td>organic whole milk</td>\n",
       "      <td>84</td>\n",
       "      <td>16</td>\n",
       "    </tr>\n",
       "    <tr>\n",
       "      <th>3</th>\n",
       "      <td>21137</td>\n",
       "      <td>3946</td>\n",
       "      <td>organic strawberries</td>\n",
       "      <td>24</td>\n",
       "      <td>4</td>\n",
       "    </tr>\n",
       "    <tr>\n",
       "      <th>4</th>\n",
       "      <td>47209</td>\n",
       "      <td>3390</td>\n",
       "      <td>organic hass avocado</td>\n",
       "      <td>24</td>\n",
       "      <td>4</td>\n",
       "    </tr>\n",
       "    <tr>\n",
       "      <th>5</th>\n",
       "      <td>21903</td>\n",
       "      <td>3336</td>\n",
       "      <td>organic baby spinach</td>\n",
       "      <td>123</td>\n",
       "      <td>4</td>\n",
       "    </tr>\n",
       "    <tr>\n",
       "      <th>6</th>\n",
       "      <td>47766</td>\n",
       "      <td>3044</td>\n",
       "      <td>organic avocado</td>\n",
       "      <td>24</td>\n",
       "      <td>4</td>\n",
       "    </tr>\n",
       "    <tr>\n",
       "      <th>7</th>\n",
       "      <td>19660</td>\n",
       "      <td>2336</td>\n",
       "      <td>spring water</td>\n",
       "      <td>115</td>\n",
       "      <td>7</td>\n",
       "    </tr>\n",
       "    <tr>\n",
       "      <th>8</th>\n",
       "      <td>16797</td>\n",
       "      <td>2308</td>\n",
       "      <td>strawberries</td>\n",
       "      <td>24</td>\n",
       "      <td>4</td>\n",
       "    </tr>\n",
       "    <tr>\n",
       "      <th>9</th>\n",
       "      <td>27966</td>\n",
       "      <td>2024</td>\n",
       "      <td>organic raspberries</td>\n",
       "      <td>123</td>\n",
       "      <td>4</td>\n",
       "    </tr>\n",
       "    <tr>\n",
       "      <th>10</th>\n",
       "      <td>44632</td>\n",
       "      <td>1914</td>\n",
       "      <td>sparkling water grapefruit</td>\n",
       "      <td>115</td>\n",
       "      <td>7</td>\n",
       "    </tr>\n",
       "    <tr>\n",
       "      <th>11</th>\n",
       "      <td>49235</td>\n",
       "      <td>1797</td>\n",
       "      <td>organic half &amp; half</td>\n",
       "      <td>53</td>\n",
       "      <td>16</td>\n",
       "    </tr>\n",
       "    <tr>\n",
       "      <th>12</th>\n",
       "      <td>47626</td>\n",
       "      <td>1737</td>\n",
       "      <td>large lemon</td>\n",
       "      <td>24</td>\n",
       "      <td>4</td>\n",
       "    </tr>\n",
       "    <tr>\n",
       "      <th>13</th>\n",
       "      <td>196</td>\n",
       "      <td>1733</td>\n",
       "      <td>soda</td>\n",
       "      <td>77</td>\n",
       "      <td>7</td>\n",
       "    </tr>\n",
       "    <tr>\n",
       "      <th>14</th>\n",
       "      <td>38689</td>\n",
       "      <td>1397</td>\n",
       "      <td>organic reduced fat milk</td>\n",
       "      <td>84</td>\n",
       "      <td>16</td>\n",
       "    </tr>\n",
       "    <tr>\n",
       "      <th>15</th>\n",
       "      <td>26209</td>\n",
       "      <td>1370</td>\n",
       "      <td>limes</td>\n",
       "      <td>24</td>\n",
       "      <td>4</td>\n",
       "    </tr>\n",
       "    <tr>\n",
       "      <th>16</th>\n",
       "      <td>12341</td>\n",
       "      <td>1340</td>\n",
       "      <td>hass avocados</td>\n",
       "      <td>32</td>\n",
       "      <td>4</td>\n",
       "    </tr>\n",
       "    <tr>\n",
       "      <th>17</th>\n",
       "      <td>5785</td>\n",
       "      <td>1310</td>\n",
       "      <td>organic reduced fat 2% milk</td>\n",
       "      <td>84</td>\n",
       "      <td>16</td>\n",
       "    </tr>\n",
       "    <tr>\n",
       "      <th>18</th>\n",
       "      <td>27086</td>\n",
       "      <td>1309</td>\n",
       "      <td>half &amp; half</td>\n",
       "      <td>53</td>\n",
       "      <td>16</td>\n",
       "    </tr>\n",
       "    <tr>\n",
       "      <th>19</th>\n",
       "      <td>22935</td>\n",
       "      <td>1246</td>\n",
       "      <td>organic yellow onion</td>\n",
       "      <td>83</td>\n",
       "      <td>4</td>\n",
       "    </tr>\n",
       "  </tbody>\n",
       "</table>\n",
       "</div>"
      ],
      "text/plain": [
       "    product_id  counts                 product_name  aisle_id  department_id\n",
       "0        24852   15562                       banana        24              4\n",
       "1        13176   11026       bag of organic bananas        24              4\n",
       "2        27845    4363           organic whole milk        84             16\n",
       "3        21137    3946         organic strawberries        24              4\n",
       "4        47209    3390         organic hass avocado        24              4\n",
       "5        21903    3336         organic baby spinach       123              4\n",
       "6        47766    3044              organic avocado        24              4\n",
       "7        19660    2336                 spring water       115              7\n",
       "8        16797    2308                 strawberries        24              4\n",
       "9        27966    2024          organic raspberries       123              4\n",
       "10       44632    1914   sparkling water grapefruit       115              7\n",
       "11       49235    1797          organic half & half        53             16\n",
       "12       47626    1737                  large lemon        24              4\n",
       "13         196    1733                         soda        77              7\n",
       "14       38689    1397     organic reduced fat milk        84             16\n",
       "15       26209    1370                        limes        24              4\n",
       "16       12341    1340                hass avocados        32              4\n",
       "17        5785    1310  organic reduced fat 2% milk        84             16\n",
       "18       27086    1309                  half & half        53             16\n",
       "19       22935    1246         organic yellow onion        83              4"
      ]
     },
     "execution_count": 49,
     "metadata": {},
     "output_type": "execute_result"
    }
   ],
   "source": [
    "first = op[op['add_to_cart_order']==1]['product_id'].value_counts().head(20)\n",
    "first = pd.DataFrame(first).reset_index()\n",
    "first.columns = ['product_id', 'counts']\n",
    "combine = first.merge(products, on='product_id'); combine"
   ]
  },
  {
   "cell_type": "markdown",
   "id": "c286749e",
   "metadata": {},
   "source": [
    "This table shows the top 20 items that people put in their carts first."
   ]
  },
  {
   "cell_type": "markdown",
   "id": "e7162b62",
   "metadata": {},
   "source": [
    "The research done shows the Instacart consumer behavior throughout the days and weeks, the amount of times items were reordered, and the days since prior order. In addition, I was able to successfully find the top 20 items that people put in their cart and items that were reordered. This analysis will be useful for those looking to understand shopping patterns in the grocery industry."
   ]
  }
 ],
 "metadata": {
  "ExecuteTimeLog": [
   {
    "duration": 163,
    "start_time": "2024-12-12T06:45:51.053Z"
   },
   {
    "duration": 15,
    "start_time": "2024-12-12T06:45:59.899Z"
   },
   {
    "duration": 279,
    "start_time": "2024-12-12T06:46:06.434Z"
   },
   {
    "duration": 281,
    "start_time": "2024-12-12T06:46:08.733Z"
   },
   {
    "duration": 319,
    "start_time": "2025-01-15T22:27:59.013Z"
   },
   {
    "duration": 310,
    "start_time": "2025-01-15T22:28:01.928Z"
   },
   {
    "duration": 126,
    "start_time": "2025-01-15T22:29:06.641Z"
   },
   {
    "duration": 560,
    "start_time": "2025-01-15T22:30:54.753Z"
   },
   {
    "duration": 6,
    "start_time": "2025-01-15T22:31:09.020Z"
   },
   {
    "duration": 11,
    "start_time": "2025-01-15T22:31:14.907Z"
   },
   {
    "duration": 13,
    "start_time": "2025-01-15T22:31:19.122Z"
   },
   {
    "duration": 161,
    "start_time": "2025-01-16T02:30:31.946Z"
   },
   {
    "duration": 13,
    "start_time": "2025-01-16T02:30:39.192Z"
   },
   {
    "duration": 329,
    "start_time": "2025-01-16T02:30:43.266Z"
   },
   {
    "duration": 159,
    "start_time": "2025-01-16T02:30:45.868Z"
   },
   {
    "duration": 15,
    "start_time": "2025-01-16T02:30:46.785Z"
   },
   {
    "duration": 124,
    "start_time": "2025-01-16T02:30:53.364Z"
   },
   {
    "duration": 402,
    "start_time": "2025-01-16T02:31:21.078Z"
   },
   {
    "duration": 37,
    "start_time": "2025-01-16T02:31:28.811Z"
   },
   {
    "duration": 14,
    "start_time": "2025-01-16T02:31:38.744Z"
   },
   {
    "duration": 30,
    "start_time": "2025-01-16T02:31:44.067Z"
   },
   {
    "duration": 11,
    "start_time": "2025-01-16T02:32:24.258Z"
   },
   {
    "duration": 157,
    "start_time": "2025-01-18T23:04:22.445Z"
   },
   {
    "duration": 285,
    "start_time": "2025-01-18T23:04:25.401Z"
   },
   {
    "duration": 159,
    "start_time": "2025-01-18T23:04:27.882Z"
   },
   {
    "duration": 16,
    "start_time": "2025-01-18T23:04:28.827Z"
   },
   {
    "duration": 11,
    "start_time": "2025-01-18T23:04:29.700Z"
   },
   {
    "duration": 10,
    "start_time": "2025-01-18T23:06:41.240Z"
   },
   {
    "duration": 148,
    "start_time": "2025-01-18T23:13:50.644Z"
   },
   {
    "duration": 50,
    "start_time": "2025-01-18T23:14:18.796Z"
   },
   {
    "duration": 39,
    "start_time": "2025-01-18T23:14:25.439Z"
   },
   {
    "duration": 802,
    "start_time": "2025-01-18T23:15:13.642Z"
   },
   {
    "duration": 12,
    "start_time": "2025-01-18T23:15:42.338Z"
   },
   {
    "duration": 11,
    "start_time": "2025-01-18T23:16:19.987Z"
   },
   {
    "duration": 7,
    "start_time": "2025-01-18T23:20:22.097Z"
   },
   {
    "duration": 97,
    "start_time": "2025-01-18T23:25:53.659Z"
   },
   {
    "duration": 113,
    "start_time": "2025-01-18T23:26:07.536Z"
   },
   {
    "duration": 65,
    "start_time": "2025-01-18T23:26:24.871Z"
   },
   {
    "duration": 15,
    "start_time": "2025-01-18T23:27:02.936Z"
   },
   {
    "duration": 7,
    "start_time": "2025-01-18T23:27:39.539Z"
   },
   {
    "duration": 13,
    "start_time": "2025-01-18T23:28:59.390Z"
   },
   {
    "duration": 9,
    "start_time": "2025-01-18T23:29:08.543Z"
   },
   {
    "duration": 37,
    "start_time": "2025-01-18T23:29:40.944Z"
   },
   {
    "duration": 20,
    "start_time": "2025-01-18T23:30:27.362Z"
   },
   {
    "duration": 34,
    "start_time": "2025-01-18T23:30:35.079Z"
   },
   {
    "duration": 7,
    "start_time": "2025-01-18T23:30:43.650Z"
   },
   {
    "duration": 156,
    "start_time": "2025-01-20T09:18:17.225Z"
   },
   {
    "duration": 306,
    "start_time": "2025-01-20T09:18:21.973Z"
   },
   {
    "duration": 160,
    "start_time": "2025-01-20T09:18:22.356Z"
   },
   {
    "duration": 59,
    "start_time": "2025-01-20T09:18:22.789Z"
   },
   {
    "duration": 795,
    "start_time": "2025-01-20T09:18:23.231Z"
   },
   {
    "duration": 13,
    "start_time": "2025-01-20T09:18:24.028Z"
   },
   {
    "duration": 12,
    "start_time": "2025-01-20T09:18:24.042Z"
   },
   {
    "duration": 95,
    "start_time": "2025-01-20T09:18:25.555Z"
   },
   {
    "duration": 12,
    "start_time": "2025-01-20T09:18:26.006Z"
   },
   {
    "duration": 115,
    "start_time": "2025-01-20T09:18:29.307Z"
   },
   {
    "duration": 2,
    "start_time": "2025-01-20T09:18:30.197Z"
   },
   {
    "duration": 70,
    "start_time": "2025-01-20T09:18:30.788Z"
   },
   {
    "duration": 13,
    "start_time": "2025-01-20T09:18:33.255Z"
   },
   {
    "duration": 6,
    "start_time": "2025-01-20T09:18:33.895Z"
   },
   {
    "duration": 30,
    "start_time": "2025-01-20T09:18:34.815Z"
   },
   {
    "duration": 5,
    "start_time": "2025-01-20T09:19:02.475Z"
   },
   {
    "duration": 7,
    "start_time": "2025-01-20T09:24:16.671Z"
   },
   {
    "duration": 42,
    "start_time": "2025-01-20T09:24:21.553Z"
   },
   {
    "duration": 7,
    "start_time": "2025-01-20T09:24:26.657Z"
   },
   {
    "duration": 11,
    "start_time": "2025-01-20T09:24:35.896Z"
   },
   {
    "duration": 10,
    "start_time": "2025-01-20T09:24:40.581Z"
   },
   {
    "duration": 821,
    "start_time": "2025-01-20T09:24:50.056Z"
   },
   {
    "duration": 9,
    "start_time": "2025-01-20T09:25:03.105Z"
   },
   {
    "duration": 161,
    "start_time": "2025-01-20T21:34:28.175Z"
   },
   {
    "duration": 321,
    "start_time": "2025-01-20T21:34:36.365Z"
   },
   {
    "duration": 158,
    "start_time": "2025-01-20T21:34:36.688Z"
   },
   {
    "duration": 67,
    "start_time": "2025-01-20T21:34:36.848Z"
   },
   {
    "duration": 854,
    "start_time": "2025-01-20T21:34:36.916Z"
   },
   {
    "duration": 12,
    "start_time": "2025-01-20T21:34:37.772Z"
   },
   {
    "duration": 11,
    "start_time": "2025-01-20T21:34:37.785Z"
   },
   {
    "duration": 110,
    "start_time": "2025-01-20T21:34:37.798Z"
   },
   {
    "duration": 16,
    "start_time": "2025-01-20T21:34:37.910Z"
   },
   {
    "duration": 121,
    "start_time": "2025-01-20T21:34:37.928Z"
   },
   {
    "duration": 101,
    "start_time": "2025-01-20T21:34:38.050Z"
   },
   {
    "duration": 74,
    "start_time": "2025-01-20T21:34:38.153Z"
   },
   {
    "duration": 14,
    "start_time": "2025-01-20T21:34:38.230Z"
   },
   {
    "duration": 5,
    "start_time": "2025-01-20T21:34:38.246Z"
   },
   {
    "duration": 22,
    "start_time": "2025-01-20T21:34:38.255Z"
   },
   {
    "duration": 6,
    "start_time": "2025-01-20T21:34:38.278Z"
   },
   {
    "duration": 5,
    "start_time": "2025-01-20T21:34:38.286Z"
   },
   {
    "duration": 8,
    "start_time": "2025-01-20T21:34:38.327Z"
   },
   {
    "duration": 836,
    "start_time": "2025-01-20T21:34:38.337Z"
   },
   {
    "duration": 2,
    "start_time": "2025-01-20T21:34:39.174Z"
   },
   {
    "duration": 9,
    "start_time": "2025-01-20T21:34:39.178Z"
   },
   {
    "duration": 3,
    "start_time": "2025-01-20T21:34:39.189Z"
   },
   {
    "duration": 3,
    "start_time": "2025-01-20T21:34:39.193Z"
   },
   {
    "duration": 3,
    "start_time": "2025-01-20T21:34:39.197Z"
   },
   {
    "duration": 3,
    "start_time": "2025-01-20T21:34:39.225Z"
   },
   {
    "duration": 4,
    "start_time": "2025-01-20T21:34:39.230Z"
   },
   {
    "duration": 3,
    "start_time": "2025-01-20T21:34:39.237Z"
   },
   {
    "duration": 2,
    "start_time": "2025-01-20T21:34:39.242Z"
   },
   {
    "duration": 5,
    "start_time": "2025-01-20T21:34:39.246Z"
   },
   {
    "duration": 3,
    "start_time": "2025-01-20T21:34:39.252Z"
   },
   {
    "duration": 114,
    "start_time": "2025-01-20T21:35:32.446Z"
   },
   {
    "duration": 97,
    "start_time": "2025-01-20T21:35:34.979Z"
   },
   {
    "duration": 29,
    "start_time": "2025-01-20T21:36:15.457Z"
   },
   {
    "duration": 16,
    "start_time": "2025-01-20T21:38:57.543Z"
   },
   {
    "duration": 4,
    "start_time": "2025-01-20T21:39:48.175Z"
   },
   {
    "duration": 5,
    "start_time": "2025-01-20T21:40:00.337Z"
   },
   {
    "duration": 9,
    "start_time": "2025-01-20T21:40:44.027Z"
   },
   {
    "duration": 39,
    "start_time": "2025-01-20T21:40:56.690Z"
   },
   {
    "duration": 9,
    "start_time": "2025-01-20T21:41:14.988Z"
   },
   {
    "duration": 93,
    "start_time": "2025-01-20T21:41:27.258Z"
   },
   {
    "duration": 89,
    "start_time": "2025-01-20T21:41:33.083Z"
   },
   {
    "duration": 150,
    "start_time": "2025-01-20T21:42:12.459Z"
   },
   {
    "duration": 1034,
    "start_time": "2025-01-20T21:42:56.217Z"
   },
   {
    "duration": 119,
    "start_time": "2025-01-20T21:44:05.174Z"
   },
   {
    "duration": 128,
    "start_time": "2025-01-20T21:44:15.847Z"
   },
   {
    "duration": 97,
    "start_time": "2025-01-20T21:44:32.806Z"
   },
   {
    "duration": 42,
    "start_time": "2025-01-20T21:44:34.470Z"
   },
   {
    "duration": 11,
    "start_time": "2025-01-20T21:45:08.374Z"
   },
   {
    "duration": 14,
    "start_time": "2025-01-20T21:45:11.378Z"
   },
   {
    "duration": 9,
    "start_time": "2025-01-20T21:45:15.774Z"
   },
   {
    "duration": 11,
    "start_time": "2025-01-20T21:46:09.820Z"
   },
   {
    "duration": 7,
    "start_time": "2025-01-20T21:46:16.435Z"
   },
   {
    "duration": 9,
    "start_time": "2025-01-20T21:46:49.541Z"
   },
   {
    "duration": 7,
    "start_time": "2025-01-20T21:48:22.134Z"
   },
   {
    "duration": 296,
    "start_time": "2025-01-20T23:13:03.389Z"
   },
   {
    "duration": 161,
    "start_time": "2025-01-20T23:13:03.687Z"
   },
   {
    "duration": 59,
    "start_time": "2025-01-20T23:13:03.851Z"
   },
   {
    "duration": 796,
    "start_time": "2025-01-20T23:13:03.912Z"
   },
   {
    "duration": 14,
    "start_time": "2025-01-20T23:13:04.712Z"
   },
   {
    "duration": 9,
    "start_time": "2025-01-20T23:13:04.727Z"
   },
   {
    "duration": 110,
    "start_time": "2025-01-20T23:13:04.738Z"
   },
   {
    "duration": 11,
    "start_time": "2025-01-20T23:13:04.850Z"
   },
   {
    "duration": 119,
    "start_time": "2025-01-20T23:13:04.863Z"
   },
   {
    "duration": 102,
    "start_time": "2025-01-20T23:13:04.984Z"
   },
   {
    "duration": 43,
    "start_time": "2025-01-20T23:13:05.088Z"
   },
   {
    "duration": 14,
    "start_time": "2025-01-20T23:13:05.133Z"
   },
   {
    "duration": 5,
    "start_time": "2025-01-20T23:13:05.149Z"
   },
   {
    "duration": 22,
    "start_time": "2025-01-20T23:13:05.157Z"
   },
   {
    "duration": 33,
    "start_time": "2025-01-20T23:13:05.181Z"
   },
   {
    "duration": 5,
    "start_time": "2025-01-20T23:13:05.215Z"
   },
   {
    "duration": 4,
    "start_time": "2025-01-20T23:13:05.222Z"
   },
   {
    "duration": 801,
    "start_time": "2025-01-20T23:13:05.228Z"
   },
   {
    "duration": 89,
    "start_time": "2025-01-20T23:13:06.031Z"
   },
   {
    "duration": 40,
    "start_time": "2025-01-20T23:13:06.122Z"
   },
   {
    "duration": 9,
    "start_time": "2025-01-20T23:13:06.163Z"
   },
   {
    "duration": 6,
    "start_time": "2025-01-20T23:13:06.173Z"
   },
   {
    "duration": 7,
    "start_time": "2025-01-20T23:13:06.205Z"
   },
   {
    "duration": 6,
    "start_time": "2025-01-20T23:13:06.213Z"
   },
   {
    "duration": 2,
    "start_time": "2025-01-20T23:13:06.221Z"
   },
   {
    "duration": 2,
    "start_time": "2025-01-20T23:13:06.225Z"
   },
   {
    "duration": 3,
    "start_time": "2025-01-20T23:13:06.229Z"
   },
   {
    "duration": 3,
    "start_time": "2025-01-20T23:13:06.233Z"
   },
   {
    "duration": 3,
    "start_time": "2025-01-20T23:13:06.238Z"
   },
   {
    "duration": 3,
    "start_time": "2025-01-20T23:13:06.242Z"
   },
   {
    "duration": 3,
    "start_time": "2025-01-20T23:13:06.246Z"
   },
   {
    "duration": 3,
    "start_time": "2025-01-20T23:13:06.250Z"
   },
   {
    "duration": 7,
    "start_time": "2025-01-20T23:13:29.432Z"
   },
   {
    "duration": 7,
    "start_time": "2025-01-20T23:14:04.059Z"
   },
   {
    "duration": 549,
    "start_time": "2025-01-20T23:14:28.244Z"
   },
   {
    "duration": 40,
    "start_time": "2025-01-20T23:14:45.386Z"
   },
   {
    "duration": 3,
    "start_time": "2025-01-20T23:14:54.706Z"
   },
   {
    "duration": 5,
    "start_time": "2025-01-20T23:15:11.321Z"
   },
   {
    "duration": 6,
    "start_time": "2025-01-20T23:15:35.700Z"
   },
   {
    "duration": 4,
    "start_time": "2025-01-20T23:15:48.805Z"
   },
   {
    "duration": 124,
    "start_time": "2025-01-20T23:17:49.238Z"
   },
   {
    "duration": 5,
    "start_time": "2025-01-20T23:19:16.478Z"
   },
   {
    "duration": 9,
    "start_time": "2025-01-20T23:28:16.843Z"
   },
   {
    "duration": 37,
    "start_time": "2025-01-20T23:31:00.820Z"
   },
   {
    "duration": 40,
    "start_time": "2025-01-20T23:31:11.246Z"
   },
   {
    "duration": 39,
    "start_time": "2025-01-20T23:32:02.000Z"
   },
   {
    "duration": 41,
    "start_time": "2025-01-20T23:33:10.499Z"
   },
   {
    "duration": 99,
    "start_time": "2025-01-20T23:34:16.154Z"
   },
   {
    "duration": 37,
    "start_time": "2025-01-20T23:34:23.334Z"
   },
   {
    "duration": 41,
    "start_time": "2025-01-20T23:37:40.425Z"
   },
   {
    "duration": 39,
    "start_time": "2025-01-20T23:38:38.496Z"
   },
   {
    "duration": 18,
    "start_time": "2025-01-20T23:38:59.991Z"
   },
   {
    "duration": 12,
    "start_time": "2025-01-20T23:39:17.390Z"
   },
   {
    "duration": 9,
    "start_time": "2025-01-20T23:39:55.696Z"
   },
   {
    "duration": 11,
    "start_time": "2025-01-21T00:02:51.627Z"
   },
   {
    "duration": 9,
    "start_time": "2025-01-21T00:03:09.767Z"
   },
   {
    "duration": 4,
    "start_time": "2025-01-21T00:09:26.539Z"
   },
   {
    "duration": 32,
    "start_time": "2025-01-21T00:09:35.350Z"
   },
   {
    "duration": 9,
    "start_time": "2025-01-21T00:09:47.797Z"
   },
   {
    "duration": 125,
    "start_time": "2025-01-21T00:10:34.402Z"
   },
   {
    "duration": 31,
    "start_time": "2025-01-21T00:10:51.415Z"
   },
   {
    "duration": 30,
    "start_time": "2025-01-21T00:10:56.229Z"
   },
   {
    "duration": 5,
    "start_time": "2025-01-21T00:11:05.555Z"
   },
   {
    "duration": 5,
    "start_time": "2025-01-21T00:11:13.290Z"
   },
   {
    "duration": 37,
    "start_time": "2025-01-21T00:11:29.378Z"
   },
   {
    "duration": 4,
    "start_time": "2025-01-21T00:11:35.148Z"
   },
   {
    "duration": 4,
    "start_time": "2025-01-21T00:12:19.960Z"
   },
   {
    "duration": 10,
    "start_time": "2025-01-21T00:12:31.703Z"
   },
   {
    "duration": 31,
    "start_time": "2025-01-21T00:13:05.501Z"
   },
   {
    "duration": 60,
    "start_time": "2025-01-21T00:13:39.059Z"
   },
   {
    "duration": 5,
    "start_time": "2025-01-21T00:13:49.622Z"
   },
   {
    "duration": 6,
    "start_time": "2025-01-21T00:13:55.936Z"
   },
   {
    "duration": 40,
    "start_time": "2025-01-21T00:14:09.997Z"
   },
   {
    "duration": 4,
    "start_time": "2025-01-21T00:15:14.710Z"
   },
   {
    "duration": 6,
    "start_time": "2025-01-21T00:15:21.020Z"
   },
   {
    "duration": 3,
    "start_time": "2025-01-21T00:17:13.265Z"
   },
   {
    "duration": 10,
    "start_time": "2025-01-21T00:17:18.686Z"
   },
   {
    "duration": 12,
    "start_time": "2025-01-21T00:17:40.679Z"
   },
   {
    "duration": 17,
    "start_time": "2025-01-21T00:17:52.240Z"
   },
   {
    "duration": 288,
    "start_time": "2025-01-21T00:18:06.868Z"
   },
   {
    "duration": 134,
    "start_time": "2025-01-21T00:18:07.160Z"
   },
   {
    "duration": 63,
    "start_time": "2025-01-21T00:18:07.296Z"
   },
   {
    "duration": 769,
    "start_time": "2025-01-21T00:18:07.361Z"
   },
   {
    "duration": 11,
    "start_time": "2025-01-21T00:18:08.134Z"
   },
   {
    "duration": 11,
    "start_time": "2025-01-21T00:18:08.148Z"
   },
   {
    "duration": 104,
    "start_time": "2025-01-21T00:18:08.161Z"
   },
   {
    "duration": 14,
    "start_time": "2025-01-21T00:18:08.267Z"
   },
   {
    "duration": 122,
    "start_time": "2025-01-21T00:18:08.283Z"
   },
   {
    "duration": 106,
    "start_time": "2025-01-21T00:18:08.407Z"
   },
   {
    "duration": 33,
    "start_time": "2025-01-21T00:18:08.515Z"
   },
   {
    "duration": 13,
    "start_time": "2025-01-21T00:18:08.550Z"
   },
   {
    "duration": 5,
    "start_time": "2025-01-21T00:18:08.565Z"
   },
   {
    "duration": 48,
    "start_time": "2025-01-21T00:18:08.574Z"
   },
   {
    "duration": 14,
    "start_time": "2025-01-21T00:18:08.624Z"
   },
   {
    "duration": 5,
    "start_time": "2025-01-21T00:18:08.640Z"
   },
   {
    "duration": 4,
    "start_time": "2025-01-21T00:18:08.647Z"
   },
   {
    "duration": 884,
    "start_time": "2025-01-21T00:18:08.652Z"
   },
   {
    "duration": 124,
    "start_time": "2025-01-21T00:18:09.538Z"
   },
   {
    "duration": 48,
    "start_time": "2025-01-21T00:18:09.664Z"
   },
   {
    "duration": 11,
    "start_time": "2025-01-21T00:18:09.715Z"
   },
   {
    "duration": 8,
    "start_time": "2025-01-21T00:18:09.727Z"
   },
   {
    "duration": 4,
    "start_time": "2025-01-21T00:18:09.736Z"
   },
   {
    "duration": 7,
    "start_time": "2025-01-21T00:18:09.742Z"
   },
   {
    "duration": 3,
    "start_time": "2025-01-21T00:18:09.750Z"
   },
   {
    "duration": 3,
    "start_time": "2025-01-21T00:18:09.755Z"
   },
   {
    "duration": 6,
    "start_time": "2025-01-21T00:18:09.759Z"
   },
   {
    "duration": 47,
    "start_time": "2025-01-21T00:18:09.766Z"
   },
   {
    "duration": 18,
    "start_time": "2025-01-21T00:18:09.815Z"
   },
   {
    "duration": 10,
    "start_time": "2025-01-21T00:18:09.835Z"
   },
   {
    "duration": 3,
    "start_time": "2025-01-21T00:18:09.846Z"
   },
   {
    "duration": 12,
    "start_time": "2025-01-21T00:18:09.851Z"
   },
   {
    "duration": 5,
    "start_time": "2025-01-21T00:18:09.865Z"
   },
   {
    "duration": 33,
    "start_time": "2025-01-21T00:18:09.872Z"
   },
   {
    "duration": 36,
    "start_time": "2025-01-21T00:18:42.920Z"
   },
   {
    "duration": 271,
    "start_time": "2025-01-21T00:19:17.355Z"
   },
   {
    "duration": 601,
    "start_time": "2025-01-21T00:19:42.262Z"
   },
   {
    "duration": 90,
    "start_time": "2025-01-21T00:20:37.706Z"
   },
   {
    "duration": 33,
    "start_time": "2025-01-21T00:21:22.139Z"
   },
   {
    "duration": 4,
    "start_time": "2025-01-21T00:28:31.182Z"
   },
   {
    "duration": 20,
    "start_time": "2025-01-21T00:29:42.282Z"
   },
   {
    "duration": 10,
    "start_time": "2025-01-21T00:29:48.020Z"
   },
   {
    "duration": 22,
    "start_time": "2025-01-21T00:30:48.541Z"
   },
   {
    "duration": 9,
    "start_time": "2025-01-21T00:34:47.641Z"
   },
   {
    "duration": 20,
    "start_time": "2025-01-21T00:43:48.118Z"
   },
   {
    "duration": 5,
    "start_time": "2025-01-21T00:43:52.642Z"
   },
   {
    "duration": 23,
    "start_time": "2025-01-21T00:44:08.203Z"
   },
   {
    "duration": 137,
    "start_time": "2025-01-21T00:44:19.386Z"
   },
   {
    "duration": 134,
    "start_time": "2025-01-21T00:44:27.125Z"
   },
   {
    "duration": 16,
    "start_time": "2025-01-21T00:56:22.713Z"
   },
   {
    "duration": 22,
    "start_time": "2025-01-21T01:03:11.299Z"
   },
   {
    "duration": 2357,
    "start_time": "2025-01-21T01:04:24.229Z"
   },
   {
    "duration": 143,
    "start_time": "2025-01-21T01:04:55.999Z"
   },
   {
    "duration": 235,
    "start_time": "2025-01-21T01:21:59.038Z"
   },
   {
    "duration": 482,
    "start_time": "2025-01-21T01:30:56.005Z"
   },
   {
    "duration": 504,
    "start_time": "2025-01-21T01:41:25.648Z"
   },
   {
    "duration": 835,
    "start_time": "2025-01-21T01:41:40.438Z"
   },
   {
    "duration": 4,
    "start_time": "2025-01-21T01:43:22.940Z"
   },
   {
    "duration": 113,
    "start_time": "2025-01-21T01:43:42.048Z"
   },
   {
    "duration": 245,
    "start_time": "2025-01-21T01:46:23.343Z"
   },
   {
    "duration": 456,
    "start_time": "2025-01-21T01:50:14.269Z"
   },
   {
    "duration": 240,
    "start_time": "2025-01-21T01:50:22.845Z"
   },
   {
    "duration": 159,
    "start_time": "2025-01-21T01:50:34.321Z"
   },
   {
    "duration": 116,
    "start_time": "2025-01-21T01:50:43.338Z"
   },
   {
    "duration": 117,
    "start_time": "2025-01-21T01:50:47.290Z"
   },
   {
    "duration": 120,
    "start_time": "2025-01-21T01:50:52.554Z"
   },
   {
    "duration": 173,
    "start_time": "2025-01-21T01:51:06.699Z"
   },
   {
    "duration": 140,
    "start_time": "2025-01-21T01:51:51.177Z"
   },
   {
    "duration": 312,
    "start_time": "2025-01-21T01:51:56.173Z"
   },
   {
    "duration": 780,
    "start_time": "2025-01-21T01:52:55.267Z"
   },
   {
    "duration": 8,
    "start_time": "2025-01-21T01:54:21.025Z"
   },
   {
    "duration": 247,
    "start_time": "2025-01-21T01:54:59.164Z"
   },
   {
    "duration": 386,
    "start_time": "2025-01-21T01:56:00.838Z"
   },
   {
    "duration": 420,
    "start_time": "2025-01-21T01:57:14.906Z"
   },
   {
    "duration": 396,
    "start_time": "2025-01-21T02:12:43.422Z"
   },
   {
    "duration": 158,
    "start_time": "2025-01-21T02:12:43.821Z"
   },
   {
    "duration": 66,
    "start_time": "2025-01-21T02:12:43.981Z"
   },
   {
    "duration": 815,
    "start_time": "2025-01-21T02:12:44.050Z"
   },
   {
    "duration": 10,
    "start_time": "2025-01-21T02:12:44.867Z"
   },
   {
    "duration": 9,
    "start_time": "2025-01-21T02:12:44.879Z"
   },
   {
    "duration": 110,
    "start_time": "2025-01-21T02:12:44.889Z"
   },
   {
    "duration": 15,
    "start_time": "2025-01-21T02:12:45.001Z"
   },
   {
    "duration": 115,
    "start_time": "2025-01-21T02:12:45.017Z"
   },
   {
    "duration": 99,
    "start_time": "2025-01-21T02:12:45.135Z"
   },
   {
    "duration": 34,
    "start_time": "2025-01-21T02:12:45.235Z"
   },
   {
    "duration": 12,
    "start_time": "2025-01-21T02:12:45.271Z"
   },
   {
    "duration": 26,
    "start_time": "2025-01-21T02:12:45.284Z"
   },
   {
    "duration": 21,
    "start_time": "2025-01-21T02:12:45.311Z"
   },
   {
    "duration": 12,
    "start_time": "2025-01-21T02:12:45.334Z"
   },
   {
    "duration": 5,
    "start_time": "2025-01-21T02:12:45.347Z"
   },
   {
    "duration": 5,
    "start_time": "2025-01-21T02:12:45.353Z"
   },
   {
    "duration": 809,
    "start_time": "2025-01-21T02:12:45.360Z"
   },
   {
    "duration": 90,
    "start_time": "2025-01-21T02:12:46.171Z"
   },
   {
    "duration": 47,
    "start_time": "2025-01-21T02:12:46.264Z"
   },
   {
    "duration": 9,
    "start_time": "2025-01-21T02:12:46.312Z"
   },
   {
    "duration": 5,
    "start_time": "2025-01-21T02:12:46.323Z"
   },
   {
    "duration": 4,
    "start_time": "2025-01-21T02:12:46.330Z"
   },
   {
    "duration": 5,
    "start_time": "2025-01-21T02:12:46.336Z"
   },
   {
    "duration": 3,
    "start_time": "2025-01-21T02:12:46.343Z"
   },
   {
    "duration": 2,
    "start_time": "2025-01-21T02:12:46.348Z"
   },
   {
    "duration": 5,
    "start_time": "2025-01-21T02:12:46.352Z"
   },
   {
    "duration": 49,
    "start_time": "2025-01-21T02:12:46.361Z"
   },
   {
    "duration": 14,
    "start_time": "2025-01-21T02:12:46.412Z"
   },
   {
    "duration": 9,
    "start_time": "2025-01-21T02:12:46.428Z"
   },
   {
    "duration": 2,
    "start_time": "2025-01-21T02:12:46.439Z"
   },
   {
    "duration": 11,
    "start_time": "2025-01-21T02:12:46.443Z"
   },
   {
    "duration": 6,
    "start_time": "2025-01-21T02:12:46.455Z"
   },
   {
    "duration": 69,
    "start_time": "2025-01-21T02:12:46.462Z"
   },
   {
    "duration": 21,
    "start_time": "2025-01-21T02:12:46.533Z"
   },
   {
    "duration": 22,
    "start_time": "2025-01-21T02:12:46.555Z"
   },
   {
    "duration": 30,
    "start_time": "2025-01-21T02:12:46.579Z"
   },
   {
    "duration": 130,
    "start_time": "2025-01-21T02:12:46.611Z"
   },
   {
    "duration": 2032,
    "start_time": "2025-01-21T02:12:46.742Z"
   },
   {
    "duration": 140,
    "start_time": "2025-01-21T02:12:48.776Z"
   },
   {
    "duration": 1214,
    "start_time": "2025-01-21T02:12:48.918Z"
   },
   {
    "duration": 351,
    "start_time": "2025-01-21T02:12:50.134Z"
   },
   {
    "duration": 833,
    "start_time": "2025-01-21T02:12:50.486Z"
   },
   {
    "duration": 364,
    "start_time": "2025-01-21T02:12:51.321Z"
   },
   {
    "duration": 296,
    "start_time": "2025-01-22T17:54:47.363Z"
   },
   {
    "duration": 159,
    "start_time": "2025-01-22T17:54:47.661Z"
   },
   {
    "duration": 64,
    "start_time": "2025-01-22T17:54:47.824Z"
   },
   {
    "duration": 807,
    "start_time": "2025-01-22T17:54:47.890Z"
   },
   {
    "duration": 13,
    "start_time": "2025-01-22T17:54:48.700Z"
   },
   {
    "duration": 12,
    "start_time": "2025-01-22T17:54:48.714Z"
   },
   {
    "duration": 102,
    "start_time": "2025-01-22T17:54:48.729Z"
   },
   {
    "duration": 12,
    "start_time": "2025-01-22T17:54:48.833Z"
   },
   {
    "duration": 117,
    "start_time": "2025-01-22T17:54:48.846Z"
   },
   {
    "duration": 106,
    "start_time": "2025-01-22T17:54:48.965Z"
   },
   {
    "duration": 30,
    "start_time": "2025-01-22T17:54:49.073Z"
   },
   {
    "duration": 12,
    "start_time": "2025-01-22T17:54:49.105Z"
   },
   {
    "duration": 5,
    "start_time": "2025-01-22T17:54:49.119Z"
   },
   {
    "duration": 45,
    "start_time": "2025-01-22T17:54:49.129Z"
   },
   {
    "duration": 13,
    "start_time": "2025-01-22T17:54:49.175Z"
   },
   {
    "duration": 4,
    "start_time": "2025-01-22T17:54:49.189Z"
   },
   {
    "duration": 4,
    "start_time": "2025-01-22T17:54:49.195Z"
   },
   {
    "duration": 815,
    "start_time": "2025-01-22T17:54:49.200Z"
   },
   {
    "duration": 85,
    "start_time": "2025-01-22T17:54:50.016Z"
   },
   {
    "duration": 42,
    "start_time": "2025-01-22T17:54:50.103Z"
   },
   {
    "duration": 9,
    "start_time": "2025-01-22T17:54:50.146Z"
   },
   {
    "duration": 7,
    "start_time": "2025-01-22T17:54:50.170Z"
   },
   {
    "duration": 4,
    "start_time": "2025-01-22T17:54:50.179Z"
   },
   {
    "duration": 7,
    "start_time": "2025-01-22T17:54:50.184Z"
   },
   {
    "duration": 4,
    "start_time": "2025-01-22T17:54:50.192Z"
   },
   {
    "duration": 3,
    "start_time": "2025-01-22T17:54:50.197Z"
   },
   {
    "duration": 7,
    "start_time": "2025-01-22T17:54:50.201Z"
   },
   {
    "duration": 8,
    "start_time": "2025-01-22T17:54:50.209Z"
   },
   {
    "duration": 52,
    "start_time": "2025-01-22T17:54:50.219Z"
   },
   {
    "duration": 9,
    "start_time": "2025-01-22T17:54:50.273Z"
   },
   {
    "duration": 2,
    "start_time": "2025-01-22T17:54:50.284Z"
   },
   {
    "duration": 12,
    "start_time": "2025-01-22T17:54:50.287Z"
   },
   {
    "duration": 5,
    "start_time": "2025-01-22T17:54:50.301Z"
   },
   {
    "duration": 30,
    "start_time": "2025-01-22T17:54:50.308Z"
   },
   {
    "duration": 20,
    "start_time": "2025-01-22T17:54:50.370Z"
   },
   {
    "duration": 20,
    "start_time": "2025-01-22T17:54:50.394Z"
   },
   {
    "duration": 8,
    "start_time": "2025-01-22T17:54:50.416Z"
   },
   {
    "duration": 146,
    "start_time": "2025-01-22T17:54:50.426Z"
   },
   {
    "duration": 2004,
    "start_time": "2025-01-22T17:54:50.574Z"
   },
   {
    "duration": 119,
    "start_time": "2025-01-22T17:54:52.580Z"
   },
   {
    "duration": 840,
    "start_time": "2025-01-22T17:54:52.704Z"
   },
   {
    "duration": 215,
    "start_time": "2025-01-22T17:54:53.546Z"
   },
   {
    "duration": 4,
    "start_time": "2025-01-22T17:57:06.238Z"
   },
   {
    "duration": 4,
    "start_time": "2025-01-22T17:58:04.715Z"
   },
   {
    "duration": 575,
    "start_time": "2025-01-22T17:59:28.823Z"
   },
   {
    "duration": 8,
    "start_time": "2025-01-22T17:59:56.731Z"
   },
   {
    "duration": 274,
    "start_time": "2025-01-22T18:06:04.129Z"
   },
   {
    "duration": 136,
    "start_time": "2025-01-22T18:06:04.405Z"
   },
   {
    "duration": 48,
    "start_time": "2025-01-22T18:06:04.542Z"
   },
   {
    "duration": 720,
    "start_time": "2025-01-22T18:06:04.592Z"
   },
   {
    "duration": 9,
    "start_time": "2025-01-22T18:06:05.314Z"
   },
   {
    "duration": 9,
    "start_time": "2025-01-22T18:06:05.325Z"
   },
   {
    "duration": 108,
    "start_time": "2025-01-22T18:06:05.335Z"
   },
   {
    "duration": 11,
    "start_time": "2025-01-22T18:06:05.445Z"
   },
   {
    "duration": 107,
    "start_time": "2025-01-22T18:06:05.469Z"
   },
   {
    "duration": 98,
    "start_time": "2025-01-22T18:06:05.579Z"
   },
   {
    "duration": 29,
    "start_time": "2025-01-22T18:06:05.679Z"
   },
   {
    "duration": 14,
    "start_time": "2025-01-22T18:06:05.710Z"
   },
   {
    "duration": 6,
    "start_time": "2025-01-22T18:06:05.726Z"
   },
   {
    "duration": 48,
    "start_time": "2025-01-22T18:06:05.734Z"
   },
   {
    "duration": 14,
    "start_time": "2025-01-22T18:06:05.783Z"
   },
   {
    "duration": 5,
    "start_time": "2025-01-22T18:06:05.798Z"
   },
   {
    "duration": 4,
    "start_time": "2025-01-22T18:06:05.805Z"
   },
   {
    "duration": 854,
    "start_time": "2025-01-22T18:06:05.810Z"
   },
   {
    "duration": 719,
    "start_time": "2025-01-22T18:06:06.670Z"
   },
   {
    "duration": 7,
    "start_time": "2025-01-22T18:06:07.390Z"
   },
   {
    "duration": 7,
    "start_time": "2025-01-22T18:06:07.398Z"
   },
   {
    "duration": 3,
    "start_time": "2025-01-22T18:06:07.406Z"
   },
   {
    "duration": 6,
    "start_time": "2025-01-22T18:06:07.411Z"
   },
   {
    "duration": 4,
    "start_time": "2025-01-22T18:06:07.418Z"
   },
   {
    "duration": 2,
    "start_time": "2025-01-22T18:06:07.424Z"
   },
   {
    "duration": 6,
    "start_time": "2025-01-22T18:06:07.427Z"
   },
   {
    "duration": 42,
    "start_time": "2025-01-22T18:06:07.434Z"
   },
   {
    "duration": 14,
    "start_time": "2025-01-22T18:06:07.481Z"
   },
   {
    "duration": 9,
    "start_time": "2025-01-22T18:06:07.497Z"
   },
   {
    "duration": 3,
    "start_time": "2025-01-22T18:06:07.507Z"
   },
   {
    "duration": 11,
    "start_time": "2025-01-22T18:06:07.511Z"
   },
   {
    "duration": 6,
    "start_time": "2025-01-22T18:06:07.524Z"
   },
   {
    "duration": 70,
    "start_time": "2025-01-22T18:06:07.531Z"
   },
   {
    "duration": 21,
    "start_time": "2025-01-22T18:06:07.602Z"
   },
   {
    "duration": 22,
    "start_time": "2025-01-22T18:06:07.625Z"
   },
   {
    "duration": 27,
    "start_time": "2025-01-22T18:06:07.649Z"
   },
   {
    "duration": 127,
    "start_time": "2025-01-22T18:06:07.678Z"
   },
   {
    "duration": 280,
    "start_time": "2025-01-22T18:06:07.807Z"
   },
   {
    "duration": 121,
    "start_time": "2025-01-22T18:06:08.090Z"
   },
   {
    "duration": 869,
    "start_time": "2025-01-22T18:06:08.213Z"
   },
   {
    "duration": 240,
    "start_time": "2025-01-22T18:06:09.083Z"
   },
   {
    "duration": 784,
    "start_time": "2025-01-22T18:06:09.325Z"
   },
   {
    "duration": 354,
    "start_time": "2025-01-22T18:06:10.111Z"
   },
   {
    "duration": 56,
    "start_time": "2025-01-22T18:06:28.860Z"
   },
   {
    "duration": 6,
    "start_time": "2025-01-22T18:06:49.698Z"
   },
   {
    "duration": 5,
    "start_time": "2025-01-22T18:08:57.708Z"
   },
   {
    "duration": 5,
    "start_time": "2025-01-22T18:09:16.930Z"
   },
   {
    "duration": 6,
    "start_time": "2025-01-22T18:09:40.759Z"
   },
   {
    "duration": 275,
    "start_time": "2025-01-22T18:10:29.358Z"
   },
   {
    "duration": 138,
    "start_time": "2025-01-22T18:10:29.636Z"
   },
   {
    "duration": 44,
    "start_time": "2025-01-22T18:10:29.776Z"
   },
   {
    "duration": 735,
    "start_time": "2025-01-22T18:10:29.822Z"
   },
   {
    "duration": 14,
    "start_time": "2025-01-22T18:10:30.559Z"
   },
   {
    "duration": 8,
    "start_time": "2025-01-22T18:10:30.576Z"
   },
   {
    "duration": 103,
    "start_time": "2025-01-22T18:10:30.585Z"
   },
   {
    "duration": 12,
    "start_time": "2025-01-22T18:10:30.689Z"
   },
   {
    "duration": 118,
    "start_time": "2025-01-22T18:10:30.702Z"
   },
   {
    "duration": 103,
    "start_time": "2025-01-22T18:10:30.823Z"
   },
   {
    "duration": 32,
    "start_time": "2025-01-22T18:10:30.928Z"
   },
   {
    "duration": 12,
    "start_time": "2025-01-22T18:10:30.970Z"
   },
   {
    "duration": 5,
    "start_time": "2025-01-22T18:10:30.984Z"
   },
   {
    "duration": 21,
    "start_time": "2025-01-22T18:10:30.991Z"
   },
   {
    "duration": 12,
    "start_time": "2025-01-22T18:10:31.014Z"
   },
   {
    "duration": 4,
    "start_time": "2025-01-22T18:10:31.028Z"
   },
   {
    "duration": 38,
    "start_time": "2025-01-22T18:10:31.033Z"
   },
   {
    "duration": 802,
    "start_time": "2025-01-22T18:10:31.072Z"
   },
   {
    "duration": 706,
    "start_time": "2025-01-22T18:10:31.876Z"
   },
   {
    "duration": 7,
    "start_time": "2025-01-22T18:10:32.584Z"
   },
   {
    "duration": 6,
    "start_time": "2025-01-22T18:10:32.593Z"
   },
   {
    "duration": 3,
    "start_time": "2025-01-22T18:10:32.601Z"
   },
   {
    "duration": 5,
    "start_time": "2025-01-22T18:10:32.606Z"
   },
   {
    "duration": 4,
    "start_time": "2025-01-22T18:10:32.613Z"
   },
   {
    "duration": 3,
    "start_time": "2025-01-22T18:10:32.618Z"
   },
   {
    "duration": 6,
    "start_time": "2025-01-22T18:10:32.622Z"
   },
   {
    "duration": 47,
    "start_time": "2025-01-22T18:10:32.629Z"
   },
   {
    "duration": 14,
    "start_time": "2025-01-22T18:10:32.681Z"
   },
   {
    "duration": 9,
    "start_time": "2025-01-22T18:10:32.697Z"
   },
   {
    "duration": 2,
    "start_time": "2025-01-22T18:10:32.708Z"
   },
   {
    "duration": 6,
    "start_time": "2025-01-22T18:10:32.713Z"
   },
   {
    "duration": 13,
    "start_time": "2025-01-22T18:10:32.720Z"
   },
   {
    "duration": 210,
    "start_time": "2025-01-22T18:10:32.735Z"
   },
   {
    "duration": 0,
    "start_time": "2025-01-22T18:10:32.947Z"
   },
   {
    "duration": 0,
    "start_time": "2025-01-22T18:10:32.949Z"
   },
   {
    "duration": 0,
    "start_time": "2025-01-22T18:10:32.950Z"
   },
   {
    "duration": 0,
    "start_time": "2025-01-22T18:10:32.952Z"
   },
   {
    "duration": 0,
    "start_time": "2025-01-22T18:10:32.953Z"
   },
   {
    "duration": 0,
    "start_time": "2025-01-22T18:10:32.970Z"
   },
   {
    "duration": 0,
    "start_time": "2025-01-22T18:10:32.971Z"
   },
   {
    "duration": 0,
    "start_time": "2025-01-22T18:10:32.972Z"
   },
   {
    "duration": 0,
    "start_time": "2025-01-22T18:10:32.973Z"
   },
   {
    "duration": 0,
    "start_time": "2025-01-22T18:10:32.974Z"
   },
   {
    "duration": 0,
    "start_time": "2025-01-22T18:10:32.976Z"
   },
   {
    "duration": 62,
    "start_time": "2025-01-22T18:12:28.852Z"
   },
   {
    "duration": 63,
    "start_time": "2025-01-22T18:13:17.300Z"
   },
   {
    "duration": 63,
    "start_time": "2025-01-22T18:13:53.708Z"
   },
   {
    "duration": 26,
    "start_time": "2025-01-22T18:16:45.134Z"
   },
   {
    "duration": 22,
    "start_time": "2025-01-22T18:16:51.075Z"
   },
   {
    "duration": 8,
    "start_time": "2025-01-22T18:17:08.095Z"
   },
   {
    "duration": 9,
    "start_time": "2025-01-22T18:17:23.569Z"
   },
   {
    "duration": 307,
    "start_time": "2025-01-22T18:19:24.409Z"
   },
   {
    "duration": 136,
    "start_time": "2025-01-22T18:19:24.718Z"
   },
   {
    "duration": 49,
    "start_time": "2025-01-22T18:19:24.855Z"
   },
   {
    "duration": 739,
    "start_time": "2025-01-22T18:19:24.905Z"
   },
   {
    "duration": 11,
    "start_time": "2025-01-22T18:19:25.646Z"
   },
   {
    "duration": 18,
    "start_time": "2025-01-22T18:19:25.658Z"
   },
   {
    "duration": 109,
    "start_time": "2025-01-22T18:19:25.678Z"
   },
   {
    "duration": 12,
    "start_time": "2025-01-22T18:19:25.789Z"
   },
   {
    "duration": 121,
    "start_time": "2025-01-22T18:19:25.802Z"
   },
   {
    "duration": 106,
    "start_time": "2025-01-22T18:19:25.924Z"
   },
   {
    "duration": 38,
    "start_time": "2025-01-22T18:19:26.032Z"
   },
   {
    "duration": 16,
    "start_time": "2025-01-22T18:19:26.071Z"
   },
   {
    "duration": 5,
    "start_time": "2025-01-22T18:19:26.089Z"
   },
   {
    "duration": 28,
    "start_time": "2025-01-22T18:19:26.100Z"
   },
   {
    "duration": 15,
    "start_time": "2025-01-22T18:19:26.130Z"
   },
   {
    "duration": 5,
    "start_time": "2025-01-22T18:19:26.170Z"
   },
   {
    "duration": 4,
    "start_time": "2025-01-22T18:19:26.177Z"
   },
   {
    "duration": 823,
    "start_time": "2025-01-22T18:19:26.182Z"
   },
   {
    "duration": 726,
    "start_time": "2025-01-22T18:19:27.007Z"
   },
   {
    "duration": 7,
    "start_time": "2025-01-22T18:19:27.735Z"
   },
   {
    "duration": 6,
    "start_time": "2025-01-22T18:19:27.744Z"
   },
   {
    "duration": 19,
    "start_time": "2025-01-22T18:19:27.751Z"
   },
   {
    "duration": 6,
    "start_time": "2025-01-22T18:19:27.772Z"
   },
   {
    "duration": 3,
    "start_time": "2025-01-22T18:19:27.780Z"
   },
   {
    "duration": 3,
    "start_time": "2025-01-22T18:19:27.784Z"
   },
   {
    "duration": 6,
    "start_time": "2025-01-22T18:19:27.789Z"
   },
   {
    "duration": 9,
    "start_time": "2025-01-22T18:19:27.796Z"
   },
   {
    "duration": 15,
    "start_time": "2025-01-22T18:19:27.806Z"
   },
   {
    "duration": 9,
    "start_time": "2025-01-22T18:19:27.822Z"
   },
   {
    "duration": 4,
    "start_time": "2025-01-22T18:19:27.870Z"
   },
   {
    "duration": 7,
    "start_time": "2025-01-22T18:19:27.875Z"
   },
   {
    "duration": 13,
    "start_time": "2025-01-22T18:19:27.884Z"
   },
   {
    "duration": 79,
    "start_time": "2025-01-22T18:19:27.900Z"
   },
   {
    "duration": 32,
    "start_time": "2025-01-22T18:19:27.981Z"
   },
   {
    "duration": 22,
    "start_time": "2025-01-22T18:19:28.014Z"
   },
   {
    "duration": 42,
    "start_time": "2025-01-22T18:19:28.038Z"
   },
   {
    "duration": 8,
    "start_time": "2025-01-22T18:19:28.082Z"
   },
   {
    "duration": 139,
    "start_time": "2025-01-22T18:19:28.091Z"
   },
   {
    "duration": 287,
    "start_time": "2025-01-22T18:19:28.233Z"
   },
   {
    "duration": 120,
    "start_time": "2025-01-22T18:19:28.522Z"
   },
   {
    "duration": 844,
    "start_time": "2025-01-22T18:19:28.646Z"
   },
   {
    "duration": 226,
    "start_time": "2025-01-22T18:19:29.491Z"
   },
   {
    "duration": 797,
    "start_time": "2025-01-22T18:19:29.719Z"
   },
   {
    "duration": 362,
    "start_time": "2025-01-22T18:19:30.518Z"
   },
   {
    "duration": 16,
    "start_time": "2025-01-22T18:22:00.152Z"
   },
   {
    "duration": 128,
    "start_time": "2025-01-22T18:22:48.453Z"
   },
   {
    "duration": 815,
    "start_time": "2025-01-22T18:23:50.900Z"
   },
   {
    "duration": 499,
    "start_time": "2025-01-22T18:23:58.118Z"
   },
   {
    "duration": 16,
    "start_time": "2025-01-22T18:24:04.715Z"
   },
   {
    "duration": 39,
    "start_time": "2025-01-22T18:24:32.622Z"
   },
   {
    "duration": 9,
    "start_time": "2025-01-22T18:24:45.073Z"
   },
   {
    "duration": 284,
    "start_time": "2025-01-22T18:26:16.844Z"
   },
   {
    "duration": 144,
    "start_time": "2025-01-22T18:26:17.130Z"
   },
   {
    "duration": 46,
    "start_time": "2025-01-22T18:26:17.276Z"
   },
   {
    "duration": 740,
    "start_time": "2025-01-22T18:26:17.323Z"
   },
   {
    "duration": 12,
    "start_time": "2025-01-22T18:26:18.065Z"
   },
   {
    "duration": 9,
    "start_time": "2025-01-22T18:26:18.078Z"
   },
   {
    "duration": 119,
    "start_time": "2025-01-22T18:26:18.089Z"
   },
   {
    "duration": 12,
    "start_time": "2025-01-22T18:26:18.209Z"
   },
   {
    "duration": 148,
    "start_time": "2025-01-22T18:26:18.222Z"
   },
   {
    "duration": 145,
    "start_time": "2025-01-22T18:26:18.372Z"
   },
   {
    "duration": 54,
    "start_time": "2025-01-22T18:26:18.519Z"
   },
   {
    "duration": 19,
    "start_time": "2025-01-22T18:26:18.577Z"
   },
   {
    "duration": 10,
    "start_time": "2025-01-22T18:26:18.600Z"
   },
   {
    "duration": 25,
    "start_time": "2025-01-22T18:26:18.614Z"
   },
   {
    "duration": 33,
    "start_time": "2025-01-22T18:26:18.641Z"
   },
   {
    "duration": 5,
    "start_time": "2025-01-22T18:26:18.675Z"
   },
   {
    "duration": 3,
    "start_time": "2025-01-22T18:26:18.682Z"
   },
   {
    "duration": 920,
    "start_time": "2025-01-22T18:26:18.687Z"
   },
   {
    "duration": 753,
    "start_time": "2025-01-22T18:26:19.608Z"
   },
   {
    "duration": 7,
    "start_time": "2025-01-22T18:26:20.370Z"
   },
   {
    "duration": 6,
    "start_time": "2025-01-22T18:26:20.379Z"
   },
   {
    "duration": 3,
    "start_time": "2025-01-22T18:26:20.387Z"
   },
   {
    "duration": 9,
    "start_time": "2025-01-22T18:26:20.392Z"
   },
   {
    "duration": 4,
    "start_time": "2025-01-22T18:26:20.404Z"
   },
   {
    "duration": 3,
    "start_time": "2025-01-22T18:26:20.409Z"
   },
   {
    "duration": 5,
    "start_time": "2025-01-22T18:26:20.413Z"
   },
   {
    "duration": 51,
    "start_time": "2025-01-22T18:26:20.420Z"
   },
   {
    "duration": 18,
    "start_time": "2025-01-22T18:26:20.473Z"
   },
   {
    "duration": 9,
    "start_time": "2025-01-22T18:26:20.493Z"
   },
   {
    "duration": 3,
    "start_time": "2025-01-22T18:26:20.503Z"
   },
   {
    "duration": 7,
    "start_time": "2025-01-22T18:26:20.508Z"
   },
   {
    "duration": 13,
    "start_time": "2025-01-22T18:26:20.517Z"
   },
   {
    "duration": 93,
    "start_time": "2025-01-22T18:26:20.533Z"
   },
   {
    "duration": 51,
    "start_time": "2025-01-22T18:26:20.628Z"
   },
   {
    "duration": 30,
    "start_time": "2025-01-22T18:26:20.680Z"
   },
   {
    "duration": 24,
    "start_time": "2025-01-22T18:26:20.713Z"
   },
   {
    "duration": 10,
    "start_time": "2025-01-22T18:26:20.740Z"
   },
   {
    "duration": 142,
    "start_time": "2025-01-22T18:26:20.770Z"
   },
   {
    "duration": 333,
    "start_time": "2025-01-22T18:26:20.915Z"
   },
   {
    "duration": 129,
    "start_time": "2025-01-22T18:26:21.250Z"
   },
   {
    "duration": 18,
    "start_time": "2025-01-22T18:26:21.385Z"
   },
   {
    "duration": 139,
    "start_time": "2025-01-22T18:26:21.405Z"
   },
   {
    "duration": 8,
    "start_time": "2025-01-22T18:26:21.546Z"
   },
   {
    "duration": 285,
    "start_time": "2025-01-22T18:26:21.556Z"
   },
   {
    "duration": 8,
    "start_time": "2025-01-22T18:26:44.685Z"
   },
   {
    "duration": 92,
    "start_time": "2025-01-22T18:27:07.125Z"
   },
   {
    "duration": 86,
    "start_time": "2025-01-22T18:27:22.488Z"
   },
   {
    "duration": 3,
    "start_time": "2025-01-22T18:28:21.430Z"
   },
   {
    "duration": 25,
    "start_time": "2025-01-22T18:29:50.655Z"
   },
   {
    "duration": 15,
    "start_time": "2025-01-22T18:30:02.307Z"
   },
   {
    "duration": 118,
    "start_time": "2025-01-22T20:31:57.746Z"
   },
   {
    "duration": 35,
    "start_time": "2025-01-22T20:32:02.945Z"
   },
   {
    "duration": 691,
    "start_time": "2025-01-22T20:32:07.871Z"
   },
   {
    "duration": 9,
    "start_time": "2025-01-22T20:32:12.590Z"
   },
   {
    "duration": 11,
    "start_time": "2025-01-22T20:32:17.357Z"
   },
   {
    "duration": 9,
    "start_time": "2025-01-22T20:50:23.448Z"
   },
   {
    "duration": 2,
    "start_time": "2025-01-22T21:18:25.003Z"
   },
   {
    "duration": 112,
    "start_time": "2025-01-22T21:18:25.236Z"
   },
   {
    "duration": 71,
    "start_time": "2025-01-22T21:18:25.905Z"
   },
   {
    "duration": 9,
    "start_time": "2025-01-22T21:18:26.515Z"
   },
   {
    "duration": 83,
    "start_time": "2025-01-22T21:18:26.713Z"
   },
   {
    "duration": 79,
    "start_time": "2025-01-22T21:18:26.927Z"
   },
   {
    "duration": 26,
    "start_time": "2025-01-22T21:18:27.322Z"
   },
   {
    "duration": 23,
    "start_time": "2025-01-22T21:19:09.241Z"
   },
   {
    "duration": 14,
    "start_time": "2025-01-22T21:19:10.967Z"
   },
   {
    "duration": 12,
    "start_time": "2025-01-22T21:19:17.604Z"
   },
   {
    "duration": 10,
    "start_time": "2025-01-22T21:23:24.572Z"
   },
   {
    "duration": 5,
    "start_time": "2025-01-22T21:23:29.907Z"
   },
   {
    "duration": 4,
    "start_time": "2025-01-22T21:24:24.039Z"
   },
   {
    "duration": 4,
    "start_time": "2025-01-22T21:24:44.569Z"
   },
   {
    "duration": 153,
    "start_time": "2025-01-23T02:35:15.202Z"
   },
   {
    "duration": 280,
    "start_time": "2025-01-23T02:35:21.092Z"
   },
   {
    "duration": 156,
    "start_time": "2025-01-23T02:35:21.374Z"
   },
   {
    "duration": 97,
    "start_time": "2025-01-23T02:35:21.532Z"
   },
   {
    "duration": 9,
    "start_time": "2025-01-23T02:35:21.632Z"
   },
   {
    "duration": 113,
    "start_time": "2025-01-23T02:35:21.643Z"
   },
   {
    "duration": 97,
    "start_time": "2025-01-23T02:35:21.757Z"
   },
   {
    "duration": 30,
    "start_time": "2025-01-23T02:35:21.856Z"
   },
   {
    "duration": 23,
    "start_time": "2025-01-23T02:35:21.887Z"
   },
   {
    "duration": 15,
    "start_time": "2025-01-23T02:35:21.911Z"
   },
   {
    "duration": 64,
    "start_time": "2025-01-23T02:35:21.930Z"
   },
   {
    "duration": 14,
    "start_time": "2025-01-23T02:35:21.996Z"
   },
   {
    "duration": 5,
    "start_time": "2025-01-23T02:35:22.012Z"
   },
   {
    "duration": 24,
    "start_time": "2025-01-23T02:35:22.021Z"
   },
   {
    "duration": 9,
    "start_time": "2025-01-23T02:35:22.048Z"
   },
   {
    "duration": 6,
    "start_time": "2025-01-23T02:35:22.059Z"
   },
   {
    "duration": 6,
    "start_time": "2025-01-23T02:35:22.066Z"
   },
   {
    "duration": 35,
    "start_time": "2025-01-23T02:35:22.073Z"
   },
   {
    "duration": 5,
    "start_time": "2025-01-23T02:35:22.111Z"
   },
   {
    "duration": 4,
    "start_time": "2025-01-23T02:35:22.117Z"
   },
   {
    "duration": 2,
    "start_time": "2025-01-23T02:35:22.123Z"
   },
   {
    "duration": 5,
    "start_time": "2025-01-23T02:35:22.126Z"
   },
   {
    "duration": 11,
    "start_time": "2025-01-23T02:35:22.133Z"
   },
   {
    "duration": 3,
    "start_time": "2025-01-23T02:35:22.146Z"
   },
   {
    "duration": 11,
    "start_time": "2025-01-23T02:35:22.151Z"
   },
   {
    "duration": 43,
    "start_time": "2025-01-23T02:35:22.163Z"
   },
   {
    "duration": 802,
    "start_time": "2025-01-23T02:35:22.209Z"
   },
   {
    "duration": 727,
    "start_time": "2025-01-23T02:35:23.013Z"
   },
   {
    "duration": 637,
    "start_time": "2025-01-23T02:35:23.744Z"
   },
   {
    "duration": 3,
    "start_time": "2025-01-23T02:35:24.383Z"
   },
   {
    "duration": 25,
    "start_time": "2025-01-23T02:35:24.387Z"
   },
   {
    "duration": 63,
    "start_time": "2025-01-23T02:35:24.413Z"
   },
   {
    "duration": 44,
    "start_time": "2025-01-23T02:35:24.478Z"
   },
   {
    "duration": 18,
    "start_time": "2025-01-23T02:35:24.525Z"
   },
   {
    "duration": 20,
    "start_time": "2025-01-23T02:35:24.545Z"
   },
   {
    "duration": 8,
    "start_time": "2025-01-23T02:35:24.567Z"
   },
   {
    "duration": 141,
    "start_time": "2025-01-23T02:35:24.576Z"
   },
   {
    "duration": 2038,
    "start_time": "2025-01-23T02:35:24.719Z"
   },
   {
    "duration": 118,
    "start_time": "2025-01-23T02:35:26.758Z"
   },
   {
    "duration": 30,
    "start_time": "2025-01-23T02:35:26.877Z"
   },
   {
    "duration": 125,
    "start_time": "2025-01-23T02:35:26.909Z"
   },
   {
    "duration": 82,
    "start_time": "2025-01-23T02:35:27.036Z"
   },
   {
    "duration": 15,
    "start_time": "2025-01-23T02:35:27.119Z"
   },
   {
    "duration": 3,
    "start_time": "2025-01-23T02:35:33.189Z"
   },
   {
    "duration": 125,
    "start_time": "2025-01-23T02:35:33.655Z"
   },
   {
    "duration": 74,
    "start_time": "2025-01-23T02:35:36.498Z"
   },
   {
    "duration": 9,
    "start_time": "2025-01-23T02:35:37.367Z"
   },
   {
    "duration": 6,
    "start_time": "2025-01-23T02:39:03.453Z"
   },
   {
    "duration": 293,
    "start_time": "2025-01-24T19:33:55.303Z"
   },
   {
    "duration": 152,
    "start_time": "2025-01-24T19:33:55.598Z"
   },
   {
    "duration": 103,
    "start_time": "2025-01-24T19:33:55.752Z"
   },
   {
    "duration": 11,
    "start_time": "2025-01-24T19:33:55.856Z"
   },
   {
    "duration": 128,
    "start_time": "2025-01-24T19:33:55.869Z"
   },
   {
    "duration": 106,
    "start_time": "2025-01-24T19:33:55.998Z"
   },
   {
    "duration": 34,
    "start_time": "2025-01-24T19:33:56.105Z"
   },
   {
    "duration": 6,
    "start_time": "2025-01-24T19:33:56.141Z"
   },
   {
    "duration": 14,
    "start_time": "2025-01-24T19:33:56.149Z"
   },
   {
    "duration": 60,
    "start_time": "2025-01-24T19:33:56.165Z"
   },
   {
    "duration": 14,
    "start_time": "2025-01-24T19:33:56.227Z"
   },
   {
    "duration": 6,
    "start_time": "2025-01-24T19:33:56.245Z"
   },
   {
    "duration": 25,
    "start_time": "2025-01-24T19:33:56.253Z"
   },
   {
    "duration": 14,
    "start_time": "2025-01-24T19:33:56.282Z"
   },
   {
    "duration": 34,
    "start_time": "2025-01-24T19:33:56.298Z"
   },
   {
    "duration": 6,
    "start_time": "2025-01-24T19:33:56.334Z"
   },
   {
    "duration": 3,
    "start_time": "2025-01-24T19:33:56.342Z"
   },
   {
    "duration": 7,
    "start_time": "2025-01-24T19:33:56.347Z"
   },
   {
    "duration": 4,
    "start_time": "2025-01-24T19:33:56.355Z"
   },
   {
    "duration": 2,
    "start_time": "2025-01-24T19:33:56.360Z"
   },
   {
    "duration": 5,
    "start_time": "2025-01-24T19:33:56.364Z"
   },
   {
    "duration": 13,
    "start_time": "2025-01-24T19:33:56.370Z"
   },
   {
    "duration": 4,
    "start_time": "2025-01-24T19:33:56.385Z"
   },
   {
    "duration": 11,
    "start_time": "2025-01-24T19:33:56.433Z"
   },
   {
    "duration": 5,
    "start_time": "2025-01-24T19:33:56.446Z"
   },
   {
    "duration": 786,
    "start_time": "2025-01-24T19:33:56.453Z"
   },
   {
    "duration": 820,
    "start_time": "2025-01-24T19:33:57.241Z"
   },
   {
    "duration": 751,
    "start_time": "2025-01-24T19:33:58.063Z"
   },
   {
    "duration": 2,
    "start_time": "2025-01-24T19:33:58.816Z"
   },
   {
    "duration": 13,
    "start_time": "2025-01-24T19:33:58.831Z"
   },
   {
    "duration": 62,
    "start_time": "2025-01-24T19:33:58.846Z"
   },
   {
    "duration": 46,
    "start_time": "2025-01-24T19:33:58.909Z"
   },
   {
    "duration": 17,
    "start_time": "2025-01-24T19:33:58.957Z"
   },
   {
    "duration": 20,
    "start_time": "2025-01-24T19:33:58.976Z"
   },
   {
    "duration": 34,
    "start_time": "2025-01-24T19:33:58.998Z"
   },
   {
    "duration": 123,
    "start_time": "2025-01-24T19:33:59.034Z"
   },
   {
    "duration": 2012,
    "start_time": "2025-01-24T19:33:59.159Z"
   },
   {
    "duration": 126,
    "start_time": "2025-01-24T19:34:01.173Z"
   },
   {
    "duration": 30,
    "start_time": "2025-01-24T19:34:01.301Z"
   },
   {
    "duration": 132,
    "start_time": "2025-01-24T19:34:01.333Z"
   },
   {
    "duration": 79,
    "start_time": "2025-01-24T19:34:01.470Z"
   },
   {
    "duration": 15,
    "start_time": "2025-01-24T19:34:01.551Z"
   },
   {
    "duration": 117,
    "start_time": "2025-01-24T19:34:13.329Z"
   },
   {
    "duration": 22,
    "start_time": "2025-01-24T19:35:32.418Z"
   },
   {
    "duration": 21,
    "start_time": "2025-01-24T19:35:40.232Z"
   },
   {
    "duration": 177,
    "start_time": "2025-01-24T20:07:57.445Z"
   },
   {
    "duration": 337,
    "start_time": "2025-01-25T00:20:04.148Z"
   },
   {
    "duration": 155,
    "start_time": "2025-01-25T00:20:04.487Z"
   },
   {
    "duration": 102,
    "start_time": "2025-01-25T00:20:04.644Z"
   },
   {
    "duration": 10,
    "start_time": "2025-01-25T00:20:04.749Z"
   },
   {
    "duration": 123,
    "start_time": "2025-01-25T00:20:04.760Z"
   },
   {
    "duration": 119,
    "start_time": "2025-01-25T00:20:04.885Z"
   },
   {
    "duration": 37,
    "start_time": "2025-01-25T00:20:05.006Z"
   },
   {
    "duration": 8,
    "start_time": "2025-01-25T00:20:05.044Z"
   },
   {
    "duration": 14,
    "start_time": "2025-01-25T00:20:05.053Z"
   },
   {
    "duration": 57,
    "start_time": "2025-01-25T00:20:05.071Z"
   },
   {
    "duration": 12,
    "start_time": "2025-01-25T00:20:05.130Z"
   },
   {
    "duration": 6,
    "start_time": "2025-01-25T00:20:05.144Z"
   },
   {
    "duration": 22,
    "start_time": "2025-01-25T00:20:05.152Z"
   },
   {
    "duration": 10,
    "start_time": "2025-01-25T00:20:05.176Z"
   },
   {
    "duration": 7,
    "start_time": "2025-01-25T00:20:05.188Z"
   },
   {
    "duration": 7,
    "start_time": "2025-01-25T00:20:05.225Z"
   },
   {
    "duration": 3,
    "start_time": "2025-01-25T00:20:05.234Z"
   },
   {
    "duration": 6,
    "start_time": "2025-01-25T00:20:05.239Z"
   },
   {
    "duration": 3,
    "start_time": "2025-01-25T00:20:05.247Z"
   },
   {
    "duration": 3,
    "start_time": "2025-01-25T00:20:05.252Z"
   },
   {
    "duration": 5,
    "start_time": "2025-01-25T00:20:05.256Z"
   },
   {
    "duration": 10,
    "start_time": "2025-01-25T00:20:05.263Z"
   },
   {
    "duration": 4,
    "start_time": "2025-01-25T00:20:05.275Z"
   },
   {
    "duration": 11,
    "start_time": "2025-01-25T00:20:05.323Z"
   },
   {
    "duration": 5,
    "start_time": "2025-01-25T00:20:05.336Z"
   },
   {
    "duration": 798,
    "start_time": "2025-01-25T00:20:05.343Z"
   },
   {
    "duration": 769,
    "start_time": "2025-01-25T00:20:06.142Z"
   },
   {
    "duration": 690,
    "start_time": "2025-01-25T00:20:06.915Z"
   },
   {
    "duration": 3,
    "start_time": "2025-01-25T00:20:07.606Z"
   },
   {
    "duration": 22,
    "start_time": "2025-01-25T00:20:07.611Z"
   },
   {
    "duration": 62,
    "start_time": "2025-01-25T00:20:07.635Z"
   },
   {
    "duration": 50,
    "start_time": "2025-01-25T00:20:07.699Z"
   },
   {
    "duration": 15,
    "start_time": "2025-01-25T00:20:07.751Z"
   },
   {
    "duration": 18,
    "start_time": "2025-01-25T00:20:07.768Z"
   },
   {
    "duration": 2027,
    "start_time": "2025-01-25T00:20:07.788Z"
   },
   {
    "duration": 128,
    "start_time": "2025-01-25T00:20:09.818Z"
   },
   {
    "duration": 116,
    "start_time": "2025-01-25T00:20:09.948Z"
   },
   {
    "duration": 123,
    "start_time": "2025-01-25T00:20:10.066Z"
   },
   {
    "duration": 17,
    "start_time": "2025-01-25T00:20:10.190Z"
   },
   {
    "duration": 141,
    "start_time": "2025-01-25T00:20:10.208Z"
   },
   {
    "duration": 88,
    "start_time": "2025-01-25T00:20:10.351Z"
   },
   {
    "duration": 15,
    "start_time": "2025-01-25T00:20:10.441Z"
   },
   {
    "duration": 385,
    "start_time": "2025-01-25T00:21:18.266Z"
   },
   {
    "duration": 15,
    "start_time": "2025-01-25T00:21:28.314Z"
   },
   {
    "duration": 138,
    "start_time": "2025-01-25T00:21:32.533Z"
   },
   {
    "duration": 138,
    "start_time": "2025-01-25T00:22:25.866Z"
   },
   {
    "duration": 130,
    "start_time": "2025-01-25T00:22:39.649Z"
   },
   {
    "duration": 126,
    "start_time": "2025-01-25T00:22:50.836Z"
   },
   {
    "duration": 151,
    "start_time": "2025-01-25T00:23:22.346Z"
   },
   {
    "duration": 138,
    "start_time": "2025-01-25T00:24:11.513Z"
   },
   {
    "duration": 140,
    "start_time": "2025-01-25T00:24:28.670Z"
   },
   {
    "duration": 23,
    "start_time": "2025-01-25T00:26:29.941Z"
   },
   {
    "duration": 165,
    "start_time": "2025-01-25T00:28:00.417Z"
   },
   {
    "duration": 3,
    "start_time": "2025-01-25T00:28:19.702Z"
   },
   {
    "duration": 129,
    "start_time": "2025-01-25T00:28:24.869Z"
   },
   {
    "duration": 134,
    "start_time": "2025-01-25T00:29:03.113Z"
   },
   {
    "duration": 138,
    "start_time": "2025-01-25T00:29:26.945Z"
   },
   {
    "duration": 113,
    "start_time": "2025-01-25T00:29:42.855Z"
   },
   {
    "duration": 116,
    "start_time": "2025-01-25T00:30:26.723Z"
   },
   {
    "duration": 112,
    "start_time": "2025-01-25T00:31:04.459Z"
   },
   {
    "duration": 121,
    "start_time": "2025-01-25T00:31:12.608Z"
   },
   {
    "duration": 132,
    "start_time": "2025-01-25T00:33:19.881Z"
   },
   {
    "duration": 144,
    "start_time": "2025-01-25T00:33:54.687Z"
   },
   {
    "duration": 89,
    "start_time": "2025-01-25T00:34:12.242Z"
   },
   {
    "duration": 18,
    "start_time": "2025-01-25T00:34:21.776Z"
   },
   {
    "duration": 19,
    "start_time": "2025-01-25T00:34:29.673Z"
   },
   {
    "duration": 9,
    "start_time": "2025-01-25T00:34:50.114Z"
   },
   {
    "duration": 10,
    "start_time": "2025-01-25T00:44:29.129Z"
   },
   {
    "duration": 4,
    "start_time": "2025-01-25T00:45:27.906Z"
   },
   {
    "duration": 416,
    "start_time": "2025-01-25T00:45:48.884Z"
   },
   {
    "duration": 245,
    "start_time": "2025-01-25T00:46:19.256Z"
   },
   {
    "duration": 375,
    "start_time": "2025-01-25T00:46:31.239Z"
   },
   {
    "duration": 250,
    "start_time": "2025-01-25T00:47:41.344Z"
   },
   {
    "duration": 245,
    "start_time": "2025-01-25T00:48:25.859Z"
   },
   {
    "duration": 244,
    "start_time": "2025-01-25T00:48:28.433Z"
   },
   {
    "duration": 308,
    "start_time": "2025-01-25T00:53:30.524Z"
   },
   {
    "duration": 369,
    "start_time": "2025-01-25T00:53:49.089Z"
   },
   {
    "duration": 1191,
    "start_time": "2025-01-25T00:54:14.480Z"
   },
   {
    "duration": 53,
    "start_time": "2025-01-25T00:56:53.958Z"
   },
   {
    "duration": 159,
    "start_time": "2025-01-25T01:28:23.157Z"
   },
   {
    "duration": 452,
    "start_time": "2025-01-25T01:28:29.560Z"
   },
   {
    "duration": 179,
    "start_time": "2025-01-25T01:28:30.014Z"
   },
   {
    "duration": 103,
    "start_time": "2025-01-25T01:28:30.195Z"
   },
   {
    "duration": 10,
    "start_time": "2025-01-25T01:28:30.300Z"
   },
   {
    "duration": 114,
    "start_time": "2025-01-25T01:28:30.313Z"
   },
   {
    "duration": 97,
    "start_time": "2025-01-25T01:28:30.429Z"
   },
   {
    "duration": 29,
    "start_time": "2025-01-25T01:28:30.528Z"
   },
   {
    "duration": 7,
    "start_time": "2025-01-25T01:28:30.558Z"
   },
   {
    "duration": 15,
    "start_time": "2025-01-25T01:28:30.567Z"
   },
   {
    "duration": 65,
    "start_time": "2025-01-25T01:28:30.585Z"
   },
   {
    "duration": 13,
    "start_time": "2025-01-25T01:28:30.651Z"
   },
   {
    "duration": 4,
    "start_time": "2025-01-25T01:28:30.666Z"
   },
   {
    "duration": 21,
    "start_time": "2025-01-25T01:28:30.672Z"
   },
   {
    "duration": 33,
    "start_time": "2025-01-25T01:28:30.697Z"
   },
   {
    "duration": 7,
    "start_time": "2025-01-25T01:28:30.731Z"
   },
   {
    "duration": 6,
    "start_time": "2025-01-25T01:28:30.739Z"
   },
   {
    "duration": 3,
    "start_time": "2025-01-25T01:28:30.747Z"
   },
   {
    "duration": 6,
    "start_time": "2025-01-25T01:28:30.752Z"
   },
   {
    "duration": 4,
    "start_time": "2025-01-25T01:28:30.759Z"
   },
   {
    "duration": 3,
    "start_time": "2025-01-25T01:28:30.764Z"
   },
   {
    "duration": 5,
    "start_time": "2025-01-25T01:28:30.768Z"
   },
   {
    "duration": 50,
    "start_time": "2025-01-25T01:28:30.775Z"
   },
   {
    "duration": 6,
    "start_time": "2025-01-25T01:28:30.826Z"
   },
   {
    "duration": 9,
    "start_time": "2025-01-25T01:28:30.834Z"
   },
   {
    "duration": 3,
    "start_time": "2025-01-25T01:28:30.845Z"
   },
   {
    "duration": 785,
    "start_time": "2025-01-25T01:28:30.850Z"
   },
   {
    "duration": 763,
    "start_time": "2025-01-25T01:28:31.636Z"
   },
   {
    "duration": 673,
    "start_time": "2025-01-25T01:28:32.401Z"
   },
   {
    "duration": 2,
    "start_time": "2025-01-25T01:28:33.077Z"
   },
   {
    "duration": 13,
    "start_time": "2025-01-25T01:28:33.081Z"
   },
   {
    "duration": 80,
    "start_time": "2025-01-25T01:28:33.097Z"
   },
   {
    "duration": 30,
    "start_time": "2025-01-25T01:28:33.179Z"
   },
   {
    "duration": 28,
    "start_time": "2025-01-25T01:28:33.211Z"
   },
   {
    "duration": 17,
    "start_time": "2025-01-25T01:28:33.241Z"
   },
   {
    "duration": 168,
    "start_time": "2025-01-25T01:28:33.259Z"
   },
   {
    "duration": 152,
    "start_time": "2025-01-25T01:28:33.429Z"
   },
   {
    "duration": 126,
    "start_time": "2025-01-25T01:28:33.583Z"
   },
   {
    "duration": 121,
    "start_time": "2025-01-25T01:28:33.711Z"
   },
   {
    "duration": 133,
    "start_time": "2025-01-25T01:28:33.834Z"
   },
   {
    "duration": 414,
    "start_time": "2025-01-25T01:33:06.415Z"
   },
   {
    "duration": 181,
    "start_time": "2025-01-25T01:33:06.831Z"
   },
   {
    "duration": 101,
    "start_time": "2025-01-25T01:33:07.013Z"
   },
   {
    "duration": 16,
    "start_time": "2025-01-25T01:33:07.117Z"
   },
   {
    "duration": 108,
    "start_time": "2025-01-25T01:33:07.134Z"
   },
   {
    "duration": 110,
    "start_time": "2025-01-25T01:33:07.244Z"
   },
   {
    "duration": 30,
    "start_time": "2025-01-25T01:33:07.356Z"
   },
   {
    "duration": 7,
    "start_time": "2025-01-25T01:33:07.388Z"
   },
   {
    "duration": 31,
    "start_time": "2025-01-25T01:33:07.397Z"
   },
   {
    "duration": 55,
    "start_time": "2025-01-25T01:33:07.431Z"
   },
   {
    "duration": 15,
    "start_time": "2025-01-25T01:33:07.487Z"
   },
   {
    "duration": 14,
    "start_time": "2025-01-25T01:33:07.503Z"
   },
   {
    "duration": 30,
    "start_time": "2025-01-25T01:33:07.519Z"
   },
   {
    "duration": 11,
    "start_time": "2025-01-25T01:33:07.551Z"
   },
   {
    "duration": 7,
    "start_time": "2025-01-25T01:33:07.563Z"
   },
   {
    "duration": 6,
    "start_time": "2025-01-25T01:33:07.572Z"
   },
   {
    "duration": 4,
    "start_time": "2025-01-25T01:33:07.579Z"
   },
   {
    "duration": 41,
    "start_time": "2025-01-25T01:33:07.584Z"
   },
   {
    "duration": 3,
    "start_time": "2025-01-25T01:33:07.629Z"
   },
   {
    "duration": 2,
    "start_time": "2025-01-25T01:33:07.634Z"
   },
   {
    "duration": 5,
    "start_time": "2025-01-25T01:33:07.638Z"
   },
   {
    "duration": 9,
    "start_time": "2025-01-25T01:33:07.645Z"
   },
   {
    "duration": 5,
    "start_time": "2025-01-25T01:33:07.656Z"
   },
   {
    "duration": 8,
    "start_time": "2025-01-25T01:33:07.663Z"
   },
   {
    "duration": 4,
    "start_time": "2025-01-25T01:33:07.673Z"
   },
   {
    "duration": 841,
    "start_time": "2025-01-25T01:33:07.679Z"
   },
   {
    "duration": 772,
    "start_time": "2025-01-25T01:33:08.524Z"
   },
   {
    "duration": 672,
    "start_time": "2025-01-25T01:33:09.301Z"
   },
   {
    "duration": 2,
    "start_time": "2025-01-25T01:33:09.975Z"
   },
   {
    "duration": 14,
    "start_time": "2025-01-25T01:33:09.979Z"
   },
   {
    "duration": 78,
    "start_time": "2025-01-25T01:33:09.994Z"
   },
   {
    "duration": 30,
    "start_time": "2025-01-25T01:33:10.074Z"
   },
   {
    "duration": 28,
    "start_time": "2025-01-25T01:33:10.106Z"
   },
   {
    "duration": 17,
    "start_time": "2025-01-25T01:33:10.136Z"
   },
   {
    "duration": 164,
    "start_time": "2025-01-25T01:33:10.155Z"
   },
   {
    "duration": 156,
    "start_time": "2025-01-25T01:33:10.320Z"
   },
   {
    "duration": 122,
    "start_time": "2025-01-25T01:33:10.478Z"
   },
   {
    "duration": 123,
    "start_time": "2025-01-25T01:33:10.602Z"
   },
   {
    "duration": 128,
    "start_time": "2025-01-25T01:33:10.727Z"
   },
   {
    "duration": 407,
    "start_time": "2025-01-25T01:33:49.879Z"
   },
   {
    "duration": 165,
    "start_time": "2025-01-25T01:33:50.288Z"
   },
   {
    "duration": 97,
    "start_time": "2025-01-25T01:33:50.455Z"
   },
   {
    "duration": 10,
    "start_time": "2025-01-25T01:33:50.554Z"
   },
   {
    "duration": 112,
    "start_time": "2025-01-25T01:33:50.566Z"
   },
   {
    "duration": 101,
    "start_time": "2025-01-25T01:33:50.680Z"
   },
   {
    "duration": 29,
    "start_time": "2025-01-25T01:33:50.783Z"
   },
   {
    "duration": 15,
    "start_time": "2025-01-25T01:33:50.814Z"
   },
   {
    "duration": 14,
    "start_time": "2025-01-25T01:33:50.831Z"
   },
   {
    "duration": 35,
    "start_time": "2025-01-25T01:33:50.849Z"
   },
   {
    "duration": 12,
    "start_time": "2025-01-25T01:33:50.886Z"
   },
   {
    "duration": 31,
    "start_time": "2025-01-25T01:33:50.899Z"
   },
   {
    "duration": 21,
    "start_time": "2025-01-25T01:33:50.931Z"
   },
   {
    "duration": 9,
    "start_time": "2025-01-25T01:33:50.954Z"
   },
   {
    "duration": 6,
    "start_time": "2025-01-25T01:33:50.965Z"
   },
   {
    "duration": 6,
    "start_time": "2025-01-25T01:33:50.973Z"
   },
   {
    "duration": 3,
    "start_time": "2025-01-25T01:33:50.981Z"
   },
   {
    "duration": 41,
    "start_time": "2025-01-25T01:33:50.986Z"
   },
   {
    "duration": 4,
    "start_time": "2025-01-25T01:33:51.028Z"
   },
   {
    "duration": 2,
    "start_time": "2025-01-25T01:33:51.035Z"
   },
   {
    "duration": 5,
    "start_time": "2025-01-25T01:33:51.038Z"
   },
   {
    "duration": 8,
    "start_time": "2025-01-25T01:33:51.044Z"
   },
   {
    "duration": 3,
    "start_time": "2025-01-25T01:33:51.054Z"
   },
   {
    "duration": 8,
    "start_time": "2025-01-25T01:33:51.059Z"
   },
   {
    "duration": 4,
    "start_time": "2025-01-25T01:33:51.068Z"
   },
   {
    "duration": 745,
    "start_time": "2025-01-25T01:33:51.074Z"
   },
   {
    "duration": 783,
    "start_time": "2025-01-25T01:33:51.824Z"
   },
   {
    "duration": 650,
    "start_time": "2025-01-25T01:33:52.612Z"
   },
   {
    "duration": 4,
    "start_time": "2025-01-25T01:33:53.264Z"
   },
   {
    "duration": 14,
    "start_time": "2025-01-25T01:33:53.270Z"
   },
   {
    "duration": 79,
    "start_time": "2025-01-25T01:33:53.286Z"
   },
   {
    "duration": 29,
    "start_time": "2025-01-25T01:33:53.366Z"
   },
   {
    "duration": 29,
    "start_time": "2025-01-25T01:33:53.397Z"
   },
   {
    "duration": 18,
    "start_time": "2025-01-25T01:33:53.428Z"
   },
   {
    "duration": 157,
    "start_time": "2025-01-25T01:33:53.448Z"
   },
   {
    "duration": 163,
    "start_time": "2025-01-25T01:33:53.607Z"
   },
   {
    "duration": 131,
    "start_time": "2025-01-25T01:33:53.772Z"
   },
   {
    "duration": 122,
    "start_time": "2025-01-25T01:33:53.905Z"
   },
   {
    "duration": 127,
    "start_time": "2025-01-25T01:33:54.029Z"
   },
   {
    "duration": 423,
    "start_time": "2025-01-25T01:36:28.474Z"
   },
   {
    "duration": 189,
    "start_time": "2025-01-25T01:36:28.898Z"
   },
   {
    "duration": 98,
    "start_time": "2025-01-25T01:36:29.088Z"
   },
   {
    "duration": 12,
    "start_time": "2025-01-25T01:36:29.188Z"
   },
   {
    "duration": 122,
    "start_time": "2025-01-25T01:36:29.202Z"
   },
   {
    "duration": 105,
    "start_time": "2025-01-25T01:36:29.326Z"
   },
   {
    "duration": 30,
    "start_time": "2025-01-25T01:36:29.432Z"
   },
   {
    "duration": 6,
    "start_time": "2025-01-25T01:36:29.464Z"
   },
   {
    "duration": 15,
    "start_time": "2025-01-25T01:36:29.472Z"
   },
   {
    "duration": 59,
    "start_time": "2025-01-25T01:36:29.489Z"
   },
   {
    "duration": 12,
    "start_time": "2025-01-25T01:36:29.550Z"
   },
   {
    "duration": 5,
    "start_time": "2025-01-25T01:36:29.563Z"
   },
   {
    "duration": 21,
    "start_time": "2025-01-25T01:36:29.569Z"
   },
   {
    "duration": 33,
    "start_time": "2025-01-25T01:36:29.595Z"
   },
   {
    "duration": 7,
    "start_time": "2025-01-25T01:36:29.630Z"
   },
   {
    "duration": 7,
    "start_time": "2025-01-25T01:36:29.638Z"
   },
   {
    "duration": 4,
    "start_time": "2025-01-25T01:36:29.646Z"
   },
   {
    "duration": 7,
    "start_time": "2025-01-25T01:36:29.651Z"
   },
   {
    "duration": 4,
    "start_time": "2025-01-25T01:36:29.659Z"
   },
   {
    "duration": 2,
    "start_time": "2025-01-25T01:36:29.665Z"
   },
   {
    "duration": 5,
    "start_time": "2025-01-25T01:36:29.669Z"
   },
   {
    "duration": 49,
    "start_time": "2025-01-25T01:36:29.675Z"
   },
   {
    "duration": 4,
    "start_time": "2025-01-25T01:36:29.726Z"
   },
   {
    "duration": 9,
    "start_time": "2025-01-25T01:36:29.732Z"
   },
   {
    "duration": 3,
    "start_time": "2025-01-25T01:36:29.744Z"
   },
   {
    "duration": 821,
    "start_time": "2025-01-25T01:36:29.749Z"
   },
   {
    "duration": 755,
    "start_time": "2025-01-25T01:36:30.572Z"
   },
   {
    "duration": 662,
    "start_time": "2025-01-25T01:36:31.329Z"
   },
   {
    "duration": 2,
    "start_time": "2025-01-25T01:36:31.992Z"
   },
   {
    "duration": 13,
    "start_time": "2025-01-25T01:36:31.996Z"
   },
   {
    "duration": 73,
    "start_time": "2025-01-25T01:36:32.011Z"
   },
   {
    "duration": 41,
    "start_time": "2025-01-25T01:36:32.086Z"
   },
   {
    "duration": 16,
    "start_time": "2025-01-25T01:36:32.129Z"
   },
   {
    "duration": 18,
    "start_time": "2025-01-25T01:36:32.146Z"
   },
   {
    "duration": 172,
    "start_time": "2025-01-25T01:36:32.166Z"
   },
   {
    "duration": 154,
    "start_time": "2025-01-25T01:36:32.340Z"
   },
   {
    "duration": 128,
    "start_time": "2025-01-25T01:36:32.496Z"
   },
   {
    "duration": 116,
    "start_time": "2025-01-25T01:36:32.625Z"
   },
   {
    "duration": 127,
    "start_time": "2025-01-25T01:36:32.743Z"
   },
   {
    "duration": 445,
    "start_time": "2025-01-25T01:36:43.928Z"
   },
   {
    "duration": 186,
    "start_time": "2025-01-25T01:36:44.376Z"
   },
   {
    "duration": 115,
    "start_time": "2025-01-25T01:36:44.563Z"
   },
   {
    "duration": 10,
    "start_time": "2025-01-25T01:36:44.681Z"
   },
   {
    "duration": 124,
    "start_time": "2025-01-25T01:36:44.693Z"
   },
   {
    "duration": 111,
    "start_time": "2025-01-25T01:36:44.819Z"
   },
   {
    "duration": 31,
    "start_time": "2025-01-25T01:36:44.932Z"
   },
   {
    "duration": 8,
    "start_time": "2025-01-25T01:36:44.965Z"
   },
   {
    "duration": 15,
    "start_time": "2025-01-25T01:36:44.974Z"
   },
   {
    "duration": 63,
    "start_time": "2025-01-25T01:36:44.993Z"
   },
   {
    "duration": 15,
    "start_time": "2025-01-25T01:36:45.059Z"
   },
   {
    "duration": 6,
    "start_time": "2025-01-25T01:36:45.075Z"
   },
   {
    "duration": 42,
    "start_time": "2025-01-25T01:36:45.083Z"
   },
   {
    "duration": 13,
    "start_time": "2025-01-25T01:36:45.127Z"
   },
   {
    "duration": 7,
    "start_time": "2025-01-25T01:36:45.141Z"
   },
   {
    "duration": 6,
    "start_time": "2025-01-25T01:36:45.150Z"
   },
   {
    "duration": 4,
    "start_time": "2025-01-25T01:36:45.158Z"
   },
   {
    "duration": 6,
    "start_time": "2025-01-25T01:36:45.163Z"
   },
   {
    "duration": 4,
    "start_time": "2025-01-25T01:36:45.171Z"
   },
   {
    "duration": 2,
    "start_time": "2025-01-25T01:36:45.176Z"
   },
   {
    "duration": 52,
    "start_time": "2025-01-25T01:36:45.179Z"
   },
   {
    "duration": 8,
    "start_time": "2025-01-25T01:36:45.233Z"
   },
   {
    "duration": 6,
    "start_time": "2025-01-25T01:36:45.243Z"
   },
   {
    "duration": 9,
    "start_time": "2025-01-25T01:36:45.250Z"
   },
   {
    "duration": 4,
    "start_time": "2025-01-25T01:36:45.261Z"
   },
   {
    "duration": 732,
    "start_time": "2025-01-25T01:36:45.266Z"
   },
   {
    "duration": 772,
    "start_time": "2025-01-25T01:36:46.001Z"
   },
   {
    "duration": 667,
    "start_time": "2025-01-25T01:36:46.777Z"
   },
   {
    "duration": 3,
    "start_time": "2025-01-25T01:36:47.446Z"
   },
   {
    "duration": 13,
    "start_time": "2025-01-25T01:36:47.451Z"
   },
   {
    "duration": 81,
    "start_time": "2025-01-25T01:36:47.466Z"
   },
   {
    "duration": 30,
    "start_time": "2025-01-25T01:36:47.549Z"
   },
   {
    "duration": 14,
    "start_time": "2025-01-25T01:36:47.581Z"
   },
   {
    "duration": 40,
    "start_time": "2025-01-25T01:36:47.597Z"
   },
   {
    "duration": 157,
    "start_time": "2025-01-25T01:36:47.639Z"
   },
   {
    "duration": 158,
    "start_time": "2025-01-25T01:36:47.798Z"
   },
   {
    "duration": 127,
    "start_time": "2025-01-25T01:36:47.958Z"
   },
   {
    "duration": 131,
    "start_time": "2025-01-25T01:36:48.087Z"
   },
   {
    "duration": 141,
    "start_time": "2025-01-25T01:36:48.221Z"
   },
   {
    "duration": 417,
    "start_time": "2025-01-25T01:37:55.183Z"
   },
   {
    "duration": 166,
    "start_time": "2025-01-25T01:37:55.603Z"
   },
   {
    "duration": 104,
    "start_time": "2025-01-25T01:37:55.771Z"
   },
   {
    "duration": 11,
    "start_time": "2025-01-25T01:37:55.876Z"
   },
   {
    "duration": 121,
    "start_time": "2025-01-25T01:37:55.889Z"
   },
   {
    "duration": 116,
    "start_time": "2025-01-25T01:37:56.012Z"
   },
   {
    "duration": 32,
    "start_time": "2025-01-25T01:37:56.130Z"
   },
   {
    "duration": 8,
    "start_time": "2025-01-25T01:37:56.164Z"
   },
   {
    "duration": 15,
    "start_time": "2025-01-25T01:37:56.174Z"
   },
   {
    "duration": 62,
    "start_time": "2025-01-25T01:37:56.191Z"
   },
   {
    "duration": 13,
    "start_time": "2025-01-25T01:37:56.255Z"
   },
   {
    "duration": 6,
    "start_time": "2025-01-25T01:37:56.269Z"
   },
   {
    "duration": 22,
    "start_time": "2025-01-25T01:37:56.277Z"
   },
   {
    "duration": 12,
    "start_time": "2025-01-25T01:37:56.323Z"
   },
   {
    "duration": 6,
    "start_time": "2025-01-25T01:37:56.336Z"
   },
   {
    "duration": 6,
    "start_time": "2025-01-25T01:37:56.344Z"
   },
   {
    "duration": 4,
    "start_time": "2025-01-25T01:37:56.351Z"
   },
   {
    "duration": 5,
    "start_time": "2025-01-25T01:37:56.357Z"
   },
   {
    "duration": 3,
    "start_time": "2025-01-25T01:37:56.364Z"
   },
   {
    "duration": 2,
    "start_time": "2025-01-25T01:37:56.369Z"
   },
   {
    "duration": 6,
    "start_time": "2025-01-25T01:37:56.373Z"
   },
   {
    "duration": 9,
    "start_time": "2025-01-25T01:37:56.423Z"
   },
   {
    "duration": 3,
    "start_time": "2025-01-25T01:37:56.434Z"
   },
   {
    "duration": 7,
    "start_time": "2025-01-25T01:37:56.439Z"
   },
   {
    "duration": 4,
    "start_time": "2025-01-25T01:37:56.448Z"
   },
   {
    "duration": 728,
    "start_time": "2025-01-25T01:37:56.453Z"
   },
   {
    "duration": 796,
    "start_time": "2025-01-25T01:37:57.183Z"
   },
   {
    "duration": 710,
    "start_time": "2025-01-25T01:37:57.981Z"
   },
   {
    "duration": 2,
    "start_time": "2025-01-25T01:37:58.693Z"
   },
   {
    "duration": 28,
    "start_time": "2025-01-25T01:37:58.697Z"
   },
   {
    "duration": 62,
    "start_time": "2025-01-25T01:37:58.726Z"
   },
   {
    "duration": 43,
    "start_time": "2025-01-25T01:37:58.790Z"
   },
   {
    "duration": 17,
    "start_time": "2025-01-25T01:37:58.835Z"
   },
   {
    "duration": 17,
    "start_time": "2025-01-25T01:37:58.854Z"
   },
   {
    "duration": 168,
    "start_time": "2025-01-25T01:37:58.872Z"
   },
   {
    "duration": 157,
    "start_time": "2025-01-25T01:37:59.042Z"
   },
   {
    "duration": 128,
    "start_time": "2025-01-25T01:37:59.201Z"
   },
   {
    "duration": 123,
    "start_time": "2025-01-25T01:37:59.331Z"
   },
   {
    "duration": 128,
    "start_time": "2025-01-25T01:37:59.455Z"
   },
   {
    "duration": 474,
    "start_time": "2025-01-25T01:51:38.130Z"
   },
   {
    "duration": 183,
    "start_time": "2025-01-25T01:51:38.606Z"
   },
   {
    "duration": 109,
    "start_time": "2025-01-25T01:51:38.791Z"
   },
   {
    "duration": 12,
    "start_time": "2025-01-25T01:51:38.901Z"
   },
   {
    "duration": 104,
    "start_time": "2025-01-25T01:51:38.924Z"
   },
   {
    "duration": 106,
    "start_time": "2025-01-25T01:51:39.029Z"
   },
   {
    "duration": 30,
    "start_time": "2025-01-25T01:51:39.137Z"
   },
   {
    "duration": 6,
    "start_time": "2025-01-25T01:51:39.169Z"
   },
   {
    "duration": 15,
    "start_time": "2025-01-25T01:51:39.177Z"
   },
   {
    "duration": 62,
    "start_time": "2025-01-25T01:51:39.193Z"
   },
   {
    "duration": 11,
    "start_time": "2025-01-25T01:51:39.257Z"
   },
   {
    "duration": 5,
    "start_time": "2025-01-25T01:51:39.270Z"
   },
   {
    "duration": 24,
    "start_time": "2025-01-25T01:51:39.277Z"
   },
   {
    "duration": 11,
    "start_time": "2025-01-25T01:51:39.323Z"
   },
   {
    "duration": 6,
    "start_time": "2025-01-25T01:51:39.336Z"
   },
   {
    "duration": 6,
    "start_time": "2025-01-25T01:51:39.343Z"
   },
   {
    "duration": 4,
    "start_time": "2025-01-25T01:51:39.351Z"
   },
   {
    "duration": 6,
    "start_time": "2025-01-25T01:51:39.356Z"
   },
   {
    "duration": 3,
    "start_time": "2025-01-25T01:51:39.364Z"
   },
   {
    "duration": 2,
    "start_time": "2025-01-25T01:51:39.369Z"
   },
   {
    "duration": 5,
    "start_time": "2025-01-25T01:51:39.373Z"
   },
   {
    "duration": 49,
    "start_time": "2025-01-25T01:51:39.379Z"
   },
   {
    "duration": 3,
    "start_time": "2025-01-25T01:51:39.430Z"
   },
   {
    "duration": 8,
    "start_time": "2025-01-25T01:51:39.435Z"
   },
   {
    "duration": 3,
    "start_time": "2025-01-25T01:51:39.445Z"
   },
   {
    "duration": 813,
    "start_time": "2025-01-25T01:51:39.450Z"
   },
   {
    "duration": 815,
    "start_time": "2025-01-25T01:51:40.265Z"
   },
   {
    "duration": 724,
    "start_time": "2025-01-25T01:51:41.082Z"
   },
   {
    "duration": 2,
    "start_time": "2025-01-25T01:51:41.808Z"
   },
   {
    "duration": 22,
    "start_time": "2025-01-25T01:51:41.812Z"
   },
   {
    "duration": 62,
    "start_time": "2025-01-25T01:51:41.836Z"
   },
   {
    "duration": 46,
    "start_time": "2025-01-25T01:51:41.900Z"
   },
   {
    "duration": 16,
    "start_time": "2025-01-25T01:51:41.947Z"
   },
   {
    "duration": 18,
    "start_time": "2025-01-25T01:51:41.965Z"
   },
   {
    "duration": 166,
    "start_time": "2025-01-25T01:51:41.986Z"
   },
   {
    "duration": 154,
    "start_time": "2025-01-25T01:51:42.153Z"
   },
   {
    "duration": 128,
    "start_time": "2025-01-25T01:51:42.309Z"
   },
   {
    "duration": 124,
    "start_time": "2025-01-25T01:51:42.439Z"
   },
   {
    "duration": 126,
    "start_time": "2025-01-25T01:51:42.565Z"
   },
   {
    "duration": 422,
    "start_time": "2025-01-25T01:52:41.884Z"
   },
   {
    "duration": 168,
    "start_time": "2025-01-25T01:52:42.576Z"
   },
   {
    "duration": 106,
    "start_time": "2025-01-25T01:52:48.220Z"
   },
   {
    "duration": 11,
    "start_time": "2025-01-25T01:52:51.323Z"
   },
   {
    "duration": 104,
    "start_time": "2025-01-25T01:52:51.480Z"
   },
   {
    "duration": 109,
    "start_time": "2025-01-25T01:52:51.656Z"
   },
   {
    "duration": 31,
    "start_time": "2025-01-25T01:52:51.826Z"
   },
   {
    "duration": 8,
    "start_time": "2025-01-25T01:52:51.980Z"
   },
   {
    "duration": 15,
    "start_time": "2025-01-25T01:52:52.593Z"
   },
   {
    "duration": 38,
    "start_time": "2025-01-25T01:52:53.508Z"
   },
   {
    "duration": 13,
    "start_time": "2025-01-25T01:52:53.928Z"
   },
   {
    "duration": 5,
    "start_time": "2025-01-25T01:52:54.109Z"
   },
   {
    "duration": 25,
    "start_time": "2025-01-25T01:52:54.253Z"
   },
   {
    "duration": 13,
    "start_time": "2025-01-25T01:52:54.545Z"
   },
   {
    "duration": 7,
    "start_time": "2025-01-25T01:52:54.696Z"
   },
   {
    "duration": 6,
    "start_time": "2025-01-25T01:52:54.992Z"
   },
   {
    "duration": 3,
    "start_time": "2025-01-25T01:52:55.280Z"
   },
   {
    "duration": 6,
    "start_time": "2025-01-25T01:52:57.350Z"
   },
   {
    "duration": 4,
    "start_time": "2025-01-25T01:52:57.682Z"
   },
   {
    "duration": 2,
    "start_time": "2025-01-25T01:52:57.807Z"
   },
   {
    "duration": 6,
    "start_time": "2025-01-25T01:52:58.104Z"
   },
   {
    "duration": 8,
    "start_time": "2025-01-25T01:52:58.451Z"
   },
   {
    "duration": 4,
    "start_time": "2025-01-25T01:52:58.716Z"
   },
   {
    "duration": 11,
    "start_time": "2025-01-25T01:52:58.963Z"
   },
   {
    "duration": 4,
    "start_time": "2025-01-25T01:52:59.319Z"
   },
   {
    "duration": 711,
    "start_time": "2025-01-25T01:52:59.584Z"
   },
   {
    "duration": 758,
    "start_time": "2025-01-25T01:53:00.297Z"
   },
   {
    "duration": 667,
    "start_time": "2025-01-25T01:53:01.057Z"
   },
   {
    "duration": 2,
    "start_time": "2025-01-25T01:53:01.727Z"
   },
   {
    "duration": 13,
    "start_time": "2025-01-25T01:53:01.731Z"
   },
   {
    "duration": 82,
    "start_time": "2025-01-25T01:53:01.746Z"
   },
   {
    "duration": 29,
    "start_time": "2025-01-25T01:53:01.831Z"
   },
   {
    "duration": 16,
    "start_time": "2025-01-25T01:53:02.083Z"
   },
   {
    "duration": 19,
    "start_time": "2025-01-25T01:53:02.243Z"
   },
   {
    "duration": 145,
    "start_time": "2025-01-25T01:53:02.831Z"
   },
   {
    "duration": 148,
    "start_time": "2025-01-25T01:53:03.480Z"
   },
   {
    "duration": 119,
    "start_time": "2025-01-25T01:53:04.801Z"
   },
   {
    "duration": 134,
    "start_time": "2025-01-25T01:53:06.277Z"
   },
   {
    "duration": 119,
    "start_time": "2025-01-25T01:53:06.836Z"
   },
   {
    "duration": 432,
    "start_time": "2025-01-25T01:55:52.425Z"
   },
   {
    "duration": 184,
    "start_time": "2025-01-25T01:55:52.859Z"
   },
   {
    "duration": 104,
    "start_time": "2025-01-25T01:55:53.045Z"
   },
   {
    "duration": 11,
    "start_time": "2025-01-25T01:55:53.151Z"
   },
   {
    "duration": 118,
    "start_time": "2025-01-25T01:55:53.164Z"
   },
   {
    "duration": 99,
    "start_time": "2025-01-25T01:55:53.284Z"
   },
   {
    "duration": 39,
    "start_time": "2025-01-25T01:55:53.385Z"
   },
   {
    "duration": 7,
    "start_time": "2025-01-25T01:55:53.426Z"
   },
   {
    "duration": 14,
    "start_time": "2025-01-25T01:55:53.436Z"
   },
   {
    "duration": 55,
    "start_time": "2025-01-25T01:55:53.453Z"
   },
   {
    "duration": 17,
    "start_time": "2025-01-25T01:55:53.510Z"
   },
   {
    "duration": 7,
    "start_time": "2025-01-25T01:55:53.529Z"
   },
   {
    "duration": 22,
    "start_time": "2025-01-25T01:55:53.537Z"
   },
   {
    "duration": 10,
    "start_time": "2025-01-25T01:55:53.562Z"
   },
   {
    "duration": 6,
    "start_time": "2025-01-25T01:55:53.574Z"
   },
   {
    "duration": 6,
    "start_time": "2025-01-25T01:55:53.582Z"
   },
   {
    "duration": 38,
    "start_time": "2025-01-25T01:55:53.589Z"
   },
   {
    "duration": 7,
    "start_time": "2025-01-25T01:55:53.628Z"
   },
   {
    "duration": 4,
    "start_time": "2025-01-25T01:55:53.636Z"
   },
   {
    "duration": 2,
    "start_time": "2025-01-25T01:55:53.641Z"
   },
   {
    "duration": 5,
    "start_time": "2025-01-25T01:55:53.645Z"
   },
   {
    "duration": 8,
    "start_time": "2025-01-25T01:55:53.653Z"
   },
   {
    "duration": 4,
    "start_time": "2025-01-25T01:55:53.663Z"
   },
   {
    "duration": 10,
    "start_time": "2025-01-25T01:55:53.668Z"
   },
   {
    "duration": 3,
    "start_time": "2025-01-25T01:55:53.679Z"
   },
   {
    "duration": 810,
    "start_time": "2025-01-25T01:55:53.725Z"
   },
   {
    "duration": 737,
    "start_time": "2025-01-25T01:55:54.539Z"
   },
   {
    "duration": 678,
    "start_time": "2025-01-25T01:55:55.278Z"
   },
   {
    "duration": 3,
    "start_time": "2025-01-25T01:55:55.958Z"
   },
   {
    "duration": 14,
    "start_time": "2025-01-25T01:55:55.962Z"
   },
   {
    "duration": 78,
    "start_time": "2025-01-25T01:55:55.977Z"
   },
   {
    "duration": 29,
    "start_time": "2025-01-25T01:55:56.057Z"
   },
   {
    "duration": 16,
    "start_time": "2025-01-25T01:55:56.088Z"
   },
   {
    "duration": 17,
    "start_time": "2025-01-25T01:55:56.125Z"
   },
   {
    "duration": 157,
    "start_time": "2025-01-25T01:55:56.144Z"
   },
   {
    "duration": 168,
    "start_time": "2025-01-25T01:55:56.302Z"
   },
   {
    "duration": 127,
    "start_time": "2025-01-25T01:55:56.472Z"
   },
   {
    "duration": 124,
    "start_time": "2025-01-25T01:55:56.601Z"
   },
   {
    "duration": 127,
    "start_time": "2025-01-25T01:55:56.727Z"
   },
   {
    "duration": 431,
    "start_time": "2025-01-25T02:07:01.419Z"
   },
   {
    "duration": 186,
    "start_time": "2025-01-25T02:07:01.852Z"
   },
   {
    "duration": 99,
    "start_time": "2025-01-25T02:07:02.040Z"
   },
   {
    "duration": 10,
    "start_time": "2025-01-25T02:07:02.142Z"
   },
   {
    "duration": 128,
    "start_time": "2025-01-25T02:07:02.153Z"
   },
   {
    "duration": 101,
    "start_time": "2025-01-25T02:07:02.282Z"
   },
   {
    "duration": 29,
    "start_time": "2025-01-25T02:07:02.385Z"
   },
   {
    "duration": 6,
    "start_time": "2025-01-25T02:07:02.426Z"
   },
   {
    "duration": 15,
    "start_time": "2025-01-25T02:07:02.434Z"
   },
   {
    "duration": 56,
    "start_time": "2025-01-25T02:07:02.452Z"
   },
   {
    "duration": 16,
    "start_time": "2025-01-25T02:07:02.510Z"
   },
   {
    "duration": 5,
    "start_time": "2025-01-25T02:07:02.528Z"
   },
   {
    "duration": 22,
    "start_time": "2025-01-25T02:07:02.534Z"
   },
   {
    "duration": 11,
    "start_time": "2025-01-25T02:07:02.558Z"
   },
   {
    "duration": 6,
    "start_time": "2025-01-25T02:07:02.571Z"
   },
   {
    "duration": 6,
    "start_time": "2025-01-25T02:07:02.578Z"
   },
   {
    "duration": 4,
    "start_time": "2025-01-25T02:07:02.585Z"
   },
   {
    "duration": 6,
    "start_time": "2025-01-25T02:07:02.624Z"
   },
   {
    "duration": 4,
    "start_time": "2025-01-25T02:07:02.632Z"
   },
   {
    "duration": 2,
    "start_time": "2025-01-25T02:07:02.637Z"
   },
   {
    "duration": 5,
    "start_time": "2025-01-25T02:07:02.641Z"
   },
   {
    "duration": 8,
    "start_time": "2025-01-25T02:07:02.649Z"
   },
   {
    "duration": 4,
    "start_time": "2025-01-25T02:07:02.659Z"
   },
   {
    "duration": 9,
    "start_time": "2025-01-25T02:07:02.664Z"
   },
   {
    "duration": 5,
    "start_time": "2025-01-25T02:07:02.674Z"
   },
   {
    "duration": 845,
    "start_time": "2025-01-25T02:07:02.680Z"
   },
   {
    "duration": 757,
    "start_time": "2025-01-25T02:07:03.526Z"
   },
   {
    "duration": 655,
    "start_time": "2025-01-25T02:07:04.287Z"
   },
   {
    "duration": 2,
    "start_time": "2025-01-25T02:07:04.944Z"
   },
   {
    "duration": 13,
    "start_time": "2025-01-25T02:07:04.948Z"
   },
   {
    "duration": 81,
    "start_time": "2025-01-25T02:07:04.963Z"
   },
   {
    "duration": 29,
    "start_time": "2025-01-25T02:07:05.046Z"
   },
   {
    "duration": 16,
    "start_time": "2025-01-25T02:07:05.076Z"
   },
   {
    "duration": 37,
    "start_time": "2025-01-25T02:07:05.094Z"
   },
   {
    "duration": 156,
    "start_time": "2025-01-25T02:07:05.133Z"
   },
   {
    "duration": 151,
    "start_time": "2025-01-25T02:07:05.291Z"
   },
   {
    "duration": 120,
    "start_time": "2025-01-25T02:07:05.444Z"
   },
   {
    "duration": 125,
    "start_time": "2025-01-25T02:07:05.566Z"
   },
   {
    "duration": 124,
    "start_time": "2025-01-25T02:07:05.693Z"
   },
   {
    "duration": 155,
    "start_time": "2025-01-25T02:07:05.823Z"
   },
   {
    "duration": 202,
    "start_time": "2025-01-25T02:07:05.980Z"
   },
   {
    "duration": 0,
    "start_time": "2025-01-25T02:07:06.184Z"
   },
   {
    "duration": 0,
    "start_time": "2025-01-25T02:07:06.185Z"
   },
   {
    "duration": 0,
    "start_time": "2025-01-25T02:07:06.187Z"
   },
   {
    "duration": 160,
    "start_time": "2025-01-25T02:07:19.626Z"
   },
   {
    "duration": 121,
    "start_time": "2025-01-25T02:07:29.288Z"
   },
   {
    "duration": 161,
    "start_time": "2025-01-25T02:18:20.908Z"
   },
   {
    "duration": 430,
    "start_time": "2025-01-25T02:18:26.298Z"
   },
   {
    "duration": 214,
    "start_time": "2025-01-25T02:18:26.730Z"
   },
   {
    "duration": 102,
    "start_time": "2025-01-25T02:18:26.947Z"
   },
   {
    "duration": 10,
    "start_time": "2025-01-25T02:18:27.050Z"
   },
   {
    "duration": 123,
    "start_time": "2025-01-25T02:18:27.063Z"
   },
   {
    "duration": 108,
    "start_time": "2025-01-25T02:18:27.188Z"
   },
   {
    "duration": 38,
    "start_time": "2025-01-25T02:18:27.298Z"
   },
   {
    "duration": 8,
    "start_time": "2025-01-25T02:18:27.337Z"
   },
   {
    "duration": 16,
    "start_time": "2025-01-25T02:18:27.347Z"
   },
   {
    "duration": 61,
    "start_time": "2025-01-25T02:18:27.364Z"
   },
   {
    "duration": 14,
    "start_time": "2025-01-25T02:18:27.427Z"
   },
   {
    "duration": 6,
    "start_time": "2025-01-25T02:18:27.443Z"
   },
   {
    "duration": 25,
    "start_time": "2025-01-25T02:18:27.450Z"
   },
   {
    "duration": 12,
    "start_time": "2025-01-25T02:18:27.478Z"
   },
   {
    "duration": 46,
    "start_time": "2025-01-25T02:18:27.491Z"
   },
   {
    "duration": 8,
    "start_time": "2025-01-25T02:18:27.539Z"
   },
   {
    "duration": 4,
    "start_time": "2025-01-25T02:18:27.549Z"
   },
   {
    "duration": 6,
    "start_time": "2025-01-25T02:18:27.554Z"
   },
   {
    "duration": 4,
    "start_time": "2025-01-25T02:18:27.562Z"
   },
   {
    "duration": 2,
    "start_time": "2025-01-25T02:18:27.567Z"
   },
   {
    "duration": 5,
    "start_time": "2025-01-25T02:18:27.571Z"
   },
   {
    "duration": 10,
    "start_time": "2025-01-25T02:18:27.577Z"
   },
   {
    "duration": 38,
    "start_time": "2025-01-25T02:18:27.589Z"
   },
   {
    "duration": 11,
    "start_time": "2025-01-25T02:18:27.629Z"
   },
   {
    "duration": 4,
    "start_time": "2025-01-25T02:18:27.643Z"
   },
   {
    "duration": 860,
    "start_time": "2025-01-25T02:18:27.649Z"
   },
   {
    "duration": 843,
    "start_time": "2025-01-25T02:18:28.510Z"
   },
   {
    "duration": 739,
    "start_time": "2025-01-25T02:18:29.355Z"
   },
   {
    "duration": 2,
    "start_time": "2025-01-25T02:18:30.096Z"
   },
   {
    "duration": 27,
    "start_time": "2025-01-25T02:18:30.100Z"
   },
   {
    "duration": 62,
    "start_time": "2025-01-25T02:18:30.129Z"
   },
   {
    "duration": 43,
    "start_time": "2025-01-25T02:18:30.193Z"
   },
   {
    "duration": 17,
    "start_time": "2025-01-25T02:18:30.240Z"
   },
   {
    "duration": 18,
    "start_time": "2025-01-25T02:18:30.259Z"
   },
   {
    "duration": 176,
    "start_time": "2025-01-25T02:18:30.279Z"
   },
   {
    "duration": 168,
    "start_time": "2025-01-25T02:18:30.457Z"
   },
   {
    "duration": 125,
    "start_time": "2025-01-25T02:18:30.627Z"
   },
   {
    "duration": 128,
    "start_time": "2025-01-25T02:18:30.754Z"
   },
   {
    "duration": 146,
    "start_time": "2025-01-25T02:18:30.884Z"
   },
   {
    "duration": 160,
    "start_time": "2025-01-25T02:18:31.033Z"
   },
   {
    "duration": 199,
    "start_time": "2025-01-25T02:18:31.198Z"
   },
   {
    "duration": 0,
    "start_time": "2025-01-25T02:18:31.399Z"
   },
   {
    "duration": 0,
    "start_time": "2025-01-25T02:18:31.400Z"
   },
   {
    "duration": 153,
    "start_time": "2025-01-25T02:18:31.635Z"
   },
   {
    "duration": 138,
    "start_time": "2025-01-25T02:18:36.338Z"
   },
   {
    "duration": 63,
    "start_time": "2025-01-25T02:18:39.629Z"
   },
   {
    "duration": 153,
    "start_time": "2025-01-25T02:18:58.751Z"
   },
   {
    "duration": 14,
    "start_time": "2025-01-25T02:20:05.093Z"
   },
   {
    "duration": 15,
    "start_time": "2025-01-25T02:20:21.505Z"
   },
   {
    "duration": 399,
    "start_time": "2025-01-25T02:20:25.829Z"
   },
   {
    "duration": 10,
    "start_time": "2025-01-25T02:20:53.644Z"
   },
   {
    "duration": 682,
    "start_time": "2025-01-25T02:24:43.776Z"
   },
   {
    "duration": 701,
    "start_time": "2025-01-25T02:26:00.028Z"
   },
   {
    "duration": 838,
    "start_time": "2025-01-25T02:26:11.937Z"
   },
   {
    "duration": 1032,
    "start_time": "2025-01-25T02:26:30.583Z"
   },
   {
    "duration": 1049,
    "start_time": "2025-01-25T02:26:54.371Z"
   },
   {
    "duration": 1074,
    "start_time": "2025-01-25T02:28:43.209Z"
   },
   {
    "duration": 745,
    "start_time": "2025-01-25T02:29:19.380Z"
   },
   {
    "duration": 766,
    "start_time": "2025-01-25T02:29:43.811Z"
   },
   {
    "duration": 991,
    "start_time": "2025-01-25T02:30:03.017Z"
   },
   {
    "duration": 1347,
    "start_time": "2025-01-25T02:31:05.915Z"
   },
   {
    "duration": 1130,
    "start_time": "2025-01-25T02:31:53.330Z"
   },
   {
    "duration": 147,
    "start_time": "2025-01-25T02:34:59.910Z"
   },
   {
    "duration": 101,
    "start_time": "2025-01-25T02:37:00.771Z"
   },
   {
    "duration": 368,
    "start_time": "2025-01-25T02:39:42.138Z"
   },
   {
    "duration": 13,
    "start_time": "2025-01-25T02:39:59.728Z"
   },
   {
    "duration": 6,
    "start_time": "2025-01-25T02:40:41.954Z"
   },
   {
    "duration": 17,
    "start_time": "2025-01-25T02:40:47.137Z"
   },
   {
    "duration": 25,
    "start_time": "2025-01-25T02:42:51.402Z"
   },
   {
    "duration": 3,
    "start_time": "2025-01-25T02:44:53.373Z"
   },
   {
    "duration": 4,
    "start_time": "2025-01-25T02:44:59.177Z"
   },
   {
    "duration": 172,
    "start_time": "2025-01-25T02:46:22.882Z"
   },
   {
    "duration": 178,
    "start_time": "2025-01-25T02:47:22.996Z"
   },
   {
    "duration": 73,
    "start_time": "2025-01-25T02:47:56.098Z"
   },
   {
    "duration": 74,
    "start_time": "2025-01-25T02:48:10.843Z"
   },
   {
    "duration": 69,
    "start_time": "2025-01-25T02:48:16.786Z"
   },
   {
    "duration": 116,
    "start_time": "2025-01-25T02:48:31.735Z"
   },
   {
    "duration": 104,
    "start_time": "2025-01-25T02:48:36.319Z"
   },
   {
    "duration": 151,
    "start_time": "2025-01-25T02:48:43.133Z"
   },
   {
    "duration": 181,
    "start_time": "2025-01-25T02:48:56.053Z"
   },
   {
    "duration": 179,
    "start_time": "2025-01-25T02:49:03.782Z"
   },
   {
    "duration": 191,
    "start_time": "2025-01-25T02:49:37.619Z"
   },
   {
    "duration": 185,
    "start_time": "2025-01-25T02:50:38.349Z"
   },
   {
    "duration": 124,
    "start_time": "2025-01-25T02:51:16.151Z"
   },
   {
    "duration": 112,
    "start_time": "2025-01-25T02:51:27.631Z"
   },
   {
    "duration": 99,
    "start_time": "2025-01-25T02:52:23.137Z"
   },
   {
    "duration": 99,
    "start_time": "2025-01-25T02:52:40.107Z"
   },
   {
    "duration": 749,
    "start_time": "2025-01-25T02:52:45.345Z"
   },
   {
    "duration": 1187,
    "start_time": "2025-01-25T02:54:42.635Z"
   },
   {
    "duration": 780,
    "start_time": "2025-01-25T02:54:54.681Z"
   },
   {
    "duration": 734,
    "start_time": "2025-01-25T02:55:14.733Z"
   },
   {
    "duration": 706,
    "start_time": "2025-01-25T02:55:23.602Z"
   },
   {
    "duration": 200,
    "start_time": "2025-01-25T02:59:41.063Z"
   },
   {
    "duration": 104,
    "start_time": "2025-01-25T03:01:23.416Z"
   },
   {
    "duration": 813,
    "start_time": "2025-01-25T03:01:29.866Z"
   },
   {
    "duration": 91,
    "start_time": "2025-01-25T03:02:24.511Z"
   },
   {
    "duration": 92,
    "start_time": "2025-01-25T03:02:34.911Z"
   },
   {
    "duration": 105,
    "start_time": "2025-01-25T03:04:03.213Z"
   },
   {
    "duration": 93,
    "start_time": "2025-01-25T03:04:16.707Z"
   },
   {
    "duration": 100,
    "start_time": "2025-01-25T03:06:42.809Z"
   },
   {
    "duration": 726,
    "start_time": "2025-01-25T03:07:34.064Z"
   },
   {
    "duration": 663,
    "start_time": "2025-01-25T03:07:56.015Z"
   },
   {
    "duration": 448,
    "start_time": "2025-01-25T03:08:13.332Z"
   },
   {
    "duration": 174,
    "start_time": "2025-01-25T03:08:13.782Z"
   },
   {
    "duration": 111,
    "start_time": "2025-01-25T03:08:13.958Z"
   },
   {
    "duration": 10,
    "start_time": "2025-01-25T03:08:14.071Z"
   },
   {
    "duration": 116,
    "start_time": "2025-01-25T03:08:14.083Z"
   },
   {
    "duration": 104,
    "start_time": "2025-01-25T03:08:14.201Z"
   },
   {
    "duration": 38,
    "start_time": "2025-01-25T03:08:14.307Z"
   },
   {
    "duration": 7,
    "start_time": "2025-01-25T03:08:14.346Z"
   },
   {
    "duration": 15,
    "start_time": "2025-01-25T03:08:14.355Z"
   },
   {
    "duration": 56,
    "start_time": "2025-01-25T03:08:14.372Z"
   },
   {
    "duration": 12,
    "start_time": "2025-01-25T03:08:14.430Z"
   },
   {
    "duration": 7,
    "start_time": "2025-01-25T03:08:14.444Z"
   },
   {
    "duration": 23,
    "start_time": "2025-01-25T03:08:14.453Z"
   },
   {
    "duration": 10,
    "start_time": "2025-01-25T03:08:14.480Z"
   },
   {
    "duration": 35,
    "start_time": "2025-01-25T03:08:14.491Z"
   },
   {
    "duration": 6,
    "start_time": "2025-01-25T03:08:14.528Z"
   },
   {
    "duration": 3,
    "start_time": "2025-01-25T03:08:14.536Z"
   },
   {
    "duration": 6,
    "start_time": "2025-01-25T03:08:14.541Z"
   },
   {
    "duration": 4,
    "start_time": "2025-01-25T03:08:14.549Z"
   },
   {
    "duration": 2,
    "start_time": "2025-01-25T03:08:14.555Z"
   },
   {
    "duration": 6,
    "start_time": "2025-01-25T03:08:14.558Z"
   },
   {
    "duration": 9,
    "start_time": "2025-01-25T03:08:14.566Z"
   },
   {
    "duration": 4,
    "start_time": "2025-01-25T03:08:14.576Z"
   },
   {
    "duration": 45,
    "start_time": "2025-01-25T03:08:14.582Z"
   },
   {
    "duration": 4,
    "start_time": "2025-01-25T03:08:14.628Z"
   },
   {
    "duration": 728,
    "start_time": "2025-01-25T03:08:14.633Z"
   },
   {
    "duration": 754,
    "start_time": "2025-01-25T03:08:15.363Z"
   },
   {
    "duration": 693,
    "start_time": "2025-01-25T03:08:16.123Z"
   },
   {
    "duration": 2,
    "start_time": "2025-01-25T03:08:16.818Z"
   },
   {
    "duration": 13,
    "start_time": "2025-01-25T03:08:16.824Z"
   },
   {
    "duration": 62,
    "start_time": "2025-01-25T03:08:16.839Z"
   },
   {
    "duration": 48,
    "start_time": "2025-01-25T03:08:16.903Z"
   },
   {
    "duration": 17,
    "start_time": "2025-01-25T03:08:16.952Z"
   },
   {
    "duration": 17,
    "start_time": "2025-01-25T03:08:16.971Z"
   },
   {
    "duration": 188,
    "start_time": "2025-01-25T03:08:16.990Z"
   },
   {
    "duration": 150,
    "start_time": "2025-01-25T03:08:17.180Z"
   },
   {
    "duration": 129,
    "start_time": "2025-01-25T03:08:17.332Z"
   },
   {
    "duration": 132,
    "start_time": "2025-01-25T03:08:17.463Z"
   },
   {
    "duration": 132,
    "start_time": "2025-01-25T03:08:17.597Z"
   },
   {
    "duration": 164,
    "start_time": "2025-01-25T03:08:17.732Z"
   },
   {
    "duration": 30,
    "start_time": "2025-01-25T03:08:17.901Z"
   },
   {
    "duration": 402,
    "start_time": "2025-01-25T03:08:17.933Z"
   },
   {
    "duration": 157,
    "start_time": "2025-01-25T03:08:18.337Z"
   },
   {
    "duration": 889,
    "start_time": "2025-01-25T03:08:18.496Z"
   },
   {
    "duration": 703,
    "start_time": "2025-01-25T03:08:36.464Z"
   },
   {
    "duration": 1096,
    "start_time": "2025-01-25T03:10:35.867Z"
   },
   {
    "duration": 826,
    "start_time": "2025-01-25T03:11:36.513Z"
   },
   {
    "duration": 423,
    "start_time": "2025-01-25T03:11:48.674Z"
   },
   {
    "duration": 174,
    "start_time": "2025-01-25T03:11:49.099Z"
   },
   {
    "duration": 109,
    "start_time": "2025-01-25T03:11:49.274Z"
   },
   {
    "duration": 10,
    "start_time": "2025-01-25T03:11:49.385Z"
   },
   {
    "duration": 120,
    "start_time": "2025-01-25T03:11:49.398Z"
   },
   {
    "duration": 110,
    "start_time": "2025-01-25T03:11:49.519Z"
   },
   {
    "duration": 29,
    "start_time": "2025-01-25T03:11:49.631Z"
   },
   {
    "duration": 7,
    "start_time": "2025-01-25T03:11:49.661Z"
   },
   {
    "duration": 15,
    "start_time": "2025-01-25T03:11:49.669Z"
   },
   {
    "duration": 62,
    "start_time": "2025-01-25T03:11:49.685Z"
   },
   {
    "duration": 13,
    "start_time": "2025-01-25T03:11:49.749Z"
   },
   {
    "duration": 6,
    "start_time": "2025-01-25T03:11:49.764Z"
   },
   {
    "duration": 22,
    "start_time": "2025-01-25T03:11:49.772Z"
   },
   {
    "duration": 32,
    "start_time": "2025-01-25T03:11:49.798Z"
   },
   {
    "duration": 7,
    "start_time": "2025-01-25T03:11:49.831Z"
   },
   {
    "duration": 6,
    "start_time": "2025-01-25T03:11:49.840Z"
   },
   {
    "duration": 4,
    "start_time": "2025-01-25T03:11:49.848Z"
   },
   {
    "duration": 6,
    "start_time": "2025-01-25T03:11:49.853Z"
   },
   {
    "duration": 4,
    "start_time": "2025-01-25T03:11:49.861Z"
   },
   {
    "duration": 2,
    "start_time": "2025-01-25T03:11:49.867Z"
   },
   {
    "duration": 6,
    "start_time": "2025-01-25T03:11:49.870Z"
   },
   {
    "duration": 53,
    "start_time": "2025-01-25T03:11:49.878Z"
   },
   {
    "duration": 4,
    "start_time": "2025-01-25T03:11:49.933Z"
   },
   {
    "duration": 10,
    "start_time": "2025-01-25T03:11:49.939Z"
   },
   {
    "duration": 4,
    "start_time": "2025-01-25T03:11:49.950Z"
   },
   {
    "duration": 774,
    "start_time": "2025-01-25T03:11:49.956Z"
   },
   {
    "duration": 794,
    "start_time": "2025-01-25T03:11:50.732Z"
   },
   {
    "duration": 715,
    "start_time": "2025-01-25T03:11:51.528Z"
   },
   {
    "duration": 2,
    "start_time": "2025-01-25T03:11:52.246Z"
   },
   {
    "duration": 26,
    "start_time": "2025-01-25T03:11:52.249Z"
   },
   {
    "duration": 75,
    "start_time": "2025-01-25T03:11:52.277Z"
   },
   {
    "duration": 32,
    "start_time": "2025-01-25T03:11:52.354Z"
   },
   {
    "duration": 17,
    "start_time": "2025-01-25T03:11:52.388Z"
   },
   {
    "duration": 18,
    "start_time": "2025-01-25T03:11:52.424Z"
   },
   {
    "duration": 160,
    "start_time": "2025-01-25T03:11:52.444Z"
   },
   {
    "duration": 155,
    "start_time": "2025-01-25T03:11:52.606Z"
   },
   {
    "duration": 129,
    "start_time": "2025-01-25T03:11:52.764Z"
   },
   {
    "duration": 120,
    "start_time": "2025-01-25T03:11:52.895Z"
   },
   {
    "duration": 132,
    "start_time": "2025-01-25T03:11:53.017Z"
   },
   {
    "duration": 159,
    "start_time": "2025-01-25T03:11:53.151Z"
   },
   {
    "duration": 29,
    "start_time": "2025-01-25T03:11:53.314Z"
   },
   {
    "duration": 405,
    "start_time": "2025-01-25T03:11:53.345Z"
   },
   {
    "duration": 173,
    "start_time": "2025-01-25T03:11:53.752Z"
   },
   {
    "duration": 837,
    "start_time": "2025-01-25T03:11:53.926Z"
   },
   {
    "duration": 119,
    "start_time": "2025-01-25T03:11:54.765Z"
   },
   {
    "duration": 842,
    "start_time": "2025-01-25T03:12:12.523Z"
   },
   {
    "duration": 796,
    "start_time": "2025-01-25T03:13:00.110Z"
   },
   {
    "duration": 430,
    "start_time": "2025-01-25T03:13:34.572Z"
   },
   {
    "duration": 173,
    "start_time": "2025-01-25T03:13:35.004Z"
   },
   {
    "duration": 108,
    "start_time": "2025-01-25T03:13:35.179Z"
   },
   {
    "duration": 10,
    "start_time": "2025-01-25T03:13:35.289Z"
   },
   {
    "duration": 123,
    "start_time": "2025-01-25T03:13:35.301Z"
   },
   {
    "duration": 108,
    "start_time": "2025-01-25T03:13:35.426Z"
   },
   {
    "duration": 29,
    "start_time": "2025-01-25T03:13:35.536Z"
   },
   {
    "duration": 7,
    "start_time": "2025-01-25T03:13:35.567Z"
   },
   {
    "duration": 15,
    "start_time": "2025-01-25T03:13:35.576Z"
   },
   {
    "duration": 61,
    "start_time": "2025-01-25T03:13:35.592Z"
   },
   {
    "duration": 13,
    "start_time": "2025-01-25T03:13:35.655Z"
   },
   {
    "duration": 5,
    "start_time": "2025-01-25T03:13:35.670Z"
   },
   {
    "duration": 23,
    "start_time": "2025-01-25T03:13:35.676Z"
   },
   {
    "duration": 11,
    "start_time": "2025-01-25T03:13:35.723Z"
   },
   {
    "duration": 7,
    "start_time": "2025-01-25T03:13:35.735Z"
   },
   {
    "duration": 5,
    "start_time": "2025-01-25T03:13:35.744Z"
   },
   {
    "duration": 3,
    "start_time": "2025-01-25T03:13:35.751Z"
   },
   {
    "duration": 7,
    "start_time": "2025-01-25T03:13:35.756Z"
   },
   {
    "duration": 4,
    "start_time": "2025-01-25T03:13:35.764Z"
   },
   {
    "duration": 2,
    "start_time": "2025-01-25T03:13:35.770Z"
   },
   {
    "duration": 5,
    "start_time": "2025-01-25T03:13:35.774Z"
   },
   {
    "duration": 49,
    "start_time": "2025-01-25T03:13:35.781Z"
   },
   {
    "duration": 4,
    "start_time": "2025-01-25T03:13:35.832Z"
   },
   {
    "duration": 8,
    "start_time": "2025-01-25T03:13:35.837Z"
   },
   {
    "duration": 3,
    "start_time": "2025-01-25T03:13:35.846Z"
   },
   {
    "duration": 735,
    "start_time": "2025-01-25T03:13:35.851Z"
   },
   {
    "duration": 768,
    "start_time": "2025-01-25T03:13:36.589Z"
   },
   {
    "duration": 747,
    "start_time": "2025-01-25T03:13:37.359Z"
   },
   {
    "duration": 2,
    "start_time": "2025-01-25T03:13:38.108Z"
   },
   {
    "duration": 25,
    "start_time": "2025-01-25T03:13:38.112Z"
   },
   {
    "duration": 63,
    "start_time": "2025-01-25T03:13:38.139Z"
   },
   {
    "duration": 40,
    "start_time": "2025-01-25T03:13:38.204Z"
   },
   {
    "duration": 15,
    "start_time": "2025-01-25T03:13:38.246Z"
   },
   {
    "duration": 18,
    "start_time": "2025-01-25T03:13:38.263Z"
   },
   {
    "duration": 180,
    "start_time": "2025-01-25T03:13:38.283Z"
   },
   {
    "duration": 154,
    "start_time": "2025-01-25T03:13:38.465Z"
   },
   {
    "duration": 123,
    "start_time": "2025-01-25T03:13:38.623Z"
   },
   {
    "duration": 121,
    "start_time": "2025-01-25T03:13:38.748Z"
   },
   {
    "duration": 127,
    "start_time": "2025-01-25T03:13:38.871Z"
   },
   {
    "duration": 161,
    "start_time": "2025-01-25T03:13:39.001Z"
   },
   {
    "duration": 24,
    "start_time": "2025-01-25T03:13:39.165Z"
   },
   {
    "duration": 374,
    "start_time": "2025-01-25T03:13:39.191Z"
   },
   {
    "duration": 166,
    "start_time": "2025-01-25T03:13:39.567Z"
   },
   {
    "duration": 798,
    "start_time": "2025-01-25T03:13:39.735Z"
   },
   {
    "duration": 121,
    "start_time": "2025-01-25T03:14:42.563Z"
   },
   {
    "duration": 4,
    "start_time": "2025-01-25T03:16:30.108Z"
   },
   {
    "duration": 5,
    "start_time": "2025-01-25T03:16:34.848Z"
   },
   {
    "duration": 4,
    "start_time": "2025-01-25T03:20:00.084Z"
   },
   {
    "duration": 26,
    "start_time": "2025-01-25T03:21:34.480Z"
   },
   {
    "duration": 191,
    "start_time": "2025-01-25T03:21:53.604Z"
   },
   {
    "duration": 17,
    "start_time": "2025-01-25T03:21:57.600Z"
   },
   {
    "duration": 26,
    "start_time": "2025-01-25T03:22:02.090Z"
   },
   {
    "duration": 359,
    "start_time": "2025-01-25T03:22:18.468Z"
   },
   {
    "duration": 2147,
    "start_time": "2025-01-26T00:24:20.827Z"
   },
   {
    "duration": 159,
    "start_time": "2025-01-26T00:24:22.976Z"
   },
   {
    "duration": 107,
    "start_time": "2025-01-26T00:24:23.137Z"
   },
   {
    "duration": 11,
    "start_time": "2025-01-26T00:24:23.245Z"
   },
   {
    "duration": 116,
    "start_time": "2025-01-26T00:24:23.259Z"
   },
   {
    "duration": 101,
    "start_time": "2025-01-26T00:24:23.376Z"
   },
   {
    "duration": 29,
    "start_time": "2025-01-26T00:24:23.479Z"
   },
   {
    "duration": 20,
    "start_time": "2025-01-26T00:24:23.509Z"
   },
   {
    "duration": 14,
    "start_time": "2025-01-26T00:24:23.530Z"
   },
   {
    "duration": 59,
    "start_time": "2025-01-26T00:24:23.546Z"
   },
   {
    "duration": 13,
    "start_time": "2025-01-26T00:24:23.607Z"
   },
   {
    "duration": 5,
    "start_time": "2025-01-26T00:24:23.622Z"
   },
   {
    "duration": 22,
    "start_time": "2025-01-26T00:24:23.628Z"
   },
   {
    "duration": 11,
    "start_time": "2025-01-26T00:24:23.653Z"
   },
   {
    "duration": 7,
    "start_time": "2025-01-26T00:24:23.665Z"
   },
   {
    "duration": 6,
    "start_time": "2025-01-26T00:24:23.674Z"
   },
   {
    "duration": 43,
    "start_time": "2025-01-26T00:24:23.681Z"
   },
   {
    "duration": 6,
    "start_time": "2025-01-26T00:24:23.726Z"
   },
   {
    "duration": 3,
    "start_time": "2025-01-26T00:24:23.735Z"
   },
   {
    "duration": 2,
    "start_time": "2025-01-26T00:24:23.740Z"
   },
   {
    "duration": 6,
    "start_time": "2025-01-26T00:24:23.744Z"
   },
   {
    "duration": 10,
    "start_time": "2025-01-26T00:24:23.752Z"
   },
   {
    "duration": 4,
    "start_time": "2025-01-26T00:24:23.764Z"
   },
   {
    "duration": 10,
    "start_time": "2025-01-26T00:24:23.770Z"
   },
   {
    "duration": 3,
    "start_time": "2025-01-26T00:24:23.781Z"
   },
   {
    "duration": 821,
    "start_time": "2025-01-26T00:24:23.786Z"
   },
   {
    "duration": 988,
    "start_time": "2025-01-26T00:24:24.610Z"
   },
   {
    "duration": 800,
    "start_time": "2025-01-26T00:24:25.600Z"
   },
   {
    "duration": 3,
    "start_time": "2025-01-26T00:24:26.401Z"
   },
   {
    "duration": 25,
    "start_time": "2025-01-26T00:24:26.406Z"
   },
   {
    "duration": 63,
    "start_time": "2025-01-26T00:24:26.434Z"
   },
   {
    "duration": 43,
    "start_time": "2025-01-26T00:24:26.499Z"
   },
   {
    "duration": 20,
    "start_time": "2025-01-26T00:24:26.544Z"
   },
   {
    "duration": 23,
    "start_time": "2025-01-26T00:24:26.566Z"
   },
   {
    "duration": 241,
    "start_time": "2025-01-26T00:24:26.591Z"
   },
   {
    "duration": 161,
    "start_time": "2025-01-26T00:24:26.834Z"
   },
   {
    "duration": 149,
    "start_time": "2025-01-26T00:24:26.997Z"
   },
   {
    "duration": 129,
    "start_time": "2025-01-26T00:24:27.148Z"
   },
   {
    "duration": 132,
    "start_time": "2025-01-26T00:24:27.279Z"
   },
   {
    "duration": 233,
    "start_time": "2025-01-26T00:24:27.413Z"
   },
   {
    "duration": 634,
    "start_time": "2025-01-26T00:24:27.650Z"
   },
   {
    "duration": 0,
    "start_time": "2025-01-26T00:24:28.286Z"
   },
   {
    "duration": 0,
    "start_time": "2025-01-26T00:24:28.289Z"
   },
   {
    "duration": 0,
    "start_time": "2025-01-26T00:24:28.290Z"
   },
   {
    "duration": 102,
    "start_time": "2025-01-26T00:24:29.304Z"
   },
   {
    "duration": 398,
    "start_time": "2025-01-26T00:24:47.793Z"
   },
   {
    "duration": 155,
    "start_time": "2025-01-26T00:24:51.610Z"
   },
   {
    "duration": 104,
    "start_time": "2025-01-26T00:24:54.998Z"
   },
   {
    "duration": 5,
    "start_time": "2025-01-26T00:25:31.233Z"
   },
   {
    "duration": 12,
    "start_time": "2025-01-26T00:26:37.206Z"
   },
   {
    "duration": 8,
    "start_time": "2025-01-26T00:26:42.441Z"
   },
   {
    "duration": 7,
    "start_time": "2025-01-26T00:27:24.094Z"
   },
   {
    "duration": 482,
    "start_time": "2025-01-26T00:28:56.121Z"
   },
   {
    "duration": 475,
    "start_time": "2025-01-26T00:30:32.510Z"
   },
   {
    "duration": 475,
    "start_time": "2025-01-26T00:30:52.286Z"
   },
   {
    "duration": 5,
    "start_time": "2025-01-26T00:31:55.962Z"
   },
   {
    "duration": 485,
    "start_time": "2025-01-26T00:32:54.001Z"
   },
   {
    "duration": 483,
    "start_time": "2025-01-26T00:34:48.113Z"
   },
   {
    "duration": 7,
    "start_time": "2025-01-26T00:35:08.237Z"
   },
   {
    "duration": 580,
    "start_time": "2025-01-26T00:41:33.195Z"
   },
   {
    "duration": 4,
    "start_time": "2025-01-26T00:42:07.361Z"
   },
   {
    "duration": 123,
    "start_time": "2025-01-26T00:42:39.243Z"
   },
   {
    "duration": 488,
    "start_time": "2025-01-26T00:47:37.592Z"
   },
   {
    "duration": 487,
    "start_time": "2025-01-26T00:53:02.609Z"
   },
   {
    "duration": 525,
    "start_time": "2025-01-26T00:53:57.532Z"
   },
   {
    "duration": 893,
    "start_time": "2025-01-26T00:55:47.529Z"
   },
   {
    "duration": 586,
    "start_time": "2025-01-26T00:56:09.690Z"
   },
   {
    "duration": 42,
    "start_time": "2025-01-26T00:57:29.726Z"
   },
   {
    "duration": 45,
    "start_time": "2025-01-26T00:57:37.394Z"
   },
   {
    "duration": 59,
    "start_time": "2025-01-26T00:58:13.693Z"
   },
   {
    "duration": 38,
    "start_time": "2025-01-26T00:58:42.698Z"
   },
   {
    "duration": 57,
    "start_time": "2025-01-26T00:59:19.508Z"
   },
   {
    "duration": 2154,
    "start_time": "2025-01-26T11:14:42.506Z"
   },
   {
    "duration": 159,
    "start_time": "2025-01-26T11:14:44.662Z"
   },
   {
    "duration": 101,
    "start_time": "2025-01-26T11:14:44.823Z"
   },
   {
    "duration": 10,
    "start_time": "2025-01-26T11:14:44.926Z"
   },
   {
    "duration": 115,
    "start_time": "2025-01-26T11:14:44.938Z"
   },
   {
    "duration": 101,
    "start_time": "2025-01-26T11:14:45.054Z"
   },
   {
    "duration": 38,
    "start_time": "2025-01-26T11:14:45.157Z"
   },
   {
    "duration": 7,
    "start_time": "2025-01-26T11:14:45.197Z"
   },
   {
    "duration": 15,
    "start_time": "2025-01-26T11:14:45.206Z"
   },
   {
    "duration": 60,
    "start_time": "2025-01-26T11:14:45.224Z"
   },
   {
    "duration": 12,
    "start_time": "2025-01-26T11:14:45.285Z"
   },
   {
    "duration": 5,
    "start_time": "2025-01-26T11:14:45.299Z"
   },
   {
    "duration": 23,
    "start_time": "2025-01-26T11:14:45.305Z"
   },
   {
    "duration": 11,
    "start_time": "2025-01-26T11:14:45.329Z"
   },
   {
    "duration": 31,
    "start_time": "2025-01-26T11:14:45.341Z"
   },
   {
    "duration": 7,
    "start_time": "2025-01-26T11:14:45.374Z"
   },
   {
    "duration": 3,
    "start_time": "2025-01-26T11:14:45.383Z"
   },
   {
    "duration": 5,
    "start_time": "2025-01-26T11:14:45.388Z"
   },
   {
    "duration": 6,
    "start_time": "2025-01-26T11:14:45.395Z"
   },
   {
    "duration": 3,
    "start_time": "2025-01-26T11:14:45.403Z"
   },
   {
    "duration": 5,
    "start_time": "2025-01-26T11:14:45.409Z"
   },
   {
    "duration": 11,
    "start_time": "2025-01-26T11:14:45.416Z"
   },
   {
    "duration": 4,
    "start_time": "2025-01-26T11:14:45.428Z"
   },
   {
    "duration": 10,
    "start_time": "2025-01-26T11:14:45.471Z"
   },
   {
    "duration": 4,
    "start_time": "2025-01-26T11:14:45.482Z"
   },
   {
    "duration": 778,
    "start_time": "2025-01-26T11:14:45.488Z"
   },
   {
    "duration": 827,
    "start_time": "2025-01-26T11:14:46.267Z"
   },
   {
    "duration": 672,
    "start_time": "2025-01-26T11:14:47.099Z"
   },
   {
    "duration": 4,
    "start_time": "2025-01-26T11:14:47.772Z"
   },
   {
    "duration": 14,
    "start_time": "2025-01-26T11:14:47.777Z"
   },
   {
    "duration": 79,
    "start_time": "2025-01-26T11:14:47.793Z"
   },
   {
    "duration": 29,
    "start_time": "2025-01-26T11:14:47.874Z"
   },
   {
    "duration": 16,
    "start_time": "2025-01-26T11:14:47.905Z"
   },
   {
    "duration": 18,
    "start_time": "2025-01-26T11:14:47.923Z"
   },
   {
    "duration": 218,
    "start_time": "2025-01-26T11:14:47.943Z"
   },
   {
    "duration": 149,
    "start_time": "2025-01-26T11:14:48.170Z"
   },
   {
    "duration": 129,
    "start_time": "2025-01-26T11:14:48.321Z"
   },
   {
    "duration": 122,
    "start_time": "2025-01-26T11:14:48.452Z"
   },
   {
    "duration": 126,
    "start_time": "2025-01-26T11:14:48.577Z"
   },
   {
    "duration": 155,
    "start_time": "2025-01-26T11:14:48.707Z"
   },
   {
    "duration": 536,
    "start_time": "2025-01-26T11:14:48.870Z"
   },
   {
    "duration": 0,
    "start_time": "2025-01-26T11:14:49.408Z"
   },
   {
    "duration": 0,
    "start_time": "2025-01-26T11:14:49.409Z"
   },
   {
    "duration": 0,
    "start_time": "2025-01-26T11:14:49.410Z"
   },
   {
    "duration": 0,
    "start_time": "2025-01-26T11:14:49.411Z"
   },
   {
    "duration": 0,
    "start_time": "2025-01-26T11:14:49.412Z"
   },
   {
    "duration": 0,
    "start_time": "2025-01-26T11:14:49.413Z"
   },
   {
    "duration": 0,
    "start_time": "2025-01-26T11:14:49.414Z"
   },
   {
    "duration": 124,
    "start_time": "2025-01-26T11:15:21.158Z"
   },
   {
    "duration": 4,
    "start_time": "2025-01-26T11:15:23.529Z"
   },
   {
    "duration": 429,
    "start_time": "2025-01-26T11:15:29.019Z"
   },
   {
    "duration": 14,
    "start_time": "2025-01-26T11:15:34.865Z"
   },
   {
    "duration": 86,
    "start_time": "2025-01-26T11:15:58.112Z"
   },
   {
    "duration": 38,
    "start_time": "2025-01-26T11:16:03.647Z"
   },
   {
    "duration": 103,
    "start_time": "2025-01-26T11:16:31.536Z"
   },
   {
    "duration": 355,
    "start_time": "2025-01-26T11:16:34.180Z"
   },
   {
    "duration": 37,
    "start_time": "2025-01-26T11:16:41.717Z"
   },
   {
    "duration": 90,
    "start_time": "2025-01-26T11:17:07.127Z"
   },
   {
    "duration": 118,
    "start_time": "2025-01-26T11:18:34.429Z"
   },
   {
    "duration": 107,
    "start_time": "2025-01-26T11:18:43.695Z"
   },
   {
    "duration": 333,
    "start_time": "2025-01-26T11:20:18.449Z"
   },
   {
    "duration": 517,
    "start_time": "2025-01-26T16:35:51.230Z"
   },
   {
    "duration": 195,
    "start_time": "2025-01-26T16:35:51.749Z"
   },
   {
    "duration": 101,
    "start_time": "2025-01-26T16:35:51.946Z"
   },
   {
    "duration": 10,
    "start_time": "2025-01-26T16:35:52.049Z"
   },
   {
    "duration": 114,
    "start_time": "2025-01-26T16:35:52.069Z"
   },
   {
    "duration": 100,
    "start_time": "2025-01-26T16:35:52.185Z"
   },
   {
    "duration": 30,
    "start_time": "2025-01-26T16:35:52.287Z"
   },
   {
    "duration": 7,
    "start_time": "2025-01-26T16:35:52.319Z"
   },
   {
    "duration": 43,
    "start_time": "2025-01-26T16:35:52.327Z"
   },
   {
    "duration": 59,
    "start_time": "2025-01-26T16:35:52.371Z"
   },
   {
    "duration": 14,
    "start_time": "2025-01-26T16:35:52.431Z"
   },
   {
    "duration": 5,
    "start_time": "2025-01-26T16:35:52.446Z"
   },
   {
    "duration": 25,
    "start_time": "2025-01-26T16:35:52.453Z"
   },
   {
    "duration": 14,
    "start_time": "2025-01-26T16:35:52.482Z"
   },
   {
    "duration": 7,
    "start_time": "2025-01-26T16:35:52.498Z"
   },
   {
    "duration": 6,
    "start_time": "2025-01-26T16:35:52.507Z"
   },
   {
    "duration": 4,
    "start_time": "2025-01-26T16:35:52.515Z"
   },
   {
    "duration": 6,
    "start_time": "2025-01-26T16:35:52.520Z"
   },
   {
    "duration": 4,
    "start_time": "2025-01-26T16:35:52.527Z"
   },
   {
    "duration": 40,
    "start_time": "2025-01-26T16:35:52.532Z"
   },
   {
    "duration": 6,
    "start_time": "2025-01-26T16:35:52.573Z"
   },
   {
    "duration": 11,
    "start_time": "2025-01-26T16:35:52.580Z"
   },
   {
    "duration": 3,
    "start_time": "2025-01-26T16:35:52.593Z"
   },
   {
    "duration": 10,
    "start_time": "2025-01-26T16:35:52.598Z"
   },
   {
    "duration": 4,
    "start_time": "2025-01-26T16:35:52.610Z"
   },
   {
    "duration": 788,
    "start_time": "2025-01-26T16:35:52.615Z"
   },
   {
    "duration": 784,
    "start_time": "2025-01-26T16:35:53.404Z"
   },
   {
    "duration": 682,
    "start_time": "2025-01-26T16:35:54.190Z"
   },
   {
    "duration": 2,
    "start_time": "2025-01-26T16:35:54.874Z"
   },
   {
    "duration": 14,
    "start_time": "2025-01-26T16:35:54.878Z"
   },
   {
    "duration": 82,
    "start_time": "2025-01-26T16:35:54.894Z"
   },
   {
    "duration": 28,
    "start_time": "2025-01-26T16:35:54.978Z"
   },
   {
    "duration": 16,
    "start_time": "2025-01-26T16:35:55.008Z"
   },
   {
    "duration": 17,
    "start_time": "2025-01-26T16:35:55.028Z"
   },
   {
    "duration": 176,
    "start_time": "2025-01-26T16:35:55.047Z"
   },
   {
    "duration": 154,
    "start_time": "2025-01-26T16:35:55.225Z"
   },
   {
    "duration": 124,
    "start_time": "2025-01-26T16:35:55.381Z"
   },
   {
    "duration": 125,
    "start_time": "2025-01-26T16:35:55.507Z"
   },
   {
    "duration": 128,
    "start_time": "2025-01-26T16:35:55.633Z"
   },
   {
    "duration": 156,
    "start_time": "2025-01-26T16:35:55.763Z"
   },
   {
    "duration": 113,
    "start_time": "2025-01-26T16:35:55.920Z"
   },
   {
    "duration": 545,
    "start_time": "2025-01-26T16:35:56.036Z"
   },
   {
    "duration": 415,
    "start_time": "2025-01-26T16:35:56.584Z"
   },
   {
    "duration": 235,
    "start_time": "2025-01-26T16:35:57.001Z"
   },
   {
    "duration": 510,
    "start_time": "2025-01-26T16:35:57.238Z"
   },
   {
    "duration": 47,
    "start_time": "2025-01-26T16:35:57.750Z"
   },
   {
    "duration": 2160,
    "start_time": "2025-01-26T19:16:48.225Z"
   },
   {
    "duration": 152,
    "start_time": "2025-01-26T19:16:50.387Z"
   },
   {
    "duration": 96,
    "start_time": "2025-01-26T19:16:50.540Z"
   },
   {
    "duration": 12,
    "start_time": "2025-01-26T19:16:50.638Z"
   },
   {
    "duration": 118,
    "start_time": "2025-01-26T19:16:50.653Z"
   },
   {
    "duration": 95,
    "start_time": "2025-01-26T19:16:50.773Z"
   },
   {
    "duration": 27,
    "start_time": "2025-01-26T19:16:50.870Z"
   },
   {
    "duration": 6,
    "start_time": "2025-01-26T19:16:50.899Z"
   },
   {
    "duration": 29,
    "start_time": "2025-01-26T19:16:50.907Z"
   },
   {
    "duration": 57,
    "start_time": "2025-01-26T19:16:50.938Z"
   },
   {
    "duration": 13,
    "start_time": "2025-01-26T19:16:50.997Z"
   },
   {
    "duration": 7,
    "start_time": "2025-01-26T19:16:51.012Z"
   },
   {
    "duration": 23,
    "start_time": "2025-01-26T19:16:51.024Z"
   },
   {
    "duration": 11,
    "start_time": "2025-01-26T19:16:51.050Z"
   },
   {
    "duration": 6,
    "start_time": "2025-01-26T19:16:51.062Z"
   },
   {
    "duration": 5,
    "start_time": "2025-01-26T19:16:51.070Z"
   },
   {
    "duration": 3,
    "start_time": "2025-01-26T19:16:51.077Z"
   },
   {
    "duration": 6,
    "start_time": "2025-01-26T19:16:51.082Z"
   },
   {
    "duration": 3,
    "start_time": "2025-01-26T19:16:51.124Z"
   },
   {
    "duration": 2,
    "start_time": "2025-01-26T19:16:51.129Z"
   },
   {
    "duration": 6,
    "start_time": "2025-01-26T19:16:51.133Z"
   },
   {
    "duration": 11,
    "start_time": "2025-01-26T19:16:51.140Z"
   },
   {
    "duration": 4,
    "start_time": "2025-01-26T19:16:51.152Z"
   },
   {
    "duration": 10,
    "start_time": "2025-01-26T19:16:51.158Z"
   },
   {
    "duration": 4,
    "start_time": "2025-01-26T19:16:51.169Z"
   },
   {
    "duration": 820,
    "start_time": "2025-01-26T19:16:51.175Z"
   },
   {
    "duration": 733,
    "start_time": "2025-01-26T19:16:51.997Z"
   },
   {
    "duration": 673,
    "start_time": "2025-01-26T19:16:52.732Z"
   },
   {
    "duration": 2,
    "start_time": "2025-01-26T19:16:53.407Z"
   },
   {
    "duration": 22,
    "start_time": "2025-01-26T19:16:53.411Z"
   },
   {
    "duration": 62,
    "start_time": "2025-01-26T19:16:53.434Z"
   },
   {
    "duration": 46,
    "start_time": "2025-01-26T19:16:53.498Z"
   },
   {
    "duration": 16,
    "start_time": "2025-01-26T19:16:53.546Z"
   },
   {
    "duration": 17,
    "start_time": "2025-01-26T19:16:53.563Z"
   },
   {
    "duration": 171,
    "start_time": "2025-01-26T19:16:53.582Z"
   },
   {
    "duration": 169,
    "start_time": "2025-01-26T19:16:53.755Z"
   },
   {
    "duration": 124,
    "start_time": "2025-01-26T19:16:53.926Z"
   },
   {
    "duration": 157,
    "start_time": "2025-01-26T19:16:54.051Z"
   },
   {
    "duration": 133,
    "start_time": "2025-01-26T19:16:54.209Z"
   },
   {
    "duration": 158,
    "start_time": "2025-01-26T19:16:54.343Z"
   },
   {
    "duration": 104,
    "start_time": "2025-01-26T19:16:54.505Z"
   },
   {
    "duration": 375,
    "start_time": "2025-01-26T19:16:54.611Z"
   },
   {
    "duration": 160,
    "start_time": "2025-01-26T19:16:54.987Z"
   },
   {
    "duration": 122,
    "start_time": "2025-01-26T19:16:55.148Z"
   },
   {
    "duration": 415,
    "start_time": "2025-01-26T19:16:55.271Z"
   },
   {
    "duration": 45,
    "start_time": "2025-01-26T19:16:55.688Z"
   },
   {
    "duration": 122,
    "start_time": "2025-01-26T19:17:28.532Z"
   },
   {
    "duration": 115,
    "start_time": "2025-01-26T19:17:37.041Z"
   },
   {
    "duration": 117,
    "start_time": "2025-01-26T19:17:42.677Z"
   },
   {
    "duration": 184,
    "start_time": "2025-01-26T19:21:42.543Z"
   },
   {
    "duration": 7,
    "start_time": "2025-01-26T19:21:50.515Z"
   },
   {
    "duration": 6,
    "start_time": "2025-01-26T19:22:20.115Z"
   },
   {
    "duration": 7,
    "start_time": "2025-01-26T19:22:42.614Z"
   },
   {
    "duration": 6,
    "start_time": "2025-01-26T19:23:47.480Z"
   },
   {
    "duration": 6,
    "start_time": "2025-01-26T19:25:19.343Z"
   },
   {
    "duration": 6,
    "start_time": "2025-01-26T19:25:37.859Z"
   },
   {
    "duration": 6,
    "start_time": "2025-01-26T19:25:44.752Z"
   },
   {
    "duration": 5,
    "start_time": "2025-01-26T19:26:43.822Z"
   },
   {
    "duration": 5,
    "start_time": "2025-01-26T19:26:51.845Z"
   },
   {
    "duration": 443,
    "start_time": "2025-01-26T19:27:04.944Z"
   },
   {
    "duration": 161,
    "start_time": "2025-01-26T19:27:05.389Z"
   },
   {
    "duration": 92,
    "start_time": "2025-01-26T19:27:05.552Z"
   },
   {
    "duration": 10,
    "start_time": "2025-01-26T19:27:05.646Z"
   },
   {
    "duration": 109,
    "start_time": "2025-01-26T19:27:05.659Z"
   },
   {
    "duration": 100,
    "start_time": "2025-01-26T19:27:05.770Z"
   },
   {
    "duration": 27,
    "start_time": "2025-01-26T19:27:05.872Z"
   },
   {
    "duration": 7,
    "start_time": "2025-01-26T19:27:05.900Z"
   },
   {
    "duration": 29,
    "start_time": "2025-01-26T19:27:05.908Z"
   },
   {
    "duration": 36,
    "start_time": "2025-01-26T19:27:05.939Z"
   },
   {
    "duration": 11,
    "start_time": "2025-01-26T19:27:05.977Z"
   },
   {
    "duration": 5,
    "start_time": "2025-01-26T19:27:05.990Z"
   },
   {
    "duration": 46,
    "start_time": "2025-01-26T19:27:05.996Z"
   },
   {
    "duration": 9,
    "start_time": "2025-01-26T19:27:06.046Z"
   },
   {
    "duration": 6,
    "start_time": "2025-01-26T19:27:06.057Z"
   },
   {
    "duration": 5,
    "start_time": "2025-01-26T19:27:06.065Z"
   },
   {
    "duration": 3,
    "start_time": "2025-01-26T19:27:06.072Z"
   },
   {
    "duration": 5,
    "start_time": "2025-01-26T19:27:06.077Z"
   },
   {
    "duration": 3,
    "start_time": "2025-01-26T19:27:06.084Z"
   },
   {
    "duration": 186,
    "start_time": "2025-01-26T19:27:06.124Z"
   },
   {
    "duration": 0,
    "start_time": "2025-01-26T19:27:06.312Z"
   },
   {
    "duration": 0,
    "start_time": "2025-01-26T19:27:06.314Z"
   },
   {
    "duration": 0,
    "start_time": "2025-01-26T19:27:06.315Z"
   },
   {
    "duration": 0,
    "start_time": "2025-01-26T19:27:06.324Z"
   },
   {
    "duration": 0,
    "start_time": "2025-01-26T19:27:06.325Z"
   },
   {
    "duration": 0,
    "start_time": "2025-01-26T19:27:06.327Z"
   },
   {
    "duration": 0,
    "start_time": "2025-01-26T19:27:06.329Z"
   },
   {
    "duration": 0,
    "start_time": "2025-01-26T19:27:06.331Z"
   },
   {
    "duration": 0,
    "start_time": "2025-01-26T19:27:06.332Z"
   },
   {
    "duration": 0,
    "start_time": "2025-01-26T19:27:06.333Z"
   },
   {
    "duration": 0,
    "start_time": "2025-01-26T19:27:06.334Z"
   },
   {
    "duration": 0,
    "start_time": "2025-01-26T19:27:06.335Z"
   },
   {
    "duration": 0,
    "start_time": "2025-01-26T19:27:06.336Z"
   },
   {
    "duration": 0,
    "start_time": "2025-01-26T19:27:06.337Z"
   },
   {
    "duration": 0,
    "start_time": "2025-01-26T19:27:06.338Z"
   },
   {
    "duration": 0,
    "start_time": "2025-01-26T19:27:06.339Z"
   },
   {
    "duration": 0,
    "start_time": "2025-01-26T19:27:06.340Z"
   },
   {
    "duration": 0,
    "start_time": "2025-01-26T19:27:06.341Z"
   },
   {
    "duration": 0,
    "start_time": "2025-01-26T19:27:06.342Z"
   },
   {
    "duration": 0,
    "start_time": "2025-01-26T19:27:06.343Z"
   },
   {
    "duration": 0,
    "start_time": "2025-01-26T19:27:06.344Z"
   },
   {
    "duration": 0,
    "start_time": "2025-01-26T19:27:06.345Z"
   },
   {
    "duration": 0,
    "start_time": "2025-01-26T19:27:06.346Z"
   },
   {
    "duration": 0,
    "start_time": "2025-01-26T19:27:06.348Z"
   },
   {
    "duration": 0,
    "start_time": "2025-01-26T19:27:06.350Z"
   },
   {
    "duration": 0,
    "start_time": "2025-01-26T19:27:06.351Z"
   },
   {
    "duration": 0,
    "start_time": "2025-01-26T19:27:06.352Z"
   },
   {
    "duration": 14,
    "start_time": "2025-01-26T19:27:18.402Z"
   },
   {
    "duration": 457,
    "start_time": "2025-01-26T19:27:27.747Z"
   },
   {
    "duration": 179,
    "start_time": "2025-01-26T19:27:28.207Z"
   },
   {
    "duration": 99,
    "start_time": "2025-01-26T19:27:28.387Z"
   },
   {
    "duration": 10,
    "start_time": "2025-01-26T19:27:28.487Z"
   },
   {
    "duration": 116,
    "start_time": "2025-01-26T19:27:28.500Z"
   },
   {
    "duration": 94,
    "start_time": "2025-01-26T19:27:28.618Z"
   },
   {
    "duration": 36,
    "start_time": "2025-01-26T19:27:28.713Z"
   },
   {
    "duration": 8,
    "start_time": "2025-01-26T19:27:28.751Z"
   },
   {
    "duration": 14,
    "start_time": "2025-01-26T19:27:28.760Z"
   },
   {
    "duration": 56,
    "start_time": "2025-01-26T19:27:28.776Z"
   },
   {
    "duration": 12,
    "start_time": "2025-01-26T19:27:28.834Z"
   },
   {
    "duration": 5,
    "start_time": "2025-01-26T19:27:28.847Z"
   },
   {
    "duration": 22,
    "start_time": "2025-01-26T19:27:28.854Z"
   },
   {
    "duration": 10,
    "start_time": "2025-01-26T19:27:28.880Z"
   },
   {
    "duration": 35,
    "start_time": "2025-01-26T19:27:28.891Z"
   },
   {
    "duration": 5,
    "start_time": "2025-01-26T19:27:28.928Z"
   },
   {
    "duration": 3,
    "start_time": "2025-01-26T19:27:28.935Z"
   },
   {
    "duration": 5,
    "start_time": "2025-01-26T19:27:28.940Z"
   },
   {
    "duration": 3,
    "start_time": "2025-01-26T19:27:28.947Z"
   },
   {
    "duration": 213,
    "start_time": "2025-01-26T19:27:28.952Z"
   },
   {
    "duration": 0,
    "start_time": "2025-01-26T19:27:29.168Z"
   },
   {
    "duration": 0,
    "start_time": "2025-01-26T19:27:29.169Z"
   },
   {
    "duration": 0,
    "start_time": "2025-01-26T19:27:29.171Z"
   },
   {
    "duration": 0,
    "start_time": "2025-01-26T19:27:29.172Z"
   },
   {
    "duration": 0,
    "start_time": "2025-01-26T19:27:29.173Z"
   },
   {
    "duration": 0,
    "start_time": "2025-01-26T19:27:29.174Z"
   },
   {
    "duration": 0,
    "start_time": "2025-01-26T19:27:29.175Z"
   },
   {
    "duration": 0,
    "start_time": "2025-01-26T19:27:29.176Z"
   },
   {
    "duration": 0,
    "start_time": "2025-01-26T19:27:29.177Z"
   },
   {
    "duration": 0,
    "start_time": "2025-01-26T19:27:29.178Z"
   },
   {
    "duration": 0,
    "start_time": "2025-01-26T19:27:29.180Z"
   },
   {
    "duration": 0,
    "start_time": "2025-01-26T19:27:29.181Z"
   },
   {
    "duration": 0,
    "start_time": "2025-01-26T19:27:29.182Z"
   },
   {
    "duration": 0,
    "start_time": "2025-01-26T19:27:29.182Z"
   },
   {
    "duration": 0,
    "start_time": "2025-01-26T19:27:29.184Z"
   },
   {
    "duration": 0,
    "start_time": "2025-01-26T19:27:29.184Z"
   },
   {
    "duration": 1,
    "start_time": "2025-01-26T19:27:29.185Z"
   },
   {
    "duration": 0,
    "start_time": "2025-01-26T19:27:29.186Z"
   },
   {
    "duration": 0,
    "start_time": "2025-01-26T19:27:29.188Z"
   },
   {
    "duration": 0,
    "start_time": "2025-01-26T19:27:29.189Z"
   },
   {
    "duration": 0,
    "start_time": "2025-01-26T19:27:29.190Z"
   },
   {
    "duration": 0,
    "start_time": "2025-01-26T19:27:29.223Z"
   },
   {
    "duration": 0,
    "start_time": "2025-01-26T19:27:29.224Z"
   },
   {
    "duration": 0,
    "start_time": "2025-01-26T19:27:29.226Z"
   },
   {
    "duration": 0,
    "start_time": "2025-01-26T19:27:29.226Z"
   },
   {
    "duration": 0,
    "start_time": "2025-01-26T19:27:29.228Z"
   },
   {
    "duration": 0,
    "start_time": "2025-01-26T19:27:29.229Z"
   },
   {
    "duration": 10,
    "start_time": "2025-01-26T19:28:18.698Z"
   },
   {
    "duration": 6,
    "start_time": "2025-01-26T19:28:21.723Z"
   },
   {
    "duration": 4,
    "start_time": "2025-01-26T19:28:37.595Z"
   },
   {
    "duration": 8,
    "start_time": "2025-01-26T19:28:38.543Z"
   },
   {
    "duration": 4,
    "start_time": "2025-01-26T19:28:39.440Z"
   },
   {
    "duration": 690,
    "start_time": "2025-01-26T19:28:40.285Z"
   },
   {
    "duration": 726,
    "start_time": "2025-01-26T19:28:41.650Z"
   },
   {
    "duration": 651,
    "start_time": "2025-01-26T19:28:42.378Z"
   },
   {
    "duration": 2,
    "start_time": "2025-01-26T19:28:43.936Z"
   },
   {
    "duration": 13,
    "start_time": "2025-01-26T19:28:46.543Z"
   },
   {
    "duration": 7,
    "start_time": "2025-01-26T19:29:48.211Z"
   },
   {
    "duration": 22,
    "start_time": "2025-01-26T19:30:19.592Z"
   },
   {
    "duration": 5,
    "start_time": "2025-01-26T19:30:27.113Z"
   },
   {
    "duration": 9,
    "start_time": "2025-01-26T19:30:50.583Z"
   },
   {
    "duration": 11,
    "start_time": "2025-01-26T19:32:23.510Z"
   },
   {
    "duration": 392,
    "start_time": "2025-01-26T19:32:36.825Z"
   },
   {
    "duration": 9,
    "start_time": "2025-01-26T19:32:45.801Z"
   },
   {
    "duration": 23,
    "start_time": "2025-01-26T19:33:09.567Z"
   },
   {
    "duration": 159,
    "start_time": "2025-01-26T21:51:27.056Z"
   },
   {
    "duration": 148,
    "start_time": "2025-01-26T21:51:55.207Z"
   },
   {
    "duration": 157,
    "start_time": "2025-01-26T21:53:25.926Z"
   },
   {
    "duration": 140,
    "start_time": "2025-01-26T21:54:49.671Z"
   },
   {
    "duration": 141,
    "start_time": "2025-01-26T22:00:59.369Z"
   },
   {
    "duration": 149,
    "start_time": "2025-01-26T22:01:11.540Z"
   },
   {
    "duration": 156,
    "start_time": "2025-01-26T22:02:17.441Z"
   },
   {
    "duration": 118,
    "start_time": "2025-01-26T22:02:45.725Z"
   },
   {
    "duration": 195,
    "start_time": "2025-01-26T22:07:32.090Z"
   },
   {
    "duration": 140,
    "start_time": "2025-01-26T22:08:13.237Z"
   },
   {
    "duration": 118,
    "start_time": "2025-01-26T22:10:12.513Z"
   },
   {
    "duration": 20,
    "start_time": "2025-01-26T22:20:33.931Z"
   },
   {
    "duration": 19,
    "start_time": "2025-01-26T22:20:34.623Z"
   },
   {
    "duration": 161,
    "start_time": "2025-01-26T22:20:40.919Z"
   },
   {
    "duration": 125,
    "start_time": "2025-01-26T22:23:34.178Z"
   },
   {
    "duration": 121,
    "start_time": "2025-01-26T22:23:38.932Z"
   },
   {
    "duration": 120,
    "start_time": "2025-01-26T22:23:46.009Z"
   },
   {
    "duration": 156,
    "start_time": "2025-01-26T22:24:45.902Z"
   },
   {
    "duration": 112,
    "start_time": "2025-01-26T22:25:29.006Z"
   },
   {
    "duration": 373,
    "start_time": "2025-01-26T22:26:03.439Z"
   },
   {
    "duration": 112,
    "start_time": "2025-01-26T22:27:19.611Z"
   },
   {
    "duration": 121,
    "start_time": "2025-01-26T22:27:22.476Z"
   },
   {
    "duration": 390,
    "start_time": "2025-01-26T22:27:30.198Z"
   },
   {
    "duration": 39,
    "start_time": "2025-01-26T22:27:32.936Z"
   },
   {
    "duration": 7,
    "start_time": "2025-01-26T22:31:02.336Z"
   },
   {
    "duration": 2891,
    "start_time": "2025-01-27T02:13:20.093Z"
   },
   {
    "duration": 156,
    "start_time": "2025-01-27T02:13:22.987Z"
   },
   {
    "duration": 104,
    "start_time": "2025-01-27T02:13:23.146Z"
   },
   {
    "duration": 13,
    "start_time": "2025-01-27T02:13:23.253Z"
   },
   {
    "duration": 119,
    "start_time": "2025-01-27T02:13:23.268Z"
   },
   {
    "duration": 102,
    "start_time": "2025-01-27T02:13:23.389Z"
   },
   {
    "duration": 28,
    "start_time": "2025-01-27T02:13:23.492Z"
   },
   {
    "duration": 6,
    "start_time": "2025-01-27T02:13:23.522Z"
   },
   {
    "duration": 14,
    "start_time": "2025-01-27T02:13:23.530Z"
   },
   {
    "duration": 63,
    "start_time": "2025-01-27T02:13:23.547Z"
   },
   {
    "duration": 12,
    "start_time": "2025-01-27T02:13:23.612Z"
   },
   {
    "duration": 5,
    "start_time": "2025-01-27T02:13:23.625Z"
   },
   {
    "duration": 22,
    "start_time": "2025-01-27T02:13:23.632Z"
   },
   {
    "duration": 31,
    "start_time": "2025-01-27T02:13:23.656Z"
   },
   {
    "duration": 8,
    "start_time": "2025-01-27T02:13:23.689Z"
   },
   {
    "duration": 7,
    "start_time": "2025-01-27T02:13:23.699Z"
   },
   {
    "duration": 4,
    "start_time": "2025-01-27T02:13:23.707Z"
   },
   {
    "duration": 7,
    "start_time": "2025-01-27T02:13:23.712Z"
   },
   {
    "duration": 3,
    "start_time": "2025-01-27T02:13:23.721Z"
   },
   {
    "duration": 260,
    "start_time": "2025-01-27T02:13:23.726Z"
   },
   {
    "duration": 0,
    "start_time": "2025-01-27T02:13:23.989Z"
   },
   {
    "duration": 0,
    "start_time": "2025-01-27T02:13:23.990Z"
   },
   {
    "duration": 0,
    "start_time": "2025-01-27T02:13:23.991Z"
   },
   {
    "duration": 0,
    "start_time": "2025-01-27T02:13:23.993Z"
   },
   {
    "duration": 0,
    "start_time": "2025-01-27T02:13:23.994Z"
   },
   {
    "duration": 0,
    "start_time": "2025-01-27T02:13:23.996Z"
   },
   {
    "duration": 0,
    "start_time": "2025-01-27T02:13:23.997Z"
   },
   {
    "duration": 0,
    "start_time": "2025-01-27T02:13:23.999Z"
   },
   {
    "duration": 0,
    "start_time": "2025-01-27T02:13:24.000Z"
   },
   {
    "duration": 0,
    "start_time": "2025-01-27T02:13:24.002Z"
   },
   {
    "duration": 0,
    "start_time": "2025-01-27T02:13:24.003Z"
   },
   {
    "duration": 0,
    "start_time": "2025-01-27T02:13:24.005Z"
   },
   {
    "duration": 0,
    "start_time": "2025-01-27T02:13:24.006Z"
   },
   {
    "duration": 0,
    "start_time": "2025-01-27T02:13:24.007Z"
   },
   {
    "duration": 0,
    "start_time": "2025-01-27T02:13:24.009Z"
   },
   {
    "duration": 0,
    "start_time": "2025-01-27T02:13:24.010Z"
   },
   {
    "duration": 0,
    "start_time": "2025-01-27T02:13:24.011Z"
   },
   {
    "duration": 0,
    "start_time": "2025-01-27T02:13:24.012Z"
   },
   {
    "duration": 0,
    "start_time": "2025-01-27T02:13:24.013Z"
   },
   {
    "duration": 0,
    "start_time": "2025-01-27T02:13:24.014Z"
   },
   {
    "duration": 0,
    "start_time": "2025-01-27T02:13:24.015Z"
   },
   {
    "duration": 0,
    "start_time": "2025-01-27T02:13:24.016Z"
   },
   {
    "duration": 0,
    "start_time": "2025-01-27T02:13:24.016Z"
   },
   {
    "duration": 0,
    "start_time": "2025-01-27T02:13:24.019Z"
   },
   {
    "duration": 0,
    "start_time": "2025-01-27T02:13:24.020Z"
   },
   {
    "duration": 0,
    "start_time": "2025-01-27T02:13:24.021Z"
   },
   {
    "duration": 0,
    "start_time": "2025-01-27T02:13:24.022Z"
   },
   {
    "duration": 0,
    "start_time": "2025-01-27T02:13:24.024Z"
   },
   {
    "duration": 13,
    "start_time": "2025-01-27T02:13:46.083Z"
   },
   {
    "duration": 6,
    "start_time": "2025-01-27T02:13:57.569Z"
   },
   {
    "duration": 10,
    "start_time": "2025-01-27T02:13:57.577Z"
   },
   {
    "duration": 3,
    "start_time": "2025-01-27T02:13:57.589Z"
   },
   {
    "duration": 9,
    "start_time": "2025-01-27T02:13:57.595Z"
   },
   {
    "duration": 4,
    "start_time": "2025-01-27T02:13:57.605Z"
   },
   {
    "duration": 799,
    "start_time": "2025-01-27T02:13:57.610Z"
   },
   {
    "duration": 780,
    "start_time": "2025-01-27T02:13:58.411Z"
   },
   {
    "duration": 1038,
    "start_time": "2025-01-27T02:13:59.193Z"
   },
   {
    "duration": 6,
    "start_time": "2025-01-27T02:14:00.233Z"
   },
   {
    "duration": 22,
    "start_time": "2025-01-27T02:14:00.242Z"
   },
   {
    "duration": 25,
    "start_time": "2025-01-27T02:14:00.266Z"
   },
   {
    "duration": 62,
    "start_time": "2025-01-27T02:14:00.292Z"
   },
   {
    "duration": 49,
    "start_time": "2025-01-27T02:14:00.356Z"
   },
   {
    "duration": 16,
    "start_time": "2025-01-27T02:14:00.407Z"
   },
   {
    "duration": 18,
    "start_time": "2025-01-27T02:14:00.425Z"
   },
   {
    "duration": 192,
    "start_time": "2025-01-27T02:14:00.445Z"
   },
   {
    "duration": 162,
    "start_time": "2025-01-27T02:14:00.640Z"
   },
   {
    "duration": 161,
    "start_time": "2025-01-27T02:14:00.804Z"
   },
   {
    "duration": 131,
    "start_time": "2025-01-27T02:14:00.967Z"
   },
   {
    "duration": 133,
    "start_time": "2025-01-27T02:14:01.101Z"
   },
   {
    "duration": 158,
    "start_time": "2025-01-27T02:14:01.236Z"
   },
   {
    "duration": 125,
    "start_time": "2025-01-27T02:14:01.395Z"
   },
   {
    "duration": 382,
    "start_time": "2025-01-27T02:14:01.522Z"
   },
   {
    "duration": 157,
    "start_time": "2025-01-27T02:14:01.906Z"
   },
   {
    "duration": 126,
    "start_time": "2025-01-27T02:14:02.065Z"
   },
   {
    "duration": 395,
    "start_time": "2025-01-27T02:14:02.192Z"
   },
   {
    "duration": 36,
    "start_time": "2025-01-27T02:14:02.589Z"
   },
   {
    "duration": 2202,
    "start_time": "2025-01-27T10:16:38.388Z"
   },
   {
    "duration": 168,
    "start_time": "2025-01-27T10:16:40.592Z"
   },
   {
    "duration": 110,
    "start_time": "2025-01-27T10:16:40.762Z"
   },
   {
    "duration": 11,
    "start_time": "2025-01-27T10:16:40.875Z"
   },
   {
    "duration": 130,
    "start_time": "2025-01-27T10:16:40.888Z"
   },
   {
    "duration": 116,
    "start_time": "2025-01-27T10:16:41.020Z"
   },
   {
    "duration": 33,
    "start_time": "2025-01-27T10:16:41.138Z"
   },
   {
    "duration": 8,
    "start_time": "2025-01-27T10:16:41.173Z"
   },
   {
    "duration": 32,
    "start_time": "2025-01-27T10:16:41.183Z"
   },
   {
    "duration": 12,
    "start_time": "2025-01-27T10:16:41.219Z"
   },
   {
    "duration": 4,
    "start_time": "2025-01-27T10:16:41.233Z"
   },
   {
    "duration": 60,
    "start_time": "2025-01-27T10:16:41.238Z"
   },
   {
    "duration": 21,
    "start_time": "2025-01-27T10:16:41.300Z"
   },
   {
    "duration": 7,
    "start_time": "2025-01-27T10:16:41.322Z"
   },
   {
    "duration": 25,
    "start_time": "2025-01-27T10:16:41.330Z"
   },
   {
    "duration": 12,
    "start_time": "2025-01-27T10:16:41.357Z"
   },
   {
    "duration": 40,
    "start_time": "2025-01-27T10:16:41.371Z"
   },
   {
    "duration": 6,
    "start_time": "2025-01-27T10:16:41.414Z"
   },
   {
    "duration": 4,
    "start_time": "2025-01-27T10:16:41.422Z"
   },
   {
    "duration": 8,
    "start_time": "2025-01-27T10:16:41.428Z"
   },
   {
    "duration": 4,
    "start_time": "2025-01-27T10:16:41.437Z"
   },
   {
    "duration": 7,
    "start_time": "2025-01-27T10:16:41.444Z"
   },
   {
    "duration": 276,
    "start_time": "2025-01-27T10:16:41.453Z"
   },
   {
    "duration": 0,
    "start_time": "2025-01-27T10:16:41.732Z"
   },
   {
    "duration": 0,
    "start_time": "2025-01-27T10:16:41.734Z"
   },
   {
    "duration": 0,
    "start_time": "2025-01-27T10:16:41.735Z"
   },
   {
    "duration": 0,
    "start_time": "2025-01-27T10:16:41.737Z"
   },
   {
    "duration": 0,
    "start_time": "2025-01-27T10:16:41.738Z"
   },
   {
    "duration": 0,
    "start_time": "2025-01-27T10:16:41.740Z"
   },
   {
    "duration": 0,
    "start_time": "2025-01-27T10:16:41.741Z"
   },
   {
    "duration": 0,
    "start_time": "2025-01-27T10:16:41.743Z"
   },
   {
    "duration": 0,
    "start_time": "2025-01-27T10:16:41.744Z"
   },
   {
    "duration": 0,
    "start_time": "2025-01-27T10:16:41.746Z"
   },
   {
    "duration": 0,
    "start_time": "2025-01-27T10:16:41.747Z"
   },
   {
    "duration": 0,
    "start_time": "2025-01-27T10:16:41.749Z"
   },
   {
    "duration": 0,
    "start_time": "2025-01-27T10:16:41.750Z"
   },
   {
    "duration": 0,
    "start_time": "2025-01-27T10:16:41.751Z"
   },
   {
    "duration": 0,
    "start_time": "2025-01-27T10:16:41.752Z"
   },
   {
    "duration": 0,
    "start_time": "2025-01-27T10:16:41.753Z"
   },
   {
    "duration": 0,
    "start_time": "2025-01-27T10:16:41.754Z"
   },
   {
    "duration": 0,
    "start_time": "2025-01-27T10:16:41.755Z"
   },
   {
    "duration": 0,
    "start_time": "2025-01-27T10:16:41.756Z"
   },
   {
    "duration": 0,
    "start_time": "2025-01-27T10:16:41.757Z"
   },
   {
    "duration": 0,
    "start_time": "2025-01-27T10:16:41.758Z"
   },
   {
    "duration": 0,
    "start_time": "2025-01-27T10:16:41.759Z"
   },
   {
    "duration": 0,
    "start_time": "2025-01-27T10:16:41.760Z"
   },
   {
    "duration": 0,
    "start_time": "2025-01-27T10:16:41.762Z"
   },
   {
    "duration": 0,
    "start_time": "2025-01-27T10:16:41.763Z"
   },
   {
    "duration": 8,
    "start_time": "2025-01-27T10:17:07.789Z"
   },
   {
    "duration": 25,
    "start_time": "2025-01-27T10:17:09.197Z"
   },
   {
    "duration": 14,
    "start_time": "2025-01-27T10:21:32.103Z"
   },
   {
    "duration": 12,
    "start_time": "2025-01-27T10:21:41.137Z"
   },
   {
    "duration": 449,
    "start_time": "2025-01-27T10:21:50.527Z"
   },
   {
    "duration": 169,
    "start_time": "2025-01-27T10:21:50.980Z"
   },
   {
    "duration": 105,
    "start_time": "2025-01-27T10:21:51.150Z"
   },
   {
    "duration": 11,
    "start_time": "2025-01-27T10:21:51.257Z"
   },
   {
    "duration": 117,
    "start_time": "2025-01-27T10:21:51.271Z"
   },
   {
    "duration": 100,
    "start_time": "2025-01-27T10:21:51.390Z"
   },
   {
    "duration": 39,
    "start_time": "2025-01-27T10:21:51.492Z"
   },
   {
    "duration": 7,
    "start_time": "2025-01-27T10:21:51.533Z"
   },
   {
    "duration": 15,
    "start_time": "2025-01-27T10:21:51.541Z"
   },
   {
    "duration": 8,
    "start_time": "2025-01-27T10:21:51.558Z"
   },
   {
    "duration": 4,
    "start_time": "2025-01-27T10:21:51.569Z"
   },
   {
    "duration": 65,
    "start_time": "2025-01-27T10:21:51.574Z"
   },
   {
    "duration": 12,
    "start_time": "2025-01-27T10:21:51.640Z"
   },
   {
    "duration": 5,
    "start_time": "2025-01-27T10:21:51.656Z"
   },
   {
    "duration": 21,
    "start_time": "2025-01-27T10:21:51.663Z"
   },
   {
    "duration": 31,
    "start_time": "2025-01-27T10:21:51.686Z"
   },
   {
    "duration": 6,
    "start_time": "2025-01-27T10:21:51.718Z"
   },
   {
    "duration": 6,
    "start_time": "2025-01-27T10:21:51.725Z"
   },
   {
    "duration": 3,
    "start_time": "2025-01-27T10:21:51.732Z"
   },
   {
    "duration": 6,
    "start_time": "2025-01-27T10:21:51.737Z"
   },
   {
    "duration": 3,
    "start_time": "2025-01-27T10:21:51.745Z"
   },
   {
    "duration": 5,
    "start_time": "2025-01-27T10:21:51.750Z"
   },
   {
    "duration": 229,
    "start_time": "2025-01-27T10:21:51.757Z"
   },
   {
    "duration": 0,
    "start_time": "2025-01-27T10:21:51.988Z"
   },
   {
    "duration": 0,
    "start_time": "2025-01-27T10:21:51.989Z"
   },
   {
    "duration": 0,
    "start_time": "2025-01-27T10:21:51.990Z"
   },
   {
    "duration": 0,
    "start_time": "2025-01-27T10:21:51.991Z"
   },
   {
    "duration": 0,
    "start_time": "2025-01-27T10:21:51.992Z"
   },
   {
    "duration": 0,
    "start_time": "2025-01-27T10:21:52.009Z"
   },
   {
    "duration": 0,
    "start_time": "2025-01-27T10:21:52.010Z"
   },
   {
    "duration": 0,
    "start_time": "2025-01-27T10:21:52.011Z"
   },
   {
    "duration": 0,
    "start_time": "2025-01-27T10:21:52.013Z"
   },
   {
    "duration": 0,
    "start_time": "2025-01-27T10:21:52.014Z"
   },
   {
    "duration": 0,
    "start_time": "2025-01-27T10:21:52.016Z"
   },
   {
    "duration": 0,
    "start_time": "2025-01-27T10:21:52.016Z"
   },
   {
    "duration": 0,
    "start_time": "2025-01-27T10:21:52.017Z"
   },
   {
    "duration": 0,
    "start_time": "2025-01-27T10:21:52.018Z"
   },
   {
    "duration": 0,
    "start_time": "2025-01-27T10:21:52.019Z"
   },
   {
    "duration": 0,
    "start_time": "2025-01-27T10:21:52.020Z"
   },
   {
    "duration": 0,
    "start_time": "2025-01-27T10:21:52.021Z"
   },
   {
    "duration": 0,
    "start_time": "2025-01-27T10:21:52.022Z"
   },
   {
    "duration": 0,
    "start_time": "2025-01-27T10:21:52.024Z"
   },
   {
    "duration": 0,
    "start_time": "2025-01-27T10:21:52.025Z"
   },
   {
    "duration": 0,
    "start_time": "2025-01-27T10:21:52.027Z"
   },
   {
    "duration": 0,
    "start_time": "2025-01-27T10:21:52.029Z"
   },
   {
    "duration": 0,
    "start_time": "2025-01-27T10:21:52.030Z"
   },
   {
    "duration": 0,
    "start_time": "2025-01-27T10:21:52.031Z"
   },
   {
    "duration": 0,
    "start_time": "2025-01-27T10:21:52.032Z"
   },
   {
    "duration": 2,
    "start_time": "2025-01-27T10:21:58.739Z"
   },
   {
    "duration": 181,
    "start_time": "2025-01-27T10:21:58.933Z"
   },
   {
    "duration": 81,
    "start_time": "2025-01-27T10:21:59.288Z"
   },
   {
    "duration": 10,
    "start_time": "2025-01-27T10:21:59.655Z"
   },
   {
    "duration": 80,
    "start_time": "2025-01-27T10:21:59.810Z"
   },
   {
    "duration": 82,
    "start_time": "2025-01-27T10:21:59.985Z"
   },
   {
    "duration": 27,
    "start_time": "2025-01-27T10:22:00.147Z"
   },
   {
    "duration": 7,
    "start_time": "2025-01-27T10:22:00.327Z"
   },
   {
    "duration": 12,
    "start_time": "2025-01-27T10:22:00.662Z"
   },
   {
    "duration": 9,
    "start_time": "2025-01-27T10:22:01.310Z"
   },
   {
    "duration": 4,
    "start_time": "2025-01-27T10:22:01.633Z"
   },
   {
    "duration": 34,
    "start_time": "2025-01-27T10:22:01.935Z"
   },
   {
    "duration": 15,
    "start_time": "2025-01-27T10:22:02.235Z"
   },
   {
    "duration": 6,
    "start_time": "2025-01-27T10:22:02.387Z"
   },
   {
    "duration": 23,
    "start_time": "2025-01-27T10:22:02.536Z"
   },
   {
    "duration": 13,
    "start_time": "2025-01-27T10:22:02.820Z"
   },
   {
    "duration": 8,
    "start_time": "2025-01-27T10:22:02.985Z"
   },
   {
    "duration": 8,
    "start_time": "2025-01-27T10:22:03.743Z"
   },
   {
    "duration": 4,
    "start_time": "2025-01-27T10:22:05.214Z"
   },
   {
    "duration": 7,
    "start_time": "2025-01-27T10:22:05.612Z"
   },
   {
    "duration": 4,
    "start_time": "2025-01-27T10:22:06.649Z"
   },
   {
    "duration": 6,
    "start_time": "2025-01-27T10:22:06.980Z"
   },
   {
    "duration": 15,
    "start_time": "2025-01-27T10:22:07.312Z"
   },
   {
    "duration": 9,
    "start_time": "2025-01-27T10:23:35.478Z"
   },
   {
    "duration": 4,
    "start_time": "2025-01-27T10:23:36.228Z"
   },
   {
    "duration": 11,
    "start_time": "2025-01-27T10:23:36.740Z"
   },
   {
    "duration": 5,
    "start_time": "2025-01-27T10:23:37.163Z"
   },
   {
    "duration": 32,
    "start_time": "2025-01-27T10:23:37.919Z"
   },
   {
    "duration": 15,
    "start_time": "2025-01-27T10:23:38.611Z"
   },
   {
    "duration": 5,
    "start_time": "2025-01-27T10:23:38.813Z"
   },
   {
    "duration": 24,
    "start_time": "2025-01-27T10:23:39.044Z"
   },
   {
    "duration": 12,
    "start_time": "2025-01-27T10:23:39.720Z"
   },
   {
    "duration": 7,
    "start_time": "2025-01-27T10:23:40.033Z"
   },
   {
    "duration": 7,
    "start_time": "2025-01-27T10:23:40.933Z"
   },
   {
    "duration": 4,
    "start_time": "2025-01-27T10:23:42.116Z"
   },
   {
    "duration": 7,
    "start_time": "2025-01-27T10:23:42.447Z"
   },
   {
    "duration": 4,
    "start_time": "2025-01-27T10:23:42.970Z"
   },
   {
    "duration": 6,
    "start_time": "2025-01-27T10:23:43.236Z"
   },
   {
    "duration": 6,
    "start_time": "2025-01-27T10:23:43.620Z"
   },
   {
    "duration": 6,
    "start_time": "2025-01-27T10:23:45.031Z"
   },
   {
    "duration": 808,
    "start_time": "2025-01-27T10:23:48.806Z"
   },
   {
    "duration": 734,
    "start_time": "2025-01-27T10:23:49.951Z"
   },
   {
    "duration": 637,
    "start_time": "2025-01-27T10:23:50.687Z"
   },
   {
    "duration": 7,
    "start_time": "2025-01-27T10:23:52.188Z"
   },
   {
    "duration": 26,
    "start_time": "2025-01-27T10:23:53.008Z"
   },
   {
    "duration": 14,
    "start_time": "2025-01-27T10:23:54.112Z"
   },
   {
    "duration": 62,
    "start_time": "2025-01-27T10:23:57.061Z"
   },
   {
    "duration": 17,
    "start_time": "2025-01-27T10:27:37.848Z"
   },
   {
    "duration": 15,
    "start_time": "2025-01-27T10:27:42.167Z"
   },
   {
    "duration": 16,
    "start_time": "2025-01-27T10:28:05.286Z"
   },
   {
    "duration": 302,
    "start_time": "2025-01-27T10:28:48.383Z"
   },
   {
    "duration": 34,
    "start_time": "2025-01-27T10:29:09.955Z"
   },
   {
    "duration": 155,
    "start_time": "2025-01-27T10:29:51.599Z"
   },
   {
    "duration": 8,
    "start_time": "2025-01-27T10:30:53.386Z"
   },
   {
    "duration": 11,
    "start_time": "2025-01-27T10:31:00.029Z"
   },
   {
    "duration": 6,
    "start_time": "2025-01-27T10:31:46.790Z"
   },
   {
    "duration": 8,
    "start_time": "2025-01-27T10:31:52.009Z"
   },
   {
    "duration": 11,
    "start_time": "2025-01-27T10:32:16.216Z"
   },
   {
    "duration": 428,
    "start_time": "2025-01-27T17:06:59.923Z"
   },
   {
    "duration": 229,
    "start_time": "2025-01-27T17:07:00.353Z"
   },
   {
    "duration": 117,
    "start_time": "2025-01-27T17:07:00.587Z"
   },
   {
    "duration": 12,
    "start_time": "2025-01-27T17:07:00.707Z"
   },
   {
    "duration": 112,
    "start_time": "2025-01-27T17:07:00.721Z"
   },
   {
    "duration": 113,
    "start_time": "2025-01-27T17:07:00.835Z"
   },
   {
    "duration": 42,
    "start_time": "2025-01-27T17:07:00.950Z"
   },
   {
    "duration": 7,
    "start_time": "2025-01-27T17:07:00.994Z"
   },
   {
    "duration": 15,
    "start_time": "2025-01-27T17:07:01.003Z"
   },
   {
    "duration": 13,
    "start_time": "2025-01-27T17:07:01.021Z"
   },
   {
    "duration": 3,
    "start_time": "2025-01-27T17:07:01.037Z"
   },
   {
    "duration": 10,
    "start_time": "2025-01-27T17:07:01.042Z"
   },
   {
    "duration": 4,
    "start_time": "2025-01-27T17:07:01.054Z"
   },
   {
    "duration": 100,
    "start_time": "2025-01-27T17:07:01.087Z"
   },
   {
    "duration": 12,
    "start_time": "2025-01-27T17:07:01.189Z"
   },
   {
    "duration": 5,
    "start_time": "2025-01-27T17:07:01.202Z"
   },
   {
    "duration": 21,
    "start_time": "2025-01-27T17:07:01.209Z"
   },
   {
    "duration": 62,
    "start_time": "2025-01-27T17:07:01.231Z"
   },
   {
    "duration": 9,
    "start_time": "2025-01-27T17:07:01.294Z"
   },
   {
    "duration": 6,
    "start_time": "2025-01-27T17:07:01.305Z"
   },
   {
    "duration": 3,
    "start_time": "2025-01-27T17:07:01.313Z"
   },
   {
    "duration": 6,
    "start_time": "2025-01-27T17:07:01.318Z"
   },
   {
    "duration": 3,
    "start_time": "2025-01-27T17:07:01.326Z"
   },
   {
    "duration": 57,
    "start_time": "2025-01-27T17:07:01.331Z"
   },
   {
    "duration": 7,
    "start_time": "2025-01-27T17:07:01.389Z"
   },
   {
    "duration": 6,
    "start_time": "2025-01-27T17:07:01.397Z"
   },
   {
    "duration": 1145,
    "start_time": "2025-01-27T17:07:01.405Z"
   },
   {
    "duration": 801,
    "start_time": "2025-01-27T17:07:02.554Z"
   },
   {
    "duration": 737,
    "start_time": "2025-01-27T17:07:03.357Z"
   },
   {
    "duration": 6,
    "start_time": "2025-01-27T17:07:04.096Z"
   },
   {
    "duration": 24,
    "start_time": "2025-01-27T17:07:04.103Z"
   },
   {
    "duration": 17,
    "start_time": "2025-01-27T17:07:04.129Z"
   },
   {
    "duration": 11,
    "start_time": "2025-01-27T17:07:04.147Z"
   },
   {
    "duration": 31,
    "start_time": "2025-01-27T17:07:04.187Z"
   },
   {
    "duration": 16,
    "start_time": "2025-01-27T17:07:04.219Z"
   },
   {
    "duration": 17,
    "start_time": "2025-01-27T17:07:04.236Z"
   },
   {
    "duration": 191,
    "start_time": "2025-01-27T17:07:04.256Z"
   },
   {
    "duration": 162,
    "start_time": "2025-01-27T17:07:04.448Z"
   },
   {
    "duration": 153,
    "start_time": "2025-01-27T17:07:04.611Z"
   },
   {
    "duration": 140,
    "start_time": "2025-01-27T17:07:04.766Z"
   },
   {
    "duration": 139,
    "start_time": "2025-01-27T17:07:04.908Z"
   },
   {
    "duration": 184,
    "start_time": "2025-01-27T17:07:05.049Z"
   },
   {
    "duration": 135,
    "start_time": "2025-01-27T17:07:05.235Z"
   },
   {
    "duration": 380,
    "start_time": "2025-01-27T17:07:05.372Z"
   },
   {
    "duration": 159,
    "start_time": "2025-01-27T17:07:05.754Z"
   },
   {
    "duration": 174,
    "start_time": "2025-01-27T17:07:05.916Z"
   },
   {
    "duration": 410,
    "start_time": "2025-01-27T17:07:06.091Z"
   },
   {
    "duration": 45,
    "start_time": "2025-01-27T17:07:06.503Z"
   },
   {
    "duration": 157,
    "start_time": "2025-01-27T17:48:53.677Z"
   },
   {
    "duration": 2158,
    "start_time": "2025-01-27T17:49:01.329Z"
   },
   {
    "duration": 161,
    "start_time": "2025-01-27T17:49:03.489Z"
   },
   {
    "duration": 94,
    "start_time": "2025-01-27T17:49:03.652Z"
   },
   {
    "duration": 10,
    "start_time": "2025-01-27T17:49:03.749Z"
   },
   {
    "duration": 109,
    "start_time": "2025-01-27T17:49:03.761Z"
   },
   {
    "duration": 106,
    "start_time": "2025-01-27T17:49:03.872Z"
   },
   {
    "duration": 34,
    "start_time": "2025-01-27T17:49:03.980Z"
   },
   {
    "duration": 6,
    "start_time": "2025-01-27T17:49:04.016Z"
   },
   {
    "duration": 15,
    "start_time": "2025-01-27T17:49:04.024Z"
   },
   {
    "duration": 8,
    "start_time": "2025-01-27T17:49:04.043Z"
   },
   {
    "duration": 4,
    "start_time": "2025-01-27T17:49:04.052Z"
   },
   {
    "duration": 9,
    "start_time": "2025-01-27T17:49:04.058Z"
   },
   {
    "duration": 44,
    "start_time": "2025-01-27T17:49:04.068Z"
   },
   {
    "duration": 58,
    "start_time": "2025-01-27T17:49:04.114Z"
   },
   {
    "duration": 13,
    "start_time": "2025-01-27T17:49:04.174Z"
   },
   {
    "duration": 5,
    "start_time": "2025-01-27T17:49:04.188Z"
   },
   {
    "duration": 23,
    "start_time": "2025-01-27T17:49:04.195Z"
   },
   {
    "duration": 11,
    "start_time": "2025-01-27T17:49:04.219Z"
   },
   {
    "duration": 6,
    "start_time": "2025-01-27T17:49:04.231Z"
   },
   {
    "duration": 6,
    "start_time": "2025-01-27T17:49:04.239Z"
   },
   {
    "duration": 3,
    "start_time": "2025-01-27T17:49:04.246Z"
   },
   {
    "duration": 6,
    "start_time": "2025-01-27T17:49:04.251Z"
   },
   {
    "duration": 4,
    "start_time": "2025-01-27T17:49:04.259Z"
   },
   {
    "duration": 6,
    "start_time": "2025-01-27T17:49:04.264Z"
   },
   {
    "duration": 7,
    "start_time": "2025-01-27T17:49:04.311Z"
   },
   {
    "duration": 5,
    "start_time": "2025-01-27T17:49:04.320Z"
   },
   {
    "duration": 804,
    "start_time": "2025-01-27T17:49:04.326Z"
   },
   {
    "duration": 753,
    "start_time": "2025-01-27T17:49:05.134Z"
   },
   {
    "duration": 635,
    "start_time": "2025-01-27T17:49:05.889Z"
   },
   {
    "duration": 7,
    "start_time": "2025-01-27T17:49:06.525Z"
   },
   {
    "duration": 572,
    "start_time": "2025-01-27T17:49:06.534Z"
   },
   {
    "duration": 0,
    "start_time": "2025-01-27T17:49:07.111Z"
   },
   {
    "duration": 0,
    "start_time": "2025-01-27T17:49:07.113Z"
   },
   {
    "duration": 0,
    "start_time": "2025-01-27T17:49:07.114Z"
   },
   {
    "duration": 0,
    "start_time": "2025-01-27T17:49:07.115Z"
   },
   {
    "duration": 0,
    "start_time": "2025-01-27T17:49:07.116Z"
   },
   {
    "duration": 0,
    "start_time": "2025-01-27T17:49:07.117Z"
   },
   {
    "duration": 0,
    "start_time": "2025-01-27T17:49:07.118Z"
   },
   {
    "duration": 0,
    "start_time": "2025-01-27T17:49:07.120Z"
   },
   {
    "duration": 0,
    "start_time": "2025-01-27T17:49:07.121Z"
   },
   {
    "duration": 0,
    "start_time": "2025-01-27T17:49:07.122Z"
   },
   {
    "duration": 0,
    "start_time": "2025-01-27T17:49:07.123Z"
   },
   {
    "duration": 0,
    "start_time": "2025-01-27T17:49:07.124Z"
   },
   {
    "duration": 0,
    "start_time": "2025-01-27T17:49:07.124Z"
   },
   {
    "duration": 0,
    "start_time": "2025-01-27T17:49:07.126Z"
   },
   {
    "duration": 0,
    "start_time": "2025-01-27T17:49:07.126Z"
   },
   {
    "duration": 0,
    "start_time": "2025-01-27T17:49:07.127Z"
   },
   {
    "duration": 0,
    "start_time": "2025-01-27T17:49:07.128Z"
   },
   {
    "duration": 372,
    "start_time": "2025-01-27T17:54:53.841Z"
   },
   {
    "duration": 101,
    "start_time": "2025-01-27T17:55:17.701Z"
   },
   {
    "duration": 176,
    "start_time": "2025-01-27T17:55:36.014Z"
   },
   {
    "duration": 120,
    "start_time": "2025-01-27T17:56:02.828Z"
   },
   {
    "duration": 11,
    "start_time": "2025-01-27T17:59:00.698Z"
   },
   {
    "duration": 9,
    "start_time": "2025-01-27T17:59:09.622Z"
   },
   {
    "duration": 11,
    "start_time": "2025-01-27T17:59:19.308Z"
   },
   {
    "duration": 206,
    "start_time": "2025-01-27T17:59:25.685Z"
   },
   {
    "duration": 9,
    "start_time": "2025-01-27T17:59:49.569Z"
   },
   {
    "duration": 9,
    "start_time": "2025-01-27T18:00:01.053Z"
   },
   {
    "duration": 167,
    "start_time": "2025-01-27T18:00:11.317Z"
   },
   {
    "duration": 143,
    "start_time": "2025-01-27T18:02:54.955Z"
   },
   {
    "duration": 16,
    "start_time": "2025-01-27T18:04:17.955Z"
   },
   {
    "duration": 55,
    "start_time": "2025-01-27T18:04:24.677Z"
   },
   {
    "duration": 38,
    "start_time": "2025-01-27T18:04:55.403Z"
   },
   {
    "duration": 182,
    "start_time": "2025-01-27T18:05:16.803Z"
   },
   {
    "duration": 13,
    "start_time": "2025-01-27T19:04:44.831Z"
   },
   {
    "duration": 22,
    "start_time": "2025-01-27T19:05:14.862Z"
   },
   {
    "duration": 7,
    "start_time": "2025-01-27T19:05:27.359Z"
   },
   {
    "duration": 41,
    "start_time": "2025-01-27T19:06:01.424Z"
   },
   {
    "duration": 39,
    "start_time": "2025-01-27T19:06:24.776Z"
   },
   {
    "duration": 25,
    "start_time": "2025-01-27T19:06:35.061Z"
   },
   {
    "duration": 22,
    "start_time": "2025-01-27T19:06:39.829Z"
   },
   {
    "duration": 25,
    "start_time": "2025-01-27T19:06:53.510Z"
   },
   {
    "duration": 23,
    "start_time": "2025-01-27T19:07:01.171Z"
   },
   {
    "duration": 9,
    "start_time": "2025-01-27T19:07:43.288Z"
   },
   {
    "duration": 42,
    "start_time": "2025-01-27T19:08:00.798Z"
   },
   {
    "duration": 234,
    "start_time": "2025-01-27T19:08:08.424Z"
   },
   {
    "duration": 40,
    "start_time": "2025-01-27T19:08:33.910Z"
   },
   {
    "duration": 11,
    "start_time": "2025-01-27T19:08:39.583Z"
   },
   {
    "duration": 5,
    "start_time": "2025-01-27T19:11:26.690Z"
   },
   {
    "duration": 6,
    "start_time": "2025-01-27T19:13:00.524Z"
   },
   {
    "duration": 22,
    "start_time": "2025-01-27T19:13:47.593Z"
   },
   {
    "duration": 182,
    "start_time": "2025-01-27T19:14:38.040Z"
   },
   {
    "duration": 143,
    "start_time": "2025-01-27T19:15:38.541Z"
   },
   {
    "duration": 138,
    "start_time": "2025-01-27T19:16:10.153Z"
   },
   {
    "duration": 241,
    "start_time": "2025-01-27T19:20:13.040Z"
   },
   {
    "duration": 11,
    "start_time": "2025-01-27T19:25:25.091Z"
   },
   {
    "duration": 9,
    "start_time": "2025-01-27T19:25:41.210Z"
   },
   {
    "duration": 9,
    "start_time": "2025-01-27T19:25:48.903Z"
   },
   {
    "duration": 3,
    "start_time": "2025-01-27T19:27:58.422Z"
   },
   {
    "duration": 112,
    "start_time": "2025-01-27T19:27:58.630Z"
   },
   {
    "duration": 79,
    "start_time": "2025-01-27T19:27:59.138Z"
   },
   {
    "duration": 9,
    "start_time": "2025-01-27T19:27:59.439Z"
   },
   {
    "duration": 88,
    "start_time": "2025-01-27T19:27:59.751Z"
   },
   {
    "duration": 83,
    "start_time": "2025-01-27T19:28:00.110Z"
   },
   {
    "duration": 28,
    "start_time": "2025-01-27T19:28:00.460Z"
   },
   {
    "duration": 7,
    "start_time": "2025-01-27T19:28:00.796Z"
   },
   {
    "duration": 13,
    "start_time": "2025-01-27T19:28:01.434Z"
   },
   {
    "duration": 9,
    "start_time": "2025-01-27T19:28:02.432Z"
   },
   {
    "duration": 5,
    "start_time": "2025-01-27T19:28:02.924Z"
   },
   {
    "duration": 8,
    "start_time": "2025-01-27T19:28:03.605Z"
   },
   {
    "duration": 5,
    "start_time": "2025-01-27T19:28:04.123Z"
   },
   {
    "duration": 34,
    "start_time": "2025-01-27T19:28:04.837Z"
   },
   {
    "duration": 13,
    "start_time": "2025-01-27T19:28:05.588Z"
   },
   {
    "duration": 6,
    "start_time": "2025-01-27T19:28:05.839Z"
   },
   {
    "duration": 24,
    "start_time": "2025-01-27T19:28:06.111Z"
   },
   {
    "duration": 13,
    "start_time": "2025-01-27T19:28:06.634Z"
   },
   {
    "duration": 8,
    "start_time": "2025-01-27T19:28:07.028Z"
   },
   {
    "duration": 7,
    "start_time": "2025-01-27T19:28:08.108Z"
   },
   {
    "duration": 6,
    "start_time": "2025-01-27T19:28:09.516Z"
   },
   {
    "duration": 7,
    "start_time": "2025-01-27T19:28:09.862Z"
   },
   {
    "duration": 4,
    "start_time": "2025-01-27T19:28:10.537Z"
   },
   {
    "duration": 6,
    "start_time": "2025-01-27T19:28:10.905Z"
   },
   {
    "duration": 6,
    "start_time": "2025-01-27T19:28:11.108Z"
   },
   {
    "duration": 7,
    "start_time": "2025-01-27T19:28:12.549Z"
   },
   {
    "duration": 708,
    "start_time": "2025-01-27T19:28:14.082Z"
   },
   {
    "duration": 759,
    "start_time": "2025-01-27T19:28:14.792Z"
   },
   {
    "duration": 640,
    "start_time": "2025-01-27T19:28:15.553Z"
   },
   {
    "duration": 185,
    "start_time": "2025-01-27T19:28:59.208Z"
   },
   {
    "duration": 11,
    "start_time": "2025-01-27T19:29:02.003Z"
   },
   {
    "duration": 6,
    "start_time": "2025-01-27T19:29:06.871Z"
   },
   {
    "duration": 8,
    "start_time": "2025-01-27T19:29:11.644Z"
   },
   {
    "duration": 6,
    "start_time": "2025-01-27T19:29:29.975Z"
   },
   {
    "duration": 6,
    "start_time": "2025-01-27T19:29:41.163Z"
   },
   {
    "duration": 7,
    "start_time": "2025-01-27T19:30:50.645Z"
   },
   {
    "duration": 7,
    "start_time": "2025-01-27T19:31:09.279Z"
   },
   {
    "duration": 6,
    "start_time": "2025-01-27T19:31:12.054Z"
   },
   {
    "duration": 6,
    "start_time": "2025-01-27T19:31:13.624Z"
   },
   {
    "duration": 6,
    "start_time": "2025-01-27T19:31:37.493Z"
   },
   {
    "duration": 6,
    "start_time": "2025-01-27T19:32:22.586Z"
   },
   {
    "duration": 9,
    "start_time": "2025-01-27T19:32:32.063Z"
   },
   {
    "duration": 3,
    "start_time": "2025-01-27T19:32:48.043Z"
   },
   {
    "duration": 109,
    "start_time": "2025-01-27T19:32:48.208Z"
   },
   {
    "duration": 75,
    "start_time": "2025-01-27T19:32:48.533Z"
   },
   {
    "duration": 8,
    "start_time": "2025-01-27T19:32:48.710Z"
   },
   {
    "duration": 94,
    "start_time": "2025-01-27T19:32:48.895Z"
   },
   {
    "duration": 85,
    "start_time": "2025-01-27T19:32:49.082Z"
   },
   {
    "duration": 31,
    "start_time": "2025-01-27T19:32:49.566Z"
   },
   {
    "duration": 8,
    "start_time": "2025-01-27T19:32:50.131Z"
   },
   {
    "duration": 12,
    "start_time": "2025-01-27T19:32:51.020Z"
   },
   {
    "duration": 9,
    "start_time": "2025-01-27T19:32:52.251Z"
   },
   {
    "duration": 5,
    "start_time": "2025-01-27T19:32:53.260Z"
   },
   {
    "duration": 8,
    "start_time": "2025-01-27T19:32:54.190Z"
   },
   {
    "duration": 4,
    "start_time": "2025-01-27T19:32:55.538Z"
   },
   {
    "duration": 32,
    "start_time": "2025-01-27T19:32:56.305Z"
   },
   {
    "duration": 13,
    "start_time": "2025-01-27T19:32:57.403Z"
   },
   {
    "duration": 6,
    "start_time": "2025-01-27T19:32:57.980Z"
   },
   {
    "duration": 24,
    "start_time": "2025-01-27T19:32:58.812Z"
   },
   {
    "duration": 13,
    "start_time": "2025-01-27T19:33:00.377Z"
   },
   {
    "duration": 7,
    "start_time": "2025-01-27T19:33:01.167Z"
   },
   {
    "duration": 7,
    "start_time": "2025-01-27T19:33:02.532Z"
   },
   {
    "duration": 3,
    "start_time": "2025-01-27T19:33:05.745Z"
   },
   {
    "duration": 6,
    "start_time": "2025-01-27T19:33:06.175Z"
   },
   {
    "duration": 3,
    "start_time": "2025-01-27T19:33:06.910Z"
   },
   {
    "duration": 6,
    "start_time": "2025-01-27T19:33:07.313Z"
   },
   {
    "duration": 7,
    "start_time": "2025-01-27T19:33:07.675Z"
   },
   {
    "duration": 6,
    "start_time": "2025-01-27T19:33:09.093Z"
   },
   {
    "duration": 689,
    "start_time": "2025-01-27T19:33:10.712Z"
   },
   {
    "duration": 739,
    "start_time": "2025-01-27T19:33:11.528Z"
   },
   {
    "duration": 632,
    "start_time": "2025-01-27T19:33:12.270Z"
   },
   {
    "duration": 16,
    "start_time": "2025-01-27T19:33:13.321Z"
   },
   {
    "duration": 185,
    "start_time": "2025-01-27T19:33:14.239Z"
   },
   {
    "duration": 13,
    "start_time": "2025-01-27T19:33:17.029Z"
   },
   {
    "duration": 5,
    "start_time": "2025-01-27T19:33:29.868Z"
   },
   {
    "duration": 8,
    "start_time": "2025-01-27T19:33:36.981Z"
   },
   {
    "duration": 5,
    "start_time": "2025-01-27T19:34:12.376Z"
   },
   {
    "duration": 10,
    "start_time": "2025-01-27T19:34:42.097Z"
   },
   {
    "duration": 159,
    "start_time": "2025-01-28T02:50:04.528Z"
   },
   {
    "duration": 526,
    "start_time": "2025-01-28T02:50:07.222Z"
   },
   {
    "duration": 162,
    "start_time": "2025-01-28T02:50:07.750Z"
   },
   {
    "duration": 111,
    "start_time": "2025-01-28T02:50:07.913Z"
   },
   {
    "duration": 12,
    "start_time": "2025-01-28T02:50:08.032Z"
   },
   {
    "duration": 122,
    "start_time": "2025-01-28T02:50:08.046Z"
   },
   {
    "duration": 111,
    "start_time": "2025-01-28T02:50:08.171Z"
   },
   {
    "duration": 33,
    "start_time": "2025-01-28T02:50:08.283Z"
   },
   {
    "duration": 16,
    "start_time": "2025-01-28T02:50:08.318Z"
   },
   {
    "duration": 19,
    "start_time": "2025-01-28T02:50:08.336Z"
   },
   {
    "duration": 14,
    "start_time": "2025-01-28T02:50:08.359Z"
   },
   {
    "duration": 4,
    "start_time": "2025-01-28T02:50:08.375Z"
   },
   {
    "duration": 10,
    "start_time": "2025-01-28T02:50:08.381Z"
   },
   {
    "duration": 4,
    "start_time": "2025-01-28T02:50:08.392Z"
   },
   {
    "duration": 64,
    "start_time": "2025-01-28T02:50:08.398Z"
   },
   {
    "duration": 12,
    "start_time": "2025-01-28T02:50:08.463Z"
   },
   {
    "duration": 6,
    "start_time": "2025-01-28T02:50:08.477Z"
   },
   {
    "duration": 22,
    "start_time": "2025-01-28T02:50:08.484Z"
   },
   {
    "duration": 10,
    "start_time": "2025-01-28T02:50:08.531Z"
   },
   {
    "duration": 7,
    "start_time": "2025-01-28T02:50:08.543Z"
   },
   {
    "duration": 6,
    "start_time": "2025-01-28T02:50:08.551Z"
   },
   {
    "duration": 3,
    "start_time": "2025-01-28T02:50:08.558Z"
   },
   {
    "duration": 5,
    "start_time": "2025-01-28T02:50:08.563Z"
   },
   {
    "duration": 6,
    "start_time": "2025-01-28T02:50:08.570Z"
   },
   {
    "duration": 6,
    "start_time": "2025-01-28T02:50:08.577Z"
   },
   {
    "duration": 6,
    "start_time": "2025-01-28T02:50:08.585Z"
   },
   {
    "duration": 6,
    "start_time": "2025-01-28T02:50:08.631Z"
   },
   {
    "duration": 842,
    "start_time": "2025-01-28T02:50:08.639Z"
   },
   {
    "duration": 746,
    "start_time": "2025-01-28T02:50:09.485Z"
   },
   {
    "duration": 718,
    "start_time": "2025-01-28T02:50:10.233Z"
   },
   {
    "duration": 16,
    "start_time": "2025-01-28T02:50:10.953Z"
   },
   {
    "duration": 205,
    "start_time": "2025-01-28T02:50:10.971Z"
   },
   {
    "duration": 11,
    "start_time": "2025-01-28T02:50:11.178Z"
   },
   {
    "duration": 62,
    "start_time": "2025-01-28T02:50:11.191Z"
   },
   {
    "duration": 65,
    "start_time": "2025-01-28T02:50:18.445Z"
   },
   {
    "duration": 3,
    "start_time": "2025-01-28T02:54:25.214Z"
   },
   {
    "duration": 121,
    "start_time": "2025-01-28T02:54:25.218Z"
   },
   {
    "duration": 70,
    "start_time": "2025-01-28T02:54:25.341Z"
   },
   {
    "duration": 21,
    "start_time": "2025-01-28T02:54:25.413Z"
   },
   {
    "duration": 79,
    "start_time": "2025-01-28T02:54:25.436Z"
   },
   {
    "duration": 77,
    "start_time": "2025-01-28T02:54:25.531Z"
   },
   {
    "duration": 32,
    "start_time": "2025-01-28T02:54:25.610Z"
   },
   {
    "duration": 7,
    "start_time": "2025-01-28T02:54:25.643Z"
   },
   {
    "duration": 11,
    "start_time": "2025-01-28T02:54:25.652Z"
   },
   {
    "duration": 8,
    "start_time": "2025-01-28T02:54:25.665Z"
   },
   {
    "duration": 4,
    "start_time": "2025-01-28T02:54:25.676Z"
   },
   {
    "duration": 8,
    "start_time": "2025-01-28T02:54:25.682Z"
   },
   {
    "duration": 4,
    "start_time": "2025-01-28T02:54:25.692Z"
   },
   {
    "duration": 64,
    "start_time": "2025-01-28T02:54:25.697Z"
   },
   {
    "duration": 12,
    "start_time": "2025-01-28T02:54:25.763Z"
   },
   {
    "duration": 6,
    "start_time": "2025-01-28T02:54:25.777Z"
   },
   {
    "duration": 21,
    "start_time": "2025-01-28T02:54:25.784Z"
   },
   {
    "duration": 10,
    "start_time": "2025-01-28T02:54:25.832Z"
   },
   {
    "duration": 7,
    "start_time": "2025-01-28T02:54:25.843Z"
   },
   {
    "duration": 5,
    "start_time": "2025-01-28T02:54:25.852Z"
   },
   {
    "duration": 4,
    "start_time": "2025-01-28T02:54:25.859Z"
   },
   {
    "duration": 6,
    "start_time": "2025-01-28T02:54:25.864Z"
   },
   {
    "duration": 3,
    "start_time": "2025-01-28T02:54:25.871Z"
   },
   {
    "duration": 6,
    "start_time": "2025-01-28T02:54:25.875Z"
   },
   {
    "duration": 5,
    "start_time": "2025-01-28T02:54:25.882Z"
   },
   {
    "duration": 5,
    "start_time": "2025-01-28T02:54:25.932Z"
   },
   {
    "duration": 724,
    "start_time": "2025-01-28T02:54:25.939Z"
   },
   {
    "duration": 787,
    "start_time": "2025-01-28T02:54:26.666Z"
   },
   {
    "duration": 697,
    "start_time": "2025-01-28T02:54:27.458Z"
   },
   {
    "duration": 17,
    "start_time": "2025-01-28T02:54:28.157Z"
   },
   {
    "duration": 201,
    "start_time": "2025-01-28T02:54:28.176Z"
   },
   {
    "duration": 11,
    "start_time": "2025-01-28T02:54:28.380Z"
   },
   {
    "duration": 78,
    "start_time": "2025-01-28T02:54:28.393Z"
   },
   {
    "duration": 7,
    "start_time": "2025-01-28T02:54:28.473Z"
   },
   {
    "duration": 31,
    "start_time": "2025-01-28T02:54:28.481Z"
   },
   {
    "duration": 16,
    "start_time": "2025-01-28T02:54:28.531Z"
   },
   {
    "duration": 16,
    "start_time": "2025-01-28T02:54:28.548Z"
   },
   {
    "duration": 188,
    "start_time": "2025-01-28T02:54:28.566Z"
   },
   {
    "duration": 151,
    "start_time": "2025-01-28T02:54:28.756Z"
   },
   {
    "duration": 155,
    "start_time": "2025-01-28T02:54:28.909Z"
   },
   {
    "duration": 128,
    "start_time": "2025-01-28T02:54:29.066Z"
   },
   {
    "duration": 146,
    "start_time": "2025-01-28T02:54:29.196Z"
   },
   {
    "duration": 163,
    "start_time": "2025-01-28T02:54:29.344Z"
   },
   {
    "duration": 99,
    "start_time": "2025-01-28T02:54:29.509Z"
   },
   {
    "duration": 387,
    "start_time": "2025-01-28T02:54:29.609Z"
   },
   {
    "duration": 149,
    "start_time": "2025-01-28T02:54:29.998Z"
   },
   {
    "duration": 125,
    "start_time": "2025-01-28T02:54:30.148Z"
   },
   {
    "duration": 441,
    "start_time": "2025-01-28T02:54:30.274Z"
   },
   {
    "duration": 92,
    "start_time": "2025-01-28T02:54:30.717Z"
   },
   {
    "duration": 157,
    "start_time": "2025-01-28T04:37:45.357Z"
   },
   {
    "duration": 2119,
    "start_time": "2025-01-28T04:40:37.885Z"
   },
   {
    "duration": 154,
    "start_time": "2025-01-28T04:40:40.006Z"
   },
   {
    "duration": 102,
    "start_time": "2025-01-28T04:40:40.162Z"
   },
   {
    "duration": 10,
    "start_time": "2025-01-28T04:40:40.267Z"
   },
   {
    "duration": 119,
    "start_time": "2025-01-28T04:40:40.278Z"
   },
   {
    "duration": 108,
    "start_time": "2025-01-28T04:40:40.398Z"
   },
   {
    "duration": 38,
    "start_time": "2025-01-28T04:40:40.508Z"
   },
   {
    "duration": 7,
    "start_time": "2025-01-28T04:40:40.549Z"
   },
   {
    "duration": 15,
    "start_time": "2025-01-28T04:40:40.557Z"
   },
   {
    "duration": 11,
    "start_time": "2025-01-28T04:40:40.575Z"
   },
   {
    "duration": 4,
    "start_time": "2025-01-28T04:40:40.587Z"
   },
   {
    "duration": 9,
    "start_time": "2025-01-28T04:40:40.593Z"
   },
   {
    "duration": 29,
    "start_time": "2025-01-28T04:40:40.603Z"
   },
   {
    "duration": 55,
    "start_time": "2025-01-28T04:40:40.634Z"
   },
   {
    "duration": 12,
    "start_time": "2025-01-28T04:40:40.691Z"
   },
   {
    "duration": 5,
    "start_time": "2025-01-28T04:40:40.705Z"
   },
   {
    "duration": 26,
    "start_time": "2025-01-28T04:40:40.711Z"
   },
   {
    "duration": 10,
    "start_time": "2025-01-28T04:40:40.739Z"
   },
   {
    "duration": 7,
    "start_time": "2025-01-28T04:40:40.750Z"
   },
   {
    "duration": 6,
    "start_time": "2025-01-28T04:40:40.758Z"
   },
   {
    "duration": 4,
    "start_time": "2025-01-28T04:40:40.765Z"
   },
   {
    "duration": 6,
    "start_time": "2025-01-28T04:40:40.771Z"
   },
   {
    "duration": 4,
    "start_time": "2025-01-28T04:40:40.779Z"
   },
   {
    "duration": 6,
    "start_time": "2025-01-28T04:40:40.784Z"
   },
   {
    "duration": 47,
    "start_time": "2025-01-28T04:40:40.791Z"
   },
   {
    "duration": 6,
    "start_time": "2025-01-28T04:40:40.839Z"
   },
   {
    "duration": 803,
    "start_time": "2025-01-28T04:40:40.846Z"
   },
   {
    "duration": 764,
    "start_time": "2025-01-28T04:40:41.654Z"
   },
   {
    "duration": 637,
    "start_time": "2025-01-28T04:40:42.420Z"
   },
   {
    "duration": 16,
    "start_time": "2025-01-28T04:40:43.059Z"
   },
   {
    "duration": 197,
    "start_time": "2025-01-28T04:40:43.076Z"
   },
   {
    "duration": 11,
    "start_time": "2025-01-28T04:40:43.274Z"
   },
   {
    "duration": 83,
    "start_time": "2025-01-28T04:40:43.287Z"
   },
   {
    "duration": 9,
    "start_time": "2025-01-28T04:40:43.372Z"
   },
   {
    "duration": 48,
    "start_time": "2025-01-28T04:40:43.383Z"
   },
   {
    "duration": 17,
    "start_time": "2025-01-28T04:40:43.433Z"
   },
   {
    "duration": 17,
    "start_time": "2025-01-28T04:40:43.452Z"
   },
   {
    "duration": 186,
    "start_time": "2025-01-28T04:40:43.471Z"
   },
   {
    "duration": 181,
    "start_time": "2025-01-28T04:40:43.659Z"
   },
   {
    "duration": 153,
    "start_time": "2025-01-28T04:40:43.842Z"
   },
   {
    "duration": 135,
    "start_time": "2025-01-28T04:40:43.996Z"
   },
   {
    "duration": 127,
    "start_time": "2025-01-28T04:40:44.133Z"
   },
   {
    "duration": 160,
    "start_time": "2025-01-28T04:40:44.262Z"
   },
   {
    "duration": 116,
    "start_time": "2025-01-28T04:40:44.424Z"
   },
   {
    "duration": 379,
    "start_time": "2025-01-28T04:40:44.543Z"
   },
   {
    "duration": 153,
    "start_time": "2025-01-28T04:40:44.930Z"
   },
   {
    "duration": 122,
    "start_time": "2025-01-28T04:40:45.084Z"
   },
   {
    "duration": 417,
    "start_time": "2025-01-28T04:40:45.208Z"
   },
   {
    "duration": 38,
    "start_time": "2025-01-28T04:40:45.631Z"
   },
   {
    "duration": 3,
    "start_time": "2025-01-28T04:41:42.381Z"
   },
   {
    "duration": 127,
    "start_time": "2025-01-28T04:41:43.152Z"
   },
   {
    "duration": 5,
    "start_time": "2025-01-28T04:42:15.960Z"
   },
   {
    "duration": 7,
    "start_time": "2025-01-28T04:42:40.315Z"
   },
   {
    "duration": 7,
    "start_time": "2025-01-28T04:43:01.242Z"
   },
   {
    "duration": 33,
    "start_time": "2025-01-28T04:43:10.189Z"
   },
   {
    "duration": 17,
    "start_time": "2025-01-28T04:43:15.385Z"
   },
   {
    "duration": 19,
    "start_time": "2025-01-28T04:43:15.697Z"
   },
   {
    "duration": 153,
    "start_time": "2025-01-28T04:43:16.391Z"
   },
   {
    "duration": 149,
    "start_time": "2025-01-28T04:43:17.799Z"
   },
   {
    "duration": 147,
    "start_time": "2025-01-28T04:43:18.884Z"
   }
  ],
  "kernelspec": {
   "display_name": "Python 3 (ipykernel)",
   "language": "python",
   "name": "python3"
  },
  "language_info": {
   "codemirror_mode": {
    "name": "ipython",
    "version": 3
   },
   "file_extension": ".py",
   "mimetype": "text/x-python",
   "name": "python",
   "nbconvert_exporter": "python",
   "pygments_lexer": "ipython3",
   "version": "3.9.19"
  },
  "toc": {
   "base_numbering": 1,
   "nav_menu": {},
   "number_sections": true,
   "sideBar": true,
   "skip_h1_title": true,
   "title_cell": "Table of Contents",
   "title_sidebar": "Contents",
   "toc_cell": false,
   "toc_position": {
    "height": "calc(100% - 180px)",
    "left": "10px",
    "top": "150px",
    "width": "247px"
   },
   "toc_section_display": true,
   "toc_window_display": true
  },
  "vscode": {
   "interpreter": {
    "hash": "01a7be9ec63e704a62cefc5fe7a4756944464ee731be31632bdf42a4cb4688cf"
   }
  }
 },
 "nbformat": 4,
 "nbformat_minor": 5
}
